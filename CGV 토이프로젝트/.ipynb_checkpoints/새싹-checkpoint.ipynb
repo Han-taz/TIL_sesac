{
 "cells": [
  {
   "cell_type": "code",
   "execution_count": 35,
   "id": "698dec9d-20ef-4cdf-847a-e15383774495",
   "metadata": {},
   "outputs": [],
   "source": [
    "import requests\n",
    "from bs4 import BeautifulSoup\n",
    "from selenium import webdriver\n",
    "from selenium.webdriver.common.keys import Keys\n",
    "from selenium.webdriver.common.by import By\n",
    "from dotenv import load_dotenv\n",
    "from selenium.webdriver.chrome.service import Service\n",
    "from webdriver_manager.chrome import ChromeDriverManager\n",
    "from tqdm import tqdm\n",
    "import os"
   ]
  },
  {
   "cell_type": "code",
   "execution_count": 70,
   "id": "77c06674-f7b9-4927-a8ff-b3176bc1ebaf",
   "metadata": {},
   "outputs": [],
   "source": [
    "driver = webdriver.Chrome(service = Service(ChromeDriverManager().install()))"
   ]
  },
  {
   "cell_type": "code",
   "execution_count": 71,
   "id": "99e19662-dbe4-47cd-8a18-141b50bc2ca6",
   "metadata": {},
   "outputs": [],
   "source": [
    "driver.get('http://www.cgv.co.kr/movies/detail-view/?midx=86373')"
   ]
  },
  {
   "cell_type": "code",
   "execution_count": 72,
   "id": "936a7f4b-85b1-4925-a9e4-fee255a7fb07",
   "metadata": {},
   "outputs": [],
   "source": [
    "ele=driver.find_element(By.CSS_SELECTOR, '#cgvwrap > div.header > div.header_content > div > ul > li:nth-child(2) > a') \n",
    "ele.click()"
   ]
  },
  {
   "cell_type": "code",
   "execution_count": 21,
   "id": "ebe8e96e-e17b-421c-8a63-a54b9ca4c50c",
   "metadata": {},
   "outputs": [
    {
     "name": "stdout",
     "output_type": "stream",
     "text": [
      "None\n"
     ]
    }
   ],
   "source": [
    "load_dotenv()\n",
    "print(os.getenv('pw'))"
   ]
  },
  {
   "cell_type": "code",
   "execution_count": 73,
   "id": "b5ba1719-2f46-4e1c-b4ca-80fd8af62564",
   "metadata": {},
   "outputs": [],
   "source": [
    "ele2=driver.find_element(By.ID, 'txtUserId')\n",
    "ele2.send_keys('ftkevin12')\n",
    "ele3=driver.find_element(By.ID, 'txtPassword')\n",
    "ele3.send_keys('frisland1')\n",
    "ele3.send_keys(Keys.ENTER)\n",
    "ele4=driver.find_element(By.CSS_SELECTOR, '#ctl00_PlaceHolderContent_btn_pw_chag_later')\n",
    "ele4.click()"
   ]
  },
  {
   "cell_type": "code",
   "execution_count": 84,
   "id": "54428eba-f480-447e-a7dd-86bd867dbb18",
   "metadata": {
    "collapsed": true,
    "jupyter": {
     "outputs_hidden": true
    },
    "tags": []
   },
   "outputs": [
    {
     "ename": "UnexpectedAlertPresentException",
     "evalue": "Alert Text: 로그인이 필요한 서비스입니다.\n로그인 페이지로 이동하시겠습니까?\nMessage: unexpected alert open: {Alert text : 로그인이 필요한 서비스입니다.\n로그인 페이지로 이동하시겠습니까?}\n  (Session info: chrome=107.0.5304.122)\nStacktrace:\nBacktrace:\n\tOrdinal0 [0x00BEACD3+2075859]\n\tOrdinal0 [0x00B7EE61+1633889]\n\tOrdinal0 [0x00A7B7BD+571325]\n\tOrdinal0 [0x00ADB3B5+963509]\n\tOrdinal0 [0x00AC7136+880950]\n\tOrdinal0 [0x00A9FEFD+720637]\n\tOrdinal0 [0x00AA0F3F+724799]\n\tGetHandleVerifier [0x00E9EED2+2769538]\n\tGetHandleVerifier [0x00E90D95+2711877]\n\tGetHandleVerifier [0x00C7A03A+521194]\n\tGetHandleVerifier [0x00C78DA0+516432]\n\tOrdinal0 [0x00B8682C+1665068]\n\tOrdinal0 [0x00B8B128+1683752]\n\tOrdinal0 [0x00B8B215+1683989]\n\tOrdinal0 [0x00B96484+1729668]\n\tBaseThreadInitThunk [0x75CBFA29+25]\n\tRtlGetAppContainerNamedObjectPath [0x771D7A9E+286]\n\tRtlGetAppContainerNamedObjectPath [0x771D7A6E+238]\n",
     "output_type": "error",
     "traceback": [
      "\u001b[1;31m---------------------------------------------------------------------------\u001b[0m",
      "\u001b[1;31mUnexpectedAlertPresentException\u001b[0m           Traceback (most recent call last)",
      "\u001b[1;32m~\\AppData\\Local\\Temp\\ipykernel_7736\\1547196636.py\u001b[0m in \u001b[0;36m<module>\u001b[1;34m\u001b[0m\n\u001b[1;32m----> 1\u001b[1;33m \u001b[0mbutton1\u001b[0m\u001b[1;33m.\u001b[0m\u001b[0msend_keys\u001b[0m\u001b[1;33m(\u001b[0m\u001b[0mKeys\u001b[0m\u001b[1;33m.\u001b[0m\u001b[0mRETURN\u001b[0m\u001b[1;33m)\u001b[0m\u001b[1;33m\u001b[0m\u001b[1;33m\u001b[0m\u001b[0m\n\u001b[0m",
      "\u001b[1;32m~\\anaconda3\\lib\\site-packages\\selenium\\webdriver\\remote\\webelement.py\u001b[0m in \u001b[0;36msend_keys\u001b[1;34m(self, *value)\u001b[0m\n\u001b[0;32m    231\u001b[0m                 \u001b[0mvalue\u001b[0m \u001b[1;33m=\u001b[0m \u001b[1;34m\"\\n\"\u001b[0m\u001b[1;33m.\u001b[0m\u001b[0mjoin\u001b[0m\u001b[1;33m(\u001b[0m\u001b[0mremote_files\u001b[0m\u001b[1;33m)\u001b[0m\u001b[1;33m\u001b[0m\u001b[1;33m\u001b[0m\u001b[0m\n\u001b[0;32m    232\u001b[0m \u001b[1;33m\u001b[0m\u001b[0m\n\u001b[1;32m--> 233\u001b[1;33m         self._execute(\n\u001b[0m\u001b[0;32m    234\u001b[0m             \u001b[0mCommand\u001b[0m\u001b[1;33m.\u001b[0m\u001b[0mSEND_KEYS_TO_ELEMENT\u001b[0m\u001b[1;33m,\u001b[0m \u001b[1;33m{\u001b[0m\u001b[1;34m\"text\"\u001b[0m\u001b[1;33m:\u001b[0m \u001b[1;34m\"\"\u001b[0m\u001b[1;33m.\u001b[0m\u001b[0mjoin\u001b[0m\u001b[1;33m(\u001b[0m\u001b[0mkeys_to_typing\u001b[0m\u001b[1;33m(\u001b[0m\u001b[0mvalue\u001b[0m\u001b[1;33m)\u001b[0m\u001b[1;33m)\u001b[0m\u001b[1;33m,\u001b[0m \u001b[1;34m\"value\"\u001b[0m\u001b[1;33m:\u001b[0m \u001b[0mkeys_to_typing\u001b[0m\u001b[1;33m(\u001b[0m\u001b[0mvalue\u001b[0m\u001b[1;33m)\u001b[0m\u001b[1;33m}\u001b[0m\u001b[1;33m\u001b[0m\u001b[1;33m\u001b[0m\u001b[0m\n\u001b[0;32m    235\u001b[0m         )\n",
      "\u001b[1;32m~\\anaconda3\\lib\\site-packages\\selenium\\webdriver\\remote\\webelement.py\u001b[0m in \u001b[0;36m_execute\u001b[1;34m(self, command, params)\u001b[0m\n\u001b[0;32m    408\u001b[0m             \u001b[0mparams\u001b[0m \u001b[1;33m=\u001b[0m \u001b[1;33m{\u001b[0m\u001b[1;33m}\u001b[0m\u001b[1;33m\u001b[0m\u001b[1;33m\u001b[0m\u001b[0m\n\u001b[0;32m    409\u001b[0m         \u001b[0mparams\u001b[0m\u001b[1;33m[\u001b[0m\u001b[1;34m\"id\"\u001b[0m\u001b[1;33m]\u001b[0m \u001b[1;33m=\u001b[0m \u001b[0mself\u001b[0m\u001b[1;33m.\u001b[0m\u001b[0m_id\u001b[0m\u001b[1;33m\u001b[0m\u001b[1;33m\u001b[0m\u001b[0m\n\u001b[1;32m--> 410\u001b[1;33m         \u001b[1;32mreturn\u001b[0m \u001b[0mself\u001b[0m\u001b[1;33m.\u001b[0m\u001b[0m_parent\u001b[0m\u001b[1;33m.\u001b[0m\u001b[0mexecute\u001b[0m\u001b[1;33m(\u001b[0m\u001b[0mcommand\u001b[0m\u001b[1;33m,\u001b[0m \u001b[0mparams\u001b[0m\u001b[1;33m)\u001b[0m\u001b[1;33m\u001b[0m\u001b[1;33m\u001b[0m\u001b[0m\n\u001b[0m\u001b[0;32m    411\u001b[0m \u001b[1;33m\u001b[0m\u001b[0m\n\u001b[0;32m    412\u001b[0m     \u001b[1;32mdef\u001b[0m \u001b[0mfind_element\u001b[0m\u001b[1;33m(\u001b[0m\u001b[0mself\u001b[0m\u001b[1;33m,\u001b[0m \u001b[0mby\u001b[0m\u001b[1;33m=\u001b[0m\u001b[0mBy\u001b[0m\u001b[1;33m.\u001b[0m\u001b[0mID\u001b[0m\u001b[1;33m,\u001b[0m \u001b[0mvalue\u001b[0m\u001b[1;33m=\u001b[0m\u001b[1;32mNone\u001b[0m\u001b[1;33m)\u001b[0m \u001b[1;33m->\u001b[0m \u001b[0mWebElement\u001b[0m\u001b[1;33m:\u001b[0m\u001b[1;33m\u001b[0m\u001b[1;33m\u001b[0m\u001b[0m\n",
      "\u001b[1;32m~\\anaconda3\\lib\\site-packages\\selenium\\webdriver\\remote\\webdriver.py\u001b[0m in \u001b[0;36mexecute\u001b[1;34m(self, driver_command, params)\u001b[0m\n\u001b[0;32m    442\u001b[0m         \u001b[0mresponse\u001b[0m \u001b[1;33m=\u001b[0m \u001b[0mself\u001b[0m\u001b[1;33m.\u001b[0m\u001b[0mcommand_executor\u001b[0m\u001b[1;33m.\u001b[0m\u001b[0mexecute\u001b[0m\u001b[1;33m(\u001b[0m\u001b[0mdriver_command\u001b[0m\u001b[1;33m,\u001b[0m \u001b[0mparams\u001b[0m\u001b[1;33m)\u001b[0m\u001b[1;33m\u001b[0m\u001b[1;33m\u001b[0m\u001b[0m\n\u001b[0;32m    443\u001b[0m         \u001b[1;32mif\u001b[0m \u001b[0mresponse\u001b[0m\u001b[1;33m:\u001b[0m\u001b[1;33m\u001b[0m\u001b[1;33m\u001b[0m\u001b[0m\n\u001b[1;32m--> 444\u001b[1;33m             \u001b[0mself\u001b[0m\u001b[1;33m.\u001b[0m\u001b[0merror_handler\u001b[0m\u001b[1;33m.\u001b[0m\u001b[0mcheck_response\u001b[0m\u001b[1;33m(\u001b[0m\u001b[0mresponse\u001b[0m\u001b[1;33m)\u001b[0m\u001b[1;33m\u001b[0m\u001b[1;33m\u001b[0m\u001b[0m\n\u001b[0m\u001b[0;32m    445\u001b[0m             \u001b[0mresponse\u001b[0m\u001b[1;33m[\u001b[0m\u001b[1;34m\"value\"\u001b[0m\u001b[1;33m]\u001b[0m \u001b[1;33m=\u001b[0m \u001b[0mself\u001b[0m\u001b[1;33m.\u001b[0m\u001b[0m_unwrap_value\u001b[0m\u001b[1;33m(\u001b[0m\u001b[0mresponse\u001b[0m\u001b[1;33m.\u001b[0m\u001b[0mget\u001b[0m\u001b[1;33m(\u001b[0m\u001b[1;34m\"value\"\u001b[0m\u001b[1;33m,\u001b[0m \u001b[1;32mNone\u001b[0m\u001b[1;33m)\u001b[0m\u001b[1;33m)\u001b[0m\u001b[1;33m\u001b[0m\u001b[1;33m\u001b[0m\u001b[0m\n\u001b[0;32m    446\u001b[0m             \u001b[1;32mreturn\u001b[0m \u001b[0mresponse\u001b[0m\u001b[1;33m\u001b[0m\u001b[1;33m\u001b[0m\u001b[0m\n",
      "\u001b[1;32m~\\anaconda3\\lib\\site-packages\\selenium\\webdriver\\remote\\errorhandler.py\u001b[0m in \u001b[0;36mcheck_response\u001b[1;34m(self, response)\u001b[0m\n\u001b[0;32m    246\u001b[0m             \u001b[1;32melif\u001b[0m \u001b[1;34m\"alert\"\u001b[0m \u001b[1;32min\u001b[0m \u001b[0mvalue\u001b[0m\u001b[1;33m:\u001b[0m\u001b[1;33m\u001b[0m\u001b[1;33m\u001b[0m\u001b[0m\n\u001b[0;32m    247\u001b[0m                 \u001b[0malert_text\u001b[0m \u001b[1;33m=\u001b[0m \u001b[0mvalue\u001b[0m\u001b[1;33m[\u001b[0m\u001b[1;34m\"alert\"\u001b[0m\u001b[1;33m]\u001b[0m\u001b[1;33m.\u001b[0m\u001b[0mget\u001b[0m\u001b[1;33m(\u001b[0m\u001b[1;34m\"text\"\u001b[0m\u001b[1;33m)\u001b[0m\u001b[1;33m\u001b[0m\u001b[1;33m\u001b[0m\u001b[0m\n\u001b[1;32m--> 248\u001b[1;33m             \u001b[1;32mraise\u001b[0m \u001b[0mexception_class\u001b[0m\u001b[1;33m(\u001b[0m\u001b[0mmessage\u001b[0m\u001b[1;33m,\u001b[0m \u001b[0mscreen\u001b[0m\u001b[1;33m,\u001b[0m \u001b[0mstacktrace\u001b[0m\u001b[1;33m,\u001b[0m \u001b[0malert_text\u001b[0m\u001b[1;33m)\u001b[0m  \u001b[1;31m# type: ignore[call-arg]  # mypy is not smart enough here\u001b[0m\u001b[1;33m\u001b[0m\u001b[1;33m\u001b[0m\u001b[0m\n\u001b[0m\u001b[0;32m    249\u001b[0m         \u001b[1;32mraise\u001b[0m \u001b[0mexception_class\u001b[0m\u001b[1;33m(\u001b[0m\u001b[0mmessage\u001b[0m\u001b[1;33m,\u001b[0m \u001b[0mscreen\u001b[0m\u001b[1;33m,\u001b[0m \u001b[0mstacktrace\u001b[0m\u001b[1;33m)\u001b[0m\u001b[1;33m\u001b[0m\u001b[1;33m\u001b[0m\u001b[0m\n",
      "\u001b[1;31mUnexpectedAlertPresentException\u001b[0m: Alert Text: 로그인이 필요한 서비스입니다.\n로그인 페이지로 이동하시겠습니까?\nMessage: unexpected alert open: {Alert text : 로그인이 필요한 서비스입니다.\n로그인 페이지로 이동하시겠습니까?}\n  (Session info: chrome=107.0.5304.122)\nStacktrace:\nBacktrace:\n\tOrdinal0 [0x00BEACD3+2075859]\n\tOrdinal0 [0x00B7EE61+1633889]\n\tOrdinal0 [0x00A7B7BD+571325]\n\tOrdinal0 [0x00ADB3B5+963509]\n\tOrdinal0 [0x00AC7136+880950]\n\tOrdinal0 [0x00A9FEFD+720637]\n\tOrdinal0 [0x00AA0F3F+724799]\n\tGetHandleVerifier [0x00E9EED2+2769538]\n\tGetHandleVerifier [0x00E90D95+2711877]\n\tGetHandleVerifier [0x00C7A03A+521194]\n\tGetHandleVerifier [0x00C78DA0+516432]\n\tOrdinal0 [0x00B8682C+1665068]\n\tOrdinal0 [0x00B8B128+1683752]\n\tOrdinal0 [0x00B8B215+1683989]\n\tOrdinal0 [0x00B96484+1729668]\n\tBaseThreadInitThunk [0x75CBFA29+25]\n\tRtlGetAppContainerNamedObjectPath [0x771D7A9E+286]\n\tRtlGetAppContainerNamedObjectPath [0x771D7A6E+238]\n"
     ]
    }
   ],
   "source": [
    "button1.send_keys(Keys.RETURN)"
   ]
  },
  {
   "cell_type": "code",
   "execution_count": 74,
   "id": "4fc1dbbb-e051-4438-86b1-c446b1b0f246",
   "metadata": {
    "tags": []
   },
   "outputs": [],
   "source": [
    "movie=driver.find_element(By.CSS_SELECTOR,'#select_main > div.sect-base-movie > div.box-contents > span.like > a.link-reservation')\n",
    "movie.click()"
   ]
  },
  {
   "cell_type": "code",
   "execution_count": null,
   "id": "b59a6e2f-e1dc-45d2-bd45-9053679ccbbc",
   "metadata": {},
   "outputs": [],
   "source": [
    "#theater_area_list > ul > li.selected > div > ul > li > a"
   ]
  },
  {
   "cell_type": "code",
   "execution_count": 75,
   "id": "bb8ba2c7-4e2c-463a-9d09-b684d1cbe84d",
   "metadata": {
    "tags": []
   },
   "outputs": [],
   "source": [
    "button1 = driver.find_element(By.CSS_SELECTOR, 'div > div > ul > li > a')\n",
    "button1.click()"
   ]
  },
  {
   "cell_type": "code",
   "execution_count": 68,
   "id": "a706ed54-df3c-4d10-bdb6-593cd6204ebd",
   "metadata": {
    "tags": []
   },
   "outputs": [],
   "source": [
    "button = driver.find_element(By.CSS_SELECTOR,'div > ul > li > a')\n",
    "\n",
    "button.click()"
   ]
  },
  {
   "cell_type": "code",
   "execution_count": null,
   "id": "28e369ec-c935-4821-ac57-9a9bbd120324",
   "metadata": {},
   "outputs": [],
   "source": [
    "sunday12_4=driver.find_element(By.CSS_SELECTOR,'#date_list > ul > div > li:nth-child(7)')\n",
    "sunday12_4.click()"
   ]
  }
 ],
 "metadata": {
  "kernelspec": {
   "display_name": "Python 3 (ipykernel)",
   "language": "python",
   "name": "python3"
  },
  "language_info": {
   "codemirror_mode": {
    "name": "ipython",
    "version": 3
   },
   "file_extension": ".py",
   "mimetype": "text/x-python",
   "name": "python",
   "nbconvert_exporter": "python",
   "pygments_lexer": "ipython3",
   "version": "3.9.13"
  }
 },
 "nbformat": 4,
 "nbformat_minor": 5
}
