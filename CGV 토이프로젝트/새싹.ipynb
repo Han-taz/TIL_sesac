{
 "cells": [
  {
   "cell_type": "code",
   "execution_count": 1,
   "id": "698dec9d-20ef-4cdf-847a-e15383774495",
   "metadata": {},
   "outputs": [],
   "source": [
    "import time\n",
    "import requests\n",
    "from bs4 import BeautifulSoup\n",
    "from selenium import webdriver\n",
    "from webdriver_manager.chrome import ChromeDriverManager\n",
    "from selenium.webdriver.chrome.service import Service\n",
    "from selenium.webdriver.common.keys import Keys\n",
    "from selenium.webdriver.common.by import By\n",
    "from dotenv import load_dotenv\n",
    "import os"
   ]
  },
  {
   "cell_type": "code",
   "execution_count": 2,
   "id": "77c06674-f7b9-4927-a8ff-b3176bc1ebaf",
   "metadata": {},
   "outputs": [],
   "source": [
    "driver = webdriver.Chrome(service = Service(ChromeDriverManager().install()))"
   ]
  },
  {
   "cell_type": "code",
   "execution_count": 3,
   "id": "99e19662-dbe4-47cd-8a18-141b50bc2ca6",
   "metadata": {},
   "outputs": [],
   "source": [
    "driver.get('http://www.cgv.co.kr/movies/detail-view/?midx=86373')"
   ]
  },
  {
   "cell_type": "code",
   "execution_count": 4,
   "id": "936a7f4b-85b1-4925-a9e4-fee255a7fb07",
   "metadata": {},
   "outputs": [],
   "source": [
    "ele=driver.find_element(By.CSS_SELECTOR, '#cgvwrap > div.header > div.header_content > div > ul > li:nth-child(2) > a') \n",
    "ele.click()"
   ]
  },
  {
   "cell_type": "code",
   "execution_count": 5,
   "id": "ebe8e96e-e17b-421c-8a63-a54b9ca4c50c",
   "metadata": {},
   "outputs": [
    {
     "name": "stdout",
     "output_type": "stream",
     "text": [
      "None\n"
     ]
    }
   ],
   "source": [
    "load_dotenv()\n",
    "print(os.getenv('pw'))"
   ]
  },
  {
   "cell_type": "code",
   "execution_count": 6,
   "id": "b5ba1719-2f46-4e1c-b4ca-80fd8af62564",
   "metadata": {},
   "outputs": [],
   "source": [
    "ele2=driver.find_element(By.ID, 'txtUserId')\n",
    "ele2.send_keys('아이디')\n",
    "ele3=driver.find_element(By.ID, 'txtPassword')\n",
    "ele3.send_keys('비밀번호')\n",
    "ele3.send_keys(Keys.ENTER)\n",
    "ele4=driver.find_element(By.CSS_SELECTOR, '#ctl00_PlaceHolderContent_btn_pw_chag_later')\n",
    "ele4.click()"
   ]
  },
  {
   "cell_type": "code",
   "execution_count": null,
   "id": "4fc1dbbb-e051-4438-86b1-c446b1b0f246",
   "metadata": {
    "tags": []
   },
   "outputs": [],
   "source": [
    "movie=driver.find_element(By.CSS_SELECTOR,'#select_main > div.sect-base-movie > div.box-contents > span.like > a.link-reservation')\n",
    "movie.click()"
   ]
  },
  {
   "cell_type": "code",
   "execution_count": null,
   "id": "b59a6e2f-e1dc-45d2-bd45-9053679ccbbc",
   "metadata": {},
   "outputs": [],
   "source": [
    "#theater_area_list > ul > li.selected > div > ul > li > a"
   ]
  },
  {
   "cell_type": "code",
   "execution_count": null,
   "id": "bb8ba2c7-4e2c-463a-9d09-b684d1cbe84d",
   "metadata": {
    "tags": []
   },
   "outputs": [],
   "source": [
    "button1 = driver.find_element(By.CSS_SELECTOR, 'div > div > ul > li > a')\n",
    "button1.click()"
   ]
  },
  {
   "cell_type": "code",
   "execution_count": null,
   "id": "a706ed54-df3c-4d10-bdb6-593cd6204ebd",
   "metadata": {
    "tags": []
   },
   "outputs": [],
   "source": [
    "button = driver.find_element(By.CSS_SELECTOR,'div > ul > li > a')\n",
    "\n",
    "button.click()"
   ]
  },
  {
   "cell_type": "code",
   "execution_count": null,
   "id": "28e369ec-c935-4821-ac57-9a9bbd120324",
   "metadata": {},
   "outputs": [],
   "source": [
    "sunday12_4=driver.find_element(By.CSS_SELECTOR,'#date_list > ul > div > li:nth-child(7)')\n",
    "sunday12_4.click()"
   ]
  },
  {
   "cell_type": "code",
   "execution_count": null,
   "id": "02acf53f-8c20-4da2-9a19-eb9f6961eeb1",
   "metadata": {},
   "outputs": [],
   "source": []
  }
 ],
 "metadata": {
  "kernelspec": {
   "display_name": "Python 3 (ipykernel)",
   "language": "python",
   "name": "python3"
  },
  "language_info": {
   "codemirror_mode": {
    "name": "ipython",
    "version": 3
   },
   "file_extension": ".py",
   "mimetype": "text/x-python",
   "name": "python",
   "nbconvert_exporter": "python",
   "pygments_lexer": "ipython3",
   "version": "3.9.13"
  }
 },
 "nbformat": 4,
 "nbformat_minor": 5
}
