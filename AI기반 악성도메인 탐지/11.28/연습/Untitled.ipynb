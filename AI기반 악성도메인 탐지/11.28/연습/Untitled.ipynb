{
 "cells": [
  {
   "cell_type": "code",
   "execution_count": 1,
   "id": "255ef589-05b5-43cb-bebf-99b0f2cfdf6d",
   "metadata": {},
   "outputs": [],
   "source": [
    "import pandas as pd\n",
    "import numpy as np\n",
    "from tld import get_tld\n",
    "import seaborn as sns\n",
    "import matplotlib.pyplot as plt"
   ]
  },
  {
   "cell_type": "code",
   "execution_count": 2,
   "id": "182f6215-7426-4c76-90f9-d12f84580f5d",
   "metadata": {},
   "outputs": [],
   "source": [
    "df=pd.read_csv('DGA_예선_학습데이터.csv')"
   ]
  },
  {
   "cell_type": "code",
   "execution_count": 3,
   "id": "19839cb2-8018-406c-b017-1cdd53055efe",
   "metadata": {},
   "outputs": [],
   "source": [
    "for i in range(20):\n",
    "    globals()['temp_{}'.format(i)]=i"
   ]
  },
  {
   "cell_type": "code",
   "execution_count": 4,
   "id": "5738a22a-722b-4ecd-b515-8894d8d37940",
   "metadata": {},
   "outputs": [],
   "source": [
    "for i in range(20):\n",
    "    globals()['test_{}'.format(i)]=i+2"
   ]
  },
  {
   "cell_type": "code",
   "execution_count": 5,
   "id": "c2921f3b-0a61-48aa-b032-5f675c5304f1",
   "metadata": {},
   "outputs": [
    {
     "data": {
      "text/plain": [
       "3"
      ]
     },
     "execution_count": 5,
     "metadata": {},
     "output_type": "execute_result"
    }
   ],
   "source": [
    "test_1"
   ]
  },
  {
   "cell_type": "markdown",
   "id": "b94785eb-cb5b-4f06-ab4a-51c7be872b29",
   "metadata": {},
   "source": [
    "# class별로 데이터프레임 만들기"
   ]
  },
  {
   "cell_type": "code",
   "execution_count": 6,
   "id": "8057c44c-658c-4926-a026-d8bc246bd658",
   "metadata": {},
   "outputs": [],
   "source": [
    "for i  in range(20):\n",
    "    globals()['df_{}'.format(i)]=df[df['class']==i]"
   ]
  },
  {
   "cell_type": "code",
   "execution_count": 7,
   "id": "4002a8d4-48b7-4601-bf27-3179cf236b99",
   "metadata": {},
   "outputs": [
    {
     "data": {
      "text/html": [
       "<div>\n",
       "<style scoped>\n",
       "    .dataframe tbody tr th:only-of-type {\n",
       "        vertical-align: middle;\n",
       "    }\n",
       "\n",
       "    .dataframe tbody tr th {\n",
       "        vertical-align: top;\n",
       "    }\n",
       "\n",
       "    .dataframe thead th {\n",
       "        text-align: right;\n",
       "    }\n",
       "</style>\n",
       "<table border=\"1\" class=\"dataframe\">\n",
       "  <thead>\n",
       "    <tr style=\"text-align: right;\">\n",
       "      <th></th>\n",
       "      <th>domain</th>\n",
       "      <th>dga</th>\n",
       "      <th>class</th>\n",
       "    </tr>\n",
       "  </thead>\n",
       "  <tbody>\n",
       "    <tr>\n",
       "      <th>257</th>\n",
       "      <td>b6427368140624515a0ee4c29d27b789.info</td>\n",
       "      <td>yes</td>\n",
       "      <td>1</td>\n",
       "    </tr>\n",
       "    <tr>\n",
       "      <th>800</th>\n",
       "      <td>6e3772dd01644a88e16b0dbe2a6c0d36.org</td>\n",
       "      <td>yes</td>\n",
       "      <td>1</td>\n",
       "    </tr>\n",
       "    <tr>\n",
       "      <th>1731</th>\n",
       "      <td>1c7fadd66c9fbb16cd1dcd38d743f263.org</td>\n",
       "      <td>yes</td>\n",
       "      <td>1</td>\n",
       "    </tr>\n",
       "    <tr>\n",
       "      <th>4462</th>\n",
       "      <td>773683efbacb0bb70b75322c7e4662b9.info</td>\n",
       "      <td>yes</td>\n",
       "      <td>1</td>\n",
       "    </tr>\n",
       "    <tr>\n",
       "      <th>5435</th>\n",
       "      <td>4a51234e6e87c3c793592df62508a7d4.info</td>\n",
       "      <td>yes</td>\n",
       "      <td>1</td>\n",
       "    </tr>\n",
       "    <tr>\n",
       "      <th>...</th>\n",
       "      <td>...</td>\n",
       "      <td>...</td>\n",
       "      <td>...</td>\n",
       "    </tr>\n",
       "    <tr>\n",
       "      <th>1589137</th>\n",
       "      <td>7a7e47b55b0162d673231eb87881b07a.org</td>\n",
       "      <td>yes</td>\n",
       "      <td>1</td>\n",
       "    </tr>\n",
       "    <tr>\n",
       "      <th>1590363</th>\n",
       "      <td>7f200216723deebc7c91b324fc0962ad.org</td>\n",
       "      <td>yes</td>\n",
       "      <td>1</td>\n",
       "    </tr>\n",
       "    <tr>\n",
       "      <th>1594675</th>\n",
       "      <td>ed6cd7bcc51974b2a76909b46c3c8696.org</td>\n",
       "      <td>yes</td>\n",
       "      <td>1</td>\n",
       "    </tr>\n",
       "    <tr>\n",
       "      <th>1596475</th>\n",
       "      <td>d86e4bd4f58b94de0cbf326ac4be7087.org</td>\n",
       "      <td>yes</td>\n",
       "      <td>1</td>\n",
       "    </tr>\n",
       "    <tr>\n",
       "      <th>1598316</th>\n",
       "      <td>6a97671109629d33769d9e6a07193dd2.org</td>\n",
       "      <td>yes</td>\n",
       "      <td>1</td>\n",
       "    </tr>\n",
       "  </tbody>\n",
       "</table>\n",
       "<p>754 rows × 3 columns</p>\n",
       "</div>"
      ],
      "text/plain": [
       "                                        domain  dga  class\n",
       "257      b6427368140624515a0ee4c29d27b789.info  yes      1\n",
       "800       6e3772dd01644a88e16b0dbe2a6c0d36.org  yes      1\n",
       "1731      1c7fadd66c9fbb16cd1dcd38d743f263.org  yes      1\n",
       "4462     773683efbacb0bb70b75322c7e4662b9.info  yes      1\n",
       "5435     4a51234e6e87c3c793592df62508a7d4.info  yes      1\n",
       "...                                        ...  ...    ...\n",
       "1589137   7a7e47b55b0162d673231eb87881b07a.org  yes      1\n",
       "1590363   7f200216723deebc7c91b324fc0962ad.org  yes      1\n",
       "1594675   ed6cd7bcc51974b2a76909b46c3c8696.org  yes      1\n",
       "1596475   d86e4bd4f58b94de0cbf326ac4be7087.org  yes      1\n",
       "1598316   6a97671109629d33769d9e6a07193dd2.org  yes      1\n",
       "\n",
       "[754 rows x 3 columns]"
      ]
     },
     "execution_count": 7,
     "metadata": {},
     "output_type": "execute_result"
    }
   ],
   "source": [
    "df_1"
   ]
  },
  {
   "cell_type": "code",
   "execution_count": 8,
   "id": "6a8c61e2-692e-4136-ac1e-ae65cf273452",
   "metadata": {},
   "outputs": [],
   "source": [
    "url='b6427368140624515a0ee4c29d27b789.info'"
   ]
  },
  {
   "cell_type": "code",
   "execution_count": 9,
   "id": "b77d5b84-6fc5-4b39-9514-46f7f306c014",
   "metadata": {},
   "outputs": [
    {
     "data": {
      "text/plain": [
       "info"
      ]
     },
     "execution_count": 9,
     "metadata": {},
     "output_type": "execute_result"
    }
   ],
   "source": [
    "top_domain=get_tld('http://'+ url, as_object = True)\n",
    "top_domain"
   ]
  },
  {
   "cell_type": "code",
   "execution_count": 10,
   "id": "45f8385c-af56-4097-86a8-fbbdba9b6d59",
   "metadata": {},
   "outputs": [],
   "source": [
    "def top_domain(domain):\n",
    "    top=get_tld('http://'+ domain, as_object = True)\n",
    "    return top"
   ]
  },
  {
   "cell_type": "code",
   "execution_count": 11,
   "id": "442dd0e3-7d3c-4281-b8eb-1264cdbae03c",
   "metadata": {},
   "outputs": [
    {
     "data": {
      "text/html": [
       "<div>\n",
       "<style scoped>\n",
       "    .dataframe tbody tr th:only-of-type {\n",
       "        vertical-align: middle;\n",
       "    }\n",
       "\n",
       "    .dataframe tbody tr th {\n",
       "        vertical-align: top;\n",
       "    }\n",
       "\n",
       "    .dataframe thead th {\n",
       "        text-align: right;\n",
       "    }\n",
       "</style>\n",
       "<table border=\"1\" class=\"dataframe\">\n",
       "  <thead>\n",
       "    <tr style=\"text-align: right;\">\n",
       "      <th></th>\n",
       "      <th>domain</th>\n",
       "      <th>dga</th>\n",
       "      <th>class</th>\n",
       "    </tr>\n",
       "  </thead>\n",
       "  <tbody>\n",
       "    <tr>\n",
       "      <th>257</th>\n",
       "      <td>b6427368140624515a0ee4c29d27b789.info</td>\n",
       "      <td>yes</td>\n",
       "      <td>1</td>\n",
       "    </tr>\n",
       "    <tr>\n",
       "      <th>800</th>\n",
       "      <td>6e3772dd01644a88e16b0dbe2a6c0d36.org</td>\n",
       "      <td>yes</td>\n",
       "      <td>1</td>\n",
       "    </tr>\n",
       "    <tr>\n",
       "      <th>1731</th>\n",
       "      <td>1c7fadd66c9fbb16cd1dcd38d743f263.org</td>\n",
       "      <td>yes</td>\n",
       "      <td>1</td>\n",
       "    </tr>\n",
       "    <tr>\n",
       "      <th>4462</th>\n",
       "      <td>773683efbacb0bb70b75322c7e4662b9.info</td>\n",
       "      <td>yes</td>\n",
       "      <td>1</td>\n",
       "    </tr>\n",
       "    <tr>\n",
       "      <th>5435</th>\n",
       "      <td>4a51234e6e87c3c793592df62508a7d4.info</td>\n",
       "      <td>yes</td>\n",
       "      <td>1</td>\n",
       "    </tr>\n",
       "    <tr>\n",
       "      <th>...</th>\n",
       "      <td>...</td>\n",
       "      <td>...</td>\n",
       "      <td>...</td>\n",
       "    </tr>\n",
       "    <tr>\n",
       "      <th>1589137</th>\n",
       "      <td>7a7e47b55b0162d673231eb87881b07a.org</td>\n",
       "      <td>yes</td>\n",
       "      <td>1</td>\n",
       "    </tr>\n",
       "    <tr>\n",
       "      <th>1590363</th>\n",
       "      <td>7f200216723deebc7c91b324fc0962ad.org</td>\n",
       "      <td>yes</td>\n",
       "      <td>1</td>\n",
       "    </tr>\n",
       "    <tr>\n",
       "      <th>1594675</th>\n",
       "      <td>ed6cd7bcc51974b2a76909b46c3c8696.org</td>\n",
       "      <td>yes</td>\n",
       "      <td>1</td>\n",
       "    </tr>\n",
       "    <tr>\n",
       "      <th>1596475</th>\n",
       "      <td>d86e4bd4f58b94de0cbf326ac4be7087.org</td>\n",
       "      <td>yes</td>\n",
       "      <td>1</td>\n",
       "    </tr>\n",
       "    <tr>\n",
       "      <th>1598316</th>\n",
       "      <td>6a97671109629d33769d9e6a07193dd2.org</td>\n",
       "      <td>yes</td>\n",
       "      <td>1</td>\n",
       "    </tr>\n",
       "  </tbody>\n",
       "</table>\n",
       "<p>754 rows × 3 columns</p>\n",
       "</div>"
      ],
      "text/plain": [
       "                                        domain  dga  class\n",
       "257      b6427368140624515a0ee4c29d27b789.info  yes      1\n",
       "800       6e3772dd01644a88e16b0dbe2a6c0d36.org  yes      1\n",
       "1731      1c7fadd66c9fbb16cd1dcd38d743f263.org  yes      1\n",
       "4462     773683efbacb0bb70b75322c7e4662b9.info  yes      1\n",
       "5435     4a51234e6e87c3c793592df62508a7d4.info  yes      1\n",
       "...                                        ...  ...    ...\n",
       "1589137   7a7e47b55b0162d673231eb87881b07a.org  yes      1\n",
       "1590363   7f200216723deebc7c91b324fc0962ad.org  yes      1\n",
       "1594675   ed6cd7bcc51974b2a76909b46c3c8696.org  yes      1\n",
       "1596475   d86e4bd4f58b94de0cbf326ac4be7087.org  yes      1\n",
       "1598316   6a97671109629d33769d9e6a07193dd2.org  yes      1\n",
       "\n",
       "[754 rows x 3 columns]"
      ]
     },
     "execution_count": 11,
     "metadata": {},
     "output_type": "execute_result"
    }
   ],
   "source": [
    "df_1"
   ]
  },
  {
   "cell_type": "code",
   "execution_count": 12,
   "id": "0603516f-fdec-456e-ad96-8cb8b2f06985",
   "metadata": {},
   "outputs": [],
   "source": [
    "top_list=[]\n",
    "for index, value in df_1.iterrows():\n",
    "    #print(index)\n",
    "    #print('-'*30)\n",
    "   #print(value[0])\n",
    "    domain=value[0]\n",
    "    top=top_domain(domain)# 위에서 만든 함수 사용\n",
    "    top_list.append(top)\n",
    "df_1.insert(1,'top_domain',top_list,allow_duplicates=True)"
   ]
  },
  {
   "cell_type": "code",
   "execution_count": 13,
   "id": "548cf81d-d490-4139-8e23-5d7e9852ffaf",
   "metadata": {
    "tags": []
   },
   "outputs": [
    {
     "data": {
      "text/plain": [
       "[info,\n",
       " org,\n",
       " org,\n",
       " info,\n",
       " info,\n",
       " info,\n",
       " org,\n",
       " org,\n",
       " info,\n",
       " org,\n",
       " info,\n",
       " org,\n",
       " org,\n",
       " org,\n",
       " info,\n",
       " org,\n",
       " info,\n",
       " info,\n",
       " org,\n",
       " info,\n",
       " org,\n",
       " org,\n",
       " org,\n",
       " org,\n",
       " org,\n",
       " org,\n",
       " org,\n",
       " org,\n",
       " info,\n",
       " info,\n",
       " info,\n",
       " info,\n",
       " info,\n",
       " info,\n",
       " org,\n",
       " info,\n",
       " org,\n",
       " org,\n",
       " info,\n",
       " info,\n",
       " org,\n",
       " info,\n",
       " info,\n",
       " info,\n",
       " org,\n",
       " org,\n",
       " org,\n",
       " org,\n",
       " org,\n",
       " info,\n",
       " org,\n",
       " org,\n",
       " info,\n",
       " info,\n",
       " info,\n",
       " info,\n",
       " info,\n",
       " org,\n",
       " info,\n",
       " org,\n",
       " org,\n",
       " info,\n",
       " info,\n",
       " info,\n",
       " info,\n",
       " org,\n",
       " org,\n",
       " info,\n",
       " info,\n",
       " org,\n",
       " info,\n",
       " info,\n",
       " info,\n",
       " org,\n",
       " info,\n",
       " info,\n",
       " org,\n",
       " info,\n",
       " org,\n",
       " info,\n",
       " info,\n",
       " org,\n",
       " info,\n",
       " info,\n",
       " info,\n",
       " org,\n",
       " info,\n",
       " org,\n",
       " info,\n",
       " org,\n",
       " info,\n",
       " org,\n",
       " org,\n",
       " org,\n",
       " org,\n",
       " info,\n",
       " org,\n",
       " info,\n",
       " info,\n",
       " org,\n",
       " org,\n",
       " info,\n",
       " info,\n",
       " org,\n",
       " info,\n",
       " org,\n",
       " org,\n",
       " info,\n",
       " info,\n",
       " info,\n",
       " info,\n",
       " info,\n",
       " org,\n",
       " org,\n",
       " org,\n",
       " org,\n",
       " org,\n",
       " org,\n",
       " info,\n",
       " org,\n",
       " org,\n",
       " info,\n",
       " org,\n",
       " org,\n",
       " org,\n",
       " info,\n",
       " org,\n",
       " org,\n",
       " org,\n",
       " info,\n",
       " info,\n",
       " info,\n",
       " info,\n",
       " info,\n",
       " info,\n",
       " info,\n",
       " org,\n",
       " org,\n",
       " org,\n",
       " info,\n",
       " info,\n",
       " info,\n",
       " info,\n",
       " info,\n",
       " info,\n",
       " info,\n",
       " info,\n",
       " info,\n",
       " org,\n",
       " org,\n",
       " info,\n",
       " info,\n",
       " org,\n",
       " info,\n",
       " info,\n",
       " info,\n",
       " info,\n",
       " info,\n",
       " org,\n",
       " info,\n",
       " info,\n",
       " org,\n",
       " info,\n",
       " org,\n",
       " org,\n",
       " org,\n",
       " org,\n",
       " org,\n",
       " org,\n",
       " info,\n",
       " org,\n",
       " info,\n",
       " info,\n",
       " org,\n",
       " info,\n",
       " org,\n",
       " info,\n",
       " info,\n",
       " org,\n",
       " org,\n",
       " info,\n",
       " info,\n",
       " info,\n",
       " info,\n",
       " org,\n",
       " org,\n",
       " org,\n",
       " info,\n",
       " info,\n",
       " org,\n",
       " org,\n",
       " org,\n",
       " org,\n",
       " info,\n",
       " info,\n",
       " info,\n",
       " info,\n",
       " org,\n",
       " org,\n",
       " info,\n",
       " info,\n",
       " org,\n",
       " info,\n",
       " org,\n",
       " info,\n",
       " info,\n",
       " org,\n",
       " org,\n",
       " org,\n",
       " org,\n",
       " org,\n",
       " info,\n",
       " info,\n",
       " info,\n",
       " org,\n",
       " info,\n",
       " org,\n",
       " org,\n",
       " org,\n",
       " info,\n",
       " info,\n",
       " org,\n",
       " info,\n",
       " org,\n",
       " org,\n",
       " info,\n",
       " info,\n",
       " info,\n",
       " info,\n",
       " info,\n",
       " org,\n",
       " info,\n",
       " org,\n",
       " org,\n",
       " info,\n",
       " info,\n",
       " info,\n",
       " info,\n",
       " org,\n",
       " info,\n",
       " org,\n",
       " org,\n",
       " org,\n",
       " org,\n",
       " org,\n",
       " info,\n",
       " org,\n",
       " info,\n",
       " info,\n",
       " org,\n",
       " org,\n",
       " org,\n",
       " info,\n",
       " org,\n",
       " info,\n",
       " info,\n",
       " org,\n",
       " info,\n",
       " info,\n",
       " info,\n",
       " org,\n",
       " info,\n",
       " org,\n",
       " org,\n",
       " org,\n",
       " org,\n",
       " info,\n",
       " org,\n",
       " info,\n",
       " info,\n",
       " info,\n",
       " org,\n",
       " org,\n",
       " info,\n",
       " info,\n",
       " org,\n",
       " org,\n",
       " org,\n",
       " info,\n",
       " info,\n",
       " info,\n",
       " org,\n",
       " org,\n",
       " info,\n",
       " info,\n",
       " org,\n",
       " org,\n",
       " info,\n",
       " org,\n",
       " org,\n",
       " org,\n",
       " org,\n",
       " org,\n",
       " org,\n",
       " info,\n",
       " org,\n",
       " org,\n",
       " org,\n",
       " info,\n",
       " info,\n",
       " info,\n",
       " info,\n",
       " info,\n",
       " org,\n",
       " org,\n",
       " info,\n",
       " info,\n",
       " info,\n",
       " info,\n",
       " info,\n",
       " org,\n",
       " info,\n",
       " org,\n",
       " info,\n",
       " info,\n",
       " org,\n",
       " org,\n",
       " org,\n",
       " org,\n",
       " info,\n",
       " org,\n",
       " info,\n",
       " info,\n",
       " org,\n",
       " org,\n",
       " info,\n",
       " org,\n",
       " org,\n",
       " org,\n",
       " info,\n",
       " info,\n",
       " org,\n",
       " info,\n",
       " org,\n",
       " info,\n",
       " info,\n",
       " info,\n",
       " info,\n",
       " org,\n",
       " info,\n",
       " org,\n",
       " org,\n",
       " org,\n",
       " info,\n",
       " org,\n",
       " org,\n",
       " info,\n",
       " info,\n",
       " info,\n",
       " info,\n",
       " org,\n",
       " info,\n",
       " info,\n",
       " info,\n",
       " org,\n",
       " info,\n",
       " info,\n",
       " info,\n",
       " info,\n",
       " org,\n",
       " org,\n",
       " org,\n",
       " org,\n",
       " info,\n",
       " info,\n",
       " info,\n",
       " info,\n",
       " info,\n",
       " info,\n",
       " info,\n",
       " org,\n",
       " org,\n",
       " info,\n",
       " org,\n",
       " org,\n",
       " org,\n",
       " info,\n",
       " info,\n",
       " info,\n",
       " info,\n",
       " info,\n",
       " org,\n",
       " org,\n",
       " org,\n",
       " info,\n",
       " info,\n",
       " org,\n",
       " info,\n",
       " info,\n",
       " org,\n",
       " info,\n",
       " org,\n",
       " org,\n",
       " info,\n",
       " org,\n",
       " info,\n",
       " info,\n",
       " info,\n",
       " info,\n",
       " org,\n",
       " info,\n",
       " org,\n",
       " info,\n",
       " info,\n",
       " info,\n",
       " info,\n",
       " info,\n",
       " org,\n",
       " org,\n",
       " info,\n",
       " info,\n",
       " org,\n",
       " info,\n",
       " info,\n",
       " org,\n",
       " info,\n",
       " org,\n",
       " info,\n",
       " org,\n",
       " org,\n",
       " org,\n",
       " org,\n",
       " info,\n",
       " org,\n",
       " info,\n",
       " org,\n",
       " org,\n",
       " info,\n",
       " info,\n",
       " org,\n",
       " org,\n",
       " info,\n",
       " info,\n",
       " info,\n",
       " org,\n",
       " org,\n",
       " org,\n",
       " info,\n",
       " info,\n",
       " info,\n",
       " info,\n",
       " org,\n",
       " org,\n",
       " info,\n",
       " org,\n",
       " org,\n",
       " org,\n",
       " info,\n",
       " info,\n",
       " info,\n",
       " info,\n",
       " info,\n",
       " info,\n",
       " info,\n",
       " org,\n",
       " info,\n",
       " org,\n",
       " info,\n",
       " org,\n",
       " info,\n",
       " org,\n",
       " info,\n",
       " org,\n",
       " info,\n",
       " org,\n",
       " info,\n",
       " org,\n",
       " info,\n",
       " info,\n",
       " org,\n",
       " org,\n",
       " info,\n",
       " info,\n",
       " org,\n",
       " info,\n",
       " org,\n",
       " info,\n",
       " org,\n",
       " org,\n",
       " org,\n",
       " info,\n",
       " info,\n",
       " info,\n",
       " info,\n",
       " info,\n",
       " org,\n",
       " info,\n",
       " org,\n",
       " info,\n",
       " info,\n",
       " info,\n",
       " org,\n",
       " info,\n",
       " org,\n",
       " org,\n",
       " info,\n",
       " info,\n",
       " info,\n",
       " org,\n",
       " org,\n",
       " org,\n",
       " info,\n",
       " org,\n",
       " info,\n",
       " info,\n",
       " org,\n",
       " org,\n",
       " org,\n",
       " org,\n",
       " info,\n",
       " org,\n",
       " org,\n",
       " info,\n",
       " info,\n",
       " org,\n",
       " org,\n",
       " org,\n",
       " org,\n",
       " info,\n",
       " org,\n",
       " org,\n",
       " info,\n",
       " info,\n",
       " info,\n",
       " org,\n",
       " info,\n",
       " info,\n",
       " info,\n",
       " info,\n",
       " info,\n",
       " org,\n",
       " info,\n",
       " org,\n",
       " org,\n",
       " org,\n",
       " org,\n",
       " org,\n",
       " org,\n",
       " info,\n",
       " org,\n",
       " org,\n",
       " org,\n",
       " org,\n",
       " info,\n",
       " info,\n",
       " info,\n",
       " info,\n",
       " org,\n",
       " info,\n",
       " info,\n",
       " info,\n",
       " info,\n",
       " org,\n",
       " org,\n",
       " info,\n",
       " info,\n",
       " info,\n",
       " info,\n",
       " org,\n",
       " info,\n",
       " info,\n",
       " org,\n",
       " org,\n",
       " info,\n",
       " info,\n",
       " org,\n",
       " org,\n",
       " info,\n",
       " org,\n",
       " info,\n",
       " org,\n",
       " info,\n",
       " org,\n",
       " org,\n",
       " info,\n",
       " org,\n",
       " info,\n",
       " info,\n",
       " org,\n",
       " org,\n",
       " org,\n",
       " org,\n",
       " info,\n",
       " org,\n",
       " org,\n",
       " org,\n",
       " info,\n",
       " org,\n",
       " info,\n",
       " info,\n",
       " info,\n",
       " org,\n",
       " org,\n",
       " org,\n",
       " org,\n",
       " org,\n",
       " org,\n",
       " info,\n",
       " org,\n",
       " info,\n",
       " info,\n",
       " org,\n",
       " org,\n",
       " org,\n",
       " org,\n",
       " org,\n",
       " org,\n",
       " info,\n",
       " org,\n",
       " org,\n",
       " info,\n",
       " org,\n",
       " info,\n",
       " info,\n",
       " org,\n",
       " info,\n",
       " org,\n",
       " org,\n",
       " info,\n",
       " info,\n",
       " org,\n",
       " org,\n",
       " info,\n",
       " org,\n",
       " info,\n",
       " org,\n",
       " org,\n",
       " org,\n",
       " info,\n",
       " info,\n",
       " org,\n",
       " org,\n",
       " org,\n",
       " org,\n",
       " info,\n",
       " org,\n",
       " org,\n",
       " org,\n",
       " info,\n",
       " info,\n",
       " info,\n",
       " info,\n",
       " org,\n",
       " org,\n",
       " info,\n",
       " info,\n",
       " info,\n",
       " org,\n",
       " org,\n",
       " org,\n",
       " info,\n",
       " org,\n",
       " info,\n",
       " info,\n",
       " org,\n",
       " info,\n",
       " org,\n",
       " info,\n",
       " org,\n",
       " info,\n",
       " org,\n",
       " info,\n",
       " org,\n",
       " org,\n",
       " info,\n",
       " org,\n",
       " org,\n",
       " org,\n",
       " org,\n",
       " org,\n",
       " org,\n",
       " info,\n",
       " org,\n",
       " org,\n",
       " org,\n",
       " org,\n",
       " info,\n",
       " info,\n",
       " org,\n",
       " org,\n",
       " info,\n",
       " org,\n",
       " info,\n",
       " info,\n",
       " info,\n",
       " info,\n",
       " org,\n",
       " org,\n",
       " info,\n",
       " org,\n",
       " org,\n",
       " info,\n",
       " info,\n",
       " info,\n",
       " org,\n",
       " org,\n",
       " org,\n",
       " org,\n",
       " info,\n",
       " org,\n",
       " org,\n",
       " org,\n",
       " info,\n",
       " info,\n",
       " info,\n",
       " info,\n",
       " info,\n",
       " org,\n",
       " org,\n",
       " info,\n",
       " org,\n",
       " org,\n",
       " org,\n",
       " org,\n",
       " org,\n",
       " org,\n",
       " org,\n",
       " info,\n",
       " org,\n",
       " org,\n",
       " org,\n",
       " info,\n",
       " org,\n",
       " info,\n",
       " org,\n",
       " org,\n",
       " info,\n",
       " info,\n",
       " org,\n",
       " org,\n",
       " org,\n",
       " info,\n",
       " info,\n",
       " info,\n",
       " info,\n",
       " info,\n",
       " org,\n",
       " info,\n",
       " org,\n",
       " org,\n",
       " org,\n",
       " org,\n",
       " info,\n",
       " org,\n",
       " org,\n",
       " info,\n",
       " info,\n",
       " org,\n",
       " org,\n",
       " org,\n",
       " org,\n",
       " org,\n",
       " org,\n",
       " org]"
      ]
     },
     "execution_count": 13,
     "metadata": {},
     "output_type": "execute_result"
    }
   ],
   "source": [
    "top_list"
   ]
  },
  {
   "cell_type": "code",
   "execution_count": 14,
   "id": "3998003d-8e59-41c5-9994-060c06432ede",
   "metadata": {
    "tags": []
   },
   "outputs": [
    {
     "data": {
      "text/html": [
       "<div>\n",
       "<style scoped>\n",
       "    .dataframe tbody tr th:only-of-type {\n",
       "        vertical-align: middle;\n",
       "    }\n",
       "\n",
       "    .dataframe tbody tr th {\n",
       "        vertical-align: top;\n",
       "    }\n",
       "\n",
       "    .dataframe thead th {\n",
       "        text-align: right;\n",
       "    }\n",
       "</style>\n",
       "<table border=\"1\" class=\"dataframe\">\n",
       "  <thead>\n",
       "    <tr style=\"text-align: right;\">\n",
       "      <th></th>\n",
       "      <th>domain</th>\n",
       "      <th>top_domain</th>\n",
       "      <th>dga</th>\n",
       "      <th>class</th>\n",
       "    </tr>\n",
       "  </thead>\n",
       "  <tbody>\n",
       "    <tr>\n",
       "      <th>257</th>\n",
       "      <td>b6427368140624515a0ee4c29d27b789.info</td>\n",
       "      <td>info</td>\n",
       "      <td>yes</td>\n",
       "      <td>1</td>\n",
       "    </tr>\n",
       "    <tr>\n",
       "      <th>800</th>\n",
       "      <td>6e3772dd01644a88e16b0dbe2a6c0d36.org</td>\n",
       "      <td>org</td>\n",
       "      <td>yes</td>\n",
       "      <td>1</td>\n",
       "    </tr>\n",
       "    <tr>\n",
       "      <th>1731</th>\n",
       "      <td>1c7fadd66c9fbb16cd1dcd38d743f263.org</td>\n",
       "      <td>org</td>\n",
       "      <td>yes</td>\n",
       "      <td>1</td>\n",
       "    </tr>\n",
       "    <tr>\n",
       "      <th>4462</th>\n",
       "      <td>773683efbacb0bb70b75322c7e4662b9.info</td>\n",
       "      <td>info</td>\n",
       "      <td>yes</td>\n",
       "      <td>1</td>\n",
       "    </tr>\n",
       "    <tr>\n",
       "      <th>5435</th>\n",
       "      <td>4a51234e6e87c3c793592df62508a7d4.info</td>\n",
       "      <td>info</td>\n",
       "      <td>yes</td>\n",
       "      <td>1</td>\n",
       "    </tr>\n",
       "    <tr>\n",
       "      <th>...</th>\n",
       "      <td>...</td>\n",
       "      <td>...</td>\n",
       "      <td>...</td>\n",
       "      <td>...</td>\n",
       "    </tr>\n",
       "    <tr>\n",
       "      <th>1589137</th>\n",
       "      <td>7a7e47b55b0162d673231eb87881b07a.org</td>\n",
       "      <td>org</td>\n",
       "      <td>yes</td>\n",
       "      <td>1</td>\n",
       "    </tr>\n",
       "    <tr>\n",
       "      <th>1590363</th>\n",
       "      <td>7f200216723deebc7c91b324fc0962ad.org</td>\n",
       "      <td>org</td>\n",
       "      <td>yes</td>\n",
       "      <td>1</td>\n",
       "    </tr>\n",
       "    <tr>\n",
       "      <th>1594675</th>\n",
       "      <td>ed6cd7bcc51974b2a76909b46c3c8696.org</td>\n",
       "      <td>org</td>\n",
       "      <td>yes</td>\n",
       "      <td>1</td>\n",
       "    </tr>\n",
       "    <tr>\n",
       "      <th>1596475</th>\n",
       "      <td>d86e4bd4f58b94de0cbf326ac4be7087.org</td>\n",
       "      <td>org</td>\n",
       "      <td>yes</td>\n",
       "      <td>1</td>\n",
       "    </tr>\n",
       "    <tr>\n",
       "      <th>1598316</th>\n",
       "      <td>6a97671109629d33769d9e6a07193dd2.org</td>\n",
       "      <td>org</td>\n",
       "      <td>yes</td>\n",
       "      <td>1</td>\n",
       "    </tr>\n",
       "  </tbody>\n",
       "</table>\n",
       "<p>754 rows × 4 columns</p>\n",
       "</div>"
      ],
      "text/plain": [
       "                                        domain top_domain  dga  class\n",
       "257      b6427368140624515a0ee4c29d27b789.info       info  yes      1\n",
       "800       6e3772dd01644a88e16b0dbe2a6c0d36.org        org  yes      1\n",
       "1731      1c7fadd66c9fbb16cd1dcd38d743f263.org        org  yes      1\n",
       "4462     773683efbacb0bb70b75322c7e4662b9.info       info  yes      1\n",
       "5435     4a51234e6e87c3c793592df62508a7d4.info       info  yes      1\n",
       "...                                        ...        ...  ...    ...\n",
       "1589137   7a7e47b55b0162d673231eb87881b07a.org        org  yes      1\n",
       "1590363   7f200216723deebc7c91b324fc0962ad.org        org  yes      1\n",
       "1594675   ed6cd7bcc51974b2a76909b46c3c8696.org        org  yes      1\n",
       "1596475   d86e4bd4f58b94de0cbf326ac4be7087.org        org  yes      1\n",
       "1598316   6a97671109629d33769d9e6a07193dd2.org        org  yes      1\n",
       "\n",
       "[754 rows x 4 columns]"
      ]
     },
     "execution_count": 14,
     "metadata": {},
     "output_type": "execute_result"
    }
   ],
   "source": [
    "df_1"
   ]
  },
  {
   "cell_type": "code",
   "execution_count": 15,
   "id": "38f1b369-ab24-485d-9727-a9ade2ed1e0c",
   "metadata": {},
   "outputs": [],
   "source": [
    "def add_dataframe(dataframe,function,col_name):\n",
    "    temp_list=[]\n",
    "    for index, value in dataframe.iterrows():\n",
    "        domain=value[0]\n",
    "        temp=function(domain)\n",
    "        temp_list.append(temp)\n",
    "    dataframe.insert(1,col_name,temp_list,allow_duplicates=True)    "
   ]
  },
  {
   "cell_type": "code",
   "execution_count": 16,
   "id": "483dd840-1d2e-4790-8f0d-a7b4f4f89928",
   "metadata": {},
   "outputs": [],
   "source": [
    "add_dataframe(df,top_domain,'top_domain')"
   ]
  },
  {
   "cell_type": "code",
   "execution_count": 17,
   "id": "858dade6-a95a-4459-96b7-fa5237fc0c35",
   "metadata": {
    "tags": []
   },
   "outputs": [
    {
     "data": {
      "text/html": [
       "<div>\n",
       "<style scoped>\n",
       "    .dataframe tbody tr th:only-of-type {\n",
       "        vertical-align: middle;\n",
       "    }\n",
       "\n",
       "    .dataframe tbody tr th {\n",
       "        vertical-align: top;\n",
       "    }\n",
       "\n",
       "    .dataframe thead th {\n",
       "        text-align: right;\n",
       "    }\n",
       "</style>\n",
       "<table border=\"1\" class=\"dataframe\">\n",
       "  <thead>\n",
       "    <tr style=\"text-align: right;\">\n",
       "      <th></th>\n",
       "      <th>domain</th>\n",
       "      <th>top_domain</th>\n",
       "      <th>dga</th>\n",
       "      <th>class</th>\n",
       "    </tr>\n",
       "  </thead>\n",
       "  <tbody>\n",
       "    <tr>\n",
       "      <th>0</th>\n",
       "      <td>vsviqe.com</td>\n",
       "      <td>com</td>\n",
       "      <td>yes</td>\n",
       "      <td>19</td>\n",
       "    </tr>\n",
       "    <tr>\n",
       "      <th>1</th>\n",
       "      <td>170qknj1onn4c37qf1w71rzei1h.org</td>\n",
       "      <td>org</td>\n",
       "      <td>yes</td>\n",
       "      <td>6</td>\n",
       "    </tr>\n",
       "    <tr>\n",
       "      <th>2</th>\n",
       "      <td>smartidpro.in</td>\n",
       "      <td>in</td>\n",
       "      <td>no</td>\n",
       "      <td>0</td>\n",
       "    </tr>\n",
       "    <tr>\n",
       "      <th>3</th>\n",
       "      <td>9mtrkmet8rjnpya4.ru</td>\n",
       "      <td>ru</td>\n",
       "      <td>yes</td>\n",
       "      <td>2</td>\n",
       "    </tr>\n",
       "    <tr>\n",
       "      <th>4</th>\n",
       "      <td>ypyxhi.com</td>\n",
       "      <td>com</td>\n",
       "      <td>yes</td>\n",
       "      <td>19</td>\n",
       "    </tr>\n",
       "    <tr>\n",
       "      <th>...</th>\n",
       "      <td>...</td>\n",
       "      <td>...</td>\n",
       "      <td>...</td>\n",
       "      <td>...</td>\n",
       "    </tr>\n",
       "    <tr>\n",
       "      <th>1599995</th>\n",
       "      <td>10zpd8p1ktb8bg1al07c3rfkuqw.net</td>\n",
       "      <td>net</td>\n",
       "      <td>yes</td>\n",
       "      <td>6</td>\n",
       "    </tr>\n",
       "    <tr>\n",
       "      <th>1599996</th>\n",
       "      <td>acheemprego.com</td>\n",
       "      <td>com</td>\n",
       "      <td>no</td>\n",
       "      <td>0</td>\n",
       "    </tr>\n",
       "    <tr>\n",
       "      <th>1599997</th>\n",
       "      <td>dtvvqs.com</td>\n",
       "      <td>com</td>\n",
       "      <td>yes</td>\n",
       "      <td>19</td>\n",
       "    </tr>\n",
       "    <tr>\n",
       "      <th>1599998</th>\n",
       "      <td>qurtpwncfwhjke.pw</td>\n",
       "      <td>pw</td>\n",
       "      <td>yes</td>\n",
       "      <td>7</td>\n",
       "    </tr>\n",
       "    <tr>\n",
       "      <th>1599999</th>\n",
       "      <td>p148e12d7c430db3c04635de27e343c625.ws</td>\n",
       "      <td>ws</td>\n",
       "      <td>yes</td>\n",
       "      <td>5</td>\n",
       "    </tr>\n",
       "  </tbody>\n",
       "</table>\n",
       "<p>1600000 rows × 4 columns</p>\n",
       "</div>"
      ],
      "text/plain": [
       "                                        domain top_domain  dga  class\n",
       "0                                   vsviqe.com        com  yes     19\n",
       "1              170qknj1onn4c37qf1w71rzei1h.org        org  yes      6\n",
       "2                                smartidpro.in         in   no      0\n",
       "3                          9mtrkmet8rjnpya4.ru         ru  yes      2\n",
       "4                                   ypyxhi.com        com  yes     19\n",
       "...                                        ...        ...  ...    ...\n",
       "1599995        10zpd8p1ktb8bg1al07c3rfkuqw.net        net  yes      6\n",
       "1599996                        acheemprego.com        com   no      0\n",
       "1599997                             dtvvqs.com        com  yes     19\n",
       "1599998                      qurtpwncfwhjke.pw         pw  yes      7\n",
       "1599999  p148e12d7c430db3c04635de27e343c625.ws         ws  yes      5\n",
       "\n",
       "[1600000 rows x 4 columns]"
      ]
     },
     "execution_count": 17,
     "metadata": {},
     "output_type": "execute_result"
    }
   ],
   "source": [
    "df"
   ]
  },
  {
   "cell_type": "code",
   "execution_count": 18,
   "id": "e551a431-5b38-4770-b0a5-3f327feb5831",
   "metadata": {},
   "outputs": [],
   "source": [
    "df_1_domain = 'b6427368140624515a0ee4c29d27b789.info'"
   ]
  },
  {
   "cell_type": "code",
   "execution_count": 19,
   "id": "d41be29f-fcb1-4356-a8e7-b82d0cebd3e1",
   "metadata": {},
   "outputs": [],
   "source": [
    "df_1_top=top_domain(df_1_domain)"
   ]
  },
  {
   "cell_type": "code",
   "execution_count": 20,
   "id": "23b9265e-2867-498a-8bea-b26414367cab",
   "metadata": {},
   "outputs": [
    {
     "data": {
      "text/plain": [
       "'b6427368140624515a0ee4c29d27b789'"
      ]
     },
     "execution_count": 20,
     "metadata": {},
     "output_type": "execute_result"
    }
   ],
   "source": [
    "df_1_sub=df_1_domain.replace('.'+str(df_1_top),'')\n",
    "df_1_sub"
   ]
  },
  {
   "cell_type": "code",
   "execution_count": 21,
   "id": "e93f0c3a-532e-4e75-a083-008212491e6e",
   "metadata": {},
   "outputs": [],
   "source": [
    "def sub_domain(domain):\n",
    "    top=top_domain(domain)\n",
    "    sub=domain.replace('.'+str(top),'')\n",
    "    return sub"
   ]
  },
  {
   "cell_type": "code",
   "execution_count": 22,
   "id": "0d30a0f7-9fc8-49fb-ab57-fc07a28ba7a3",
   "metadata": {},
   "outputs": [
    {
     "data": {
      "text/plain": [
       "'b6427368140624515a0ee4c29d27b789'"
      ]
     },
     "execution_count": 22,
     "metadata": {},
     "output_type": "execute_result"
    }
   ],
   "source": [
    "sub_domain(df_1_domain)"
   ]
  },
  {
   "cell_type": "code",
   "execution_count": 23,
   "id": "6b899893-647b-47e4-9b87-e94ee1a861db",
   "metadata": {},
   "outputs": [],
   "source": [
    "add_dataframe(df,sub_domain,'sub_domain')"
   ]
  },
  {
   "cell_type": "code",
   "execution_count": 24,
   "id": "17de968c-0ff0-4ba1-b630-959858dc1450",
   "metadata": {},
   "outputs": [
    {
     "data": {
      "text/html": [
       "<div>\n",
       "<style scoped>\n",
       "    .dataframe tbody tr th:only-of-type {\n",
       "        vertical-align: middle;\n",
       "    }\n",
       "\n",
       "    .dataframe tbody tr th {\n",
       "        vertical-align: top;\n",
       "    }\n",
       "\n",
       "    .dataframe thead th {\n",
       "        text-align: right;\n",
       "    }\n",
       "</style>\n",
       "<table border=\"1\" class=\"dataframe\">\n",
       "  <thead>\n",
       "    <tr style=\"text-align: right;\">\n",
       "      <th></th>\n",
       "      <th>domain</th>\n",
       "      <th>sub_domain</th>\n",
       "      <th>top_domain</th>\n",
       "      <th>dga</th>\n",
       "      <th>class</th>\n",
       "    </tr>\n",
       "  </thead>\n",
       "  <tbody>\n",
       "    <tr>\n",
       "      <th>0</th>\n",
       "      <td>vsviqe.com</td>\n",
       "      <td>vsviqe</td>\n",
       "      <td>com</td>\n",
       "      <td>yes</td>\n",
       "      <td>19</td>\n",
       "    </tr>\n",
       "    <tr>\n",
       "      <th>1</th>\n",
       "      <td>170qknj1onn4c37qf1w71rzei1h.org</td>\n",
       "      <td>170qknj1onn4c37qf1w71rzei1h</td>\n",
       "      <td>org</td>\n",
       "      <td>yes</td>\n",
       "      <td>6</td>\n",
       "    </tr>\n",
       "    <tr>\n",
       "      <th>2</th>\n",
       "      <td>smartidpro.in</td>\n",
       "      <td>smartidpro</td>\n",
       "      <td>in</td>\n",
       "      <td>no</td>\n",
       "      <td>0</td>\n",
       "    </tr>\n",
       "    <tr>\n",
       "      <th>3</th>\n",
       "      <td>9mtrkmet8rjnpya4.ru</td>\n",
       "      <td>9mtrkmet8rjnpya4</td>\n",
       "      <td>ru</td>\n",
       "      <td>yes</td>\n",
       "      <td>2</td>\n",
       "    </tr>\n",
       "    <tr>\n",
       "      <th>4</th>\n",
       "      <td>ypyxhi.com</td>\n",
       "      <td>ypyxhi</td>\n",
       "      <td>com</td>\n",
       "      <td>yes</td>\n",
       "      <td>19</td>\n",
       "    </tr>\n",
       "    <tr>\n",
       "      <th>...</th>\n",
       "      <td>...</td>\n",
       "      <td>...</td>\n",
       "      <td>...</td>\n",
       "      <td>...</td>\n",
       "      <td>...</td>\n",
       "    </tr>\n",
       "    <tr>\n",
       "      <th>1599995</th>\n",
       "      <td>10zpd8p1ktb8bg1al07c3rfkuqw.net</td>\n",
       "      <td>10zpd8p1ktb8bg1al07c3rfkuqw</td>\n",
       "      <td>net</td>\n",
       "      <td>yes</td>\n",
       "      <td>6</td>\n",
       "    </tr>\n",
       "    <tr>\n",
       "      <th>1599996</th>\n",
       "      <td>acheemprego.com</td>\n",
       "      <td>acheemprego</td>\n",
       "      <td>com</td>\n",
       "      <td>no</td>\n",
       "      <td>0</td>\n",
       "    </tr>\n",
       "    <tr>\n",
       "      <th>1599997</th>\n",
       "      <td>dtvvqs.com</td>\n",
       "      <td>dtvvqs</td>\n",
       "      <td>com</td>\n",
       "      <td>yes</td>\n",
       "      <td>19</td>\n",
       "    </tr>\n",
       "    <tr>\n",
       "      <th>1599998</th>\n",
       "      <td>qurtpwncfwhjke.pw</td>\n",
       "      <td>qurtpwncfwhjke</td>\n",
       "      <td>pw</td>\n",
       "      <td>yes</td>\n",
       "      <td>7</td>\n",
       "    </tr>\n",
       "    <tr>\n",
       "      <th>1599999</th>\n",
       "      <td>p148e12d7c430db3c04635de27e343c625.ws</td>\n",
       "      <td>p148e12d7c430db3c04635de27e343c625</td>\n",
       "      <td>ws</td>\n",
       "      <td>yes</td>\n",
       "      <td>5</td>\n",
       "    </tr>\n",
       "  </tbody>\n",
       "</table>\n",
       "<p>1600000 rows × 5 columns</p>\n",
       "</div>"
      ],
      "text/plain": [
       "                                        domain  \\\n",
       "0                                   vsviqe.com   \n",
       "1              170qknj1onn4c37qf1w71rzei1h.org   \n",
       "2                                smartidpro.in   \n",
       "3                          9mtrkmet8rjnpya4.ru   \n",
       "4                                   ypyxhi.com   \n",
       "...                                        ...   \n",
       "1599995        10zpd8p1ktb8bg1al07c3rfkuqw.net   \n",
       "1599996                        acheemprego.com   \n",
       "1599997                             dtvvqs.com   \n",
       "1599998                      qurtpwncfwhjke.pw   \n",
       "1599999  p148e12d7c430db3c04635de27e343c625.ws   \n",
       "\n",
       "                                 sub_domain top_domain  dga  class  \n",
       "0                                    vsviqe        com  yes     19  \n",
       "1               170qknj1onn4c37qf1w71rzei1h        org  yes      6  \n",
       "2                                smartidpro         in   no      0  \n",
       "3                          9mtrkmet8rjnpya4         ru  yes      2  \n",
       "4                                    ypyxhi        com  yes     19  \n",
       "...                                     ...        ...  ...    ...  \n",
       "1599995         10zpd8p1ktb8bg1al07c3rfkuqw        net  yes      6  \n",
       "1599996                         acheemprego        com   no      0  \n",
       "1599997                              dtvvqs        com  yes     19  \n",
       "1599998                      qurtpwncfwhjke         pw  yes      7  \n",
       "1599999  p148e12d7c430db3c04635de27e343c625         ws  yes      5  \n",
       "\n",
       "[1600000 rows x 5 columns]"
      ]
     },
     "execution_count": 24,
     "metadata": {},
     "output_type": "execute_result"
    }
   ],
   "source": [
    "df"
   ]
  },
  {
   "cell_type": "code",
   "execution_count": 25,
   "id": "0fe2f9ac-19bf-443f-bedb-a39f6fa42b32",
   "metadata": {},
   "outputs": [],
   "source": [
    "df_1_domain='b6427368140624515a0ee4c29d27b789.info'"
   ]
  },
  {
   "cell_type": "code",
   "execution_count": 26,
   "id": "a257d020-7d3c-4636-9104-61eb13692bbc",
   "metadata": {},
   "outputs": [
    {
     "data": {
      "text/plain": [
       "'b6427368140624515a0ee4c29d27b789'"
      ]
     },
     "execution_count": 26,
     "metadata": {},
     "output_type": "execute_result"
    }
   ],
   "source": [
    "df_1_sub=sub_domain(df_1_domain)\n",
    "df_1_sub"
   ]
  },
  {
   "cell_type": "code",
   "execution_count": 27,
   "id": "5a88a68a-d82f-4b16-91c6-d8a3068c79c6",
   "metadata": {},
   "outputs": [
    {
     "data": {
      "text/plain": [
       "32"
      ]
     },
     "execution_count": 27,
     "metadata": {},
     "output_type": "execute_result"
    }
   ],
   "source": [
    "len(df_1_sub)"
   ]
  },
  {
   "cell_type": "code",
   "execution_count": 28,
   "id": "86b79db7-fe64-45ea-aea6-f9eadbbefcf2",
   "metadata": {},
   "outputs": [],
   "source": [
    "def sub_lenth(domain):\n",
    "    df_1_sub=sub_domain(domain)\n",
    "    length=len(df_1_sub)\n",
    "    return length"
   ]
  },
  {
   "cell_type": "code",
   "execution_count": 29,
   "id": "a3e37e55-c60b-468b-9f7a-966e4df15652",
   "metadata": {},
   "outputs": [
    {
     "data": {
      "text/plain": [
       "32"
      ]
     },
     "execution_count": 29,
     "metadata": {},
     "output_type": "execute_result"
    }
   ],
   "source": [
    "sub_lenth(df_1_domain)"
   ]
  },
  {
   "cell_type": "code",
   "execution_count": 30,
   "id": "3040ce0c-3949-4b57-9a0b-24b23c7197b8",
   "metadata": {},
   "outputs": [],
   "source": [
    "add_dataframe(df,sub_lenth,'sub_lenth')"
   ]
  },
  {
   "cell_type": "code",
   "execution_count": 31,
   "id": "02b10491-669c-4c23-bab1-83b8de6d6d66",
   "metadata": {},
   "outputs": [
    {
     "data": {
      "text/html": [
       "<div>\n",
       "<style scoped>\n",
       "    .dataframe tbody tr th:only-of-type {\n",
       "        vertical-align: middle;\n",
       "    }\n",
       "\n",
       "    .dataframe tbody tr th {\n",
       "        vertical-align: top;\n",
       "    }\n",
       "\n",
       "    .dataframe thead th {\n",
       "        text-align: right;\n",
       "    }\n",
       "</style>\n",
       "<table border=\"1\" class=\"dataframe\">\n",
       "  <thead>\n",
       "    <tr style=\"text-align: right;\">\n",
       "      <th></th>\n",
       "      <th>domain</th>\n",
       "      <th>sub_lenth</th>\n",
       "      <th>sub_domain</th>\n",
       "      <th>top_domain</th>\n",
       "      <th>dga</th>\n",
       "      <th>class</th>\n",
       "    </tr>\n",
       "  </thead>\n",
       "  <tbody>\n",
       "    <tr>\n",
       "      <th>0</th>\n",
       "      <td>vsviqe.com</td>\n",
       "      <td>6</td>\n",
       "      <td>vsviqe</td>\n",
       "      <td>com</td>\n",
       "      <td>yes</td>\n",
       "      <td>19</td>\n",
       "    </tr>\n",
       "    <tr>\n",
       "      <th>1</th>\n",
       "      <td>170qknj1onn4c37qf1w71rzei1h.org</td>\n",
       "      <td>27</td>\n",
       "      <td>170qknj1onn4c37qf1w71rzei1h</td>\n",
       "      <td>org</td>\n",
       "      <td>yes</td>\n",
       "      <td>6</td>\n",
       "    </tr>\n",
       "    <tr>\n",
       "      <th>2</th>\n",
       "      <td>smartidpro.in</td>\n",
       "      <td>10</td>\n",
       "      <td>smartidpro</td>\n",
       "      <td>in</td>\n",
       "      <td>no</td>\n",
       "      <td>0</td>\n",
       "    </tr>\n",
       "    <tr>\n",
       "      <th>3</th>\n",
       "      <td>9mtrkmet8rjnpya4.ru</td>\n",
       "      <td>16</td>\n",
       "      <td>9mtrkmet8rjnpya4</td>\n",
       "      <td>ru</td>\n",
       "      <td>yes</td>\n",
       "      <td>2</td>\n",
       "    </tr>\n",
       "    <tr>\n",
       "      <th>4</th>\n",
       "      <td>ypyxhi.com</td>\n",
       "      <td>6</td>\n",
       "      <td>ypyxhi</td>\n",
       "      <td>com</td>\n",
       "      <td>yes</td>\n",
       "      <td>19</td>\n",
       "    </tr>\n",
       "    <tr>\n",
       "      <th>...</th>\n",
       "      <td>...</td>\n",
       "      <td>...</td>\n",
       "      <td>...</td>\n",
       "      <td>...</td>\n",
       "      <td>...</td>\n",
       "      <td>...</td>\n",
       "    </tr>\n",
       "    <tr>\n",
       "      <th>1599995</th>\n",
       "      <td>10zpd8p1ktb8bg1al07c3rfkuqw.net</td>\n",
       "      <td>27</td>\n",
       "      <td>10zpd8p1ktb8bg1al07c3rfkuqw</td>\n",
       "      <td>net</td>\n",
       "      <td>yes</td>\n",
       "      <td>6</td>\n",
       "    </tr>\n",
       "    <tr>\n",
       "      <th>1599996</th>\n",
       "      <td>acheemprego.com</td>\n",
       "      <td>11</td>\n",
       "      <td>acheemprego</td>\n",
       "      <td>com</td>\n",
       "      <td>no</td>\n",
       "      <td>0</td>\n",
       "    </tr>\n",
       "    <tr>\n",
       "      <th>1599997</th>\n",
       "      <td>dtvvqs.com</td>\n",
       "      <td>6</td>\n",
       "      <td>dtvvqs</td>\n",
       "      <td>com</td>\n",
       "      <td>yes</td>\n",
       "      <td>19</td>\n",
       "    </tr>\n",
       "    <tr>\n",
       "      <th>1599998</th>\n",
       "      <td>qurtpwncfwhjke.pw</td>\n",
       "      <td>14</td>\n",
       "      <td>qurtpwncfwhjke</td>\n",
       "      <td>pw</td>\n",
       "      <td>yes</td>\n",
       "      <td>7</td>\n",
       "    </tr>\n",
       "    <tr>\n",
       "      <th>1599999</th>\n",
       "      <td>p148e12d7c430db3c04635de27e343c625.ws</td>\n",
       "      <td>34</td>\n",
       "      <td>p148e12d7c430db3c04635de27e343c625</td>\n",
       "      <td>ws</td>\n",
       "      <td>yes</td>\n",
       "      <td>5</td>\n",
       "    </tr>\n",
       "  </tbody>\n",
       "</table>\n",
       "<p>1600000 rows × 6 columns</p>\n",
       "</div>"
      ],
      "text/plain": [
       "                                        domain  sub_lenth  \\\n",
       "0                                   vsviqe.com          6   \n",
       "1              170qknj1onn4c37qf1w71rzei1h.org         27   \n",
       "2                                smartidpro.in         10   \n",
       "3                          9mtrkmet8rjnpya4.ru         16   \n",
       "4                                   ypyxhi.com          6   \n",
       "...                                        ...        ...   \n",
       "1599995        10zpd8p1ktb8bg1al07c3rfkuqw.net         27   \n",
       "1599996                        acheemprego.com         11   \n",
       "1599997                             dtvvqs.com          6   \n",
       "1599998                      qurtpwncfwhjke.pw         14   \n",
       "1599999  p148e12d7c430db3c04635de27e343c625.ws         34   \n",
       "\n",
       "                                 sub_domain top_domain  dga  class  \n",
       "0                                    vsviqe        com  yes     19  \n",
       "1               170qknj1onn4c37qf1w71rzei1h        org  yes      6  \n",
       "2                                smartidpro         in   no      0  \n",
       "3                          9mtrkmet8rjnpya4         ru  yes      2  \n",
       "4                                    ypyxhi        com  yes     19  \n",
       "...                                     ...        ...  ...    ...  \n",
       "1599995         10zpd8p1ktb8bg1al07c3rfkuqw        net  yes      6  \n",
       "1599996                         acheemprego        com   no      0  \n",
       "1599997                              dtvvqs        com  yes     19  \n",
       "1599998                      qurtpwncfwhjke         pw  yes      7  \n",
       "1599999  p148e12d7c430db3c04635de27e343c625         ws  yes      5  \n",
       "\n",
       "[1600000 rows x 6 columns]"
      ]
     },
     "execution_count": 31,
     "metadata": {},
     "output_type": "execute_result"
    }
   ],
   "source": [
    "df"
   ]
  },
  {
   "cell_type": "code",
   "execution_count": 32,
   "id": "92007faa-1797-4b52-9ccc-86cc44b4e46e",
   "metadata": {},
   "outputs": [
    {
     "data": {
      "text/plain": [
       "<function matplotlib.pyplot.show(close=None, block=None)>"
      ]
     },
     "execution_count": 32,
     "metadata": {},
     "output_type": "execute_result"
    },
    {
     "data": {
      "image/png": "[encoded data removed]",
      "text/plain": [
       "<Figure size 485.25x216 with 1 Axes>"
      ]
     },
     "metadata": {
      "needs_background": "light"
     },
     "output_type": "display_data"
    }
   ],
   "source": [
    "facet=sns.FacetGrid(df, hue='dga', aspect=2)\n",
    "facet.map(sns.kdeplot, 'sub_lenth', shade=True)\n",
    "facet.set(xlim=(0,df['sub_lenth'].max()))\n",
    "facet.add_legend()\n",
    "plt.show"
   ]
  },
  {
   "cell_type": "code",
   "execution_count": 33,
   "id": "8877ec7f-e739-48e1-884d-d602c7e92624",
   "metadata": {},
   "outputs": [
    {
     "data": {
      "text/html": [
       "<div>\n",
       "<style scoped>\n",
       "    .dataframe tbody tr th:only-of-type {\n",
       "        vertical-align: middle;\n",
       "    }\n",
       "\n",
       "    .dataframe tbody tr th {\n",
       "        vertical-align: top;\n",
       "    }\n",
       "\n",
       "    .dataframe thead th {\n",
       "        text-align: right;\n",
       "    }\n",
       "</style>\n",
       "<table border=\"1\" class=\"dataframe\">\n",
       "  <thead>\n",
       "    <tr style=\"text-align: right;\">\n",
       "      <th></th>\n",
       "      <th>domain</th>\n",
       "      <th>dga</th>\n",
       "      <th>class</th>\n",
       "    </tr>\n",
       "  </thead>\n",
       "  <tbody>\n",
       "    <tr>\n",
       "      <th>3</th>\n",
       "      <td>9mtrkmet8rjnpya4.ru</td>\n",
       "      <td>yes</td>\n",
       "      <td>2</td>\n",
       "    </tr>\n",
       "    <tr>\n",
       "      <th>72</th>\n",
       "      <td>hft7aej7j8v3lef2.net</td>\n",
       "      <td>yes</td>\n",
       "      <td>2</td>\n",
       "    </tr>\n",
       "    <tr>\n",
       "      <th>104</th>\n",
       "      <td>fkvcyd54agu2ywtg.cn</td>\n",
       "      <td>yes</td>\n",
       "      <td>2</td>\n",
       "    </tr>\n",
       "    <tr>\n",
       "      <th>137</th>\n",
       "      <td>dbd5r2yfduh00apw.biz</td>\n",
       "      <td>yes</td>\n",
       "      <td>2</td>\n",
       "    </tr>\n",
       "    <tr>\n",
       "      <th>138</th>\n",
       "      <td>631w0kgnvsowppy4.biz</td>\n",
       "      <td>yes</td>\n",
       "      <td>2</td>\n",
       "    </tr>\n",
       "    <tr>\n",
       "      <th>...</th>\n",
       "      <td>...</td>\n",
       "      <td>...</td>\n",
       "      <td>...</td>\n",
       "    </tr>\n",
       "    <tr>\n",
       "      <th>1599757</th>\n",
       "      <td>5t7zgfv6pzl6nxwc.net</td>\n",
       "      <td>yes</td>\n",
       "      <td>2</td>\n",
       "    </tr>\n",
       "    <tr>\n",
       "      <th>1599797</th>\n",
       "      <td>ajczzwbxpn3lvy1r.biz</td>\n",
       "      <td>yes</td>\n",
       "      <td>2</td>\n",
       "    </tr>\n",
       "    <tr>\n",
       "      <th>1599823</th>\n",
       "      <td>hejo59u75evcr7mn.info</td>\n",
       "      <td>yes</td>\n",
       "      <td>2</td>\n",
       "    </tr>\n",
       "    <tr>\n",
       "      <th>1599825</th>\n",
       "      <td>0knotsa5jfqvz8he.biz</td>\n",
       "      <td>yes</td>\n",
       "      <td>2</td>\n",
       "    </tr>\n",
       "    <tr>\n",
       "      <th>1599832</th>\n",
       "      <td>ceik2lvfgxgwbk8x.info</td>\n",
       "      <td>yes</td>\n",
       "      <td>2</td>\n",
       "    </tr>\n",
       "  </tbody>\n",
       "</table>\n",
       "<p>28944 rows × 3 columns</p>\n",
       "</div>"
      ],
      "text/plain": [
       "                        domain  dga  class\n",
       "3          9mtrkmet8rjnpya4.ru  yes      2\n",
       "72        hft7aej7j8v3lef2.net  yes      2\n",
       "104        fkvcyd54agu2ywtg.cn  yes      2\n",
       "137       dbd5r2yfduh00apw.biz  yes      2\n",
       "138       631w0kgnvsowppy4.biz  yes      2\n",
       "...                        ...  ...    ...\n",
       "1599757   5t7zgfv6pzl6nxwc.net  yes      2\n",
       "1599797   ajczzwbxpn3lvy1r.biz  yes      2\n",
       "1599823  hejo59u75evcr7mn.info  yes      2\n",
       "1599825   0knotsa5jfqvz8he.biz  yes      2\n",
       "1599832  ceik2lvfgxgwbk8x.info  yes      2\n",
       "\n",
       "[28944 rows x 3 columns]"
      ]
     },
     "execution_count": 33,
     "metadata": {},
     "output_type": "execute_result"
    }
   ],
   "source": [
    "df_2"
   ]
  },
  {
   "cell_type": "code",
   "execution_count": 34,
   "id": "593b6f4b-c8bb-47fa-8f1c-6dc38db2830a",
   "metadata": {},
   "outputs": [],
   "source": [
    "df_2_domain='9mtrkmet8rjnpya4.ru'"
   ]
  },
  {
   "cell_type": "code",
   "execution_count": 35,
   "id": "84cebcfc-7379-4d30-a8e9-f5d8121a5077",
   "metadata": {},
   "outputs": [
    {
     "data": {
      "text/plain": [
       "'9mtrkmet8rjnpya4'"
      ]
     },
     "execution_count": 35,
     "metadata": {},
     "output_type": "execute_result"
    }
   ],
   "source": [
    "df_2_sub=sub_domain(df_2_domain)\n",
    "df_2_sub"
   ]
  },
  {
   "cell_type": "code",
   "execution_count": 36,
   "id": "2127fb27-d860-420e-a388-ffb8dfe169a4",
   "metadata": {},
   "outputs": [],
   "source": [
    "import re"
   ]
  },
  {
   "cell_type": "code",
   "execution_count": 37,
   "id": "ea6f74be-490e-4c4d-b998-7b9c51231d7c",
   "metadata": {},
   "outputs": [],
   "source": [
    "pattern=re.compile(r'[bcdfghjklmnpqrstvwxyz]{3,}')"
   ]
  },
  {
   "cell_type": "code",
   "execution_count": 38,
   "id": "9b92dcb0-0cb2-49f9-8812-dc4944e52447",
   "metadata": {},
   "outputs": [],
   "source": [
    "match=pattern.findall(df_2_sub)"
   ]
  },
  {
   "cell_type": "code",
   "execution_count": 39,
   "id": "c9aca0aa-fc1b-45d4-8fed-af3e2554410e",
   "metadata": {},
   "outputs": [
    {
     "data": {
      "text/plain": [
       "['mtrkm', 'rjnpy']"
      ]
     },
     "execution_count": 39,
     "metadata": {},
     "output_type": "execute_result"
    }
   ],
   "source": [
    "match"
   ]
  },
  {
   "cell_type": "code",
   "execution_count": 40,
   "id": "b11cff9e-a6f5-4c1c-a450-f58aafecd81e",
   "metadata": {},
   "outputs": [
    {
     "data": {
      "text/plain": [
       "2"
      ]
     },
     "execution_count": 40,
     "metadata": {},
     "output_type": "execute_result"
    }
   ],
   "source": [
    "len(match)"
   ]
  },
  {
   "cell_type": "code",
   "execution_count": 41,
   "id": "db78688f-3798-43b3-8fdb-c6523e2194a8",
   "metadata": {},
   "outputs": [],
   "source": [
    "def is_con(domain):\n",
    "    sub=sub_domain(domain)\n",
    "    \n",
    "    pattern=re.compile(r'[bcdfghjklmnpqrstvwxyz]{3,}')\n",
    "    match=pattern.findall(sub)\n",
    "    \n",
    "    return len(match)"
   ]
  },
  {
   "cell_type": "code",
   "execution_count": 42,
   "id": "76787da0-617e-4ff4-b44c-15a5d4f13400",
   "metadata": {},
   "outputs": [
    {
     "data": {
      "text/plain": [
       "2"
      ]
     },
     "execution_count": 42,
     "metadata": {},
     "output_type": "execute_result"
    }
   ],
   "source": [
    "is_con(df_2_domain)"
   ]
  },
  {
   "cell_type": "code",
   "execution_count": 43,
   "id": "3fcd1dd2-be38-44d5-b8f8-de9e1274b5ec",
   "metadata": {},
   "outputs": [],
   "source": [
    "add_dataframe(df,is_con,'is_con')"
   ]
  },
  {
   "cell_type": "code",
   "execution_count": 44,
   "id": "2bd480df-e4c6-409f-95f9-d429eaaa2a59",
   "metadata": {},
   "outputs": [
    {
     "data": {
      "text/plain": [
       "<function matplotlib.pyplot.show(close=None, block=None)>"
      ]
     },
     "execution_count": 44,
     "metadata": {},
     "output_type": "execute_result"
    },
    {
     "data": {
      "image/png": "[encoded data removed]",
      "text/plain": [
       "<Figure size 701.25x216 with 1 Axes>"
      ]
     },
     "metadata": {
      "needs_background": "light"
     },
     "output_type": "display_data"
    }
   ],
   "source": [
    "facet=sns.FacetGrid(df, hue='dga', aspect=3)\n",
    "facet.map(sns.kdeplot, 'is_con', shade=True)\n",
    "facet.set(xlim=(0,df['is_con'].max()))\n",
    "facet.add_legend()\n",
    "plt.show"
   ]
  },
  {
   "cell_type": "code",
   "execution_count": 45,
   "id": "99b5bb20-316f-42da-a0f8-315f71bdd007",
   "metadata": {},
   "outputs": [
    {
     "data": {
      "text/plain": [
       "'b6427368140624515a0ee4c29d27b789.info'"
      ]
     },
     "execution_count": 45,
     "metadata": {},
     "output_type": "execute_result"
    }
   ],
   "source": [
    "df_1_domain"
   ]
  },
  {
   "cell_type": "code",
   "execution_count": 46,
   "id": "bc8efae0-4ed8-458e-944f-37035db318ce",
   "metadata": {},
   "outputs": [],
   "source": [
    "df_1_domain='b6427368140624515a0ee4c29d27b789.info'"
   ]
  },
  {
   "cell_type": "code",
   "execution_count": 48,
   "id": "4374afde-2b2b-46b7-9534-5b7f665cc7fc",
   "metadata": {},
   "outputs": [
    {
     "data": {
      "text/plain": [
       "'b6427368140624515a0ee4c29d27b789'"
      ]
     },
     "execution_count": 48,
     "metadata": {},
     "output_type": "execute_result"
    }
   ],
   "source": [
    "df_1_sub=sub_domain(df_1_domain)\n",
    "df_1_sub"
   ]
  },
  {
   "cell_type": "code",
   "execution_count": 53,
   "id": "f264bb29-f3c7-4bf0-8b76-18e9e1356f66",
   "metadata": {},
   "outputs": [],
   "source": [
    "pattern_con=re.compile(r'[bcdfghjklmnpqrstvwxyz]')\n",
    "pattern_vow=re.compile(r'[aeiou]')"
   ]
  },
  {
   "cell_type": "code",
   "execution_count": 51,
   "id": "a9d9ace3-1868-4c3c-8b4c-243b56493a1a",
   "metadata": {},
   "outputs": [
    {
     "data": {
      "text/plain": [
       "['b', 'c', 'd', 'b']"
      ]
     },
     "execution_count": 51,
     "metadata": {},
     "output_type": "execute_result"
    }
   ],
   "source": [
    "match_con=pattern_con.findall(df_1_sub)\n",
    "match_con"
   ]
  },
  {
   "cell_type": "code",
   "execution_count": 54,
   "id": "aee20e94-c641-4758-b550-8daa2d6735c7",
   "metadata": {},
   "outputs": [
    {
     "data": {
      "text/plain": [
       "['a', 'e', 'e']"
      ]
     },
     "execution_count": 54,
     "metadata": {},
     "output_type": "execute_result"
    }
   ],
   "source": [
    "match_vow=pattern_vow.findall(df_1_sub)\n",
    "match_vow"
   ]
  },
  {
   "cell_type": "code",
   "execution_count": 55,
   "id": "7d495dae-00e5-4ad0-a09d-8b241e3ca65b",
   "metadata": {},
   "outputs": [
    {
     "data": {
      "text/plain": [
       "0.125"
      ]
     },
     "execution_count": 55,
     "metadata": {},
     "output_type": "execute_result"
    }
   ],
   "source": [
    "len(match_con)/sub_lenth(df_1_domain)"
   ]
  },
  {
   "cell_type": "code",
   "execution_count": 56,
   "id": "9bb28c9b-316e-400d-a404-231e07427d90",
   "metadata": {},
   "outputs": [
    {
     "data": {
      "text/plain": [
       "0.09375"
      ]
     },
     "execution_count": 56,
     "metadata": {},
     "output_type": "execute_result"
    }
   ],
   "source": [
    "len(match_vow)/sub_lenth(df_1_domain)"
   ]
  },
  {
   "cell_type": "code",
   "execution_count": 67,
   "id": "78598cfe-8d53-458c-a0af-7dcd4f186e01",
   "metadata": {},
   "outputs": [],
   "source": [
    "def rate_con(domain):\n",
    "    sub=sub_domain(domain)\n",
    "    \n",
    "    pattern_con=re.compile(r'[bcdfghjklmnpqrstvwxyz]')\n",
    "    \n",
    "    match_con=pattern_con.findall(sub)\n",
    "    \n",
    "    rate = round(len(match_con)/sub_lenth(domain),5)\n",
    "    return rate\n",
    "    "
   ]
  },
  {
   "cell_type": "code",
   "execution_count": 69,
   "id": "c3024796-51e5-46a8-8824-8ebb266d51bb",
   "metadata": {},
   "outputs": [
    {
     "data": {
      "text/plain": [
       "0.125"
      ]
     },
     "execution_count": 69,
     "metadata": {},
     "output_type": "execute_result"
    }
   ],
   "source": [
    "rate_con(df_1_domain)"
   ]
  },
  {
   "cell_type": "code",
   "execution_count": 73,
   "id": "7c55ab89-6ceb-4327-a692-a503d8eaae27",
   "metadata": {},
   "outputs": [],
   "source": [
    "def rate_vow(domain):\n",
    "    sub=sub_domain(domain)\n",
    "    \n",
    "    pattern_vow=re.compile(r'[aeiou]')\n",
    "    \n",
    "    match_vow=pattern_vow.findall(sub)\n",
    "    \n",
    "    rate = round(len(match_vow)/sub_lenth(domain),5)\n",
    "    return rate\n",
    "    "
   ]
  },
  {
   "cell_type": "code",
   "execution_count": 75,
   "id": "bbedb2a9-dbda-4fce-9c96-19d27c5a47a5",
   "metadata": {},
   "outputs": [
    {
     "data": {
      "text/plain": [
       "0.09375"
      ]
     },
     "execution_count": 75,
     "metadata": {},
     "output_type": "execute_result"
    }
   ],
   "source": [
    "rate_vow(df_1_domain)"
   ]
  },
  {
   "cell_type": "code",
   "execution_count": 76,
   "id": "34e1b1cb-ffbe-41f8-9bc0-f2b71fa4b41f",
   "metadata": {},
   "outputs": [],
   "source": [
    "add_dataframe(df,rate_con,'rate_con')"
   ]
  },
  {
   "cell_type": "code",
   "execution_count": 77,
   "id": "77a0ac17-1add-4086-9121-35e730f90f44",
   "metadata": {},
   "outputs": [],
   "source": [
    "add_dataframe(df,rate_vow,'rate_vow')"
   ]
  },
  {
   "cell_type": "code",
   "execution_count": 78,
   "id": "69717b77-20f0-4584-8bba-07612cbedaf1",
   "metadata": {},
   "outputs": [
    {
     "data": {
      "text/plain": [
       "<function matplotlib.pyplot.show(close=None, block=None)>"
      ]
     },
     "execution_count": 78,
     "metadata": {},
     "output_type": "execute_result"
    },
    {
     "data": {
      "image/png": "[encoded data removed]",
      "text/plain": [
       "<Figure size 701.25x216 with 1 Axes>"
      ]
     },
     "metadata": {
      "needs_background": "light"
     },
     "output_type": "display_data"
    }
   ],
   "source": [
    "facet=sns.FacetGrid(df, hue='dga', aspect=3)# 모음 비율\n",
    "facet.map(sns.kdeplot, 'rate_con', shade=True)\n",
    "facet.set(xlim=(0,df['rate_con'].max()))\n",
    "facet.add_legend()\n",
    "plt.show"
   ]
  },
  {
   "cell_type": "code",
   "execution_count": 79,
   "id": "699fdd85-a385-43a7-b085-8a34be6a05dc",
   "metadata": {},
   "outputs": [
    {
     "data": {
      "text/plain": [
       "<function matplotlib.pyplot.show(close=None, block=None)>"
      ]
     },
     "execution_count": 79,
     "metadata": {},
     "output_type": "execute_result"
    },
    {
     "data": {
      "image/png": "[encoded data removed]",
      "text/plain": [
       "<Figure size 701.25x216 with 1 Axes>"
      ]
     },
     "metadata": {
      "needs_background": "light"
     },
     "output_type": "display_data"
    }
   ],
   "source": [
    "facet=sns.FacetGrid(df, hue='dga', aspect=3)# 모음 비율\n",
    "facet.map(sns.kdeplot, 'rate_vow', shade=True)\n",
    "facet.set(xlim=(0,df['rate_vow'].max()))\n",
    "facet.add_legend()\n",
    "plt.show"
   ]
  },
  {
   "cell_type": "code",
   "execution_count": 80,
   "id": "68043a2e-561f-42b4-966d-e5950e91f4ab",
   "metadata": {},
   "outputs": [
    {
     "data": {
      "text/plain": [
       "'b6427368140624515a0ee4c29d27b789.info'"
      ]
     },
     "execution_count": 80,
     "metadata": {},
     "output_type": "execute_result"
    }
   ],
   "source": [
    "df_1_domain"
   ]
  },
  {
   "cell_type": "code",
   "execution_count": 83,
   "id": "0661c3a1-efeb-48f5-ac61-c576ef746055",
   "metadata": {},
   "outputs": [
    {
     "data": {
      "text/plain": [
       "'b6427368140624515a0ee4c29d27b789'"
      ]
     },
     "execution_count": 83,
     "metadata": {},
     "output_type": "execute_result"
    }
   ],
   "source": [
    "df_1_sub=sub_domain(df_1_domain)\n",
    "df_1_sub"
   ]
  },
  {
   "cell_type": "code",
   "execution_count": 84,
   "id": "d5f350c4-5ecd-4b69-847f-565634958216",
   "metadata": {},
   "outputs": [
    {
     "data": {
      "text/plain": [
       "re.compile(r'[0-9]{1,}', re.UNICODE)"
      ]
     },
     "execution_count": 84,
     "metadata": {},
     "output_type": "execute_result"
    }
   ],
   "source": [
    "match=re.compile('[0-9]{1,}')\n",
    "match"
   ]
  },
  {
   "cell_type": "code",
   "execution_count": null,
   "id": "73b08dce-74e0-41df-a765-cdea2b9810cd",
   "metadata": {},
   "outputs": [],
   "source": [
    " "
   ]
  }
 ],
 "metadata": {
  "kernelspec": {
   "display_name": "Python 3 (ipykernel)",
   "language": "python",
   "name": "python3"
  },
  "language_info": {
   "codemirror_mode": {
    "name": "ipython",
    "version": 3
   },
   "file_extension": ".py",
   "mimetype": "text/x-python",
   "name": "python",
   "nbconvert_exporter": "python",
   "pygments_lexer": "ipython3",
   "version": "3.9.12"
  }
 },
 "nbformat": 4,
 "nbformat_minor": 5
}
