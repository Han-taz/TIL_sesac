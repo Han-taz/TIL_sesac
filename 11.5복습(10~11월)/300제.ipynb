{
 "cells": [
  {
   "cell_type": "code",
   "execution_count": 1,
   "id": "657757ce-ed85-446c-a494-3d45ed24a381",
   "metadata": {},
   "outputs": [],
   "source": [
    "a= \"5,969,782,550\""
   ]
  },
  {
   "cell_type": "code",
   "execution_count": 2,
   "id": "89214a24-8f02-4bcb-8939-46225f337071",
   "metadata": {},
   "outputs": [
    {
     "data": {
      "text/plain": [
       "'5969782550'"
      ]
     },
     "execution_count": 2,
     "metadata": {},
     "output_type": "execute_result"
    }
   ],
   "source": [
    "a.replace(',' , '')"
   ]
  },
  {
   "cell_type": "code",
   "execution_count": 3,
   "id": "1c4f4c8d-fe55-46fc-9b76-0fb52000bb82",
   "metadata": {},
   "outputs": [],
   "source": [
    "b=int(a.replace(',' , ''))"
   ]
  },
  {
   "cell_type": "code",
   "execution_count": 4,
   "id": "7b41d52b-f77e-4b4b-a5df-ef3fa2d4b270",
   "metadata": {},
   "outputs": [
    {
     "data": {
      "text/plain": [
       "int"
      ]
     },
     "execution_count": 4,
     "metadata": {},
     "output_type": "execute_result"
    }
   ],
   "source": [
    "type(b)"
   ]
  },
  {
   "cell_type": "code",
   "execution_count": 5,
   "id": "d021f433-668c-4d0c-a7e6-a0501e3ba861",
   "metadata": {},
   "outputs": [
    {
     "name": "stdout",
     "output_type": "stream",
     "text": [
      "5969782550\n"
     ]
    }
   ],
   "source": [
    "print(b)"
   ]
  },
  {
   "cell_type": "code",
   "execution_count": 6,
   "id": "6ec31377-246b-496f-bdd5-da14a6bd6df7",
   "metadata": {},
   "outputs": [],
   "source": [
    "분기 = \"2020/03(E) (IFRS연결)\""
   ]
  },
  {
   "cell_type": "code",
   "execution_count": 7,
   "id": "2b4b13ae-b04c-4400-aa42-fcdef793812b",
   "metadata": {},
   "outputs": [
    {
     "data": {
      "text/plain": [
       "'2020/03'"
      ]
     },
     "execution_count": 7,
     "metadata": {},
     "output_type": "execute_result"
    }
   ],
   "source": [
    "분기[:7]"
   ]
  },
  {
   "cell_type": "code",
   "execution_count": 8,
   "id": "3fcbc742-d365-4f9c-ab7d-75e7380155c2",
   "metadata": {},
   "outputs": [],
   "source": [
    "data = \"   삼성전자    \""
   ]
  },
  {
   "cell_type": "code",
   "execution_count": 9,
   "id": "35e37cd5-6d75-4aaf-a841-65e746d5d44c",
   "metadata": {},
   "outputs": [],
   "source": [
    "ss=data.strip()"
   ]
  },
  {
   "cell_type": "code",
   "execution_count": 10,
   "id": "7358265f-9da3-4a87-b06b-01db7052661c",
   "metadata": {},
   "outputs": [
    {
     "name": "stdout",
     "output_type": "stream",
     "text": [
      "삼성전자\n"
     ]
    }
   ],
   "source": [
    "print(ss)"
   ]
  },
  {
   "cell_type": "code",
   "execution_count": 11,
   "id": "6df69f39-e25d-45c3-84c9-1c25468ac89d",
   "metadata": {},
   "outputs": [],
   "source": [
    "ticker = \"btc_krw\""
   ]
  },
  {
   "cell_type": "code",
   "execution_count": 12,
   "id": "452bf2cc-88c8-43bd-9aa9-ef54708f2fc7",
   "metadata": {},
   "outputs": [],
   "source": [
    "tic=ticker.upper()"
   ]
  },
  {
   "cell_type": "code",
   "execution_count": 13,
   "id": "24bd5e4c-cc4d-4005-8982-40340d6aef1c",
   "metadata": {},
   "outputs": [
    {
     "data": {
      "text/plain": [
       "'btc_krw'"
      ]
     },
     "execution_count": 13,
     "metadata": {},
     "output_type": "execute_result"
    }
   ],
   "source": [
    "tic.lower()"
   ]
  },
  {
   "cell_type": "code",
   "execution_count": 14,
   "id": "d3fa8c4b-7f46-4c32-a691-e843e360b20f",
   "metadata": {},
   "outputs": [],
   "source": [
    "a = \"hello\"\n",
    "a = a.capitalize()\n"
   ]
  },
  {
   "cell_type": "code",
   "execution_count": 15,
   "id": "d62fe847-debe-4a00-a61e-7f51fdd5d2df",
   "metadata": {},
   "outputs": [
    {
     "data": {
      "text/plain": [
       "'Hello'"
      ]
     },
     "execution_count": 15,
     "metadata": {},
     "output_type": "execute_result"
    }
   ],
   "source": [
    "a"
   ]
  },
  {
   "cell_type": "code",
   "execution_count": 16,
   "id": "1c5eacbd-f0b7-4454-980b-94bd95d98d6b",
   "metadata": {},
   "outputs": [],
   "source": [
    "file_name = \"보고서.xlsx\""
   ]
  },
  {
   "cell_type": "code",
   "execution_count": 17,
   "id": "1780cc9f-2476-4029-b655-030a1dbf1815",
   "metadata": {},
   "outputs": [
    {
     "data": {
      "text/plain": [
       "True"
      ]
     },
     "execution_count": 17,
     "metadata": {},
     "output_type": "execute_result"
    }
   ],
   "source": [
    "file_name.endswith(('xlsx','xls'))"
   ]
  },
  {
   "cell_type": "code",
   "execution_count": 18,
   "id": "c318f7ae-cba0-4f13-b8a1-eb10716fc17e",
   "metadata": {},
   "outputs": [],
   "source": [
    "fm= \"2020_보고서.xlsx\""
   ]
  },
  {
   "cell_type": "code",
   "execution_count": 19,
   "id": "bf75b678-a293-4d21-b200-6ede31b5bce6",
   "metadata": {},
   "outputs": [
    {
     "data": {
      "text/plain": [
       "True"
      ]
     },
     "execution_count": 19,
     "metadata": {},
     "output_type": "execute_result"
    }
   ],
   "source": [
    "fm.startswith('2020')"
   ]
  },
  {
   "cell_type": "code",
   "execution_count": 20,
   "id": "2035cb8d-8882-4994-a2bf-60792633cd98",
   "metadata": {},
   "outputs": [],
   "source": [
    "a = \"hello world\""
   ]
  },
  {
   "cell_type": "code",
   "execution_count": 21,
   "id": "a939ddce-c21f-4d7d-8c2e-9ef17c8a840d",
   "metadata": {},
   "outputs": [
    {
     "data": {
      "text/plain": [
       "['hello', 'world']"
      ]
     },
     "execution_count": 21,
     "metadata": {},
     "output_type": "execute_result"
    }
   ],
   "source": [
    "a.split()"
   ]
  },
  {
   "cell_type": "code",
   "execution_count": 22,
   "id": "03e8699e-e812-4d4a-9e0f-d18c942cc101",
   "metadata": {},
   "outputs": [],
   "source": [
    "a = \"btc_krw\""
   ]
  },
  {
   "cell_type": "code",
   "execution_count": 23,
   "id": "f41f79d8-604a-49cb-9eb3-8636a89dab77",
   "metadata": {},
   "outputs": [
    {
     "data": {
      "text/plain": [
       "['btc', 'krw']"
      ]
     },
     "execution_count": 23,
     "metadata": {},
     "output_type": "execute_result"
    }
   ],
   "source": [
    "a.split('_')"
   ]
  },
  {
   "cell_type": "code",
   "execution_count": 24,
   "id": "91186467-adb7-4abb-bb98-c9fe7468b941",
   "metadata": {},
   "outputs": [],
   "source": [
    "date = \"2020-05-01\"\n"
   ]
  },
  {
   "cell_type": "code",
   "execution_count": 25,
   "id": "0eab744c-2200-42e4-8bc0-13b9f37138f0",
   "metadata": {},
   "outputs": [
    {
     "data": {
      "text/plain": [
       "['2020', '05', '01']"
      ]
     },
     "execution_count": 25,
     "metadata": {},
     "output_type": "execute_result"
    }
   ],
   "source": [
    "date.split('-')"
   ]
  },
  {
   "cell_type": "code",
   "execution_count": 26,
   "id": "7c083c72-5612-428c-b75d-f14a0b1a11d8",
   "metadata": {},
   "outputs": [],
   "source": [
    "data = \"039490     \""
   ]
  },
  {
   "cell_type": "code",
   "execution_count": 27,
   "id": "829ef609-46d1-429a-be35-2b6a6738bd8f",
   "metadata": {},
   "outputs": [
    {
     "data": {
      "text/plain": [
       "'039490'"
      ]
     },
     "execution_count": 27,
     "metadata": {},
     "output_type": "execute_result"
    }
   ],
   "source": [
    "data.rstrip()"
   ]
  },
  {
   "cell_type": "code",
   "execution_count": 28,
   "id": "5d2900b2-c383-4bd7-8e2c-3866d40f35b2",
   "metadata": {},
   "outputs": [],
   "source": [
    "movie_rank=['닥스', '스플릿', '럭키']"
   ]
  },
  {
   "cell_type": "code",
   "execution_count": 29,
   "id": "fb1404f5-4684-415a-a7c3-9b755914c8b4",
   "metadata": {},
   "outputs": [
    {
     "data": {
      "text/plain": [
       "['닥스', '스플릿', '럭키']"
      ]
     },
     "execution_count": 29,
     "metadata": {},
     "output_type": "execute_result"
    }
   ],
   "source": [
    "movie_rank"
   ]
  },
  {
   "cell_type": "code",
   "execution_count": 30,
   "id": "ad0b7770-6a19-4601-b226-9bd369d76b05",
   "metadata": {},
   "outputs": [],
   "source": [
    "movie_rank.append('배트맨')"
   ]
  },
  {
   "cell_type": "code",
   "execution_count": 31,
   "id": "edc1693e-77ec-4d35-87cf-7a8a183c3f02",
   "metadata": {},
   "outputs": [
    {
     "data": {
      "text/plain": [
       "['닥스', '스플릿', '럭키', '배트맨']"
      ]
     },
     "execution_count": 31,
     "metadata": {},
     "output_type": "execute_result"
    }
   ],
   "source": [
    "movie_rank"
   ]
  },
  {
   "cell_type": "code",
   "execution_count": 32,
   "id": "b6fd892b-99f1-4efa-b90c-f1333a789bf4",
   "metadata": {},
   "outputs": [],
   "source": [
    "del movie_rank[3]"
   ]
  },
  {
   "cell_type": "code",
   "execution_count": 33,
   "id": "6355c8be-9291-48b4-bbb1-5b1e2d19259d",
   "metadata": {},
   "outputs": [
    {
     "data": {
      "text/plain": [
       "['닥스', '스플릿', '럭키']"
      ]
     },
     "execution_count": 33,
     "metadata": {},
     "output_type": "execute_result"
    }
   ],
   "source": [
    "movie_rank"
   ]
  },
  {
   "cell_type": "code",
   "execution_count": 34,
   "id": "a322ba50-6e2a-40b1-bffe-299b2544e590",
   "metadata": {},
   "outputs": [],
   "source": [
    "movie_rank = ['닥터 스트레인지', '슈퍼맨', '스플릿', '배트맨']"
   ]
  },
  {
   "cell_type": "code",
   "execution_count": 35,
   "id": "7a881b04-9669-48ff-a4ec-e84ba5ecbe42",
   "metadata": {},
   "outputs": [],
   "source": [
    "del movie_rank[2]"
   ]
  },
  {
   "cell_type": "code",
   "execution_count": 36,
   "id": "9b16322b-3cbd-4990-bb23-f1d13541a52b",
   "metadata": {},
   "outputs": [],
   "source": [
    "del movie_rank[2]"
   ]
  },
  {
   "cell_type": "code",
   "execution_count": 37,
   "id": "aadc32df-d6ba-4995-952f-4932b0038c7e",
   "metadata": {},
   "outputs": [
    {
     "data": {
      "text/plain": [
       "['닥터 스트레인지', '슈퍼맨']"
      ]
     },
     "execution_count": 37,
     "metadata": {},
     "output_type": "execute_result"
    }
   ],
   "source": [
    "movie_rank "
   ]
  },
  {
   "cell_type": "code",
   "execution_count": 38,
   "id": "50ff8d20-3964-42e2-9d4a-b961f7d6719f",
   "metadata": {},
   "outputs": [],
   "source": [
    "lang1 = [\"C\", \"C++\", \"JAVA\"]\n",
    "lang2 = [\"Python\", \"Go\", \"C#\"]"
   ]
  },
  {
   "cell_type": "code",
   "execution_count": 39,
   "id": "3ec9ee08-7151-4f32-b6c3-51e980948d1f",
   "metadata": {},
   "outputs": [],
   "source": [
    "langs=lang1+lang2"
   ]
  },
  {
   "cell_type": "code",
   "execution_count": 40,
   "id": "7822a6ce-3f65-4feb-82e6-65d9d2539ba1",
   "metadata": {},
   "outputs": [
    {
     "name": "stdout",
     "output_type": "stream",
     "text": [
      "['C', 'C++', 'JAVA', 'Python', 'Go', 'C#']\n"
     ]
    }
   ],
   "source": [
    "print(langs)"
   ]
  },
  {
   "cell_type": "code",
   "execution_count": 41,
   "id": "f33c2295-a46b-4640-9f21-aef19f1088e3",
   "metadata": {},
   "outputs": [],
   "source": [
    "nums = [1, 2, 3, 4, 5, 6, 7]"
   ]
  },
  {
   "cell_type": "code",
   "execution_count": 42,
   "id": "e281ae41-c0fc-486b-9481-5fa9e344802b",
   "metadata": {},
   "outputs": [
    {
     "data": {
      "text/plain": [
       "1"
      ]
     },
     "execution_count": 42,
     "metadata": {},
     "output_type": "execute_result"
    }
   ],
   "source": [
    "min(nums)"
   ]
  },
  {
   "cell_type": "code",
   "execution_count": 43,
   "id": "bbd6a5d5-6d36-441e-b873-ea92e6e82573",
   "metadata": {},
   "outputs": [
    {
     "data": {
      "text/plain": [
       "7"
      ]
     },
     "execution_count": 43,
     "metadata": {},
     "output_type": "execute_result"
    }
   ],
   "source": [
    "max(nums)"
   ]
  },
  {
   "cell_type": "code",
   "execution_count": 44,
   "id": "c58f5726-49e1-4424-ad8a-1ddb26ddda49",
   "metadata": {},
   "outputs": [],
   "source": [
    "nums = [1, 2, 3, 4, 5]"
   ]
  },
  {
   "cell_type": "code",
   "execution_count": 45,
   "id": "dacf4537-661f-4416-a79e-7f9caeb53619",
   "metadata": {},
   "outputs": [
    {
     "data": {
      "text/plain": [
       "15"
      ]
     },
     "execution_count": 45,
     "metadata": {},
     "output_type": "execute_result"
    }
   ],
   "source": [
    "sum(nums)"
   ]
  },
  {
   "cell_type": "code",
   "execution_count": 46,
   "id": "f243e6d0-41e9-4e2f-842b-32ad6854f173",
   "metadata": {},
   "outputs": [],
   "source": [
    "cook = [\"피자\", \"김밥\", \"만두\", \"양념치킨\", \"족발\", \"피자\", \"김치만두\", \"쫄면\", \"소시지\", \"라면\", \"팥빙수\", \"김치전\"]"
   ]
  },
  {
   "cell_type": "code",
   "execution_count": 47,
   "id": "aa7a6237-acb7-40b0-a811-ae30734382bf",
   "metadata": {},
   "outputs": [
    {
     "data": {
      "text/plain": [
       "12"
      ]
     },
     "execution_count": 47,
     "metadata": {},
     "output_type": "execute_result"
    }
   ],
   "source": [
    "len(cook)"
   ]
  },
  {
   "cell_type": "code",
   "execution_count": 48,
   "id": "a29c5dd7-5520-40f2-a668-aa3d363c0c42",
   "metadata": {},
   "outputs": [
    {
     "name": "stdout",
     "output_type": "stream",
     "text": [
      "12\n"
     ]
    }
   ],
   "source": [
    "cook = [\"피자\", \"김밥\", \"만두\", \"양념치킨\", \"족발\", \"피자\", \"김치만두\", \"쫄면\", \"소시지\", \"라면\", \"팥빙수\", \"김치전\"]\n",
    "print(len(cook))"
   ]
  },
  {
   "cell_type": "code",
   "execution_count": 49,
   "id": "384eb6aa-eac2-4b8b-a14d-4e70366be97a",
   "metadata": {},
   "outputs": [],
   "source": [
    "nums = [1, 2, 3, 4, 5]"
   ]
  },
  {
   "cell_type": "code",
   "execution_count": 50,
   "id": "26989903-6401-42f5-a88f-a194a912aa50",
   "metadata": {},
   "outputs": [
    {
     "data": {
      "text/plain": [
       "3.0"
      ]
     },
     "execution_count": 50,
     "metadata": {},
     "output_type": "execute_result"
    }
   ],
   "source": [
    "sum(nums)/len(nums)"
   ]
  },
  {
   "cell_type": "code",
   "execution_count": 51,
   "id": "4bac3d14-aafc-45b6-844b-e846a70b4b57",
   "metadata": {},
   "outputs": [],
   "source": [
    "price = ['20180728', 100, 130, 140, 150, 160, 170]"
   ]
  },
  {
   "cell_type": "code",
   "execution_count": 52,
   "id": "be87f073-2e1e-4e8c-bcb2-d291f21b6ad2",
   "metadata": {},
   "outputs": [
    {
     "data": {
      "text/plain": [
       "[100, 130, 140, 150, 160, 170]"
      ]
     },
     "execution_count": 52,
     "metadata": {},
     "output_type": "execute_result"
    }
   ],
   "source": [
    "price[1:]"
   ]
  },
  {
   "cell_type": "code",
   "execution_count": 53,
   "id": "f10bfa1b-2f4c-4118-8485-bb2723b8e6c7",
   "metadata": {},
   "outputs": [],
   "source": [
    "nums = [1, 2, 3, 4, 5, 6, 7, 8, 9, 10]"
   ]
  },
  {
   "cell_type": "code",
   "execution_count": 54,
   "id": "116697f3-7918-4361-b93f-caf7b5718592",
   "metadata": {},
   "outputs": [
    {
     "data": {
      "text/plain": [
       "[2, 4, 6, 8, 10]"
      ]
     },
     "execution_count": 54,
     "metadata": {},
     "output_type": "execute_result"
    }
   ],
   "source": [
    "nums[1::2]"
   ]
  },
  {
   "cell_type": "code",
   "execution_count": 55,
   "id": "bd2e1592-b49d-4d5d-87c2-7b05d43e0633",
   "metadata": {},
   "outputs": [],
   "source": [
    "nums = [1, 2, 3, 4, 5]"
   ]
  },
  {
   "cell_type": "code",
   "execution_count": 56,
   "id": "ea6112f2-d288-4cec-bbd1-2a089b5982fd",
   "metadata": {},
   "outputs": [
    {
     "data": {
      "text/plain": [
       "[5, 4, 3, 2, 1]"
      ]
     },
     "execution_count": 56,
     "metadata": {},
     "output_type": "execute_result"
    }
   ],
   "source": [
    "nums[::-1]"
   ]
  },
  {
   "cell_type": "code",
   "execution_count": 57,
   "id": "78477fc9-bf59-405a-a4bf-02ef3a53fcdb",
   "metadata": {},
   "outputs": [],
   "source": [
    "interest = ['삼성전자', 'LG전자', 'Naver']"
   ]
  },
  {
   "cell_type": "code",
   "execution_count": 58,
   "id": "d7a24b28-16e3-468f-901e-ccbc3c9b9bf7",
   "metadata": {},
   "outputs": [
    {
     "name": "stdout",
     "output_type": "stream",
     "text": [
      "삼성전자 LG전자\n"
     ]
    }
   ],
   "source": [
    "print(interest[0],interest[1])"
   ]
  },
  {
   "cell_type": "code",
   "execution_count": 59,
   "id": "c46aac03-eab8-45d3-abaa-09e083f2cddd",
   "metadata": {},
   "outputs": [],
   "source": [
    "interest = ['삼성전자', 'LG전자', 'Naver', 'SK하이닉스', '미래에셋대우']"
   ]
  },
  {
   "cell_type": "code",
   "execution_count": 60,
   "id": "27c2c8b1-251e-4797-b9c1-57d61b8d0be7",
   "metadata": {},
   "outputs": [
    {
     "name": "stdout",
     "output_type": "stream",
     "text": [
      "삼성전자,LG전자,Naver,SK하이닉스,미래에셋대우\n"
     ]
    }
   ],
   "source": [
    "print(','.join(interest))"
   ]
  },
  {
   "cell_type": "code",
   "execution_count": 61,
   "id": "fa0629f8-3540-479b-8b06-6b93cf6a12cd",
   "metadata": {},
   "outputs": [
    {
     "name": "stdout",
     "output_type": "stream",
     "text": [
      "삼성전자/LG전자/Naver/SK하이닉스/미래에셋대우\n"
     ]
    }
   ],
   "source": [
    "print((','.join(interest)).replace(',','/'))"
   ]
  },
  {
   "cell_type": "code",
   "execution_count": 62,
   "id": "668041ad-3514-49ce-baca-94c2d1a93d08",
   "metadata": {},
   "outputs": [],
   "source": [
    "interest = ['삼성전자', 'LG전자', 'Naver', 'SK하이닉스', '미래에셋대우']"
   ]
  },
  {
   "cell_type": "code",
   "execution_count": 63,
   "id": "33155e8a-4c7c-4ec7-bdc7-e4a681aa472b",
   "metadata": {},
   "outputs": [
    {
     "name": "stdout",
     "output_type": "stream",
     "text": [
      "삼성전자\n",
      "LG전자\n",
      "Naver\n",
      "SK하이닉스\n",
      "미래에셋대우\n"
     ]
    }
   ],
   "source": [
    "print('\\n'.join(interest))"
   ]
  },
  {
   "cell_type": "code",
   "execution_count": 64,
   "id": "66304738-09d4-4296-8fc6-758191a6d355",
   "metadata": {},
   "outputs": [],
   "source": [
    "string = \"삼성전자/LG전자/Naver\""
   ]
  },
  {
   "cell_type": "code",
   "execution_count": 65,
   "id": "e5f65e40-dbd7-4afa-bfb1-b7f6a876e621",
   "metadata": {},
   "outputs": [
    {
     "data": {
      "text/plain": [
       "['삼성전자', 'LG전자/Naver']"
      ]
     },
     "execution_count": 65,
     "metadata": {},
     "output_type": "execute_result"
    }
   ],
   "source": [
    "string.split('/',1)"
   ]
  },
  {
   "cell_type": "code",
   "execution_count": 66,
   "id": "57d96837-e3d6-48ad-8051-e27ea44144cb",
   "metadata": {},
   "outputs": [
    {
     "data": {
      "text/plain": [
       "'삼성전자,LG전자,Naver'"
      ]
     },
     "execution_count": 66,
     "metadata": {},
     "output_type": "execute_result"
    }
   ],
   "source": [
    "(string.replace('/',',')\n",
    "     )"
   ]
  },
  {
   "cell_type": "code",
   "execution_count": 67,
   "id": "1c6a7f2a-469e-4654-9dca-efd21d36b41a",
   "metadata": {},
   "outputs": [],
   "source": [
    "data = [2, 4, 3, 1, 5, 10, 9]"
   ]
  },
  {
   "cell_type": "code",
   "execution_count": 68,
   "id": "76183b3e-7bdc-4489-ae9a-998ca2f704c2",
   "metadata": {},
   "outputs": [],
   "source": [
    "data.sort()"
   ]
  },
  {
   "cell_type": "code",
   "execution_count": 69,
   "id": "3dc5f9a8-ca15-4537-9b77-cdba38dc07e1",
   "metadata": {},
   "outputs": [
    {
     "data": {
      "text/plain": [
       "[1, 2, 3, 4, 5, 9, 10]"
      ]
     },
     "execution_count": 69,
     "metadata": {},
     "output_type": "execute_result"
    }
   ],
   "source": [
    "data"
   ]
  },
  {
   "cell_type": "code",
   "execution_count": 70,
   "id": "333a5fda-d2b5-44f2-8680-66963a3ccd5a",
   "metadata": {},
   "outputs": [
    {
     "data": {
      "text/plain": [
       "[1, 2, 3, 4, 5, 9, 10]"
      ]
     },
     "execution_count": 70,
     "metadata": {},
     "output_type": "execute_result"
    }
   ],
   "source": [
    "sorted(data)"
   ]
  },
  {
   "cell_type": "code",
   "execution_count": 71,
   "id": "f9bd9b1c-b15e-478a-baca-29e80ce3b919",
   "metadata": {},
   "outputs": [],
   "source": [
    "my_variable=()"
   ]
  },
  {
   "cell_type": "code",
   "execution_count": 72,
   "id": "e9a95c7d-7db4-4416-9605-2a84b54a4444",
   "metadata": {},
   "outputs": [
    {
     "data": {
      "text/plain": [
       "()"
      ]
     },
     "execution_count": 72,
     "metadata": {},
     "output_type": "execute_result"
    }
   ],
   "source": [
    "my_variable"
   ]
  },
  {
   "cell_type": "code",
   "execution_count": 73,
   "id": "3ad035e2-a22f-4265-9e68-fe632c3062ba",
   "metadata": {},
   "outputs": [],
   "source": [
    "movie_rank=('닥스','스플릿','럭키')"
   ]
  },
  {
   "cell_type": "code",
   "execution_count": 74,
   "id": "7f7d70c4-ec20-474a-8aa8-5a0c050dc8c4",
   "metadata": {},
   "outputs": [],
   "source": [
    "a=(1,)"
   ]
  },
  {
   "cell_type": "code",
   "execution_count": null,
   "id": "d0c6f4c8-761f-49e6-bb6f-0c2deaec3d0c",
   "metadata": {},
   "outputs": [],
   "source": []
  },
  {
   "cell_type": "code",
   "execution_count": 75,
   "id": "2bfec1db-0454-40b1-9dc0-c3c45c726ef6",
   "metadata": {},
   "outputs": [
    {
     "data": {
      "text/plain": [
       "tuple"
      ]
     },
     "execution_count": 75,
     "metadata": {},
     "output_type": "execute_result"
    }
   ],
   "source": [
    "type(a)"
   ]
  },
  {
   "cell_type": "code",
   "execution_count": 76,
   "id": "3d389a97-8b7d-445e-a9b0-4877c31ebc9c",
   "metadata": {},
   "outputs": [],
   "source": [
    " t = (1, 2, 3)"
   ]
  },
  {
   "cell_type": "code",
   "execution_count": 77,
   "id": "5447fbaf-3e28-4cb2-a03d-06fc60f76d49",
   "metadata": {},
   "outputs": [
    {
     "ename": "TypeError",
     "evalue": "'tuple' object does not support item assignment",
     "output_type": "error",
     "traceback": [
      "\u001b[1;31m---------------------------------------------------------------------------\u001b[0m",
      "\u001b[1;31mTypeError\u001b[0m                                 Traceback (most recent call last)",
      "Input \u001b[1;32mIn [77]\u001b[0m, in \u001b[0;36m<cell line: 1>\u001b[1;34m()\u001b[0m\n\u001b[1;32m----> 1\u001b[0m t[\u001b[38;5;241m0\u001b[39m]\u001b[38;5;241m=\u001b[39m\u001b[38;5;124m'\u001b[39m\u001b[38;5;124ma\u001b[39m\u001b[38;5;124m'\u001b[39m\n",
      "\u001b[1;31mTypeError\u001b[0m: 'tuple' object does not support item assignment"
     ]
    }
   ],
   "source": [
    "t[0]='a'"
   ]
  },
  {
   "cell_type": "code",
   "execution_count": 78,
   "id": "68d7d242-8283-499f-816a-51b79260d77b",
   "metadata": {},
   "outputs": [],
   "source": [
    "t = 1, 2, 3, 4"
   ]
  },
  {
   "cell_type": "code",
   "execution_count": 79,
   "id": "d7025a15-bba4-4e27-8482-68f70c1b9638",
   "metadata": {},
   "outputs": [
    {
     "data": {
      "text/plain": [
       "tuple"
      ]
     },
     "execution_count": 79,
     "metadata": {},
     "output_type": "execute_result"
    }
   ],
   "source": [
    "type(t)"
   ]
  },
  {
   "cell_type": "code",
   "execution_count": 80,
   "id": "7b69e4bb-6104-41f8-a2ba-8f1700e0083b",
   "metadata": {},
   "outputs": [],
   "source": [
    "t = ('a', 'b', 'c')"
   ]
  },
  {
   "cell_type": "code",
   "execution_count": 81,
   "id": "56d2ac8e-3325-4677-b06b-639c72d6d39e",
   "metadata": {},
   "outputs": [],
   "source": [
    "t=('A','B',\"c\")"
   ]
  },
  {
   "cell_type": "code",
   "execution_count": 82,
   "id": "64e176be-b739-495b-9a26-45a3ee21cb75",
   "metadata": {},
   "outputs": [
    {
     "data": {
      "text/plain": [
       "('A', 'B', 'c')"
      ]
     },
     "execution_count": 82,
     "metadata": {},
     "output_type": "execute_result"
    }
   ],
   "source": [
    "t"
   ]
  },
  {
   "cell_type": "code",
   "execution_count": 83,
   "id": "16ad2973-4ef1-4098-80ac-abd14f7c451c",
   "metadata": {},
   "outputs": [],
   "source": [
    "interest = ('삼성전자', 'LG전자', 'SK Hynix')"
   ]
  },
  {
   "cell_type": "code",
   "execution_count": 84,
   "id": "fc84236f-94db-4f9c-a3cd-2010b54a19ad",
   "metadata": {},
   "outputs": [],
   "source": [
    "a=list(interest)"
   ]
  },
  {
   "cell_type": "code",
   "execution_count": 85,
   "id": "cfc1b12a-5b96-4fa5-b4d2-1f8e51a2be38",
   "metadata": {},
   "outputs": [
    {
     "data": {
      "text/plain": [
       "list"
      ]
     },
     "execution_count": 85,
     "metadata": {},
     "output_type": "execute_result"
    }
   ],
   "source": [
    "type(a)"
   ]
  },
  {
   "cell_type": "code",
   "execution_count": 86,
   "id": "8c79a97c-ead4-41ed-ac96-9495b589b2d9",
   "metadata": {},
   "outputs": [],
   "source": [
    "interest = ['삼성전자', 'LG전자', 'SK Hynix']"
   ]
  },
  {
   "cell_type": "code",
   "execution_count": 87,
   "id": "bea6086c-6915-48a4-97a6-bcb7d8f81137",
   "metadata": {},
   "outputs": [
    {
     "data": {
      "text/plain": [
       "('삼성전자', 'LG전자', 'SK Hynix')"
      ]
     },
     "execution_count": 87,
     "metadata": {},
     "output_type": "execute_result"
    }
   ],
   "source": [
    "tuple(interest)"
   ]
  },
  {
   "cell_type": "code",
   "execution_count": 88,
   "id": "1d5a1672-2cde-463c-ba8f-d84c58c3d759",
   "metadata": {},
   "outputs": [
    {
     "ename": "SyntaxError",
     "evalue": "invalid syntax (271381580.py, line 1)",
     "output_type": "error",
     "traceback": [
      "\u001b[1;36m  Input \u001b[1;32mIn [88]\u001b[1;36m\u001b[0m\n\u001b[1;33m    range(2:99:2)\u001b[0m\n\u001b[1;37m           ^\u001b[0m\n\u001b[1;31mSyntaxError\u001b[0m\u001b[1;31m:\u001b[0m invalid syntax\n"
     ]
    }
   ],
   "source": [
    "range(2:99:2)"
   ]
  },
  {
   "cell_type": "code",
   "execution_count": 89,
   "id": "86d1663b-fd45-416f-b4c8-a437e258f86c",
   "metadata": {},
   "outputs": [
    {
     "name": "stdout",
     "output_type": "stream",
     "text": [
      "(2, 4, 6, 8, 10, 12, 14, 16, 18, 20, 22, 24, 26, 28, 30, 32, 34, 36, 38, 40, 42, 44, 46, 48, 50, 52, 54, 56, 58, 60, 62, 64, 66, 68, 70, 72, 74, 76, 78, 80, 82, 84, 86, 88, 90, 92, 94, 96, 98) "
     ]
    }
   ],
   "source": [
    "print(tuple(range(2,99,2)), end= ' ')"
   ]
  },
  {
   "cell_type": "code",
   "execution_count": 90,
   "id": "b4edaebe-e408-4256-938d-88b55b1fa916",
   "metadata": {},
   "outputs": [],
   "source": [
    "scores = [8.8, 8.9, 8.7, 9.2, 9.3, 9.7, 9.9, 9.5, 7.8, 9.4]"
   ]
  },
  {
   "cell_type": "code",
   "execution_count": 91,
   "id": "505e2f79-2a9d-41b9-9d5f-0cf4ecbd8e42",
   "metadata": {},
   "outputs": [],
   "source": [
    "scores = [8.8, 8.9, 8.7, 9.2, 9.3, 9.7, 9.9, 9.5, 7.8, 9.4]"
   ]
  },
  {
   "cell_type": "code",
   "execution_count": 92,
   "id": "2f8e9a84-59a2-4b74-91e9-5e0fcb05f8fb",
   "metadata": {},
   "outputs": [],
   "source": [
    "a,*vs,b=scores"
   ]
  },
  {
   "cell_type": "code",
   "execution_count": 93,
   "id": "ee4766ab-f810-4a32-acaa-ea5b35dd8f7e",
   "metadata": {},
   "outputs": [
    {
     "data": {
      "text/plain": [
       "[8.9, 8.7, 9.2, 9.3, 9.7, 9.9, 9.5, 7.8]"
      ]
     },
     "execution_count": 93,
     "metadata": {},
     "output_type": "execute_result"
    }
   ],
   "source": [
    "vs"
   ]
  },
  {
   "cell_type": "code",
   "execution_count": 94,
   "id": "b2df3313-fbde-4a12-96bf-4da11ab13194",
   "metadata": {},
   "outputs": [],
   "source": [
    "temp={}"
   ]
  },
  {
   "cell_type": "code",
   "execution_count": 95,
   "id": "25c1c952-cbbe-459a-93ae-7154fdece0ff",
   "metadata": {},
   "outputs": [
    {
     "data": {
      "text/plain": [
       "dict"
      ]
     },
     "execution_count": 95,
     "metadata": {},
     "output_type": "execute_result"
    }
   ],
   "source": [
    "type(temp)"
   ]
  },
  {
   "cell_type": "code",
   "execution_count": 96,
   "id": "8ebecc04-e861-42ca-ab10-260c404a4d01",
   "metadata": {},
   "outputs": [],
   "source": [
    "dic={'메로나': 1000,'폴라포': 1200,'빵빠레': 1800}"
   ]
  },
  {
   "cell_type": "code",
   "execution_count": 97,
   "id": "6e0c555c-c8d6-48e7-9d5e-bd0ca45b4639",
   "metadata": {},
   "outputs": [
    {
     "data": {
      "text/plain": [
       "{'메로나': 1000, '폴라포': 1200, '빵빠레': 1800}"
      ]
     },
     "execution_count": 97,
     "metadata": {},
     "output_type": "execute_result"
    }
   ],
   "source": [
    "dic"
   ]
  },
  {
   "cell_type": "code",
   "execution_count": 98,
   "id": "0d27647f-73c7-4aba-94e0-cfaa888dcf27",
   "metadata": {},
   "outputs": [],
   "source": [
    "dic[\"죠스바\"]=3000"
   ]
  },
  {
   "cell_type": "code",
   "execution_count": 99,
   "id": "02f27c6c-e553-409d-a238-39df08aa3990",
   "metadata": {},
   "outputs": [],
   "source": [
    "dic['수박바']:2100"
   ]
  },
  {
   "cell_type": "code",
   "execution_count": 100,
   "id": "0be8a114-e8d7-4b7c-bc33-db5fe1dbc8ca",
   "metadata": {},
   "outputs": [
    {
     "ename": "NameError",
     "evalue": "name '얓' is not defined",
     "output_type": "error",
     "traceback": [
      "\u001b[1;31m---------------------------------------------------------------------------\u001b[0m",
      "\u001b[1;31mNameError\u001b[0m                                 Traceback (most recent call last)",
      "Input \u001b[1;32mIn [100]\u001b[0m, in \u001b[0;36m<cell line: 1>\u001b[1;34m()\u001b[0m\n\u001b[1;32m----> 1\u001b[0m \u001b[43m얓\u001b[49m\n",
      "\u001b[1;31mNameError\u001b[0m: name '얓' is not defined"
     ]
    }
   ],
   "source": [
    "얓"
   ]
  },
  {
   "cell_type": "code",
   "execution_count": 101,
   "id": "8d126ba5-d483-4dbd-9747-f3412e882860",
   "metadata": {},
   "outputs": [
    {
     "data": {
      "text/plain": [
       "{'메로나': 1000, '폴라포': 1200, '빵빠레': 1800, '죠스바': 3000}"
      ]
     },
     "execution_count": 101,
     "metadata": {},
     "output_type": "execute_result"
    }
   ],
   "source": [
    "dic"
   ]
  },
  {
   "cell_type": "code",
   "execution_count": 102,
   "id": "711c3d1c-5c69-47e2-a7a7-dacbb7349cc8",
   "metadata": {},
   "outputs": [],
   "source": [
    "dic={'메로나': 1000,'폴라포': 1200,'빵빠레': 1800}"
   ]
  },
  {
   "cell_type": "code",
   "execution_count": 103,
   "id": "a1b9a1cb-88c2-4f90-8d05-528012f7d8ab",
   "metadata": {},
   "outputs": [
    {
     "data": {
      "text/plain": [
       "{'메로나': 1000, '폴라포': 1200, '빵빠레': 1800}"
      ]
     },
     "execution_count": 103,
     "metadata": {},
     "output_type": "execute_result"
    }
   ],
   "source": [
    "dic"
   ]
  },
  {
   "cell_type": "code",
   "execution_count": 107,
   "id": "44c5e765-a155-43d4-815a-2dc5c9427123",
   "metadata": {},
   "outputs": [],
   "source": [
    "dic['sds']=3040"
   ]
  },
  {
   "cell_type": "code",
   "execution_count": 113,
   "id": "0b81d104-6225-4bff-825b-d9e4f5e704e5",
   "metadata": {},
   "outputs": [],
   "source": [
    "dic['ㄴㅇ']=123123"
   ]
  },
  {
   "cell_type": "code",
   "execution_count": 114,
   "id": "23113bc8-ac2b-4493-8b89-3e6ad0f988d1",
   "metadata": {},
   "outputs": [
    {
     "data": {
      "text/plain": [
       "{'메로나': 1000, '폴라포': 1200, '빵빠레': 1800, 'ㄴㅇ': 123123}"
      ]
     },
     "execution_count": 114,
     "metadata": {},
     "output_type": "execute_result"
    }
   ],
   "source": [
    "dic"
   ]
  },
  {
   "cell_type": "code",
   "execution_count": 112,
   "id": "a2cbbda9-6249-4407-8d14-bcbb496cf73a",
   "metadata": {},
   "outputs": [
    {
     "data": {
      "text/plain": [
       "1000"
      ]
     },
     "execution_count": 112,
     "metadata": {},
     "output_type": "execute_result"
    }
   ],
   "source": [
    "dic['메로나']"
   ]
  },
  {
   "cell_type": "code",
   "execution_count": 121,
   "id": "3df38317-9a19-4cc5-a526-3650ee112fa2",
   "metadata": {},
   "outputs": [],
   "source": [
    "ice = {'메로나': 1000,\n",
    "       '폴로포': 1200,\n",
    "       '빵빠레': 1800,\n",
    "       '죠스바': 1200,\n",
    "       '메로나': 1500}"
   ]
  },
  {
   "cell_type": "code",
   "execution_count": 116,
   "id": "b90f9181-cd3e-42fa-ae39-6b297eeddb86",
   "metadata": {},
   "outputs": [],
   "source": [
    "ice['메로나']=1300"
   ]
  },
  {
   "cell_type": "code",
   "execution_count": 122,
   "id": "72e6132b-56c5-4ec7-9ab5-40400504067d",
   "metadata": {},
   "outputs": [
    {
     "data": {
      "text/plain": [
       "{'메로나': 1500, '폴로포': 1200, '빵빠레': 1800, '죠스바': 1200}"
      ]
     },
     "execution_count": 122,
     "metadata": {},
     "output_type": "execute_result"
    }
   ],
   "source": [
    "ice"
   ]
  },
  {
   "cell_type": "code",
   "execution_count": 119,
   "id": "7376ed07-4e1f-4465-9e08-56b1f13abe42",
   "metadata": {},
   "outputs": [],
   "source": [
    "del ice['메로나']"
   ]
  },
  {
   "cell_type": "code",
   "execution_count": 120,
   "id": "61f99c38-8212-4ebc-9147-691218795ccc",
   "metadata": {},
   "outputs": [
    {
     "data": {
      "text/plain": [
       "{'폴로포': 1200, '빵빠레': 1800, '죠스바': 1200, '월드콘': 1500}"
      ]
     },
     "execution_count": 120,
     "metadata": {},
     "output_type": "execute_result"
    }
   ],
   "source": [
    "ice"
   ]
  },
  {
   "cell_type": "code",
   "execution_count": 130,
   "id": "c8d96b5b-897c-45b9-9e6a-508b2dd9abdd",
   "metadata": {},
   "outputs": [],
   "source": [
    "inven={'메로나':[300,200],'비비빅':[400,3],'죠스바':[250,100]}"
   ]
  },
  {
   "cell_type": "code",
   "execution_count": 131,
   "id": "acbdbfe0-5b10-4d7a-bbcd-6deb4cd92274",
   "metadata": {},
   "outputs": [
    {
     "data": {
      "text/plain": [
       "{'메로나': [300, 200], '비비빅': [400, 3], '죠스바': [250, 100]}"
      ]
     },
     "execution_count": 131,
     "metadata": {},
     "output_type": "execute_result"
    }
   ],
   "source": [
    "inven"
   ]
  },
  {
   "cell_type": "code",
   "execution_count": 132,
   "id": "2c6b1164-13c4-465d-8c56-b944ce3001b4",
   "metadata": {},
   "outputs": [
    {
     "data": {
      "text/plain": [
       "[300, 200]"
      ]
     },
     "execution_count": 132,
     "metadata": {},
     "output_type": "execute_result"
    }
   ],
   "source": [
    "inven['메로나']"
   ]
  },
  {
   "cell_type": "code",
   "execution_count": 135,
   "id": "9748d464-63f4-4857-b1c1-7b34d549e035",
   "metadata": {},
   "outputs": [
    {
     "name": "stdout",
     "output_type": "stream",
     "text": [
      "300 원\n"
     ]
    }
   ],
   "source": [
    "print(inven['메로나'][0],'원')"
   ]
  },
  {
   "cell_type": "code",
   "execution_count": 136,
   "id": "5da765d0-d9ce-40e2-98f4-78be3c935842",
   "metadata": {},
   "outputs": [],
   "source": [
    "inventory = {\"메로나\": [300, 20],\n",
    "              \"비비빅\": [400, 3],\n",
    "              \"죠스바\": [250, 100]}"
   ]
  },
  {
   "cell_type": "code",
   "execution_count": 144,
   "id": "5bfcc51f-7747-4aa2-8eaa-c5ccfbc857e7",
   "metadata": {},
   "outputs": [],
   "source": [
    "inventory['월드콘']=[500,7]"
   ]
  },
  {
   "cell_type": "code",
   "execution_count": 145,
   "id": "5bc409e1-f14b-4dce-a714-0720fd227bb8",
   "metadata": {},
   "outputs": [
    {
     "data": {
      "text/plain": [
       "{'메로나': [300, 20], '비비빅': [400, 3], '죠스바': [250, 100], '월드콘': [500, 7]}"
      ]
     },
     "execution_count": 145,
     "metadata": {},
     "output_type": "execute_result"
    }
   ],
   "source": [
    "inventory"
   ]
  },
  {
   "cell_type": "code",
   "execution_count": 147,
   "id": "5137c613-3943-4927-8aa8-679053582b6d",
   "metadata": {},
   "outputs": [],
   "source": [
    "icecream = {'탱크보이': 1200, '폴라포': 1200, '빵빠레': 1800, '월드콘': 1500, '메로나': 1000}"
   ]
  },
  {
   "cell_type": "code",
   "execution_count": 150,
   "id": "2b909c02-d1ea-48aa-8767-f11ed8b31126",
   "metadata": {},
   "outputs": [
    {
     "name": "stdout",
     "output_type": "stream",
     "text": [
      "['탱크보이', '폴라포', '빵빠레', '월드콘', '메로나']\n"
     ]
    }
   ],
   "source": [
    "print(list(icecream.keys()))"
   ]
  },
  {
   "cell_type": "code",
   "execution_count": 151,
   "id": "fec358a7-a74f-465a-95f8-c2b434b3f9a6",
   "metadata": {},
   "outputs": [
    {
     "name": "stdout",
     "output_type": "stream",
     "text": [
      "[1200, 1200, 1800, 1500, 1000]\n"
     ]
    }
   ],
   "source": [
    "print(list(icecream.values()))"
   ]
  },
  {
   "cell_type": "code",
   "execution_count": 153,
   "id": "9404d3a2-de8b-49de-b1fb-e64d836178ce",
   "metadata": {},
   "outputs": [],
   "source": [
    "a=list(icecream.values())"
   ]
  },
  {
   "cell_type": "code",
   "execution_count": 154,
   "id": "1a296944-c61a-4ae2-97dc-7ebb4bc81fef",
   "metadata": {},
   "outputs": [
    {
     "data": {
      "text/plain": [
       "[1200, 1200, 1800, 1500, 1000]"
      ]
     },
     "execution_count": 154,
     "metadata": {},
     "output_type": "execute_result"
    }
   ],
   "source": [
    "a"
   ]
  },
  {
   "cell_type": "code",
   "execution_count": 155,
   "id": "f7d1926b-95ba-47a0-b1a0-b6988cb69a60",
   "metadata": {},
   "outputs": [
    {
     "data": {
      "text/plain": [
       "6700"
      ]
     },
     "execution_count": 155,
     "metadata": {},
     "output_type": "execute_result"
    }
   ],
   "source": [
    "sum(a)"
   ]
  },
  {
   "cell_type": "code",
   "execution_count": 156,
   "id": "4838ce1c-6be7-46e2-bdeb-808440f3d2dd",
   "metadata": {},
   "outputs": [
    {
     "data": {
      "text/plain": [
       "6700"
      ]
     },
     "execution_count": 156,
     "metadata": {},
     "output_type": "execute_result"
    }
   ],
   "source": [
    "sum(list(icecream.values()))"
   ]
  },
  {
   "cell_type": "code",
   "execution_count": 157,
   "id": "01eb9450-a6ad-4f51-9d73-e4255389eeab",
   "metadata": {},
   "outputs": [],
   "source": [
    "icecream = {'탱크보이': 1200, '폴라포': 1200, '빵빠레': 1800, '월드콘': 1500, '메로나': 1000}"
   ]
  },
  {
   "cell_type": "code",
   "execution_count": 158,
   "id": "d8fc2c31-387b-44d9-a2a7-9db6968a5bec",
   "metadata": {},
   "outputs": [],
   "source": [
    "new_product = {'팥빙수':2700, '아맛나':1000}"
   ]
  },
  {
   "cell_type": "code",
   "execution_count": 161,
   "id": "e721bd01-9ecb-42e3-acd0-b7e8b3335a28",
   "metadata": {},
   "outputs": [],
   "source": [
    "icecream.update(new_product)"
   ]
  },
  {
   "cell_type": "code",
   "execution_count": 162,
   "id": "b635b494-ebf7-44d7-a616-ca63cbf596fb",
   "metadata": {},
   "outputs": [
    {
     "data": {
      "text/plain": [
       "{'탱크보이': 1200,\n",
       " '폴라포': 1200,\n",
       " '빵빠레': 1800,\n",
       " '월드콘': 1500,\n",
       " '메로나': 1000,\n",
       " '팥빙수': 2700,\n",
       " '아맛나': 1000}"
      ]
     },
     "execution_count": 162,
     "metadata": {},
     "output_type": "execute_result"
    }
   ],
   "source": [
    "icecream"
   ]
  },
  {
   "cell_type": "code",
   "execution_count": 163,
   "id": "2b78b946-c246-4e9f-b306-8025ba9be09e",
   "metadata": {},
   "outputs": [],
   "source": [
    "keys = (\"apple\", \"pear\", \"peach\")\n",
    "vals = (300, 250, 400)"
   ]
  },
  {
   "cell_type": "code",
   "execution_count": 166,
   "id": "1342c246-153f-46d0-b379-bee634cd7ba2",
   "metadata": {},
   "outputs": [],
   "source": [
    "re=dict(zip(keys,vals))"
   ]
  },
  {
   "cell_type": "code",
   "execution_count": 167,
   "id": "869644cb-26c1-4826-b94b-d17c31fcfd51",
   "metadata": {},
   "outputs": [
    {
     "data": {
      "text/plain": [
       "{'apple': 300, 'pear': 250, 'peach': 400}"
      ]
     },
     "execution_count": 167,
     "metadata": {},
     "output_type": "execute_result"
    }
   ],
   "source": [
    "re"
   ]
  },
  {
   "cell_type": "code",
   "execution_count": 168,
   "id": "85b4b9f6-1302-4867-8469-149161678279",
   "metadata": {},
   "outputs": [
    {
     "name": "stdout",
     "output_type": "stream",
     "text": [
      "{'apple': 300, 'pear': 250, 'peach': 400}\n"
     ]
    }
   ],
   "source": [
    "print(re)"
   ]
  },
  {
   "cell_type": "code",
   "execution_count": 169,
   "id": "50156a40-9e76-4c1c-9f1f-fae1add3bed2",
   "metadata": {},
   "outputs": [],
   "source": [
    "date = ['09/05', '09/06', '09/07', '09/08', '09/09']\n",
    "close_price = [10500, 10300, 10100, 10800, 11000]"
   ]
  },
  {
   "cell_type": "code",
   "execution_count": 171,
   "id": "bd14a9fd-b8e7-4477-9043-962d0fc5c60b",
   "metadata": {},
   "outputs": [
    {
     "data": {
      "text/plain": [
       "{'09/05': 10500,\n",
       " '09/06': 10300,\n",
       " '09/07': 10100,\n",
       " '09/08': 10800,\n",
       " '09/09': 11000}"
      ]
     },
     "execution_count": 171,
     "metadata": {},
     "output_type": "execute_result"
    }
   ],
   "source": [
    "dict(zip(date,close_price))"
   ]
  },
  {
   "cell_type": "code",
   "execution_count": 173,
   "id": "d079fed4-23e9-4324-b0e3-b255211856e2",
   "metadata": {},
   "outputs": [
    {
     "name": "stdout",
     "output_type": "stream",
     "text": [
      "{'09/05': 10500, '09/06': 10300, '09/07': 10100, '09/08': 10800, '09/09': 11000} "
     ]
    }
   ],
   "source": [
    "print(dict(zip(date,close_price)), end=\" \")"
   ]
  },
  {
   "cell_type": "code",
   "execution_count": 176,
   "id": "162a3256-fa14-46ae-a903-d0aa40f9a6c6",
   "metadata": {},
   "outputs": [
    {
     "data": {
      "text/plain": [
       "dict[slice('메로나', [300, 20], None), slice('비비빅', [400, 3], None), slice('죠스바', [250, 100], None)]"
      ]
     },
     "execution_count": 176,
     "metadata": {},
     "output_type": "execute_result"
    }
   ],
   "source": [
    "dict['메로나':[300,20],'비비빅':[400,3],'죠스바':[250,100]]"
   ]
  },
  {
   "cell_type": "code",
   "execution_count": 177,
   "id": "f4b5c737-7465-4990-8d45-13d515ed59d5",
   "metadata": {},
   "outputs": [],
   "source": [
    "inven={'메로나':[300,20],'비비빅':[400,3],'죠스바':[250,100]}"
   ]
  },
  {
   "cell_type": "code",
   "execution_count": 178,
   "id": "546439b7-d431-4321-99c7-1bc454b90640",
   "metadata": {},
   "outputs": [
    {
     "data": {
      "text/plain": [
       "{'메로나': [300, 20], '비비빅': [400, 3], '죠스바': [250, 100]}"
      ]
     },
     "execution_count": 178,
     "metadata": {},
     "output_type": "execute_result"
    }
   ],
   "source": [
    "inven"
   ]
  },
  {
   "cell_type": "code",
   "execution_count": 179,
   "id": "5d4218a5-75d2-4943-9a9b-37ef654d4b6f",
   "metadata": {},
   "outputs": [
    {
     "name": "stdout",
     "output_type": "stream",
     "text": [
      "{'메로나': [300, 20], '비비빅': [400, 3], '죠스바': [250, 100]}\n"
     ]
    }
   ],
   "source": [
    "print(inven)"
   ]
  },
  {
   "cell_type": "code",
   "execution_count": 184,
   "id": "98f4b255-53f2-4195-a8ab-814b65e17b8b",
   "metadata": {},
   "outputs": [],
   "source": [
    "inventory = {\"메로나\": [300, 20],\n",
    "           \"비비빅\": [400, 3],\n",
    "              \"죠스바\": [250, 100]}"
   ]
  },
  {
   "cell_type": "code",
   "execution_count": 187,
   "id": "2fc45aae-0618-41bd-aefc-9606d0554795",
   "metadata": {},
   "outputs": [
    {
     "name": "stdout",
     "output_type": "stream",
     "text": [
      "300 원\n"
     ]
    }
   ],
   "source": [
    "print(inventory['메로나'][0],'원')"
   ]
  },
  {
   "cell_type": "code",
   "execution_count": 186,
   "id": "dd5b73b2-3bb4-4881-ab71-35bdcbd8eaf0",
   "metadata": {},
   "outputs": [
    {
     "data": {
      "text/plain": [
       "[300, 20]"
      ]
     },
     "execution_count": 186,
     "metadata": {},
     "output_type": "execute_result"
    }
   ],
   "source": [
    "inventory['메로나']"
   ]
  },
  {
   "cell_type": "code",
   "execution_count": 188,
   "id": "28bfa956-4569-4ac9-be9d-4bfc2daac739",
   "metadata": {},
   "outputs": [
    {
     "name": "stdout",
     "output_type": "stream",
     "text": [
      "20 개\n"
     ]
    }
   ],
   "source": [
    "print(inventory['메로나'][1],'개')"
   ]
  },
  {
   "cell_type": "code",
   "execution_count": 192,
   "id": "d86f69f4-24eb-44e9-a6fd-d53f3078c106",
   "metadata": {},
   "outputs": [],
   "source": [
    "inventory = {\"메로나\": [300, 20],\n",
    "              \"비비빅\": [400, 3],\n",
    "              \"죠스바\": [250, 100]}"
   ]
  },
  {
   "cell_type": "code",
   "execution_count": 193,
   "id": "2c97318b-f5e4-4837-85d4-e2706aaf97c8",
   "metadata": {},
   "outputs": [],
   "source": [
    "inventory.update({'월드콘':[500,7]})"
   ]
  },
  {
   "cell_type": "code",
   "execution_count": 194,
   "id": "9a756e67-531e-4d72-952d-3f1923f8250b",
   "metadata": {},
   "outputs": [
    {
     "data": {
      "text/plain": [
       "{'메로나': [300, 20], '비비빅': [400, 3], '죠스바': [250, 100], '월드콘': [500, 7]}"
      ]
     },
     "execution_count": 194,
     "metadata": {},
     "output_type": "execute_result"
    }
   ],
   "source": [
    "inventory"
   ]
  },
  {
   "cell_type": "code",
   "execution_count": 195,
   "id": "cb870028-d76c-49f6-9faa-a896cfd51429",
   "metadata": {},
   "outputs": [],
   "source": [
    "icecream = {'탱크보이': 1200, '폴라포': 1200, '빵빠레': 1800, '월드콘': 1500, '메로나': 1000}\n",
    "new_product = {'팥빙수':2700, '아맛나':1000}"
   ]
  },
  {
   "cell_type": "code",
   "execution_count": 196,
   "id": "6fb40062-e49d-4e8c-96d7-12631e24071c",
   "metadata": {},
   "outputs": [],
   "source": [
    "icecream.update(new_product)"
   ]
  },
  {
   "cell_type": "code",
   "execution_count": 197,
   "id": "a8dc2fcd-79df-462c-9704-6c3d20ba6227",
   "metadata": {},
   "outputs": [
    {
     "data": {
      "text/plain": [
       "{'탱크보이': 1200,\n",
       " '폴라포': 1200,\n",
       " '빵빠레': 1800,\n",
       " '월드콘': 1500,\n",
       " '메로나': 1000,\n",
       " '팥빙수': 2700,\n",
       " '아맛나': 1000}"
      ]
     },
     "execution_count": 197,
     "metadata": {},
     "output_type": "execute_result"
    }
   ],
   "source": [
    "icecream"
   ]
  },
  {
   "cell_type": "code",
   "execution_count": 198,
   "id": "8deba0de-e611-45c6-b6c9-7d279fff4abc",
   "metadata": {},
   "outputs": [],
   "source": [
    "keys = (\"apple\", \"pear\", \"peach\")\n",
    "vals = (300, 250, 400)"
   ]
  },
  {
   "cell_type": "code",
   "execution_count": 199,
   "id": "b2793697-4e2f-496b-813c-8917045cd4bd",
   "metadata": {},
   "outputs": [
    {
     "data": {
      "text/plain": [
       "{'apple': 300, 'pear': 250, 'peach': 400}"
      ]
     },
     "execution_count": 199,
     "metadata": {},
     "output_type": "execute_result"
    }
   ],
   "source": [
    "dict(zip(keys,vals))"
   ]
  },
  {
   "cell_type": "code",
   "execution_count": 200,
   "id": "5ece6fe3-1c9c-4064-b0be-a72d5b631f94",
   "metadata": {},
   "outputs": [],
   "source": [
    "date = ['09/05', '09/06', '09/07', '09/08', '09/09']\n",
    "close_price = [10500, 10300, 10100, 10800, 11000]"
   ]
  },
  {
   "cell_type": "code",
   "execution_count": 201,
   "id": "07988c9a-a90a-498e-ae3c-9b44bab131eb",
   "metadata": {},
   "outputs": [
    {
     "data": {
      "text/plain": [
       "{'09/05': 10500,\n",
       " '09/06': 10300,\n",
       " '09/07': 10100,\n",
       " '09/08': 10800,\n",
       " '09/09': 11000}"
      ]
     },
     "execution_count": 201,
     "metadata": {},
     "output_type": "execute_result"
    }
   ],
   "source": [
    "dict(zip(date,close_price))"
   ]
  },
  {
   "cell_type": "code",
   "execution_count": 202,
   "id": "7aa8717d-855b-4b8c-b59f-b54947dcda51",
   "metadata": {},
   "outputs": [
    {
     "data": {
      "text/plain": [
       "bool"
      ]
     },
     "execution_count": 202,
     "metadata": {},
     "output_type": "execute_result"
    }
   ],
   "source": [
    "bool"
   ]
  },
  {
   "cell_type": "code",
   "execution_count": 203,
   "id": "91a70e48-a66c-48e9-88aa-ce50144148f7",
   "metadata": {},
   "outputs": [
    {
     "data": {
      "text/plain": [
       "True"
      ]
     },
     "execution_count": 203,
     "metadata": {},
     "output_type": "execute_result"
    }
   ],
   "source": [
    "True"
   ]
  },
  {
   "cell_type": "code",
   "execution_count": 204,
   "id": "e549bb94-60cf-4cbe-93eb-53c0704bf434",
   "metadata": {},
   "outputs": [
    {
     "data": {
      "text/plain": [
       "bool"
      ]
     },
     "execution_count": 204,
     "metadata": {},
     "output_type": "execute_result"
    }
   ],
   "source": [
    "type(True)"
   ]
  },
  {
   "cell_type": "code",
   "execution_count": 205,
   "id": "6df7c1af-4471-41a7-9b42-786c09647492",
   "metadata": {},
   "outputs": [
    {
     "name": "stdout",
     "output_type": "stream",
     "text": [
      "False\n"
     ]
    }
   ],
   "source": [
    "print(3==5)"
   ]
  },
  {
   "cell_type": "code",
   "execution_count": 206,
   "id": "530db567-1486-421f-be8b-d55f21cfa1fb",
   "metadata": {},
   "outputs": [
    {
     "name": "stdout",
     "output_type": "stream",
     "text": [
      "True\n"
     ]
    }
   ],
   "source": [
    "print ((3 == 3) and (4 != 3))"
   ]
  },
  {
   "cell_type": "code",
   "execution_count": 208,
   "id": "b46e24f3-5fa9-4733-8890-a062e5a25b2f",
   "metadata": {},
   "outputs": [
    {
     "name": "stdout",
     "output_type": "stream",
     "text": [
      "False\n"
     ]
    }
   ],
   "source": [
    "print(3 >= 4)"
   ]
  },
  {
   "cell_type": "code",
   "execution_count": 210,
   "id": "21ba08cc-9ecc-47f2-8635-ea50e7946be6",
   "metadata": {},
   "outputs": [],
   "source": [
    "if 4 < 3:\n",
    "    print(\"Hello World\")"
   ]
  },
  {
   "cell_type": "code",
   "execution_count": 211,
   "id": "116e03e8-d2a9-4dab-a87d-87b6c04ab2e8",
   "metadata": {},
   "outputs": [
    {
     "name": "stdout",
     "output_type": "stream",
     "text": [
      "Hi, there.\n"
     ]
    }
   ],
   "source": [
    "if 4 < 3:\n",
    "    print(\"Hello World.\")\n",
    "else:\n",
    "    print(\"Hi, there.\")"
   ]
  },
  {
   "cell_type": "code",
   "execution_count": 212,
   "id": "26290163-738d-425a-a2ef-46b19a5e8856",
   "metadata": {},
   "outputs": [
    {
     "name": "stdout",
     "output_type": "stream",
     "text": [
      "1\n",
      "2\n",
      "4\n"
     ]
    }
   ],
   "source": [
    "if True :\n",
    "    print (\"1\")\n",
    "    print (\"2\")\n",
    "else :\n",
    "    print(\"3\")\n",
    "print(\"4\")"
   ]
  },
  {
   "cell_type": "code",
   "execution_count": 213,
   "id": "34b41a34-fa74-4e98-b920-fdbaae50df23",
   "metadata": {},
   "outputs": [
    {
     "name": "stdout",
     "output_type": "stream",
     "text": [
      "3\n",
      "5\n"
     ]
    }
   ],
   "source": [
    "if True :\n",
    "    if False:\n",
    "        print(\"1\")\n",
    "        print(\"2\")\n",
    "    else:\n",
    "        print(\"3\")\n",
    "else :\n",
    "    print(\"4\")\n",
    "print(\"5\")"
   ]
  },
  {
   "cell_type": "code",
   "execution_count": 214,
   "id": "120564b3-57e7-4d85-beef-8dd8cd02db1e",
   "metadata": {},
   "outputs": [
    {
     "name": "stdin",
     "output_type": "stream",
     "text": [
      "ㅇㄴ 안녕하세요\n"
     ]
    }
   ],
   "source": [
    "text=input('ㅇㄴ')"
   ]
  },
  {
   "cell_type": "code",
   "execution_count": 215,
   "id": "4768eef0-f44c-4840-a109-0eb2b835e463",
   "metadata": {},
   "outputs": [
    {
     "data": {
      "text/plain": [
       "'안녕하세요안녕하세요'"
      ]
     },
     "execution_count": 215,
     "metadata": {},
     "output_type": "execute_result"
    }
   ],
   "source": [
    "text*2"
   ]
  },
  {
   "cell_type": "code",
   "execution_count": 216,
   "id": "b964baa6-a35e-466b-b8b9-243981216ab1",
   "metadata": {},
   "outputs": [
    {
     "name": "stdout",
     "output_type": "stream",
     "text": [
      "안녕하세요안녕하세요\n"
     ]
    }
   ],
   "source": [
    "print(text*2)"
   ]
  },
  {
   "cell_type": "code",
   "execution_count": 217,
   "id": "34ebc54f-23b7-4d37-87bd-4cf02244c098",
   "metadata": {},
   "outputs": [
    {
     "name": "stdin",
     "output_type": "stream",
     "text": [
      "ssss 17\n"
     ]
    }
   ],
   "source": [
    "text=input('ssss')"
   ]
  },
  {
   "cell_type": "code",
   "execution_count": 222,
   "id": "76f34f38-3a06-4587-a728-8d506e08cf75",
   "metadata": {},
   "outputs": [
    {
     "name": "stdout",
     "output_type": "stream",
     "text": [
      "홀수\n"
     ]
    }
   ],
   "source": [
    "if int(text)%2 ==0:\n",
    "    print('짝수')\n",
    "else:\n",
    "    print('홀수')"
   ]
  },
  {
   "cell_type": "code",
   "execution_count": 219,
   "id": "add068db-e299-4c77-a1a2-4e288848ceef",
   "metadata": {},
   "outputs": [
    {
     "data": {
      "text/plain": [
       "'17'"
      ]
     },
     "execution_count": 219,
     "metadata": {},
     "output_type": "execute_result"
    }
   ],
   "source": [
    "text"
   ]
  },
  {
   "cell_type": "code",
   "execution_count": 230,
   "id": "9fc5a139-c7a6-46df-8384-32a01ba6edac",
   "metadata": {},
   "outputs": [
    {
     "name": "stdin",
     "output_type": "stream",
     "text": [
      " 12\n"
     ]
    }
   ],
   "source": [
    "um=input('')"
   ]
  },
  {
   "cell_type": "code",
   "execution_count": 232,
   "id": "6c3e33ac-cbdd-4705-8534-f690f3fdc310",
   "metadata": {},
   "outputs": [
    {
     "name": "stdout",
     "output_type": "stream",
     "text": [
      "32\n"
     ]
    }
   ],
   "source": [
    "if int(um)+20<255:\n",
    "    print(int(um)+20)\n",
    "else:\n",
    "    print(255)"
   ]
  },
  {
   "cell_type": "code",
   "execution_count": 240,
   "id": "e7a9cccb-588c-479c-9157-a51396186d6a",
   "metadata": {},
   "outputs": [
    {
     "name": "stdin",
     "output_type": "stream",
     "text": [
      " 299\n"
     ]
    }
   ],
   "source": [
    "tex=input('')"
   ]
  },
  {
   "cell_type": "code",
   "execution_count": 241,
   "id": "cc66a965-5a98-41f7-aeba-3cd23650b468",
   "metadata": {},
   "outputs": [
    {
     "name": "stdout",
     "output_type": "stream",
     "text": [
      "255\n"
     ]
    }
   ],
   "source": [
    "if int(tex)-20<0:\n",
    "    print(0)\n",
    "elif int(tex)-20>255:\n",
    "    print(255)\n",
    "else:\n",
    "    print(int(tex))"
   ]
  },
  {
   "cell_type": "code",
   "execution_count": 259,
   "id": "1e98906a-2341-49bb-ab68-efb904f9722a",
   "metadata": {},
   "outputs": [
    {
     "name": "stdin",
     "output_type": "stream",
     "text": [
      "ssss 10:00\n"
     ]
    }
   ],
   "source": [
    "time=input('ssss')"
   ]
  },
  {
   "cell_type": "code",
   "execution_count": 267,
   "id": "554c980f-3b05-4351-b0d7-269ac2482ccf",
   "metadata": {},
   "outputs": [
    {
     "name": "stdout",
     "output_type": "stream",
     "text": [
      "not\n"
     ]
    }
   ],
   "source": [
    "if int(time.find(':')+1)==0:\n",
    "    print('정각')\n",
    "elif int(time.find(':')+2)==0:\n",
    "    print('정각')\n",
    "else:\n",
    "    print('not')"
   ]
  },
  {
   "cell_type": "code",
   "execution_count": 268,
   "id": "8f081d01-e261-486b-8253-3248601c807c",
   "metadata": {},
   "outputs": [
    {
     "name": "stdout",
     "output_type": "stream",
     "text": [
      "4\n"
     ]
    }
   ],
   "source": [
    "print(int(time.find(':')+2))"
   ]
  },
  {
   "cell_type": "code",
   "execution_count": 266,
   "id": "11c74129-da87-404e-a245-619a89a9de01",
   "metadata": {},
   "outputs": [
    {
     "data": {
      "text/plain": [
       "'10:00'"
      ]
     },
     "execution_count": 266,
     "metadata": {},
     "output_type": "execute_result"
    }
   ],
   "source": [
    "time"
   ]
  },
  {
   "cell_type": "code",
   "execution_count": 273,
   "id": "ea2dbf86-379f-4a0d-ae1e-ea74cfb2b01b",
   "metadata": {},
   "outputs": [],
   "source": [
    "fruit = [\"사과\", \"포도\", \"홍시\"]"
   ]
  },
  {
   "cell_type": "code",
   "execution_count": 276,
   "id": "32d7a83e-9608-4511-82d4-94eb6bf95cc5",
   "metadata": {},
   "outputs": [
    {
     "name": "stdin",
     "output_type": "stream",
     "text": [
      "sss 청포도\n"
     ]
    }
   ],
   "source": [
    "fr=input('sss')"
   ]
  },
  {
   "cell_type": "code",
   "execution_count": 277,
   "id": "175c98b4-6ba6-412b-a71b-fa9c715fc92b",
   "metadata": {},
   "outputs": [
    {
     "name": "stdout",
     "output_type": "stream",
     "text": [
      "xxx\n"
     ]
    }
   ],
   "source": [
    "if fr in fruit:\n",
    "    print('ooo')\n",
    "else:\n",
    "    print('xxx')"
   ]
  },
  {
   "cell_type": "code",
   "execution_count": 281,
   "id": "fc18ab9b-c855-46b8-ac7f-493562879f06",
   "metadata": {},
   "outputs": [],
   "source": [
    "fruit = {\"봄\" : \"딸기\", \"여름\" : \"토마토\", \"가을\" : \"사과\"}"
   ]
  },
  {
   "cell_type": "code",
   "execution_count": 291,
   "id": "59ae8872-aaef-4538-8040-54ad41e4149a",
   "metadata": {},
   "outputs": [
    {
     "name": "stdin",
     "output_type": "stream",
     "text": [
      "ss 봄\n"
     ]
    }
   ],
   "source": [
    "fr=input('ss')"
   ]
  },
  {
   "cell_type": "code",
   "execution_count": 292,
   "id": "e88920a1-d9b1-4d20-a4f0-b255e4144ccc",
   "metadata": {},
   "outputs": [
    {
     "name": "stdout",
     "output_type": "stream",
     "text": [
      "ooo\n"
     ]
    }
   ],
   "source": [
    "if fr in fruit.keys():\n",
    "    print('ooo')\n",
    "else:\n",
    "    print('xxx')"
   ]
  },
  {
   "cell_type": "code",
   "execution_count": 284,
   "id": "659ec00c-7fc2-4ca5-8447-42c278cdbd54",
   "metadata": {},
   "outputs": [
    {
     "data": {
      "text/plain": [
       "dict_keys(['봄', '여름', '가을'])"
      ]
     },
     "execution_count": 284,
     "metadata": {},
     "output_type": "execute_result"
    }
   ],
   "source": [
    "fruit.keys()"
   ]
  },
  {
   "cell_type": "code",
   "execution_count": 293,
   "id": "4f14491a-6499-442c-93c7-6050ee257510",
   "metadata": {},
   "outputs": [],
   "source": [
    "fruit = {\"봄\" : \"딸기\", \"여름\" : \"토마토\", \"가을\" : \"사과\"}"
   ]
  },
  {
   "cell_type": "code",
   "execution_count": 296,
   "id": "ef4d5746-e7f0-4aa2-afae-d3151390ac62",
   "metadata": {},
   "outputs": [
    {
     "name": "stdin",
     "output_type": "stream",
     "text": [
      "ss 가을\n"
     ]
    }
   ],
   "source": [
    "fr=input('ss')"
   ]
  },
  {
   "cell_type": "code",
   "execution_count": 297,
   "id": "5f5c776e-de66-4cbf-8643-1b33baaf8a73",
   "metadata": {},
   "outputs": [
    {
     "name": "stdout",
     "output_type": "stream",
     "text": [
      "xxx\n"
     ]
    }
   ],
   "source": [
    "if fr in fruit.values():\n",
    "    print('ooo')\n",
    "else:\n",
    "    print('xxx')"
   ]
  },
  {
   "cell_type": "code",
   "execution_count": 309,
   "id": "4ca891f8-d84f-4701-b9d7-d7f436f43f40",
   "metadata": {},
   "outputs": [
    {
     "name": "stdin",
     "output_type": "stream",
     "text": [
      "aaaa AAAAAAA\n"
     ]
    }
   ],
   "source": [
    "aa=input('aaaa')"
   ]
  },
  {
   "cell_type": "code",
   "execution_count": 305,
   "id": "fc9f0b29-0057-4480-81fc-17f026e4da41",
   "metadata": {},
   "outputs": [
    {
     "data": {
      "text/plain": [
       "False"
      ]
     },
     "execution_count": 305,
     "metadata": {},
     "output_type": "execute_result"
    }
   ],
   "source": [
    "aa.islower()"
   ]
  },
  {
   "cell_type": "code",
   "execution_count": 310,
   "id": "b1c93e88-de19-4733-b38f-539fb1197dd8",
   "metadata": {},
   "outputs": [
    {
     "name": "stdout",
     "output_type": "stream",
     "text": [
      "aaaaaaa\n"
     ]
    }
   ],
   "source": [
    "if aa.islower()==True:\n",
    "    print(aa.upper())\n",
    "else:\n",
    "    print(aa.lower())"
   ]
  },
  {
   "cell_type": "code",
   "execution_count": 328,
   "id": "0c97ce02-0fcc-4851-be51-505023a53240",
   "metadata": {},
   "outputs": [
    {
     "ename": "SyntaxError",
     "evalue": "EOL while scanning string literal (2598265706.py, line 4)",
     "output_type": "error",
     "traceback": [
      "\u001b[1;36m  Input \u001b[1;32mIn [328]\u001b[1;36m\u001b[0m\n\u001b[1;33m    \"21~40':'D'\u001b[0m\n\u001b[1;37m               ^\u001b[0m\n\u001b[1;31mSyntaxError\u001b[0m\u001b[1;31m:\u001b[0m EOL while scanning string literal\n"
     ]
    }
   ],
   "source": [
    "dic={'81~100':'A',\n",
    "     '61~80':'B',\n",
    "     '41~60':'C',\n",
    "     '21~40':'D',\n",
    "     \n",
    "    }"
   ]
  },
  {
   "cell_type": "code",
   "execution_count": 320,
   "id": "3e94344d-59b2-43be-b03d-12574082303c",
   "metadata": {},
   "outputs": [
    {
     "data": {
      "text/plain": [
       "'A'"
      ]
     },
     "execution_count": 320,
     "metadata": {},
     "output_type": "execute_result"
    }
   ],
   "source": [
    "dic['81~100']"
   ]
  },
  {
   "cell_type": "code",
   "execution_count": 330,
   "id": "d961b7b9-21af-44ee-88f8-0439fda893fd",
   "metadata": {},
   "outputs": [
    {
     "name": "stdin",
     "output_type": "stream",
     "text": [
      "점수 98\n"
     ]
    },
    {
     "name": "stdout",
     "output_type": "stream",
     "text": [
      "A\n"
     ]
    }
   ],
   "source": [
    "score = input('점수')\n",
    "score_int = int(score)\n",
    "\n",
    "if 0 <= score_int <20:\n",
    "    print('A')\n",
    "elif 21 <= score_int <40:\n",
    "    print('B')\n",
    "elif 41 <= score_int <60:\n",
    "    print('C')\n",
    "elif 61 <= score_int <80:\n",
    "    print('B')\n",
    "elif 81 <= score_int <100:\n",
    "    print('A')    "
   ]
  },
  {
   "cell_type": "code",
   "execution_count": 3,
   "id": "54622a55-8169-49d0-9216-da0a649b9f1a",
   "metadata": {},
   "outputs": [
    {
     "name": "stdin",
     "output_type": "stream",
     "text": [
      "돈: 101\n"
     ]
    }
   ],
   "source": [
    "money=input('돈:')\n",
    "money_int=int(money)\n",
    "ex={'달러':1167,\n",
    "    '엔':1.096,\n",
    "    '유로':1268,\n",
    "    '위안':171}\n"
   ]
  },
  {
   "cell_type": "code",
   "execution_count": 11,
   "id": "9d91950c-6e65-44c2-9e61-b216e50ec89f",
   "metadata": {},
   "outputs": [
    {
     "name": "stdin",
     "output_type": "stream",
     "text": [
      "돈: 132 위안\n"
     ]
    },
    {
     "name": "stdout",
     "output_type": "stream",
     "text": [
      "22572.0 원\n"
     ]
    }
   ],
   "source": [
    "money=input('돈:')\n",
    "\n",
    "ex={'달러':1167,\n",
    "    '엔':1.096,\n",
    "    '유로':1268,\n",
    "    '위안':171}\n",
    "s,d= money.split()\n",
    "print(float(s)*ex[d],'원')"
   ]
  },
  {
   "cell_type": "code",
   "execution_count": 28,
   "id": "90186a95-15fe-4909-abe6-8d7481ce9571",
   "metadata": {},
   "outputs": [
    {
     "name": "stdin",
     "output_type": "stream",
     "text": [
      "돈: 100 유로\n"
     ]
    },
    {
     "name": "stdout",
     "output_type": "stream",
     "text": [
      "126800.0 우\n"
     ]
    }
   ],
   "source": [
    "money=input('돈:')\n",
    "\n",
    "ex={'달러':1167,\n",
    "    '엔':1.096,\n",
    "    '유로':1268,\n",
    "    '위안':171}\n",
    "s,d=money.split()\n",
    "print(float(s)*ex[d],'우')"
   ]
  },
  {
   "cell_type": "code",
   "execution_count": 30,
   "id": "52311f4e-b8f3-4dd6-a779-f936c383c872",
   "metadata": {},
   "outputs": [
    {
     "data": {
      "text/plain": [
       "'100'"
      ]
     },
     "execution_count": 30,
     "metadata": {},
     "output_type": "execute_result"
    }
   ],
   "source": [
    "s"
   ]
  },
  {
   "cell_type": "code",
   "execution_count": 31,
   "id": "0d996fea-68b2-4a82-b758-6f39c1cc10d5",
   "metadata": {},
   "outputs": [
    {
     "data": {
      "text/plain": [
       "'유로'"
      ]
     },
     "execution_count": 31,
     "metadata": {},
     "output_type": "execute_result"
    }
   ],
   "source": [
    "d"
   ]
  },
  {
   "cell_type": "code",
   "execution_count": 34,
   "id": "eaf59b24-ac3f-4129-8389-2047557f7017",
   "metadata": {},
   "outputs": [
    {
     "data": {
      "text/plain": [
       "'100 유로'"
      ]
     },
     "execution_count": 34,
     "metadata": {},
     "output_type": "execute_result"
    }
   ],
   "source": [
    "str(money)"
   ]
  },
  {
   "cell_type": "code",
   "execution_count": 46,
   "id": "a8658548-3156-4571-943f-77ea55334040",
   "metadata": {},
   "outputs": [
    {
     "ename": "SyntaxError",
     "evalue": "invalid syntax (2846427561.py, line 1)",
     "output_type": "error",
     "traceback": [
      "\u001b[1;36m  Input \u001b[1;32mIn [46]\u001b[1;36m\u001b[0m\n\u001b[1;33m    input number1: 10\u001b[0m\n\u001b[1;37m          ^\u001b[0m\n\u001b[1;31mSyntaxError\u001b[0m\u001b[1;31m:\u001b[0m invalid syntax\n"
     ]
    }
   ],
   "source": [
    "input number1: 10\n",
    "input number2: 9\n",
    "input number3: 20\n"
   ]
  },
  {
   "cell_type": "code",
   "execution_count": 47,
   "id": "336346cf-ced9-4eaf-a9cf-16b7b8858870",
   "metadata": {},
   "outputs": [
    {
     "name": "stdin",
     "output_type": "stream",
     "text": [
      "1 10\n",
      "2 9\n",
      "3 20\n"
     ]
    },
    {
     "name": "stdout",
     "output_type": "stream",
     "text": [
      "20\n"
     ]
    }
   ],
   "source": [
    "a=input('1')\n",
    "b=input('2')\n",
    "c=input('3')\n",
    "A=int(a)\n",
    "B=int(b)\n",
    "C=int(c)\n",
    "print(max(A,B,C))"
   ]
  },
  {
   "cell_type": "code",
   "execution_count": 48,
   "id": "af2c9624-9890-4afc-82f0-0a3ba0f9bc0c",
   "metadata": {},
   "outputs": [
    {
     "name": "stdin",
     "output_type": "stream",
     "text": [
      "1 9\n",
      "2 10\n",
      "3 20\n"
     ]
    },
    {
     "name": "stdout",
     "output_type": "stream",
     "text": [
      "20\n"
     ]
    }
   ],
   "source": [
    "a=input('1')\n",
    "b=input('2')\n",
    "c=input('3')\n",
    "A=int(a)\n",
    "B=int(b)\n",
    "C=int(c)\n",
    "if A>B and A>C:\n",
    "    print(A)\n",
    "elif B>A and B>C:\n",
    "    print(B)\n",
    "else:\n",
    "    print(C)\n",
    "    "
   ]
  },
  {
   "cell_type": "code",
   "execution_count": 64,
   "id": "f0bac647-4a2e-4d75-a169-f0edb5a989a6",
   "metadata": {},
   "outputs": [
    {
     "name": "stdin",
     "output_type": "stream",
     "text": [
      "번호를 입력하세요 111\n"
     ]
    },
    {
     "name": "stdout",
     "output_type": "stream",
     "text": [
      "error\n"
     ]
    }
   ],
   "source": [
    "#125\n",
    "phone_num=input('번호를 입력하세요')\n",
    "str(phone_num).split()\n",
    "hnum=phone_num[0:3]\n",
    "if hnum=='011':\n",
    "    print(\"SKT\")\n",
    "elif hnum=='016':\n",
    "    print('KT')\n",
    "elif hnum=='019':\n",
    "    print('LGU')\n",
    "else:\n",
    "    print('error')\n",
    "    "
   ]
  },
  {
   "cell_type": "code",
   "execution_count": 75,
   "id": "c30916fb-ad98-436a-bc26-cc8c2b438e8b",
   "metadata": {},
   "outputs": [
    {
     "name": "stdin",
     "output_type": "stream",
     "text": [
      "우편번호 01000\n"
     ]
    },
    {
     "name": "stdout",
     "output_type": "stream",
     "text": [
      "강북구\n"
     ]
    }
   ],
   "source": [
    "#126\n",
    "mail_num=input('우편번호')\n",
    "str(mail_num).split()\n",
    "num=str(mail_num)[0:3]\n",
    "if num=='010' or '011' or '012':\n",
    "    print('강북구')\n",
    "elif num=='013' or '014' or '015':\n",
    "    print('도봉구')\n",
    "elif num=='016' or '017' or '018' or '019':\n",
    "    print('노원구')    "
   ]
  },
  {
   "cell_type": "code",
   "execution_count": 10,
   "id": "202f11ad-82db-4e55-b786-cda9433b70b8",
   "metadata": {},
   "outputs": [
    {
     "name": "stdin",
     "output_type": "stream",
     "text": [
      "주민번호  90000-400000\n"
     ]
    },
    {
     "name": "stdout",
     "output_type": "stream",
     "text": [
      "f\n"
     ]
    }
   ],
   "source": [
    "#127 90000-100000\n",
    "id_num=input('주민번호')\n",
    "\n",
    "ID_num=id_num[id_num.find('-')+1]\n",
    "IN=int(ID_num)\n",
    "\n",
    "if IN==1 or IN==3:\n",
    "    print('m')\n",
    "else:\n",
    "    print('f')"
   ]
  },
  {
   "cell_type": "code",
   "execution_count": 7,
   "id": "4f2c25e8-4d94-49dc-b1c3-483d05d3edfa",
   "metadata": {},
   "outputs": [
    {
     "data": {
      "text/plain": [
       "'1'"
      ]
     },
     "execution_count": 7,
     "metadata": {},
     "output_type": "execute_result"
    }
   ],
   "source": [
    "ID_num"
   ]
  },
  {
   "cell_type": "code",
   "execution_count": 44,
   "id": "91dbcf60-d209-4b1e-88e1-22e0ae985125",
   "metadata": {},
   "outputs": [
    {
     "name": "stdin",
     "output_type": "stream",
     "text": [
      "주민번호 950202-114021\n"
     ]
    },
    {
     "name": "stdout",
     "output_type": "stream",
     "text": [
      "busan\n"
     ]
    }
   ],
   "source": [
    "#128\n",
    "id_num=input('주민번호')\n",
    "ID_num=id_num.split('-')[1]\n",
    "back=int(ID_num[1:3])\n",
    "if back<=8:\n",
    "    print('seoul')\n",
    "else:\n",
    "    print('busan')"
   ]
  },
  {
   "cell_type": "code",
   "execution_count": 49,
   "id": "243b7b7e-cf6c-4e16-9b05-0995c5463916",
   "metadata": {},
   "outputs": [
    {
     "name": "stdin",
     "output_type": "stream",
     "text": [
      "주민등록번호:  821010-1635210\n"
     ]
    },
    {
     "name": "stdout",
     "output_type": "stream",
     "text": [
      "유효하지 않은 주민등록번호입니다.\n"
     ]
    }
   ],
   "source": [
    "\n",
    "num = input(\"주민등록번호: \")\n",
    "calc1 = int(num[0]) * 2 + int(num[1]) * 3 + int(num[2]) * 4 + int(num[3]) * 5 + int(num[4]) * 6 + \\\n",
    "        int(num[5]) * 7 + int(num[7]) * 8 + int(num[8]) * 9 + int(num[9]) * 2 + int(num[10])* 3 + \\\n",
    "        int(num[11])* 4 + int(num[12]) * 5\n",
    "calc2 = 11 - (calc1 % 11)\n",
    "calc3 = str(calc2)\n",
    "\n",
    "if num[-1] == calc3[-1]:\n",
    "    print(\"유효한 주민등록번호입니다.\")\n",
    "else:\n",
    "    print(\"유효하지 않은 주민등록번호입니다.\")"
   ]
  },
  {
   "cell_type": "code",
   "execution_count": 51,
   "id": "38e362ef-6f7f-4662-b86d-47666c306ec3",
   "metadata": {},
   "outputs": [],
   "source": [
    "import requests\n",
    "btc = requests.get(\"https://api.bithumb.com/public/ticker/\").json()['data']"
   ]
  },
  {
   "cell_type": "code",
   "execution_count": 52,
   "id": "449ac21c-0f24-4fd5-93ac-187d25ce21be",
   "metadata": {},
   "outputs": [
    {
     "name": "stdout",
     "output_type": "stream",
     "text": [
      "사과\n",
      "귤\n",
      "수박\n"
     ]
    }
   ],
   "source": [
    "과일 = [\"사과\", \"귤\", \"수박\"]\n",
    "for 변수 in 과일:\n",
    "    print(변수)"
   ]
  },
  {
   "cell_type": "code",
   "execution_count": 57,
   "id": "6c59f9ad-8e32-4c8c-8671-031f08b3f8a7",
   "metadata": {},
   "outputs": [
    {
     "name": "stdout",
     "output_type": "stream",
     "text": [
      "#####\n",
      "#####\n",
      "#####\n"
     ]
    }
   ],
   "source": [
    "과일 = [\"사과\", \"귤\", \"수박\"]\n",
    "for 변수 in 과일:\n",
    "    print(\"#####\")"
   ]
  },
  {
   "cell_type": "code",
   "execution_count": 56,
   "id": "fe3adde2-a2f8-45d0-851d-fcb097049c22",
   "metadata": {},
   "outputs": [
    {
     "name": "stdout",
     "output_type": "stream",
     "text": [
      "출력: A\n",
      "출력: B\n",
      "출력: C\n"
     ]
    }
   ],
   "source": [
    "for 변수 in [\"A\", \"B\", \"C\"]:\n",
    "    print(\"출력:\", 변수)"
   ]
  },
  {
   "cell_type": "code",
   "execution_count": 58,
   "id": "2298a337-fba2-401b-8f95-2ace0068ddd4",
   "metadata": {},
   "outputs": [
    {
     "name": "stdout",
     "output_type": "stream",
     "text": [
      "변환: a\n",
      "변환: b\n",
      "변환: c\n"
     ]
    }
   ],
   "source": [
    "for 변수 in [\"A\", \"B\", \"C\"]:\n",
    "    b = 변수.lower()\n",
    "    print(\"변환:\", b)\n"
   ]
  },
  {
   "cell_type": "code",
   "execution_count": 62,
   "id": "a7cb8513-d398-45c5-a841-5e1cd35abd8c",
   "metadata": {},
   "outputs": [
    {
     "name": "stdout",
     "output_type": "stream",
     "text": [
      "오늘의 메뉴: 김밥\n",
      "오늘의 메뉴: 라면\n",
      "오늘의 메뉴: 튀김\n"
     ]
    }
   ],
   "source": [
    "list_1 = [\"김밥\", \"라면\", \"튀김\"]\n",
    "for i in list_1:\n",
    "    print('오늘의 메뉴:', i)"
   ]
  },
  {
   "cell_type": "code",
   "execution_count": 64,
   "id": "4491d644-e948-4e33-a5f6-90ab7a737208",
   "metadata": {},
   "outputs": [
    {
     "name": "stdout",
     "output_type": "stream",
     "text": [
      "6\n",
      "4\n",
      "4\n"
     ]
    }
   ],
   "source": [
    "list_2= [\"SK하이닉스\", \"삼성전자\", \"LG전자\"]\n",
    "for i in list_2:\n",
    "    print(len(i))\n"
   ]
  },
  {
   "cell_type": "code",
   "execution_count": 65,
   "id": "500d6416-7b89-464c-a8be-3db3ae2f5da2",
   "metadata": {},
   "outputs": [
    {
     "name": "stdout",
     "output_type": "stream",
     "text": [
      "dog 3\n",
      "cat 3\n",
      "parrot 6\n"
     ]
    }
   ],
   "source": [
    "list_3= ['dog', 'cat', 'parrot']\n",
    "for i in list_3:\n",
    "    print(i,len(i))"
   ]
  },
  {
   "cell_type": "code",
   "execution_count": 66,
   "id": "9e38e769-93d8-4ab1-9624-9b34f3bc2c04",
   "metadata": {},
   "outputs": [
    {
     "name": "stdout",
     "output_type": "stream",
     "text": [
      "d\n",
      "c\n",
      "p\n"
     ]
    }
   ],
   "source": [
    "for i in list_3:\n",
    "    print(i[0])"
   ]
  },
  {
   "cell_type": "code",
   "execution_count": 68,
   "id": "8a521cea-f947-409e-926f-698cb78641de",
   "metadata": {},
   "outputs": [
    {
     "name": "stdout",
     "output_type": "stream",
     "text": [
      "3 x 1\n",
      "3 x 2\n",
      "3 x 3\n"
     ]
    }
   ],
   "source": [
    "list_4 = [1, 2, 3]\n",
    "for i in list_4:\n",
    "    print('3 x',i)"
   ]
  },
  {
   "cell_type": "code",
   "execution_count": 73,
   "id": "32f6872c-31ae-421e-8e41-4d2129eafe95",
   "metadata": {},
   "outputs": [
    {
     "name": "stdout",
     "output_type": "stream",
     "text": [
      "3 x 1 = 3\n",
      "3 x 2 = 6\n",
      "3 x 3 = 9\n"
     ]
    }
   ],
   "source": [
    "for i in list_4:\n",
    "    print('3 x',i,'=',3*int(i))"
   ]
  },
  {
   "cell_type": "code",
   "execution_count": 92,
   "id": "5aa786f7-4ddc-4acb-9903-4b378b272581",
   "metadata": {},
   "outputs": [
    {
     "name": "stdout",
     "output_type": "stream",
     "text": [
      "나\n",
      "다\n",
      "라\n"
     ]
    }
   ],
   "source": [
    "list_5 = [\"가\", \"나\", \"다\", \"라\"]\n",
    "for i in list_5[1:]:\n",
    "    print(i)\n",
    "  \n"
   ]
  },
  {
   "cell_type": "code",
   "execution_count": 95,
   "id": "64259fb2-d938-4b88-919a-ead17fc8d825",
   "metadata": {},
   "outputs": [
    {
     "name": "stdout",
     "output_type": "stream",
     "text": [
      "가\n",
      "다\n"
     ]
    }
   ],
   "source": [
    "list_6= [\"가\", \"나\", \"다\", \"라\"]\n",
    "for i in list_6[::2]:\n",
    "    print(i)"
   ]
  },
  {
   "cell_type": "code",
   "execution_count": 96,
   "id": "79187d86-55d7-4f77-bd90-11b937b8c4cc",
   "metadata": {},
   "outputs": [
    {
     "name": "stdout",
     "output_type": "stream",
     "text": [
      "라\n",
      "다\n",
      "나\n",
      "가\n"
     ]
    }
   ],
   "source": [
    "list_7= [\"가\", \"나\", \"다\", \"라\"]\n",
    "for i in list_7[::-1]:\n",
    "    print(i)"
   ]
  },
  {
   "cell_type": "code",
   "execution_count": 97,
   "id": "eddd3a6a-ab2c-4b6d-b2f1-52fc1d5ca0c9",
   "metadata": {},
   "outputs": [
    {
     "name": "stdout",
     "output_type": "stream",
     "text": [
      "-20\n",
      "-3\n"
     ]
    }
   ],
   "source": [
    "list_8= [3, -20, -3, 44]\n",
    "for i in list_8:\n",
    "    if i<0:\n",
    "        print(i)"
   ]
  },
  {
   "cell_type": "code",
   "execution_count": 98,
   "id": "3bc479f7-39b5-4658-947e-3465bae64fdc",
   "metadata": {},
   "outputs": [
    {
     "name": "stdout",
     "output_type": "stream",
     "text": [
      "3\n"
     ]
    }
   ],
   "source": [
    "list_9 = [3, 100, 23, 44]\n",
    "for i in list_9:\n",
    "    if i%3==0:\n",
    "        print(i)"
   ]
  },
  {
   "cell_type": "code",
   "execution_count": 104,
   "id": "ff5c5f4b-aa12-431e-81c2-8b5133979d51",
   "metadata": {},
   "outputs": [
    {
     "name": "stdout",
     "output_type": "stream",
     "text": [
      "12\n",
      "18\n"
     ]
    }
   ],
   "source": [
    "list_10= [13, 21, 12, 14, 30, 18]\n",
    "for i in list_10:\n",
    "    if (i%3==0) & (i<20) :#반드시 ()생각할 것!!!!!!!!!!!!!!!!!!!!!!!\n",
    "        print(i)"
   ]
  },
  {
   "cell_type": "code",
   "execution_count": 105,
   "id": "31f02074-c460-4db6-ad1f-7b42f95f3117",
   "metadata": {},
   "outputs": [
    {
     "name": "stdout",
     "output_type": "stream",
     "text": [
      "study\n",
      "python\n",
      "language\n"
     ]
    }
   ],
   "source": [
    "list_11 = [\"I\", \"study\", \"python\", \"language\", \"!\"]\n",
    "for i in list_11:\n",
    "    if len(i)>=3:\n",
    "        print(i)"
   ]
  },
  {
   "cell_type": "code",
   "execution_count": 108,
   "id": "5b4b00e7-dc7e-4e1e-b33e-a98ff5a0ab2c",
   "metadata": {},
   "outputs": [
    {
     "name": "stdout",
     "output_type": "stream",
     "text": [
      "A\n",
      "D\n"
     ]
    }
   ],
   "source": [
    "list_12= [\"A\", \"b\", \"c\", \"D\"]\n",
    "for i in list_12:\n",
    "    if i.isupper():\n",
    "        print(i)"
   ]
  },
  {
   "cell_type": "code",
   "execution_count": 110,
   "id": "1d5c2df0-43e8-4bd5-9cae-02a193f58904",
   "metadata": {},
   "outputs": [
    {
     "name": "stdout",
     "output_type": "stream",
     "text": [
      "b\n",
      "c\n"
     ]
    }
   ],
   "source": [
    "list_13= [\"A\", \"b\", \"c\", \"D\"]\n",
    "for i in list_13:\n",
    "    if i.islower():\n",
    "        print(i)"
   ]
  },
  {
   "cell_type": "code",
   "execution_count": 3,
   "id": "f088c271-81ee-411d-b384-19f277e29338",
   "metadata": {},
   "outputs": [
    {
     "name": "stdout",
     "output_type": "stream",
     "text": [
      "Dog\n",
      "Cat\n",
      "Parrot\n"
     ]
    }
   ],
   "source": [
    "list_14 = ['dog', 'cat', 'parrot']\n",
    "for i in list_14:\n",
    "    print(i[0].upper()+i[1:])\n",
    "    "
   ]
  },
  {
   "cell_type": "code",
   "execution_count": 17,
   "id": "d0d2b5af-bd65-4b02-8ed0-341b44073529",
   "metadata": {},
   "outputs": [
    {
     "name": "stdout",
     "output_type": "stream",
     "text": [
      "hello\n",
      "ex01\n",
      "intro\n"
     ]
    }
   ],
   "source": [
    "list_15 = ['hello.py', 'ex01.py', 'intro.hwp']\n",
    "for i in list_15:\n",
    "    I= i.split('.')\n",
    "    print(I[0])"
   ]
  },
  {
   "cell_type": "code",
   "execution_count": 29,
   "id": "c9952916-2131-4398-b5f7-acea42d19c07",
   "metadata": {},
   "outputs": [
    {
     "ename": "AttributeError",
     "evalue": "'list' object has no attribute 'split'",
     "output_type": "error",
     "traceback": [
      "\u001b[1;31m---------------------------------------------------------------------------\u001b[0m",
      "\u001b[1;31mAttributeError\u001b[0m                            Traceback (most recent call last)",
      "Input \u001b[1;32mIn [29]\u001b[0m, in \u001b[0;36m<cell line: 2>\u001b[1;34m()\u001b[0m\n\u001b[0;32m      1\u001b[0m LS\u001b[38;5;241m=\u001b[39mlist_15[\u001b[38;5;241m0\u001b[39m]\u001b[38;5;241m.\u001b[39msplit()\n\u001b[1;32m----> 2\u001b[0m LS\u001b[38;5;241m=\u001b[39m\u001b[43mlist_15\u001b[49m\u001b[43m[\u001b[49m\u001b[38;5;241;43m0\u001b[39;49m\u001b[43m:\u001b[49m\u001b[38;5;241;43m2\u001b[39;49m\u001b[43m]\u001b[49m\u001b[38;5;241;43m.\u001b[39;49m\u001b[43msplit\u001b[49m()\n",
      "\u001b[1;31mAttributeError\u001b[0m: 'list' object has no attribute 'split'"
     ]
    }
   ],
   "source": [
    "LS=list_15[0].split()\n",
    "LS=list_15[0:2].split()# 이거 왜 안 되는지\n"
   ]
  },
  {
   "cell_type": "code",
   "execution_count": 36,
   "id": "dbbcb067-5fc5-4e2f-bfda-267b115106d5",
   "metadata": {},
   "outputs": [
    {
     "ename": "SyntaxError",
     "evalue": "invalid syntax (953458323.py, line 4)",
     "output_type": "error",
     "traceback": [
      "\u001b[1;36m  Input \u001b[1;32mIn [36]\u001b[1;36m\u001b[0m\n\u001b[1;33m    if\u001b[0m\n\u001b[1;37m      ^\u001b[0m\n\u001b[1;31mSyntaxError\u001b[0m\u001b[1;31m:\u001b[0m invalid syntax\n"
     ]
    }
   ],
   "source": [
    "list_16 = ['intra.h', 'intra.c', 'define.h', 'run.py']\n",
    "for i in list_16:\n",
    "    L=i.split('')\n",
    "    if\n",
    "       \n",
    "        print(I)"
   ]
  },
  {
   "cell_type": "code",
   "execution_count": 42,
   "id": "9825497c-2946-474b-be0c-c48a8d463c7d",
   "metadata": {},
   "outputs": [],
   "source": [
    " L=i.split('.')"
   ]
  },
  {
   "cell_type": "code",
   "execution_count": 48,
   "id": "067f7dfe-d3e9-4278-9074-81de4b8b0258",
   "metadata": {},
   "outputs": [
    {
     "name": "stdout",
     "output_type": "stream",
     "text": [
      "['intra', 'h']\n",
      "['define', 'h']\n"
     ]
    }
   ],
   "source": [
    "for i in list_16:\n",
    "    L=i.split('.')\n",
    "   \n",
    "    if L[1] == 'h':\n",
    "        print(L)"
   ]
  },
  {
   "cell_type": "code",
   "execution_count": 49,
   "id": "28422355-d408-431c-8f65-da6998d3da32",
   "metadata": {},
   "outputs": [
    {
     "name": "stdout",
     "output_type": "stream",
     "text": [
      "['intra', 'h']\n",
      "['intra', 'c']\n",
      "['define', 'h']\n"
     ]
    }
   ],
   "source": [
    "list_17= ['intra.h', 'intra.c', 'define.h', 'run.py']\n",
    "for i in list_17:\n",
    "    L=i.split('.')\n",
    "    if (L[1] == 'h') or (L[1] == 'c'):\n",
    "        print(L)"
   ]
  },
  {
   "cell_type": "code",
   "execution_count": 63,
   "id": "81d77e70-2b23-4083-b6ba-541b95c81698",
   "metadata": {},
   "outputs": [
    {
     "name": "stdout",
     "output_type": "stream",
     "text": [
      "0 1 2 3 4 5 6 7 8 9 10 11 12 13 14 15 16 17 18 19 20 21 22 23 24 25 26 27 28 29 30 31 32 33 34 35 36 37 38 39 40 41 42 43 44 45 46 47 48 49 50 51 52 53 54 55 56 57 58 59 60 61 62 63 64 65 66 67 68 69 70 71 72 73 74 75 76 77 78 79 80 81 82 83 84 85 86 87 88 89 90 91 92 93 94 95 96 97 98 99 "
     ]
    }
   ],
   "source": [
    "for i in range(0,100):\n",
    "    print(i, end=\" \")"
   ]
  },
  {
   "cell_type": "code",
   "execution_count": 73,
   "id": "1d22939e-42d9-4ab4-8bdc-8d89f0783fb0",
   "metadata": {},
   "outputs": [
    {
     "name": "stdout",
     "output_type": "stream",
     "text": [
      "2002\n",
      "2006\n",
      "2010\n",
      "2014\n",
      "2018\n",
      "2022\n",
      "2026\n",
      "2030\n",
      "2034\n",
      "2038\n",
      "2042\n",
      "2046\n",
      "2050\n"
     ]
    }
   ],
   "source": [
    "for i in range(2002,2051,4):\n",
    "    \n",
    "    print(i)"
   ]
  },
  {
   "cell_type": "code",
   "execution_count": 74,
   "id": "a863f8cb-e96b-473d-b61f-a855694890da",
   "metadata": {},
   "outputs": [
    {
     "name": "stdout",
     "output_type": "stream",
     "text": [
      "3\n",
      "6\n",
      "9\n",
      "12\n",
      "15\n",
      "18\n",
      "21\n",
      "24\n",
      "27\n",
      "30\n"
     ]
    }
   ],
   "source": [
    "for i in range(1,31):\n",
    "    if i%3==0:\n",
    "        print(i)"
   ]
  },
  {
   "cell_type": "code",
   "execution_count": 76,
   "id": "5c346c58-1369-4cfd-bb25-f6e680569133",
   "metadata": {},
   "outputs": [
    {
     "name": "stdout",
     "output_type": "stream",
     "text": [
      "99\n",
      "98\n",
      "97\n",
      "96\n",
      "95\n",
      "94\n",
      "93\n",
      "92\n",
      "91\n",
      "90\n",
      "89\n",
      "88\n",
      "87\n",
      "86\n",
      "85\n",
      "84\n",
      "83\n",
      "82\n",
      "81\n",
      "80\n",
      "79\n",
      "78\n",
      "77\n",
      "76\n",
      "75\n",
      "74\n",
      "73\n",
      "72\n",
      "71\n",
      "70\n",
      "69\n",
      "68\n",
      "67\n",
      "66\n",
      "65\n",
      "64\n",
      "63\n",
      "62\n",
      "61\n",
      "60\n",
      "59\n",
      "58\n",
      "57\n",
      "56\n",
      "55\n",
      "54\n",
      "53\n",
      "52\n",
      "51\n",
      "50\n",
      "49\n",
      "48\n",
      "47\n",
      "46\n",
      "45\n",
      "44\n",
      "43\n",
      "42\n",
      "41\n",
      "40\n",
      "39\n",
      "38\n",
      "37\n",
      "36\n",
      "35\n",
      "34\n",
      "33\n",
      "32\n",
      "31\n",
      "30\n",
      "29\n",
      "28\n",
      "27\n",
      "26\n",
      "25\n",
      "24\n",
      "23\n",
      "22\n",
      "21\n",
      "20\n",
      "19\n",
      "18\n",
      "17\n",
      "16\n",
      "15\n",
      "14\n",
      "13\n",
      "12\n",
      "11\n",
      "10\n",
      "9\n",
      "8\n",
      "7\n",
      "6\n",
      "5\n",
      "4\n",
      "3\n",
      "2\n",
      "1\n"
     ]
    }
   ],
   "source": [
    "for i in range(99,0,-1):\n",
    "    print(i)"
   ]
  },
  {
   "cell_type": "code",
   "execution_count": 88,
   "id": "5dbfbec4-ffb5-485b-99af-8332699ab66d",
   "metadata": {},
   "outputs": [
    {
     "name": "stdout",
     "output_type": "stream",
     "text": [
      "0.0\n",
      "0.1\n",
      "0.2\n",
      "0.3\n",
      "0.4\n",
      "0.5\n",
      "0.6\n",
      "0.7\n",
      "0.8\n",
      "0.9\n"
     ]
    }
   ],
   "source": [
    "for i in range(0,10):\n",
    "    print(i/10)"
   ]
  },
  {
   "cell_type": "code",
   "execution_count": 91,
   "id": "02c265de-1918-47ab-85bf-be04dcab3f01",
   "metadata": {},
   "outputs": [
    {
     "name": "stdout",
     "output_type": "stream",
     "text": [
      "3 x  1 = 3 3 x  1 = 4 3 x  1 = 5 3 x  1 = 6 3 x  1 = 7 3 x  1 = 8 3 x  1 = 9 3 x  2 = 6 3 x  2 = 8 3 x  2 = 10 3 x  2 = 12 3 x  2 = 14 3 x  2 = 16 3 x  2 = 18 3 x  3 = 9 3 x  3 = 12 3 x  3 = 15 3 x  3 = 18 3 x  3 = 21 3 x  3 = 24 3 x  3 = 27 3 x  4 = 12 3 x  4 = 16 3 x  4 = 20 3 x  4 = 24 3 x  4 = 28 3 x  4 = 32 3 x  4 = 36 3 x  5 = 15 3 x  5 = 20 3 x  5 = 25 3 x  5 = 30 3 x  5 = 35 3 x  5 = 40 3 x  5 = 45 3 x  6 = 18 3 x  6 = 24 3 x  6 = 30 3 x  6 = 36 3 x  6 = 42 3 x  6 = 48 3 x  6 = 54 3 x  7 = 21 3 x  7 = 28 3 x  7 = 35 3 x  7 = 42 3 x  7 = 49 3 x  7 = 56 3 x  7 = 63 3 x  8 = 24 3 x  8 = 32 3 x  8 = 40 3 x  8 = 48 3 x  8 = 56 3 x  8 = 64 3 x  8 = 72 3 x  9 = 27 3 x  9 = 36 3 x  9 = 45 3 x  9 = 54 3 x  9 = 63 3 x  9 = 72 3 x  9 = 81 "
     ]
    }
   ],
   "source": [
    "for i in range(1,10):\n",
    "    for j in range(3,10):\n",
    "        print('3 x ',i,'=', i*j,end=\" \")"
   ]
  },
  {
   "cell_type": "code",
   "execution_count": 95,
   "id": "a1a9d00b-cc46-46d7-aa38-dc71d537d301",
   "metadata": {},
   "outputs": [
    {
     "name": "stdout",
     "output_type": "stream",
     "text": [
      "3x 1 = 3\n",
      "3x 3 = 9\n",
      "3x 5 = 15\n",
      "3x 7 = 21\n",
      "3x 9 = 27\n"
     ]
    }
   ],
   "source": [
    "num=3\n",
    "for i in range(1,10):\n",
    "    if i%2==1:\n",
    "        print('3x', i,'=', num*i)"
   ]
  },
  {
   "cell_type": "code",
   "execution_count": 97,
   "id": "7cd6bee7-e4b6-4b7a-8057-a60544d5e3be",
   "metadata": {},
   "outputs": [
    {
     "name": "stdout",
     "output_type": "stream",
     "text": [
      "55\n"
     ]
    }
   ],
   "source": [
    "result=0\n",
    "for i in range(1,11):\n",
    "    result+=i\n",
    "print(result)"
   ]
  },
  {
   "cell_type": "code",
   "execution_count": 107,
   "id": "26393e0b-cb7a-453a-80f5-91f40d47d111",
   "metadata": {},
   "outputs": [
    {
     "name": "stdout",
     "output_type": "stream",
     "text": [
      "25\n"
     ]
    }
   ],
   "source": [
    "result=0\n",
    "for i in range(1,11,2):\n",
    "    result+=i\n",
    "print(result)"
   ]
  },
  {
   "cell_type": "code",
   "execution_count": 109,
   "id": "50530d49-b2a7-4ad6-9d23-07007402ada9",
   "metadata": {},
   "outputs": [
    {
     "name": "stdout",
     "output_type": "stream",
     "text": [
      "3628800\n"
     ]
    }
   ],
   "source": [
    "result=1\n",
    "for i in range(1,11):\n",
    "    result*=i\n",
    "print(result)"
   ]
  },
  {
   "cell_type": "code",
   "execution_count": 113,
   "id": "611fa4df-c962-45e9-9c08-5002cf4c20ce",
   "metadata": {},
   "outputs": [
    {
     "name": "stdout",
     "output_type": "stream",
     "text": [
      "32100\n",
      "32150\n",
      "32000\n",
      "32500\n"
     ]
    }
   ],
   "source": [
    "price_list = [32100, 32150, 32000, 32500]\n",
    "for i in range(len(price_list)):\n",
    "    print(price_list[i])"
   ]
  },
  {
   "cell_type": "code",
   "execution_count": 118,
   "id": "ff61ff37-0dac-489a-8839-183fc678696c",
   "metadata": {},
   "outputs": [
    {
     "name": "stdout",
     "output_type": "stream",
     "text": [
      "3 32100\n",
      "2 32150\n",
      "1 32000\n",
      "0 32500\n"
     ]
    }
   ],
   "source": [
    "\n",
    "price_list = [32100, 32150, 32000, 32500]\n",
    "for i in range(len(price_list)):\n",
    "  \n",
    "    print(3-i,price_list[i])"
   ]
  },
  {
   "cell_type": "code",
   "execution_count": 123,
   "id": "bd79a44b-b990-413c-9b9a-b45b17b0dba8",
   "metadata": {},
   "outputs": [
    {
     "name": "stdout",
     "output_type": "stream",
     "text": [
      "100 32100\n",
      "110 32150\n",
      "120 32000\n",
      "130 32500\n"
     ]
    }
   ],
   "source": [
    "price_list = [32100, 32150, 32000, 32500]\n",
    "for i in range(len(price_list)):\n",
    "    print(100+10*i,price_list[i])\n"
   ]
  },
  {
   "cell_type": "code",
   "execution_count": 128,
   "id": "6bab0eab-b750-4ca3-ac54-eb7aa5c28735",
   "metadata": {},
   "outputs": [
    {
     "name": "stdout",
     "output_type": "stream",
     "text": [
      "나 다\n",
      "다 라\n"
     ]
    }
   ],
   "source": [
    "my_list = [\"가\", \"나\", \"다\", \"라\"]\n",
    "for i in range(2,len(my_list)):\n",
    "    print(my_list[i-1],my_list[i])"
   ]
  },
  {
   "cell_type": "code",
   "execution_count": 130,
   "id": "9c3de750-1e19-42a3-976a-bce6668697cf",
   "metadata": {},
   "outputs": [
    {
     "name": "stdout",
     "output_type": "stream",
     "text": [
      "가 나 다\n",
      "나 다 라\n",
      "다 라 마\n"
     ]
    }
   ],
   "source": [
    "my_list = [\"가\", \"나\", \"다\", \"라\", \"마\"]\n",
    "for i in range(1,len(my_list)-1):\n",
    "    print(my_list[i-1],my_list[i],my_list[i+1])"
   ]
  },
  {
   "cell_type": "code",
   "execution_count": 140,
   "id": "e205361d-6f80-43dd-aa5b-f2257015306d",
   "metadata": {},
   "outputs": [],
   "source": [
    "my_list = [\"가\", \"나\", \"다\", \"라\"]\n",
    "for i in range(len(my_list),1):\n",
    "    print(my_list[len(my_list)-1-i],my_list[len(my_list) - 2 - i])"
   ]
  },
  {
   "cell_type": "code",
   "execution_count": 141,
   "id": "3a803c4f-220e-4040-ab6b-deb3a80aa4da",
   "metadata": {},
   "outputs": [
    {
     "name": "stdout",
     "output_type": "stream",
     "text": [
      "라 다\n",
      "다 나\n",
      "나 가\n"
     ]
    }
   ],
   "source": [
    "for i in range(len(my_list) - 1):\n",
    "    print(my_list[len(my_list) - 1 - i], my_list[len(my_list) - 2 - i])\n"
   ]
  },
  {
   "cell_type": "code",
   "execution_count": 142,
   "id": "5a171e8a-6d96-478d-9ec8-a054e467a9a1",
   "metadata": {},
   "outputs": [
    {
     "data": {
      "text/plain": [
       "range(0, 3)"
      ]
     },
     "execution_count": 142,
     "metadata": {},
     "output_type": "execute_result"
    }
   ],
   "source": [
    "range(len(my_list) - 1)"
   ]
  },
  {
   "cell_type": "code",
   "execution_count": 143,
   "id": "7a27beb2-838f-4737-8e40-497d51b50954",
   "metadata": {},
   "outputs": [],
   "source": [
    "my_list = [100, 200, 400, 800]"
   ]
  },
  {
   "cell_type": "code",
   "execution_count": 147,
   "id": "5773bcb5-63a5-46fc-89af-e411b836e4fc",
   "metadata": {},
   "outputs": [],
   "source": [
    "low_prices  = [100, 200, 400, 800, 1000]\n",
    "high_prices = [150, 300, 430, 880, 1000]"
   ]
  },
  {
   "cell_type": "code",
   "execution_count": 152,
   "id": "3ee29c64-9ef2-4867-b241-c003c0c9163e",
   "metadata": {},
   "outputs": [],
   "source": [
    "vt=[]\n",
    "low_prices  = [100, 200, 400, 800, 1000]\n",
    "high_prices = [150, 300, 430, 880, 1000]\n",
    "for i in range(len(low_prices)):\n",
    "    vt.append(high_prices[i] - low_prices[i])"
   ]
  },
  {
   "cell_type": "code",
   "execution_count": 148,
   "id": "2cbd3a36-42d0-41ad-814b-d0fdf50d1cbe",
   "metadata": {},
   "outputs": [
    {
     "name": "stdout",
     "output_type": "stream",
     "text": [
      "0\n",
      "1\n",
      "2\n",
      "3\n",
      "4\n"
     ]
    }
   ],
   "source": [
    "for i in range(len(low_prices)):\n",
    "    print(i)"
   ]
  },
  {
   "cell_type": "code",
   "execution_count": 153,
   "id": "0e6ac245-381e-4493-8a91-707629385ab1",
   "metadata": {},
   "outputs": [
    {
     "data": {
      "text/plain": [
       "[50, 100, 30, 80, 0]"
      ]
     },
     "execution_count": 153,
     "metadata": {},
     "output_type": "execute_result"
    }
   ],
   "source": [
    "vt"
   ]
  },
  {
   "cell_type": "code",
   "execution_count": 154,
   "id": "2937a450-0710-432c-bb9f-a860ef7547bb",
   "metadata": {},
   "outputs": [],
   "source": [
    "apart=[['101호','102호'],['201호','202호'],['301호','302호']]"
   ]
  },
  {
   "cell_type": "code",
   "execution_count": 155,
   "id": "8800fe88-e0ab-42b5-8c5b-b6be049931f0",
   "metadata": {},
   "outputs": [
    {
     "data": {
      "text/plain": [
       "[['101호', '102호'], ['201호', '202호'], ['301호', '302호']]"
      ]
     },
     "execution_count": 155,
     "metadata": {},
     "output_type": "execute_result"
    }
   ],
   "source": [
    "apart"
   ]
  },
  {
   "cell_type": "code",
   "execution_count": 156,
   "id": "9dd5d140-e09c-401f-858b-2e50111a7ba0",
   "metadata": {},
   "outputs": [],
   "source": [
    "stock = [ [\"시가\", 100, 200, 300], [\"종가\", 80, 210, 330] ]"
   ]
  },
  {
   "cell_type": "code",
   "execution_count": 157,
   "id": "392bc739-c364-434f-8f6b-223f7458c1be",
   "metadata": {},
   "outputs": [
    {
     "data": {
      "text/plain": [
       "[['시가', 100, 200, 300], ['종가', 80, 210, 330]]"
      ]
     },
     "execution_count": 157,
     "metadata": {},
     "output_type": "execute_result"
    }
   ],
   "source": [
    "stock"
   ]
  },
  {
   "cell_type": "code",
   "execution_count": 158,
   "id": "ecc68755-7eb5-45a5-9f7f-99e9fdcdb041",
   "metadata": {},
   "outputs": [],
   "source": [
    "stock={'시가':['100','200','300'],'종가':['80','210','330']}"
   ]
  },
  {
   "cell_type": "code",
   "execution_count": 159,
   "id": "b1455b57-ed81-4db1-b818-1bcf6809be72",
   "metadata": {},
   "outputs": [
    {
     "data": {
      "text/plain": [
       "{'시가': ['100', '200', '300'], '종가': ['80', '210', '330']}"
      ]
     },
     "execution_count": 159,
     "metadata": {},
     "output_type": "execute_result"
    }
   ],
   "source": [
    "stock"
   ]
  },
  {
   "cell_type": "code",
   "execution_count": 160,
   "id": "6b8b3a2f-03de-4b56-8b96-71ec886a828f",
   "metadata": {},
   "outputs": [],
   "source": [
    "stock = {\"시가\": [100, 200, 300], \"종가\": [80, 210, 330] }"
   ]
  },
  {
   "cell_type": "code",
   "execution_count": 161,
   "id": "55f2080f-0531-428d-829b-86384962ce60",
   "metadata": {},
   "outputs": [
    {
     "data": {
      "text/plain": [
       "{'시가': [100, 200, 300], '종가': [80, 210, 330]}"
      ]
     },
     "execution_count": 161,
     "metadata": {},
     "output_type": "execute_result"
    }
   ],
   "source": [
    "stock"
   ]
  },
  {
   "cell_type": "code",
   "execution_count": 162,
   "id": "ed0ce847-9911-4575-801c-cd451714e58d",
   "metadata": {},
   "outputs": [],
   "source": [
    "stock = {\"10/10\": [80, 110, 70,90], \"10/11\": [210, 230,190, 200] }"
   ]
  },
  {
   "cell_type": "code",
   "execution_count": 163,
   "id": "f7487067-31bf-4cbd-912e-4e986b89c304",
   "metadata": {},
   "outputs": [
    {
     "data": {
      "text/plain": [
       "{'10/10': [80, 110, 70, 90], '10/11': [210, 230, 190, 200]}"
      ]
     },
     "execution_count": 163,
     "metadata": {},
     "output_type": "execute_result"
    }
   ],
   "source": [
    "stock"
   ]
  },
  {
   "cell_type": "code",
   "execution_count": 168,
   "id": "34111a76-9060-4c4f-9ce0-e2a6e409ef6f",
   "metadata": {},
   "outputs": [
    {
     "name": "stdout",
     "output_type": "stream",
     "text": [
      "101 호\n",
      "102 호\n",
      "201 호\n",
      "202 호\n",
      "301 호\n",
      "302 호\n"
     ]
    }
   ],
   "source": [
    "apart = [ [101, 102], [201, 202], [301, 302] ]\n",
    "for i in apart:\n",
    "    for j in i:\n",
    "        print(j,'호')"
   ]
  },
  {
   "cell_type": "code",
   "execution_count": 169,
   "id": "395e5ba1-edd7-462c-a7a3-b517b217c5b6",
   "metadata": {},
   "outputs": [
    {
     "name": "stdout",
     "output_type": "stream",
     "text": [
      "301 호\n",
      "302 호\n",
      "201 호\n",
      "202 호\n",
      "101 호\n",
      "102 호\n"
     ]
    }
   ],
   "source": [
    "apart = [ [101, 102], [201, 202], [301, 302] ]\n",
    "for i in apart[::-1]:\n",
    "    for j in i:\n",
    "        print(j,'호')"
   ]
  },
  {
   "cell_type": "code",
   "execution_count": 170,
   "id": "6854b4c4-82f3-4f63-97a8-d221fb8eca05",
   "metadata": {},
   "outputs": [
    {
     "name": "stdout",
     "output_type": "stream",
     "text": [
      "302 호\n",
      "301 호\n",
      "202 호\n",
      "201 호\n",
      "102 호\n",
      "101 호\n"
     ]
    }
   ],
   "source": [
    "apart = [ [101, 102], [201, 202], [301, 302] ]\n",
    "for i in apart[::-1]:\n",
    "    for j in i[::-1]:\n",
    "        print(j,'호')"
   ]
  },
  {
   "cell_type": "code",
   "execution_count": 173,
   "id": "da1fc35a-6f69-4ab0-afb4-2d648d417fa1",
   "metadata": {},
   "outputs": [
    {
     "name": "stdout",
     "output_type": "stream",
     "text": [
      "101 호\n",
      "------\n",
      "102 호\n",
      "------\n",
      "201 호\n",
      "------\n",
      "202 호\n",
      "------\n",
      "301 호\n",
      "------\n",
      "302 호\n",
      "------\n"
     ]
    }
   ],
   "source": [
    "apart = [ [101, 102], [201, 202], [301, 302] ]\n",
    "for i in apart:\n",
    "    for j in i:\n",
    "        print(j,'호')\n",
    "        print('------')"
   ]
  },
  {
   "cell_type": "code",
   "execution_count": 177,
   "id": "20651e47-01c7-413a-9917-a47bf2e1ed4d",
   "metadata": {},
   "outputs": [
    {
     "name": "stdout",
     "output_type": "stream",
     "text": [
      "101 호\n",
      "-----\n",
      "102 호\n",
      "-----\n",
      "201 호\n",
      "-----\n",
      "202 호\n",
      "-----\n",
      "301 호\n",
      "-----\n",
      "302 호\n",
      "-----\n"
     ]
    }
   ],
   "source": [
    "apart = [ [101, 102], [201, 202], [301, 302] ]\n",
    "for i in apart:\n",
    "    for j in i:\n",
    "        print(j,'호')\n",
    "        \n",
    "        print('-----')"
   ]
  },
  {
   "cell_type": "code",
   "execution_count": 55,
   "id": "8464b8e5-610b-4f18-ae8a-45a9aaff9011",
   "metadata": {},
   "outputs": [
    {
     "name": "stdout",
     "output_type": "stream",
     "text": [
      "1 1\n",
      "1 2\n",
      "2 1\n",
      "2 2\n",
      "2 2\n"
     ]
    }
   ],
   "source": [
    "li = [1,2]\n",
    "\n",
    "for i in li : \n",
    "    for j in li :\n",
    "        print(i, j)\n",
    "print(i,j)      "
   ]
  },
  {
   "cell_type": "code",
   "execution_count": 41,
   "id": "c4716d5b-b867-4406-ad58-1a3666126372",
   "metadata": {},
   "outputs": [
    {
     "name": "stdout",
     "output_type": "stream",
     "text": [
      "2 2\n"
     ]
    }
   ],
   "source": [
    "print(i, j)\n"
   ]
  },
  {
   "cell_type": "code",
   "execution_count": 54,
   "id": "5e00e6df-ee6e-47cf-9989-fcede968c7c6",
   "metadata": {},
   "outputs": [
    {
     "name": "stdout",
     "output_type": "stream",
     "text": [
      "1 1\n",
      "1 2\n",
      "1 3\n",
      "2 1\n",
      "2 2\n",
      "2 3\n",
      "3 1\n",
      "3 2\n",
      "3 3\n",
      "3 3\n"
     ]
    }
   ],
   "source": [
    "list_1=[1,2,3]\n",
    "for i in list_1:\n",
    "    for j in list_1:\n",
    "        print(i,j)\n",
    "print(i,j)  \n",
    "      "
   ]
  },
  {
   "cell_type": "code",
   "execution_count": 21,
   "id": "43562396-8e1a-4dd6-8bfa-64a1f01b01d2",
   "metadata": {},
   "outputs": [
    {
     "data": {
      "text/plain": [
       "1"
      ]
     },
     "execution_count": 21,
     "metadata": {},
     "output_type": "execute_result"
    }
   ],
   "source": [
    "1\n",
    "1\n",
    "2\n",
    "2\n",
    "2\n",
    "2\n"
   ]
  },
  {
   "cell_type": "code",
   "execution_count": 178,
   "id": "0907301e-e8bd-4c40-af6c-17bd7365703d",
   "metadata": {},
   "outputs": [
    {
     "name": "stdout",
     "output_type": "stream",
     "text": [
      "101 호\n",
      "-----\n",
      "102 호\n",
      "-----\n",
      "201 호\n",
      "-----\n",
      "202 호\n",
      "-----\n",
      "301 호\n",
      "-----\n",
      "302 호\n",
      "-----\n"
     ]
    }
   ],
   "source": [
    "for row in apart:\n",
    "    for col in row:\n",
    "        print(col, \"호\")\n",
    "        print(\"-\" * 5)"
   ]
  },
  {
   "cell_type": "code",
   "execution_count": 179,
   "id": "a072eda4-df3e-4840-81b1-3d1aeea5ab7b",
   "metadata": {},
   "outputs": [
    {
     "name": "stdout",
     "output_type": "stream",
     "text": [
      "101 호\n",
      "102 호\n",
      "-----\n",
      "201 호\n",
      "202 호\n",
      "-----\n",
      "301 호\n",
      "302 호\n",
      "-----\n"
     ]
    }
   ],
   "source": [
    "for row in apart:\n",
    "    for col in row:\n",
    "        print(col, \"호\")\n",
    "    print(\"-----\")"
   ]
  },
  {
   "cell_type": "code",
   "execution_count": 180,
   "id": "3546906f-9798-454c-8cd8-0f84b61aa4ca",
   "metadata": {},
   "outputs": [
    {
     "name": "stdout",
     "output_type": "stream",
     "text": [
      "101 호\n",
      "102 호\n",
      "201 호\n",
      "202 호\n",
      "301 호\n",
      "302 호\n",
      "-----\n"
     ]
    }
   ],
   "source": [
    "for row in apart:\n",
    "    for col in row:\n",
    "        print(col, \"호\")\n",
    "print(\"-----\")"
   ]
  },
  {
   "cell_type": "code",
   "execution_count": null,
   "id": "b85325b1-a64b-4eb8-9974-5d3572493cf3",
   "metadata": {},
   "outputs": [],
   "source": []
  },
  {
   "cell_type": "code",
   "execution_count": 14,
   "id": "b992d9fb-6be7-4551-8bab-43765730e7a3",
   "metadata": {},
   "outputs": [
    {
     "name": "stdout",
     "output_type": "stream",
     "text": [
      "101 호\n",
      "102 호\n",
      "201 호\n",
      "202 호\n",
      "301 호\n",
      "302 호\n",
      "-----\n"
     ]
    }
   ],
   "source": [
    "apart = [ [101, 102], [201, 202], [301, 302] ]\n",
    "for i in apart:\n",
    "    for j in i:\n",
    "        print(j,'호')\n",
    "print('-----')"
   ]
  },
  {
   "cell_type": "code",
   "execution_count": 22,
   "id": "1dfc37c1-6eda-4466-a2f8-3ec5cff114b7",
   "metadata": {},
   "outputs": [
    {
     "name": "stdout",
     "output_type": "stream",
     "text": [
      "2000.28\n",
      "3050.427\n",
      "2050.2870000000003\n",
      "1980.2772\n",
      "7501.05\n",
      "2050.2870000000003\n",
      "2050.2870000000003\n",
      "1980.2772\n",
      "15452.163\n",
      "15052.107\n",
      "15552.177\n",
      "14902.086000000001\n"
     ]
    }
   ],
   "source": [
    "data = [\n",
    "    [ 2000,  3050,  2050,  1980],\n",
    "    [ 7500,  2050,  2050,  1980],\n",
    "    [15450, 15050, 15550, 14900]\n",
    "]\n",
    "for i in data:\n",
    "    for j in i:\n",
    "        print(j*1.00014)"
   ]
  },
  {
   "cell_type": "code",
   "execution_count": 24,
   "id": "2da75eb0-0975-4172-bde6-4e471f20f55d",
   "metadata": {},
   "outputs": [
    {
     "name": "stdout",
     "output_type": "stream",
     "text": [
      "2000.28\n",
      "3050.427\n",
      "2050.2870000000003\n",
      "1980.2772\n",
      "=====\n",
      "7501.05\n",
      "2050.2870000000003\n",
      "2050.2870000000003\n",
      "1980.2772\n",
      "=====\n",
      "15452.163\n",
      "15052.107\n",
      "15552.177\n",
      "14902.086000000001\n",
      "=====\n"
     ]
    }
   ],
   "source": [
    "data = [\n",
    "    [ 2000,  3050,  2050,  1980],\n",
    "    [ 7500,  2050,  2050,  1980],\n",
    "    [15450, 15050, 15550, 14900]\n",
    "]\n",
    "for i in data:\n",
    "    for j in i:\n",
    "        print(j*1.00014)\n",
    "    print('=====')"
   ]
  },
  {
   "cell_type": "code",
   "execution_count": 30,
   "id": "78edcdb9-af36-4edf-88cb-03ae7a69517d",
   "metadata": {},
   "outputs": [
    {
     "name": "stdout",
     "output_type": "stream",
     "text": [
      "2000.28 3050.427 2050.2870000000003 1980.2772 7501.05 2050.2870000000003 2050.2870000000003 1980.2772 15452.163 15052.107 15552.177 14902.086000000001 "
     ]
    }
   ],
   "source": [
    "data = [\n",
    "    [ 2000,  3050,  2050,  1980],\n",
    "    [ 7500,  2050,  2050,  1980],\n",
    "    [15450, 15050, 15550, 14900]\n",
    "]\n",
    "for i in data:\n",
    "    for j in i:\n",
    "        print(j*1.00014, end=' ')"
   ]
  },
  {
   "cell_type": "code",
   "execution_count": 31,
   "id": "b187c793-551a-4028-96be-d77af7b769b4",
   "metadata": {},
   "outputs": [
    {
     "name": "stdout",
     "output_type": "stream",
     "text": [
      "100\n",
      "190\n",
      "310\n"
     ]
    }
   ],
   "source": [
    "ohlc = [[\"open\", \"high\", \"low\", \"close\"],\n",
    "        [100, 110, 70, 100],\n",
    "        [200, 210, 180, 190],\n",
    "        [300, 310, 300, 310]]\n",
    "for  i in ohlc[1:]:\n",
    "    print(i[3])"
   ]
  },
  {
   "cell_type": "code",
   "execution_count": 43,
   "id": "ccceca5f-1b66-478c-8c20-cb997f5ba4de",
   "metadata": {},
   "outputs": [
    {
     "name": "stdout",
     "output_type": "stream",
     "text": [
      "100\n",
      "310\n"
     ]
    }
   ],
   "source": [
    "ohlc = [[\"open\", \"high\", \"low\", \"close\"],\n",
    "        [100, 110, 70, 100],\n",
    "        [200, 210, 180, 190],\n",
    "        [300, 310, 300, 310]]\n",
    "for  i in ohlc[1:]:\n",
    "    if i[0] <= i[3]:\n",
    "        print(i[3])"
   ]
  },
  {
   "cell_type": "code",
   "execution_count": 58,
   "id": "18b9b2e1-5228-4b2f-b95e-81f05b5e3ba8",
   "metadata": {},
   "outputs": [
    {
     "name": "stdout",
     "output_type": "stream",
     "text": [
      "310\n"
     ]
    }
   ],
   "source": [
    "if i[0] == i[3] or i[0] < i[3]:\n",
    "    print(i[3])"
   ]
  },
  {
   "cell_type": "code",
   "execution_count": 61,
   "id": "e2c71c0a-4659-4eab-83b8-dd460d5667bc",
   "metadata": {},
   "outputs": [
    {
     "name": "stdout",
     "output_type": "stream",
     "text": [
      "10\n"
     ]
    }
   ],
   "source": [
    "ohlc = [[\"open\", \"high\", \"low\", \"close\"],\n",
    "        [100, 110, 70, 100],\n",
    "        [200, 210, 180, 190],\n",
    "        [300, 310, 300, 310]]\n",
    "for  i in ohlc[1:]:\n",
    "    if i[0] < i[3]:\n",
    "        print(i[3]-i[0])"
   ]
  },
  {
   "cell_type": "code",
   "execution_count": 2,
   "id": "b1d6914c-f592-4716-9895-7afa40bffd68",
   "metadata": {},
   "outputs": [
    {
     "name": "stdout",
     "output_type": "stream",
     "text": [
      "0\n"
     ]
    }
   ],
   "source": [
    "ohlc = [[\"open\", \"high\", \"low\", \"close\"],\n",
    "        [100, 110, 70, 100],\n",
    "        [200, 210, 180, 190],\n",
    "        [300, 310, 300, 310]]\n",
    "\n",
    "p=0\n",
    "for  i in ohlc[1:]:\n",
    "\n",
    "    profit= i[0]-i[3]\n",
    "    p+=profit\n",
    "print(p)\n",
    "     "
   ]
  },
  {
   "cell_type": "code",
   "execution_count": 14,
   "id": "78ed3d09-ad8e-45b0-921e-57f7f6b9ba09",
   "metadata": {},
   "outputs": [
    {
     "name": "stdout",
     "output_type": "stream",
     "text": [
      "0\n"
     ]
    }
   ],
   "source": [
    "ohlc = [[\"open\", \"high\", \"low\", \"close\"],\n",
    "        [100, 110, 70, 100],\n",
    "        [200, 210, 180, 190],\n",
    "        [300, 310, 300, 310]]\n",
    "p=0\n",
    "for i in ohlc[1:]:\n",
    "    \n",
    "    p+=(i[3]-i[0])\n",
    "    print(p)"
   ]
  },
  {
   "cell_type": "code",
   "execution_count": 64,
   "id": "a4736360-a3b4-4f27-b3e0-63c2e453a765",
   "metadata": {},
   "outputs": [],
   "source": [
    "def print_coin():\n",
    "    print('비트코인'*100)\n"
   ]
  },
  {
   "cell_type": "code",
   "execution_count": 65,
   "id": "d53298d1-719f-4a60-8233-675d8558e257",
   "metadata": {},
   "outputs": [
    {
     "name": "stdout",
     "output_type": "stream",
     "text": [
      "비트코인비트코인비트코인비트코인비트코인비트코인비트코인비트코인비트코인비트코인비트코인비트코인비트코인비트코인비트코인비트코인비트코인비트코인비트코인비트코인비트코인비트코인비트코인비트코인비트코인비트코인비트코인비트코인비트코인비트코인비트코인비트코인비트코인비트코인비트코인비트코인비트코인비트코인비트코인비트코인비트코인비트코인비트코인비트코인비트코인비트코인비트코인비트코인비트코인비트코인비트코인비트코인비트코인비트코인비트코인비트코인비트코인비트코인비트코인비트코인비트코인비트코인비트코인비트코인비트코인비트코인비트코인비트코인비트코인비트코인비트코인비트코인비트코인비트코인비트코인비트코인비트코인비트코인비트코인비트코인비트코인비트코인비트코인비트코인비트코인비트코인비트코인비트코인비트코인비트코인비트코인비트코인비트코인비트코인비트코인비트코인비트코인비트코인비트코인비트코인\n"
     ]
    }
   ],
   "source": [
    "print_coin()"
   ]
  },
  {
   "cell_type": "code",
   "execution_count": 66,
   "id": "727d62ac-7a8d-4709-baa0-b28ed7209285",
   "metadata": {},
   "outputs": [
    {
     "name": "stdout",
     "output_type": "stream",
     "text": [
      "B\n",
      "A\n"
     ]
    }
   ],
   "source": [
    "def message1():\n",
    "    print(\"A\")\n",
    "\n",
    "def message2():\n",
    "    print(\"B\")\n",
    "    message1()\n",
    "\n",
    "message2()"
   ]
  },
  {
   "cell_type": "code",
   "execution_count": 67,
   "id": "ac72391e-039b-43ce-a2ac-60f4cefa088b",
   "metadata": {},
   "outputs": [
    {
     "name": "stdout",
     "output_type": "stream",
     "text": [
      "B\n",
      "C\n",
      "B\n",
      "C\n",
      "B\n",
      "C\n",
      "A\n"
     ]
    }
   ],
   "source": [
    "def message1():\n",
    "    print(\"A\")\n",
    "\n",
    "def message2():\n",
    "    print(\"B\")\n",
    "\n",
    "def message3():\n",
    "    for i in range (3) :\n",
    "        message2()\n",
    "        print(\"C\")\n",
    "    message1()\n",
    "\n",
    "message3()"
   ]
  },
  {
   "cell_type": "code",
   "execution_count": 69,
   "id": "dd181edd-515a-40c7-9f62-a325d6ede2d8",
   "metadata": {},
   "outputs": [],
   "source": [
    "def 함수(문자열) :\n",
    "    print(문자열)\n",
    "\n"
   ]
  },
  {
   "cell_type": "code",
   "execution_count": 74,
   "id": "32687d9d-50a5-44b4-b57f-12b540739a5c",
   "metadata": {},
   "outputs": [
    {
     "name": "stdout",
     "output_type": "stream",
     "text": [
      "문자\n",
      "사진\n"
     ]
    }
   ],
   "source": [
    "함수('문자')\n",
    "함수('사진')"
   ]
  },
  {
   "cell_type": "code",
   "execution_count": 76,
   "id": "ff69b43c-130c-483a-8078-6e65e081d692",
   "metadata": {},
   "outputs": [],
   "source": [
    "def 함수(문자열) :\n",
    "    print(문자열)"
   ]
  },
  {
   "cell_type": "code",
   "execution_count": 79,
   "id": "d3589583-5e14-431c-b561-ce1c1b3f5431",
   "metadata": {},
   "outputs": [
    {
     "ename": "TypeError",
     "evalue": "함수() missing 1 required positional argument: '문자열'",
     "output_type": "error",
     "traceback": [
      "\u001b[1;31m---------------------------------------------------------------------------\u001b[0m",
      "\u001b[1;31mTypeError\u001b[0m                                 Traceback (most recent call last)",
      "Input \u001b[1;32mIn [79]\u001b[0m, in \u001b[0;36m<cell line: 1>\u001b[1;34m()\u001b[0m\n\u001b[1;32m----> 1\u001b[0m \u001b[43m함수\u001b[49m\u001b[43m(\u001b[49m\u001b[43m)\u001b[49m\n",
      "\u001b[1;31mTypeError\u001b[0m: 함수() missing 1 required positional argument: '문자열'"
     ]
    }
   ],
   "source": [
    "함수()"
   ]
  },
  {
   "cell_type": "code",
   "execution_count": 80,
   "id": "44b439fa-7ecf-4cae-9151-a998c9d23116",
   "metadata": {},
   "outputs": [],
   "source": [
    "def print_with_smile(string):\n",
    "    print(string + ':D')"
   ]
  },
  {
   "cell_type": "code",
   "execution_count": 81,
   "id": "78f1cc2e-0d79-4015-8417-dc659b37c5ae",
   "metadata": {},
   "outputs": [
    {
     "name": "stdout",
     "output_type": "stream",
     "text": [
      "안녕하세요:D\n"
     ]
    }
   ],
   "source": [
    "print_with_smile('안녕하세요')"
   ]
  },
  {
   "cell_type": "code",
   "execution_count": 85,
   "id": "05d43bfc-5200-4773-9bb0-5d25abe19a45",
   "metadata": {},
   "outputs": [],
   "source": [
    "def say():\n",
    "    return 'hi'+'XD'"
   ]
  },
  {
   "cell_type": "code",
   "execution_count": 87,
   "id": "0939ce43-737f-4561-ac1c-3097cfbbed8f",
   "metadata": {},
   "outputs": [
    {
     "data": {
      "text/plain": [
       "'hiXD'"
      ]
     },
     "execution_count": 87,
     "metadata": {},
     "output_type": "execute_result"
    }
   ],
   "source": [
    "say()"
   ]
  },
  {
   "cell_type": "code",
   "execution_count": 88,
   "id": "d985177e-9198-4856-b31c-dc53d2bc6068",
   "metadata": {},
   "outputs": [
    {
     "ename": "NameError",
     "evalue": "name 'hixd' is not defined",
     "output_type": "error",
     "traceback": [
      "\u001b[1;31m---------------------------------------------------------------------------\u001b[0m",
      "\u001b[1;31mNameError\u001b[0m                                 Traceback (most recent call last)",
      "Input \u001b[1;32mIn [88]\u001b[0m, in \u001b[0;36m<cell line: 1>\u001b[1;34m()\u001b[0m\n\u001b[1;32m----> 1\u001b[0m \u001b[43mhixd\u001b[49m\n",
      "\u001b[1;31mNameError\u001b[0m: name 'hixd' is not defined"
     ]
    }
   ],
   "source": [
    "hixd"
   ]
  },
  {
   "cell_type": "code",
   "execution_count": 91,
   "id": "4e9bf886-8171-46d5-9c6a-d48169afc616",
   "metadata": {},
   "outputs": [],
   "source": [
    "def stri(string):\n",
    "    print(string+'XD')"
   ]
  },
  {
   "cell_type": "code",
   "execution_count": 93,
   "id": "f459c712-140e-4de9-9d07-7264723bc984",
   "metadata": {},
   "outputs": [
    {
     "name": "stdout",
     "output_type": "stream",
     "text": [
      "sssssssXD\n"
     ]
    }
   ],
   "source": [
    "stri('sssssss')"
   ]
  },
  {
   "cell_type": "code",
   "execution_count": 97,
   "id": "032b0245-3dd4-457d-87d2-aece9cb03b90",
   "metadata": {},
   "outputs": [],
   "source": [
    "def dka(asdasd):\n",
    "    print(asdasd+'sss')"
   ]
  },
  {
   "cell_type": "code",
   "execution_count": 99,
   "id": "8a0daf4d-289a-4ae9-a6ad-da0c4493d1d0",
   "metadata": {},
   "outputs": [
    {
     "name": "stdout",
     "output_type": "stream",
     "text": [
      "asdsss\n"
     ]
    }
   ],
   "source": [
    "dka('asd')"
   ]
  },
  {
   "cell_type": "code",
   "execution_count": 100,
   "id": "e89f0015-e06a-4b23-94d2-82c0ea8d68ed",
   "metadata": {},
   "outputs": [],
   "source": [
    "def print_upper_price(strs):\n",
    "    print(strs)"
   ]
  },
  {
   "cell_type": "code",
   "execution_count": 101,
   "id": "a282f225-2256-476e-8cc2-36079c33dcd0",
   "metadata": {},
   "outputs": [
    {
     "name": "stdout",
     "output_type": "stream",
     "text": [
      "상한가30%\n"
     ]
    }
   ],
   "source": [
    "print_upper_price('상한가')"
   ]
  },
  {
   "cell_type": "code",
   "execution_count": 111,
   "id": "4400d116-d7a3-4ef6-aeda-d515b07002a8",
   "metadata": {},
   "outputs": [],
   "source": [
    "def calc(num,*ad):\n",
    "    if num== 'add':\n",
    "        rs=0\n",
    "        for i in ad:\n",
    "            rs+=i\n",
    "    elif num== 'mul':\n",
    "        rs=1\n",
    "        for i in ad:\n",
    "            rs*=i\n",
    "    return rs\n",
    "            "
   ]
  },
  {
   "cell_type": "code",
   "execution_count": 104,
   "id": "168a4c8a-e19c-44a9-ad07-d1ff489bf698",
   "metadata": {},
   "outputs": [
    {
     "data": {
      "text/plain": [
       "15"
      ]
     },
     "execution_count": 104,
     "metadata": {},
     "output_type": "execute_result"
    }
   ],
   "source": [
    "calc('add',1,2,3,4,5)"
   ]
  },
  {
   "cell_type": "code",
   "execution_count": 112,
   "id": "5e4cf8d9-c60f-4d32-af35-3d8c4e52fc4a",
   "metadata": {},
   "outputs": [
    {
     "data": {
      "text/plain": [
       "120"
      ]
     },
     "execution_count": 112,
     "metadata": {},
     "output_type": "execute_result"
    }
   ],
   "source": [
    "calc('mul',1,2,3,4,5)"
   ]
  },
  {
   "cell_type": "code",
   "execution_count": 113,
   "id": "0b62fff7-fa4d-479c-aef2-0a60d7d18ab5",
   "metadata": {},
   "outputs": [],
   "source": [
    "def print_kwargs(**kwargs):\n",
    "    print(kwargs)"
   ]
  },
  {
   "cell_type": "code",
   "execution_count": 115,
   "id": "99884b2c-6d32-4bea-9861-f9303752d58d",
   "metadata": {},
   "outputs": [
    {
     "name": "stdout",
     "output_type": "stream",
     "text": [
      "{'feel': 'happy', 'feel2': 'gloomy'}\n"
     ]
    }
   ],
   "source": [
    "print_kwargs(feel='happy', feel2='gloomy')"
   ]
  },
  {
   "cell_type": "code",
   "execution_count": 123,
   "id": "380550a6-5478-49d8-bf29-a43ddaa87aa2",
   "metadata": {},
   "outputs": [],
   "source": [
    "def ab(a,b):\n",
    "\n",
    "    return     a+b, a*b\n"
   ]
  },
  {
   "cell_type": "code",
   "execution_count": 124,
   "id": "032d7296-bc81-474f-b65f-a57ce729c8b4",
   "metadata": {},
   "outputs": [
    {
     "data": {
      "text/plain": [
       "(11, 30)"
      ]
     },
     "execution_count": 124,
     "metadata": {},
     "output_type": "execute_result"
    }
   ],
   "source": [
    "ab(5,6)"
   ]
  },
  {
   "cell_type": "code",
   "execution_count": 125,
   "id": "ae9cbd63-5c7e-42da-8cdb-816e2aa9d79b",
   "metadata": {},
   "outputs": [],
   "source": [
    "rs=ab(5,6)"
   ]
  },
  {
   "cell_type": "code",
   "execution_count": 126,
   "id": "4faa7102-60be-4e2b-bfb7-46dc5c69cfbe",
   "metadata": {},
   "outputs": [
    {
     "data": {
      "text/plain": [
       "(11, 30)"
      ]
     },
     "execution_count": 126,
     "metadata": {},
     "output_type": "execute_result"
    }
   ],
   "source": [
    "rs"
   ]
  },
  {
   "cell_type": "code",
   "execution_count": 127,
   "id": "ff84c5eb-325f-4212-9721-6652f4ea1a17",
   "metadata": {},
   "outputs": [
    {
     "name": "stdout",
     "output_type": "stream",
     "text": [
      "2\n"
     ]
    }
   ],
   "source": [
    "a = 1 \n",
    "def vartest(a): \n",
    "    a = a +1 \n",
    "    return a\n",
    "\n",
    "a = vartest(a) \n",
    "print(a)"
   ]
  },
  {
   "cell_type": "code",
   "execution_count": 128,
   "id": "caa18dbb-6ed7-4bb6-bdce-0c3ce94ca2cf",
   "metadata": {},
   "outputs": [
    {
     "name": "stdout",
     "output_type": "stream",
     "text": [
      "1\n"
     ]
    }
   ],
   "source": [
    "a = 1\n",
    "def vartest(a):\n",
    "    a = a +1\n",
    "\n",
    "vartest(a)\n",
    "print(a)"
   ]
  },
  {
   "cell_type": "code",
   "execution_count": 129,
   "id": "4db9e6f1-9dda-4f5e-99f5-482866973353",
   "metadata": {},
   "outputs": [
    {
     "name": "stdout",
     "output_type": "stream",
     "text": [
      "1\n"
     ]
    }
   ],
   "source": [
    "a=1\n",
    "def vs(a):\n",
    "    a=a+1\n",
    "print(a)"
   ]
  },
  {
   "cell_type": "code",
   "execution_count": 130,
   "id": "673ba58d-5a65-4371-b588-3f5c302e18d2",
   "metadata": {},
   "outputs": [
    {
     "data": {
      "text/plain": [
       "1"
      ]
     },
     "execution_count": 130,
     "metadata": {},
     "output_type": "execute_result"
    }
   ],
   "source": [
    "a"
   ]
  },
  {
   "cell_type": "code",
   "execution_count": 132,
   "id": "ade6c6a2-aa70-4186-9d22-ed3760ec5626",
   "metadata": {},
   "outputs": [],
   "source": [
    "vs(1)"
   ]
  },
  {
   "cell_type": "code",
   "execution_count": 134,
   "id": "e79814f2-41b8-47f7-9def-6c1bc706b32a",
   "metadata": {},
   "outputs": [],
   "source": [
    "def sn(nick):\n",
    "    if nick == '바보':\n",
    "        return\n",
    "    print('나의 별명은 %s 입니다.'% nick)"
   ]
  },
  {
   "cell_type": "code",
   "execution_count": 135,
   "id": "708459b8-3de2-43e8-afb6-2f02c62532c3",
   "metadata": {},
   "outputs": [],
   "source": [
    "sn('바보')"
   ]
  },
  {
   "cell_type": "code",
   "execution_count": 136,
   "id": "80053e55-89d7-44ee-a6b7-bec191b9e6f0",
   "metadata": {},
   "outputs": [
    {
     "name": "stdout",
     "output_type": "stream",
     "text": [
      "나의 별명은 야호 입니다.\n"
     ]
    }
   ],
   "source": [
    "sn('야호')"
   ]
  },
  {
   "cell_type": "code",
   "execution_count": 137,
   "id": "388fa76a-eccc-476b-8b84-5c32fa57f049",
   "metadata": {},
   "outputs": [],
   "source": [
    "def sq(asd):\n",
    "    return"
   ]
  },
  {
   "cell_type": "code",
   "execution_count": 140,
   "id": "a304421f-11a5-47e8-9d72-b8d09a5849de",
   "metadata": {},
   "outputs": [],
   "source": [
    "sq('asd')"
   ]
  },
  {
   "cell_type": "code",
   "execution_count": 141,
   "id": "d6ee156d-3cae-4e64-8763-2b5cc8fb1874",
   "metadata": {},
   "outputs": [
    {
     "ename": "SyntaxError",
     "evalue": "non-default argument follows default argument (3685902082.py, line 1)",
     "output_type": "error",
     "traceback": [
      "\u001b[1;36m  Input \u001b[1;32mIn [141]\u001b[1;36m\u001b[0m\n\u001b[1;33m    def say_myself(name, man=True, old):\u001b[0m\n\u001b[1;37m                                      ^\u001b[0m\n\u001b[1;31mSyntaxError\u001b[0m\u001b[1;31m:\u001b[0m non-default argument follows default argument\n"
     ]
    }
   ],
   "source": [
    "def say_myself(name, man=True, old): \n",
    "    print(\"나의 이름은 %s 입니다.\" % name) \n",
    "    print(\"나이는 %d살입니다.\" % old) \n",
    "    if man: \n",
    "        print(\"남자입니다.\") \n",
    "    else: \n",
    "        print(\"여자입니다.\")"
   ]
  },
  {
   "cell_type": "code",
   "execution_count": 193,
   "id": "be5400b8-05de-45e2-84da-47484a357a25",
   "metadata": {},
   "outputs": [
    {
     "data": {
      "text/plain": [
       "4"
      ]
     },
     "execution_count": 193,
     "metadata": {},
     "output_type": "execute_result"
    }
   ],
   "source": [
    "a = 1\n",
    "\n",
    "def vartest(a):\n",
    "    \n",
    "    return a + 1\n",
    "\n",
    "\n",
    "vartest(a )\n"
   ]
  },
  {
   "cell_type": "code",
   "execution_count": 150,
   "id": "ac5772eb-f43d-4b9e-9c07-2394fc8f5af5",
   "metadata": {},
   "outputs": [
    {
     "name": "stdout",
     "output_type": "stream",
     "text": [
      "2\n",
      "2\n"
     ]
    }
   ],
   "source": [
    "print(vartest(a))"
   ]
  },
  {
   "cell_type": "code",
   "execution_count": 208,
   "id": "71d70c44-00a5-4d63-a632-d7e6d41fbdd8",
   "metadata": {},
   "outputs": [],
   "source": [
    "def vartest(hello):\n",
    "    hello = hello + '1'\n",
    "    return hello"
   ]
  },
  {
   "cell_type": "code",
   "execution_count": 200,
   "id": "4dece781-9986-429c-a4f2-e0864dc71991",
   "metadata": {},
   "outputs": [
    {
     "ename": "TypeError",
     "evalue": "can only concatenate str (not \"int\") to str",
     "output_type": "error",
     "traceback": [
      "\u001b[1;31m---------------------------------------------------------------------------\u001b[0m",
      "\u001b[1;31mTypeError\u001b[0m                                 Traceback (most recent call last)",
      "Input \u001b[1;32mIn [200]\u001b[0m, in \u001b[0;36m<cell line: 1>\u001b[1;34m()\u001b[0m\n\u001b[1;32m----> 1\u001b[0m \u001b[43mvartest\u001b[49m\u001b[43m(\u001b[49m\u001b[38;5;124;43m'\u001b[39;49m\u001b[38;5;124;43mpython\u001b[39;49m\u001b[38;5;124;43m'\u001b[39;49m\u001b[43m)\u001b[49m\n",
      "Input \u001b[1;32mIn [199]\u001b[0m, in \u001b[0;36mvartest\u001b[1;34m(hello)\u001b[0m\n\u001b[0;32m      1\u001b[0m \u001b[38;5;28;01mdef\u001b[39;00m \u001b[38;5;21mvartest\u001b[39m(hello):\n\u001b[1;32m----> 2\u001b[0m     hello \u001b[38;5;241m=\u001b[39m \u001b[43mhello\u001b[49m\u001b[43m \u001b[49m\u001b[38;5;241;43m+\u001b[39;49m\u001b[43m \u001b[49m\u001b[38;5;241;43m1\u001b[39;49m\n",
      "\u001b[1;31mTypeError\u001b[0m: can only concatenate str (not \"int\") to str"
     ]
    }
   ],
   "source": [
    "vartest('python')"
   ]
  },
  {
   "cell_type": "code",
   "execution_count": 203,
   "id": "8111d34c-15bb-4f8c-a472-4421202bcc28",
   "metadata": {},
   "outputs": [],
   "source": [
    "def vartest(hello):\n",
    "    hello = hello + '1'"
   ]
  },
  {
   "cell_type": "code",
   "execution_count": 204,
   "id": "4da619fc-a20a-4e0f-93c5-4b1d04ffe332",
   "metadata": {},
   "outputs": [],
   "source": [
    "vartest('hello')"
   ]
  },
  {
   "cell_type": "code",
   "execution_count": 209,
   "id": "a7b22a94-a9ff-4619-b093-4ba619994b45",
   "metadata": {},
   "outputs": [
    {
     "name": "stdout",
     "output_type": "stream",
     "text": [
      "저는 python1을 공부합니다.\n"
     ]
    }
   ],
   "source": [
    "print(f\"저는 {vartest('python')}을 공부합니다.\")"
   ]
  },
  {
   "cell_type": "code",
   "execution_count": 212,
   "id": "86ba1221-0704-4702-abab-9da80439a69d",
   "metadata": {},
   "outputs": [
    {
     "name": "stdout",
     "output_type": "stream",
     "text": [
      "저는 python1을 공부합니다.\n"
     ]
    }
   ],
   "source": [
    "print(\"저는 {}을 공부합니다.\".format(vartest('python')))"
   ]
  },
  {
   "cell_type": "code",
   "execution_count": 97,
   "id": "6e1530e8-469e-4b81-9012-f6c365c67562",
   "metadata": {},
   "outputs": [
    {
     "name": "stdin",
     "output_type": "stream",
     "text": [
      " 12\n"
     ]
    },
    {
     "name": "stdout",
     "output_type": "stream",
     "text": [
      "[1, 2, 3, 4, 6, 12]\n"
     ]
    }
   ],
   "source": [
    "result = []\n",
    "\n",
    "n = int(input())\n",
    "for i in range(1, n+1) : \n",
    "    if n % i == 0 :\n",
    "        result.append(i)        \n",
    "print(result)"
   ]
  },
  {
   "cell_type": "code",
   "execution_count": 225,
   "id": "b7640944-8f3d-4e37-b415-4c9aa3e6aca9",
   "metadata": {},
   "outputs": [],
   "source": [
    "def print_reverse(asd):\n",
    "    print(asd[::-1])\n",
    "    "
   ]
  },
  {
   "cell_type": "code",
   "execution_count": 226,
   "id": "758176b2-739f-45aa-94df-100f02bead78",
   "metadata": {},
   "outputs": [
    {
     "name": "stdout",
     "output_type": "stream",
     "text": [
      "nohtyp\n"
     ]
    }
   ],
   "source": [
    "print_reverse(\"python\")"
   ]
  },
  {
   "cell_type": "code",
   "execution_count": 230,
   "id": "957ea561-880b-4060-8ba9-82533bfda821",
   "metadata": {},
   "outputs": [],
   "source": [
    "def print_score(ps):\n",
    "    print(sum(ps)/len(ps))"
   ]
  },
  {
   "cell_type": "code",
   "execution_count": 232,
   "id": "2eae80b1-34dc-4ddb-955a-25fa25c02b79",
   "metadata": {},
   "outputs": [
    {
     "name": "stdout",
     "output_type": "stream",
     "text": [
      "7.0\n"
     ]
    }
   ],
   "source": [
    "print_score ([6, 7, 8])"
   ]
  },
  {
   "cell_type": "code",
   "execution_count": 242,
   "id": "1679d218-13e0-41c7-bbf0-0944ee6911f9",
   "metadata": {},
   "outputs": [],
   "source": [
    "def even(es):\n",
    "    for  i in es:\n",
    "        if i%2==0:\n",
    "            print(i)"
   ]
  },
  {
   "cell_type": "code",
   "execution_count": 243,
   "id": "9036d2cc-9e1f-4516-b30e-491fa60cd897",
   "metadata": {},
   "outputs": [
    {
     "name": "stdout",
     "output_type": "stream",
     "text": [
      "2\n",
      "10\n",
      "12\n"
     ]
    }
   ],
   "source": [
    "even ([1, 3, 2, 10, 12, 11, 15])"
   ]
  },
  {
   "cell_type": "code",
   "execution_count": null,
   "id": "68aca289-4a74-4b48-b031-79d2a34bedcd",
   "metadata": {},
   "outputs": [],
   "source": [
    "def ad('"
   ]
  },
  {
   "cell_type": "code",
   "execution_count": 244,
   "id": "94e765b0-003b-4880-ab4b-6c05791a5a96",
   "metadata": {},
   "outputs": [
    {
     "name": "stdout",
     "output_type": "stream",
     "text": [
      "28\n"
     ]
    }
   ],
   "source": [
    "def a0(num) :\n",
    "    return num * 2\n",
    "\n",
    "def a1(num) :\n",
    "    return a0(num + 2)\n",
    "\n",
    "def a2(num) :\n",
    "    num = num + 10\n",
    "    return a1(num)\n",
    "\n",
    "c = a2(2)\n",
    "print(c)"
   ]
  },
  {
   "cell_type": "code",
   "execution_count": 3,
   "id": "03f37898-706b-45ca-afde-d3e9c25f42e2",
   "metadata": {},
   "outputs": [
    {
     "name": "stdin",
     "output_type": "stream",
     "text": [
      "숫자 1,2,6\n"
     ]
    }
   ],
   "source": [
    "num= input('숫자')\n",
    "def maxinum(a,b,c):\n",
    "    aa=0\n",
    "    if 'a'>aa:\n",
    "        print('a')\n",
    "    elif 'b'>aa:\n",
    "        print('b')\n",
    "    else:\n",
    "        print('c')"
   ]
  },
  {
   "cell_type": "code",
   "execution_count": 4,
   "id": "30f99935-2785-4f0f-97e6-18528ffe093a",
   "metadata": {},
   "outputs": [],
   "source": [
    "def say(): \n",
    "    return 'Hi' "
   ]
  },
  {
   "cell_type": "code",
   "execution_count": 5,
   "id": "01371bb4-832a-4416-9b2d-9014dd41022b",
   "metadata": {},
   "outputs": [
    {
     "name": "stdout",
     "output_type": "stream",
     "text": [
      "Hi\n"
     ]
    }
   ],
   "source": []
  },
  {
   "cell_type": "code",
   "execution_count": 8,
   "id": "2718ab35-ef1c-458c-a893-b50be4290024",
   "metadata": {},
   "outputs": [
    {
     "name": "stdout",
     "output_type": "stream",
     "text": [
      "1\n"
     ]
    }
   ],
   "source": [
    "a = 1\n",
    "def vartest(a):\n",
    "    a = a +1\n",
    "    return a\n",
    "\n",
    "vartest(a)\n",
    "print(a)"
   ]
  },
  {
   "cell_type": "code",
   "execution_count": 11,
   "id": "7ab30e0f-0a0d-4ef1-9410-ba54b3e9f6f2",
   "metadata": {},
   "outputs": [
    {
     "data": {
      "text/plain": [
       "2"
      ]
     },
     "execution_count": 11,
     "metadata": {},
     "output_type": "execute_result"
    }
   ],
   "source": [
    "vartest(a)"
   ]
  },
  {
   "cell_type": "code",
   "execution_count": 14,
   "id": "3c97a6d7-073f-41d5-a4b9-a1323eb06d74",
   "metadata": {},
   "outputs": [],
   "source": [
    "def num(a,b,c):\n",
    "    aa=0\n",
    "    if a>aa:\n",
    "        aa=a\n",
    "    if b>aa:\n",
    "        aa=b\n",
    "    if c>aa:\n",
    "        aa=c\n",
    "    return aa"
   ]
  },
  {
   "cell_type": "code",
   "execution_count": 15,
   "id": "f9483348-7794-469f-9883-b9582216a978",
   "metadata": {},
   "outputs": [
    {
     "name": "stdout",
     "output_type": "stream",
     "text": [
      "5\n"
     ]
    }
   ],
   "source": [
    "print(num(1,3,5))"
   ]
  },
  {
   "cell_type": "code",
   "execution_count": 16,
   "id": "e71b4250-1ef2-4d14-82bf-36ce1bf8930b",
   "metadata": {},
   "outputs": [
    {
     "data": {
      "text/plain": [
       "9"
      ]
     },
     "execution_count": 16,
     "metadata": {},
     "output_type": "execute_result"
    }
   ],
   "source": [
    "num(5,8,9)"
   ]
  },
  {
   "cell_type": "code",
   "execution_count": 19,
   "id": "e37398ba-5574-4d04-8bb1-fa29dfcdb9c8",
   "metadata": {},
   "outputs": [],
   "source": [
    "def pr(reverse):\n",
    "    return reverse[::-1]"
   ]
  },
  {
   "cell_type": "code",
   "execution_count": 22,
   "id": "b04dccf0-da37-42fd-bdd5-ea3b6941074e",
   "metadata": {},
   "outputs": [
    {
     "data": {
      "text/plain": [
       "'esrever'"
      ]
     },
     "execution_count": 22,
     "metadata": {},
     "output_type": "execute_result"
    }
   ],
   "source": [
    "pr('reverse')"
   ]
  },
  {
   "cell_type": "code",
   "execution_count": 40,
   "id": "0e88fe1f-08b3-4787-bb28-5a8f26716ff5",
   "metadata": {},
   "outputs": [],
   "source": [
    "def print_even(aa):\n",
    "    for i in aa:\n",
    "        if i%2==0:\n",
    "           \n",
    "            print(i)"
   ]
  },
  {
   "cell_type": "code",
   "execution_count": 46,
   "id": "0789475f-b670-4348-a00e-1cea0df220e2",
   "metadata": {},
   "outputs": [
    {
     "name": "stdout",
     "output_type": "stream",
     "text": [
      "2\n",
      "10\n",
      "12\n"
     ]
    }
   ],
   "source": [
    "print_even ([1, 3, 2, 10, 12, 11, 15])"
   ]
  },
  {
   "cell_type": "markdown",
   "id": "8e91680f-1aa6-4ba3-9384-2392f53066ed",
   "metadata": {},
   "source": [
    "print('*args',sep=' ', end='\\n')\n"
   ]
  },
  {
   "cell_type": "code",
   "execution_count": 47,
   "id": "024ce6a4-0394-40da-9f1d-509f7ae7ed05",
   "metadata": {},
   "outputs": [
    {
     "name": "stdout",
     "output_type": "stream",
     "text": [
      "hello world\n"
     ]
    }
   ],
   "source": [
    "print('hello','world')"
   ]
  },
  {
   "cell_type": "code",
   "execution_count": 48,
   "id": "ec7f279f-91ee-42cb-a24f-d187e74c1ecb",
   "metadata": {},
   "outputs": [
    {
     "name": "stdout",
     "output_type": "stream",
     "text": [
      "hello|world\n"
     ]
    }
   ],
   "source": [
    "print('hello','world',sep='|')"
   ]
  },
  {
   "cell_type": "code",
   "execution_count": 50,
   "id": "2ff0676b-5087-44a0-a0ff-bdb8b3f2a002",
   "metadata": {},
   "outputs": [
    {
     "name": "stdout",
     "output_type": "stream",
     "text": [
      "hello worldhello python\n"
     ]
    }
   ],
   "source": [
    "print('hello','world',end='')\n",
    "print('hello','python')"
   ]
  },
  {
   "cell_type": "markdown",
   "id": "0af1ff71-3adc-4a24-a6fc-2366f8df261e",
   "metadata": {},
   "source": [
    "print('{0},{1}'.format(value1,value2))"
   ]
  },
  {
   "cell_type": "code",
   "execution_count": 52,
   "id": "77f67a27-725b-4330-9279-a71d73428489",
   "metadata": {},
   "outputs": [
    {
     "name": "stdout",
     "output_type": "stream",
     "text": [
      "This is apple. That is banana.\n"
     ]
    }
   ],
   "source": [
    "print('This is {}. That is {}.' .format('apple','banana'))"
   ]
  },
  {
   "cell_type": "code",
   "execution_count": 53,
   "id": "803466a5-386e-4c38-88ab-4067c21e89b8",
   "metadata": {},
   "outputs": [
    {
     "name": "stdout",
     "output_type": "stream",
     "text": [
      "This is banana. That is apple.\n"
     ]
    }
   ],
   "source": [
    "print('This is {1}. That is {0}.' .format('apple','banana'))"
   ]
  },
  {
   "cell_type": "code",
   "execution_count": 54,
   "id": "9290dbe7-f45b-4385-8faf-c4133b19a778",
   "metadata": {},
   "outputs": [
    {
     "name": "stdout",
     "output_type": "stream",
     "text": [
      "This is apple. That is banana.\n"
     ]
    }
   ],
   "source": [
    "a='apple'\n",
    "b='banana'\n",
    "print('This is {}. That is {}.' .format(a,b))"
   ]
  },
  {
   "cell_type": "code",
   "execution_count": 55,
   "id": "3f111e1b-3bba-4831-bfcb-e0f374300c69",
   "metadata": {},
   "outputs": [
    {
     "name": "stdout",
     "output_type": "stream",
     "text": [
      "This is banana. That is apple.\n"
     ]
    }
   ],
   "source": [
    "a='apple'\n",
    "b='banana'\n",
    "print('This is {}. That is {}.' .format(b,a))"
   ]
  },
  {
   "cell_type": "code",
   "execution_count": 56,
   "id": "3ac91d0d-40b0-4695-b53c-5e42a730fbba",
   "metadata": {},
   "outputs": [
    {
     "name": "stdout",
     "output_type": "stream",
     "text": [
      "This is apple. That is banana\n"
     ]
    }
   ],
   "source": [
    "print('This is {fruit1}. That is {fruit2}'.format(fruit1='apple', fruit2='banana')) "
   ]
  },
  {
   "cell_type": "code",
   "execution_count": 57,
   "id": "263e30f9-cb3e-498b-bf32-5ac848283eb9",
   "metadata": {},
   "outputs": [
    {
     "name": "stdout",
     "output_type": "stream",
     "text": [
      "This is 13.457\n"
     ]
    }
   ],
   "source": [
    "print('This is {0:0.3f}'.format(13.45678))## 3자리 까지 출력 4자리에서 반올림 중요!!!!!!!!!!!!!!!!!!!!!!!"
   ]
  },
  {
   "cell_type": "code",
   "execution_count": 60,
   "id": "876674fa-8dfd-4288-8c22-2c4717a85e53",
   "metadata": {},
   "outputs": [
    {
     "name": "stdout",
     "output_type": "stream",
     "text": [
      "This is 13.4567800000\n"
     ]
    }
   ],
   "source": [
    "print('This is {0:0.10f}'.format(13.45678))"
   ]
  },
  {
   "cell_type": "code",
   "execution_count": 61,
   "id": "3ea9f7a1-7819-4b59-a335-2945700c68b5",
   "metadata": {},
   "outputs": [
    {
     "name": "stdout",
     "output_type": "stream",
     "text": [
      "This is 012\n"
     ]
    }
   ],
   "source": [
    "print('This is {:03d}'.format(12))"
   ]
  },
  {
   "cell_type": "code",
   "execution_count": 96,
   "id": "3e77a854-8bec-42da-acdb-1db933b7b3cf",
   "metadata": {},
   "outputs": [
    {
     "name": "stdout",
     "output_type": "stream",
     "text": [
      "This is 01234\n"
     ]
    }
   ],
   "source": [
    "print('This is {0:05d}'.format(1234))\n",
    "\n"
   ]
  },
  {
   "cell_type": "code",
   "execution_count": 66,
   "id": "2dcd436d-9cfe-46a1-8549-31d94c9327b1",
   "metadata": {},
   "outputs": [
    {
     "name": "stdout",
     "output_type": "stream",
     "text": [
      "This is 1234\n"
     ]
    }
   ],
   "source": [
    "print('This is {:3d}'.format(1234))"
   ]
  },
  {
   "cell_type": "markdown",
   "id": "89bbfab7-4c40-4a54-981d-5ddb40f82433",
   "metadata": {},
   "source": [
    "포맷팅\n",
    "-  %s : 문자열\n",
    "-  %d : 정수\n",
    "-  %f : 실수\n",
    "-  %0 : 8진수\n",
    "-  %x : 16진수"
   ]
  },
  {
   "cell_type": "code",
   "execution_count": 68,
   "id": "c0a81095-3600-4bf0-a18b-9e9648f9159b",
   "metadata": {},
   "outputs": [
    {
     "name": "stdout",
     "output_type": "stream",
     "text": [
      "This is apple. That is banana. \n"
     ]
    }
   ],
   "source": [
    "print(f'This is %s. That is %s. '%('apple','banana'))"
   ]
  },
  {
   "cell_type": "code",
   "execution_count": 70,
   "id": "e91ce84f-a86d-4544-a1a0-c937655627ff",
   "metadata": {},
   "outputs": [
    {
     "name": "stdout",
     "output_type": "stream",
     "text": [
      "This is bottle.\n"
     ]
    }
   ],
   "source": [
    "print(f'This is %s.' %('bottle'))"
   ]
  },
  {
   "cell_type": "code",
   "execution_count": 72,
   "id": "34572e69-9443-41bb-93f5-db7d93e2f17e",
   "metadata": {},
   "outputs": [
    {
     "name": "stdout",
     "output_type": "stream",
     "text": [
      "The value is 1\n"
     ]
    }
   ],
   "source": [
    "print(f'The value is %d' % 1)"
   ]
  },
  {
   "cell_type": "code",
   "execution_count": 77,
   "id": "8d57942e-6cad-400d-8808-f4085c6bc654",
   "metadata": {},
   "outputs": [
    {
     "name": "stdout",
     "output_type": "stream",
     "text": [
      "The value is 00001\n"
     ]
    }
   ],
   "source": [
    "print(f'The value is %05d' % 1)"
   ]
  },
  {
   "cell_type": "code",
   "execution_count": 94,
   "id": "eac02fd7-7d5b-4e97-9c69-8abbd5572ba0",
   "metadata": {},
   "outputs": [
    {
     "name": "stdout",
     "output_type": "stream",
     "text": [
      "2 * 1 =  2\n",
      "2 * 2 =  4\n",
      "2 * 3 =  6\n",
      "2 * 4 =  8\n",
      "2 * 5 = 10\n",
      "2 * 6 = 12\n",
      "2 * 7 = 14\n",
      "2 * 8 = 16\n",
      "2 * 9 = 18\n",
      "3 * 1 =  3\n",
      "3 * 2 =  6\n",
      "3 * 3 =  9\n",
      "3 * 4 = 12\n",
      "3 * 5 = 15\n",
      "3 * 6 = 18\n",
      "3 * 7 = 21\n",
      "3 * 8 = 24\n",
      "3 * 9 = 27\n",
      "4 * 1 =  4\n",
      "4 * 2 =  8\n",
      "4 * 3 = 12\n",
      "4 * 4 = 16\n",
      "4 * 5 = 20\n",
      "4 * 6 = 24\n",
      "4 * 7 = 28\n",
      "4 * 8 = 32\n",
      "4 * 9 = 36\n",
      "5 * 1 =  5\n",
      "5 * 2 = 10\n",
      "5 * 3 = 15\n",
      "5 * 4 = 20\n",
      "5 * 5 = 25\n",
      "5 * 6 = 30\n",
      "5 * 7 = 35\n",
      "5 * 8 = 40\n",
      "5 * 9 = 45\n",
      "6 * 1 =  6\n",
      "6 * 2 = 12\n",
      "6 * 3 = 18\n",
      "6 * 4 = 24\n",
      "6 * 5 = 30\n",
      "6 * 6 = 36\n",
      "6 * 7 = 42\n",
      "6 * 8 = 48\n",
      "6 * 9 = 54\n",
      "7 * 1 =  7\n",
      "7 * 2 = 14\n",
      "7 * 3 = 21\n",
      "7 * 4 = 28\n",
      "7 * 5 = 35\n",
      "7 * 6 = 42\n",
      "7 * 7 = 49\n",
      "7 * 8 = 56\n",
      "7 * 9 = 63\n",
      "8 * 1 =  8\n",
      "8 * 2 = 16\n",
      "8 * 3 = 24\n",
      "8 * 4 = 32\n",
      "8 * 5 = 40\n",
      "8 * 6 = 48\n",
      "8 * 7 = 56\n",
      "8 * 8 = 64\n",
      "8 * 9 = 72\n",
      "9 * 1 =  9\n",
      "9 * 2 = 18\n",
      "9 * 3 = 27\n",
      "9 * 4 = 36\n",
      "9 * 5 = 45\n",
      "9 * 6 = 54\n",
      "9 * 7 = 63\n",
      "9 * 8 = 72\n",
      "9 * 9 = 81\n"
     ]
    }
   ],
   "source": [
    "for i in range(2,10):\n",
    "    for j in range(1,10):\n",
    "        print(f'%d * %d = %2d'%(i,j,i*j))"
   ]
  },
  {
   "cell_type": "code",
   "execution_count": 95,
   "id": "114799bc-e8ae-4c6a-adfa-2fcad8f09314",
   "metadata": {},
   "outputs": [
    {
     "name": "stdout",
     "output_type": "stream",
     "text": [
      "2 * 1 =    2\n",
      "2 * 2 =    4\n",
      "2 * 3 =    6\n",
      "2 * 4 =    8\n",
      "2 * 5 =   10\n",
      "2 * 6 =   12\n",
      "2 * 7 =   14\n",
      "2 * 8 =   16\n",
      "2 * 9 =   18\n",
      "3 * 1 =    3\n",
      "3 * 2 =    6\n",
      "3 * 3 =    9\n",
      "3 * 4 =   12\n",
      "3 * 5 =   15\n",
      "3 * 6 =   18\n",
      "3 * 7 =   21\n",
      "3 * 8 =   24\n",
      "3 * 9 =   27\n",
      "4 * 1 =    4\n",
      "4 * 2 =    8\n",
      "4 * 3 =   12\n",
      "4 * 4 =   16\n",
      "4 * 5 =   20\n",
      "4 * 6 =   24\n",
      "4 * 7 =   28\n",
      "4 * 8 =   32\n",
      "4 * 9 =   36\n",
      "5 * 1 =    5\n",
      "5 * 2 =   10\n",
      "5 * 3 =   15\n",
      "5 * 4 =   20\n",
      "5 * 5 =   25\n",
      "5 * 6 =   30\n",
      "5 * 7 =   35\n",
      "5 * 8 =   40\n",
      "5 * 9 =   45\n",
      "6 * 1 =    6\n",
      "6 * 2 =   12\n",
      "6 * 3 =   18\n",
      "6 * 4 =   24\n",
      "6 * 5 =   30\n",
      "6 * 6 =   36\n",
      "6 * 7 =   42\n",
      "6 * 8 =   48\n",
      "6 * 9 =   54\n",
      "7 * 1 =    7\n",
      "7 * 2 =   14\n",
      "7 * 3 =   21\n",
      "7 * 4 =   28\n",
      "7 * 5 =   35\n",
      "7 * 6 =   42\n",
      "7 * 7 =   49\n",
      "7 * 8 =   56\n",
      "7 * 9 =   63\n",
      "8 * 1 =    8\n",
      "8 * 2 =   16\n",
      "8 * 3 =   24\n",
      "8 * 4 =   32\n",
      "8 * 5 =   40\n",
      "8 * 6 =   48\n",
      "8 * 7 =   56\n",
      "8 * 8 =   64\n",
      "8 * 9 =   72\n",
      "9 * 1 =    9\n",
      "9 * 2 =   18\n",
      "9 * 3 =   27\n",
      "9 * 4 =   36\n",
      "9 * 5 =   45\n",
      "9 * 6 =   54\n",
      "9 * 7 =   63\n",
      "9 * 8 =   72\n",
      "9 * 9 =   81\n"
     ]
    }
   ],
   "source": [
    "for i in range(2,10):\n",
    "    for j in range(1,10):\n",
    "        print(f'%d * %d = %4d'%(i,j,i*j))"
   ]
  },
  {
   "cell_type": "code",
   "execution_count": 83,
   "id": "8ea87701-3a91-44b5-b76b-a5bdbd94d7f1",
   "metadata": {},
   "outputs": [
    {
     "name": "stdout",
     "output_type": "stream",
     "text": [
      "The value is 123.457\n"
     ]
    }
   ],
   "source": [
    "print(f'The value is %.3f' % 123.45678)"
   ]
  },
  {
   "cell_type": "code",
   "execution_count": 84,
   "id": "28af55d3-7ade-4566-9ccf-faf25857220a",
   "metadata": {},
   "outputs": [
    {
     "name": "stdout",
     "output_type": "stream",
     "text": [
      "The value is 123.457\n"
     ]
    }
   ],
   "source": [
    "print('The value is %.3f' % 123.45678)"
   ]
  },
  {
   "cell_type": "markdown",
   "id": "45c34b9a-f69f-4533-986a-7308ce37b3aa",
   "metadata": {},
   "source": [
    "2진수 0 1 10 11 100 101 110 111"
   ]
  },
  {
   "cell_type": "markdown",
   "id": "b79906cd-4f41-4147-9383-330aaf3dcb47",
   "metadata": {},
   "source": [
    "10진수 0 1 2 3 4 5 6 7 8 9 10 11 12 13 14 15 16 17\n",
    "16진수 0 1 2 3 4 5 6 7 8 9 a  b  c  d  e  f  10 11"
   ]
  },
  {
   "cell_type": "code",
   "execution_count": 91,
   "id": "239ee6fe-e8ab-40d7-a91e-4eabb01bf7a3",
   "metadata": {},
   "outputs": [
    {
     "name": "stdout",
     "output_type": "stream",
     "text": [
      "The value is 0.\n",
      "The value is 1.\n",
      "The value is 2.\n",
      "The value is 3.\n",
      "The value is 4.\n",
      "The value is 5.\n",
      "The value is 6.\n",
      "The value is 7.\n",
      "The value is 10.\n",
      "The value is 11.\n"
     ]
    }
   ],
   "source": [
    "for i in range(10):\n",
    "    print(f'The value is %o.' %i)"
   ]
  },
  {
   "cell_type": "code",
   "execution_count": 92,
   "id": "47982247-e547-4f83-86d9-4130d3e15639",
   "metadata": {},
   "outputs": [
    {
     "name": "stdout",
     "output_type": "stream",
     "text": [
      " The value is 0.\n",
      " The value is 1.\n",
      " The value is 2.\n",
      " The value is 3.\n",
      " The value is 4.\n",
      " The value is 5.\n",
      " The value is 6.\n",
      " The value is 7.\n",
      " The value is 8.\n",
      " The value is 9.\n",
      " The value is a.\n",
      " The value is b.\n",
      " The value is c.\n",
      " The value is d.\n",
      " The value is e.\n",
      " The value is f.\n",
      " The value is 10.\n",
      " The value is 11.\n"
     ]
    }
   ],
   "source": [
    "for i in range(18):\n",
    "    print(f' The value is %x.' %i)"
   ]
  },
  {
   "cell_type": "code",
   "execution_count": 109,
   "id": "c04137dd-a8bb-4b15-ad17-a3f91591f810",
   "metadata": {},
   "outputs": [],
   "source": [
    "def even(ac):\n",
    "    for i in ac:\n",
    "        if i%2==0 :\n",
    "            print(i)"
   ]
  },
  {
   "cell_type": "code",
   "execution_count": 110,
   "id": "1ea0c3e7-788b-45ff-9dce-d4efb23affbb",
   "metadata": {},
   "outputs": [
    {
     "name": "stdout",
     "output_type": "stream",
     "text": [
      "2\n",
      "10\n",
      "12\n"
     ]
    }
   ],
   "source": [
    "even([1, 3, 2, 10, 12, 11, 15])"
   ]
  },
  {
   "cell_type": "code",
   "execution_count": 111,
   "id": "9649056d-676f-47ae-bb1d-19bd0c1fb98a",
   "metadata": {},
   "outputs": [],
   "source": [
    "def dic_1(ab):\n",
    "    for i in ab:\n",
    "        print(i)"
   ]
  },
  {
   "cell_type": "code",
   "execution_count": 115,
   "id": "f1ad5240-b66f-4a6e-9fea-64dbd9244e11",
   "metadata": {},
   "outputs": [
    {
     "name": "stdout",
     "output_type": "stream",
     "text": [
      "1\n",
      "2\n",
      "3\n",
      "4\n",
      "5\n"
     ]
    }
   ],
   "source": [
    "dic_1([1,2,3,4,5])"
   ]
  },
  {
   "cell_type": "code",
   "execution_count": 121,
   "id": "c16f38f4-c637-42fa-9296-c2826e5787b0",
   "metadata": {},
   "outputs": [],
   "source": [
    "def dic_1(dic):\n",
    "    for i in dic.keys():\n",
    "        print(i)"
   ]
  },
  {
   "cell_type": "code",
   "execution_count": 122,
   "id": "0b088231-f912-49f7-a2bf-eed28451f2af",
   "metadata": {},
   "outputs": [
    {
     "name": "stdout",
     "output_type": "stream",
     "text": [
      "이름\n",
      "나이\n",
      "성별\n"
     ]
    }
   ],
   "source": [
    "dic_1 ({\"이름\":\"김말똥\", \"나이\":30, \"성별\":0})\n"
   ]
  },
  {
   "cell_type": "code",
   "execution_count": 123,
   "id": "3dca628f-c465-4592-8600-f99e2c443747",
   "metadata": {},
   "outputs": [],
   "source": [
    "def dic_2(dic):\n",
    "    for i in dic.keys():\n",
    "        print(i)"
   ]
  },
  {
   "cell_type": "code",
   "execution_count": 125,
   "id": "740a1230-1daf-441a-babf-fbdd8a0068dc",
   "metadata": {},
   "outputs": [
    {
     "name": "stdout",
     "output_type": "stream",
     "text": [
      "이름\n",
      "나이\n",
      "성별\n"
     ]
    }
   ],
   "source": [
    "dic_2 ({\"이름\":\"김말똥\", \"나이\":30, \"성별\":0})\n"
   ]
  },
  {
   "cell_type": "code",
   "execution_count": 126,
   "id": "f5e9dee8-5200-4e62-80db-f3c2eeaf6b10",
   "metadata": {},
   "outputs": [],
   "source": [
    "my_dict = {\"10/26\" : [100, 130, 100, 100],\n",
    "           \"10/27\" : [10, 12, 10, 11]}"
   ]
  },
  {
   "cell_type": "code",
   "execution_count": 129,
   "id": "c367ad8e-6e06-4f74-ba88-ac2e589a0fb3",
   "metadata": {},
   "outputs": [],
   "source": [
    "def vbk(my_dict):\n",
    "    if my_dict[0]:\n",
    "        print(my_dict[0].values())\n",
    "    else:\n",
    "        print(my_dict.values())"
   ]
  },
  {
   "cell_type": "code",
   "execution_count": 131,
   "id": "ee177b3c-c8bc-4c41-83e4-5034ad2d0687",
   "metadata": {},
   "outputs": [],
   "source": [
    "scores = [8.8, 8.9, 8.7, 9.2, 9.3, 9.7, 9.9, 9.5, 7.8, 9.4]"
   ]
  },
  {
   "cell_type": "code",
   "execution_count": 132,
   "id": "23f3e41f-22e4-4de7-b06e-79f89c778efc",
   "metadata": {},
   "outputs": [
    {
     "data": {
      "text/plain": [
       "[8.8, 8.9, 8.7, 9.2, 9.3, 9.7, 9.9, 9.5, 7.8]"
      ]
     },
     "execution_count": 132,
     "metadata": {},
     "output_type": "execute_result"
    }
   ],
   "source": [
    "scores[0:9]"
   ]
  },
  {
   "cell_type": "code",
   "execution_count": 140,
   "id": "fb298c8a-1bbf-4946-ad69-26ff32b0bac5",
   "metadata": {},
   "outputs": [],
   "source": [
    "ice = {\"메로나\": 1000, \"폴라포\": 1200, \"빵빠레\": 1800}\n",
    "ice['죠스바']=1200\n"
   ]
  },
  {
   "cell_type": "code",
   "execution_count": 141,
   "id": "1822013f-570d-4312-8f38-b5f155cf17a2",
   "metadata": {},
   "outputs": [
    {
     "data": {
      "text/plain": [
       "{'메로나': 1000, '폴라포': 1200, '빵빠레': 1800, '죠스바': 1200}"
      ]
     },
     "execution_count": 141,
     "metadata": {},
     "output_type": "execute_result"
    }
   ],
   "source": [
    "ice"
   ]
  },
  {
   "cell_type": "code",
   "execution_count": 142,
   "id": "93775571-f732-4115-976a-0634a4b86514",
   "metadata": {},
   "outputs": [
    {
     "data": {
      "text/plain": [
       "1000"
      ]
     },
     "execution_count": 142,
     "metadata": {},
     "output_type": "execute_result"
    }
   ],
   "source": [
    "ice['메로나']"
   ]
  },
  {
   "cell_type": "code",
   "execution_count": 143,
   "id": "f00a4d20-e5f4-4ecf-93d8-91b2350f596c",
   "metadata": {},
   "outputs": [],
   "source": [
    "ice['메로나']=1300"
   ]
  },
  {
   "cell_type": "code",
   "execution_count": 144,
   "id": "0c0d605a-dbc3-4a23-9017-9b7dba6cc96a",
   "metadata": {},
   "outputs": [
    {
     "data": {
      "text/plain": [
       "{'메로나': 1300, '폴라포': 1200, '빵빠레': 1800, '죠스바': 1200}"
      ]
     },
     "execution_count": 144,
     "metadata": {},
     "output_type": "execute_result"
    }
   ],
   "source": [
    "ice"
   ]
  },
  {
   "cell_type": "code",
   "execution_count": 145,
   "id": "ab7045ed-524d-48f7-af9a-5762139422d7",
   "metadata": {},
   "outputs": [],
   "source": [
    "del(ice['메로나'])"
   ]
  },
  {
   "cell_type": "code",
   "execution_count": 146,
   "id": "d976cff6-210b-4dd6-9da8-12e7ab1cb72d",
   "metadata": {},
   "outputs": [
    {
     "data": {
      "text/plain": [
       "{'폴라포': 1200, '빵빠레': 1800, '죠스바': 1200}"
      ]
     },
     "execution_count": 146,
     "metadata": {},
     "output_type": "execute_result"
    }
   ],
   "source": [
    "ice"
   ]
  },
  {
   "cell_type": "code",
   "execution_count": 147,
   "id": "55fa0818-7446-44f4-95d4-77bd5b90eaf6",
   "metadata": {},
   "outputs": [],
   "source": [
    "ice = {\"메로나\": [1000,20], \"폴라포\": [1200,3], \"빵빠레\": [1800,100]}"
   ]
  },
  {
   "cell_type": "code",
   "execution_count": 148,
   "id": "3677d6f0-7a08-436c-b914-6ff2681cf82d",
   "metadata": {},
   "outputs": [
    {
     "data": {
      "text/plain": [
       "{'메로나': [1000, 20], '폴라포': [1200, 3], '빵빠레': [1800, 100]}"
      ]
     },
     "execution_count": 148,
     "metadata": {},
     "output_type": "execute_result"
    }
   ],
   "source": [
    "ice"
   ]
  },
  {
   "cell_type": "code",
   "execution_count": 149,
   "id": "7e802eff-6d80-4191-9e83-85b34efe8b4e",
   "metadata": {},
   "outputs": [
    {
     "data": {
      "text/plain": [
       "1000"
      ]
     },
     "execution_count": 149,
     "metadata": {},
     "output_type": "execute_result"
    }
   ],
   "source": [
    "ice['메로나'][0]"
   ]
  },
  {
   "cell_type": "code",
   "execution_count": 152,
   "id": "98400f23-ad10-4031-a644-f5495522b34c",
   "metadata": {},
   "outputs": [],
   "source": [
    "ice['죠스바']=[500.7]"
   ]
  },
  {
   "cell_type": "code",
   "execution_count": 153,
   "id": "8dc2cb14-d05f-4a00-937a-1ae9a8e6be95",
   "metadata": {},
   "outputs": [
    {
     "data": {
      "text/plain": [
       "{'메로나': [1000, 20], '폴라포': [1200, 3], '빵빠레': [1800, 100], '죠스바': [500.7]}"
      ]
     },
     "execution_count": 153,
     "metadata": {},
     "output_type": "execute_result"
    }
   ],
   "source": [
    "ice"
   ]
  },
  {
   "cell_type": "code",
   "execution_count": 154,
   "id": "e584336e-e6f0-4a54-8292-7a99ce63396d",
   "metadata": {},
   "outputs": [],
   "source": [
    "icecream = {'탱크보이': 1200, '폴라포': 1200, '빵빠레': 1800, '월드콘': 1500, '메로나': 1000}"
   ]
  },
  {
   "cell_type": "code",
   "execution_count": 155,
   "id": "4cec2c7c-cdf3-41d8-884f-39134b18a7f5",
   "metadata": {},
   "outputs": [],
   "source": [
    "ICe=list(icecream.keys())"
   ]
  },
  {
   "cell_type": "code",
   "execution_count": 156,
   "id": "7adbf64a-06d4-4469-8d03-1346e9ec3617",
   "metadata": {},
   "outputs": [
    {
     "data": {
      "text/plain": [
       "['탱크보이', '폴라포', '빵빠레', '월드콘', '메로나']"
      ]
     },
     "execution_count": 156,
     "metadata": {},
     "output_type": "execute_result"
    }
   ],
   "source": [
    "ICe"
   ]
  },
  {
   "cell_type": "code",
   "execution_count": 157,
   "id": "4e46c17b-f2f4-4eb4-a2b4-d5c4cd35a983",
   "metadata": {},
   "outputs": [],
   "source": [
    "ICe=list(icecream.values())"
   ]
  },
  {
   "cell_type": "code",
   "execution_count": 159,
   "id": "a5d9fdc7-fec5-4c8e-bf0d-768530aa776b",
   "metadata": {},
   "outputs": [
    {
     "data": {
      "text/plain": [
       "6700"
      ]
     },
     "execution_count": 159,
     "metadata": {},
     "output_type": "execute_result"
    }
   ],
   "source": [
    "sum(ICe)"
   ]
  },
  {
   "cell_type": "code",
   "execution_count": 161,
   "id": "d401d7d5-3b84-4bb2-88f1-9013c8607174",
   "metadata": {},
   "outputs": [],
   "source": [
    "icecream = {'탱크보이': 1200, '폴라포': 1200, '빵빠레': 1800, '월드콘': 1500, '메로나': 1000}\n",
    "new_product = {'팥빙수':2700, '아맛나':1000}"
   ]
  },
  {
   "cell_type": "code",
   "execution_count": 162,
   "id": "872ad87d-5b3c-4d14-9e71-5df14450d039",
   "metadata": {},
   "outputs": [],
   "source": [
    "icecream.update(new_product)"
   ]
  },
  {
   "cell_type": "code",
   "execution_count": 163,
   "id": "49124ab3-572d-4d52-a1e8-e1db0cac63df",
   "metadata": {},
   "outputs": [
    {
     "data": {
      "text/plain": [
       "{'탱크보이': 1200,\n",
       " '폴라포': 1200,\n",
       " '빵빠레': 1800,\n",
       " '월드콘': 1500,\n",
       " '메로나': 1000,\n",
       " '팥빙수': 2700,\n",
       " '아맛나': 1000}"
      ]
     },
     "execution_count": 163,
     "metadata": {},
     "output_type": "execute_result"
    }
   ],
   "source": [
    "icecream"
   ]
  },
  {
   "cell_type": "code",
   "execution_count": 164,
   "id": "72ce00c5-3b62-4f1a-abb4-68b8c0ac3174",
   "metadata": {},
   "outputs": [],
   "source": [
    "keys = (\"apple\", \"pear\", \"peach\")\n",
    "vals = (300, 250, 400)"
   ]
  },
  {
   "cell_type": "code",
   "execution_count": 167,
   "id": "5ce4884c-10e1-47a5-9b77-6d24971e88b7",
   "metadata": {},
   "outputs": [],
   "source": [
    "result=[keys,vals]"
   ]
  },
  {
   "cell_type": "code",
   "execution_count": 168,
   "id": "160bf114-3e30-4511-a608-e90e074f69f7",
   "metadata": {},
   "outputs": [
    {
     "data": {
      "text/plain": [
       "[('apple', 'pear', 'peach'), (300, 250, 400)]"
      ]
     },
     "execution_count": 168,
     "metadata": {},
     "output_type": "execute_result"
    }
   ],
   "source": [
    "result"
   ]
  },
  {
   "cell_type": "code",
   "execution_count": 188,
   "id": "cf7b953a-2d8e-49ee-af48-f513d07bb572",
   "metadata": {},
   "outputs": [],
   "source": [
    "result={}"
   ]
  },
  {
   "cell_type": "code",
   "execution_count": 186,
   "id": "13c4652e-52dc-4f84-a362-77312318e146",
   "metadata": {},
   "outputs": [],
   "source": [
    "result[list(keys)]:[list(vals)]"
   ]
  },
  {
   "cell_type": "code",
   "execution_count": 193,
   "id": "186b4453-b133-4028-9fde-7b65d7091b6b",
   "metadata": {},
   "outputs": [
    {
     "data": {
      "text/plain": [
       "{}"
      ]
     },
     "execution_count": 193,
     "metadata": {},
     "output_type": "execute_result"
    }
   ],
   "source": [
    "result"
   ]
  },
  {
   "cell_type": "code",
   "execution_count": 194,
   "id": "2c3882bb-ba15-4f21-9337-edbec6998263",
   "metadata": {},
   "outputs": [],
   "source": [
    "result[keys]=vals"
   ]
  },
  {
   "cell_type": "code",
   "execution_count": 195,
   "id": "68e28ec7-33c1-4225-860e-fa3b6cd460da",
   "metadata": {},
   "outputs": [
    {
     "data": {
      "text/plain": [
       "{('apple', 'pear', 'peach'): (300, 250, 400)}"
      ]
     },
     "execution_count": 195,
     "metadata": {},
     "output_type": "execute_result"
    }
   ],
   "source": [
    "result"
   ]
  },
  {
   "cell_type": "code",
   "execution_count": 197,
   "id": "60857593-a5df-4ae7-b0c9-01621ac75032",
   "metadata": {},
   "outputs": [
    {
     "data": {
      "text/plain": [
       "{'apple': 300, 'pear': 250, 'peach': 400}"
      ]
     },
     "execution_count": 197,
     "metadata": {},
     "output_type": "execute_result"
    }
   ],
   "source": [
    "dict(zip(keys,vals))"
   ]
  },
  {
   "cell_type": "code",
   "execution_count": 199,
   "id": "c7712998-0362-4c2c-93d4-e8ad187f4804",
   "metadata": {},
   "outputs": [],
   "source": [
    "dict_1=dict(zip(keys,vals))"
   ]
  },
  {
   "cell_type": "code",
   "execution_count": 200,
   "id": "b465ed17-1161-4826-b986-182da1dc3add",
   "metadata": {},
   "outputs": [],
   "source": [
    "date = ['09/05', '09/06', '09/07', '09/08', '09/09']\n",
    "close_price = [10500, 10300, 10100, 10800, 11000]"
   ]
  },
  {
   "cell_type": "code",
   "execution_count": 201,
   "id": "b96bf0ef-d413-443c-b0da-c782fc6bbd6d",
   "metadata": {},
   "outputs": [],
   "source": [
    "close_table=dict(zip(date,close_price))"
   ]
  },
  {
   "cell_type": "code",
   "execution_count": 203,
   "id": "8cf9064f-2fa9-46b7-a149-8ade1b38bb48",
   "metadata": {},
   "outputs": [
    {
     "name": "stdout",
     "output_type": "stream",
     "text": [
      "{'09/05': 10500, '09/06': 10300, '09/07': 10100, '09/08': 10800, '09/09': 11000}\n"
     ]
    }
   ],
   "source": [
    "print(close_table)"
   ]
  },
  {
   "cell_type": "code",
   "execution_count": 204,
   "id": "35477504-f4b5-45a8-8e28-c8cacc4f6542",
   "metadata": {},
   "outputs": [],
   "source": [
    "a, b, *c = (0, 1, 2, 3, 4, 5)"
   ]
  },
  {
   "cell_type": "code",
   "execution_count": 205,
   "id": "a3e3cbe1-4c44-4a55-b497-45cff9df29db",
   "metadata": {},
   "outputs": [
    {
     "data": {
      "text/plain": [
       "0"
      ]
     },
     "execution_count": 205,
     "metadata": {},
     "output_type": "execute_result"
    }
   ],
   "source": [
    "a"
   ]
  },
  {
   "cell_type": "code",
   "execution_count": 206,
   "id": "4674a664-46ef-4d86-a832-e78dac335ce2",
   "metadata": {},
   "outputs": [
    {
     "data": {
      "text/plain": [
       "[2, 3, 4, 5]"
      ]
     },
     "execution_count": 206,
     "metadata": {},
     "output_type": "execute_result"
    }
   ],
   "source": [
    "c"
   ]
  },
  {
   "cell_type": "code",
   "execution_count": 207,
   "id": "6348d4bb-413b-442f-9b4e-16fde1d37bf1",
   "metadata": {},
   "outputs": [],
   "source": [
    "scores = [8.8, 8.9, 8.7, 9.2, 9.3, 9.7, 9.9, 9.5, 7.8, 9.4]"
   ]
  },
  {
   "cell_type": "code",
   "execution_count": 209,
   "id": "1b872090-f4d3-4296-94d5-e82382fd4e67",
   "metadata": {},
   "outputs": [
    {
     "data": {
      "text/plain": [
       "[8.7, 9.2, 9.3, 9.7, 9.9, 9.5, 7.8, 9.4]"
      ]
     },
     "execution_count": 209,
     "metadata": {},
     "output_type": "execute_result"
    }
   ],
   "source": [
    "scores[2:]"
   ]
  },
  {
   "cell_type": "code",
   "execution_count": 210,
   "id": "b51d1129-1a3f-46ff-932a-4a6df81d5f7b",
   "metadata": {},
   "outputs": [
    {
     "data": {
      "text/plain": [
       "[8.9, 8.7, 9.2, 9.3, 9.7, 9.9, 9.5, 7.8]"
      ]
     },
     "execution_count": 210,
     "metadata": {},
     "output_type": "execute_result"
    }
   ],
   "source": [
    "scores[1:-1]"
   ]
  },
  {
   "cell_type": "code",
   "execution_count": 227,
   "id": "aa71e859-60ea-46c7-9b11-aa5326484a10",
   "metadata": {},
   "outputs": [],
   "source": [
    "dict_1={'메로나':1000,'폴라포':1200,'빵빠레':1800}"
   ]
  },
  {
   "cell_type": "code",
   "execution_count": 228,
   "id": "ed329663-4e02-4b96-9422-1f8ce0044fa5",
   "metadata": {},
   "outputs": [
    {
     "data": {
      "text/plain": [
       "{'메로나': 1000, '폴라포': 1200, '빵빠레': 1800}"
      ]
     },
     "execution_count": 228,
     "metadata": {},
     "output_type": "execute_result"
    }
   ],
   "source": [
    "dict_1"
   ]
  },
  {
   "cell_type": "code",
   "execution_count": 229,
   "id": "9a197027-b248-422d-817c-cbee30f6073e",
   "metadata": {},
   "outputs": [],
   "source": [
    "dict_1['죠스바']=1200"
   ]
  },
  {
   "cell_type": "code",
   "execution_count": 230,
   "id": "0fabfe31-1799-42de-978e-32927c2c4127",
   "metadata": {},
   "outputs": [
    {
     "data": {
      "text/plain": [
       "{'메로나': 1000, '폴라포': 1200, '빵빠레': 1800, '죠스바': 1200}"
      ]
     },
     "execution_count": 230,
     "metadata": {},
     "output_type": "execute_result"
    }
   ],
   "source": [
    "dict_1"
   ]
  },
  {
   "cell_type": "code",
   "execution_count": 232,
   "id": "b6444b8d-694c-49ca-b7f1-d3e50070f7c4",
   "metadata": {},
   "outputs": [
    {
     "data": {
      "text/plain": [
       "1000"
      ]
     },
     "execution_count": 232,
     "metadata": {},
     "output_type": "execute_result"
    }
   ],
   "source": [
    "dict_1['메로나']"
   ]
  },
  {
   "cell_type": "code",
   "execution_count": 233,
   "id": "31ab836b-d284-4a29-9261-d743271f934a",
   "metadata": {},
   "outputs": [],
   "source": [
    "del(dict_1['메로나'])"
   ]
  },
  {
   "cell_type": "code",
   "execution_count": 235,
   "id": "a4c84367-ba49-480b-8f55-ee5b71e82864",
   "metadata": {},
   "outputs": [
    {
     "data": {
      "text/plain": [
       "{'폴라포': 1200, '빵빠레': 1800, '죠스바': 1200}"
      ]
     },
     "execution_count": 235,
     "metadata": {},
     "output_type": "execute_result"
    }
   ],
   "source": [
    "dict_1"
   ]
  },
  {
   "cell_type": "code",
   "execution_count": 262,
   "id": "8fc31237-195f-4563-86d8-baedda2bf5dc",
   "metadata": {},
   "outputs": [],
   "source": [
    "dict_1={'메로나':[1000,20],'폴라포':[1200,23],'빵빠레':[1800,319]}"
   ]
  },
  {
   "cell_type": "code",
   "execution_count": 237,
   "id": "b7f01ed1-0314-4071-bfea-70793900599a",
   "metadata": {},
   "outputs": [
    {
     "data": {
      "text/plain": [
       "{'메로나': [1000, 20], '폴라포': [1200, 23], '빵빠레': [1800, 319]}"
      ]
     },
     "execution_count": 237,
     "metadata": {},
     "output_type": "execute_result"
    }
   ],
   "source": [
    "dict_1"
   ]
  },
  {
   "cell_type": "code",
   "execution_count": 238,
   "id": "73dabb63-61ea-49a0-ad7a-f3485fc2e694",
   "metadata": {},
   "outputs": [
    {
     "name": "stdout",
     "output_type": "stream",
     "text": [
      "1000 원\n"
     ]
    }
   ],
   "source": [
    "print(dict_1['메로나'][0],'원')"
   ]
  },
  {
   "cell_type": "code",
   "execution_count": 264,
   "id": "7d3e76a5-fdef-43ab-8910-abe88d1dfb3e",
   "metadata": {},
   "outputs": [],
   "source": [
    "dict_1"
   ]
  },
  {
   "cell_type": "code",
   "execution_count": 265,
   "id": "5303726d-0ac2-4970-8229-e296020d79e5",
   "metadata": {},
   "outputs": [
    {
     "data": {
      "text/plain": [
       "{'메로나': [1000, 20], '폴라포': [1200, 23], '빵빠레': [1800, 319]}"
      ]
     },
     "execution_count": 265,
     "metadata": {},
     "output_type": "execute_result"
    }
   ],
   "source": [
    "dict_1"
   ]
  },
  {
   "cell_type": "code",
   "execution_count": 249,
   "id": "f7df41e3-130f-42cd-ae57-d678de487319",
   "metadata": {},
   "outputs": [],
   "source": [
    "icecream = {'탱크보이': 1200, '폴라포': 1200, '빵빠레': 1800, '월드콘': 1500, '메로나': 1000}"
   ]
  },
  {
   "cell_type": "code",
   "execution_count": 250,
   "id": "548b9605-636e-430c-9c5e-87cd80680097",
   "metadata": {},
   "outputs": [
    {
     "data": {
      "text/plain": [
       "dict_keys(['탱크보이', '폴라포', '빵빠레', '월드콘', '메로나'])"
      ]
     },
     "execution_count": 250,
     "metadata": {},
     "output_type": "execute_result"
    }
   ],
   "source": [
    "icecream.keys()"
   ]
  },
  {
   "cell_type": "code",
   "execution_count": 252,
   "id": "da1e3127-7774-4b3f-9e92-e0675d079093",
   "metadata": {},
   "outputs": [
    {
     "data": {
      "text/plain": [
       "['탱크보이', '폴라포', '빵빠레', '월드콘', '메로나']"
      ]
     },
     "execution_count": 252,
     "metadata": {},
     "output_type": "execute_result"
    }
   ],
   "source": [
    "list(icecream.keys())"
   ]
  },
  {
   "cell_type": "code",
   "execution_count": 253,
   "id": "e4c68e98-7964-4073-af77-5932aa18103e",
   "metadata": {},
   "outputs": [
    {
     "name": "stdout",
     "output_type": "stream",
     "text": [
      "['탱크보이', '폴라포', '빵빠레', '월드콘', '메로나']\n"
     ]
    }
   ],
   "source": [
    "print(list(icecream.keys()))"
   ]
  },
  {
   "cell_type": "code",
   "execution_count": 254,
   "id": "cbfeb37e-352a-4178-a461-ded6d0ad9479",
   "metadata": {},
   "outputs": [],
   "source": [
    "icecream = {'탱크보이': 1200, '폴라포': 1200, '빵빠레': 1800, '월드콘': 1500, '메로나': 1000}"
   ]
  },
  {
   "cell_type": "code",
   "execution_count": 256,
   "id": "e4025899-db59-4f6e-b1a9-dd780ae3a12a",
   "metadata": {},
   "outputs": [
    {
     "data": {
      "text/plain": [
       "[1200, 1200, 1800, 1500, 1000]"
      ]
     },
     "execution_count": 256,
     "metadata": {},
     "output_type": "execute_result"
    }
   ],
   "source": [
    "list(icecream.values())"
   ]
  },
  {
   "cell_type": "code",
   "execution_count": 257,
   "id": "9ff4c359-d2f1-4f05-ae2e-b08052ffee09",
   "metadata": {},
   "outputs": [
    {
     "name": "stdout",
     "output_type": "stream",
     "text": [
      "[1200, 1200, 1800, 1500, 1000]\n"
     ]
    }
   ],
   "source": [
    "print(list(icecream.values()))"
   ]
  },
  {
   "cell_type": "code",
   "execution_count": 266,
   "id": "e3204bf9-a207-4651-a49b-a352ba40cbac",
   "metadata": {},
   "outputs": [],
   "source": [
    "keys = (\"apple\", \"pear\", \"peach\")\n",
    "vals = (300, 250, 400)\n",
    "result=dict(zip(keys,vals))"
   ]
  },
  {
   "cell_type": "code",
   "execution_count": 267,
   "id": "a9f6c99d-18b4-4516-a0b2-889cbd5eefb2",
   "metadata": {},
   "outputs": [
    {
     "data": {
      "text/plain": [
       "{'apple': 300, 'pear': 250, 'peach': 400}"
      ]
     },
     "execution_count": 267,
     "metadata": {},
     "output_type": "execute_result"
    }
   ],
   "source": [
    "result"
   ]
  },
  {
   "cell_type": "code",
   "execution_count": 268,
   "id": "be4f20bb-3e1b-4566-8541-341702d2941e",
   "metadata": {},
   "outputs": [],
   "source": [
    "icecream = {'탱크보이': 1200, '폴라포': 1200, '빵빠레': 1800, '월드콘': 1500, '메로나': 1000}\n",
    "new_product = {'팥빙수':2700, '아맛나':1000}"
   ]
  },
  {
   "cell_type": "code",
   "execution_count": 269,
   "id": "8d30a922-434f-4bc7-a12c-196bf5d81869",
   "metadata": {},
   "outputs": [],
   "source": [
    "icecream.update(new_product)"
   ]
  },
  {
   "cell_type": "code",
   "execution_count": 270,
   "id": "1f895efc-80b9-413b-81c2-af20414514c8",
   "metadata": {},
   "outputs": [
    {
     "data": {
      "text/plain": [
       "{'탱크보이': 1200,\n",
       " '폴라포': 1200,\n",
       " '빵빠레': 1800,\n",
       " '월드콘': 1500,\n",
       " '메로나': 1000,\n",
       " '팥빙수': 2700,\n",
       " '아맛나': 1000}"
      ]
     },
     "execution_count": 270,
     "metadata": {},
     "output_type": "execute_result"
    }
   ],
   "source": [
    "icecream"
   ]
  },
  {
   "cell_type": "code",
   "execution_count": 271,
   "id": "95898113-ecf9-42f6-9c46-fd322971fca1",
   "metadata": {},
   "outputs": [],
   "source": [
    "date = ['09/05', '09/06', '09/07', '09/08', '09/09']\n",
    "close_price = [10500, 10300, 10100, 10800, 11000]"
   ]
  },
  {
   "cell_type": "code",
   "execution_count": 274,
   "id": "f27f98a6-af14-4aee-8ffd-84c5706c7d06",
   "metadata": {},
   "outputs": [],
   "source": [
    "Pe=dict(zip(date,close_price))"
   ]
  },
  {
   "cell_type": "code",
   "execution_count": 276,
   "id": "339ed21f-ca49-4ca8-b4e1-a92b0874d94b",
   "metadata": {},
   "outputs": [
    {
     "data": {
      "text/plain": [
       "{'09/05': 10500,\n",
       " '09/06': 10300,\n",
       " '09/07': 10100,\n",
       " '09/08': 10800,\n",
       " '09/09': 11000}"
      ]
     },
     "execution_count": 276,
     "metadata": {},
     "output_type": "execute_result"
    }
   ],
   "source": [
    "Pe"
   ]
  },
  {
   "cell_type": "code",
   "execution_count": 1,
   "id": "3bc09e10-eba2-4ffd-9275-efc0b012c782",
   "metadata": {},
   "outputs": [],
   "source": [
    "inventory = {\"메로나\": [300, 20],\n",
    "              \"비비빅\": [400, 3],\n",
    "              \"죠스바\": [250, 100]}"
   ]
  },
  {
   "cell_type": "code",
   "execution_count": 2,
   "id": "ae2d587a-a092-4bed-a120-d7e71ffdc3d7",
   "metadata": {},
   "outputs": [],
   "source": [
    "inventory['월드콘']=[500,9]"
   ]
  },
  {
   "cell_type": "code",
   "execution_count": 3,
   "id": "67635601-2a04-4b96-9a42-392da99ed70e",
   "metadata": {},
   "outputs": [
    {
     "data": {
      "text/plain": [
       "{'메로나': [300, 20], '비비빅': [400, 3], '죠스바': [250, 100], '월드콘': [500, 9]}"
      ]
     },
     "execution_count": 3,
     "metadata": {},
     "output_type": "execute_result"
    }
   ],
   "source": [
    "inventory"
   ]
  },
  {
   "cell_type": "code",
   "execution_count": 4,
   "id": "040ce1de-c05c-4f91-83fb-08f049107cad",
   "metadata": {},
   "outputs": [
    {
     "name": "stdout",
     "output_type": "stream",
     "text": [
      "False\n"
     ]
    }
   ],
   "source": [
    "print(3 == 5)"
   ]
  },
  {
   "cell_type": "code",
   "execution_count": 8,
   "id": "ce63d332-0755-4f8f-bba4-03d7a320cfab",
   "metadata": {},
   "outputs": [
    {
     "name": "stdin",
     "output_type": "stream",
     "text": [
      "sss dad\n"
     ]
    },
    {
     "name": "stdout",
     "output_type": "stream",
     "text": [
      "daddad\n"
     ]
    }
   ],
   "source": [
    "tex=input('sss')\n",
    "print(2*(tex))"
   ]
  },
  {
   "cell_type": "code",
   "execution_count": 11,
   "id": "ab3aa47d-058e-4b25-8472-6043343dcce2",
   "metadata": {},
   "outputs": [
    {
     "name": "stdin",
     "output_type": "stream",
     "text": [
      "ssss 17\n"
     ]
    },
    {
     "name": "stdout",
     "output_type": "stream",
     "text": [
      "odd\n"
     ]
    }
   ],
   "source": [
    "text=input('ssss')\n",
    "if int(text)%2==0:\n",
    "    print('even')\n",
    "else:\n",
    "    print('odd')"
   ]
  },
  {
   "cell_type": "code",
   "execution_count": 14,
   "id": "b82ca071-9286-4973-b21d-950f200a7154",
   "metadata": {},
   "outputs": [
    {
     "name": "stdin",
     "output_type": "stream",
     "text": [
      "ssss 18\n"
     ]
    },
    {
     "name": "stdout",
     "output_type": "stream",
     "text": [
      "38\n"
     ]
    }
   ],
   "source": [
    "text=input('ssss')\n",
    "\n",
    "if int(text)+20 > 255:\n",
    "    print(255)\n",
    "else: print(int(text)+20)"
   ]
  },
  {
   "cell_type": "code",
   "execution_count": 20,
   "id": "8eb46e6c-1659-4271-bce1-79b597cfad0d",
   "metadata": {},
   "outputs": [
    {
     "name": "stdin",
     "output_type": "stream",
     "text": [
      "ssss 17:12\n"
     ]
    },
    {
     "name": "stdout",
     "output_type": "stream",
     "text": [
      "not정각\n"
     ]
    }
   ],
   "source": [
    "text=input('ssss')\n",
    "\n",
    "TX=text.split(':')\n",
    "if TX[1]=='00':\n",
    "    print('정각')\n",
    "else:\n",
    "    print('not정각')"
   ]
  },
  {
   "cell_type": "code",
   "execution_count": 30,
   "id": "cf21a86d-c80c-4674-bbd7-488f9b189888",
   "metadata": {},
   "outputs": [
    {
     "name": "stdin",
     "output_type": "stream",
     "text": [
      "ssss LG\n"
     ]
    },
    {
     "name": "stdout",
     "output_type": "stream",
     "text": [
      "투자 경고 종목입니다\n"
     ]
    }
   ],
   "source": [
    "text=input('ssss')\n",
    "warn_investment_list = [\"Microsoft\", \"Google\", \"Naver\", \"Kakao\", \"SAMSUNG\", \"LG\"]\n",
    "if str(text) == warn_investment_list:\n",
    "    print(\"투자 경고 종목이 아닙니다.\")\n",
    "else:\n",
    "    print('투자 경고 종목입니다')"
   ]
  },
  {
   "cell_type": "code",
   "execution_count": 28,
   "id": "dfbb01bc-2e57-4390-8f81-1c4c353aede8",
   "metadata": {},
   "outputs": [],
   "source": [
    "warn_investment_list = [\"Microsoft\", \"Google\", \"Naver\", \"Kakao\", \"SAMSUNG\", \"LG\"]\n"
   ]
  },
  {
   "cell_type": "code",
   "execution_count": 29,
   "id": "3e7ccdc2-b165-4426-b015-46d254d1041a",
   "metadata": {},
   "outputs": [
    {
     "data": {
      "text/plain": [
       "['Microsoft', 'Google', 'Naver', 'Kakao', 'SAMSUNG', 'LG']"
      ]
     },
     "execution_count": 29,
     "metadata": {},
     "output_type": "execute_result"
    }
   ],
   "source": [
    "warn_investment_list"
   ]
  },
  {
   "cell_type": "code",
   "execution_count": null,
   "id": "7a987090-a2b8-46ef-8ced-6022a7462f6e",
   "metadata": {},
   "outputs": [],
   "source": []
  }
 ],
 "metadata": {
  "kernelspec": {
   "display_name": "Python 3 (ipykernel)",
   "language": "python",
   "name": "python3"
  },
  "language_info": {
   "codemirror_mode": {
    "name": "ipython",
    "version": 3
   },
   "file_extension": ".py",
   "mimetype": "text/x-python",
   "name": "python",
   "nbconvert_exporter": "python",
   "pygments_lexer": "ipython3",
   "version": "3.9.12"
  }
 },
 "nbformat": 4,
 "nbformat_minor": 5
}
