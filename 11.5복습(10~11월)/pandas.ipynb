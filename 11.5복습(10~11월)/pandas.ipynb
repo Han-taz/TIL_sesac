{
 "cells": [
  {
   "cell_type": "code",
   "execution_count": 1,
   "id": "2001b22d-8a7e-4aa1-b1d5-6a40496ad4d9",
   "metadata": {},
   "outputs": [],
   "source": [
    "import pandas as pd"
   ]
  },
  {
   "cell_type": "code",
   "execution_count": 2,
   "id": "d6c949f6-4ad9-4630-8e67-39330f50a89d",
   "metadata": {},
   "outputs": [],
   "source": [
    "list_str=['a','b','c']"
   ]
  },
  {
   "cell_type": "code",
   "execution_count": 3,
   "id": "987804a5-dcd8-44a0-8440-89c238ea2202",
   "metadata": {},
   "outputs": [
    {
     "name": "stdout",
     "output_type": "stream",
     "text": [
      "<class 'list'>\n"
     ]
    }
   ],
   "source": [
    "print(type(list_str))"
   ]
  },
  {
   "cell_type": "code",
   "execution_count": 4,
   "id": "dafcd054-e277-4c36-8657-35152fefdd44",
   "metadata": {
    "collapsed": true,
    "jupyter": {
     "outputs_hidden": true
    },
    "tags": []
   },
   "outputs": [
    {
     "ename": "ValueError",
     "evalue": "Length of values (3) does not match length of index (4)",
     "output_type": "error",
     "traceback": [
      "\u001b[1;31m---------------------------------------------------------------------------\u001b[0m",
      "\u001b[1;31mValueError\u001b[0m                                Traceback (most recent call last)",
      "Input \u001b[1;32mIn [4]\u001b[0m, in \u001b[0;36m<cell line: 1>\u001b[1;34m()\u001b[0m\n\u001b[1;32m----> 1\u001b[0m series_var\u001b[38;5;241m=\u001b[39m\u001b[43mpd\u001b[49m\u001b[38;5;241;43m.\u001b[39;49m\u001b[43mSeries\u001b[49m\u001b[43m(\u001b[49m\u001b[43mlist_str\u001b[49m\u001b[43m,\u001b[49m\u001b[43m \u001b[49m\u001b[43mindex\u001b[49m\u001b[43m \u001b[49m\u001b[38;5;241;43m=\u001b[39;49m\u001b[43m \u001b[49m\u001b[43m[\u001b[49m\u001b[38;5;124;43m'\u001b[39;49m\u001b[38;5;124;43ma\u001b[39;49m\u001b[38;5;124;43m'\u001b[39;49m\u001b[43m,\u001b[49m\u001b[38;5;124;43m'\u001b[39;49m\u001b[38;5;124;43mb\u001b[39;49m\u001b[38;5;124;43m'\u001b[39;49m\u001b[43m,\u001b[49m\u001b[38;5;124;43m'\u001b[39;49m\u001b[38;5;124;43mc\u001b[39;49m\u001b[38;5;124;43m'\u001b[39;49m\u001b[43m,\u001b[49m\u001b[38;5;124;43m'\u001b[39;49m\u001b[38;5;124;43md\u001b[39;49m\u001b[38;5;124;43m'\u001b[39;49m\u001b[43m]\u001b[49m\u001b[43m)\u001b[49m\n",
      "File \u001b[1;32m~\\anaconda3\\lib\\site-packages\\pandas\\core\\series.py:442\u001b[0m, in \u001b[0;36mSeries.__init__\u001b[1;34m(self, data, index, dtype, name, copy, fastpath)\u001b[0m\n\u001b[0;32m    440\u001b[0m     index \u001b[38;5;241m=\u001b[39m default_index(\u001b[38;5;28mlen\u001b[39m(data))\n\u001b[0;32m    441\u001b[0m \u001b[38;5;28;01melif\u001b[39;00m is_list_like(data):\n\u001b[1;32m--> 442\u001b[0m     \u001b[43mcom\u001b[49m\u001b[38;5;241;43m.\u001b[39;49m\u001b[43mrequire_length_match\u001b[49m\u001b[43m(\u001b[49m\u001b[43mdata\u001b[49m\u001b[43m,\u001b[49m\u001b[43m \u001b[49m\u001b[43mindex\u001b[49m\u001b[43m)\u001b[49m\n\u001b[0;32m    444\u001b[0m \u001b[38;5;66;03m# create/copy the manager\u001b[39;00m\n\u001b[0;32m    445\u001b[0m \u001b[38;5;28;01mif\u001b[39;00m \u001b[38;5;28misinstance\u001b[39m(data, (SingleBlockManager, SingleArrayManager)):\n",
      "File \u001b[1;32m~\\anaconda3\\lib\\site-packages\\pandas\\core\\common.py:557\u001b[0m, in \u001b[0;36mrequire_length_match\u001b[1;34m(data, index)\u001b[0m\n\u001b[0;32m    553\u001b[0m \u001b[38;5;124;03m\"\"\"\u001b[39;00m\n\u001b[0;32m    554\u001b[0m \u001b[38;5;124;03mCheck the length of data matches the length of the index.\u001b[39;00m\n\u001b[0;32m    555\u001b[0m \u001b[38;5;124;03m\"\"\"\u001b[39;00m\n\u001b[0;32m    556\u001b[0m \u001b[38;5;28;01mif\u001b[39;00m \u001b[38;5;28mlen\u001b[39m(data) \u001b[38;5;241m!=\u001b[39m \u001b[38;5;28mlen\u001b[39m(index):\n\u001b[1;32m--> 557\u001b[0m     \u001b[38;5;28;01mraise\u001b[39;00m \u001b[38;5;167;01mValueError\u001b[39;00m(\n\u001b[0;32m    558\u001b[0m         \u001b[38;5;124m\"\u001b[39m\u001b[38;5;124mLength of values \u001b[39m\u001b[38;5;124m\"\u001b[39m\n\u001b[0;32m    559\u001b[0m         \u001b[38;5;124mf\u001b[39m\u001b[38;5;124m\"\u001b[39m\u001b[38;5;124m(\u001b[39m\u001b[38;5;132;01m{\u001b[39;00m\u001b[38;5;28mlen\u001b[39m(data)\u001b[38;5;132;01m}\u001b[39;00m\u001b[38;5;124m) \u001b[39m\u001b[38;5;124m\"\u001b[39m\n\u001b[0;32m    560\u001b[0m         \u001b[38;5;124m\"\u001b[39m\u001b[38;5;124mdoes not match length of index \u001b[39m\u001b[38;5;124m\"\u001b[39m\n\u001b[0;32m    561\u001b[0m         \u001b[38;5;124mf\u001b[39m\u001b[38;5;124m\"\u001b[39m\u001b[38;5;124m(\u001b[39m\u001b[38;5;132;01m{\u001b[39;00m\u001b[38;5;28mlen\u001b[39m(index)\u001b[38;5;132;01m}\u001b[39;00m\u001b[38;5;124m)\u001b[39m\u001b[38;5;124m\"\u001b[39m\n\u001b[0;32m    562\u001b[0m     )\n",
      "\u001b[1;31mValueError\u001b[0m: Length of values (3) does not match length of index (4)"
     ]
    }
   ],
   "source": [
    "series_var=pd.Series(list_str, index = ['a','b','c','d']) #인덱스를 바꿀 수 있다."
   ]
  },
  {
   "cell_type": "code",
   "execution_count": null,
   "id": "9dcc339a-8e21-4fd1-afde-ca1b5523d950",
   "metadata": {},
   "outputs": [],
   "source": [
    "type(series_var)"
   ]
  },
  {
   "cell_type": "code",
   "execution_count": null,
   "id": "e1e58816-80b4-493f-811e-c431dd20c6bc",
   "metadata": {},
   "outputs": [],
   "source": [
    "series_var# 인덱스 0,1,2 "
   ]
  },
  {
   "cell_type": "code",
   "execution_count": null,
   "id": "2314c4e5-8969-4448-8b53-c15886f881ef",
   "metadata": {},
   "outputs": [],
   "source": [
    "series_var[3]"
   ]
  },
  {
   "cell_type": "code",
   "execution_count": null,
   "id": "c4a57b92-adbb-43fc-b6fd-a27dad9502a9",
   "metadata": {},
   "outputs": [],
   "source": [
    "dic = {'a':3, 'b':4,'c':5}\n",
    "s_dic= pd.Series(dic)"
   ]
  },
  {
   "cell_type": "code",
   "execution_count": null,
   "id": "b4454017-5f50-499d-961b-883e49b83c37",
   "metadata": {},
   "outputs": [],
   "source": [
    "s_dic #키값이 시리즈로"
   ]
  },
  {
   "cell_type": "code",
   "execution_count": 39,
   "id": "5c2e8ae7-efd5-49f4-8cc6-9e1fffde7f51",
   "metadata": {},
   "outputs": [],
   "source": [
    "dic_p={\n",
    "    'name':['hojin', 'yejin', 'sanghyeon', 'sunghyun'],\n",
    "    'age': [20,25,28,19],\n",
    "    'grade':['s','a','b','c']\n",
    "}"
   ]
  },
  {
   "cell_type": "code",
   "execution_count": 40,
   "id": "fdd6cc06-b806-4269-b357-36ccf43b97c3",
   "metadata": {},
   "outputs": [],
   "source": [
    "df= pd.DataFrame(dic_p, index = ['a','b','c','d'])"
   ]
  },
  {
   "cell_type": "code",
   "execution_count": 41,
   "id": "20f9b524-79c4-4892-b6b7-7523bfd116af",
   "metadata": {},
   "outputs": [
    {
     "data": {
      "text/plain": [
       "pandas.core.frame.DataFrame"
      ]
     },
     "execution_count": 41,
     "metadata": {},
     "output_type": "execute_result"
    }
   ],
   "source": [
    "type(df)"
   ]
  },
  {
   "cell_type": "code",
   "execution_count": 42,
   "id": "49ecfdb2-2140-4bd6-bbd5-cb16e44f58ea",
   "metadata": {},
   "outputs": [
    {
     "data": {
      "text/html": [
       "<div>\n",
       "<style scoped>\n",
       "    .dataframe tbody tr th:only-of-type {\n",
       "        vertical-align: middle;\n",
       "    }\n",
       "\n",
       "    .dataframe tbody tr th {\n",
       "        vertical-align: top;\n",
       "    }\n",
       "\n",
       "    .dataframe thead th {\n",
       "        text-align: right;\n",
       "    }\n",
       "</style>\n",
       "<table border=\"1\" class=\"dataframe\">\n",
       "  <thead>\n",
       "    <tr style=\"text-align: right;\">\n",
       "      <th></th>\n",
       "      <th>name</th>\n",
       "      <th>age</th>\n",
       "      <th>grade</th>\n",
       "    </tr>\n",
       "  </thead>\n",
       "  <tbody>\n",
       "    <tr>\n",
       "      <th>a</th>\n",
       "      <td>hojin</td>\n",
       "      <td>20</td>\n",
       "      <td>s</td>\n",
       "    </tr>\n",
       "    <tr>\n",
       "      <th>b</th>\n",
       "      <td>yejin</td>\n",
       "      <td>25</td>\n",
       "      <td>a</td>\n",
       "    </tr>\n",
       "    <tr>\n",
       "      <th>c</th>\n",
       "      <td>sanghyeon</td>\n",
       "      <td>28</td>\n",
       "      <td>b</td>\n",
       "    </tr>\n",
       "    <tr>\n",
       "      <th>d</th>\n",
       "      <td>sunghyun</td>\n",
       "      <td>19</td>\n",
       "      <td>c</td>\n",
       "    </tr>\n",
       "  </tbody>\n",
       "</table>\n",
       "</div>"
      ],
      "text/plain": [
       "        name  age grade\n",
       "a      hojin   20     s\n",
       "b      yejin   25     a\n",
       "c  sanghyeon   28     b\n",
       "d   sunghyun   19     c"
      ]
     },
     "execution_count": 42,
     "metadata": {},
     "output_type": "execute_result"
    }
   ],
   "source": [
    "df"
   ]
  },
  {
   "cell_type": "code",
   "execution_count": 43,
   "id": "1b9a422c-30e1-4692-8034-9caf807ada87",
   "metadata": {},
   "outputs": [
    {
     "data": {
      "text/plain": [
       "a        hojin\n",
       "b        yejin\n",
       "c    sanghyeon\n",
       "d     sunghyun\n",
       "Name: name, dtype: object"
      ]
     },
     "execution_count": 43,
     "metadata": {},
     "output_type": "execute_result"
    }
   ],
   "source": [
    "df['name']"
   ]
  },
  {
   "cell_type": "code",
   "execution_count": 44,
   "id": "c4b4858c-e847-41c4-b0f6-b1f662e65f59",
   "metadata": {},
   "outputs": [
    {
     "data": {
      "text/plain": [
       "a    20\n",
       "b    25\n",
       "c    28\n",
       "d    19\n",
       "Name: age, dtype: int64"
      ]
     },
     "execution_count": 44,
     "metadata": {},
     "output_type": "execute_result"
    }
   ],
   "source": [
    "df['age']"
   ]
  },
  {
   "cell_type": "code",
   "execution_count": 45,
   "id": "7764f115-1e66-4b87-beed-31bec6c2d2d2",
   "metadata": {},
   "outputs": [
    {
     "data": {
      "text/plain": [
       "23.0"
      ]
     },
     "execution_count": 45,
     "metadata": {},
     "output_type": "execute_result"
    }
   ],
   "source": [
    "df['age'].mean()"
   ]
  },
  {
   "cell_type": "code",
   "execution_count": 46,
   "id": "938e8ac9-d346-4c57-88ad-1061ad0952ad",
   "metadata": {},
   "outputs": [
    {
     "data": {
      "text/plain": [
       "a    s\n",
       "b    a\n",
       "c    b\n",
       "d    c\n",
       "Name: grade, dtype: object"
      ]
     },
     "execution_count": 46,
     "metadata": {},
     "output_type": "execute_result"
    }
   ],
   "source": [
    "df['grade']"
   ]
  },
  {
   "cell_type": "code",
   "execution_count": 47,
   "id": "3a5df44b-4ef9-4a51-b7c7-d980e4ea10eb",
   "metadata": {},
   "outputs": [
    {
     "data": {
      "text/plain": [
       "19"
      ]
     },
     "execution_count": 47,
     "metadata": {},
     "output_type": "execute_result"
    }
   ],
   "source": [
    "df['age'].min()"
   ]
  },
  {
   "cell_type": "code",
   "execution_count": 48,
   "id": "56426898-ade4-4a8c-97a9-8eab099e7182",
   "metadata": {},
   "outputs": [
    {
     "data": {
      "text/plain": [
       "28"
      ]
     },
     "execution_count": 48,
     "metadata": {},
     "output_type": "execute_result"
    }
   ],
   "source": [
    "df['age'].max()"
   ]
  },
  {
   "cell_type": "code",
   "execution_count": 49,
   "id": "e29fde17-167b-4e73-a981-4f304e670407",
   "metadata": {},
   "outputs": [
    {
     "data": {
      "text/plain": [
       "22.5"
      ]
     },
     "execution_count": 49,
     "metadata": {},
     "output_type": "execute_result"
    }
   ],
   "source": [
    "df['age'].median()"
   ]
  },
  {
   "cell_type": "code",
   "execution_count": 50,
   "id": "c07d81ca-a452-4ef0-b027-e52a296ad463",
   "metadata": {},
   "outputs": [
    {
     "data": {
      "text/plain": [
       "18.0"
      ]
     },
     "execution_count": 50,
     "metadata": {},
     "output_type": "execute_result"
    }
   ],
   "source": [
    "df['age'].var()"
   ]
  },
  {
   "cell_type": "code",
   "execution_count": 51,
   "id": "a7173bc3-4ae6-46b9-be7f-ca6c727c209d",
   "metadata": {},
   "outputs": [
    {
     "data": {
      "text/plain": [
       "(4, 3)"
      ]
     },
     "execution_count": 51,
     "metadata": {},
     "output_type": "execute_result"
    }
   ],
   "source": [
    "df.shape#4데이터 3속성"
   ]
  },
  {
   "cell_type": "code",
   "execution_count": 52,
   "id": "65309bc9-98a7-48de-89dd-9ea3c65097c5",
   "metadata": {},
   "outputs": [
    {
     "name": "stdout",
     "output_type": "stream",
     "text": [
      "<class 'pandas.core.frame.DataFrame'>\n",
      "Index: 4 entries, a to d\n",
      "Data columns (total 3 columns):\n",
      " #   Column  Non-Null Count  Dtype \n",
      "---  ------  --------------  ----- \n",
      " 0   name    4 non-null      object\n",
      " 1   age     4 non-null      int64 \n",
      " 2   grade   4 non-null      object\n",
      "dtypes: int64(1), object(2)\n",
      "memory usage: 300.0+ bytes\n"
     ]
    }
   ],
   "source": [
    "df.info()#null 공백의 값  Dtype 제대로 확인하기"
   ]
  },
  {
   "cell_type": "code",
   "execution_count": 53,
   "id": "ad3c6ad0-941d-456e-abb8-598645cfe536",
   "metadata": {},
   "outputs": [
    {
     "data": {
      "text/html": [
       "<div>\n",
       "<style scoped>\n",
       "    .dataframe tbody tr th:only-of-type {\n",
       "        vertical-align: middle;\n",
       "    }\n",
       "\n",
       "    .dataframe tbody tr th {\n",
       "        vertical-align: top;\n",
       "    }\n",
       "\n",
       "    .dataframe thead th {\n",
       "        text-align: right;\n",
       "    }\n",
       "</style>\n",
       "<table border=\"1\" class=\"dataframe\">\n",
       "  <thead>\n",
       "    <tr style=\"text-align: right;\">\n",
       "      <th></th>\n",
       "      <th>name</th>\n",
       "      <th>age</th>\n",
       "      <th>grade</th>\n",
       "    </tr>\n",
       "  </thead>\n",
       "  <tbody>\n",
       "    <tr>\n",
       "      <th>a</th>\n",
       "      <td>False</td>\n",
       "      <td>False</td>\n",
       "      <td>False</td>\n",
       "    </tr>\n",
       "    <tr>\n",
       "      <th>b</th>\n",
       "      <td>False</td>\n",
       "      <td>False</td>\n",
       "      <td>False</td>\n",
       "    </tr>\n",
       "    <tr>\n",
       "      <th>c</th>\n",
       "      <td>False</td>\n",
       "      <td>False</td>\n",
       "      <td>False</td>\n",
       "    </tr>\n",
       "    <tr>\n",
       "      <th>d</th>\n",
       "      <td>False</td>\n",
       "      <td>False</td>\n",
       "      <td>False</td>\n",
       "    </tr>\n",
       "  </tbody>\n",
       "</table>\n",
       "</div>"
      ],
      "text/plain": [
       "    name    age  grade\n",
       "a  False  False  False\n",
       "b  False  False  False\n",
       "c  False  False  False\n",
       "d  False  False  False"
      ]
     },
     "execution_count": 53,
     "metadata": {},
     "output_type": "execute_result"
    }
   ],
   "source": [
    "df.isnull() #null이 있는지 확인"
   ]
  },
  {
   "cell_type": "code",
   "execution_count": 54,
   "id": "1353815c-c38d-4a5f-856f-1adca52cc9c6",
   "metadata": {},
   "outputs": [
    {
     "data": {
      "text/plain": [
       "name     0\n",
       "age      0\n",
       "grade    0\n",
       "dtype: int64"
      ]
     },
     "execution_count": 54,
     "metadata": {},
     "output_type": "execute_result"
    }
   ],
   "source": [
    "df.isnull().sum()# null을 합한다"
   ]
  },
  {
   "cell_type": "code",
   "execution_count": 55,
   "id": "18150693-4e4a-4a55-ab8e-f241492696d5",
   "metadata": {},
   "outputs": [],
   "source": [
    "dic_p={\n",
    "    'name':['hojin', 'yejin', 'sanghyeon', 'sunghyun'],\n",
    "    'age': [20,25,28,19],\n",
    "    'grade':['s','a','b','c']\n",
    "}"
   ]
  },
  {
   "cell_type": "code",
   "execution_count": 56,
   "id": "00355f09-b29c-47d4-8b9a-7a19e26facf1",
   "metadata": {},
   "outputs": [
    {
     "name": "stdout",
     "output_type": "stream",
     "text": [
      "<class 'pandas.core.frame.DataFrame'>\n",
      "Index: 4 entries, a to d\n",
      "Data columns (total 3 columns):\n",
      " #   Column  Non-Null Count  Dtype \n",
      "---  ------  --------------  ----- \n",
      " 0   name    4 non-null      object\n",
      " 1   age     4 non-null      int64 \n",
      " 2   grade   4 non-null      object\n",
      "dtypes: int64(1), object(2)\n",
      "memory usage: 300.0+ bytes\n"
     ]
    }
   ],
   "source": [
    "df.info()"
   ]
  },
  {
   "cell_type": "code",
   "execution_count": 57,
   "id": "5af78140-3863-4269-a254-6eb7a3e740f8",
   "metadata": {},
   "outputs": [
    {
     "data": {
      "text/plain": [
       "Index(['name', 'age', 'grade'], dtype='object')"
      ]
     },
     "execution_count": 57,
     "metadata": {},
     "output_type": "execute_result"
    }
   ],
   "source": [
    "df.columns# 속성값은 복붙하기"
   ]
  },
  {
   "cell_type": "code",
   "execution_count": 58,
   "id": "6bbc1d94-ceb6-4dcd-ba93-ff514709d2d2",
   "metadata": {},
   "outputs": [
    {
     "name": "stdout",
     "output_type": "stream",
     "text": [
      "name\n",
      "age\n",
      "grade\n"
     ]
    }
   ],
   "source": [
    "for col in df.columns:\n",
    "    print(col)"
   ]
  },
  {
   "cell_type": "code",
   "execution_count": 59,
   "id": "78750e0d-6fb3-4337-8606-eb373da59109",
   "metadata": {},
   "outputs": [
    {
     "data": {
      "text/plain": [
       "Index(['a', 'b', 'c', 'd'], dtype='object')"
      ]
     },
     "execution_count": 59,
     "metadata": {},
     "output_type": "execute_result"
    }
   ],
   "source": [
    "df.index"
   ]
  },
  {
   "cell_type": "code",
   "execution_count": 60,
   "id": "a1af7a98-66f9-4ae2-87f7-1d9666375a52",
   "metadata": {},
   "outputs": [
    {
     "data": {
      "text/plain": [
       "['a', 'b', 'c', 'd']"
      ]
     },
     "execution_count": 60,
     "metadata": {},
     "output_type": "execute_result"
    }
   ],
   "source": [
    "list(df.index)"
   ]
  },
  {
   "cell_type": "code",
   "execution_count": 61,
   "id": "cc3da32c-bc93-4378-b538-df7070a3b0bb",
   "metadata": {},
   "outputs": [
    {
     "data": {
      "text/html": [
       "<div>\n",
       "<style scoped>\n",
       "    .dataframe tbody tr th:only-of-type {\n",
       "        vertical-align: middle;\n",
       "    }\n",
       "\n",
       "    .dataframe tbody tr th {\n",
       "        vertical-align: top;\n",
       "    }\n",
       "\n",
       "    .dataframe thead th {\n",
       "        text-align: right;\n",
       "    }\n",
       "</style>\n",
       "<table border=\"1\" class=\"dataframe\">\n",
       "  <thead>\n",
       "    <tr style=\"text-align: right;\">\n",
       "      <th></th>\n",
       "      <th>name</th>\n",
       "      <th>age</th>\n",
       "      <th>grade</th>\n",
       "    </tr>\n",
       "  </thead>\n",
       "  <tbody>\n",
       "    <tr>\n",
       "      <th>a</th>\n",
       "      <td>hojin</td>\n",
       "      <td>20</td>\n",
       "      <td>s</td>\n",
       "    </tr>\n",
       "    <tr>\n",
       "      <th>b</th>\n",
       "      <td>yejin</td>\n",
       "      <td>25</td>\n",
       "      <td>a</td>\n",
       "    </tr>\n",
       "    <tr>\n",
       "      <th>c</th>\n",
       "      <td>sanghyeon</td>\n",
       "      <td>28</td>\n",
       "      <td>b</td>\n",
       "    </tr>\n",
       "    <tr>\n",
       "      <th>d</th>\n",
       "      <td>sunghyun</td>\n",
       "      <td>19</td>\n",
       "      <td>c</td>\n",
       "    </tr>\n",
       "  </tbody>\n",
       "</table>\n",
       "</div>"
      ],
      "text/plain": [
       "        name  age grade\n",
       "a      hojin   20     s\n",
       "b      yejin   25     a\n",
       "c  sanghyeon   28     b\n",
       "d   sunghyun   19     c"
      ]
     },
     "execution_count": 61,
     "metadata": {},
     "output_type": "execute_result"
    }
   ],
   "source": [
    "df"
   ]
  },
  {
   "cell_type": "markdown",
   "id": "d292fa47-35e2-4797-b499-3ab3996e14f3",
   "metadata": {},
   "source": [
    "- loc  index기반\n",
    "- iloc  순서기반"
   ]
  },
  {
   "cell_type": "code",
   "execution_count": 62,
   "id": "c80c78f4-f2cd-49ae-85c7-1d684e188b93",
   "metadata": {},
   "outputs": [
    {
     "data": {
      "text/plain": [
       "'s'"
      ]
     },
     "execution_count": 62,
     "metadata": {},
     "output_type": "execute_result"
    }
   ],
   "source": [
    "df.loc['a']['grade']"
   ]
  },
  {
   "cell_type": "code",
   "execution_count": 63,
   "id": "bc2ffda5-e968-474b-aac0-6d5d5f85dc11",
   "metadata": {},
   "outputs": [
    {
     "data": {
      "text/plain": [
       "name     yejin\n",
       "age         25\n",
       "grade        a\n",
       "Name: b, dtype: object"
      ]
     },
     "execution_count": 63,
     "metadata": {},
     "output_type": "execute_result"
    }
   ],
   "source": [
    "df.iloc[1]"
   ]
  },
  {
   "cell_type": "code",
   "execution_count": 64,
   "id": "0fbf1ca4-9424-43a6-96d0-6dcc6b08bd7f",
   "metadata": {},
   "outputs": [
    {
     "data": {
      "text/html": [
       "<div>\n",
       "<style scoped>\n",
       "    .dataframe tbody tr th:only-of-type {\n",
       "        vertical-align: middle;\n",
       "    }\n",
       "\n",
       "    .dataframe tbody tr th {\n",
       "        vertical-align: top;\n",
       "    }\n",
       "\n",
       "    .dataframe thead th {\n",
       "        text-align: right;\n",
       "    }\n",
       "</style>\n",
       "<table border=\"1\" class=\"dataframe\">\n",
       "  <thead>\n",
       "    <tr style=\"text-align: right;\">\n",
       "      <th></th>\n",
       "      <th>name</th>\n",
       "      <th>age</th>\n",
       "      <th>grade</th>\n",
       "    </tr>\n",
       "  </thead>\n",
       "  <tbody>\n",
       "    <tr>\n",
       "      <th>b</th>\n",
       "      <td>yejin</td>\n",
       "      <td>25</td>\n",
       "      <td>a</td>\n",
       "    </tr>\n",
       "    <tr>\n",
       "      <th>c</th>\n",
       "      <td>sanghyeon</td>\n",
       "      <td>28</td>\n",
       "      <td>b</td>\n",
       "    </tr>\n",
       "    <tr>\n",
       "      <th>d</th>\n",
       "      <td>sunghyun</td>\n",
       "      <td>19</td>\n",
       "      <td>c</td>\n",
       "    </tr>\n",
       "  </tbody>\n",
       "</table>\n",
       "</div>"
      ],
      "text/plain": [
       "        name  age grade\n",
       "b      yejin   25     a\n",
       "c  sanghyeon   28     b\n",
       "d   sunghyun   19     c"
      ]
     },
     "execution_count": 64,
     "metadata": {},
     "output_type": "execute_result"
    }
   ],
   "source": [
    "df.iloc[1:]"
   ]
  },
  {
   "cell_type": "code",
   "execution_count": 65,
   "id": "0dea404a-da64-41db-954e-dcbb52d33929",
   "metadata": {},
   "outputs": [],
   "source": [
    "df2=df[['name','grade']]"
   ]
  },
  {
   "cell_type": "code",
   "execution_count": 66,
   "id": "14229973-d4c4-4ab7-b04a-bf81d1951f4f",
   "metadata": {},
   "outputs": [
    {
     "data": {
      "text/html": [
       "<div>\n",
       "<style scoped>\n",
       "    .dataframe tbody tr th:only-of-type {\n",
       "        vertical-align: middle;\n",
       "    }\n",
       "\n",
       "    .dataframe tbody tr th {\n",
       "        vertical-align: top;\n",
       "    }\n",
       "\n",
       "    .dataframe thead th {\n",
       "        text-align: right;\n",
       "    }\n",
       "</style>\n",
       "<table border=\"1\" class=\"dataframe\">\n",
       "  <thead>\n",
       "    <tr style=\"text-align: right;\">\n",
       "      <th></th>\n",
       "      <th>name</th>\n",
       "      <th>grade</th>\n",
       "    </tr>\n",
       "  </thead>\n",
       "  <tbody>\n",
       "    <tr>\n",
       "      <th>a</th>\n",
       "      <td>hojin</td>\n",
       "      <td>s</td>\n",
       "    </tr>\n",
       "    <tr>\n",
       "      <th>b</th>\n",
       "      <td>yejin</td>\n",
       "      <td>a</td>\n",
       "    </tr>\n",
       "    <tr>\n",
       "      <th>c</th>\n",
       "      <td>sanghyeon</td>\n",
       "      <td>b</td>\n",
       "    </tr>\n",
       "    <tr>\n",
       "      <th>d</th>\n",
       "      <td>sunghyun</td>\n",
       "      <td>c</td>\n",
       "    </tr>\n",
       "  </tbody>\n",
       "</table>\n",
       "</div>"
      ],
      "text/plain": [
       "        name grade\n",
       "a      hojin     s\n",
       "b      yejin     a\n",
       "c  sanghyeon     b\n",
       "d   sunghyun     c"
      ]
     },
     "execution_count": 66,
     "metadata": {},
     "output_type": "execute_result"
    }
   ],
   "source": [
    "df2"
   ]
  },
  {
   "cell_type": "code",
   "execution_count": 67,
   "id": "5ab33284-213b-4f48-ab73-42b10768818a",
   "metadata": {},
   "outputs": [
    {
     "data": {
      "text/plain": [
       "a     True\n",
       "b    False\n",
       "c    False\n",
       "d     True\n",
       "Name: age, dtype: bool"
      ]
     },
     "execution_count": 67,
     "metadata": {},
     "output_type": "execute_result"
    }
   ],
   "source": [
    "df['age']<25"
   ]
  },
  {
   "cell_type": "code",
   "execution_count": 68,
   "id": "5a94de1c-3e01-4fd2-8a9a-72782af370e6",
   "metadata": {},
   "outputs": [
    {
     "data": {
      "text/html": [
       "<div>\n",
       "<style scoped>\n",
       "    .dataframe tbody tr th:only-of-type {\n",
       "        vertical-align: middle;\n",
       "    }\n",
       "\n",
       "    .dataframe tbody tr th {\n",
       "        vertical-align: top;\n",
       "    }\n",
       "\n",
       "    .dataframe thead th {\n",
       "        text-align: right;\n",
       "    }\n",
       "</style>\n",
       "<table border=\"1\" class=\"dataframe\">\n",
       "  <thead>\n",
       "    <tr style=\"text-align: right;\">\n",
       "      <th></th>\n",
       "      <th>name</th>\n",
       "      <th>age</th>\n",
       "      <th>grade</th>\n",
       "    </tr>\n",
       "  </thead>\n",
       "  <tbody>\n",
       "    <tr>\n",
       "      <th>a</th>\n",
       "      <td>hojin</td>\n",
       "      <td>20</td>\n",
       "      <td>s</td>\n",
       "    </tr>\n",
       "    <tr>\n",
       "      <th>d</th>\n",
       "      <td>sunghyun</td>\n",
       "      <td>19</td>\n",
       "      <td>c</td>\n",
       "    </tr>\n",
       "  </tbody>\n",
       "</table>\n",
       "</div>"
      ],
      "text/plain": [
       "       name  age grade\n",
       "a     hojin   20     s\n",
       "d  sunghyun   19     c"
      ]
     },
     "execution_count": 68,
     "metadata": {},
     "output_type": "execute_result"
    }
   ],
   "source": [
    "df[df['age']<25]"
   ]
  },
  {
   "cell_type": "code",
   "execution_count": 69,
   "id": "f8618695-81e8-43da-8807-a09bcbf4e6ed",
   "metadata": {},
   "outputs": [
    {
     "data": {
      "text/plain": [
       "a    False\n",
       "b    False\n",
       "c     True\n",
       "d    False\n",
       "Name: age, dtype: bool"
      ]
     },
     "execution_count": 69,
     "metadata": {},
     "output_type": "execute_result"
    }
   ],
   "source": [
    "df['age']>25"
   ]
  },
  {
   "cell_type": "code",
   "execution_count": 70,
   "id": "4e5d43d4-8e8b-4b13-ba84-7f4bc14aaa01",
   "metadata": {},
   "outputs": [
    {
     "data": {
      "text/html": [
       "<div>\n",
       "<style scoped>\n",
       "    .dataframe tbody tr th:only-of-type {\n",
       "        vertical-align: middle;\n",
       "    }\n",
       "\n",
       "    .dataframe tbody tr th {\n",
       "        vertical-align: top;\n",
       "    }\n",
       "\n",
       "    .dataframe thead th {\n",
       "        text-align: right;\n",
       "    }\n",
       "</style>\n",
       "<table border=\"1\" class=\"dataframe\">\n",
       "  <thead>\n",
       "    <tr style=\"text-align: right;\">\n",
       "      <th></th>\n",
       "      <th>name</th>\n",
       "      <th>age</th>\n",
       "      <th>grade</th>\n",
       "    </tr>\n",
       "  </thead>\n",
       "  <tbody>\n",
       "    <tr>\n",
       "      <th>c</th>\n",
       "      <td>sanghyeon</td>\n",
       "      <td>28</td>\n",
       "      <td>b</td>\n",
       "    </tr>\n",
       "  </tbody>\n",
       "</table>\n",
       "</div>"
      ],
      "text/plain": [
       "        name  age grade\n",
       "c  sanghyeon   28     b"
      ]
     },
     "execution_count": 70,
     "metadata": {},
     "output_type": "execute_result"
    }
   ],
   "source": [
    "df[df['age']>25]"
   ]
  },
  {
   "cell_type": "code",
   "execution_count": 71,
   "id": "bcb99ef4-889b-4d3b-9e55-144894bd4c61",
   "metadata": {},
   "outputs": [
    {
     "data": {
      "text/html": [
       "<div>\n",
       "<style scoped>\n",
       "    .dataframe tbody tr th:only-of-type {\n",
       "        vertical-align: middle;\n",
       "    }\n",
       "\n",
       "    .dataframe tbody tr th {\n",
       "        vertical-align: top;\n",
       "    }\n",
       "\n",
       "    .dataframe thead th {\n",
       "        text-align: right;\n",
       "    }\n",
       "</style>\n",
       "<table border=\"1\" class=\"dataframe\">\n",
       "  <thead>\n",
       "    <tr style=\"text-align: right;\">\n",
       "      <th></th>\n",
       "      <th>name</th>\n",
       "      <th>age</th>\n",
       "      <th>grade</th>\n",
       "    </tr>\n",
       "  </thead>\n",
       "  <tbody>\n",
       "    <tr>\n",
       "      <th>a</th>\n",
       "      <td>hojin</td>\n",
       "      <td>20</td>\n",
       "      <td>s</td>\n",
       "    </tr>\n",
       "  </tbody>\n",
       "</table>\n",
       "</div>"
      ],
      "text/plain": [
       "    name  age grade\n",
       "a  hojin   20     s"
      ]
     },
     "execution_count": 71,
     "metadata": {},
     "output_type": "execute_result"
    }
   ],
   "source": [
    "df[(df['age']<30) & (df['grade'] == 's')]"
   ]
  },
  {
   "cell_type": "code",
   "execution_count": 72,
   "id": "236ba999-4cf9-4bad-af30-a675658f8db2",
   "metadata": {},
   "outputs": [
    {
     "ename": "AttributeError",
     "evalue": "'Series' object has no attribute 'upper'",
     "output_type": "error",
     "traceback": [
      "\u001b[1;31m---------------------------------------------------------------------------\u001b[0m",
      "\u001b[1;31mAttributeError\u001b[0m                            Traceback (most recent call last)",
      "Input \u001b[1;32mIn [72]\u001b[0m, in \u001b[0;36m<cell line: 1>\u001b[1;34m()\u001b[0m\n\u001b[1;32m----> 1\u001b[0m \u001b[43mdf\u001b[49m\u001b[43m[\u001b[49m\u001b[38;5;124;43m'\u001b[39;49m\u001b[38;5;124;43mgrade\u001b[39;49m\u001b[38;5;124;43m'\u001b[39;49m\u001b[43m]\u001b[49m\u001b[38;5;241;43m.\u001b[39;49m\u001b[43mupper\u001b[49m()\n",
      "File \u001b[1;32m~\\anaconda3\\lib\\site-packages\\pandas\\core\\generic.py:5575\u001b[0m, in \u001b[0;36mNDFrame.__getattr__\u001b[1;34m(self, name)\u001b[0m\n\u001b[0;32m   5568\u001b[0m \u001b[38;5;28;01mif\u001b[39;00m (\n\u001b[0;32m   5569\u001b[0m     name \u001b[38;5;129;01mnot\u001b[39;00m \u001b[38;5;129;01min\u001b[39;00m \u001b[38;5;28mself\u001b[39m\u001b[38;5;241m.\u001b[39m_internal_names_set\n\u001b[0;32m   5570\u001b[0m     \u001b[38;5;129;01mand\u001b[39;00m name \u001b[38;5;129;01mnot\u001b[39;00m \u001b[38;5;129;01min\u001b[39;00m \u001b[38;5;28mself\u001b[39m\u001b[38;5;241m.\u001b[39m_metadata\n\u001b[0;32m   5571\u001b[0m     \u001b[38;5;129;01mand\u001b[39;00m name \u001b[38;5;129;01mnot\u001b[39;00m \u001b[38;5;129;01min\u001b[39;00m \u001b[38;5;28mself\u001b[39m\u001b[38;5;241m.\u001b[39m_accessors\n\u001b[0;32m   5572\u001b[0m     \u001b[38;5;129;01mand\u001b[39;00m \u001b[38;5;28mself\u001b[39m\u001b[38;5;241m.\u001b[39m_info_axis\u001b[38;5;241m.\u001b[39m_can_hold_identifiers_and_holds_name(name)\n\u001b[0;32m   5573\u001b[0m ):\n\u001b[0;32m   5574\u001b[0m     \u001b[38;5;28;01mreturn\u001b[39;00m \u001b[38;5;28mself\u001b[39m[name]\n\u001b[1;32m-> 5575\u001b[0m \u001b[38;5;28;01mreturn\u001b[39;00m \u001b[38;5;28;43mobject\u001b[39;49m\u001b[38;5;241;43m.\u001b[39;49m\u001b[38;5;21;43m__getattribute__\u001b[39;49m\u001b[43m(\u001b[49m\u001b[38;5;28;43mself\u001b[39;49m\u001b[43m,\u001b[49m\u001b[43m \u001b[49m\u001b[43mname\u001b[49m\u001b[43m)\u001b[49m\n",
      "\u001b[1;31mAttributeError\u001b[0m: 'Series' object has no attribute 'upper'"
     ]
    }
   ],
   "source": [
    "df['grade'].upper()"
   ]
  },
  {
   "cell_type": "code",
   "execution_count": 77,
   "id": "8dba531c-3c5d-47a4-89ba-9ded3bb4d224",
   "metadata": {},
   "outputs": [
    {
     "data": {
      "text/plain": [
       "a    S\n",
       "b    A\n",
       "c    B\n",
       "d    C\n",
       "Name: grade, dtype: object"
      ]
     },
     "execution_count": 77,
     "metadata": {},
     "output_type": "execute_result"
    }
   ],
   "source": [
    "df['grade'].str.upper() #대소문자로 바꿔서 찾는데 활용"
   ]
  },
  {
   "cell_type": "code",
   "execution_count": 78,
   "id": "26185080-7f59-4270-81c7-91026173126a",
   "metadata": {},
   "outputs": [
    {
     "data": {
      "text/html": [
       "<div>\n",
       "<style scoped>\n",
       "    .dataframe tbody tr th:only-of-type {\n",
       "        vertical-align: middle;\n",
       "    }\n",
       "\n",
       "    .dataframe tbody tr th {\n",
       "        vertical-align: top;\n",
       "    }\n",
       "\n",
       "    .dataframe thead th {\n",
       "        text-align: right;\n",
       "    }\n",
       "</style>\n",
       "<table border=\"1\" class=\"dataframe\">\n",
       "  <thead>\n",
       "    <tr style=\"text-align: right;\">\n",
       "      <th></th>\n",
       "      <th>name</th>\n",
       "      <th>age</th>\n",
       "      <th>grade</th>\n",
       "    </tr>\n",
       "  </thead>\n",
       "  <tbody>\n",
       "    <tr>\n",
       "      <th>a</th>\n",
       "      <td>hojin</td>\n",
       "      <td>20</td>\n",
       "      <td>s</td>\n",
       "    </tr>\n",
       "  </tbody>\n",
       "</table>\n",
       "</div>"
      ],
      "text/plain": [
       "    name  age grade\n",
       "a  hojin   20     s"
      ]
     },
     "execution_count": 78,
     "metadata": {},
     "output_type": "execute_result"
    }
   ],
   "source": [
    "df[(df['age']<30) & ((df['grade'].str.lower() == 's'))] #검색하기 원본 데이터는 바꾸지 않음"
   ]
  },
  {
   "cell_type": "code",
   "execution_count": 79,
   "id": "2d6ca999-2cff-4243-bfb9-949545322e61",
   "metadata": {},
   "outputs": [],
   "source": [
    "df['name']=df['name'].str.upper()"
   ]
  },
  {
   "cell_type": "code",
   "execution_count": 80,
   "id": "be0b8fce-d595-419a-b1b3-b8eabf5d41ef",
   "metadata": {},
   "outputs": [
    {
     "data": {
      "text/html": [
       "<div>\n",
       "<style scoped>\n",
       "    .dataframe tbody tr th:only-of-type {\n",
       "        vertical-align: middle;\n",
       "    }\n",
       "\n",
       "    .dataframe tbody tr th {\n",
       "        vertical-align: top;\n",
       "    }\n",
       "\n",
       "    .dataframe thead th {\n",
       "        text-align: right;\n",
       "    }\n",
       "</style>\n",
       "<table border=\"1\" class=\"dataframe\">\n",
       "  <thead>\n",
       "    <tr style=\"text-align: right;\">\n",
       "      <th></th>\n",
       "      <th>name</th>\n",
       "      <th>age</th>\n",
       "      <th>grade</th>\n",
       "    </tr>\n",
       "  </thead>\n",
       "  <tbody>\n",
       "    <tr>\n",
       "      <th>a</th>\n",
       "      <td>HOJIN</td>\n",
       "      <td>20</td>\n",
       "      <td>s</td>\n",
       "    </tr>\n",
       "    <tr>\n",
       "      <th>b</th>\n",
       "      <td>YEJIN</td>\n",
       "      <td>25</td>\n",
       "      <td>a</td>\n",
       "    </tr>\n",
       "    <tr>\n",
       "      <th>c</th>\n",
       "      <td>SANGHYEON</td>\n",
       "      <td>28</td>\n",
       "      <td>b</td>\n",
       "    </tr>\n",
       "    <tr>\n",
       "      <th>d</th>\n",
       "      <td>SUNGHYUN</td>\n",
       "      <td>19</td>\n",
       "      <td>c</td>\n",
       "    </tr>\n",
       "  </tbody>\n",
       "</table>\n",
       "</div>"
      ],
      "text/plain": [
       "        name  age grade\n",
       "a      HOJIN   20     s\n",
       "b      YEJIN   25     a\n",
       "c  SANGHYEON   28     b\n",
       "d   SUNGHYUN   19     c"
      ]
     },
     "execution_count": 80,
     "metadata": {},
     "output_type": "execute_result"
    }
   ],
   "source": [
    "df"
   ]
  },
  {
   "cell_type": "code",
   "execution_count": null,
   "id": "9a15794e-1252-4c82-b77e-cc1e17cfa3cf",
   "metadata": {},
   "outputs": [],
   "source": []
  },
  {
   "cell_type": "code",
   "execution_count": 81,
   "id": "0f8e1d7b-1392-42c0-922c-52446499209a",
   "metadata": {},
   "outputs": [],
   "source": [
    "df=pd.read_html('https://www.fdic.gov/resources/resolutions/bank-failures/failed-bank-list/')"
   ]
  },
  {
   "cell_type": "code",
   "execution_count": 82,
   "id": "625cabb8-518d-46cf-871a-a0f265c98177",
   "metadata": {},
   "outputs": [],
   "source": [
    "df=df[0]"
   ]
  },
  {
   "cell_type": "code",
   "execution_count": 83,
   "id": "9daf9d33-84e8-4adf-930c-2f7ef6f4169d",
   "metadata": {},
   "outputs": [
    {
     "data": {
      "text/html": [
       "<div>\n",
       "<style scoped>\n",
       "    .dataframe tbody tr th:only-of-type {\n",
       "        vertical-align: middle;\n",
       "    }\n",
       "\n",
       "    .dataframe tbody tr th {\n",
       "        vertical-align: top;\n",
       "    }\n",
       "\n",
       "    .dataframe thead th {\n",
       "        text-align: right;\n",
       "    }\n",
       "</style>\n",
       "<table border=\"1\" class=\"dataframe\">\n",
       "  <thead>\n",
       "    <tr style=\"text-align: right;\">\n",
       "      <th></th>\n",
       "      <th>Bank NameBank</th>\n",
       "      <th>CityCity</th>\n",
       "      <th>StateSt</th>\n",
       "      <th>CertCert</th>\n",
       "      <th>Acquiring InstitutionAI</th>\n",
       "      <th>Closing DateClosing</th>\n",
       "      <th>FundFund</th>\n",
       "    </tr>\n",
       "  </thead>\n",
       "  <tbody>\n",
       "    <tr>\n",
       "      <th>0</th>\n",
       "      <td>Almena State Bank</td>\n",
       "      <td>Almena</td>\n",
       "      <td>KS</td>\n",
       "      <td>15426</td>\n",
       "      <td>Equity Bank</td>\n",
       "      <td>October 23, 2020</td>\n",
       "      <td>10538</td>\n",
       "    </tr>\n",
       "    <tr>\n",
       "      <th>1</th>\n",
       "      <td>First City Bank of Florida</td>\n",
       "      <td>Fort Walton Beach</td>\n",
       "      <td>FL</td>\n",
       "      <td>16748</td>\n",
       "      <td>United Fidelity Bank, fsb</td>\n",
       "      <td>October 16, 2020</td>\n",
       "      <td>10537</td>\n",
       "    </tr>\n",
       "    <tr>\n",
       "      <th>2</th>\n",
       "      <td>The First State Bank</td>\n",
       "      <td>Barboursville</td>\n",
       "      <td>WV</td>\n",
       "      <td>14361</td>\n",
       "      <td>MVB Bank, Inc.</td>\n",
       "      <td>April 3, 2020</td>\n",
       "      <td>10536</td>\n",
       "    </tr>\n",
       "    <tr>\n",
       "      <th>3</th>\n",
       "      <td>Ericson State Bank</td>\n",
       "      <td>Ericson</td>\n",
       "      <td>NE</td>\n",
       "      <td>18265</td>\n",
       "      <td>Farmers and Merchants Bank</td>\n",
       "      <td>February 14, 2020</td>\n",
       "      <td>10535</td>\n",
       "    </tr>\n",
       "    <tr>\n",
       "      <th>4</th>\n",
       "      <td>City National Bank of New Jersey</td>\n",
       "      <td>Newark</td>\n",
       "      <td>NJ</td>\n",
       "      <td>21111</td>\n",
       "      <td>Industrial Bank</td>\n",
       "      <td>November 1, 2019</td>\n",
       "      <td>10534</td>\n",
       "    </tr>\n",
       "    <tr>\n",
       "      <th>...</th>\n",
       "      <td>...</td>\n",
       "      <td>...</td>\n",
       "      <td>...</td>\n",
       "      <td>...</td>\n",
       "      <td>...</td>\n",
       "      <td>...</td>\n",
       "      <td>...</td>\n",
       "    </tr>\n",
       "    <tr>\n",
       "      <th>558</th>\n",
       "      <td>Superior Bank, FSB</td>\n",
       "      <td>Hinsdale</td>\n",
       "      <td>IL</td>\n",
       "      <td>32646</td>\n",
       "      <td>Superior Federal, FSB</td>\n",
       "      <td>July 27, 2001</td>\n",
       "      <td>6004</td>\n",
       "    </tr>\n",
       "    <tr>\n",
       "      <th>559</th>\n",
       "      <td>Malta National Bank</td>\n",
       "      <td>Malta</td>\n",
       "      <td>OH</td>\n",
       "      <td>6629</td>\n",
       "      <td>North Valley Bank</td>\n",
       "      <td>May 3, 2001</td>\n",
       "      <td>4648</td>\n",
       "    </tr>\n",
       "    <tr>\n",
       "      <th>560</th>\n",
       "      <td>First Alliance Bank &amp; Trust Co.</td>\n",
       "      <td>Manchester</td>\n",
       "      <td>NH</td>\n",
       "      <td>34264</td>\n",
       "      <td>Southern New Hampshire Bank &amp; Trust</td>\n",
       "      <td>February 2, 2001</td>\n",
       "      <td>4647</td>\n",
       "    </tr>\n",
       "    <tr>\n",
       "      <th>561</th>\n",
       "      <td>National State Bank of Metropolis</td>\n",
       "      <td>Metropolis</td>\n",
       "      <td>IL</td>\n",
       "      <td>3815</td>\n",
       "      <td>Banterra Bank of Marion</td>\n",
       "      <td>December 14, 2000</td>\n",
       "      <td>4646</td>\n",
       "    </tr>\n",
       "    <tr>\n",
       "      <th>562</th>\n",
       "      <td>Bank of Honolulu</td>\n",
       "      <td>Honolulu</td>\n",
       "      <td>HI</td>\n",
       "      <td>21029</td>\n",
       "      <td>Bank of the Orient</td>\n",
       "      <td>October 13, 2000</td>\n",
       "      <td>4645</td>\n",
       "    </tr>\n",
       "  </tbody>\n",
       "</table>\n",
       "<p>563 rows × 7 columns</p>\n",
       "</div>"
      ],
      "text/plain": [
       "                         Bank NameBank           CityCity StateSt  CertCert  \\\n",
       "0                    Almena State Bank             Almena      KS     15426   \n",
       "1           First City Bank of Florida  Fort Walton Beach      FL     16748   \n",
       "2                 The First State Bank      Barboursville      WV     14361   \n",
       "3                   Ericson State Bank            Ericson      NE     18265   \n",
       "4     City National Bank of New Jersey             Newark      NJ     21111   \n",
       "..                                 ...                ...     ...       ...   \n",
       "558                 Superior Bank, FSB           Hinsdale      IL     32646   \n",
       "559                Malta National Bank              Malta      OH      6629   \n",
       "560    First Alliance Bank & Trust Co.         Manchester      NH     34264   \n",
       "561  National State Bank of Metropolis         Metropolis      IL      3815   \n",
       "562                   Bank of Honolulu           Honolulu      HI     21029   \n",
       "\n",
       "                 Acquiring InstitutionAI Closing DateClosing  FundFund  \n",
       "0                            Equity Bank    October 23, 2020     10538  \n",
       "1              United Fidelity Bank, fsb    October 16, 2020     10537  \n",
       "2                         MVB Bank, Inc.       April 3, 2020     10536  \n",
       "3             Farmers and Merchants Bank   February 14, 2020     10535  \n",
       "4                        Industrial Bank    November 1, 2019     10534  \n",
       "..                                   ...                 ...       ...  \n",
       "558                Superior Federal, FSB       July 27, 2001      6004  \n",
       "559                    North Valley Bank         May 3, 2001      4648  \n",
       "560  Southern New Hampshire Bank & Trust    February 2, 2001      4647  \n",
       "561              Banterra Bank of Marion   December 14, 2000      4646  \n",
       "562                   Bank of the Orient    October 13, 2000      4645  \n",
       "\n",
       "[563 rows x 7 columns]"
      ]
     },
     "execution_count": 83,
     "metadata": {},
     "output_type": "execute_result"
    }
   ],
   "source": [
    "df"
   ]
  },
  {
   "cell_type": "code",
   "execution_count": 84,
   "id": "f031f19b-2a77-47b2-a176-5e6d0775fe81",
   "metadata": {},
   "outputs": [
    {
     "data": {
      "text/plain": [
       "<bound method DataFrame.info of                          Bank NameBank           CityCity StateSt  CertCert  \\\n",
       "0                    Almena State Bank             Almena      KS     15426   \n",
       "1           First City Bank of Florida  Fort Walton Beach      FL     16748   \n",
       "2                 The First State Bank      Barboursville      WV     14361   \n",
       "3                   Ericson State Bank            Ericson      NE     18265   \n",
       "4     City National Bank of New Jersey             Newark      NJ     21111   \n",
       "..                                 ...                ...     ...       ...   \n",
       "558                 Superior Bank, FSB           Hinsdale      IL     32646   \n",
       "559                Malta National Bank              Malta      OH      6629   \n",
       "560    First Alliance Bank & Trust Co.         Manchester      NH     34264   \n",
       "561  National State Bank of Metropolis         Metropolis      IL      3815   \n",
       "562                   Bank of Honolulu           Honolulu      HI     21029   \n",
       "\n",
       "                 Acquiring InstitutionAI Closing DateClosing  FundFund  \n",
       "0                            Equity Bank    October 23, 2020     10538  \n",
       "1              United Fidelity Bank, fsb    October 16, 2020     10537  \n",
       "2                         MVB Bank, Inc.       April 3, 2020     10536  \n",
       "3             Farmers and Merchants Bank   February 14, 2020     10535  \n",
       "4                        Industrial Bank    November 1, 2019     10534  \n",
       "..                                   ...                 ...       ...  \n",
       "558                Superior Federal, FSB       July 27, 2001      6004  \n",
       "559                    North Valley Bank         May 3, 2001      4648  \n",
       "560  Southern New Hampshire Bank & Trust    February 2, 2001      4647  \n",
       "561              Banterra Bank of Marion   December 14, 2000      4646  \n",
       "562                   Bank of the Orient    October 13, 2000      4645  \n",
       "\n",
       "[563 rows x 7 columns]>"
      ]
     },
     "execution_count": 84,
     "metadata": {},
     "output_type": "execute_result"
    }
   ],
   "source": [
    "df.info"
   ]
  },
  {
   "cell_type": "code",
   "execution_count": 85,
   "id": "74d31085-10f6-4b1f-839e-edd5b8a4e629",
   "metadata": {},
   "outputs": [
    {
     "data": {
      "text/plain": [
       "(563, 7)"
      ]
     },
     "execution_count": 85,
     "metadata": {},
     "output_type": "execute_result"
    }
   ],
   "source": [
    "df.shape"
   ]
  },
  {
   "cell_type": "code",
   "execution_count": 125,
   "id": "072043fe-db06-4e9f-853e-fca6118ecf10",
   "metadata": {},
   "outputs": [],
   "source": [
    "df.rename({'Bank NameBank':'Bank Name','CityCity': 'City','StateSt': 'State','CertCert':'Cert','FundFund': 'Fund','Closing DateClosing':'DateClosing'}, axis=1, inplace=True)"
   ]
  },
  {
   "cell_type": "code",
   "execution_count": 126,
   "id": "43be8413-a969-49fc-8570-4652995f44d7",
   "metadata": {},
   "outputs": [
    {
     "data": {
      "text/html": [
       "<div>\n",
       "<style scoped>\n",
       "    .dataframe tbody tr th:only-of-type {\n",
       "        vertical-align: middle;\n",
       "    }\n",
       "\n",
       "    .dataframe tbody tr th {\n",
       "        vertical-align: top;\n",
       "    }\n",
       "\n",
       "    .dataframe thead th {\n",
       "        text-align: right;\n",
       "    }\n",
       "</style>\n",
       "<table border=\"1\" class=\"dataframe\">\n",
       "  <thead>\n",
       "    <tr style=\"text-align: right;\">\n",
       "      <th></th>\n",
       "      <th>Bank Name</th>\n",
       "      <th>City</th>\n",
       "      <th>State</th>\n",
       "      <th>Cert</th>\n",
       "      <th>Acquiring InstitutionAI</th>\n",
       "      <th>DateClosing</th>\n",
       "      <th>Fund</th>\n",
       "    </tr>\n",
       "  </thead>\n",
       "  <tbody>\n",
       "    <tr>\n",
       "      <th>0</th>\n",
       "      <td>Almena State Bank</td>\n",
       "      <td>Almena</td>\n",
       "      <td>KS</td>\n",
       "      <td>15426</td>\n",
       "      <td>Equity Bank</td>\n",
       "      <td>October 23, 2020</td>\n",
       "      <td>10538</td>\n",
       "    </tr>\n",
       "    <tr>\n",
       "      <th>1</th>\n",
       "      <td>First City Bank of Florida</td>\n",
       "      <td>Fort Walton Beach</td>\n",
       "      <td>FL</td>\n",
       "      <td>16748</td>\n",
       "      <td>United Fidelity Bank, fsb</td>\n",
       "      <td>October 16, 2020</td>\n",
       "      <td>10537</td>\n",
       "    </tr>\n",
       "    <tr>\n",
       "      <th>2</th>\n",
       "      <td>The First State Bank</td>\n",
       "      <td>Barboursville</td>\n",
       "      <td>WV</td>\n",
       "      <td>14361</td>\n",
       "      <td>MVB Bank, Inc.</td>\n",
       "      <td>April 3, 2020</td>\n",
       "      <td>10536</td>\n",
       "    </tr>\n",
       "    <tr>\n",
       "      <th>3</th>\n",
       "      <td>Ericson State Bank</td>\n",
       "      <td>Ericson</td>\n",
       "      <td>NE</td>\n",
       "      <td>18265</td>\n",
       "      <td>Farmers and Merchants Bank</td>\n",
       "      <td>February 14, 2020</td>\n",
       "      <td>10535</td>\n",
       "    </tr>\n",
       "    <tr>\n",
       "      <th>4</th>\n",
       "      <td>City National Bank of New Jersey</td>\n",
       "      <td>Newark</td>\n",
       "      <td>NJ</td>\n",
       "      <td>21111</td>\n",
       "      <td>Industrial Bank</td>\n",
       "      <td>November 1, 2019</td>\n",
       "      <td>10534</td>\n",
       "    </tr>\n",
       "    <tr>\n",
       "      <th>...</th>\n",
       "      <td>...</td>\n",
       "      <td>...</td>\n",
       "      <td>...</td>\n",
       "      <td>...</td>\n",
       "      <td>...</td>\n",
       "      <td>...</td>\n",
       "      <td>...</td>\n",
       "    </tr>\n",
       "    <tr>\n",
       "      <th>558</th>\n",
       "      <td>Superior Bank, FSB</td>\n",
       "      <td>Hinsdale</td>\n",
       "      <td>IL</td>\n",
       "      <td>32646</td>\n",
       "      <td>Superior Federal, FSB</td>\n",
       "      <td>July 27, 2001</td>\n",
       "      <td>6004</td>\n",
       "    </tr>\n",
       "    <tr>\n",
       "      <th>559</th>\n",
       "      <td>Malta National Bank</td>\n",
       "      <td>Malta</td>\n",
       "      <td>OH</td>\n",
       "      <td>6629</td>\n",
       "      <td>North Valley Bank</td>\n",
       "      <td>May 3, 2001</td>\n",
       "      <td>4648</td>\n",
       "    </tr>\n",
       "    <tr>\n",
       "      <th>560</th>\n",
       "      <td>First Alliance Bank &amp; Trust Co.</td>\n",
       "      <td>Manchester</td>\n",
       "      <td>NH</td>\n",
       "      <td>34264</td>\n",
       "      <td>Southern New Hampshire Bank &amp; Trust</td>\n",
       "      <td>February 2, 2001</td>\n",
       "      <td>4647</td>\n",
       "    </tr>\n",
       "    <tr>\n",
       "      <th>561</th>\n",
       "      <td>National State Bank of Metropolis</td>\n",
       "      <td>Metropolis</td>\n",
       "      <td>IL</td>\n",
       "      <td>3815</td>\n",
       "      <td>Banterra Bank of Marion</td>\n",
       "      <td>December 14, 2000</td>\n",
       "      <td>4646</td>\n",
       "    </tr>\n",
       "    <tr>\n",
       "      <th>562</th>\n",
       "      <td>Bank of Honolulu</td>\n",
       "      <td>Honolulu</td>\n",
       "      <td>HI</td>\n",
       "      <td>21029</td>\n",
       "      <td>Bank of the Orient</td>\n",
       "      <td>October 13, 2000</td>\n",
       "      <td>4645</td>\n",
       "    </tr>\n",
       "  </tbody>\n",
       "</table>\n",
       "<p>563 rows × 7 columns</p>\n",
       "</div>"
      ],
      "text/plain": [
       "                             Bank Name               City State   Cert  \\\n",
       "0                    Almena State Bank             Almena    KS  15426   \n",
       "1           First City Bank of Florida  Fort Walton Beach    FL  16748   \n",
       "2                 The First State Bank      Barboursville    WV  14361   \n",
       "3                   Ericson State Bank            Ericson    NE  18265   \n",
       "4     City National Bank of New Jersey             Newark    NJ  21111   \n",
       "..                                 ...                ...   ...    ...   \n",
       "558                 Superior Bank, FSB           Hinsdale    IL  32646   \n",
       "559                Malta National Bank              Malta    OH   6629   \n",
       "560    First Alliance Bank & Trust Co.         Manchester    NH  34264   \n",
       "561  National State Bank of Metropolis         Metropolis    IL   3815   \n",
       "562                   Bank of Honolulu           Honolulu    HI  21029   \n",
       "\n",
       "                 Acquiring InstitutionAI        DateClosing   Fund  \n",
       "0                            Equity Bank   October 23, 2020  10538  \n",
       "1              United Fidelity Bank, fsb   October 16, 2020  10537  \n",
       "2                         MVB Bank, Inc.      April 3, 2020  10536  \n",
       "3             Farmers and Merchants Bank  February 14, 2020  10535  \n",
       "4                        Industrial Bank   November 1, 2019  10534  \n",
       "..                                   ...                ...    ...  \n",
       "558                Superior Federal, FSB      July 27, 2001   6004  \n",
       "559                    North Valley Bank        May 3, 2001   4648  \n",
       "560  Southern New Hampshire Bank & Trust   February 2, 2001   4647  \n",
       "561              Banterra Bank of Marion  December 14, 2000   4646  \n",
       "562                   Bank of the Orient   October 13, 2000   4645  \n",
       "\n",
       "[563 rows x 7 columns]"
      ]
     },
     "execution_count": 126,
     "metadata": {},
     "output_type": "execute_result"
    }
   ],
   "source": [
    "df"
   ]
  },
  {
   "cell_type": "code",
   "execution_count": 127,
   "id": "7315a100-36af-4ece-bc70-28f86384ed3c",
   "metadata": {},
   "outputs": [],
   "source": [
    "df['Cert']=df['Cert'].astype(str)"
   ]
  },
  {
   "cell_type": "code",
   "execution_count": 128,
   "id": "3c5b95b1-88e5-4207-a65f-d7019fd93639",
   "metadata": {},
   "outputs": [
    {
     "name": "stdout",
     "output_type": "stream",
     "text": [
      "<class 'pandas.core.frame.DataFrame'>\n",
      "RangeIndex: 563 entries, 0 to 562\n",
      "Data columns (total 7 columns):\n",
      " #   Column                   Non-Null Count  Dtype \n",
      "---  ------                   --------------  ----- \n",
      " 0   Bank Name                563 non-null    object\n",
      " 1   City                     563 non-null    object\n",
      " 2   State                    563 non-null    object\n",
      " 3   Cert                     563 non-null    object\n",
      " 4   Acquiring InstitutionAI  563 non-null    object\n",
      " 5   DateClosing              563 non-null    object\n",
      " 6   Fund                     563 non-null    int64 \n",
      "dtypes: int64(1), object(6)\n",
      "memory usage: 30.9+ KB\n"
     ]
    }
   ],
   "source": [
    "df.info()"
   ]
  },
  {
   "cell_type": "code",
   "execution_count": 129,
   "id": "3d4bae39-3209-4431-a47d-0ea6059329f6",
   "metadata": {},
   "outputs": [],
   "source": [
    "df1=df['Fund'].mean()"
   ]
  },
  {
   "cell_type": "code",
   "execution_count": 130,
   "id": "c45f9c4c-6d90-4cd2-bacb-068454d64232",
   "metadata": {},
   "outputs": [
    {
     "data": {
      "text/plain": [
       "10036.8756660746"
      ]
     },
     "execution_count": 130,
     "metadata": {},
     "output_type": "execute_result"
    }
   ],
   "source": [
    "df1"
   ]
  },
  {
   "cell_type": "code",
   "execution_count": 131,
   "id": "c5234dd7-d749-48e4-9b91-fa988736f36f",
   "metadata": {},
   "outputs": [],
   "source": [
    "df5=df[df['Fund']>df1]"
   ]
  },
  {
   "cell_type": "code",
   "execution_count": 132,
   "id": "e75b40e7-689f-4c1d-92e5-8af44c30bd2e",
   "metadata": {},
   "outputs": [
    {
     "data": {
      "text/plain": [
       "502"
      ]
     },
     "execution_count": 132,
     "metadata": {},
     "output_type": "execute_result"
    }
   ],
   "source": [
    "len(df5)"
   ]
  },
  {
   "cell_type": "code",
   "execution_count": 133,
   "id": "bd5e7b73-9020-4c2f-98ca-f1f6cfb837b2",
   "metadata": {},
   "outputs": [],
   "source": [
    "df4=list(df5)"
   ]
  },
  {
   "cell_type": "code",
   "execution_count": 134,
   "id": "dac30157-0945-40f5-968b-7ab4923e3325",
   "metadata": {},
   "outputs": [
    {
     "data": {
      "text/plain": [
       "7"
      ]
     },
     "execution_count": 134,
     "metadata": {},
     "output_type": "execute_result"
    }
   ],
   "source": [
    "len(df4)"
   ]
  },
  {
   "cell_type": "code",
   "execution_count": 135,
   "id": "8593731c-0166-4a40-9bdb-71621dbd20c5",
   "metadata": {},
   "outputs": [
    {
     "data": {
      "text/plain": [
       "pandas.core.frame.DataFrame"
      ]
     },
     "execution_count": 135,
     "metadata": {},
     "output_type": "execute_result"
    }
   ],
   "source": [
    "type(df5)"
   ]
  },
  {
   "cell_type": "code",
   "execution_count": 136,
   "id": "5dac6eb5-4059-4961-a643-32ffbcd4586b",
   "metadata": {},
   "outputs": [
    {
     "name": "stdout",
     "output_type": "stream",
     "text": [
      "<class 'pandas.core.frame.DataFrame'>\n",
      "Int64Index: 502 entries, 0 to 501\n",
      "Data columns (total 7 columns):\n",
      " #   Column                   Non-Null Count  Dtype \n",
      "---  ------                   --------------  ----- \n",
      " 0   Bank Name                502 non-null    object\n",
      " 1   City                     502 non-null    object\n",
      " 2   State                    502 non-null    object\n",
      " 3   Cert                     502 non-null    object\n",
      " 4   Acquiring InstitutionAI  502 non-null    object\n",
      " 5   DateClosing              502 non-null    object\n",
      " 6   Fund                     502 non-null    int64 \n",
      "dtypes: int64(1), object(6)\n",
      "memory usage: 31.4+ KB\n"
     ]
    }
   ],
   "source": [
    "df5.info()"
   ]
  },
  {
   "cell_type": "code",
   "execution_count": 137,
   "id": "db0e6d49-7cf3-48bb-9ceb-c035909a3f34",
   "metadata": {},
   "outputs": [
    {
     "data": {
      "text/plain": [
       "433"
      ]
     },
     "execution_count": 137,
     "metadata": {},
     "output_type": "execute_result"
    }
   ],
   "source": [
    "len(df['City'].unique())"
   ]
  },
  {
   "cell_type": "code",
   "execution_count": 138,
   "id": "eb89d3c6-c0c3-4f58-b349-bd73dab095f7",
   "metadata": {},
   "outputs": [
    {
     "data": {
      "text/plain": [
       "Chicago         20\n",
       "Atlanta         10\n",
       "Phoenix          6\n",
       "Naples           5\n",
       "Scottsdale       4\n",
       "                ..\n",
       "East Ellijay     1\n",
       "Rosemount        1\n",
       "Carthage         1\n",
       "Winter Park      1\n",
       "Honolulu         1\n",
       "Name: City, Length: 433, dtype: int64"
      ]
     },
     "execution_count": 138,
     "metadata": {},
     "output_type": "execute_result"
    }
   ],
   "source": [
    "df['City'].value_counts()"
   ]
  },
  {
   "cell_type": "code",
   "execution_count": 139,
   "id": "d1e2f7b7-ceb6-4da6-9ba2-efe8b9bcaab5",
   "metadata": {},
   "outputs": [
    {
     "data": {
      "text/plain": [
       "GA    93\n",
       "FL    76\n",
       "IL    69\n",
       "CA    41\n",
       "MN    23\n",
       "WA    19\n",
       "AZ    16\n",
       "MO    16\n",
       "MI    14\n",
       "TX    13\n",
       "NV    12\n",
       "KS    11\n",
       "WI    11\n",
       "SC    10\n",
       "CO    10\n",
       "MD    10\n",
       "PA    10\n",
       "OH     9\n",
       "NJ     8\n",
       "UT     8\n",
       "NC     7\n",
       "AL     7\n",
       "OK     7\n",
       "TN     7\n",
       "OR     6\n",
       "VA     5\n",
       "NY     5\n",
       "PR     4\n",
       "AR     4\n",
       "LA     4\n",
       "NE     4\n",
       "NM     3\n",
       "IN     3\n",
       "KY     3\n",
       "WV     2\n",
       "IA     2\n",
       "MS     2\n",
       "CT     2\n",
       "ID     2\n",
       "MA     1\n",
       "SD     1\n",
       "WY     1\n",
       "NH     1\n",
       "HI     1\n",
       "Name: State, dtype: int64"
      ]
     },
     "execution_count": 139,
     "metadata": {},
     "output_type": "execute_result"
    }
   ],
   "source": [
    "df['State'].value_counts()"
   ]
  },
  {
   "cell_type": "code",
   "execution_count": 140,
   "id": "3e115d20-67f0-44af-bdcd-4e7ff5fee656",
   "metadata": {},
   "outputs": [
    {
     "data": {
      "text/html": [
       "<div>\n",
       "<style scoped>\n",
       "    .dataframe tbody tr th:only-of-type {\n",
       "        vertical-align: middle;\n",
       "    }\n",
       "\n",
       "    .dataframe tbody tr th {\n",
       "        vertical-align: top;\n",
       "    }\n",
       "\n",
       "    .dataframe thead th {\n",
       "        text-align: right;\n",
       "    }\n",
       "</style>\n",
       "<table border=\"1\" class=\"dataframe\">\n",
       "  <thead>\n",
       "    <tr style=\"text-align: right;\">\n",
       "      <th></th>\n",
       "      <th>Bank Name</th>\n",
       "      <th>City</th>\n",
       "      <th>State</th>\n",
       "      <th>Cert</th>\n",
       "      <th>Acquiring InstitutionAI</th>\n",
       "      <th>DateClosing</th>\n",
       "      <th>Fund</th>\n",
       "    </tr>\n",
       "  </thead>\n",
       "  <tbody>\n",
       "    <tr>\n",
       "      <th>0</th>\n",
       "      <td>Almena State Bank</td>\n",
       "      <td>Almena</td>\n",
       "      <td>KS</td>\n",
       "      <td>15426</td>\n",
       "      <td>Equity Bank</td>\n",
       "      <td>October 23, 2020</td>\n",
       "      <td>10538</td>\n",
       "    </tr>\n",
       "    <tr>\n",
       "      <th>1</th>\n",
       "      <td>First City Bank of Florida</td>\n",
       "      <td>Fort Walton Beach</td>\n",
       "      <td>FL</td>\n",
       "      <td>16748</td>\n",
       "      <td>United Fidelity Bank, fsb</td>\n",
       "      <td>October 16, 2020</td>\n",
       "      <td>10537</td>\n",
       "    </tr>\n",
       "    <tr>\n",
       "      <th>2</th>\n",
       "      <td>The First State Bank</td>\n",
       "      <td>Barboursville</td>\n",
       "      <td>WV</td>\n",
       "      <td>14361</td>\n",
       "      <td>MVB Bank, Inc.</td>\n",
       "      <td>April 3, 2020</td>\n",
       "      <td>10536</td>\n",
       "    </tr>\n",
       "    <tr>\n",
       "      <th>3</th>\n",
       "      <td>Ericson State Bank</td>\n",
       "      <td>Ericson</td>\n",
       "      <td>NE</td>\n",
       "      <td>18265</td>\n",
       "      <td>Farmers and Merchants Bank</td>\n",
       "      <td>February 14, 2020</td>\n",
       "      <td>10535</td>\n",
       "    </tr>\n",
       "    <tr>\n",
       "      <th>4</th>\n",
       "      <td>City National Bank of New Jersey</td>\n",
       "      <td>Newark</td>\n",
       "      <td>NJ</td>\n",
       "      <td>21111</td>\n",
       "      <td>Industrial Bank</td>\n",
       "      <td>November 1, 2019</td>\n",
       "      <td>10534</td>\n",
       "    </tr>\n",
       "    <tr>\n",
       "      <th>...</th>\n",
       "      <td>...</td>\n",
       "      <td>...</td>\n",
       "      <td>...</td>\n",
       "      <td>...</td>\n",
       "      <td>...</td>\n",
       "      <td>...</td>\n",
       "      <td>...</td>\n",
       "    </tr>\n",
       "    <tr>\n",
       "      <th>497</th>\n",
       "      <td>Silver Falls Bank</td>\n",
       "      <td>Silverton</td>\n",
       "      <td>OR</td>\n",
       "      <td>35399</td>\n",
       "      <td>Citizens Bank</td>\n",
       "      <td>February 20, 2009</td>\n",
       "      <td>10041</td>\n",
       "    </tr>\n",
       "    <tr>\n",
       "      <th>498</th>\n",
       "      <td>Pinnacle Bank of Oregon</td>\n",
       "      <td>Beaverton</td>\n",
       "      <td>OR</td>\n",
       "      <td>57342</td>\n",
       "      <td>Washington Trust Bank of Spokane</td>\n",
       "      <td>February 13, 2009</td>\n",
       "      <td>10040</td>\n",
       "    </tr>\n",
       "    <tr>\n",
       "      <th>499</th>\n",
       "      <td>Corn Belt Bank &amp; Trust Co.</td>\n",
       "      <td>Pittsfield</td>\n",
       "      <td>IL</td>\n",
       "      <td>16500</td>\n",
       "      <td>The Carlinville National Bank</td>\n",
       "      <td>February 13, 2009</td>\n",
       "      <td>10037</td>\n",
       "    </tr>\n",
       "    <tr>\n",
       "      <th>500</th>\n",
       "      <td>Riverside Bank of the Gulf Coast</td>\n",
       "      <td>Cape Coral</td>\n",
       "      <td>FL</td>\n",
       "      <td>34563</td>\n",
       "      <td>TIB Bank</td>\n",
       "      <td>February 13, 2009</td>\n",
       "      <td>10038</td>\n",
       "    </tr>\n",
       "    <tr>\n",
       "      <th>501</th>\n",
       "      <td>Sherman County Bank</td>\n",
       "      <td>Loup City</td>\n",
       "      <td>NE</td>\n",
       "      <td>5431</td>\n",
       "      <td>Heritage Bank</td>\n",
       "      <td>February 13, 2009</td>\n",
       "      <td>10039</td>\n",
       "    </tr>\n",
       "  </tbody>\n",
       "</table>\n",
       "<p>502 rows × 7 columns</p>\n",
       "</div>"
      ],
      "text/plain": [
       "                            Bank Name               City State   Cert  \\\n",
       "0                   Almena State Bank             Almena    KS  15426   \n",
       "1          First City Bank of Florida  Fort Walton Beach    FL  16748   \n",
       "2                The First State Bank      Barboursville    WV  14361   \n",
       "3                  Ericson State Bank            Ericson    NE  18265   \n",
       "4    City National Bank of New Jersey             Newark    NJ  21111   \n",
       "..                                ...                ...   ...    ...   \n",
       "497                 Silver Falls Bank          Silverton    OR  35399   \n",
       "498           Pinnacle Bank of Oregon          Beaverton    OR  57342   \n",
       "499        Corn Belt Bank & Trust Co.         Pittsfield    IL  16500   \n",
       "500  Riverside Bank of the Gulf Coast         Cape Coral    FL  34563   \n",
       "501               Sherman County Bank          Loup City    NE   5431   \n",
       "\n",
       "              Acquiring InstitutionAI        DateClosing   Fund  \n",
       "0                         Equity Bank   October 23, 2020  10538  \n",
       "1           United Fidelity Bank, fsb   October 16, 2020  10537  \n",
       "2                      MVB Bank, Inc.      April 3, 2020  10536  \n",
       "3          Farmers and Merchants Bank  February 14, 2020  10535  \n",
       "4                     Industrial Bank   November 1, 2019  10534  \n",
       "..                                ...                ...    ...  \n",
       "497                     Citizens Bank  February 20, 2009  10041  \n",
       "498  Washington Trust Bank of Spokane  February 13, 2009  10040  \n",
       "499     The Carlinville National Bank  February 13, 2009  10037  \n",
       "500                          TIB Bank  February 13, 2009  10038  \n",
       "501                     Heritage Bank  February 13, 2009  10039  \n",
       "\n",
       "[502 rows x 7 columns]"
      ]
     },
     "execution_count": 140,
     "metadata": {},
     "output_type": "execute_result"
    }
   ],
   "source": [
    "df[df['Fund']>df1]"
   ]
  },
  {
   "cell_type": "code",
   "execution_count": 141,
   "id": "b8ec3631-b116-4c2f-9d8d-a5349d0a402c",
   "metadata": {},
   "outputs": [],
   "source": [
    "df8=df['Fund'].min()"
   ]
  },
  {
   "cell_type": "code",
   "execution_count": 142,
   "id": "c81575eb-c0c3-41a3-9875-f3f2e58430c8",
   "metadata": {},
   "outputs": [
    {
     "ename": "KeyError",
     "evalue": "\"None of [Int64Index([10538, 10537, 10536, 10535, 10534, 10533, 10532, 10531, 10530,\\n            10529,\\n            ...\\n             4653,  4652,  4651,  4650,  4649,  6004,  4648,  4647,  4646,\\n             4645],\\n           dtype='int64', length=563)] are in the [columns]\"",
     "output_type": "error",
     "traceback": [
      "\u001b[1;31m---------------------------------------------------------------------------\u001b[0m",
      "\u001b[1;31mKeyError\u001b[0m                                  Traceback (most recent call last)",
      "Input \u001b[1;32mIn [142]\u001b[0m, in \u001b[0;36m<cell line: 1>\u001b[1;34m()\u001b[0m\n\u001b[1;32m----> 1\u001b[0m \u001b[43mdf\u001b[49m\u001b[43m[\u001b[49m\u001b[43mdf\u001b[49m\u001b[43m[\u001b[49m\u001b[38;5;124;43m'\u001b[39;49m\u001b[38;5;124;43mFund\u001b[39;49m\u001b[38;5;124;43m'\u001b[39;49m\u001b[43m]\u001b[49m\u001b[43m]\u001b[49m\u001b[38;5;241m==\u001b[39mdf8\n",
      "File \u001b[1;32m~\\anaconda3\\lib\\site-packages\\pandas\\core\\frame.py:3511\u001b[0m, in \u001b[0;36mDataFrame.__getitem__\u001b[1;34m(self, key)\u001b[0m\n\u001b[0;32m   3509\u001b[0m     \u001b[38;5;28;01mif\u001b[39;00m is_iterator(key):\n\u001b[0;32m   3510\u001b[0m         key \u001b[38;5;241m=\u001b[39m \u001b[38;5;28mlist\u001b[39m(key)\n\u001b[1;32m-> 3511\u001b[0m     indexer \u001b[38;5;241m=\u001b[39m \u001b[38;5;28;43mself\u001b[39;49m\u001b[38;5;241;43m.\u001b[39;49m\u001b[43mcolumns\u001b[49m\u001b[38;5;241;43m.\u001b[39;49m\u001b[43m_get_indexer_strict\u001b[49m\u001b[43m(\u001b[49m\u001b[43mkey\u001b[49m\u001b[43m,\u001b[49m\u001b[43m \u001b[49m\u001b[38;5;124;43m\"\u001b[39;49m\u001b[38;5;124;43mcolumns\u001b[39;49m\u001b[38;5;124;43m\"\u001b[39;49m\u001b[43m)\u001b[49m[\u001b[38;5;241m1\u001b[39m]\n\u001b[0;32m   3513\u001b[0m \u001b[38;5;66;03m# take() does not accept boolean indexers\u001b[39;00m\n\u001b[0;32m   3514\u001b[0m \u001b[38;5;28;01mif\u001b[39;00m \u001b[38;5;28mgetattr\u001b[39m(indexer, \u001b[38;5;124m\"\u001b[39m\u001b[38;5;124mdtype\u001b[39m\u001b[38;5;124m\"\u001b[39m, \u001b[38;5;28;01mNone\u001b[39;00m) \u001b[38;5;241m==\u001b[39m \u001b[38;5;28mbool\u001b[39m:\n",
      "File \u001b[1;32m~\\anaconda3\\lib\\site-packages\\pandas\\core\\indexes\\base.py:5782\u001b[0m, in \u001b[0;36mIndex._get_indexer_strict\u001b[1;34m(self, key, axis_name)\u001b[0m\n\u001b[0;32m   5779\u001b[0m \u001b[38;5;28;01melse\u001b[39;00m:\n\u001b[0;32m   5780\u001b[0m     keyarr, indexer, new_indexer \u001b[38;5;241m=\u001b[39m \u001b[38;5;28mself\u001b[39m\u001b[38;5;241m.\u001b[39m_reindex_non_unique(keyarr)\n\u001b[1;32m-> 5782\u001b[0m \u001b[38;5;28;43mself\u001b[39;49m\u001b[38;5;241;43m.\u001b[39;49m\u001b[43m_raise_if_missing\u001b[49m\u001b[43m(\u001b[49m\u001b[43mkeyarr\u001b[49m\u001b[43m,\u001b[49m\u001b[43m \u001b[49m\u001b[43mindexer\u001b[49m\u001b[43m,\u001b[49m\u001b[43m \u001b[49m\u001b[43maxis_name\u001b[49m\u001b[43m)\u001b[49m\n\u001b[0;32m   5784\u001b[0m keyarr \u001b[38;5;241m=\u001b[39m \u001b[38;5;28mself\u001b[39m\u001b[38;5;241m.\u001b[39mtake(indexer)\n\u001b[0;32m   5785\u001b[0m \u001b[38;5;28;01mif\u001b[39;00m \u001b[38;5;28misinstance\u001b[39m(key, Index):\n\u001b[0;32m   5786\u001b[0m     \u001b[38;5;66;03m# GH 42790 - Preserve name from an Index\u001b[39;00m\n",
      "File \u001b[1;32m~\\anaconda3\\lib\\site-packages\\pandas\\core\\indexes\\base.py:5842\u001b[0m, in \u001b[0;36mIndex._raise_if_missing\u001b[1;34m(self, key, indexer, axis_name)\u001b[0m\n\u001b[0;32m   5840\u001b[0m     \u001b[38;5;28;01mif\u001b[39;00m use_interval_msg:\n\u001b[0;32m   5841\u001b[0m         key \u001b[38;5;241m=\u001b[39m \u001b[38;5;28mlist\u001b[39m(key)\n\u001b[1;32m-> 5842\u001b[0m     \u001b[38;5;28;01mraise\u001b[39;00m \u001b[38;5;167;01mKeyError\u001b[39;00m(\u001b[38;5;124mf\u001b[39m\u001b[38;5;124m\"\u001b[39m\u001b[38;5;124mNone of [\u001b[39m\u001b[38;5;132;01m{\u001b[39;00mkey\u001b[38;5;132;01m}\u001b[39;00m\u001b[38;5;124m] are in the [\u001b[39m\u001b[38;5;132;01m{\u001b[39;00maxis_name\u001b[38;5;132;01m}\u001b[39;00m\u001b[38;5;124m]\u001b[39m\u001b[38;5;124m\"\u001b[39m)\n\u001b[0;32m   5844\u001b[0m not_found \u001b[38;5;241m=\u001b[39m \u001b[38;5;28mlist\u001b[39m(ensure_index(key)[missing_mask\u001b[38;5;241m.\u001b[39mnonzero()[\u001b[38;5;241m0\u001b[39m]]\u001b[38;5;241m.\u001b[39munique())\n\u001b[0;32m   5845\u001b[0m \u001b[38;5;28;01mraise\u001b[39;00m \u001b[38;5;167;01mKeyError\u001b[39;00m(\u001b[38;5;124mf\u001b[39m\u001b[38;5;124m\"\u001b[39m\u001b[38;5;132;01m{\u001b[39;00mnot_found\u001b[38;5;132;01m}\u001b[39;00m\u001b[38;5;124m not in index\u001b[39m\u001b[38;5;124m\"\u001b[39m)\n",
      "\u001b[1;31mKeyError\u001b[0m: \"None of [Int64Index([10538, 10537, 10536, 10535, 10534, 10533, 10532, 10531, 10530,\\n            10529,\\n            ...\\n             4653,  4652,  4651,  4650,  4649,  6004,  4648,  4647,  4646,\\n             4645],\\n           dtype='int64', length=563)] are in the [columns]\""
     ]
    }
   ],
   "source": [
    "df[df['Fund']]==df8"
   ]
  },
  {
   "cell_type": "code",
   "execution_count": 143,
   "id": "82693851-4fb6-4890-af25-04e0b3025055",
   "metadata": {},
   "outputs": [
    {
     "ename": "AttributeError",
     "evalue": "'function' object has no attribute 'info'",
     "output_type": "error",
     "traceback": [
      "\u001b[1;31m---------------------------------------------------------------------------\u001b[0m",
      "\u001b[1;31mAttributeError\u001b[0m                            Traceback (most recent call last)",
      "Input \u001b[1;32mIn [143]\u001b[0m, in \u001b[0;36m<cell line: 1>\u001b[1;34m()\u001b[0m\n\u001b[1;32m----> 1\u001b[0m \u001b[43mdf\u001b[49m\u001b[43m[\u001b[49m\u001b[38;5;124;43m'\u001b[39;49m\u001b[38;5;124;43mFund\u001b[39;49m\u001b[38;5;124;43m'\u001b[39;49m\u001b[43m]\u001b[49m\u001b[38;5;241;43m.\u001b[39;49m\u001b[43mmin\u001b[49m\u001b[38;5;241;43m.\u001b[39;49m\u001b[43minfo\u001b[49m\n",
      "\u001b[1;31mAttributeError\u001b[0m: 'function' object has no attribute 'info'"
     ]
    }
   ],
   "source": [
    "df['Fund'].min.info"
   ]
  },
  {
   "cell_type": "code",
   "execution_count": 144,
   "id": "fce77804-a349-42a9-a71d-96c5e3907870",
   "metadata": {},
   "outputs": [
    {
     "ename": "SyntaxError",
     "evalue": "invalid syntax (2352470386.py, line 1)",
     "output_type": "error",
     "traceback": [
      "\u001b[1;36m  Input \u001b[1;32mIn [144]\u001b[1;36m\u001b[0m\n\u001b[1;33m    &  df['Fund'] <10200&5>=500]\u001b[0m\n\u001b[1;37m    ^\u001b[0m\n\u001b[1;31mSyntaxError\u001b[0m\u001b[1;31m:\u001b[0m invalid syntax\n"
     ]
    }
   ],
   "source": [
    " &  df['Fund'] <10200&5>=500]"
   ]
  },
  {
   "cell_type": "code",
   "execution_count": 145,
   "id": "512002fd-c790-4cb8-8d90-f44838836c4c",
   "metadata": {},
   "outputs": [
    {
     "data": {
      "text/plain": [
       "10036.8756660746"
      ]
     },
     "execution_count": 145,
     "metadata": {},
     "output_type": "execute_result"
    }
   ],
   "source": [
    "df1"
   ]
  },
  {
   "cell_type": "code",
   "execution_count": 146,
   "id": "a0b8ba95-5038-468d-9dc3-444c096f77fd",
   "metadata": {},
   "outputs": [],
   "source": [
    "df1=df[df['Fund'] <=10200]"
   ]
  },
  {
   "cell_type": "code",
   "execution_count": 147,
   "id": "ed64b76a-6d1f-469a-afbf-8d1c31204a10",
   "metadata": {},
   "outputs": [
    {
     "data": {
      "text/html": [
       "<div>\n",
       "<style scoped>\n",
       "    .dataframe tbody tr th:only-of-type {\n",
       "        vertical-align: middle;\n",
       "    }\n",
       "\n",
       "    .dataframe tbody tr th {\n",
       "        vertical-align: top;\n",
       "    }\n",
       "\n",
       "    .dataframe thead th {\n",
       "        text-align: right;\n",
       "    }\n",
       "</style>\n",
       "<table border=\"1\" class=\"dataframe\">\n",
       "  <thead>\n",
       "    <tr style=\"text-align: right;\">\n",
       "      <th></th>\n",
       "      <th>Bank Name</th>\n",
       "      <th>City</th>\n",
       "      <th>State</th>\n",
       "      <th>Cert</th>\n",
       "      <th>Acquiring InstitutionAI</th>\n",
       "      <th>DateClosing</th>\n",
       "      <th>Fund</th>\n",
       "    </tr>\n",
       "  </thead>\n",
       "  <tbody>\n",
       "    <tr>\n",
       "      <th>337</th>\n",
       "      <td>Appalachian Community Bank</td>\n",
       "      <td>Ellijay</td>\n",
       "      <td>GA</td>\n",
       "      <td>33989</td>\n",
       "      <td>Community &amp; Southern Bank</td>\n",
       "      <td>March 19, 2010</td>\n",
       "      <td>10199</td>\n",
       "    </tr>\n",
       "    <tr>\n",
       "      <th>338</th>\n",
       "      <td>Advanta Bank Corp.</td>\n",
       "      <td>Draper</td>\n",
       "      <td>UT</td>\n",
       "      <td>33535</td>\n",
       "      <td>No Acquirer</td>\n",
       "      <td>March 19, 2010</td>\n",
       "      <td>10200</td>\n",
       "    </tr>\n",
       "    <tr>\n",
       "      <th>339</th>\n",
       "      <td>Century Security Bank</td>\n",
       "      <td>Duluth</td>\n",
       "      <td>GA</td>\n",
       "      <td>58104</td>\n",
       "      <td>Bank of Upson</td>\n",
       "      <td>March 19, 2010</td>\n",
       "      <td>10198</td>\n",
       "    </tr>\n",
       "    <tr>\n",
       "      <th>341</th>\n",
       "      <td>Statewide Bank</td>\n",
       "      <td>Covington</td>\n",
       "      <td>LA</td>\n",
       "      <td>29561</td>\n",
       "      <td>Home Bank</td>\n",
       "      <td>March 12, 2010</td>\n",
       "      <td>10196</td>\n",
       "    </tr>\n",
       "    <tr>\n",
       "      <th>342</th>\n",
       "      <td>Old Southern Bank</td>\n",
       "      <td>Orlando</td>\n",
       "      <td>FL</td>\n",
       "      <td>58182</td>\n",
       "      <td>Centennial Bank</td>\n",
       "      <td>March 12, 2010</td>\n",
       "      <td>10197</td>\n",
       "    </tr>\n",
       "    <tr>\n",
       "      <th>...</th>\n",
       "      <td>...</td>\n",
       "      <td>...</td>\n",
       "      <td>...</td>\n",
       "      <td>...</td>\n",
       "      <td>...</td>\n",
       "      <td>...</td>\n",
       "      <td>...</td>\n",
       "    </tr>\n",
       "    <tr>\n",
       "      <th>558</th>\n",
       "      <td>Superior Bank, FSB</td>\n",
       "      <td>Hinsdale</td>\n",
       "      <td>IL</td>\n",
       "      <td>32646</td>\n",
       "      <td>Superior Federal, FSB</td>\n",
       "      <td>July 27, 2001</td>\n",
       "      <td>6004</td>\n",
       "    </tr>\n",
       "    <tr>\n",
       "      <th>559</th>\n",
       "      <td>Malta National Bank</td>\n",
       "      <td>Malta</td>\n",
       "      <td>OH</td>\n",
       "      <td>6629</td>\n",
       "      <td>North Valley Bank</td>\n",
       "      <td>May 3, 2001</td>\n",
       "      <td>4648</td>\n",
       "    </tr>\n",
       "    <tr>\n",
       "      <th>560</th>\n",
       "      <td>First Alliance Bank &amp; Trust Co.</td>\n",
       "      <td>Manchester</td>\n",
       "      <td>NH</td>\n",
       "      <td>34264</td>\n",
       "      <td>Southern New Hampshire Bank &amp; Trust</td>\n",
       "      <td>February 2, 2001</td>\n",
       "      <td>4647</td>\n",
       "    </tr>\n",
       "    <tr>\n",
       "      <th>561</th>\n",
       "      <td>National State Bank of Metropolis</td>\n",
       "      <td>Metropolis</td>\n",
       "      <td>IL</td>\n",
       "      <td>3815</td>\n",
       "      <td>Banterra Bank of Marion</td>\n",
       "      <td>December 14, 2000</td>\n",
       "      <td>4646</td>\n",
       "    </tr>\n",
       "    <tr>\n",
       "      <th>562</th>\n",
       "      <td>Bank of Honolulu</td>\n",
       "      <td>Honolulu</td>\n",
       "      <td>HI</td>\n",
       "      <td>21029</td>\n",
       "      <td>Bank of the Orient</td>\n",
       "      <td>October 13, 2000</td>\n",
       "      <td>4645</td>\n",
       "    </tr>\n",
       "  </tbody>\n",
       "</table>\n",
       "<p>225 rows × 7 columns</p>\n",
       "</div>"
      ],
      "text/plain": [
       "                             Bank Name        City State   Cert  \\\n",
       "337         Appalachian Community Bank     Ellijay    GA  33989   \n",
       "338                 Advanta Bank Corp.      Draper    UT  33535   \n",
       "339              Century Security Bank      Duluth    GA  58104   \n",
       "341                     Statewide Bank   Covington    LA  29561   \n",
       "342                  Old Southern Bank     Orlando    FL  58182   \n",
       "..                                 ...         ...   ...    ...   \n",
       "558                 Superior Bank, FSB    Hinsdale    IL  32646   \n",
       "559                Malta National Bank       Malta    OH   6629   \n",
       "560    First Alliance Bank & Trust Co.  Manchester    NH  34264   \n",
       "561  National State Bank of Metropolis  Metropolis    IL   3815   \n",
       "562                   Bank of Honolulu    Honolulu    HI  21029   \n",
       "\n",
       "                 Acquiring InstitutionAI        DateClosing   Fund  \n",
       "337            Community & Southern Bank     March 19, 2010  10199  \n",
       "338                          No Acquirer     March 19, 2010  10200  \n",
       "339                        Bank of Upson     March 19, 2010  10198  \n",
       "341                            Home Bank     March 12, 2010  10196  \n",
       "342                      Centennial Bank     March 12, 2010  10197  \n",
       "..                                   ...                ...    ...  \n",
       "558                Superior Federal, FSB      July 27, 2001   6004  \n",
       "559                    North Valley Bank        May 3, 2001   4648  \n",
       "560  Southern New Hampshire Bank & Trust   February 2, 2001   4647  \n",
       "561              Banterra Bank of Marion  December 14, 2000   4646  \n",
       "562                   Bank of the Orient   October 13, 2000   4645  \n",
       "\n",
       "[225 rows x 7 columns]"
      ]
     },
     "execution_count": 147,
     "metadata": {},
     "output_type": "execute_result"
    }
   ],
   "source": [
    "df1"
   ]
  },
  {
   "cell_type": "code",
   "execution_count": 148,
   "id": "c1c2e700-cffa-4ef5-a105-f4b9f488e578",
   "metadata": {},
   "outputs": [],
   "source": [
    "df1=df[df['State'] == 'GA']"
   ]
  },
  {
   "cell_type": "code",
   "execution_count": 149,
   "id": "76e51b89-4533-4a02-822e-2d247dcc48c8",
   "metadata": {},
   "outputs": [
    {
     "data": {
      "text/html": [
       "<div>\n",
       "<style scoped>\n",
       "    .dataframe tbody tr th:only-of-type {\n",
       "        vertical-align: middle;\n",
       "    }\n",
       "\n",
       "    .dataframe tbody tr th {\n",
       "        vertical-align: top;\n",
       "    }\n",
       "\n",
       "    .dataframe thead th {\n",
       "        text-align: right;\n",
       "    }\n",
       "</style>\n",
       "<table border=\"1\" class=\"dataframe\">\n",
       "  <thead>\n",
       "    <tr style=\"text-align: right;\">\n",
       "      <th></th>\n",
       "      <th>Bank Name</th>\n",
       "      <th>City</th>\n",
       "      <th>State</th>\n",
       "      <th>Cert</th>\n",
       "      <th>Acquiring InstitutionAI</th>\n",
       "      <th>DateClosing</th>\n",
       "      <th>Fund</th>\n",
       "    </tr>\n",
       "  </thead>\n",
       "  <tbody>\n",
       "    <tr>\n",
       "      <th>17</th>\n",
       "      <td>The Woodbury Banking Company</td>\n",
       "      <td>Woodbury</td>\n",
       "      <td>GA</td>\n",
       "      <td>11297</td>\n",
       "      <td>United Bank</td>\n",
       "      <td>August 19, 2016</td>\n",
       "      <td>10521</td>\n",
       "    </tr>\n",
       "    <tr>\n",
       "      <th>22</th>\n",
       "      <td>The Bank of Georgia</td>\n",
       "      <td>Peachtree City</td>\n",
       "      <td>GA</td>\n",
       "      <td>35259</td>\n",
       "      <td>Fidelity Bank</td>\n",
       "      <td>October 2, 2015</td>\n",
       "      <td>10516</td>\n",
       "    </tr>\n",
       "    <tr>\n",
       "      <th>26</th>\n",
       "      <td>Capitol City Bank &amp; Trust Company</td>\n",
       "      <td>Atlanta</td>\n",
       "      <td>GA</td>\n",
       "      <td>33938</td>\n",
       "      <td>First-Citizens Bank &amp; Trust Company</td>\n",
       "      <td>February 13, 2015</td>\n",
       "      <td>10512</td>\n",
       "    </tr>\n",
       "    <tr>\n",
       "      <th>34</th>\n",
       "      <td>Eastside Commercial Bank</td>\n",
       "      <td>Conyers</td>\n",
       "      <td>GA</td>\n",
       "      <td>58125</td>\n",
       "      <td>Community &amp; Southern Bank</td>\n",
       "      <td>July 18, 2014</td>\n",
       "      <td>10504</td>\n",
       "    </tr>\n",
       "    <tr>\n",
       "      <th>59</th>\n",
       "      <td>Sunrise Bank</td>\n",
       "      <td>Valdosta</td>\n",
       "      <td>GA</td>\n",
       "      <td>58185</td>\n",
       "      <td>Synovus Bank</td>\n",
       "      <td>May 10, 2013</td>\n",
       "      <td>10481</td>\n",
       "    </tr>\n",
       "    <tr>\n",
       "      <th>...</th>\n",
       "      <td>...</td>\n",
       "      <td>...</td>\n",
       "      <td>...</td>\n",
       "      <td>...</td>\n",
       "      <td>...</td>\n",
       "      <td>...</td>\n",
       "      <td>...</td>\n",
       "    </tr>\n",
       "    <tr>\n",
       "      <th>516</th>\n",
       "      <td>Community Bank</td>\n",
       "      <td>Loganville</td>\n",
       "      <td>GA</td>\n",
       "      <td>16490</td>\n",
       "      <td>Bank of Essex</td>\n",
       "      <td>November 21, 2008</td>\n",
       "      <td>10022</td>\n",
       "    </tr>\n",
       "    <tr>\n",
       "      <th>520</th>\n",
       "      <td>Alpha Bank &amp; Trust</td>\n",
       "      <td>Alpharetta</td>\n",
       "      <td>GA</td>\n",
       "      <td>58241</td>\n",
       "      <td>Stearns Bank, N.A.</td>\n",
       "      <td>October 24, 2008</td>\n",
       "      <td>10018</td>\n",
       "    </tr>\n",
       "    <tr>\n",
       "      <th>526</th>\n",
       "      <td>Integrity Bank</td>\n",
       "      <td>Alpharetta</td>\n",
       "      <td>GA</td>\n",
       "      <td>35469</td>\n",
       "      <td>Regions Bank</td>\n",
       "      <td>August 29, 2008</td>\n",
       "      <td>10012</td>\n",
       "    </tr>\n",
       "    <tr>\n",
       "      <th>537</th>\n",
       "      <td>NetBank</td>\n",
       "      <td>Alpharetta</td>\n",
       "      <td>GA</td>\n",
       "      <td>32575</td>\n",
       "      <td>ING DIRECT</td>\n",
       "      <td>September 28, 2007</td>\n",
       "      <td>10001</td>\n",
       "    </tr>\n",
       "    <tr>\n",
       "      <th>548</th>\n",
       "      <td>AmTrade International Bank  En Español</td>\n",
       "      <td>Atlanta</td>\n",
       "      <td>GA</td>\n",
       "      <td>33784</td>\n",
       "      <td>No Acquirer</td>\n",
       "      <td>September 30, 2002</td>\n",
       "      <td>4657</td>\n",
       "    </tr>\n",
       "  </tbody>\n",
       "</table>\n",
       "<p>93 rows × 7 columns</p>\n",
       "</div>"
      ],
      "text/plain": [
       "                                  Bank Name            City State   Cert  \\\n",
       "17             The Woodbury Banking Company        Woodbury    GA  11297   \n",
       "22                      The Bank of Georgia  Peachtree City    GA  35259   \n",
       "26        Capitol City Bank & Trust Company         Atlanta    GA  33938   \n",
       "34                 Eastside Commercial Bank         Conyers    GA  58125   \n",
       "59                             Sunrise Bank        Valdosta    GA  58185   \n",
       "..                                      ...             ...   ...    ...   \n",
       "516                          Community Bank      Loganville    GA  16490   \n",
       "520                      Alpha Bank & Trust      Alpharetta    GA  58241   \n",
       "526                          Integrity Bank      Alpharetta    GA  35469   \n",
       "537                                 NetBank      Alpharetta    GA  32575   \n",
       "548  AmTrade International Bank  En Español         Atlanta    GA  33784   \n",
       "\n",
       "                 Acquiring InstitutionAI         DateClosing   Fund  \n",
       "17                           United Bank     August 19, 2016  10521  \n",
       "22                         Fidelity Bank     October 2, 2015  10516  \n",
       "26   First-Citizens Bank & Trust Company   February 13, 2015  10512  \n",
       "34             Community & Southern Bank       July 18, 2014  10504  \n",
       "59                          Synovus Bank        May 10, 2013  10481  \n",
       "..                                   ...                 ...    ...  \n",
       "516                        Bank of Essex   November 21, 2008  10022  \n",
       "520                   Stearns Bank, N.A.    October 24, 2008  10018  \n",
       "526                         Regions Bank     August 29, 2008  10012  \n",
       "537                           ING DIRECT  September 28, 2007  10001  \n",
       "548                          No Acquirer  September 30, 2002   4657  \n",
       "\n",
       "[93 rows x 7 columns]"
      ]
     },
     "execution_count": 149,
     "metadata": {},
     "output_type": "execute_result"
    }
   ],
   "source": [
    "df1"
   ]
  },
  {
   "cell_type": "code",
   "execution_count": 150,
   "id": "73531403-60c3-4838-97bf-aa0ef9c6ad4d",
   "metadata": {},
   "outputs": [
    {
     "data": {
      "text/plain": [
       "Atlanta          6\n",
       "Alpharetta       4\n",
       "Newnan           2\n",
       "Duluth           2\n",
       "Ellijay          1\n",
       "Jackson          1\n",
       "McDonough        1\n",
       "Commerce         1\n",
       "Stockbridge      1\n",
       "Kennesaw         1\n",
       "Fayetteville     1\n",
       "Villa Rica       1\n",
       "Winder           1\n",
       "Suwanee          1\n",
       "Macon            1\n",
       "Woodstock        1\n",
       "Perry            1\n",
       "Gray             1\n",
       "Lawrenceville    1\n",
       "Sparta           1\n",
       "Norcross         1\n",
       "Reidsville       1\n",
       "Carrollton       1\n",
       "Cornelia         1\n",
       "Loganville       1\n",
       "Name: City, dtype: int64"
      ]
     },
     "execution_count": 150,
     "metadata": {},
     "output_type": "execute_result"
    }
   ],
   "source": [
    "df[(df['State'].str.upper() == 'GA'.upper()) \n",
    "   & (df['Fund']>5000 ) \n",
    "   & (df['Fund']<=10200)]['City'].value_counts()"
   ]
  },
  {
   "cell_type": "code",
   "execution_count": 151,
   "id": "965f605a-4dde-4510-a8ee-77b97fb16779",
   "metadata": {
    "tags": []
   },
   "outputs": [
    {
     "data": {
      "text/plain": [
       "0                 Almena\n",
       "1      Fort Walton Beach\n",
       "2          Barboursville\n",
       "3                Ericson\n",
       "4                 Newark\n",
       "             ...        \n",
       "558             Hinsdale\n",
       "559                Malta\n",
       "560           Manchester\n",
       "561           Metropolis\n",
       "562             Honolulu\n",
       "Name: City, Length: 563, dtype: object"
      ]
     },
     "execution_count": 151,
     "metadata": {},
     "output_type": "execute_result"
    }
   ],
   "source": [
    "df[:]['City']"
   ]
  },
  {
   "cell_type": "code",
   "execution_count": 152,
   "id": "d3611b02-212a-46e1-afd4-68b43a1a1e37",
   "metadata": {},
   "outputs": [
    {
     "data": {
      "text/plain": [
       "Atlanta          6\n",
       "Alpharetta       4\n",
       "Newnan           2\n",
       "Duluth           2\n",
       "Ellijay          1\n",
       "Jackson          1\n",
       "McDonough        1\n",
       "Commerce         1\n",
       "Stockbridge      1\n",
       "Kennesaw         1\n",
       "Fayetteville     1\n",
       "Villa Rica       1\n",
       "Winder           1\n",
       "Suwanee          1\n",
       "Macon            1\n",
       "Woodstock        1\n",
       "Perry            1\n",
       "Gray             1\n",
       "Lawrenceville    1\n",
       "Sparta           1\n",
       "Norcross         1\n",
       "Reidsville       1\n",
       "Carrollton       1\n",
       "Cornelia         1\n",
       "Loganville       1\n",
       "Name: City, dtype: int64"
      ]
     },
     "execution_count": 152,
     "metadata": {},
     "output_type": "execute_result"
    }
   ],
   "source": [
    "df[(df['State'].str.upper() == 'GA')\n",
    "& (df['Fund']>5000) \n",
    "& (df['Fund']<=10200)]['City'].value_counts()"
   ]
  },
  {
   "cell_type": "code",
   "execution_count": 153,
   "id": "1741ef0e-cd40-459f-859f-6dfbe6c64bc4",
   "metadata": {},
   "outputs": [
    {
     "data": {
      "text/plain": [
       "Chicago         20\n",
       "Atlanta         10\n",
       "Phoenix          6\n",
       "Naples           5\n",
       "Scottsdale       4\n",
       "                ..\n",
       "East Ellijay     1\n",
       "Rosemount        1\n",
       "Carthage         1\n",
       "Winter Park      1\n",
       "Honolulu         1\n",
       "Name: City, Length: 433, dtype: int64"
      ]
     },
     "execution_count": 153,
     "metadata": {},
     "output_type": "execute_result"
    }
   ],
   "source": [
    "df['City'].value_counts()"
   ]
  },
  {
   "cell_type": "code",
   "execution_count": 154,
   "id": "68217910-9e67-4ad4-a999-cc23d3d0c1aa",
   "metadata": {},
   "outputs": [
    {
     "data": {
      "text/plain": [
       "Chicago         20\n",
       "Atlanta         10\n",
       "Phoenix          6\n",
       "Naples           5\n",
       "Scottsdale       4\n",
       "                ..\n",
       "East Ellijay     1\n",
       "Rosemount        1\n",
       "Carthage         1\n",
       "Winter Park      1\n",
       "Honolulu         1\n",
       "Name: City, Length: 433, dtype: int64"
      ]
     },
     "execution_count": 154,
     "metadata": {},
     "output_type": "execute_result"
    }
   ],
   "source": [
    "df['City'].value_counts()"
   ]
  },
  {
   "cell_type": "markdown",
   "id": "815040a3-636f-432d-8b92-25a1a72b66ec",
   "metadata": {},
   "source": [
    "### State를 기준으로 Fund데이터 살펴보기  "
   ]
  },
  {
   "cell_type": "code",
   "execution_count": 155,
   "id": "688b490b-1c6b-4609-9013-018182822d0c",
   "metadata": {},
   "outputs": [
    {
     "data": {
      "text/plain": [
       "71730"
      ]
     },
     "execution_count": 155,
     "metadata": {},
     "output_type": "execute_result"
    }
   ],
   "source": [
    "df[df['State'] == 'AL']['Fund'].sum()"
   ]
  },
  {
   "cell_type": "code",
   "execution_count": 156,
   "id": "2f0d2b5a-c47f-40ca-8680-5188532fcd99",
   "metadata": {
    "tags": []
   },
   "outputs": [
    {
     "data": {
      "text/html": [
       "<div>\n",
       "<style scoped>\n",
       "    .dataframe tbody tr th:only-of-type {\n",
       "        vertical-align: middle;\n",
       "    }\n",
       "\n",
       "    .dataframe tbody tr th {\n",
       "        vertical-align: top;\n",
       "    }\n",
       "\n",
       "    .dataframe thead th {\n",
       "        text-align: right;\n",
       "    }\n",
       "</style>\n",
       "<table border=\"1\" class=\"dataframe\">\n",
       "  <thead>\n",
       "    <tr style=\"text-align: right;\">\n",
       "      <th></th>\n",
       "      <th>Fund</th>\n",
       "    </tr>\n",
       "    <tr>\n",
       "      <th>State</th>\n",
       "      <th></th>\n",
       "    </tr>\n",
       "  </thead>\n",
       "  <tbody>\n",
       "    <tr>\n",
       "      <th>AL</th>\n",
       "      <td>71730</td>\n",
       "    </tr>\n",
       "    <tr>\n",
       "      <th>AR</th>\n",
       "      <td>35498</td>\n",
       "    </tr>\n",
       "    <tr>\n",
       "      <th>AZ</th>\n",
       "      <td>158881</td>\n",
       "    </tr>\n",
       "    <tr>\n",
       "      <th>CA</th>\n",
       "      <td>411858</td>\n",
       "    </tr>\n",
       "    <tr>\n",
       "      <th>CO</th>\n",
       "      <td>102931</td>\n",
       "    </tr>\n",
       "    <tr>\n",
       "      <th>CT</th>\n",
       "      <td>15145</td>\n",
       "    </tr>\n",
       "    <tr>\n",
       "      <th>FL</th>\n",
       "      <td>764744</td>\n",
       "    </tr>\n",
       "    <tr>\n",
       "      <th>GA</th>\n",
       "      <td>948949</td>\n",
       "    </tr>\n",
       "    <tr>\n",
       "      <th>HI</th>\n",
       "      <td>4645</td>\n",
       "    </tr>\n",
       "    <tr>\n",
       "      <th>IA</th>\n",
       "      <td>20530</td>\n",
       "    </tr>\n",
       "    <tr>\n",
       "      <th>ID</th>\n",
       "      <td>20549</td>\n",
       "    </tr>\n",
       "    <tr>\n",
       "      <th>IL</th>\n",
       "      <td>694783</td>\n",
       "    </tr>\n",
       "    <tr>\n",
       "      <th>IN</th>\n",
       "      <td>30929</td>\n",
       "    </tr>\n",
       "    <tr>\n",
       "      <th>KS</th>\n",
       "      <td>113059</td>\n",
       "    </tr>\n",
       "    <tr>\n",
       "      <th>KY</th>\n",
       "      <td>31127</td>\n",
       "    </tr>\n",
       "    <tr>\n",
       "      <th>LA</th>\n",
       "      <td>35794</td>\n",
       "    </tr>\n",
       "    <tr>\n",
       "      <th>MA</th>\n",
       "      <td>10211</td>\n",
       "    </tr>\n",
       "    <tr>\n",
       "      <th>MD</th>\n",
       "      <td>103027</td>\n",
       "    </tr>\n",
       "    <tr>\n",
       "      <th>MI</th>\n",
       "      <td>137544</td>\n",
       "    </tr>\n",
       "    <tr>\n",
       "      <th>MN</th>\n",
       "      <td>235976</td>\n",
       "    </tr>\n",
       "    <tr>\n",
       "      <th>MO</th>\n",
       "      <td>164012</td>\n",
       "    </tr>\n",
       "    <tr>\n",
       "      <th>MS</th>\n",
       "      <td>20601</td>\n",
       "    </tr>\n",
       "    <tr>\n",
       "      <th>NC</th>\n",
       "      <td>72246</td>\n",
       "    </tr>\n",
       "    <tr>\n",
       "      <th>NE</th>\n",
       "      <td>41232</td>\n",
       "    </tr>\n",
       "    <tr>\n",
       "      <th>NH</th>\n",
       "      <td>4647</td>\n",
       "    </tr>\n",
       "    <tr>\n",
       "      <th>NJ</th>\n",
       "      <td>78344</td>\n",
       "    </tr>\n",
       "    <tr>\n",
       "      <th>NM</th>\n",
       "      <td>30760</td>\n",
       "    </tr>\n",
       "    <tr>\n",
       "      <th>NV</th>\n",
       "      <td>122013</td>\n",
       "    </tr>\n",
       "    <tr>\n",
       "      <th>NY</th>\n",
       "      <td>45398</td>\n",
       "    </tr>\n",
       "    <tr>\n",
       "      <th>OH</th>\n",
       "      <td>81074</td>\n",
       "    </tr>\n",
       "    <tr>\n",
       "      <th>OK</th>\n",
       "      <td>72472</td>\n",
       "    </tr>\n",
       "    <tr>\n",
       "      <th>OR</th>\n",
       "      <td>60888</td>\n",
       "    </tr>\n",
       "    <tr>\n",
       "      <th>PA</th>\n",
       "      <td>97682</td>\n",
       "    </tr>\n",
       "    <tr>\n",
       "      <th>PR</th>\n",
       "      <td>41203</td>\n",
       "    </tr>\n",
       "    <tr>\n",
       "      <th>SC</th>\n",
       "      <td>103460</td>\n",
       "    </tr>\n",
       "    <tr>\n",
       "      <th>SD</th>\n",
       "      <td>10081</td>\n",
       "    </tr>\n",
       "    <tr>\n",
       "      <th>TN</th>\n",
       "      <td>67436</td>\n",
       "    </tr>\n",
       "    <tr>\n",
       "      <th>TX</th>\n",
       "      <td>127397</td>\n",
       "    </tr>\n",
       "    <tr>\n",
       "      <th>UT</th>\n",
       "      <td>76253</td>\n",
       "    </tr>\n",
       "    <tr>\n",
       "      <th>VA</th>\n",
       "      <td>51712</td>\n",
       "    </tr>\n",
       "    <tr>\n",
       "      <th>WA</th>\n",
       "      <td>194884</td>\n",
       "    </tr>\n",
       "    <tr>\n",
       "      <th>WI</th>\n",
       "      <td>108426</td>\n",
       "    </tr>\n",
       "    <tr>\n",
       "      <th>WV</th>\n",
       "      <td>20550</td>\n",
       "    </tr>\n",
       "    <tr>\n",
       "      <th>WY</th>\n",
       "      <td>10080</td>\n",
       "    </tr>\n",
       "  </tbody>\n",
       "</table>\n",
       "</div>"
      ],
      "text/plain": [
       "         Fund\n",
       "State        \n",
       "AL      71730\n",
       "AR      35498\n",
       "AZ     158881\n",
       "CA     411858\n",
       "CO     102931\n",
       "CT      15145\n",
       "FL     764744\n",
       "GA     948949\n",
       "HI       4645\n",
       "IA      20530\n",
       "ID      20549\n",
       "IL     694783\n",
       "IN      30929\n",
       "KS     113059\n",
       "KY      31127\n",
       "LA      35794\n",
       "MA      10211\n",
       "MD     103027\n",
       "MI     137544\n",
       "MN     235976\n",
       "MO     164012\n",
       "MS      20601\n",
       "NC      72246\n",
       "NE      41232\n",
       "NH       4647\n",
       "NJ      78344\n",
       "NM      30760\n",
       "NV     122013\n",
       "NY      45398\n",
       "OH      81074\n",
       "OK      72472\n",
       "OR      60888\n",
       "PA      97682\n",
       "PR      41203\n",
       "SC     103460\n",
       "SD      10081\n",
       "TN      67436\n",
       "TX     127397\n",
       "UT      76253\n",
       "VA      51712\n",
       "WA     194884\n",
       "WI     108426\n",
       "WV      20550\n",
       "WY      10080"
      ]
     },
     "execution_count": 156,
     "metadata": {},
     "output_type": "execute_result"
    }
   ],
   "source": [
    "df.groupby(['State']).sum()"
   ]
  },
  {
   "cell_type": "code",
   "execution_count": 157,
   "id": "2a054846-9a76-428b-82e4-b77114889900",
   "metadata": {},
   "outputs": [],
   "source": [
    "StateFund=df.groupby(['State']).sum()['Fund']"
   ]
  },
  {
   "cell_type": "code",
   "execution_count": 158,
   "id": "ad93205f-a5cc-47dc-b7cd-3f14b8ba9674",
   "metadata": {
    "tags": []
   },
   "outputs": [
    {
     "data": {
      "application/vnd.plotly.v1+json": {
       "config": {
        "plotlyServerURL": "https://plot.ly"
       },
       "data": [
        {
         "alignmentgroup": "True",
         "hovertemplate": "State=%{x}<br>Fund=%{y}<extra></extra>",
         "legendgroup": "",
         "marker": {
          "color": "#636efa",
          "pattern": {
           "shape": ""
          }
         },
         "name": "",
         "offsetgroup": "",
         "orientation": "v",
         "showlegend": false,
         "textposition": "auto",
         "type": "bar",
         "x": [
          "AL",
          "AR",
          "AZ",
          "CA",
          "CO",
          "CT",
          "FL",
          "GA",
          "HI",
          "IA",
          "ID",
          "IL",
          "IN",
          "KS",
          "KY",
          "LA",
          "MA",
          "MD",
          "MI",
          "MN",
          "MO",
          "MS",
          "NC",
          "NE",
          "NH",
          "NJ",
          "NM",
          "NV",
          "NY",
          "OH",
          "OK",
          "OR",
          "PA",
          "PR",
          "SC",
          "SD",
          "TN",
          "TX",
          "UT",
          "VA",
          "WA",
          "WI",
          "WV",
          "WY"
         ],
         "xaxis": "x",
         "y": [
          71730,
          35498,
          158881,
          411858,
          102931,
          15145,
          764744,
          948949,
          4645,
          20530,
          20549,
          694783,
          30929,
          113059,
          31127,
          35794,
          10211,
          103027,
          137544,
          235976,
          164012,
          20601,
          72246,
          41232,
          4647,
          78344,
          30760,
          122013,
          45398,
          81074,
          72472,
          60888,
          97682,
          41203,
          103460,
          10081,
          67436,
          127397,
          76253,
          51712,
          194884,
          108426,
          20550,
          10080
         ],
         "yaxis": "y"
        }
       ],
       "layout": {
        "autosize": true,
        "barmode": "relative",
        "legend": {
         "tracegroupgap": 0
        },
        "margin": {
         "t": 60
        },
        "template": {
         "data": {
          "bar": [
           {
            "error_x": {
             "color": "#2a3f5f"
            },
            "error_y": {
             "color": "#2a3f5f"
            },
            "marker": {
             "line": {
              "color": "#E5ECF6",
              "width": 0.5
             },
             "pattern": {
              "fillmode": "overlay",
              "size": 10,
              "solidity": 0.2
             }
            },
            "type": "bar"
           }
          ],
          "barpolar": [
           {
            "marker": {
             "line": {
              "color": "#E5ECF6",
              "width": 0.5
             },
             "pattern": {
              "fillmode": "overlay",
              "size": 10,
              "solidity": 0.2
             }
            },
            "type": "barpolar"
           }
          ],
          "carpet": [
           {
            "aaxis": {
             "endlinecolor": "#2a3f5f",
             "gridcolor": "white",
             "linecolor": "white",
             "minorgridcolor": "white",
             "startlinecolor": "#2a3f5f"
            },
            "baxis": {
             "endlinecolor": "#2a3f5f",
             "gridcolor": "white",
             "linecolor": "white",
             "minorgridcolor": "white",
             "startlinecolor": "#2a3f5f"
            },
            "type": "carpet"
           }
          ],
          "choropleth": [
           {
            "colorbar": {
             "outlinewidth": 0,
             "ticks": ""
            },
            "type": "choropleth"
           }
          ],
          "contour": [
           {
            "colorbar": {
             "outlinewidth": 0,
             "ticks": ""
            },
            "colorscale": [
             [
              0,
              "#0d0887"
             ],
             [
              0.1111111111111111,
              "#46039f"
             ],
             [
              0.2222222222222222,
              "#7201a8"
             ],
             [
              0.3333333333333333,
              "#9c179e"
             ],
             [
              0.4444444444444444,
              "#bd3786"
             ],
             [
              0.5555555555555556,
              "#d8576b"
             ],
             [
              0.6666666666666666,
              "#ed7953"
             ],
             [
              0.7777777777777778,
              "#fb9f3a"
             ],
             [
              0.8888888888888888,
              "#fdca26"
             ],
             [
              1,
              "#f0f921"
             ]
            ],
            "type": "contour"
           }
          ],
          "contourcarpet": [
           {
            "colorbar": {
             "outlinewidth": 0,
             "ticks": ""
            },
            "type": "contourcarpet"
           }
          ],
          "heatmap": [
           {
            "colorbar": {
             "outlinewidth": 0,
             "ticks": ""
            },
            "colorscale": [
             [
              0,
              "#0d0887"
             ],
             [
              0.1111111111111111,
              "#46039f"
             ],
             [
              0.2222222222222222,
              "#7201a8"
             ],
             [
              0.3333333333333333,
              "#9c179e"
             ],
             [
              0.4444444444444444,
              "#bd3786"
             ],
             [
              0.5555555555555556,
              "#d8576b"
             ],
             [
              0.6666666666666666,
              "#ed7953"
             ],
             [
              0.7777777777777778,
              "#fb9f3a"
             ],
             [
              0.8888888888888888,
              "#fdca26"
             ],
             [
              1,
              "#f0f921"
             ]
            ],
            "type": "heatmap"
           }
          ],
          "heatmapgl": [
           {
            "colorbar": {
             "outlinewidth": 0,
             "ticks": ""
            },
            "colorscale": [
             [
              0,
              "#0d0887"
             ],
             [
              0.1111111111111111,
              "#46039f"
             ],
             [
              0.2222222222222222,
              "#7201a8"
             ],
             [
              0.3333333333333333,
              "#9c179e"
             ],
             [
              0.4444444444444444,
              "#bd3786"
             ],
             [
              0.5555555555555556,
              "#d8576b"
             ],
             [
              0.6666666666666666,
              "#ed7953"
             ],
             [
              0.7777777777777778,
              "#fb9f3a"
             ],
             [
              0.8888888888888888,
              "#fdca26"
             ],
             [
              1,
              "#f0f921"
             ]
            ],
            "type": "heatmapgl"
           }
          ],
          "histogram": [
           {
            "marker": {
             "pattern": {
              "fillmode": "overlay",
              "size": 10,
              "solidity": 0.2
             }
            },
            "type": "histogram"
           }
          ],
          "histogram2d": [
           {
            "colorbar": {
             "outlinewidth": 0,
             "ticks": ""
            },
            "colorscale": [
             [
              0,
              "#0d0887"
             ],
             [
              0.1111111111111111,
              "#46039f"
             ],
             [
              0.2222222222222222,
              "#7201a8"
             ],
             [
              0.3333333333333333,
              "#9c179e"
             ],
             [
              0.4444444444444444,
              "#bd3786"
             ],
             [
              0.5555555555555556,
              "#d8576b"
             ],
             [
              0.6666666666666666,
              "#ed7953"
             ],
             [
              0.7777777777777778,
              "#fb9f3a"
             ],
             [
              0.8888888888888888,
              "#fdca26"
             ],
             [
              1,
              "#f0f921"
             ]
            ],
            "type": "histogram2d"
           }
          ],
          "histogram2dcontour": [
           {
            "colorbar": {
             "outlinewidth": 0,
             "ticks": ""
            },
            "colorscale": [
             [
              0,
              "#0d0887"
             ],
             [
              0.1111111111111111,
              "#46039f"
             ],
             [
              0.2222222222222222,
              "#7201a8"
             ],
             [
              0.3333333333333333,
              "#9c179e"
             ],
             [
              0.4444444444444444,
              "#bd3786"
             ],
             [
              0.5555555555555556,
              "#d8576b"
             ],
             [
              0.6666666666666666,
              "#ed7953"
             ],
             [
              0.7777777777777778,
              "#fb9f3a"
             ],
             [
              0.8888888888888888,
              "#fdca26"
             ],
             [
              1,
              "#f0f921"
             ]
            ],
            "type": "histogram2dcontour"
           }
          ],
          "mesh3d": [
           {
            "colorbar": {
             "outlinewidth": 0,
             "ticks": ""
            },
            "type": "mesh3d"
           }
          ],
          "parcoords": [
           {
            "line": {
             "colorbar": {
              "outlinewidth": 0,
              "ticks": ""
             }
            },
            "type": "parcoords"
           }
          ],
          "pie": [
           {
            "automargin": true,
            "type": "pie"
           }
          ],
          "scatter": [
           {
            "marker": {
             "colorbar": {
              "outlinewidth": 0,
              "ticks": ""
             }
            },
            "type": "scatter"
           }
          ],
          "scatter3d": [
           {
            "line": {
             "colorbar": {
              "outlinewidth": 0,
              "ticks": ""
             }
            },
            "marker": {
             "colorbar": {
              "outlinewidth": 0,
              "ticks": ""
             }
            },
            "type": "scatter3d"
           }
          ],
          "scattercarpet": [
           {
            "marker": {
             "colorbar": {
              "outlinewidth": 0,
              "ticks": ""
             }
            },
            "type": "scattercarpet"
           }
          ],
          "scattergeo": [
           {
            "marker": {
             "colorbar": {
              "outlinewidth": 0,
              "ticks": ""
             }
            },
            "type": "scattergeo"
           }
          ],
          "scattergl": [
           {
            "marker": {
             "colorbar": {
              "outlinewidth": 0,
              "ticks": ""
             }
            },
            "type": "scattergl"
           }
          ],
          "scattermapbox": [
           {
            "marker": {
             "colorbar": {
              "outlinewidth": 0,
              "ticks": ""
             }
            },
            "type": "scattermapbox"
           }
          ],
          "scatterpolar": [
           {
            "marker": {
             "colorbar": {
              "outlinewidth": 0,
              "ticks": ""
             }
            },
            "type": "scatterpolar"
           }
          ],
          "scatterpolargl": [
           {
            "marker": {
             "colorbar": {
              "outlinewidth": 0,
              "ticks": ""
             }
            },
            "type": "scatterpolargl"
           }
          ],
          "scatterternary": [
           {
            "marker": {
             "colorbar": {
              "outlinewidth": 0,
              "ticks": ""
             }
            },
            "type": "scatterternary"
           }
          ],
          "surface": [
           {
            "colorbar": {
             "outlinewidth": 0,
             "ticks": ""
            },
            "colorscale": [
             [
              0,
              "#0d0887"
             ],
             [
              0.1111111111111111,
              "#46039f"
             ],
             [
              0.2222222222222222,
              "#7201a8"
             ],
             [
              0.3333333333333333,
              "#9c179e"
             ],
             [
              0.4444444444444444,
              "#bd3786"
             ],
             [
              0.5555555555555556,
              "#d8576b"
             ],
             [
              0.6666666666666666,
              "#ed7953"
             ],
             [
              0.7777777777777778,
              "#fb9f3a"
             ],
             [
              0.8888888888888888,
              "#fdca26"
             ],
             [
              1,
              "#f0f921"
             ]
            ],
            "type": "surface"
           }
          ],
          "table": [
           {
            "cells": {
             "fill": {
              "color": "#EBF0F8"
             },
             "line": {
              "color": "white"
             }
            },
            "header": {
             "fill": {
              "color": "#C8D4E3"
             },
             "line": {
              "color": "white"
             }
            },
            "type": "table"
           }
          ]
         },
         "layout": {
          "annotationdefaults": {
           "arrowcolor": "#2a3f5f",
           "arrowhead": 0,
           "arrowwidth": 1
          },
          "autotypenumbers": "strict",
          "coloraxis": {
           "colorbar": {
            "outlinewidth": 0,
            "ticks": ""
           }
          },
          "colorscale": {
           "diverging": [
            [
             0,
             "#8e0152"
            ],
            [
             0.1,
             "#c51b7d"
            ],
            [
             0.2,
             "#de77ae"
            ],
            [
             0.3,
             "#f1b6da"
            ],
            [
             0.4,
             "#fde0ef"
            ],
            [
             0.5,
             "#f7f7f7"
            ],
            [
             0.6,
             "#e6f5d0"
            ],
            [
             0.7,
             "#b8e186"
            ],
            [
             0.8,
             "#7fbc41"
            ],
            [
             0.9,
             "#4d9221"
            ],
            [
             1,
             "#276419"
            ]
           ],
           "sequential": [
            [
             0,
             "#0d0887"
            ],
            [
             0.1111111111111111,
             "#46039f"
            ],
            [
             0.2222222222222222,
             "#7201a8"
            ],
            [
             0.3333333333333333,
             "#9c179e"
            ],
            [
             0.4444444444444444,
             "#bd3786"
            ],
            [
             0.5555555555555556,
             "#d8576b"
            ],
            [
             0.6666666666666666,
             "#ed7953"
            ],
            [
             0.7777777777777778,
             "#fb9f3a"
            ],
            [
             0.8888888888888888,
             "#fdca26"
            ],
            [
             1,
             "#f0f921"
            ]
           ],
           "sequentialminus": [
            [
             0,
             "#0d0887"
            ],
            [
             0.1111111111111111,
             "#46039f"
            ],
            [
             0.2222222222222222,
             "#7201a8"
            ],
            [
             0.3333333333333333,
             "#9c179e"
            ],
            [
             0.4444444444444444,
             "#bd3786"
            ],
            [
             0.5555555555555556,
             "#d8576b"
            ],
            [
             0.6666666666666666,
             "#ed7953"
            ],
            [
             0.7777777777777778,
             "#fb9f3a"
            ],
            [
             0.8888888888888888,
             "#fdca26"
            ],
            [
             1,
             "#f0f921"
            ]
           ]
          },
          "colorway": [
           "#636efa",
           "#EF553B",
           "#00cc96",
           "#ab63fa",
           "#FFA15A",
           "#19d3f3",
           "#FF6692",
           "#B6E880",
           "#FF97FF",
           "#FECB52"
          ],
          "font": {
           "color": "#2a3f5f"
          },
          "geo": {
           "bgcolor": "white",
           "lakecolor": "white",
           "landcolor": "#E5ECF6",
           "showlakes": true,
           "showland": true,
           "subunitcolor": "white"
          },
          "hoverlabel": {
           "align": "left"
          },
          "hovermode": "closest",
          "mapbox": {
           "style": "light"
          },
          "paper_bgcolor": "white",
          "plot_bgcolor": "#E5ECF6",
          "polar": {
           "angularaxis": {
            "gridcolor": "white",
            "linecolor": "white",
            "ticks": ""
           },
           "bgcolor": "#E5ECF6",
           "radialaxis": {
            "gridcolor": "white",
            "linecolor": "white",
            "ticks": ""
           }
          },
          "scene": {
           "xaxis": {
            "backgroundcolor": "#E5ECF6",
            "gridcolor": "white",
            "gridwidth": 2,
            "linecolor": "white",
            "showbackground": true,
            "ticks": "",
            "zerolinecolor": "white"
           },
           "yaxis": {
            "backgroundcolor": "#E5ECF6",
            "gridcolor": "white",
            "gridwidth": 2,
            "linecolor": "white",
            "showbackground": true,
            "ticks": "",
            "zerolinecolor": "white"
           },
           "zaxis": {
            "backgroundcolor": "#E5ECF6",
            "gridcolor": "white",
            "gridwidth": 2,
            "linecolor": "white",
            "showbackground": true,
            "ticks": "",
            "zerolinecolor": "white"
           }
          },
          "shapedefaults": {
           "line": {
            "color": "#2a3f5f"
           }
          },
          "ternary": {
           "aaxis": {
            "gridcolor": "white",
            "linecolor": "white",
            "ticks": ""
           },
           "baxis": {
            "gridcolor": "white",
            "linecolor": "white",
            "ticks": ""
           },
           "bgcolor": "#E5ECF6",
           "caxis": {
            "gridcolor": "white",
            "linecolor": "white",
            "ticks": ""
           }
          },
          "title": {
           "x": 0.05
          },
          "xaxis": {
           "automargin": true,
           "gridcolor": "white",
           "linecolor": "white",
           "ticks": "",
           "title": {
            "standoff": 15
           },
           "zerolinecolor": "white",
           "zerolinewidth": 2
          },
          "yaxis": {
           "automargin": true,
           "gridcolor": "white",
           "linecolor": "white",
           "ticks": "",
           "title": {
            "standoff": 15
           },
           "zerolinecolor": "white",
           "zerolinewidth": 2
          }
         }
        },
        "xaxis": {
         "anchor": "y",
         "autorange": true,
         "domain": [
          0,
          1
         ],
         "range": [
          -0.5,
          43.5
         ],
         "title": {
          "text": "State"
         },
         "type": "category"
        },
        "yaxis": {
         "anchor": "x",
         "autorange": true,
         "domain": [
          0,
          1
         ],
         "range": [
          0,
          998893.6842105263
         ],
         "title": {
          "text": "Fund"
         },
         "type": "linear"
        }
       }
      },
      "image/png": "[encoded data removed]",
      "text/html": [
       "<div>                            <div id=\"6e22fdd2-b96d-4adb-b5a2-182428f78523\" class=\"plotly-graph-div\" style=\"height:525px; width:100%;\"></div>            <script type=\"text/javascript\">                require([\"plotly\"], function(Plotly) {                    window.PLOTLYENV=window.PLOTLYENV || {};                                    if (document.getElementById(\"6e22fdd2-b96d-4adb-b5a2-182428f78523\")) {                    Plotly.newPlot(                        \"6e22fdd2-b96d-4adb-b5a2-182428f78523\",                        [{\"alignmentgroup\":\"True\",\"hovertemplate\":\"State=%{x}<br>Fund=%{y}<extra></extra>\",\"legendgroup\":\"\",\"marker\":{\"color\":\"#636efa\",\"pattern\":{\"shape\":\"\"}},\"name\":\"\",\"offsetgroup\":\"\",\"orientation\":\"v\",\"showlegend\":false,\"textposition\":\"auto\",\"x\":[\"AL\",\"AR\",\"AZ\",\"CA\",\"CO\",\"CT\",\"FL\",\"GA\",\"HI\",\"IA\",\"ID\",\"IL\",\"IN\",\"KS\",\"KY\",\"LA\",\"MA\",\"MD\",\"MI\",\"MN\",\"MO\",\"MS\",\"NC\",\"NE\",\"NH\",\"NJ\",\"NM\",\"NV\",\"NY\",\"OH\",\"OK\",\"OR\",\"PA\",\"PR\",\"SC\",\"SD\",\"TN\",\"TX\",\"UT\",\"VA\",\"WA\",\"WI\",\"WV\",\"WY\"],\"xaxis\":\"x\",\"y\":[71730,35498,158881,411858,102931,15145,764744,948949,4645,20530,20549,694783,30929,113059,31127,35794,10211,103027,137544,235976,164012,20601,72246,41232,4647,78344,30760,122013,45398,81074,72472,60888,97682,41203,103460,10081,67436,127397,76253,51712,194884,108426,20550,10080],\"yaxis\":\"y\",\"type\":\"bar\"}],                        {\"template\":{\"data\":{\"bar\":[{\"error_x\":{\"color\":\"#2a3f5f\"},\"error_y\":{\"color\":\"#2a3f5f\"},\"marker\":{\"line\":{\"color\":\"#E5ECF6\",\"width\":0.5},\"pattern\":{\"fillmode\":\"overlay\",\"size\":10,\"solidity\":0.2}},\"type\":\"bar\"}],\"barpolar\":[{\"marker\":{\"line\":{\"color\":\"#E5ECF6\",\"width\":0.5},\"pattern\":{\"fillmode\":\"overlay\",\"size\":10,\"solidity\":0.2}},\"type\":\"barpolar\"}],\"carpet\":[{\"aaxis\":{\"endlinecolor\":\"#2a3f5f\",\"gridcolor\":\"white\",\"linecolor\":\"white\",\"minorgridcolor\":\"white\",\"startlinecolor\":\"#2a3f5f\"},\"baxis\":{\"endlinecolor\":\"#2a3f5f\",\"gridcolor\":\"white\",\"linecolor\":\"white\",\"minorgridcolor\":\"white\",\"startlinecolor\":\"#2a3f5f\"},\"type\":\"carpet\"}],\"choropleth\":[{\"colorbar\":{\"outlinewidth\":0,\"ticks\":\"\"},\"type\":\"choropleth\"}],\"contour\":[{\"colorbar\":{\"outlinewidth\":0,\"ticks\":\"\"},\"colorscale\":[[0.0,\"#0d0887\"],[0.1111111111111111,\"#46039f\"],[0.2222222222222222,\"#7201a8\"],[0.3333333333333333,\"#9c179e\"],[0.4444444444444444,\"#bd3786\"],[0.5555555555555556,\"#d8576b\"],[0.6666666666666666,\"#ed7953\"],[0.7777777777777778,\"#fb9f3a\"],[0.8888888888888888,\"#fdca26\"],[1.0,\"#f0f921\"]],\"type\":\"contour\"}],\"contourcarpet\":[{\"colorbar\":{\"outlinewidth\":0,\"ticks\":\"\"},\"type\":\"contourcarpet\"}],\"heatmap\":[{\"colorbar\":{\"outlinewidth\":0,\"ticks\":\"\"},\"colorscale\":[[0.0,\"#0d0887\"],[0.1111111111111111,\"#46039f\"],[0.2222222222222222,\"#7201a8\"],[0.3333333333333333,\"#9c179e\"],[0.4444444444444444,\"#bd3786\"],[0.5555555555555556,\"#d8576b\"],[0.6666666666666666,\"#ed7953\"],[0.7777777777777778,\"#fb9f3a\"],[0.8888888888888888,\"#fdca26\"],[1.0,\"#f0f921\"]],\"type\":\"heatmap\"}],\"heatmapgl\":[{\"colorbar\":{\"outlinewidth\":0,\"ticks\":\"\"},\"colorscale\":[[0.0,\"#0d0887\"],[0.1111111111111111,\"#46039f\"],[0.2222222222222222,\"#7201a8\"],[0.3333333333333333,\"#9c179e\"],[0.4444444444444444,\"#bd3786\"],[0.5555555555555556,\"#d8576b\"],[0.6666666666666666,\"#ed7953\"],[0.7777777777777778,\"#fb9f3a\"],[0.8888888888888888,\"#fdca26\"],[1.0,\"#f0f921\"]],\"type\":\"heatmapgl\"}],\"histogram\":[{\"marker\":{\"pattern\":{\"fillmode\":\"overlay\",\"size\":10,\"solidity\":0.2}},\"type\":\"histogram\"}],\"histogram2d\":[{\"colorbar\":{\"outlinewidth\":0,\"ticks\":\"\"},\"colorscale\":[[0.0,\"#0d0887\"],[0.1111111111111111,\"#46039f\"],[0.2222222222222222,\"#7201a8\"],[0.3333333333333333,\"#9c179e\"],[0.4444444444444444,\"#bd3786\"],[0.5555555555555556,\"#d8576b\"],[0.6666666666666666,\"#ed7953\"],[0.7777777777777778,\"#fb9f3a\"],[0.8888888888888888,\"#fdca26\"],[1.0,\"#f0f921\"]],\"type\":\"histogram2d\"}],\"histogram2dcontour\":[{\"colorbar\":{\"outlinewidth\":0,\"ticks\":\"\"},\"colorscale\":[[0.0,\"#0d0887\"],[0.1111111111111111,\"#46039f\"],[0.2222222222222222,\"#7201a8\"],[0.3333333333333333,\"#9c179e\"],[0.4444444444444444,\"#bd3786\"],[0.5555555555555556,\"#d8576b\"],[0.6666666666666666,\"#ed7953\"],[0.7777777777777778,\"#fb9f3a\"],[0.8888888888888888,\"#fdca26\"],[1.0,\"#f0f921\"]],\"type\":\"histogram2dcontour\"}],\"mesh3d\":[{\"colorbar\":{\"outlinewidth\":0,\"ticks\":\"\"},\"type\":\"mesh3d\"}],\"parcoords\":[{\"line\":{\"colorbar\":{\"outlinewidth\":0,\"ticks\":\"\"}},\"type\":\"parcoords\"}],\"pie\":[{\"automargin\":true,\"type\":\"pie\"}],\"scatter\":[{\"marker\":{\"colorbar\":{\"outlinewidth\":0,\"ticks\":\"\"}},\"type\":\"scatter\"}],\"scatter3d\":[{\"line\":{\"colorbar\":{\"outlinewidth\":0,\"ticks\":\"\"}},\"marker\":{\"colorbar\":{\"outlinewidth\":0,\"ticks\":\"\"}},\"type\":\"scatter3d\"}],\"scattercarpet\":[{\"marker\":{\"colorbar\":{\"outlinewidth\":0,\"ticks\":\"\"}},\"type\":\"scattercarpet\"}],\"scattergeo\":[{\"marker\":{\"colorbar\":{\"outlinewidth\":0,\"ticks\":\"\"}},\"type\":\"scattergeo\"}],\"scattergl\":[{\"marker\":{\"colorbar\":{\"outlinewidth\":0,\"ticks\":\"\"}},\"type\":\"scattergl\"}],\"scattermapbox\":[{\"marker\":{\"colorbar\":{\"outlinewidth\":0,\"ticks\":\"\"}},\"type\":\"scattermapbox\"}],\"scatterpolar\":[{\"marker\":{\"colorbar\":{\"outlinewidth\":0,\"ticks\":\"\"}},\"type\":\"scatterpolar\"}],\"scatterpolargl\":[{\"marker\":{\"colorbar\":{\"outlinewidth\":0,\"ticks\":\"\"}},\"type\":\"scatterpolargl\"}],\"scatterternary\":[{\"marker\":{\"colorbar\":{\"outlinewidth\":0,\"ticks\":\"\"}},\"type\":\"scatterternary\"}],\"surface\":[{\"colorbar\":{\"outlinewidth\":0,\"ticks\":\"\"},\"colorscale\":[[0.0,\"#0d0887\"],[0.1111111111111111,\"#46039f\"],[0.2222222222222222,\"#7201a8\"],[0.3333333333333333,\"#9c179e\"],[0.4444444444444444,\"#bd3786\"],[0.5555555555555556,\"#d8576b\"],[0.6666666666666666,\"#ed7953\"],[0.7777777777777778,\"#fb9f3a\"],[0.8888888888888888,\"#fdca26\"],[1.0,\"#f0f921\"]],\"type\":\"surface\"}],\"table\":[{\"cells\":{\"fill\":{\"color\":\"#EBF0F8\"},\"line\":{\"color\":\"white\"}},\"header\":{\"fill\":{\"color\":\"#C8D4E3\"},\"line\":{\"color\":\"white\"}},\"type\":\"table\"}]},\"layout\":{\"annotationdefaults\":{\"arrowcolor\":\"#2a3f5f\",\"arrowhead\":0,\"arrowwidth\":1},\"autotypenumbers\":\"strict\",\"coloraxis\":{\"colorbar\":{\"outlinewidth\":0,\"ticks\":\"\"}},\"colorscale\":{\"diverging\":[[0,\"#8e0152\"],[0.1,\"#c51b7d\"],[0.2,\"#de77ae\"],[0.3,\"#f1b6da\"],[0.4,\"#fde0ef\"],[0.5,\"#f7f7f7\"],[0.6,\"#e6f5d0\"],[0.7,\"#b8e186\"],[0.8,\"#7fbc41\"],[0.9,\"#4d9221\"],[1,\"#276419\"]],\"sequential\":[[0.0,\"#0d0887\"],[0.1111111111111111,\"#46039f\"],[0.2222222222222222,\"#7201a8\"],[0.3333333333333333,\"#9c179e\"],[0.4444444444444444,\"#bd3786\"],[0.5555555555555556,\"#d8576b\"],[0.6666666666666666,\"#ed7953\"],[0.7777777777777778,\"#fb9f3a\"],[0.8888888888888888,\"#fdca26\"],[1.0,\"#f0f921\"]],\"sequentialminus\":[[0.0,\"#0d0887\"],[0.1111111111111111,\"#46039f\"],[0.2222222222222222,\"#7201a8\"],[0.3333333333333333,\"#9c179e\"],[0.4444444444444444,\"#bd3786\"],[0.5555555555555556,\"#d8576b\"],[0.6666666666666666,\"#ed7953\"],[0.7777777777777778,\"#fb9f3a\"],[0.8888888888888888,\"#fdca26\"],[1.0,\"#f0f921\"]]},\"colorway\":[\"#636efa\",\"#EF553B\",\"#00cc96\",\"#ab63fa\",\"#FFA15A\",\"#19d3f3\",\"#FF6692\",\"#B6E880\",\"#FF97FF\",\"#FECB52\"],\"font\":{\"color\":\"#2a3f5f\"},\"geo\":{\"bgcolor\":\"white\",\"lakecolor\":\"white\",\"landcolor\":\"#E5ECF6\",\"showlakes\":true,\"showland\":true,\"subunitcolor\":\"white\"},\"hoverlabel\":{\"align\":\"left\"},\"hovermode\":\"closest\",\"mapbox\":{\"style\":\"light\"},\"paper_bgcolor\":\"white\",\"plot_bgcolor\":\"#E5ECF6\",\"polar\":{\"angularaxis\":{\"gridcolor\":\"white\",\"linecolor\":\"white\",\"ticks\":\"\"},\"bgcolor\":\"#E5ECF6\",\"radialaxis\":{\"gridcolor\":\"white\",\"linecolor\":\"white\",\"ticks\":\"\"}},\"scene\":{\"xaxis\":{\"backgroundcolor\":\"#E5ECF6\",\"gridcolor\":\"white\",\"gridwidth\":2,\"linecolor\":\"white\",\"showbackground\":true,\"ticks\":\"\",\"zerolinecolor\":\"white\"},\"yaxis\":{\"backgroundcolor\":\"#E5ECF6\",\"gridcolor\":\"white\",\"gridwidth\":2,\"linecolor\":\"white\",\"showbackground\":true,\"ticks\":\"\",\"zerolinecolor\":\"white\"},\"zaxis\":{\"backgroundcolor\":\"#E5ECF6\",\"gridcolor\":\"white\",\"gridwidth\":2,\"linecolor\":\"white\",\"showbackground\":true,\"ticks\":\"\",\"zerolinecolor\":\"white\"}},\"shapedefaults\":{\"line\":{\"color\":\"#2a3f5f\"}},\"ternary\":{\"aaxis\":{\"gridcolor\":\"white\",\"linecolor\":\"white\",\"ticks\":\"\"},\"baxis\":{\"gridcolor\":\"white\",\"linecolor\":\"white\",\"ticks\":\"\"},\"bgcolor\":\"#E5ECF6\",\"caxis\":{\"gridcolor\":\"white\",\"linecolor\":\"white\",\"ticks\":\"\"}},\"title\":{\"x\":0.05},\"xaxis\":{\"automargin\":true,\"gridcolor\":\"white\",\"linecolor\":\"white\",\"ticks\":\"\",\"title\":{\"standoff\":15},\"zerolinecolor\":\"white\",\"zerolinewidth\":2},\"yaxis\":{\"automargin\":true,\"gridcolor\":\"white\",\"linecolor\":\"white\",\"ticks\":\"\",\"title\":{\"standoff\":15},\"zerolinecolor\":\"white\",\"zerolinewidth\":2}}},\"xaxis\":{\"anchor\":\"y\",\"domain\":[0.0,1.0],\"title\":{\"text\":\"State\"}},\"yaxis\":{\"anchor\":\"x\",\"domain\":[0.0,1.0],\"title\":{\"text\":\"Fund\"}},\"legend\":{\"tracegroupgap\":0},\"margin\":{\"t\":60},\"barmode\":\"relative\"},                        {\"responsive\": true}                    ).then(function(){\n",
       "                            \n",
       "var gd = document.getElementById('6e22fdd2-b96d-4adb-b5a2-182428f78523');\n",
       "var x = new MutationObserver(function (mutations, observer) {{\n",
       "        var display = window.getComputedStyle(gd).display;\n",
       "        if (!display || display === 'none') {{\n",
       "            console.log([gd, 'removed!']);\n",
       "            Plotly.purge(gd);\n",
       "            observer.disconnect();\n",
       "        }}\n",
       "}});\n",
       "\n",
       "// Listen for the removal of the full notebook cells\n",
       "var notebookContainer = gd.closest('#notebook-container');\n",
       "if (notebookContainer) {{\n",
       "    x.observe(notebookContainer, {childList: true});\n",
       "}}\n",
       "\n",
       "// Listen for the clearing of the current output cell\n",
       "var outputEl = gd.closest('.output');\n",
       "if (outputEl) {{\n",
       "    x.observe(outputEl, {childList: true});\n",
       "}}\n",
       "\n",
       "                        })                };                });            </script>        </div>"
      ]
     },
     "metadata": {},
     "output_type": "display_data"
    }
   ],
   "source": [
    "import plotly. express as px\n",
    "px.bar(data_frame= StateFund, x=StateFund.index, y='Fund')"
   ]
  },
  {
   "cell_type": "code",
   "execution_count": 159,
   "id": "71c27d13-8c9f-4cda-9b85-cc362a91d478",
   "metadata": {},
   "outputs": [
    {
     "data": {
      "application/vnd.plotly.v1+json": {
       "config": {
        "plotlyServerURL": "https://plot.ly"
       },
       "data": [
        {
         "alignmentgroup": "True",
         "hovertemplate": "State=%{x}<br>Fund=%{y}<extra></extra>",
         "legendgroup": "",
         "marker": {
          "color": "#636efa",
          "pattern": {
           "shape": ""
          }
         },
         "name": "",
         "offsetgroup": "",
         "orientation": "v",
         "showlegend": false,
         "textposition": "auto",
         "type": "bar",
         "x": [
          "HI",
          "NH",
          "WY",
          "SD",
          "MA",
          "CT",
          "IA",
          "ID",
          "WV",
          "MS",
          "NM",
          "IN",
          "KY",
          "AR",
          "LA",
          "PR",
          "NE",
          "NY",
          "VA",
          "OR",
          "TN",
          "AL",
          "NC",
          "OK",
          "UT",
          "NJ",
          "OH",
          "PA",
          "CO",
          "MD",
          "SC",
          "WI",
          "KS",
          "NV",
          "TX",
          "MI",
          "AZ",
          "MO",
          "WA",
          "MN",
          "CA",
          "IL",
          "FL",
          "GA"
         ],
         "xaxis": "x",
         "y": [
          4645,
          4647,
          10080,
          10081,
          10211,
          15145,
          20530,
          20549,
          20550,
          20601,
          30760,
          30929,
          31127,
          35498,
          35794,
          41203,
          41232,
          45398,
          51712,
          60888,
          67436,
          71730,
          72246,
          72472,
          76253,
          78344,
          81074,
          97682,
          102931,
          103027,
          103460,
          108426,
          113059,
          122013,
          127397,
          137544,
          158881,
          164012,
          194884,
          235976,
          411858,
          694783,
          764744,
          948949
         ],
         "yaxis": "y"
        }
       ],
       "layout": {
        "autosize": true,
        "barmode": "relative",
        "legend": {
         "tracegroupgap": 0
        },
        "margin": {
         "t": 60
        },
        "template": {
         "data": {
          "bar": [
           {
            "error_x": {
             "color": "#2a3f5f"
            },
            "error_y": {
             "color": "#2a3f5f"
            },
            "marker": {
             "line": {
              "color": "#E5ECF6",
              "width": 0.5
             },
             "pattern": {
              "fillmode": "overlay",
              "size": 10,
              "solidity": 0.2
             }
            },
            "type": "bar"
           }
          ],
          "barpolar": [
           {
            "marker": {
             "line": {
              "color": "#E5ECF6",
              "width": 0.5
             },
             "pattern": {
              "fillmode": "overlay",
              "size": 10,
              "solidity": 0.2
             }
            },
            "type": "barpolar"
           }
          ],
          "carpet": [
           {
            "aaxis": {
             "endlinecolor": "#2a3f5f",
             "gridcolor": "white",
             "linecolor": "white",
             "minorgridcolor": "white",
             "startlinecolor": "#2a3f5f"
            },
            "baxis": {
             "endlinecolor": "#2a3f5f",
             "gridcolor": "white",
             "linecolor": "white",
             "minorgridcolor": "white",
             "startlinecolor": "#2a3f5f"
            },
            "type": "carpet"
           }
          ],
          "choropleth": [
           {
            "colorbar": {
             "outlinewidth": 0,
             "ticks": ""
            },
            "type": "choropleth"
           }
          ],
          "contour": [
           {
            "colorbar": {
             "outlinewidth": 0,
             "ticks": ""
            },
            "colorscale": [
             [
              0,
              "#0d0887"
             ],
             [
              0.1111111111111111,
              "#46039f"
             ],
             [
              0.2222222222222222,
              "#7201a8"
             ],
             [
              0.3333333333333333,
              "#9c179e"
             ],
             [
              0.4444444444444444,
              "#bd3786"
             ],
             [
              0.5555555555555556,
              "#d8576b"
             ],
             [
              0.6666666666666666,
              "#ed7953"
             ],
             [
              0.7777777777777778,
              "#fb9f3a"
             ],
             [
              0.8888888888888888,
              "#fdca26"
             ],
             [
              1,
              "#f0f921"
             ]
            ],
            "type": "contour"
           }
          ],
          "contourcarpet": [
           {
            "colorbar": {
             "outlinewidth": 0,
             "ticks": ""
            },
            "type": "contourcarpet"
           }
          ],
          "heatmap": [
           {
            "colorbar": {
             "outlinewidth": 0,
             "ticks": ""
            },
            "colorscale": [
             [
              0,
              "#0d0887"
             ],
             [
              0.1111111111111111,
              "#46039f"
             ],
             [
              0.2222222222222222,
              "#7201a8"
             ],
             [
              0.3333333333333333,
              "#9c179e"
             ],
             [
              0.4444444444444444,
              "#bd3786"
             ],
             [
              0.5555555555555556,
              "#d8576b"
             ],
             [
              0.6666666666666666,
              "#ed7953"
             ],
             [
              0.7777777777777778,
              "#fb9f3a"
             ],
             [
              0.8888888888888888,
              "#fdca26"
             ],
             [
              1,
              "#f0f921"
             ]
            ],
            "type": "heatmap"
           }
          ],
          "heatmapgl": [
           {
            "colorbar": {
             "outlinewidth": 0,
             "ticks": ""
            },
            "colorscale": [
             [
              0,
              "#0d0887"
             ],
             [
              0.1111111111111111,
              "#46039f"
             ],
             [
              0.2222222222222222,
              "#7201a8"
             ],
             [
              0.3333333333333333,
              "#9c179e"
             ],
             [
              0.4444444444444444,
              "#bd3786"
             ],
             [
              0.5555555555555556,
              "#d8576b"
             ],
             [
              0.6666666666666666,
              "#ed7953"
             ],
             [
              0.7777777777777778,
              "#fb9f3a"
             ],
             [
              0.8888888888888888,
              "#fdca26"
             ],
             [
              1,
              "#f0f921"
             ]
            ],
            "type": "heatmapgl"
           }
          ],
          "histogram": [
           {
            "marker": {
             "pattern": {
              "fillmode": "overlay",
              "size": 10,
              "solidity": 0.2
             }
            },
            "type": "histogram"
           }
          ],
          "histogram2d": [
           {
            "colorbar": {
             "outlinewidth": 0,
             "ticks": ""
            },
            "colorscale": [
             [
              0,
              "#0d0887"
             ],
             [
              0.1111111111111111,
              "#46039f"
             ],
             [
              0.2222222222222222,
              "#7201a8"
             ],
             [
              0.3333333333333333,
              "#9c179e"
             ],
             [
              0.4444444444444444,
              "#bd3786"
             ],
             [
              0.5555555555555556,
              "#d8576b"
             ],
             [
              0.6666666666666666,
              "#ed7953"
             ],
             [
              0.7777777777777778,
              "#fb9f3a"
             ],
             [
              0.8888888888888888,
              "#fdca26"
             ],
             [
              1,
              "#f0f921"
             ]
            ],
            "type": "histogram2d"
           }
          ],
          "histogram2dcontour": [
           {
            "colorbar": {
             "outlinewidth": 0,
             "ticks": ""
            },
            "colorscale": [
             [
              0,
              "#0d0887"
             ],
             [
              0.1111111111111111,
              "#46039f"
             ],
             [
              0.2222222222222222,
              "#7201a8"
             ],
             [
              0.3333333333333333,
              "#9c179e"
             ],
             [
              0.4444444444444444,
              "#bd3786"
             ],
             [
              0.5555555555555556,
              "#d8576b"
             ],
             [
              0.6666666666666666,
              "#ed7953"
             ],
             [
              0.7777777777777778,
              "#fb9f3a"
             ],
             [
              0.8888888888888888,
              "#fdca26"
             ],
             [
              1,
              "#f0f921"
             ]
            ],
            "type": "histogram2dcontour"
           }
          ],
          "mesh3d": [
           {
            "colorbar": {
             "outlinewidth": 0,
             "ticks": ""
            },
            "type": "mesh3d"
           }
          ],
          "parcoords": [
           {
            "line": {
             "colorbar": {
              "outlinewidth": 0,
              "ticks": ""
             }
            },
            "type": "parcoords"
           }
          ],
          "pie": [
           {
            "automargin": true,
            "type": "pie"
           }
          ],
          "scatter": [
           {
            "marker": {
             "colorbar": {
              "outlinewidth": 0,
              "ticks": ""
             }
            },
            "type": "scatter"
           }
          ],
          "scatter3d": [
           {
            "line": {
             "colorbar": {
              "outlinewidth": 0,
              "ticks": ""
             }
            },
            "marker": {
             "colorbar": {
              "outlinewidth": 0,
              "ticks": ""
             }
            },
            "type": "scatter3d"
           }
          ],
          "scattercarpet": [
           {
            "marker": {
             "colorbar": {
              "outlinewidth": 0,
              "ticks": ""
             }
            },
            "type": "scattercarpet"
           }
          ],
          "scattergeo": [
           {
            "marker": {
             "colorbar": {
              "outlinewidth": 0,
              "ticks": ""
             }
            },
            "type": "scattergeo"
           }
          ],
          "scattergl": [
           {
            "marker": {
             "colorbar": {
              "outlinewidth": 0,
              "ticks": ""
             }
            },
            "type": "scattergl"
           }
          ],
          "scattermapbox": [
           {
            "marker": {
             "colorbar": {
              "outlinewidth": 0,
              "ticks": ""
             }
            },
            "type": "scattermapbox"
           }
          ],
          "scatterpolar": [
           {
            "marker": {
             "colorbar": {
              "outlinewidth": 0,
              "ticks": ""
             }
            },
            "type": "scatterpolar"
           }
          ],
          "scatterpolargl": [
           {
            "marker": {
             "colorbar": {
              "outlinewidth": 0,
              "ticks": ""
             }
            },
            "type": "scatterpolargl"
           }
          ],
          "scatterternary": [
           {
            "marker": {
             "colorbar": {
              "outlinewidth": 0,
              "ticks": ""
             }
            },
            "type": "scatterternary"
           }
          ],
          "surface": [
           {
            "colorbar": {
             "outlinewidth": 0,
             "ticks": ""
            },
            "colorscale": [
             [
              0,
              "#0d0887"
             ],
             [
              0.1111111111111111,
              "#46039f"
             ],
             [
              0.2222222222222222,
              "#7201a8"
             ],
             [
              0.3333333333333333,
              "#9c179e"
             ],
             [
              0.4444444444444444,
              "#bd3786"
             ],
             [
              0.5555555555555556,
              "#d8576b"
             ],
             [
              0.6666666666666666,
              "#ed7953"
             ],
             [
              0.7777777777777778,
              "#fb9f3a"
             ],
             [
              0.8888888888888888,
              "#fdca26"
             ],
             [
              1,
              "#f0f921"
             ]
            ],
            "type": "surface"
           }
          ],
          "table": [
           {
            "cells": {
             "fill": {
              "color": "#EBF0F8"
             },
             "line": {
              "color": "white"
             }
            },
            "header": {
             "fill": {
              "color": "#C8D4E3"
             },
             "line": {
              "color": "white"
             }
            },
            "type": "table"
           }
          ]
         },
         "layout": {
          "annotationdefaults": {
           "arrowcolor": "#2a3f5f",
           "arrowhead": 0,
           "arrowwidth": 1
          },
          "autotypenumbers": "strict",
          "coloraxis": {
           "colorbar": {
            "outlinewidth": 0,
            "ticks": ""
           }
          },
          "colorscale": {
           "diverging": [
            [
             0,
             "#8e0152"
            ],
            [
             0.1,
             "#c51b7d"
            ],
            [
             0.2,
             "#de77ae"
            ],
            [
             0.3,
             "#f1b6da"
            ],
            [
             0.4,
             "#fde0ef"
            ],
            [
             0.5,
             "#f7f7f7"
            ],
            [
             0.6,
             "#e6f5d0"
            ],
            [
             0.7,
             "#b8e186"
            ],
            [
             0.8,
             "#7fbc41"
            ],
            [
             0.9,
             "#4d9221"
            ],
            [
             1,
             "#276419"
            ]
           ],
           "sequential": [
            [
             0,
             "#0d0887"
            ],
            [
             0.1111111111111111,
             "#46039f"
            ],
            [
             0.2222222222222222,
             "#7201a8"
            ],
            [
             0.3333333333333333,
             "#9c179e"
            ],
            [
             0.4444444444444444,
             "#bd3786"
            ],
            [
             0.5555555555555556,
             "#d8576b"
            ],
            [
             0.6666666666666666,
             "#ed7953"
            ],
            [
             0.7777777777777778,
             "#fb9f3a"
            ],
            [
             0.8888888888888888,
             "#fdca26"
            ],
            [
             1,
             "#f0f921"
            ]
           ],
           "sequentialminus": [
            [
             0,
             "#0d0887"
            ],
            [
             0.1111111111111111,
             "#46039f"
            ],
            [
             0.2222222222222222,
             "#7201a8"
            ],
            [
             0.3333333333333333,
             "#9c179e"
            ],
            [
             0.4444444444444444,
             "#bd3786"
            ],
            [
             0.5555555555555556,
             "#d8576b"
            ],
            [
             0.6666666666666666,
             "#ed7953"
            ],
            [
             0.7777777777777778,
             "#fb9f3a"
            ],
            [
             0.8888888888888888,
             "#fdca26"
            ],
            [
             1,
             "#f0f921"
            ]
           ]
          },
          "colorway": [
           "#636efa",
           "#EF553B",
           "#00cc96",
           "#ab63fa",
           "#FFA15A",
           "#19d3f3",
           "#FF6692",
           "#B6E880",
           "#FF97FF",
           "#FECB52"
          ],
          "font": {
           "color": "#2a3f5f"
          },
          "geo": {
           "bgcolor": "white",
           "lakecolor": "white",
           "landcolor": "#E5ECF6",
           "showlakes": true,
           "showland": true,
           "subunitcolor": "white"
          },
          "hoverlabel": {
           "align": "left"
          },
          "hovermode": "closest",
          "mapbox": {
           "style": "light"
          },
          "paper_bgcolor": "white",
          "plot_bgcolor": "#E5ECF6",
          "polar": {
           "angularaxis": {
            "gridcolor": "white",
            "linecolor": "white",
            "ticks": ""
           },
           "bgcolor": "#E5ECF6",
           "radialaxis": {
            "gridcolor": "white",
            "linecolor": "white",
            "ticks": ""
           }
          },
          "scene": {
           "xaxis": {
            "backgroundcolor": "#E5ECF6",
            "gridcolor": "white",
            "gridwidth": 2,
            "linecolor": "white",
            "showbackground": true,
            "ticks": "",
            "zerolinecolor": "white"
           },
           "yaxis": {
            "backgroundcolor": "#E5ECF6",
            "gridcolor": "white",
            "gridwidth": 2,
            "linecolor": "white",
            "showbackground": true,
            "ticks": "",
            "zerolinecolor": "white"
           },
           "zaxis": {
            "backgroundcolor": "#E5ECF6",
            "gridcolor": "white",
            "gridwidth": 2,
            "linecolor": "white",
            "showbackground": true,
            "ticks": "",
            "zerolinecolor": "white"
           }
          },
          "shapedefaults": {
           "line": {
            "color": "#2a3f5f"
           }
          },
          "ternary": {
           "aaxis": {
            "gridcolor": "white",
            "linecolor": "white",
            "ticks": ""
           },
           "baxis": {
            "gridcolor": "white",
            "linecolor": "white",
            "ticks": ""
           },
           "bgcolor": "#E5ECF6",
           "caxis": {
            "gridcolor": "white",
            "linecolor": "white",
            "ticks": ""
           }
          },
          "title": {
           "x": 0.05
          },
          "xaxis": {
           "automargin": true,
           "gridcolor": "white",
           "linecolor": "white",
           "ticks": "",
           "title": {
            "standoff": 15
           },
           "zerolinecolor": "white",
           "zerolinewidth": 2
          },
          "yaxis": {
           "automargin": true,
           "gridcolor": "white",
           "linecolor": "white",
           "ticks": "",
           "title": {
            "standoff": 15
           },
           "zerolinecolor": "white",
           "zerolinewidth": 2
          }
         }
        },
        "xaxis": {
         "anchor": "y",
         "autorange": true,
         "domain": [
          0,
          1
         ],
         "range": [
          -0.5,
          43.5
         ],
         "title": {
          "text": "State"
         },
         "type": "category"
        },
        "yaxis": {
         "anchor": "x",
         "autorange": true,
         "domain": [
          0,
          1
         ],
         "range": [
          0,
          998893.6842105263
         ],
         "title": {
          "text": "Fund"
         },
         "type": "linear"
        }
       }
      },
      "image/png": "[encoded data removed]",
      "text/html": [
       "<div>                            <div id=\"cb9ca239-0e5f-4f57-9bc9-99ba9deee974\" class=\"plotly-graph-div\" style=\"height:525px; width:100%;\"></div>            <script type=\"text/javascript\">                require([\"plotly\"], function(Plotly) {                    window.PLOTLYENV=window.PLOTLYENV || {};                                    if (document.getElementById(\"cb9ca239-0e5f-4f57-9bc9-99ba9deee974\")) {                    Plotly.newPlot(                        \"cb9ca239-0e5f-4f57-9bc9-99ba9deee974\",                        [{\"alignmentgroup\":\"True\",\"hovertemplate\":\"State=%{x}<br>Fund=%{y}<extra></extra>\",\"legendgroup\":\"\",\"marker\":{\"color\":\"#636efa\",\"pattern\":{\"shape\":\"\"}},\"name\":\"\",\"offsetgroup\":\"\",\"orientation\":\"v\",\"showlegend\":false,\"textposition\":\"auto\",\"x\":[\"HI\",\"NH\",\"WY\",\"SD\",\"MA\",\"CT\",\"IA\",\"ID\",\"WV\",\"MS\",\"NM\",\"IN\",\"KY\",\"AR\",\"LA\",\"PR\",\"NE\",\"NY\",\"VA\",\"OR\",\"TN\",\"AL\",\"NC\",\"OK\",\"UT\",\"NJ\",\"OH\",\"PA\",\"CO\",\"MD\",\"SC\",\"WI\",\"KS\",\"NV\",\"TX\",\"MI\",\"AZ\",\"MO\",\"WA\",\"MN\",\"CA\",\"IL\",\"FL\",\"GA\"],\"xaxis\":\"x\",\"y\":[4645,4647,10080,10081,10211,15145,20530,20549,20550,20601,30760,30929,31127,35498,35794,41203,41232,45398,51712,60888,67436,71730,72246,72472,76253,78344,81074,97682,102931,103027,103460,108426,113059,122013,127397,137544,158881,164012,194884,235976,411858,694783,764744,948949],\"yaxis\":\"y\",\"type\":\"bar\"}],                        {\"template\":{\"data\":{\"bar\":[{\"error_x\":{\"color\":\"#2a3f5f\"},\"error_y\":{\"color\":\"#2a3f5f\"},\"marker\":{\"line\":{\"color\":\"#E5ECF6\",\"width\":0.5},\"pattern\":{\"fillmode\":\"overlay\",\"size\":10,\"solidity\":0.2}},\"type\":\"bar\"}],\"barpolar\":[{\"marker\":{\"line\":{\"color\":\"#E5ECF6\",\"width\":0.5},\"pattern\":{\"fillmode\":\"overlay\",\"size\":10,\"solidity\":0.2}},\"type\":\"barpolar\"}],\"carpet\":[{\"aaxis\":{\"endlinecolor\":\"#2a3f5f\",\"gridcolor\":\"white\",\"linecolor\":\"white\",\"minorgridcolor\":\"white\",\"startlinecolor\":\"#2a3f5f\"},\"baxis\":{\"endlinecolor\":\"#2a3f5f\",\"gridcolor\":\"white\",\"linecolor\":\"white\",\"minorgridcolor\":\"white\",\"startlinecolor\":\"#2a3f5f\"},\"type\":\"carpet\"}],\"choropleth\":[{\"colorbar\":{\"outlinewidth\":0,\"ticks\":\"\"},\"type\":\"choropleth\"}],\"contour\":[{\"colorbar\":{\"outlinewidth\":0,\"ticks\":\"\"},\"colorscale\":[[0.0,\"#0d0887\"],[0.1111111111111111,\"#46039f\"],[0.2222222222222222,\"#7201a8\"],[0.3333333333333333,\"#9c179e\"],[0.4444444444444444,\"#bd3786\"],[0.5555555555555556,\"#d8576b\"],[0.6666666666666666,\"#ed7953\"],[0.7777777777777778,\"#fb9f3a\"],[0.8888888888888888,\"#fdca26\"],[1.0,\"#f0f921\"]],\"type\":\"contour\"}],\"contourcarpet\":[{\"colorbar\":{\"outlinewidth\":0,\"ticks\":\"\"},\"type\":\"contourcarpet\"}],\"heatmap\":[{\"colorbar\":{\"outlinewidth\":0,\"ticks\":\"\"},\"colorscale\":[[0.0,\"#0d0887\"],[0.1111111111111111,\"#46039f\"],[0.2222222222222222,\"#7201a8\"],[0.3333333333333333,\"#9c179e\"],[0.4444444444444444,\"#bd3786\"],[0.5555555555555556,\"#d8576b\"],[0.6666666666666666,\"#ed7953\"],[0.7777777777777778,\"#fb9f3a\"],[0.8888888888888888,\"#fdca26\"],[1.0,\"#f0f921\"]],\"type\":\"heatmap\"}],\"heatmapgl\":[{\"colorbar\":{\"outlinewidth\":0,\"ticks\":\"\"},\"colorscale\":[[0.0,\"#0d0887\"],[0.1111111111111111,\"#46039f\"],[0.2222222222222222,\"#7201a8\"],[0.3333333333333333,\"#9c179e\"],[0.4444444444444444,\"#bd3786\"],[0.5555555555555556,\"#d8576b\"],[0.6666666666666666,\"#ed7953\"],[0.7777777777777778,\"#fb9f3a\"],[0.8888888888888888,\"#fdca26\"],[1.0,\"#f0f921\"]],\"type\":\"heatmapgl\"}],\"histogram\":[{\"marker\":{\"pattern\":{\"fillmode\":\"overlay\",\"size\":10,\"solidity\":0.2}},\"type\":\"histogram\"}],\"histogram2d\":[{\"colorbar\":{\"outlinewidth\":0,\"ticks\":\"\"},\"colorscale\":[[0.0,\"#0d0887\"],[0.1111111111111111,\"#46039f\"],[0.2222222222222222,\"#7201a8\"],[0.3333333333333333,\"#9c179e\"],[0.4444444444444444,\"#bd3786\"],[0.5555555555555556,\"#d8576b\"],[0.6666666666666666,\"#ed7953\"],[0.7777777777777778,\"#fb9f3a\"],[0.8888888888888888,\"#fdca26\"],[1.0,\"#f0f921\"]],\"type\":\"histogram2d\"}],\"histogram2dcontour\":[{\"colorbar\":{\"outlinewidth\":0,\"ticks\":\"\"},\"colorscale\":[[0.0,\"#0d0887\"],[0.1111111111111111,\"#46039f\"],[0.2222222222222222,\"#7201a8\"],[0.3333333333333333,\"#9c179e\"],[0.4444444444444444,\"#bd3786\"],[0.5555555555555556,\"#d8576b\"],[0.6666666666666666,\"#ed7953\"],[0.7777777777777778,\"#fb9f3a\"],[0.8888888888888888,\"#fdca26\"],[1.0,\"#f0f921\"]],\"type\":\"histogram2dcontour\"}],\"mesh3d\":[{\"colorbar\":{\"outlinewidth\":0,\"ticks\":\"\"},\"type\":\"mesh3d\"}],\"parcoords\":[{\"line\":{\"colorbar\":{\"outlinewidth\":0,\"ticks\":\"\"}},\"type\":\"parcoords\"}],\"pie\":[{\"automargin\":true,\"type\":\"pie\"}],\"scatter\":[{\"marker\":{\"colorbar\":{\"outlinewidth\":0,\"ticks\":\"\"}},\"type\":\"scatter\"}],\"scatter3d\":[{\"line\":{\"colorbar\":{\"outlinewidth\":0,\"ticks\":\"\"}},\"marker\":{\"colorbar\":{\"outlinewidth\":0,\"ticks\":\"\"}},\"type\":\"scatter3d\"}],\"scattercarpet\":[{\"marker\":{\"colorbar\":{\"outlinewidth\":0,\"ticks\":\"\"}},\"type\":\"scattercarpet\"}],\"scattergeo\":[{\"marker\":{\"colorbar\":{\"outlinewidth\":0,\"ticks\":\"\"}},\"type\":\"scattergeo\"}],\"scattergl\":[{\"marker\":{\"colorbar\":{\"outlinewidth\":0,\"ticks\":\"\"}},\"type\":\"scattergl\"}],\"scattermapbox\":[{\"marker\":{\"colorbar\":{\"outlinewidth\":0,\"ticks\":\"\"}},\"type\":\"scattermapbox\"}],\"scatterpolar\":[{\"marker\":{\"colorbar\":{\"outlinewidth\":0,\"ticks\":\"\"}},\"type\":\"scatterpolar\"}],\"scatterpolargl\":[{\"marker\":{\"colorbar\":{\"outlinewidth\":0,\"ticks\":\"\"}},\"type\":\"scatterpolargl\"}],\"scatterternary\":[{\"marker\":{\"colorbar\":{\"outlinewidth\":0,\"ticks\":\"\"}},\"type\":\"scatterternary\"}],\"surface\":[{\"colorbar\":{\"outlinewidth\":0,\"ticks\":\"\"},\"colorscale\":[[0.0,\"#0d0887\"],[0.1111111111111111,\"#46039f\"],[0.2222222222222222,\"#7201a8\"],[0.3333333333333333,\"#9c179e\"],[0.4444444444444444,\"#bd3786\"],[0.5555555555555556,\"#d8576b\"],[0.6666666666666666,\"#ed7953\"],[0.7777777777777778,\"#fb9f3a\"],[0.8888888888888888,\"#fdca26\"],[1.0,\"#f0f921\"]],\"type\":\"surface\"}],\"table\":[{\"cells\":{\"fill\":{\"color\":\"#EBF0F8\"},\"line\":{\"color\":\"white\"}},\"header\":{\"fill\":{\"color\":\"#C8D4E3\"},\"line\":{\"color\":\"white\"}},\"type\":\"table\"}]},\"layout\":{\"annotationdefaults\":{\"arrowcolor\":\"#2a3f5f\",\"arrowhead\":0,\"arrowwidth\":1},\"autotypenumbers\":\"strict\",\"coloraxis\":{\"colorbar\":{\"outlinewidth\":0,\"ticks\":\"\"}},\"colorscale\":{\"diverging\":[[0,\"#8e0152\"],[0.1,\"#c51b7d\"],[0.2,\"#de77ae\"],[0.3,\"#f1b6da\"],[0.4,\"#fde0ef\"],[0.5,\"#f7f7f7\"],[0.6,\"#e6f5d0\"],[0.7,\"#b8e186\"],[0.8,\"#7fbc41\"],[0.9,\"#4d9221\"],[1,\"#276419\"]],\"sequential\":[[0.0,\"#0d0887\"],[0.1111111111111111,\"#46039f\"],[0.2222222222222222,\"#7201a8\"],[0.3333333333333333,\"#9c179e\"],[0.4444444444444444,\"#bd3786\"],[0.5555555555555556,\"#d8576b\"],[0.6666666666666666,\"#ed7953\"],[0.7777777777777778,\"#fb9f3a\"],[0.8888888888888888,\"#fdca26\"],[1.0,\"#f0f921\"]],\"sequentialminus\":[[0.0,\"#0d0887\"],[0.1111111111111111,\"#46039f\"],[0.2222222222222222,\"#7201a8\"],[0.3333333333333333,\"#9c179e\"],[0.4444444444444444,\"#bd3786\"],[0.5555555555555556,\"#d8576b\"],[0.6666666666666666,\"#ed7953\"],[0.7777777777777778,\"#fb9f3a\"],[0.8888888888888888,\"#fdca26\"],[1.0,\"#f0f921\"]]},\"colorway\":[\"#636efa\",\"#EF553B\",\"#00cc96\",\"#ab63fa\",\"#FFA15A\",\"#19d3f3\",\"#FF6692\",\"#B6E880\",\"#FF97FF\",\"#FECB52\"],\"font\":{\"color\":\"#2a3f5f\"},\"geo\":{\"bgcolor\":\"white\",\"lakecolor\":\"white\",\"landcolor\":\"#E5ECF6\",\"showlakes\":true,\"showland\":true,\"subunitcolor\":\"white\"},\"hoverlabel\":{\"align\":\"left\"},\"hovermode\":\"closest\",\"mapbox\":{\"style\":\"light\"},\"paper_bgcolor\":\"white\",\"plot_bgcolor\":\"#E5ECF6\",\"polar\":{\"angularaxis\":{\"gridcolor\":\"white\",\"linecolor\":\"white\",\"ticks\":\"\"},\"bgcolor\":\"#E5ECF6\",\"radialaxis\":{\"gridcolor\":\"white\",\"linecolor\":\"white\",\"ticks\":\"\"}},\"scene\":{\"xaxis\":{\"backgroundcolor\":\"#E5ECF6\",\"gridcolor\":\"white\",\"gridwidth\":2,\"linecolor\":\"white\",\"showbackground\":true,\"ticks\":\"\",\"zerolinecolor\":\"white\"},\"yaxis\":{\"backgroundcolor\":\"#E5ECF6\",\"gridcolor\":\"white\",\"gridwidth\":2,\"linecolor\":\"white\",\"showbackground\":true,\"ticks\":\"\",\"zerolinecolor\":\"white\"},\"zaxis\":{\"backgroundcolor\":\"#E5ECF6\",\"gridcolor\":\"white\",\"gridwidth\":2,\"linecolor\":\"white\",\"showbackground\":true,\"ticks\":\"\",\"zerolinecolor\":\"white\"}},\"shapedefaults\":{\"line\":{\"color\":\"#2a3f5f\"}},\"ternary\":{\"aaxis\":{\"gridcolor\":\"white\",\"linecolor\":\"white\",\"ticks\":\"\"},\"baxis\":{\"gridcolor\":\"white\",\"linecolor\":\"white\",\"ticks\":\"\"},\"bgcolor\":\"#E5ECF6\",\"caxis\":{\"gridcolor\":\"white\",\"linecolor\":\"white\",\"ticks\":\"\"}},\"title\":{\"x\":0.05},\"xaxis\":{\"automargin\":true,\"gridcolor\":\"white\",\"linecolor\":\"white\",\"ticks\":\"\",\"title\":{\"standoff\":15},\"zerolinecolor\":\"white\",\"zerolinewidth\":2},\"yaxis\":{\"automargin\":true,\"gridcolor\":\"white\",\"linecolor\":\"white\",\"ticks\":\"\",\"title\":{\"standoff\":15},\"zerolinecolor\":\"white\",\"zerolinewidth\":2}}},\"xaxis\":{\"anchor\":\"y\",\"domain\":[0.0,1.0],\"title\":{\"text\":\"State\"}},\"yaxis\":{\"anchor\":\"x\",\"domain\":[0.0,1.0],\"title\":{\"text\":\"Fund\"}},\"legend\":{\"tracegroupgap\":0},\"margin\":{\"t\":60},\"barmode\":\"relative\"},                        {\"responsive\": true}                    ).then(function(){\n",
       "                            \n",
       "var gd = document.getElementById('cb9ca239-0e5f-4f57-9bc9-99ba9deee974');\n",
       "var x = new MutationObserver(function (mutations, observer) {{\n",
       "        var display = window.getComputedStyle(gd).display;\n",
       "        if (!display || display === 'none') {{\n",
       "            console.log([gd, 'removed!']);\n",
       "            Plotly.purge(gd);\n",
       "            observer.disconnect();\n",
       "        }}\n",
       "}});\n",
       "\n",
       "// Listen for the removal of the full notebook cells\n",
       "var notebookContainer = gd.closest('#notebook-container');\n",
       "if (notebookContainer) {{\n",
       "    x.observe(notebookContainer, {childList: true});\n",
       "}}\n",
       "\n",
       "// Listen for the clearing of the current output cell\n",
       "var outputEl = gd.closest('.output');\n",
       "if (outputEl) {{\n",
       "    x.observe(outputEl, {childList: true});\n",
       "}}\n",
       "\n",
       "                        })                };                });            </script>        </div>"
      ]
     },
     "metadata": {},
     "output_type": "display_data"
    }
   ],
   "source": [
    "import plotly. express as px\n",
    "StateFund=df.groupby(['State']).sum()['Fund'].sort_values()\n",
    "px.bar(data_frame= StateFund, x=StateFund.index, y='Fund')"
   ]
  },
  {
   "cell_type": "code",
   "execution_count": 160,
   "id": "b1ee7ed2-1abe-48d9-94c7-8bb9e694f328",
   "metadata": {
    "tags": []
   },
   "outputs": [
    {
     "data": {
      "text/plain": [
       "Index(['HI', 'NH', 'WY', 'SD', 'MA', 'CT', 'IA', 'ID', 'WV', 'MS', 'NM', 'IN',\n",
       "       'KY', 'AR', 'LA', 'PR', 'NE', 'NY', 'VA', 'OR', 'TN', 'AL', 'NC', 'OK',\n",
       "       'UT', 'NJ', 'OH', 'PA', 'CO', 'MD', 'SC', 'WI', 'KS', 'NV', 'TX', 'MI',\n",
       "       'AZ', 'MO', 'WA', 'MN', 'CA', 'IL', 'FL', 'GA'],\n",
       "      dtype='object', name='State')"
      ]
     },
     "execution_count": 160,
     "metadata": {},
     "output_type": "execute_result"
    }
   ],
   "source": [
    "StateFund.index"
   ]
  },
  {
   "cell_type": "code",
   "execution_count": 161,
   "id": "1153a861-34f9-478a-bdaa-ce2efea000fe",
   "metadata": {
    "tags": []
   },
   "outputs": [
    {
     "data": {
      "text/html": [
       "<div>\n",
       "<style scoped>\n",
       "    .dataframe tbody tr th:only-of-type {\n",
       "        vertical-align: middle;\n",
       "    }\n",
       "\n",
       "    .dataframe tbody tr th {\n",
       "        vertical-align: top;\n",
       "    }\n",
       "\n",
       "    .dataframe thead th {\n",
       "        text-align: right;\n",
       "    }\n",
       "</style>\n",
       "<table border=\"1\" class=\"dataframe\">\n",
       "  <thead>\n",
       "    <tr style=\"text-align: right;\">\n",
       "      <th></th>\n",
       "      <th>Bank Name</th>\n",
       "      <th>City</th>\n",
       "      <th>State</th>\n",
       "      <th>Cert</th>\n",
       "      <th>Acquiring InstitutionAI</th>\n",
       "      <th>DateClosing</th>\n",
       "      <th>Fund</th>\n",
       "    </tr>\n",
       "  </thead>\n",
       "  <tbody>\n",
       "    <tr>\n",
       "      <th>0</th>\n",
       "      <td>Almena State Bank</td>\n",
       "      <td>Almena</td>\n",
       "      <td>KS</td>\n",
       "      <td>15426</td>\n",
       "      <td>Equity Bank</td>\n",
       "      <td>October 23, 2020</td>\n",
       "      <td>10538</td>\n",
       "    </tr>\n",
       "    <tr>\n",
       "      <th>1</th>\n",
       "      <td>First City Bank of Florida</td>\n",
       "      <td>Fort Walton Beach</td>\n",
       "      <td>FL</td>\n",
       "      <td>16748</td>\n",
       "      <td>United Fidelity Bank, fsb</td>\n",
       "      <td>October 16, 2020</td>\n",
       "      <td>10537</td>\n",
       "    </tr>\n",
       "    <tr>\n",
       "      <th>2</th>\n",
       "      <td>The First State Bank</td>\n",
       "      <td>Barboursville</td>\n",
       "      <td>WV</td>\n",
       "      <td>14361</td>\n",
       "      <td>MVB Bank, Inc.</td>\n",
       "      <td>April 3, 2020</td>\n",
       "      <td>10536</td>\n",
       "    </tr>\n",
       "    <tr>\n",
       "      <th>3</th>\n",
       "      <td>Ericson State Bank</td>\n",
       "      <td>Ericson</td>\n",
       "      <td>NE</td>\n",
       "      <td>18265</td>\n",
       "      <td>Farmers and Merchants Bank</td>\n",
       "      <td>February 14, 2020</td>\n",
       "      <td>10535</td>\n",
       "    </tr>\n",
       "    <tr>\n",
       "      <th>4</th>\n",
       "      <td>City National Bank of New Jersey</td>\n",
       "      <td>Newark</td>\n",
       "      <td>NJ</td>\n",
       "      <td>21111</td>\n",
       "      <td>Industrial Bank</td>\n",
       "      <td>November 1, 2019</td>\n",
       "      <td>10534</td>\n",
       "    </tr>\n",
       "    <tr>\n",
       "      <th>...</th>\n",
       "      <td>...</td>\n",
       "      <td>...</td>\n",
       "      <td>...</td>\n",
       "      <td>...</td>\n",
       "      <td>...</td>\n",
       "      <td>...</td>\n",
       "      <td>...</td>\n",
       "    </tr>\n",
       "    <tr>\n",
       "      <th>558</th>\n",
       "      <td>Superior Bank, FSB</td>\n",
       "      <td>Hinsdale</td>\n",
       "      <td>IL</td>\n",
       "      <td>32646</td>\n",
       "      <td>Superior Federal, FSB</td>\n",
       "      <td>July 27, 2001</td>\n",
       "      <td>6004</td>\n",
       "    </tr>\n",
       "    <tr>\n",
       "      <th>559</th>\n",
       "      <td>Malta National Bank</td>\n",
       "      <td>Malta</td>\n",
       "      <td>OH</td>\n",
       "      <td>6629</td>\n",
       "      <td>North Valley Bank</td>\n",
       "      <td>May 3, 2001</td>\n",
       "      <td>4648</td>\n",
       "    </tr>\n",
       "    <tr>\n",
       "      <th>560</th>\n",
       "      <td>First Alliance Bank &amp; Trust Co.</td>\n",
       "      <td>Manchester</td>\n",
       "      <td>NH</td>\n",
       "      <td>34264</td>\n",
       "      <td>Southern New Hampshire Bank &amp; Trust</td>\n",
       "      <td>February 2, 2001</td>\n",
       "      <td>4647</td>\n",
       "    </tr>\n",
       "    <tr>\n",
       "      <th>561</th>\n",
       "      <td>National State Bank of Metropolis</td>\n",
       "      <td>Metropolis</td>\n",
       "      <td>IL</td>\n",
       "      <td>3815</td>\n",
       "      <td>Banterra Bank of Marion</td>\n",
       "      <td>December 14, 2000</td>\n",
       "      <td>4646</td>\n",
       "    </tr>\n",
       "    <tr>\n",
       "      <th>562</th>\n",
       "      <td>Bank of Honolulu</td>\n",
       "      <td>Honolulu</td>\n",
       "      <td>HI</td>\n",
       "      <td>21029</td>\n",
       "      <td>Bank of the Orient</td>\n",
       "      <td>October 13, 2000</td>\n",
       "      <td>4645</td>\n",
       "    </tr>\n",
       "  </tbody>\n",
       "</table>\n",
       "<p>563 rows × 7 columns</p>\n",
       "</div>"
      ],
      "text/plain": [
       "                             Bank Name               City State   Cert  \\\n",
       "0                    Almena State Bank             Almena    KS  15426   \n",
       "1           First City Bank of Florida  Fort Walton Beach    FL  16748   \n",
       "2                 The First State Bank      Barboursville    WV  14361   \n",
       "3                   Ericson State Bank            Ericson    NE  18265   \n",
       "4     City National Bank of New Jersey             Newark    NJ  21111   \n",
       "..                                 ...                ...   ...    ...   \n",
       "558                 Superior Bank, FSB           Hinsdale    IL  32646   \n",
       "559                Malta National Bank              Malta    OH   6629   \n",
       "560    First Alliance Bank & Trust Co.         Manchester    NH  34264   \n",
       "561  National State Bank of Metropolis         Metropolis    IL   3815   \n",
       "562                   Bank of Honolulu           Honolulu    HI  21029   \n",
       "\n",
       "                 Acquiring InstitutionAI        DateClosing   Fund  \n",
       "0                            Equity Bank   October 23, 2020  10538  \n",
       "1              United Fidelity Bank, fsb   October 16, 2020  10537  \n",
       "2                         MVB Bank, Inc.      April 3, 2020  10536  \n",
       "3             Farmers and Merchants Bank  February 14, 2020  10535  \n",
       "4                        Industrial Bank   November 1, 2019  10534  \n",
       "..                                   ...                ...    ...  \n",
       "558                Superior Federal, FSB      July 27, 2001   6004  \n",
       "559                    North Valley Bank        May 3, 2001   4648  \n",
       "560  Southern New Hampshire Bank & Trust   February 2, 2001   4647  \n",
       "561              Banterra Bank of Marion  December 14, 2000   4646  \n",
       "562                   Bank of the Orient   October 13, 2000   4645  \n",
       "\n",
       "[563 rows x 7 columns]"
      ]
     },
     "execution_count": 161,
     "metadata": {},
     "output_type": "execute_result"
    }
   ],
   "source": [
    "df"
   ]
  },
  {
   "cell_type": "code",
   "execution_count": 162,
   "id": "84f384cd-7288-4091-8b64-bced83779a4f",
   "metadata": {},
   "outputs": [],
   "source": [
    "StateFund2=df.groupby(['Bank Name']).sum()['Fund']"
   ]
  },
  {
   "cell_type": "code",
   "execution_count": 165,
   "id": "7cb14f3f-9d68-43d7-9377-c46e91dd484c",
   "metadata": {},
   "outputs": [
    {
     "data": {
      "text/plain": [
       "2020"
      ]
     },
     "execution_count": 165,
     "metadata": {},
     "output_type": "execute_result"
    }
   ],
   "source": [
    "df['DateClosing'] = pd.to_datetime(df['DateClosing'])\n",
    "df['DateClosing'].iloc[0].year"
   ]
  },
  {
   "cell_type": "code",
   "execution_count": 169,
   "id": "8bd9374f-37f0-41cc-8e69-9007aae3f8ed",
   "metadata": {},
   "outputs": [
    {
     "data": {
      "application/vnd.plotly.v1+json": {
       "config": {
        "plotlyServerURL": "https://plot.ly"
       },
       "data": [
        {
         "hovertemplate": "State=KS<br>DateClosing=%{x}<br>Fund=%{y}<extra></extra>",
         "legendgroup": "KS",
         "marker": {
          "color": "#636efa",
          "symbol": "circle"
         },
         "mode": "markers",
         "name": "KS",
         "orientation": "v",
         "showlegend": true,
         "type": "scatter",
         "visible": true,
         "x": [
          "2020-10-23T00:00:00",
          "2017-10-13T00:00:00",
          "2012-07-20T00:00:00",
          "2011-08-12T00:00:00",
          "2010-10-22T00:00:00",
          "2010-10-15T00:00:00",
          "2010-07-23T00:00:00",
          "2009-12-11T00:00:00",
          "2009-06-19T00:00:00",
          "2009-03-20T00:00:00",
          "2008-08-22T00:00:00"
         ],
         "xaxis": "x",
         "y": [
          10538,
          10529,
          10452,
          10388,
          10302,
          10298,
          10269,
          10160,
          10066,
          10046,
          10011
         ],
         "yaxis": "y"
        },
        {
         "hovertemplate": "State=FL<br>DateClosing=%{x}<br>Fund=%{y}<extra></extra>",
         "legendgroup": "FL",
         "marker": {
          "color": "#EF553B",
          "symbol": "circle"
         },
         "mode": "markers",
         "name": "FL",
         "orientation": "v",
         "showlegend": true,
         "type": "scatter",
         "x": [
          "2020-10-16T00:00:00",
          "2015-01-16T00:00:00",
          "2014-06-20T00:00:00",
          "2013-10-30T00:00:00",
          "2013-08-02T00:00:00",
          "2013-04-19T00:00:00",
          "2013-04-19T00:00:00",
          "2012-11-02T00:00:00",
          "2012-10-19T00:00:00",
          "2012-10-19T00:00:00",
          "2012-07-20T00:00:00",
          "2012-06-15T00:00:00",
          "2012-05-04T00:00:00",
          "2012-01-27T00:00:00",
          "2012-01-20T00:00:00",
          "2011-12-16T00:00:00",
          "2011-10-21T00:00:00",
          "2011-09-09T00:00:00",
          "2011-08-19T00:00:00",
          "2011-07-22T00:00:00",
          "2011-07-22T00:00:00",
          "2011-07-15T00:00:00",
          "2011-06-17T00:00:00",
          "2011-05-06T00:00:00",
          "2011-04-29T00:00:00",
          "2011-04-29T00:00:00",
          "2011-02-11T00:00:00",
          "2011-01-07T00:00:00",
          "2010-12-17T00:00:00",
          "2010-11-19T00:00:00",
          "2010-10-22T00:00:00",
          "2010-10-22T00:00:00",
          "2010-10-01T00:00:00",
          "2010-09-24T00:00:00",
          "2010-09-10T00:00:00",
          "2010-08-20T00:00:00",
          "2010-08-20T00:00:00",
          "2010-07-30T00:00:00",
          "2010-07-30T00:00:00",
          "2010-07-23T00:00:00",
          "2010-07-16T00:00:00",
          "2010-07-16T00:00:00",
          "2010-07-16T00:00:00",
          "2010-06-25T00:00:00",
          "2010-05-28T00:00:00",
          "2010-05-28T00:00:00",
          "2010-05-28T00:00:00",
          "2010-05-07T00:00:00",
          "2010-04-16T00:00:00",
          "2010-04-16T00:00:00",
          "2010-04-16T00:00:00",
          "2010-03-26T00:00:00",
          "2010-03-12T00:00:00",
          "2010-03-05T00:00:00",
          "2010-02-19T00:00:00",
          "2010-01-29T00:00:00",
          "2010-01-22T00:00:00",
          "2009-12-18T00:00:00",
          "2009-12-11T00:00:00",
          "2009-11-20T00:00:00",
          "2009-11-13T00:00:00",
          "2009-11-13T00:00:00",
          "2009-10-23T00:00:00",
          "2009-10-23T00:00:00",
          "2009-10-23T00:00:00",
          "2009-08-07T00:00:00",
          "2009-08-07T00:00:00",
          "2009-07-31T00:00:00",
          "2009-05-21T00:00:00",
          "2009-02-13T00:00:00",
          "2009-01-30T00:00:00",
          "2008-10-31T00:00:00",
          "2008-08-01T00:00:00",
          "2004-03-12T00:00:00",
          "2002-03-01T00:00:00",
          "2002-01-11T00:00:00"
         ],
         "xaxis": "x",
         "y": [
          10537,
          10510,
          10501,
          10490,
          10484,
          10473,
          10475,
          10465,
          10461,
          10462,
          10454,
          10445,
          10439,
          10421,
          10418,
          10415,
          10408,
          10395,
          10392,
          10381,
          10382,
          10376,
          10370,
          10364,
          10360,
          10362,
          10342,
          10325,
          10324,
          10316,
          10303,
          10300,
          10296,
          10293,
          10286,
          10281,
          10279,
          10272,
          10271,
          10268,
          10260,
          10261,
          10259,
          10253,
          10243,
          10242,
          10241,
          10234,
          10216,
          10210,
          10213,
          10206,
          10197,
          10192,
          10187,
          10181,
          10173,
          10165,
          10158,
          10151,
          10149,
          10148,
          10129,
          10131,
          10130,
          10099,
          10098,
          10095,
          10061,
          10038,
          10032,
          10019,
          10010,
          4663,
          4654,
          4650
         ],
         "yaxis": "y"
        },
        {
         "hovertemplate": "State=WV<br>DateClosing=%{x}<br>Fund=%{y}<extra></extra>",
         "legendgroup": "WV",
         "marker": {
          "color": "#00cc96",
          "symbol": "circle"
         },
         "mode": "markers",
         "name": "WV",
         "orientation": "v",
         "showlegend": true,
         "type": "scatter",
         "x": [
          "2020-04-03T00:00:00",
          "2008-09-19T00:00:00"
         ],
         "xaxis": "x",
         "y": [
          10536,
          10014
         ],
         "yaxis": "y"
        },
        {
         "hovertemplate": "State=NE<br>DateClosing=%{x}<br>Fund=%{y}<extra></extra>",
         "legendgroup": "NE",
         "marker": {
          "color": "#ab63fa",
          "symbol": "circle"
         },
         "mode": "markers",
         "name": "NE",
         "orientation": "v",
         "showlegend": true,
         "type": "scatter",
         "x": [
          "2020-02-14T00:00:00",
          "2011-11-04T00:00:00",
          "2010-06-04T00:00:00",
          "2009-02-13T00:00:00"
         ],
         "xaxis": "x",
         "y": [
          10535,
          10410,
          10248,
          10039
         ],
         "yaxis": "y"
        },
        {
         "hovertemplate": "State=NJ<br>DateClosing=%{x}<br>Fund=%{y}<extra></extra>",
         "legendgroup": "NJ",
         "marker": {
          "color": "#FFA15A",
          "symbol": "circle"
         },
         "mode": "markers",
         "name": "NJ",
         "orientation": "v",
         "showlegend": true,
         "type": "scatter",
         "visible": true,
         "x": [
          "2019-11-01T00:00:00",
          "2017-01-13T00:00:00",
          "2012-04-20T00:00:00",
          "2011-10-14T00:00:00",
          "2010-09-17T00:00:00",
          "2009-07-31T00:00:00",
          "2009-05-01T00:00:00",
          "2004-02-14T00:00:00"
         ],
         "xaxis": "x",
         "y": [
          10534,
          10523,
          10433,
          10403,
          10290,
          10097,
          10058,
          6006
         ],
         "yaxis": "y"
        },
        {
         "hovertemplate": "State=OH<br>DateClosing=%{x}<br>Fund=%{y}<extra></extra>",
         "legendgroup": "OH",
         "marker": {
          "color": "#19d3f3",
          "symbol": "circle"
         },
         "mode": "markers",
         "name": "OH",
         "orientation": "v",
         "showlegend": true,
         "type": "scatter",
         "x": [
          "2019-10-25T00:00:00",
          "2014-05-23T00:00:00",
          "2010-09-17T00:00:00",
          "2010-03-19T00:00:00",
          "2009-12-04T00:00:00",
          "2009-07-31T00:00:00",
          "2007-10-04T00:00:00",
          "2002-02-01T00:00:00",
          "2001-05-03T00:00:00"
         ],
         "xaxis": "x",
         "y": [
          10533,
          10499,
          10288,
          10201,
          10155,
          10096,
          10002,
          4652,
          4648
         ],
         "yaxis": "y"
        },
        {
         "hovertemplate": "State=KY<br>DateClosing=%{x}<br>Fund=%{y}<extra></extra>",
         "legendgroup": "KY",
         "marker": {
          "color": "#FF6692",
          "symbol": "circle"
         },
         "mode": "markers",
         "name": "KY",
         "orientation": "v",
         "showlegend": true,
         "type": "scatter",
         "x": [
          "2019-10-25T00:00:00",
          "2013-04-19T00:00:00",
          "2009-09-18T00:00:00"
         ],
         "xaxis": "x",
         "y": [
          10532,
          10474,
          10121
         ],
         "yaxis": "y"
        },
        {
         "hovertemplate": "State=TX<br>DateClosing=%{x}<br>Fund=%{y}<extra></extra>",
         "legendgroup": "TX",
         "marker": {
          "color": "#B6E880",
          "symbol": "circle"
         },
         "mode": "markers",
         "name": "TX",
         "orientation": "v",
         "showlegend": true,
         "type": "scatter",
         "x": [
          "2019-05-31T00:00:00",
          "2013-12-13T00:00:00",
          "2013-09-13T00:00:00",
          "2011-09-30T00:00:00",
          "2010-02-19T00:00:00",
          "2009-10-30T00:00:00",
          "2009-10-30T00:00:00",
          "2009-10-30T00:00:00",
          "2009-08-21T00:00:00",
          "2009-07-02T00:00:00",
          "2008-12-12T00:00:00",
          "2008-11-07T00:00:00",
          "2002-01-18T00:00:00"
         ],
         "xaxis": "x",
         "y": [
          10531,
          10491,
          10488,
          10398,
          10186,
          10138,
          10142,
          10141,
          10105,
          10079,
          10026,
          10021,
          4651
         ],
         "yaxis": "y"
        },
        {
         "hovertemplate": "State=IL<br>DateClosing=%{x}<br>Fund=%{y}<extra></extra>",
         "legendgroup": "IL",
         "marker": {
          "color": "#FF97FF",
          "symbol": "circle"
         },
         "mode": "markers",
         "name": "IL",
         "orientation": "v",
         "showlegend": true,
         "type": "scatter",
         "x": [
          "2017-12-15T00:00:00",
          "2017-05-26T00:00:00",
          "2017-01-27T00:00:00",
          "2015-05-08T00:00:00",
          "2015-01-23T00:00:00",
          "2014-10-24T00:00:00",
          "2014-07-25T00:00:00",
          "2014-06-20T00:00:00",
          "2014-05-16T00:00:00",
          "2014-01-17T00:00:00",
          "2013-02-15T00:00:00",
          "2012-11-02T00:00:00",
          "2012-09-28T00:00:00",
          "2012-08-03T00:00:00",
          "2012-07-20T00:00:00",
          "2012-06-08T00:00:00",
          "2012-03-23T00:00:00",
          "2012-03-09T00:00:00",
          "2012-02-10T00:00:00",
          "2011-10-28T00:00:00",
          "2011-10-14T00:00:00",
          "2011-08-19T00:00:00",
          "2011-08-05T00:00:00",
          "2011-07-08T00:00:00",
          "2011-04-08T00:00:00",
          "2011-03-25T00:00:00",
          "2011-02-25T00:00:00",
          "2011-02-04T00:00:00",
          "2010-10-22T00:00:00",
          "2010-08-20T00:00:00",
          "2010-08-13T00:00:00",
          "2010-08-06T00:00:00",
          "2010-06-04T00:00:00",
          "2010-05-14T00:00:00",
          "2010-04-23T00:00:00",
          "2010-04-23T00:00:00",
          "2010-04-23T00:00:00",
          "2010-04-23T00:00:00",
          "2010-04-23T00:00:00",
          "2010-04-23T00:00:00",
          "2010-04-23T00:00:00",
          "2010-03-05T00:00:00",
          "2010-02-19T00:00:00",
          "2010-01-15T00:00:00",
          "2009-12-18T00:00:00",
          "2009-12-04T00:00:00",
          "2009-10-30T00:00:00",
          "2009-10-30T00:00:00",
          "2009-10-23T00:00:00",
          "2009-09-11T00:00:00",
          "2009-09-04T00:00:00",
          "2009-09-04T00:00:00",
          "2009-07-31T00:00:00",
          "2009-07-02T00:00:00",
          "2009-07-02T00:00:00",
          "2009-07-02T00:00:00",
          "2009-07-02T00:00:00",
          "2009-07-02T00:00:00",
          "2009-07-02T00:00:00",
          "2009-06-05T00:00:00",
          "2009-05-22T00:00:00",
          "2009-05-22T00:00:00",
          "2009-02-27T00:00:00",
          "2009-02-13T00:00:00",
          "2009-01-16T00:00:00",
          "2008-10-10T00:00:00",
          "2002-06-27T00:00:00",
          "2001-07-27T00:00:00",
          "2000-12-14T00:00:00"
         ],
         "xaxis": "x",
         "y": [
          10530,
          10528,
          10524,
          10514,
          10511,
          10507,
          10505,
          10502,
          10498,
          10492,
          10470,
          10464,
          10459,
          10456,
          10453,
          10442,
          10431,
          10429,
          10424,
          10409,
          10402,
          10390,
          10386,
          10374,
          10352,
          10350,
          10347,
          10337,
          10301,
          10284,
          10277,
          10276,
          10246,
          10236,
          10224,
          10223,
          10221,
          10222,
          10220,
          10219,
          10218,
          10191,
          10184,
          10170,
          10166,
          10154,
          10140,
          10137,
          10128,
          10117,
          10115,
          10113,
          10094,
          10074,
          10078,
          10073,
          10075,
          10077,
          10076,
          10064,
          10063,
          10062,
          10042,
          10037,
          10028,
          10017,
          6005,
          6004,
          4646
         ],
         "yaxis": "y"
        },
        {
         "hovertemplate": "State=WI<br>DateClosing=%{x}<br>Fund=%{y}<extra></extra>",
         "legendgroup": "WI",
         "marker": {
          "color": "#FECB52",
          "symbol": "circle"
         },
         "mode": "markers",
         "name": "WI",
         "orientation": "v",
         "showlegend": true,
         "type": "scatter",
         "x": [
          "2017-05-05T00:00:00",
          "2016-03-11T00:00:00",
          "2013-08-09T00:00:00",
          "2013-05-31T00:00:00",
          "2011-03-11T00:00:00",
          "2011-02-11T00:00:00",
          "2011-01-28T00:00:00",
          "2010-11-19T00:00:00",
          "2010-09-17T00:00:00",
          "2009-10-23T00:00:00",
          "2003-05-09T00:00:00"
         ],
         "xaxis": "x",
         "y": [
          10527,
          10518,
          10485,
          10478,
          10348,
          10339,
          10332,
          10315,
          10291,
          10132,
          4661
         ],
         "yaxis": "y"
        },
        {
         "hovertemplate": "State=LA<br>DateClosing=%{x}<br>Fund=%{y}<extra></extra>",
         "legendgroup": "LA",
         "marker": {
          "color": "#636efa",
          "symbol": "circle"
         },
         "mode": "markers",
         "name": "LA",
         "orientation": "v",
         "showlegend": true,
         "type": "scatter",
         "x": [
          "2017-04-28T00:00:00",
          "2011-11-18T00:00:00",
          "2010-03-12T00:00:00",
          "2002-12-17T00:00:00"
         ],
         "xaxis": "x",
         "y": [
          10526,
          10413,
          10196,
          4659
         ],
         "yaxis": "y"
        },
        {
         "hovertemplate": "State=UT<br>DateClosing=%{x}<br>Fund=%{y}<extra></extra>",
         "legendgroup": "UT",
         "marker": {
          "color": "#EF553B",
          "symbol": "circle"
         },
         "mode": "markers",
         "name": "UT",
         "orientation": "v",
         "showlegend": true,
         "type": "scatter",
         "x": [
          "2017-03-03T00:00:00",
          "2011-11-04T00:00:00",
          "2010-03-19T00:00:00",
          "2010-03-05T00:00:00",
          "2010-01-15T00:00:00",
          "2009-05-01T00:00:00",
          "2009-01-30T00:00:00",
          "2004-06-25T00:00:00"
         ],
         "xaxis": "x",
         "y": [
          10525,
          10411,
          10200,
          10193,
          10171,
          10057,
          10031,
          4665
         ],
         "yaxis": "y"
        },
        {
         "hovertemplate": "State=AR<br>DateClosing=%{x}<br>Fund=%{y}<extra></extra>",
         "legendgroup": "AR",
         "marker": {
          "color": "#00cc96",
          "symbol": "circle"
         },
         "mode": "markers",
         "name": "AR",
         "orientation": "v",
         "showlegend": true,
         "type": "scatter",
         "x": [
          "2016-09-23T00:00:00",
          "2010-12-17T00:00:00",
          "2008-05-09T00:00:00",
          "2001-09-07T00:00:00"
         ],
         "xaxis": "x",
         "y": [
          10522,
          10322,
          10005,
          4649
         ],
         "yaxis": "y"
        },
        {
         "hovertemplate": "State=GA<br>DateClosing=%{x}<br>Fund=%{y}<extra></extra>",
         "legendgroup": "GA",
         "marker": {
          "color": "#ab63fa",
          "symbol": "circle"
         },
         "mode": "markers",
         "name": "GA",
         "orientation": "v",
         "showlegend": true,
         "type": "scatter",
         "x": [
          "2016-08-19T00:00:00",
          "2015-10-02T00:00:00",
          "2015-02-13T00:00:00",
          "2014-07-18T00:00:00",
          "2013-05-10T00:00:00",
          "2013-04-26T00:00:00",
          "2013-03-08T00:00:00",
          "2012-11-16T00:00:00",
          "2012-07-27T00:00:00",
          "2012-07-20T00:00:00",
          "2012-07-20T00:00:00",
          "2012-07-06T00:00:00",
          "2012-06-15T00:00:00",
          "2012-03-23T00:00:00",
          "2012-03-02T00:00:00",
          "2012-02-24T00:00:00",
          "2012-01-20T00:00:00",
          "2011-11-10T00:00:00",
          "2011-10-21T00:00:00",
          "2011-10-21T00:00:00",
          "2011-10-14T00:00:00",
          "2011-09-02T00:00:00",
          "2011-09-02T00:00:00",
          "2011-08-19T00:00:00",
          "2011-07-15T00:00:00",
          "2011-07-15T00:00:00",
          "2011-06-24T00:00:00",
          "2011-06-17T00:00:00",
          "2011-05-20T00:00:00",
          "2011-05-20T00:00:00",
          "2011-04-29T00:00:00",
          "2011-04-29T00:00:00",
          "2011-04-15T00:00:00",
          "2011-04-15T00:00:00",
          "2011-02-18T00:00:00",
          "2011-02-18T00:00:00",
          "2011-02-04T00:00:00",
          "2011-02-04T00:00:00",
          "2011-01-21T00:00:00",
          "2011-01-14T00:00:00",
          "2010-12-17T00:00:00",
          "2010-12-17T00:00:00",
          "2010-12-17T00:00:00",
          "2010-11-12T00:00:00",
          "2010-11-12T00:00:00",
          "2010-10-22T00:00:00",
          "2010-10-22T00:00:00",
          "2010-09-17T00:00:00",
          "2010-09-17T00:00:00",
          "2010-09-17T00:00:00",
          "2010-07-30T00:00:00",
          "2010-07-23T00:00:00",
          "2010-06-25T00:00:00",
          "2010-05-14T00:00:00",
          "2010-03-26T00:00:00",
          "2010-03-26T00:00:00",
          "2010-03-19T00:00:00",
          "2010-03-19T00:00:00",
          "2010-03-19T00:00:00",
          "2010-01-29T00:00:00",
          "2010-01-29T00:00:00",
          "2009-12-18T00:00:00",
          "2009-12-04T00:00:00",
          "2009-12-04T00:00:00",
          "2009-12-04T00:00:00",
          "2009-11-06T00:00:00",
          "2009-10-23T00:00:00",
          "2009-09-25T00:00:00",
          "2009-08-21T00:00:00",
          "2009-08-21T00:00:00",
          "2009-07-24T00:00:00",
          "2009-07-24T00:00:00",
          "2009-07-24T00:00:00",
          "2009-07-24T00:00:00",
          "2009-07-24T00:00:00",
          "2009-07-24T00:00:00",
          "2009-07-17T00:00:00",
          "2009-06-26T00:00:00",
          "2009-06-26T00:00:00",
          "2009-06-19T00:00:00",
          "2009-05-01T00:00:00",
          "2009-04-24T00:00:00",
          "2009-03-27T00:00:00",
          "2009-03-20T00:00:00",
          "2009-03-06T00:00:00",
          "2009-02-06T00:00:00",
          "2008-12-12T00:00:00",
          "2008-12-05T00:00:00",
          "2008-11-21T00:00:00",
          "2008-10-24T00:00:00",
          "2008-08-29T00:00:00",
          "2007-09-28T00:00:00",
          "2002-09-30T00:00:00"
         ],
         "xaxis": "x",
         "y": [
          10521,
          10516,
          10512,
          10504,
          10481,
          10476,
          10471,
          10466,
          10455,
          10450,
          10451,
          10448,
          10446,
          10430,
          10428,
          10426,
          10419,
          10412,
          10406,
          10407,
          10404,
          10393,
          10394,
          10391,
          10377,
          10378,
          10372,
          10371,
          10366,
          10365,
          10363,
          10361,
          10355,
          10353,
          10344,
          10345,
          10338,
          10336,
          10329,
          10327,
          10323,
          10319,
          10320,
          10312,
          10313,
          10304,
          10305,
          10292,
          10289,
          10287,
          10274,
          10265,
          10251,
          10238,
          10208,
          10207,
          10202,
          10199,
          10198,
          10180,
          10179,
          10164,
          10153,
          10157,
          10152,
          10145,
          10127,
          10122,
          10108,
          10107,
          10088,
          10087,
          10085,
          10090,
          10089,
          10086,
          10084,
          10069,
          10068,
          10067,
          10059,
          10053,
          10048,
          10047,
          10044,
          10036,
          10027,
          10025,
          10022,
          10018,
          10012,
          10001,
          4657
         ],
         "yaxis": "y"
        },
        {
         "hovertemplate": "State=PA<br>DateClosing=%{x}<br>Fund=%{y}<extra></extra>",
         "legendgroup": "PA",
         "marker": {
          "color": "#FFA15A",
          "symbol": "circle"
         },
         "mode": "markers",
         "name": "PA",
         "orientation": "v",
         "showlegend": true,
         "type": "scatter",
         "x": [
          "2016-05-06T00:00:00",
          "2014-02-28T00:00:00",
          "2012-10-26T00:00:00",
          "2012-01-20T00:00:00",
          "2011-08-18T00:00:00",
          "2010-12-10T00:00:00",
          "2010-11-19T00:00:00",
          "2009-08-14T00:00:00",
          "2007-02-02T00:00:00",
          "2003-11-14T00:00:00"
         ],
         "xaxis": "x",
         "y": [
          10520,
          10496,
          10463,
          10417,
          10389,
          10317,
          10314,
          10104,
          10000,
          4662
         ],
         "yaxis": "y"
        },
        {
         "hovertemplate": "State=TN<br>DateClosing=%{x}<br>Fund=%{y}<extra></extra>",
         "legendgroup": "TN",
         "marker": {
          "color": "#19d3f3",
          "symbol": "circle"
         },
         "mode": "markers",
         "name": "TN",
         "orientation": "v",
         "showlegend": true,
         "type": "scatter",
         "x": [
          "2016-04-29T00:00:00",
          "2013-08-23T00:00:00",
          "2013-06-07T00:00:00",
          "2012-06-15T00:00:00",
          "2012-01-27T00:00:00",
          "2012-01-27T00:00:00",
          "2002-11-08T00:00:00"
         ],
         "xaxis": "x",
         "y": [
          10519,
          10486,
          10483,
          10447,
          10420,
          10423,
          4658
         ],
         "yaxis": "y"
        },
        {
         "hovertemplate": "State=WA<br>DateClosing=%{x}<br>Fund=%{y}<extra></extra>",
         "legendgroup": "WA",
         "marker": {
          "color": "#FF6692",
          "symbol": "circle"
         },
         "mode": "markers",
         "name": "WA",
         "orientation": "v",
         "showlegend": true,
         "type": "scatter",
         "x": [
          "2015-10-02T00:00:00",
          "2013-01-11T00:00:00",
          "2011-08-05T00:00:00",
          "2011-05-27T00:00:00",
          "2011-05-20T00:00:00",
          "2010-11-05T00:00:00",
          "2010-10-01T00:00:00",
          "2010-09-24T00:00:00",
          "2010-07-30T00:00:00",
          "2010-06-11T00:00:00",
          "2010-04-30T00:00:00",
          "2010-04-16T00:00:00",
          "2010-02-26T00:00:00",
          "2010-01-29T00:00:00",
          "2010-01-22T00:00:00",
          "2010-01-08T00:00:00",
          "2009-09-11T00:00:00",
          "2009-05-08T00:00:00",
          "2009-01-16T00:00:00"
         ],
         "xaxis": "x",
         "y": [
          10517,
          10468,
          10387,
          10368,
          10367,
          10309,
          10295,
          10294,
          10275,
          10249,
          10228,
          10212,
          10189,
          10178,
          10172,
          10168,
          10119,
          10060,
          10029
         ],
         "yaxis": "y"
        },
        {
         "hovertemplate": "State=CO<br>DateClosing=%{x}<br>Fund=%{y}<extra></extra>",
         "legendgroup": "CO",
         "marker": {
          "color": "#B6E880",
          "symbol": "circle"
         },
         "mode": "markers",
         "name": "CO",
         "orientation": "v",
         "showlegend": true,
         "type": "scatter",
         "x": [
          "2015-07-10T00:00:00",
          "2011-10-21T00:00:00",
          "2011-07-22T00:00:00",
          "2011-07-08T00:00:00",
          "2011-07-08T00:00:00",
          "2011-01-28T00:00:00",
          "2011-01-21T00:00:00",
          "2009-10-02T00:00:00",
          "2009-04-10T00:00:00",
          "2009-03-20T00:00:00"
         ],
         "xaxis": "x",
         "y": [
          10515,
          10405,
          10380,
          10375,
          10373,
          10334,
          10331,
          10123,
          10050,
          10045
         ],
         "yaxis": "y"
        },
        {
         "hovertemplate": "State=PR<br>DateClosing=%{x}<br>Fund=%{y}<extra></extra>",
         "legendgroup": "PR",
         "marker": {
          "color": "#FF97FF",
          "symbol": "circle"
         },
         "mode": "markers",
         "name": "PR",
         "orientation": "v",
         "showlegend": true,
         "type": "scatter",
         "x": [
          "2015-02-27T00:00:00",
          "2010-04-30T00:00:00",
          "2010-04-30T00:00:00",
          "2010-04-30T00:00:00"
         ],
         "xaxis": "x",
         "y": [
          10513,
          10231,
          10230,
          10229
         ],
         "yaxis": "y"
        },
        {
         "hovertemplate": "State=MN<br>DateClosing=%{x}<br>Fund=%{y}<extra></extra>",
         "legendgroup": "MN",
         "marker": {
          "color": "#FECB52",
          "symbol": "circle"
         },
         "mode": "markers",
         "name": "MN",
         "orientation": "v",
         "showlegend": true,
         "type": "scatter",
         "x": [
          "2014-12-19T00:00:00",
          "2013-01-18T00:00:00",
          "2012-09-07T00:00:00",
          "2012-04-27T00:00:00",
          "2012-02-24T00:00:00",
          "2012-01-27T00:00:00",
          "2011-10-07T00:00:00",
          "2011-04-15T00:00:00",
          "2010-12-17T00:00:00",
          "2010-07-23T00:00:00",
          "2010-05-21T00:00:00",
          "2010-05-07T00:00:00",
          "2010-03-19T00:00:00",
          "2010-02-05T00:00:00",
          "2010-01-29T00:00:00",
          "2010-01-15T00:00:00",
          "2009-11-06T00:00:00",
          "2009-10-23T00:00:00",
          "2009-10-02T00:00:00",
          "2009-09-11T00:00:00",
          "2009-08-28T00:00:00",
          "2009-06-26T00:00:00",
          "2008-05-30T00:00:00"
         ],
         "xaxis": "x",
         "y": [
          10509,
          10469,
          10457,
          10436,
          10427,
          10422,
          10399,
          10357,
          10321,
          10264,
          10240,
          10233,
          10203,
          10183,
          10182,
          10169,
          10143,
          10133,
          10124,
          10118,
          10111,
          10070,
          10006
         ],
         "yaxis": "y"
        },
        {
         "hovertemplate": "State=CA<br>DateClosing=%{x}<br>Fund=%{y}<extra></extra>",
         "legendgroup": "CA",
         "marker": {
          "color": "#636efa",
          "symbol": "circle"
         },
         "mode": "markers",
         "name": "CA",
         "orientation": "v",
         "showlegend": true,
         "type": "scatter",
         "x": [
          "2014-11-07T00:00:00",
          "2012-04-27T00:00:00",
          "2011-09-23T00:00:00",
          "2011-02-18T00:00:00",
          "2011-02-18T00:00:00",
          "2011-02-11T00:00:00",
          "2010-11-05T00:00:00",
          "2010-11-05T00:00:00",
          "2010-08-20T00:00:00",
          "2010-08-20T00:00:00",
          "2010-08-20T00:00:00",
          "2010-08-20T00:00:00",
          "2010-05-28T00:00:00",
          "2010-05-07T00:00:00",
          "2010-04-16T00:00:00",
          "2010-04-16T00:00:00",
          "2010-02-19T00:00:00",
          "2010-01-29T00:00:00",
          "2009-12-18T00:00:00",
          "2009-12-18T00:00:00",
          "2009-11-13T00:00:00",
          "2009-11-06T00:00:00",
          "2009-10-30T00:00:00",
          "2009-10-30T00:00:00",
          "2009-10-30T00:00:00",
          "2009-10-16T00:00:00",
          "2009-08-28T00:00:00",
          "2009-07-17T00:00:00",
          "2009-07-17T00:00:00",
          "2009-06-26T00:00:00",
          "2009-06-26T00:00:00",
          "2009-04-24T00:00:00",
          "2009-02-06T00:00:00",
          "2009-02-06T00:00:00",
          "2009-01-23T00:00:00",
          "2008-11-21T00:00:00",
          "2008-11-21T00:00:00",
          "2008-11-07T00:00:00",
          "2008-07-25T00:00:00",
          "2008-07-11T00:00:00",
          "2003-02-07T00:00:00"
         ],
         "xaxis": "x",
         "y": [
          10508,
          10437,
          10397,
          10346,
          10343,
          10340,
          10307,
          10310,
          10285,
          10282,
          10278,
          10283,
          10244,
          10232,
          10217,
          10214,
          10185,
          10177,
          10167,
          10161,
          10150,
          10147,
          10139,
          10134,
          10135,
          10126,
          10110,
          10082,
          10083,
          10072,
          10071,
          10054,
          10034,
          10035,
          10030,
          10024,
          10023,
          10020,
          10009,
          10007,
          4660
         ],
         "yaxis": "y"
        },
        {
         "hovertemplate": "State=MD<br>DateClosing=%{x}<br>Fund=%{y}<extra></extra>",
         "legendgroup": "MD",
         "marker": {
          "color": "#EF553B",
          "symbol": "circle"
         },
         "mode": "markers",
         "name": "MD",
         "orientation": "v",
         "showlegend": true,
         "type": "scatter",
         "x": [
          "2014-10-17T00:00:00",
          "2014-05-30T00:00:00",
          "2012-04-27T00:00:00",
          "2012-04-27T00:00:00",
          "2010-11-05T00:00:00",
          "2010-07-09T00:00:00",
          "2010-07-09T00:00:00",
          "2010-03-05T00:00:00",
          "2009-08-28T00:00:00",
          "2009-01-30T00:00:00"
         ],
         "xaxis": "x",
         "y": [
          10506,
          10500,
          10435,
          10434,
          10308,
          10257,
          10255,
          10190,
          10109,
          10033
         ],
         "yaxis": "y"
        },
        {
         "hovertemplate": "State=OK<br>DateClosing=%{x}<br>Fund=%{y}<extra></extra>",
         "legendgroup": "OK",
         "marker": {
          "color": "#00cc96",
          "symbol": "circle"
         },
         "mode": "markers",
         "name": "OK",
         "orientation": "v",
         "showlegend": true,
         "type": "scatter",
         "x": [
          "2014-06-27T00:00:00",
          "2014-01-24T00:00:00",
          "2012-06-08T00:00:00",
          "2011-03-11T00:00:00",
          "2011-01-28T00:00:00",
          "2010-07-09T00:00:00",
          "2009-07-31T00:00:00"
         ],
         "xaxis": "x",
         "y": [
          10503,
          10493,
          10443,
          10349,
          10335,
          10256,
          10093
         ],
         "yaxis": "y"
        },
        {
         "hovertemplate": "State=SC<br>DateClosing=%{x}<br>Fund=%{y}<extra></extra>",
         "legendgroup": "SC",
         "marker": {
          "color": "#ab63fa",
          "symbol": "circle"
         },
         "mode": "markers",
         "name": "SC",
         "orientation": "v",
         "showlegend": true,
         "type": "scatter",
         "x": [
          "2014-04-25T00:00:00",
          "2012-06-08T00:00:00",
          "2012-04-27T00:00:00",
          "2011-07-29T00:00:00",
          "2011-06-03T00:00:00",
          "2011-01-21T00:00:00",
          "2010-07-23T00:00:00",
          "2010-07-16T00:00:00",
          "2010-07-16T00:00:00",
          "2010-04-09T00:00:00"
         ],
         "xaxis": "x",
         "y": [
          10497,
          10441,
          10438,
          10383,
          10369,
          10328,
          10270,
          10263,
          10262,
          10209
         ],
         "yaxis": "y"
        },
        {
         "hovertemplate": "State=VA<br>DateClosing=%{x}<br>Fund=%{y}<extra></extra>",
         "legendgroup": "VA",
         "marker": {
          "color": "#FFA15A",
          "symbol": "circle"
         },
         "mode": "markers",
         "name": "VA",
         "orientation": "v",
         "showlegend": true,
         "type": "scatter",
         "x": [
          "2014-02-28T00:00:00",
          "2011-09-23T00:00:00",
          "2011-07-29T00:00:00",
          "2010-08-20T00:00:00",
          "2009-12-04T00:00:00"
         ],
         "xaxis": "x",
         "y": [
          10495,
          10396,
          10385,
          10280,
          10156
         ],
         "yaxis": "y"
        },
        {
         "hovertemplate": "State=ID<br>DateClosing=%{x}<br>Fund=%{y}<extra></extra>",
         "legendgroup": "ID",
         "marker": {
          "color": "#19d3f3",
          "symbol": "circle"
         },
         "mode": "markers",
         "name": "ID",
         "orientation": "v",
         "showlegend": true,
         "type": "scatter",
         "x": [
          "2014-01-31T00:00:00",
          "2009-04-24T00:00:00"
         ],
         "xaxis": "x",
         "y": [
          10494,
          10055
         ],
         "yaxis": "y"
        },
        {
         "hovertemplate": "State=CT<br>DateClosing=%{x}<br>Fund=%{y}<extra></extra>",
         "legendgroup": "CT",
         "marker": {
          "color": "#FF6692",
          "symbol": "circle"
         },
         "mode": "markers",
         "name": "CT",
         "orientation": "v",
         "showlegend": true,
         "type": "scatter",
         "x": [
          "2013-09-13T00:00:00",
          "2002-06-26T00:00:00"
         ],
         "xaxis": "x",
         "y": [
          10489,
          4656
         ],
         "yaxis": "y"
        },
        {
         "hovertemplate": "State=AZ<br>DateClosing=%{x}<br>Fund=%{y}<extra></extra>",
         "legendgroup": "AZ",
         "marker": {
          "color": "#B6E880",
          "symbol": "circle"
         },
         "mode": "markers",
         "name": "AZ",
         "orientation": "v",
         "showlegend": true,
         "type": "scatter",
         "x": [
          "2013-08-23T00:00:00",
          "2013-05-14T00:00:00",
          "2013-04-05T00:00:00",
          "2011-12-16T00:00:00",
          "2011-07-15T00:00:00",
          "2011-01-07T00:00:00",
          "2010-11-12T00:00:00",
          "2010-10-22T00:00:00",
          "2010-05-07T00:00:00",
          "2010-03-26T00:00:00",
          "2009-12-11T00:00:00",
          "2009-10-30T00:00:00",
          "2009-09-04T00:00:00",
          "2009-08-14T00:00:00",
          "2009-08-14T00:00:00",
          "2002-02-07T00:00:00"
         ],
         "xaxis": "x",
         "y": [
          10487,
          10479,
          10472,
          10416,
          10379,
          10326,
          10311,
          10306,
          10235,
          10205,
          10159,
          10136,
          10114,
          10101,
          10102,
          4653
         ],
         "yaxis": "y"
        },
        {
         "hovertemplate": "State=NV<br>DateClosing=%{x}<br>Fund=%{y}<extra></extra>",
         "legendgroup": "NV",
         "marker": {
          "color": "#FF97FF",
          "symbol": "circle"
         },
         "mode": "markers",
         "name": "NV",
         "orientation": "v",
         "showlegend": true,
         "type": "scatter",
         "x": [
          "2013-06-06T00:00:00",
          "2011-04-08T00:00:00",
          "2010-07-23T00:00:00",
          "2010-06-18T00:00:00",
          "2010-05-28T00:00:00",
          "2010-02-26T00:00:00",
          "2009-08-14T00:00:00",
          "2009-04-17T00:00:00",
          "2009-02-27T00:00:00",
          "2008-09-25T00:00:00",
          "2008-09-05T00:00:00",
          "2008-07-25T00:00:00"
         ],
         "xaxis": "x",
         "y": [
          10482,
          10351,
          10267,
          10250,
          10245,
          10188,
          10100,
          10051,
          10043,
          10015,
          10013,
          10008
         ],
         "yaxis": "y"
        },
        {
         "hovertemplate": "State=NC<br>DateClosing=%{x}<br>Fund=%{y}<extra></extra>",
         "legendgroup": "NC",
         "marker": {
          "color": "#FECB52",
          "symbol": "circle"
         },
         "mode": "markers",
         "name": "NC",
         "orientation": "v",
         "showlegend": true,
         "type": "scatter",
         "x": [
          "2013-05-10T00:00:00",
          "2013-04-26T00:00:00",
          "2012-06-08T00:00:00",
          "2011-10-14T00:00:00",
          "2011-01-21T00:00:00",
          "2009-06-19T00:00:00",
          "2009-04-10T00:00:00"
         ],
         "xaxis": "x",
         "y": [
          10480,
          10477,
          10444,
          10401,
          10330,
          10065,
          10049
         ],
         "yaxis": "y"
        },
        {
         "hovertemplate": "State=MO<br>DateClosing=%{x}<br>Fund=%{y}<extra></extra>",
         "legendgroup": "MO",
         "marker": {
          "color": "#636efa",
          "symbol": "circle"
         },
         "mode": "markers",
         "name": "MO",
         "orientation": "v",
         "showlegend": true,
         "type": "scatter",
         "x": [
          "2012-12-14T00:00:00",
          "2012-10-19T00:00:00",
          "2012-09-14T00:00:00",
          "2012-07-13T00:00:00",
          "2011-10-07T00:00:00",
          "2010-10-15T00:00:00",
          "2010-10-15T00:00:00",
          "2010-05-14T00:00:00",
          "2010-04-30T00:00:00",
          "2010-04-30T00:00:00",
          "2010-01-22T00:00:00",
          "2009-11-06T00:00:00",
          "2009-09-04T00:00:00",
          "2009-04-17T00:00:00",
          "2008-03-07T00:00:00",
          "2008-01-25T00:00:00"
         ],
         "xaxis": "x",
         "y": [
          10467,
          10460,
          10458,
          10449,
          10400,
          10297,
          10299,
          10239,
          10225,
          10227,
          10174,
          10146,
          10112,
          10052,
          10004,
          10003
         ],
         "yaxis": "y"
        },
        {
         "hovertemplate": "State=AL<br>DateClosing=%{x}<br>Fund=%{y}<extra></extra>",
         "legendgroup": "AL",
         "marker": {
          "color": "#EF553B",
          "symbol": "circle"
         },
         "mode": "markers",
         "name": "AL",
         "orientation": "v",
         "showlegend": true,
         "type": "scatter",
         "x": [
          "2012-05-18T00:00:00",
          "2011-04-15T00:00:00",
          "2011-04-15T00:00:00",
          "2010-03-19T00:00:00",
          "2009-12-18T00:00:00",
          "2009-08-21T00:00:00",
          "2009-08-14T00:00:00"
         ],
         "xaxis": "x",
         "y": [
          10440,
          10358,
          10356,
          10204,
          10163,
          10106,
          10103
         ],
         "yaxis": "y"
        },
        {
         "hovertemplate": "State=MI<br>DateClosing=%{x}<br>Fund=%{y}<extra></extra>",
         "legendgroup": "MI",
         "marker": {
          "color": "#00cc96",
          "symbol": "circle"
         },
         "mode": "markers",
         "name": "MI",
         "orientation": "v",
         "showlegend": true,
         "type": "scatter",
         "x": [
          "2012-03-30T00:00:00",
          "2011-04-29T00:00:00",
          "2011-02-11T00:00:00",
          "2010-12-10T00:00:00",
          "2010-07-16T00:00:00",
          "2010-05-14T00:00:00",
          "2010-04-30T00:00:00",
          "2010-04-16T00:00:00",
          "2009-12-18T00:00:00",
          "2009-11-06T00:00:00",
          "2009-10-02T00:00:00",
          "2009-04-24T00:00:00",
          "2008-10-10T00:00:00",
          "2002-03-28T00:00:00"
         ],
         "xaxis": "x",
         "y": [
          10432,
          10359,
          10341,
          10318,
          10258,
          10237,
          10226,
          10215,
          10162,
          10144,
          10125,
          10056,
          10016,
          4655
         ],
         "yaxis": "y"
        },
        {
         "hovertemplate": "State=IN<br>DateClosing=%{x}<br>Fund=%{y}<extra></extra>",
         "legendgroup": "IN",
         "marker": {
          "color": "#ab63fa",
          "symbol": "circle"
         },
         "mode": "markers",
         "name": "IN",
         "orientation": "v",
         "showlegend": true,
         "type": "scatter",
         "x": [
          "2012-02-10T00:00:00",
          "2011-07-29T00:00:00",
          "2009-09-18T00:00:00"
         ],
         "xaxis": "x",
         "y": [
          10425,
          10384,
          10120
         ],
         "yaxis": "y"
        },
        {
         "hovertemplate": "State=IA<br>DateClosing=%{x}<br>Fund=%{y}<extra></extra>",
         "legendgroup": "IA",
         "marker": {
          "color": "#FFA15A",
          "symbol": "circle"
         },
         "mode": "markers",
         "name": "IA",
         "orientation": "v",
         "showlegend": true,
         "type": "scatter",
         "x": [
          "2011-11-18T00:00:00",
          "2009-09-04T00:00:00"
         ],
         "xaxis": "x",
         "y": [
          10414,
          10116
         ],
         "yaxis": "y"
        },
        {
         "hovertemplate": "State=MS<br>DateClosing=%{x}<br>Fund=%{y}<extra></extra>",
         "legendgroup": "MS",
         "marker": {
          "color": "#19d3f3",
          "symbol": "circle"
         },
         "mode": "markers",
         "name": "MS",
         "orientation": "v",
         "showlegend": true,
         "type": "scatter",
         "x": [
          "2011-04-15T00:00:00",
          "2010-06-04T00:00:00"
         ],
         "xaxis": "x",
         "y": [
          10354,
          10247
         ],
         "yaxis": "y"
        },
        {
         "hovertemplate": "State=NM<br>DateClosing=%{x}<br>Fund=%{y}<extra></extra>",
         "legendgroup": "NM",
         "marker": {
          "color": "#FF6692",
          "symbol": "circle"
         },
         "mode": "markers",
         "name": "NM",
         "orientation": "v",
         "showlegend": true,
         "type": "scatter",
         "x": [
          "2011-01-28T00:00:00",
          "2010-06-25T00:00:00",
          "2010-01-22T00:00:00"
         ],
         "xaxis": "x",
         "y": [
          10333,
          10252,
          10175
         ],
         "yaxis": "y"
        },
        {
         "hovertemplate": "State=OR<br>DateClosing=%{x}<br>Fund=%{y}<extra></extra>",
         "legendgroup": "OR",
         "marker": {
          "color": "#B6E880",
          "symbol": "circle"
         },
         "mode": "markers",
         "name": "OR",
         "orientation": "v",
         "showlegend": true,
         "type": "scatter",
         "x": [
          "2010-07-30T00:00:00",
          "2010-07-23T00:00:00",
          "2010-01-22T00:00:00",
          "2009-08-07T00:00:00",
          "2009-02-20T00:00:00",
          "2009-02-13T00:00:00"
         ],
         "xaxis": "x",
         "y": [
          10273,
          10266,
          10176,
          10092,
          10041,
          10040
         ],
         "yaxis": "y"
        },
        {
         "hovertemplate": "State=NY<br>DateClosing=%{x}<br>Fund=%{y}<extra></extra>",
         "legendgroup": "NY",
         "marker": {
          "color": "#FF97FF",
          "symbol": "circle"
         },
         "mode": "markers",
         "name": "NY",
         "orientation": "v",
         "showlegend": true,
         "type": "scatter",
         "x": [
          "2010-07-09T00:00:00",
          "2010-03-12T00:00:00",
          "2010-03-11T00:00:00",
          "2009-07-24T00:00:00",
          "2004-03-19T00:00:00"
         ],
         "xaxis": "x",
         "y": [
          10254,
          10195,
          10194,
          10091,
          4664
         ],
         "yaxis": "y"
        },
        {
         "hovertemplate": "State=MA<br>DateClosing=%{x}<br>Fund=%{y}<extra></extra>",
         "legendgroup": "MA",
         "marker": {
          "color": "#FECB52",
          "symbol": "circle"
         },
         "mode": "markers",
         "name": "MA",
         "orientation": "v",
         "showlegend": true,
         "type": "scatter",
         "x": [
          "2010-04-16T00:00:00"
         ],
         "xaxis": "x",
         "y": [
          10211
         ],
         "yaxis": "y"
        },
        {
         "hovertemplate": "State=SD<br>DateClosing=%{x}<br>Fund=%{y}<extra></extra>",
         "legendgroup": "SD",
         "marker": {
          "color": "#636efa",
          "symbol": "circle"
         },
         "mode": "markers",
         "name": "SD",
         "orientation": "v",
         "showlegend": true,
         "type": "scatter",
         "x": [
          "2009-07-17T00:00:00"
         ],
         "xaxis": "x",
         "y": [
          10081
         ],
         "yaxis": "y"
        },
        {
         "hovertemplate": "State=WY<br>DateClosing=%{x}<br>Fund=%{y}<extra></extra>",
         "legendgroup": "WY",
         "marker": {
          "color": "#EF553B",
          "symbol": "circle"
         },
         "mode": "markers",
         "name": "WY",
         "orientation": "v",
         "showlegend": true,
         "type": "scatter",
         "x": [
          "2009-07-10T00:00:00"
         ],
         "xaxis": "x",
         "y": [
          10080
         ],
         "yaxis": "y"
        },
        {
         "hovertemplate": "State=NH<br>DateClosing=%{x}<br>Fund=%{y}<extra></extra>",
         "legendgroup": "NH",
         "marker": {
          "color": "#00cc96",
          "symbol": "circle"
         },
         "mode": "markers",
         "name": "NH",
         "orientation": "v",
         "showlegend": true,
         "type": "scatter",
         "x": [
          "2001-02-02T00:00:00"
         ],
         "xaxis": "x",
         "y": [
          4647
         ],
         "yaxis": "y"
        },
        {
         "hovertemplate": "State=HI<br>DateClosing=%{x}<br>Fund=%{y}<extra></extra>",
         "legendgroup": "HI",
         "marker": {
          "color": "#ab63fa",
          "symbol": "circle"
         },
         "mode": "markers",
         "name": "HI",
         "orientation": "v",
         "showlegend": true,
         "type": "scatter",
         "x": [
          "2000-10-13T00:00:00"
         ],
         "xaxis": "x",
         "y": [
          4645
         ],
         "yaxis": "y"
        }
       ],
       "layout": {
        "autosize": true,
        "legend": {
         "title": {
          "text": "State"
         },
         "tracegroupgap": 0
        },
        "margin": {
         "t": 60
        },
        "template": {
         "data": {
          "bar": [
           {
            "error_x": {
             "color": "#2a3f5f"
            },
            "error_y": {
             "color": "#2a3f5f"
            },
            "marker": {
             "line": {
              "color": "#E5ECF6",
              "width": 0.5
             },
             "pattern": {
              "fillmode": "overlay",
              "size": 10,
              "solidity": 0.2
             }
            },
            "type": "bar"
           }
          ],
          "barpolar": [
           {
            "marker": {
             "line": {
              "color": "#E5ECF6",
              "width": 0.5
             },
             "pattern": {
              "fillmode": "overlay",
              "size": 10,
              "solidity": 0.2
             }
            },
            "type": "barpolar"
           }
          ],
          "carpet": [
           {
            "aaxis": {
             "endlinecolor": "#2a3f5f",
             "gridcolor": "white",
             "linecolor": "white",
             "minorgridcolor": "white",
             "startlinecolor": "#2a3f5f"
            },
            "baxis": {
             "endlinecolor": "#2a3f5f",
             "gridcolor": "white",
             "linecolor": "white",
             "minorgridcolor": "white",
             "startlinecolor": "#2a3f5f"
            },
            "type": "carpet"
           }
          ],
          "choropleth": [
           {
            "colorbar": {
             "outlinewidth": 0,
             "ticks": ""
            },
            "type": "choropleth"
           }
          ],
          "contour": [
           {
            "colorbar": {
             "outlinewidth": 0,
             "ticks": ""
            },
            "colorscale": [
             [
              0,
              "#0d0887"
             ],
             [
              0.1111111111111111,
              "#46039f"
             ],
             [
              0.2222222222222222,
              "#7201a8"
             ],
             [
              0.3333333333333333,
              "#9c179e"
             ],
             [
              0.4444444444444444,
              "#bd3786"
             ],
             [
              0.5555555555555556,
              "#d8576b"
             ],
             [
              0.6666666666666666,
              "#ed7953"
             ],
             [
              0.7777777777777778,
              "#fb9f3a"
             ],
             [
              0.8888888888888888,
              "#fdca26"
             ],
             [
              1,
              "#f0f921"
             ]
            ],
            "type": "contour"
           }
          ],
          "contourcarpet": [
           {
            "colorbar": {
             "outlinewidth": 0,
             "ticks": ""
            },
            "type": "contourcarpet"
           }
          ],
          "heatmap": [
           {
            "colorbar": {
             "outlinewidth": 0,
             "ticks": ""
            },
            "colorscale": [
             [
              0,
              "#0d0887"
             ],
             [
              0.1111111111111111,
              "#46039f"
             ],
             [
              0.2222222222222222,
              "#7201a8"
             ],
             [
              0.3333333333333333,
              "#9c179e"
             ],
             [
              0.4444444444444444,
              "#bd3786"
             ],
             [
              0.5555555555555556,
              "#d8576b"
             ],
             [
              0.6666666666666666,
              "#ed7953"
             ],
             [
              0.7777777777777778,
              "#fb9f3a"
             ],
             [
              0.8888888888888888,
              "#fdca26"
             ],
             [
              1,
              "#f0f921"
             ]
            ],
            "type": "heatmap"
           }
          ],
          "heatmapgl": [
           {
            "colorbar": {
             "outlinewidth": 0,
             "ticks": ""
            },
            "colorscale": [
             [
              0,
              "#0d0887"
             ],
             [
              0.1111111111111111,
              "#46039f"
             ],
             [
              0.2222222222222222,
              "#7201a8"
             ],
             [
              0.3333333333333333,
              "#9c179e"
             ],
             [
              0.4444444444444444,
              "#bd3786"
             ],
             [
              0.5555555555555556,
              "#d8576b"
             ],
             [
              0.6666666666666666,
              "#ed7953"
             ],
             [
              0.7777777777777778,
              "#fb9f3a"
             ],
             [
              0.8888888888888888,
              "#fdca26"
             ],
             [
              1,
              "#f0f921"
             ]
            ],
            "type": "heatmapgl"
           }
          ],
          "histogram": [
           {
            "marker": {
             "pattern": {
              "fillmode": "overlay",
              "size": 10,
              "solidity": 0.2
             }
            },
            "type": "histogram"
           }
          ],
          "histogram2d": [
           {
            "colorbar": {
             "outlinewidth": 0,
             "ticks": ""
            },
            "colorscale": [
             [
              0,
              "#0d0887"
             ],
             [
              0.1111111111111111,
              "#46039f"
             ],
             [
              0.2222222222222222,
              "#7201a8"
             ],
             [
              0.3333333333333333,
              "#9c179e"
             ],
             [
              0.4444444444444444,
              "#bd3786"
             ],
             [
              0.5555555555555556,
              "#d8576b"
             ],
             [
              0.6666666666666666,
              "#ed7953"
             ],
             [
              0.7777777777777778,
              "#fb9f3a"
             ],
             [
              0.8888888888888888,
              "#fdca26"
             ],
             [
              1,
              "#f0f921"
             ]
            ],
            "type": "histogram2d"
           }
          ],
          "histogram2dcontour": [
           {
            "colorbar": {
             "outlinewidth": 0,
             "ticks": ""
            },
            "colorscale": [
             [
              0,
              "#0d0887"
             ],
             [
              0.1111111111111111,
              "#46039f"
             ],
             [
              0.2222222222222222,
              "#7201a8"
             ],
             [
              0.3333333333333333,
              "#9c179e"
             ],
             [
              0.4444444444444444,
              "#bd3786"
             ],
             [
              0.5555555555555556,
              "#d8576b"
             ],
             [
              0.6666666666666666,
              "#ed7953"
             ],
             [
              0.7777777777777778,
              "#fb9f3a"
             ],
             [
              0.8888888888888888,
              "#fdca26"
             ],
             [
              1,
              "#f0f921"
             ]
            ],
            "type": "histogram2dcontour"
           }
          ],
          "mesh3d": [
           {
            "colorbar": {
             "outlinewidth": 0,
             "ticks": ""
            },
            "type": "mesh3d"
           }
          ],
          "parcoords": [
           {
            "line": {
             "colorbar": {
              "outlinewidth": 0,
              "ticks": ""
             }
            },
            "type": "parcoords"
           }
          ],
          "pie": [
           {
            "automargin": true,
            "type": "pie"
           }
          ],
          "scatter": [
           {
            "marker": {
             "colorbar": {
              "outlinewidth": 0,
              "ticks": ""
             }
            },
            "type": "scatter"
           }
          ],
          "scatter3d": [
           {
            "line": {
             "colorbar": {
              "outlinewidth": 0,
              "ticks": ""
             }
            },
            "marker": {
             "colorbar": {
              "outlinewidth": 0,
              "ticks": ""
             }
            },
            "type": "scatter3d"
           }
          ],
          "scattercarpet": [
           {
            "marker": {
             "colorbar": {
              "outlinewidth": 0,
              "ticks": ""
             }
            },
            "type": "scattercarpet"
           }
          ],
          "scattergeo": [
           {
            "marker": {
             "colorbar": {
              "outlinewidth": 0,
              "ticks": ""
             }
            },
            "type": "scattergeo"
           }
          ],
          "scattergl": [
           {
            "marker": {
             "colorbar": {
              "outlinewidth": 0,
              "ticks": ""
             }
            },
            "type": "scattergl"
           }
          ],
          "scattermapbox": [
           {
            "marker": {
             "colorbar": {
              "outlinewidth": 0,
              "ticks": ""
             }
            },
            "type": "scattermapbox"
           }
          ],
          "scatterpolar": [
           {
            "marker": {
             "colorbar": {
              "outlinewidth": 0,
              "ticks": ""
             }
            },
            "type": "scatterpolar"
           }
          ],
          "scatterpolargl": [
           {
            "marker": {
             "colorbar": {
              "outlinewidth": 0,
              "ticks": ""
             }
            },
            "type": "scatterpolargl"
           }
          ],
          "scatterternary": [
           {
            "marker": {
             "colorbar": {
              "outlinewidth": 0,
              "ticks": ""
             }
            },
            "type": "scatterternary"
           }
          ],
          "surface": [
           {
            "colorbar": {
             "outlinewidth": 0,
             "ticks": ""
            },
            "colorscale": [
             [
              0,
              "#0d0887"
             ],
             [
              0.1111111111111111,
              "#46039f"
             ],
             [
              0.2222222222222222,
              "#7201a8"
             ],
             [
              0.3333333333333333,
              "#9c179e"
             ],
             [
              0.4444444444444444,
              "#bd3786"
             ],
             [
              0.5555555555555556,
              "#d8576b"
             ],
             [
              0.6666666666666666,
              "#ed7953"
             ],
             [
              0.7777777777777778,
              "#fb9f3a"
             ],
             [
              0.8888888888888888,
              "#fdca26"
             ],
             [
              1,
              "#f0f921"
             ]
            ],
            "type": "surface"
           }
          ],
          "table": [
           {
            "cells": {
             "fill": {
              "color": "#EBF0F8"
             },
             "line": {
              "color": "white"
             }
            },
            "header": {
             "fill": {
              "color": "#C8D4E3"
             },
             "line": {
              "color": "white"
             }
            },
            "type": "table"
           }
          ]
         },
         "layout": {
          "annotationdefaults": {
           "arrowcolor": "#2a3f5f",
           "arrowhead": 0,
           "arrowwidth": 1
          },
          "autotypenumbers": "strict",
          "coloraxis": {
           "colorbar": {
            "outlinewidth": 0,
            "ticks": ""
           }
          },
          "colorscale": {
           "diverging": [
            [
             0,
             "#8e0152"
            ],
            [
             0.1,
             "#c51b7d"
            ],
            [
             0.2,
             "#de77ae"
            ],
            [
             0.3,
             "#f1b6da"
            ],
            [
             0.4,
             "#fde0ef"
            ],
            [
             0.5,
             "#f7f7f7"
            ],
            [
             0.6,
             "#e6f5d0"
            ],
            [
             0.7,
             "#b8e186"
            ],
            [
             0.8,
             "#7fbc41"
            ],
            [
             0.9,
             "#4d9221"
            ],
            [
             1,
             "#276419"
            ]
           ],
           "sequential": [
            [
             0,
             "#0d0887"
            ],
            [
             0.1111111111111111,
             "#46039f"
            ],
            [
             0.2222222222222222,
             "#7201a8"
            ],
            [
             0.3333333333333333,
             "#9c179e"
            ],
            [
             0.4444444444444444,
             "#bd3786"
            ],
            [
             0.5555555555555556,
             "#d8576b"
            ],
            [
             0.6666666666666666,
             "#ed7953"
            ],
            [
             0.7777777777777778,
             "#fb9f3a"
            ],
            [
             0.8888888888888888,
             "#fdca26"
            ],
            [
             1,
             "#f0f921"
            ]
           ],
           "sequentialminus": [
            [
             0,
             "#0d0887"
            ],
            [
             0.1111111111111111,
             "#46039f"
            ],
            [
             0.2222222222222222,
             "#7201a8"
            ],
            [
             0.3333333333333333,
             "#9c179e"
            ],
            [
             0.4444444444444444,
             "#bd3786"
            ],
            [
             0.5555555555555556,
             "#d8576b"
            ],
            [
             0.6666666666666666,
             "#ed7953"
            ],
            [
             0.7777777777777778,
             "#fb9f3a"
            ],
            [
             0.8888888888888888,
             "#fdca26"
            ],
            [
             1,
             "#f0f921"
            ]
           ]
          },
          "colorway": [
           "#636efa",
           "#EF553B",
           "#00cc96",
           "#ab63fa",
           "#FFA15A",
           "#19d3f3",
           "#FF6692",
           "#B6E880",
           "#FF97FF",
           "#FECB52"
          ],
          "font": {
           "color": "#2a3f5f"
          },
          "geo": {
           "bgcolor": "white",
           "lakecolor": "white",
           "landcolor": "#E5ECF6",
           "showlakes": true,
           "showland": true,
           "subunitcolor": "white"
          },
          "hoverlabel": {
           "align": "left"
          },
          "hovermode": "closest",
          "mapbox": {
           "style": "light"
          },
          "paper_bgcolor": "white",
          "plot_bgcolor": "#E5ECF6",
          "polar": {
           "angularaxis": {
            "gridcolor": "white",
            "linecolor": "white",
            "ticks": ""
           },
           "bgcolor": "#E5ECF6",
           "radialaxis": {
            "gridcolor": "white",
            "linecolor": "white",
            "ticks": ""
           }
          },
          "scene": {
           "xaxis": {
            "backgroundcolor": "#E5ECF6",
            "gridcolor": "white",
            "gridwidth": 2,
            "linecolor": "white",
            "showbackground": true,
            "ticks": "",
            "zerolinecolor": "white"
           },
           "yaxis": {
            "backgroundcolor": "#E5ECF6",
            "gridcolor": "white",
            "gridwidth": 2,
            "linecolor": "white",
            "showbackground": true,
            "ticks": "",
            "zerolinecolor": "white"
           },
           "zaxis": {
            "backgroundcolor": "#E5ECF6",
            "gridcolor": "white",
            "gridwidth": 2,
            "linecolor": "white",
            "showbackground": true,
            "ticks": "",
            "zerolinecolor": "white"
           }
          },
          "shapedefaults": {
           "line": {
            "color": "#2a3f5f"
           }
          },
          "ternary": {
           "aaxis": {
            "gridcolor": "white",
            "linecolor": "white",
            "ticks": ""
           },
           "baxis": {
            "gridcolor": "white",
            "linecolor": "white",
            "ticks": ""
           },
           "bgcolor": "#E5ECF6",
           "caxis": {
            "gridcolor": "white",
            "linecolor": "white",
            "ticks": ""
           }
          },
          "title": {
           "x": 0.05
          },
          "xaxis": {
           "automargin": true,
           "gridcolor": "white",
           "linecolor": "white",
           "ticks": "",
           "title": {
            "standoff": 15
           },
           "zerolinecolor": "white",
           "zerolinewidth": 2
          },
          "yaxis": {
           "automargin": true,
           "gridcolor": "white",
           "linecolor": "white",
           "ticks": "",
           "title": {
            "standoff": 15
           },
           "zerolinecolor": "white",
           "zerolinewidth": 2
          }
         }
        },
        "xaxis": {
         "anchor": "y",
         "autorange": false,
         "domain": [
          0,
          1
         ],
         "range": [
          "1999-08-16 00:48:34.879",
          "2021-12-20 23:11:25.1212"
         ],
         "title": {
          "text": "DateClosing"
         },
         "type": "date"
        },
        "yaxis": {
         "anchor": "x",
         "autorange": false,
         "domain": [
          0,
          1
         ],
         "range": [
          4188.717847769027,
          10994.282152230975
         ],
         "title": {
          "text": "Fund"
         },
         "type": "linear"
        }
       }
      },
      "image/png": "[encoded data removed]",
      "text/html": [
       "<div>                            <div id=\"662b3de9-abf4-4875-9577-892c8da44edd\" class=\"plotly-graph-div\" style=\"height:525px; width:100%;\"></div>            <script type=\"text/javascript\">                require([\"plotly\"], function(Plotly) {                    window.PLOTLYENV=window.PLOTLYENV || {};                                    if (document.getElementById(\"662b3de9-abf4-4875-9577-892c8da44edd\")) {                    Plotly.newPlot(                        \"662b3de9-abf4-4875-9577-892c8da44edd\",                        [{\"hovertemplate\":\"State=KS<br>DateClosing=%{x}<br>Fund=%{y}<extra></extra>\",\"legendgroup\":\"KS\",\"marker\":{\"color\":\"#636efa\",\"symbol\":\"circle\"},\"mode\":\"markers\",\"name\":\"KS\",\"orientation\":\"v\",\"showlegend\":true,\"x\":[\"2020-10-23T00:00:00\",\"2017-10-13T00:00:00\",\"2012-07-20T00:00:00\",\"2011-08-12T00:00:00\",\"2010-10-22T00:00:00\",\"2010-10-15T00:00:00\",\"2010-07-23T00:00:00\",\"2009-12-11T00:00:00\",\"2009-06-19T00:00:00\",\"2009-03-20T00:00:00\",\"2008-08-22T00:00:00\"],\"xaxis\":\"x\",\"y\":[10538,10529,10452,10388,10302,10298,10269,10160,10066,10046,10011],\"yaxis\":\"y\",\"type\":\"scatter\"},{\"hovertemplate\":\"State=FL<br>DateClosing=%{x}<br>Fund=%{y}<extra></extra>\",\"legendgroup\":\"FL\",\"marker\":{\"color\":\"#EF553B\",\"symbol\":\"circle\"},\"mode\":\"markers\",\"name\":\"FL\",\"orientation\":\"v\",\"showlegend\":true,\"x\":[\"2020-10-16T00:00:00\",\"2015-01-16T00:00:00\",\"2014-06-20T00:00:00\",\"2013-10-30T00:00:00\",\"2013-08-02T00:00:00\",\"2013-04-19T00:00:00\",\"2013-04-19T00:00:00\",\"2012-11-02T00:00:00\",\"2012-10-19T00:00:00\",\"2012-10-19T00:00:00\",\"2012-07-20T00:00:00\",\"2012-06-15T00:00:00\",\"2012-05-04T00:00:00\",\"2012-01-27T00:00:00\",\"2012-01-20T00:00:00\",\"2011-12-16T00:00:00\",\"2011-10-21T00:00:00\",\"2011-09-09T00:00:00\",\"2011-08-19T00:00:00\",\"2011-07-22T00:00:00\",\"2011-07-22T00:00:00\",\"2011-07-15T00:00:00\",\"2011-06-17T00:00:00\",\"2011-05-06T00:00:00\",\"2011-04-29T00:00:00\",\"2011-04-29T00:00:00\",\"2011-02-11T00:00:00\",\"2011-01-07T00:00:00\",\"2010-12-17T00:00:00\",\"2010-11-19T00:00:00\",\"2010-10-22T00:00:00\",\"2010-10-22T00:00:00\",\"2010-10-01T00:00:00\",\"2010-09-24T00:00:00\",\"2010-09-10T00:00:00\",\"2010-08-20T00:00:00\",\"2010-08-20T00:00:00\",\"2010-07-30T00:00:00\",\"2010-07-30T00:00:00\",\"2010-07-23T00:00:00\",\"2010-07-16T00:00:00\",\"2010-07-16T00:00:00\",\"2010-07-16T00:00:00\",\"2010-06-25T00:00:00\",\"2010-05-28T00:00:00\",\"2010-05-28T00:00:00\",\"2010-05-28T00:00:00\",\"2010-05-07T00:00:00\",\"2010-04-16T00:00:00\",\"2010-04-16T00:00:00\",\"2010-04-16T00:00:00\",\"2010-03-26T00:00:00\",\"2010-03-12T00:00:00\",\"2010-03-05T00:00:00\",\"2010-02-19T00:00:00\",\"2010-01-29T00:00:00\",\"2010-01-22T00:00:00\",\"2009-12-18T00:00:00\",\"2009-12-11T00:00:00\",\"2009-11-20T00:00:00\",\"2009-11-13T00:00:00\",\"2009-11-13T00:00:00\",\"2009-10-23T00:00:00\",\"2009-10-23T00:00:00\",\"2009-10-23T00:00:00\",\"2009-08-07T00:00:00\",\"2009-08-07T00:00:00\",\"2009-07-31T00:00:00\",\"2009-05-21T00:00:00\",\"2009-02-13T00:00:00\",\"2009-01-30T00:00:00\",\"2008-10-31T00:00:00\",\"2008-08-01T00:00:00\",\"2004-03-12T00:00:00\",\"2002-03-01T00:00:00\",\"2002-01-11T00:00:00\"],\"xaxis\":\"x\",\"y\":[10537,10510,10501,10490,10484,10473,10475,10465,10461,10462,10454,10445,10439,10421,10418,10415,10408,10395,10392,10381,10382,10376,10370,10364,10360,10362,10342,10325,10324,10316,10303,10300,10296,10293,10286,10281,10279,10272,10271,10268,10260,10261,10259,10253,10243,10242,10241,10234,10216,10210,10213,10206,10197,10192,10187,10181,10173,10165,10158,10151,10149,10148,10129,10131,10130,10099,10098,10095,10061,10038,10032,10019,10010,4663,4654,4650],\"yaxis\":\"y\",\"type\":\"scatter\"},{\"hovertemplate\":\"State=WV<br>DateClosing=%{x}<br>Fund=%{y}<extra></extra>\",\"legendgroup\":\"WV\",\"marker\":{\"color\":\"#00cc96\",\"symbol\":\"circle\"},\"mode\":\"markers\",\"name\":\"WV\",\"orientation\":\"v\",\"showlegend\":true,\"x\":[\"2020-04-03T00:00:00\",\"2008-09-19T00:00:00\"],\"xaxis\":\"x\",\"y\":[10536,10014],\"yaxis\":\"y\",\"type\":\"scatter\"},{\"hovertemplate\":\"State=NE<br>DateClosing=%{x}<br>Fund=%{y}<extra></extra>\",\"legendgroup\":\"NE\",\"marker\":{\"color\":\"#ab63fa\",\"symbol\":\"circle\"},\"mode\":\"markers\",\"name\":\"NE\",\"orientation\":\"v\",\"showlegend\":true,\"x\":[\"2020-02-14T00:00:00\",\"2011-11-04T00:00:00\",\"2010-06-04T00:00:00\",\"2009-02-13T00:00:00\"],\"xaxis\":\"x\",\"y\":[10535,10410,10248,10039],\"yaxis\":\"y\",\"type\":\"scatter\"},{\"hovertemplate\":\"State=NJ<br>DateClosing=%{x}<br>Fund=%{y}<extra></extra>\",\"legendgroup\":\"NJ\",\"marker\":{\"color\":\"#FFA15A\",\"symbol\":\"circle\"},\"mode\":\"markers\",\"name\":\"NJ\",\"orientation\":\"v\",\"showlegend\":true,\"x\":[\"2019-11-01T00:00:00\",\"2017-01-13T00:00:00\",\"2012-04-20T00:00:00\",\"2011-10-14T00:00:00\",\"2010-09-17T00:00:00\",\"2009-07-31T00:00:00\",\"2009-05-01T00:00:00\",\"2004-02-14T00:00:00\"],\"xaxis\":\"x\",\"y\":[10534,10523,10433,10403,10290,10097,10058,6006],\"yaxis\":\"y\",\"type\":\"scatter\"},{\"hovertemplate\":\"State=OH<br>DateClosing=%{x}<br>Fund=%{y}<extra></extra>\",\"legendgroup\":\"OH\",\"marker\":{\"color\":\"#19d3f3\",\"symbol\":\"circle\"},\"mode\":\"markers\",\"name\":\"OH\",\"orientation\":\"v\",\"showlegend\":true,\"x\":[\"2019-10-25T00:00:00\",\"2014-05-23T00:00:00\",\"2010-09-17T00:00:00\",\"2010-03-19T00:00:00\",\"2009-12-04T00:00:00\",\"2009-07-31T00:00:00\",\"2007-10-04T00:00:00\",\"2002-02-01T00:00:00\",\"2001-05-03T00:00:00\"],\"xaxis\":\"x\",\"y\":[10533,10499,10288,10201,10155,10096,10002,4652,4648],\"yaxis\":\"y\",\"type\":\"scatter\"},{\"hovertemplate\":\"State=KY<br>DateClosing=%{x}<br>Fund=%{y}<extra></extra>\",\"legendgroup\":\"KY\",\"marker\":{\"color\":\"#FF6692\",\"symbol\":\"circle\"},\"mode\":\"markers\",\"name\":\"KY\",\"orientation\":\"v\",\"showlegend\":true,\"x\":[\"2019-10-25T00:00:00\",\"2013-04-19T00:00:00\",\"2009-09-18T00:00:00\"],\"xaxis\":\"x\",\"y\":[10532,10474,10121],\"yaxis\":\"y\",\"type\":\"scatter\"},{\"hovertemplate\":\"State=TX<br>DateClosing=%{x}<br>Fund=%{y}<extra></extra>\",\"legendgroup\":\"TX\",\"marker\":{\"color\":\"#B6E880\",\"symbol\":\"circle\"},\"mode\":\"markers\",\"name\":\"TX\",\"orientation\":\"v\",\"showlegend\":true,\"x\":[\"2019-05-31T00:00:00\",\"2013-12-13T00:00:00\",\"2013-09-13T00:00:00\",\"2011-09-30T00:00:00\",\"2010-02-19T00:00:00\",\"2009-10-30T00:00:00\",\"2009-10-30T00:00:00\",\"2009-10-30T00:00:00\",\"2009-08-21T00:00:00\",\"2009-07-02T00:00:00\",\"2008-12-12T00:00:00\",\"2008-11-07T00:00:00\",\"2002-01-18T00:00:00\"],\"xaxis\":\"x\",\"y\":[10531,10491,10488,10398,10186,10138,10142,10141,10105,10079,10026,10021,4651],\"yaxis\":\"y\",\"type\":\"scatter\"},{\"hovertemplate\":\"State=IL<br>DateClosing=%{x}<br>Fund=%{y}<extra></extra>\",\"legendgroup\":\"IL\",\"marker\":{\"color\":\"#FF97FF\",\"symbol\":\"circle\"},\"mode\":\"markers\",\"name\":\"IL\",\"orientation\":\"v\",\"showlegend\":true,\"x\":[\"2017-12-15T00:00:00\",\"2017-05-26T00:00:00\",\"2017-01-27T00:00:00\",\"2015-05-08T00:00:00\",\"2015-01-23T00:00:00\",\"2014-10-24T00:00:00\",\"2014-07-25T00:00:00\",\"2014-06-20T00:00:00\",\"2014-05-16T00:00:00\",\"2014-01-17T00:00:00\",\"2013-02-15T00:00:00\",\"2012-11-02T00:00:00\",\"2012-09-28T00:00:00\",\"2012-08-03T00:00:00\",\"2012-07-20T00:00:00\",\"2012-06-08T00:00:00\",\"2012-03-23T00:00:00\",\"2012-03-09T00:00:00\",\"2012-02-10T00:00:00\",\"2011-10-28T00:00:00\",\"2011-10-14T00:00:00\",\"2011-08-19T00:00:00\",\"2011-08-05T00:00:00\",\"2011-07-08T00:00:00\",\"2011-04-08T00:00:00\",\"2011-03-25T00:00:00\",\"2011-02-25T00:00:00\",\"2011-02-04T00:00:00\",\"2010-10-22T00:00:00\",\"2010-08-20T00:00:00\",\"2010-08-13T00:00:00\",\"2010-08-06T00:00:00\",\"2010-06-04T00:00:00\",\"2010-05-14T00:00:00\",\"2010-04-23T00:00:00\",\"2010-04-23T00:00:00\",\"2010-04-23T00:00:00\",\"2010-04-23T00:00:00\",\"2010-04-23T00:00:00\",\"2010-04-23T00:00:00\",\"2010-04-23T00:00:00\",\"2010-03-05T00:00:00\",\"2010-02-19T00:00:00\",\"2010-01-15T00:00:00\",\"2009-12-18T00:00:00\",\"2009-12-04T00:00:00\",\"2009-10-30T00:00:00\",\"2009-10-30T00:00:00\",\"2009-10-23T00:00:00\",\"2009-09-11T00:00:00\",\"2009-09-04T00:00:00\",\"2009-09-04T00:00:00\",\"2009-07-31T00:00:00\",\"2009-07-02T00:00:00\",\"2009-07-02T00:00:00\",\"2009-07-02T00:00:00\",\"2009-07-02T00:00:00\",\"2009-07-02T00:00:00\",\"2009-07-02T00:00:00\",\"2009-06-05T00:00:00\",\"2009-05-22T00:00:00\",\"2009-05-22T00:00:00\",\"2009-02-27T00:00:00\",\"2009-02-13T00:00:00\",\"2009-01-16T00:00:00\",\"2008-10-10T00:00:00\",\"2002-06-27T00:00:00\",\"2001-07-27T00:00:00\",\"2000-12-14T00:00:00\"],\"xaxis\":\"x\",\"y\":[10530,10528,10524,10514,10511,10507,10505,10502,10498,10492,10470,10464,10459,10456,10453,10442,10431,10429,10424,10409,10402,10390,10386,10374,10352,10350,10347,10337,10301,10284,10277,10276,10246,10236,10224,10223,10221,10222,10220,10219,10218,10191,10184,10170,10166,10154,10140,10137,10128,10117,10115,10113,10094,10074,10078,10073,10075,10077,10076,10064,10063,10062,10042,10037,10028,10017,6005,6004,4646],\"yaxis\":\"y\",\"type\":\"scatter\"},{\"hovertemplate\":\"State=WI<br>DateClosing=%{x}<br>Fund=%{y}<extra></extra>\",\"legendgroup\":\"WI\",\"marker\":{\"color\":\"#FECB52\",\"symbol\":\"circle\"},\"mode\":\"markers\",\"name\":\"WI\",\"orientation\":\"v\",\"showlegend\":true,\"x\":[\"2017-05-05T00:00:00\",\"2016-03-11T00:00:00\",\"2013-08-09T00:00:00\",\"2013-05-31T00:00:00\",\"2011-03-11T00:00:00\",\"2011-02-11T00:00:00\",\"2011-01-28T00:00:00\",\"2010-11-19T00:00:00\",\"2010-09-17T00:00:00\",\"2009-10-23T00:00:00\",\"2003-05-09T00:00:00\"],\"xaxis\":\"x\",\"y\":[10527,10518,10485,10478,10348,10339,10332,10315,10291,10132,4661],\"yaxis\":\"y\",\"type\":\"scatter\"},{\"hovertemplate\":\"State=LA<br>DateClosing=%{x}<br>Fund=%{y}<extra></extra>\",\"legendgroup\":\"LA\",\"marker\":{\"color\":\"#636efa\",\"symbol\":\"circle\"},\"mode\":\"markers\",\"name\":\"LA\",\"orientation\":\"v\",\"showlegend\":true,\"x\":[\"2017-04-28T00:00:00\",\"2011-11-18T00:00:00\",\"2010-03-12T00:00:00\",\"2002-12-17T00:00:00\"],\"xaxis\":\"x\",\"y\":[10526,10413,10196,4659],\"yaxis\":\"y\",\"type\":\"scatter\"},{\"hovertemplate\":\"State=UT<br>DateClosing=%{x}<br>Fund=%{y}<extra></extra>\",\"legendgroup\":\"UT\",\"marker\":{\"color\":\"#EF553B\",\"symbol\":\"circle\"},\"mode\":\"markers\",\"name\":\"UT\",\"orientation\":\"v\",\"showlegend\":true,\"x\":[\"2017-03-03T00:00:00\",\"2011-11-04T00:00:00\",\"2010-03-19T00:00:00\",\"2010-03-05T00:00:00\",\"2010-01-15T00:00:00\",\"2009-05-01T00:00:00\",\"2009-01-30T00:00:00\",\"2004-06-25T00:00:00\"],\"xaxis\":\"x\",\"y\":[10525,10411,10200,10193,10171,10057,10031,4665],\"yaxis\":\"y\",\"type\":\"scatter\"},{\"hovertemplate\":\"State=AR<br>DateClosing=%{x}<br>Fund=%{y}<extra></extra>\",\"legendgroup\":\"AR\",\"marker\":{\"color\":\"#00cc96\",\"symbol\":\"circle\"},\"mode\":\"markers\",\"name\":\"AR\",\"orientation\":\"v\",\"showlegend\":true,\"x\":[\"2016-09-23T00:00:00\",\"2010-12-17T00:00:00\",\"2008-05-09T00:00:00\",\"2001-09-07T00:00:00\"],\"xaxis\":\"x\",\"y\":[10522,10322,10005,4649],\"yaxis\":\"y\",\"type\":\"scatter\"},{\"hovertemplate\":\"State=GA<br>DateClosing=%{x}<br>Fund=%{y}<extra></extra>\",\"legendgroup\":\"GA\",\"marker\":{\"color\":\"#ab63fa\",\"symbol\":\"circle\"},\"mode\":\"markers\",\"name\":\"GA\",\"orientation\":\"v\",\"showlegend\":true,\"x\":[\"2016-08-19T00:00:00\",\"2015-10-02T00:00:00\",\"2015-02-13T00:00:00\",\"2014-07-18T00:00:00\",\"2013-05-10T00:00:00\",\"2013-04-26T00:00:00\",\"2013-03-08T00:00:00\",\"2012-11-16T00:00:00\",\"2012-07-27T00:00:00\",\"2012-07-20T00:00:00\",\"2012-07-20T00:00:00\",\"2012-07-06T00:00:00\",\"2012-06-15T00:00:00\",\"2012-03-23T00:00:00\",\"2012-03-02T00:00:00\",\"2012-02-24T00:00:00\",\"2012-01-20T00:00:00\",\"2011-11-10T00:00:00\",\"2011-10-21T00:00:00\",\"2011-10-21T00:00:00\",\"2011-10-14T00:00:00\",\"2011-09-02T00:00:00\",\"2011-09-02T00:00:00\",\"2011-08-19T00:00:00\",\"2011-07-15T00:00:00\",\"2011-07-15T00:00:00\",\"2011-06-24T00:00:00\",\"2011-06-17T00:00:00\",\"2011-05-20T00:00:00\",\"2011-05-20T00:00:00\",\"2011-04-29T00:00:00\",\"2011-04-29T00:00:00\",\"2011-04-15T00:00:00\",\"2011-04-15T00:00:00\",\"2011-02-18T00:00:00\",\"2011-02-18T00:00:00\",\"2011-02-04T00:00:00\",\"2011-02-04T00:00:00\",\"2011-01-21T00:00:00\",\"2011-01-14T00:00:00\",\"2010-12-17T00:00:00\",\"2010-12-17T00:00:00\",\"2010-12-17T00:00:00\",\"2010-11-12T00:00:00\",\"2010-11-12T00:00:00\",\"2010-10-22T00:00:00\",\"2010-10-22T00:00:00\",\"2010-09-17T00:00:00\",\"2010-09-17T00:00:00\",\"2010-09-17T00:00:00\",\"2010-07-30T00:00:00\",\"2010-07-23T00:00:00\",\"2010-06-25T00:00:00\",\"2010-05-14T00:00:00\",\"2010-03-26T00:00:00\",\"2010-03-26T00:00:00\",\"2010-03-19T00:00:00\",\"2010-03-19T00:00:00\",\"2010-03-19T00:00:00\",\"2010-01-29T00:00:00\",\"2010-01-29T00:00:00\",\"2009-12-18T00:00:00\",\"2009-12-04T00:00:00\",\"2009-12-04T00:00:00\",\"2009-12-04T00:00:00\",\"2009-11-06T00:00:00\",\"2009-10-23T00:00:00\",\"2009-09-25T00:00:00\",\"2009-08-21T00:00:00\",\"2009-08-21T00:00:00\",\"2009-07-24T00:00:00\",\"2009-07-24T00:00:00\",\"2009-07-24T00:00:00\",\"2009-07-24T00:00:00\",\"2009-07-24T00:00:00\",\"2009-07-24T00:00:00\",\"2009-07-17T00:00:00\",\"2009-06-26T00:00:00\",\"2009-06-26T00:00:00\",\"2009-06-19T00:00:00\",\"2009-05-01T00:00:00\",\"2009-04-24T00:00:00\",\"2009-03-27T00:00:00\",\"2009-03-20T00:00:00\",\"2009-03-06T00:00:00\",\"2009-02-06T00:00:00\",\"2008-12-12T00:00:00\",\"2008-12-05T00:00:00\",\"2008-11-21T00:00:00\",\"2008-10-24T00:00:00\",\"2008-08-29T00:00:00\",\"2007-09-28T00:00:00\",\"2002-09-30T00:00:00\"],\"xaxis\":\"x\",\"y\":[10521,10516,10512,10504,10481,10476,10471,10466,10455,10450,10451,10448,10446,10430,10428,10426,10419,10412,10406,10407,10404,10393,10394,10391,10377,10378,10372,10371,10366,10365,10363,10361,10355,10353,10344,10345,10338,10336,10329,10327,10323,10319,10320,10312,10313,10304,10305,10292,10289,10287,10274,10265,10251,10238,10208,10207,10202,10199,10198,10180,10179,10164,10153,10157,10152,10145,10127,10122,10108,10107,10088,10087,10085,10090,10089,10086,10084,10069,10068,10067,10059,10053,10048,10047,10044,10036,10027,10025,10022,10018,10012,10001,4657],\"yaxis\":\"y\",\"type\":\"scatter\"},{\"hovertemplate\":\"State=PA<br>DateClosing=%{x}<br>Fund=%{y}<extra></extra>\",\"legendgroup\":\"PA\",\"marker\":{\"color\":\"#FFA15A\",\"symbol\":\"circle\"},\"mode\":\"markers\",\"name\":\"PA\",\"orientation\":\"v\",\"showlegend\":true,\"x\":[\"2016-05-06T00:00:00\",\"2014-02-28T00:00:00\",\"2012-10-26T00:00:00\",\"2012-01-20T00:00:00\",\"2011-08-18T00:00:00\",\"2010-12-10T00:00:00\",\"2010-11-19T00:00:00\",\"2009-08-14T00:00:00\",\"2007-02-02T00:00:00\",\"2003-11-14T00:00:00\"],\"xaxis\":\"x\",\"y\":[10520,10496,10463,10417,10389,10317,10314,10104,10000,4662],\"yaxis\":\"y\",\"type\":\"scatter\"},{\"hovertemplate\":\"State=TN<br>DateClosing=%{x}<br>Fund=%{y}<extra></extra>\",\"legendgroup\":\"TN\",\"marker\":{\"color\":\"#19d3f3\",\"symbol\":\"circle\"},\"mode\":\"markers\",\"name\":\"TN\",\"orientation\":\"v\",\"showlegend\":true,\"x\":[\"2016-04-29T00:00:00\",\"2013-08-23T00:00:00\",\"2013-06-07T00:00:00\",\"2012-06-15T00:00:00\",\"2012-01-27T00:00:00\",\"2012-01-27T00:00:00\",\"2002-11-08T00:00:00\"],\"xaxis\":\"x\",\"y\":[10519,10486,10483,10447,10420,10423,4658],\"yaxis\":\"y\",\"type\":\"scatter\"},{\"hovertemplate\":\"State=WA<br>DateClosing=%{x}<br>Fund=%{y}<extra></extra>\",\"legendgroup\":\"WA\",\"marker\":{\"color\":\"#FF6692\",\"symbol\":\"circle\"},\"mode\":\"markers\",\"name\":\"WA\",\"orientation\":\"v\",\"showlegend\":true,\"x\":[\"2015-10-02T00:00:00\",\"2013-01-11T00:00:00\",\"2011-08-05T00:00:00\",\"2011-05-27T00:00:00\",\"2011-05-20T00:00:00\",\"2010-11-05T00:00:00\",\"2010-10-01T00:00:00\",\"2010-09-24T00:00:00\",\"2010-07-30T00:00:00\",\"2010-06-11T00:00:00\",\"2010-04-30T00:00:00\",\"2010-04-16T00:00:00\",\"2010-02-26T00:00:00\",\"2010-01-29T00:00:00\",\"2010-01-22T00:00:00\",\"2010-01-08T00:00:00\",\"2009-09-11T00:00:00\",\"2009-05-08T00:00:00\",\"2009-01-16T00:00:00\"],\"xaxis\":\"x\",\"y\":[10517,10468,10387,10368,10367,10309,10295,10294,10275,10249,10228,10212,10189,10178,10172,10168,10119,10060,10029],\"yaxis\":\"y\",\"type\":\"scatter\"},{\"hovertemplate\":\"State=CO<br>DateClosing=%{x}<br>Fund=%{y}<extra></extra>\",\"legendgroup\":\"CO\",\"marker\":{\"color\":\"#B6E880\",\"symbol\":\"circle\"},\"mode\":\"markers\",\"name\":\"CO\",\"orientation\":\"v\",\"showlegend\":true,\"x\":[\"2015-07-10T00:00:00\",\"2011-10-21T00:00:00\",\"2011-07-22T00:00:00\",\"2011-07-08T00:00:00\",\"2011-07-08T00:00:00\",\"2011-01-28T00:00:00\",\"2011-01-21T00:00:00\",\"2009-10-02T00:00:00\",\"2009-04-10T00:00:00\",\"2009-03-20T00:00:00\"],\"xaxis\":\"x\",\"y\":[10515,10405,10380,10375,10373,10334,10331,10123,10050,10045],\"yaxis\":\"y\",\"type\":\"scatter\"},{\"hovertemplate\":\"State=PR<br>DateClosing=%{x}<br>Fund=%{y}<extra></extra>\",\"legendgroup\":\"PR\",\"marker\":{\"color\":\"#FF97FF\",\"symbol\":\"circle\"},\"mode\":\"markers\",\"name\":\"PR\",\"orientation\":\"v\",\"showlegend\":true,\"x\":[\"2015-02-27T00:00:00\",\"2010-04-30T00:00:00\",\"2010-04-30T00:00:00\",\"2010-04-30T00:00:00\"],\"xaxis\":\"x\",\"y\":[10513,10231,10230,10229],\"yaxis\":\"y\",\"type\":\"scatter\"},{\"hovertemplate\":\"State=MN<br>DateClosing=%{x}<br>Fund=%{y}<extra></extra>\",\"legendgroup\":\"MN\",\"marker\":{\"color\":\"#FECB52\",\"symbol\":\"circle\"},\"mode\":\"markers\",\"name\":\"MN\",\"orientation\":\"v\",\"showlegend\":true,\"x\":[\"2014-12-19T00:00:00\",\"2013-01-18T00:00:00\",\"2012-09-07T00:00:00\",\"2012-04-27T00:00:00\",\"2012-02-24T00:00:00\",\"2012-01-27T00:00:00\",\"2011-10-07T00:00:00\",\"2011-04-15T00:00:00\",\"2010-12-17T00:00:00\",\"2010-07-23T00:00:00\",\"2010-05-21T00:00:00\",\"2010-05-07T00:00:00\",\"2010-03-19T00:00:00\",\"2010-02-05T00:00:00\",\"2010-01-29T00:00:00\",\"2010-01-15T00:00:00\",\"2009-11-06T00:00:00\",\"2009-10-23T00:00:00\",\"2009-10-02T00:00:00\",\"2009-09-11T00:00:00\",\"2009-08-28T00:00:00\",\"2009-06-26T00:00:00\",\"2008-05-30T00:00:00\"],\"xaxis\":\"x\",\"y\":[10509,10469,10457,10436,10427,10422,10399,10357,10321,10264,10240,10233,10203,10183,10182,10169,10143,10133,10124,10118,10111,10070,10006],\"yaxis\":\"y\",\"type\":\"scatter\"},{\"hovertemplate\":\"State=CA<br>DateClosing=%{x}<br>Fund=%{y}<extra></extra>\",\"legendgroup\":\"CA\",\"marker\":{\"color\":\"#636efa\",\"symbol\":\"circle\"},\"mode\":\"markers\",\"name\":\"CA\",\"orientation\":\"v\",\"showlegend\":true,\"x\":[\"2014-11-07T00:00:00\",\"2012-04-27T00:00:00\",\"2011-09-23T00:00:00\",\"2011-02-18T00:00:00\",\"2011-02-18T00:00:00\",\"2011-02-11T00:00:00\",\"2010-11-05T00:00:00\",\"2010-11-05T00:00:00\",\"2010-08-20T00:00:00\",\"2010-08-20T00:00:00\",\"2010-08-20T00:00:00\",\"2010-08-20T00:00:00\",\"2010-05-28T00:00:00\",\"2010-05-07T00:00:00\",\"2010-04-16T00:00:00\",\"2010-04-16T00:00:00\",\"2010-02-19T00:00:00\",\"2010-01-29T00:00:00\",\"2009-12-18T00:00:00\",\"2009-12-18T00:00:00\",\"2009-11-13T00:00:00\",\"2009-11-06T00:00:00\",\"2009-10-30T00:00:00\",\"2009-10-30T00:00:00\",\"2009-10-30T00:00:00\",\"2009-10-16T00:00:00\",\"2009-08-28T00:00:00\",\"2009-07-17T00:00:00\",\"2009-07-17T00:00:00\",\"2009-06-26T00:00:00\",\"2009-06-26T00:00:00\",\"2009-04-24T00:00:00\",\"2009-02-06T00:00:00\",\"2009-02-06T00:00:00\",\"2009-01-23T00:00:00\",\"2008-11-21T00:00:00\",\"2008-11-21T00:00:00\",\"2008-11-07T00:00:00\",\"2008-07-25T00:00:00\",\"2008-07-11T00:00:00\",\"2003-02-07T00:00:00\"],\"xaxis\":\"x\",\"y\":[10508,10437,10397,10346,10343,10340,10307,10310,10285,10282,10278,10283,10244,10232,10217,10214,10185,10177,10167,10161,10150,10147,10139,10134,10135,10126,10110,10082,10083,10072,10071,10054,10034,10035,10030,10024,10023,10020,10009,10007,4660],\"yaxis\":\"y\",\"type\":\"scatter\"},{\"hovertemplate\":\"State=MD<br>DateClosing=%{x}<br>Fund=%{y}<extra></extra>\",\"legendgroup\":\"MD\",\"marker\":{\"color\":\"#EF553B\",\"symbol\":\"circle\"},\"mode\":\"markers\",\"name\":\"MD\",\"orientation\":\"v\",\"showlegend\":true,\"x\":[\"2014-10-17T00:00:00\",\"2014-05-30T00:00:00\",\"2012-04-27T00:00:00\",\"2012-04-27T00:00:00\",\"2010-11-05T00:00:00\",\"2010-07-09T00:00:00\",\"2010-07-09T00:00:00\",\"2010-03-05T00:00:00\",\"2009-08-28T00:00:00\",\"2009-01-30T00:00:00\"],\"xaxis\":\"x\",\"y\":[10506,10500,10435,10434,10308,10257,10255,10190,10109,10033],\"yaxis\":\"y\",\"type\":\"scatter\"},{\"hovertemplate\":\"State=OK<br>DateClosing=%{x}<br>Fund=%{y}<extra></extra>\",\"legendgroup\":\"OK\",\"marker\":{\"color\":\"#00cc96\",\"symbol\":\"circle\"},\"mode\":\"markers\",\"name\":\"OK\",\"orientation\":\"v\",\"showlegend\":true,\"x\":[\"2014-06-27T00:00:00\",\"2014-01-24T00:00:00\",\"2012-06-08T00:00:00\",\"2011-03-11T00:00:00\",\"2011-01-28T00:00:00\",\"2010-07-09T00:00:00\",\"2009-07-31T00:00:00\"],\"xaxis\":\"x\",\"y\":[10503,10493,10443,10349,10335,10256,10093],\"yaxis\":\"y\",\"type\":\"scatter\"},{\"hovertemplate\":\"State=SC<br>DateClosing=%{x}<br>Fund=%{y}<extra></extra>\",\"legendgroup\":\"SC\",\"marker\":{\"color\":\"#ab63fa\",\"symbol\":\"circle\"},\"mode\":\"markers\",\"name\":\"SC\",\"orientation\":\"v\",\"showlegend\":true,\"x\":[\"2014-04-25T00:00:00\",\"2012-06-08T00:00:00\",\"2012-04-27T00:00:00\",\"2011-07-29T00:00:00\",\"2011-06-03T00:00:00\",\"2011-01-21T00:00:00\",\"2010-07-23T00:00:00\",\"2010-07-16T00:00:00\",\"2010-07-16T00:00:00\",\"2010-04-09T00:00:00\"],\"xaxis\":\"x\",\"y\":[10497,10441,10438,10383,10369,10328,10270,10263,10262,10209],\"yaxis\":\"y\",\"type\":\"scatter\"},{\"hovertemplate\":\"State=VA<br>DateClosing=%{x}<br>Fund=%{y}<extra></extra>\",\"legendgroup\":\"VA\",\"marker\":{\"color\":\"#FFA15A\",\"symbol\":\"circle\"},\"mode\":\"markers\",\"name\":\"VA\",\"orientation\":\"v\",\"showlegend\":true,\"x\":[\"2014-02-28T00:00:00\",\"2011-09-23T00:00:00\",\"2011-07-29T00:00:00\",\"2010-08-20T00:00:00\",\"2009-12-04T00:00:00\"],\"xaxis\":\"x\",\"y\":[10495,10396,10385,10280,10156],\"yaxis\":\"y\",\"type\":\"scatter\"},{\"hovertemplate\":\"State=ID<br>DateClosing=%{x}<br>Fund=%{y}<extra></extra>\",\"legendgroup\":\"ID\",\"marker\":{\"color\":\"#19d3f3\",\"symbol\":\"circle\"},\"mode\":\"markers\",\"name\":\"ID\",\"orientation\":\"v\",\"showlegend\":true,\"x\":[\"2014-01-31T00:00:00\",\"2009-04-24T00:00:00\"],\"xaxis\":\"x\",\"y\":[10494,10055],\"yaxis\":\"y\",\"type\":\"scatter\"},{\"hovertemplate\":\"State=CT<br>DateClosing=%{x}<br>Fund=%{y}<extra></extra>\",\"legendgroup\":\"CT\",\"marker\":{\"color\":\"#FF6692\",\"symbol\":\"circle\"},\"mode\":\"markers\",\"name\":\"CT\",\"orientation\":\"v\",\"showlegend\":true,\"x\":[\"2013-09-13T00:00:00\",\"2002-06-26T00:00:00\"],\"xaxis\":\"x\",\"y\":[10489,4656],\"yaxis\":\"y\",\"type\":\"scatter\"},{\"hovertemplate\":\"State=AZ<br>DateClosing=%{x}<br>Fund=%{y}<extra></extra>\",\"legendgroup\":\"AZ\",\"marker\":{\"color\":\"#B6E880\",\"symbol\":\"circle\"},\"mode\":\"markers\",\"name\":\"AZ\",\"orientation\":\"v\",\"showlegend\":true,\"x\":[\"2013-08-23T00:00:00\",\"2013-05-14T00:00:00\",\"2013-04-05T00:00:00\",\"2011-12-16T00:00:00\",\"2011-07-15T00:00:00\",\"2011-01-07T00:00:00\",\"2010-11-12T00:00:00\",\"2010-10-22T00:00:00\",\"2010-05-07T00:00:00\",\"2010-03-26T00:00:00\",\"2009-12-11T00:00:00\",\"2009-10-30T00:00:00\",\"2009-09-04T00:00:00\",\"2009-08-14T00:00:00\",\"2009-08-14T00:00:00\",\"2002-02-07T00:00:00\"],\"xaxis\":\"x\",\"y\":[10487,10479,10472,10416,10379,10326,10311,10306,10235,10205,10159,10136,10114,10101,10102,4653],\"yaxis\":\"y\",\"type\":\"scatter\"},{\"hovertemplate\":\"State=NV<br>DateClosing=%{x}<br>Fund=%{y}<extra></extra>\",\"legendgroup\":\"NV\",\"marker\":{\"color\":\"#FF97FF\",\"symbol\":\"circle\"},\"mode\":\"markers\",\"name\":\"NV\",\"orientation\":\"v\",\"showlegend\":true,\"x\":[\"2013-06-06T00:00:00\",\"2011-04-08T00:00:00\",\"2010-07-23T00:00:00\",\"2010-06-18T00:00:00\",\"2010-05-28T00:00:00\",\"2010-02-26T00:00:00\",\"2009-08-14T00:00:00\",\"2009-04-17T00:00:00\",\"2009-02-27T00:00:00\",\"2008-09-25T00:00:00\",\"2008-09-05T00:00:00\",\"2008-07-25T00:00:00\"],\"xaxis\":\"x\",\"y\":[10482,10351,10267,10250,10245,10188,10100,10051,10043,10015,10013,10008],\"yaxis\":\"y\",\"type\":\"scatter\"},{\"hovertemplate\":\"State=NC<br>DateClosing=%{x}<br>Fund=%{y}<extra></extra>\",\"legendgroup\":\"NC\",\"marker\":{\"color\":\"#FECB52\",\"symbol\":\"circle\"},\"mode\":\"markers\",\"name\":\"NC\",\"orientation\":\"v\",\"showlegend\":true,\"x\":[\"2013-05-10T00:00:00\",\"2013-04-26T00:00:00\",\"2012-06-08T00:00:00\",\"2011-10-14T00:00:00\",\"2011-01-21T00:00:00\",\"2009-06-19T00:00:00\",\"2009-04-10T00:00:00\"],\"xaxis\":\"x\",\"y\":[10480,10477,10444,10401,10330,10065,10049],\"yaxis\":\"y\",\"type\":\"scatter\"},{\"hovertemplate\":\"State=MO<br>DateClosing=%{x}<br>Fund=%{y}<extra></extra>\",\"legendgroup\":\"MO\",\"marker\":{\"color\":\"#636efa\",\"symbol\":\"circle\"},\"mode\":\"markers\",\"name\":\"MO\",\"orientation\":\"v\",\"showlegend\":true,\"x\":[\"2012-12-14T00:00:00\",\"2012-10-19T00:00:00\",\"2012-09-14T00:00:00\",\"2012-07-13T00:00:00\",\"2011-10-07T00:00:00\",\"2010-10-15T00:00:00\",\"2010-10-15T00:00:00\",\"2010-05-14T00:00:00\",\"2010-04-30T00:00:00\",\"2010-04-30T00:00:00\",\"2010-01-22T00:00:00\",\"2009-11-06T00:00:00\",\"2009-09-04T00:00:00\",\"2009-04-17T00:00:00\",\"2008-03-07T00:00:00\",\"2008-01-25T00:00:00\"],\"xaxis\":\"x\",\"y\":[10467,10460,10458,10449,10400,10297,10299,10239,10225,10227,10174,10146,10112,10052,10004,10003],\"yaxis\":\"y\",\"type\":\"scatter\"},{\"hovertemplate\":\"State=AL<br>DateClosing=%{x}<br>Fund=%{y}<extra></extra>\",\"legendgroup\":\"AL\",\"marker\":{\"color\":\"#EF553B\",\"symbol\":\"circle\"},\"mode\":\"markers\",\"name\":\"AL\",\"orientation\":\"v\",\"showlegend\":true,\"x\":[\"2012-05-18T00:00:00\",\"2011-04-15T00:00:00\",\"2011-04-15T00:00:00\",\"2010-03-19T00:00:00\",\"2009-12-18T00:00:00\",\"2009-08-21T00:00:00\",\"2009-08-14T00:00:00\"],\"xaxis\":\"x\",\"y\":[10440,10358,10356,10204,10163,10106,10103],\"yaxis\":\"y\",\"type\":\"scatter\"},{\"hovertemplate\":\"State=MI<br>DateClosing=%{x}<br>Fund=%{y}<extra></extra>\",\"legendgroup\":\"MI\",\"marker\":{\"color\":\"#00cc96\",\"symbol\":\"circle\"},\"mode\":\"markers\",\"name\":\"MI\",\"orientation\":\"v\",\"showlegend\":true,\"x\":[\"2012-03-30T00:00:00\",\"2011-04-29T00:00:00\",\"2011-02-11T00:00:00\",\"2010-12-10T00:00:00\",\"2010-07-16T00:00:00\",\"2010-05-14T00:00:00\",\"2010-04-30T00:00:00\",\"2010-04-16T00:00:00\",\"2009-12-18T00:00:00\",\"2009-11-06T00:00:00\",\"2009-10-02T00:00:00\",\"2009-04-24T00:00:00\",\"2008-10-10T00:00:00\",\"2002-03-28T00:00:00\"],\"xaxis\":\"x\",\"y\":[10432,10359,10341,10318,10258,10237,10226,10215,10162,10144,10125,10056,10016,4655],\"yaxis\":\"y\",\"type\":\"scatter\"},{\"hovertemplate\":\"State=IN<br>DateClosing=%{x}<br>Fund=%{y}<extra></extra>\",\"legendgroup\":\"IN\",\"marker\":{\"color\":\"#ab63fa\",\"symbol\":\"circle\"},\"mode\":\"markers\",\"name\":\"IN\",\"orientation\":\"v\",\"showlegend\":true,\"x\":[\"2012-02-10T00:00:00\",\"2011-07-29T00:00:00\",\"2009-09-18T00:00:00\"],\"xaxis\":\"x\",\"y\":[10425,10384,10120],\"yaxis\":\"y\",\"type\":\"scatter\"},{\"hovertemplate\":\"State=IA<br>DateClosing=%{x}<br>Fund=%{y}<extra></extra>\",\"legendgroup\":\"IA\",\"marker\":{\"color\":\"#FFA15A\",\"symbol\":\"circle\"},\"mode\":\"markers\",\"name\":\"IA\",\"orientation\":\"v\",\"showlegend\":true,\"x\":[\"2011-11-18T00:00:00\",\"2009-09-04T00:00:00\"],\"xaxis\":\"x\",\"y\":[10414,10116],\"yaxis\":\"y\",\"type\":\"scatter\"},{\"hovertemplate\":\"State=MS<br>DateClosing=%{x}<br>Fund=%{y}<extra></extra>\",\"legendgroup\":\"MS\",\"marker\":{\"color\":\"#19d3f3\",\"symbol\":\"circle\"},\"mode\":\"markers\",\"name\":\"MS\",\"orientation\":\"v\",\"showlegend\":true,\"x\":[\"2011-04-15T00:00:00\",\"2010-06-04T00:00:00\"],\"xaxis\":\"x\",\"y\":[10354,10247],\"yaxis\":\"y\",\"type\":\"scatter\"},{\"hovertemplate\":\"State=NM<br>DateClosing=%{x}<br>Fund=%{y}<extra></extra>\",\"legendgroup\":\"NM\",\"marker\":{\"color\":\"#FF6692\",\"symbol\":\"circle\"},\"mode\":\"markers\",\"name\":\"NM\",\"orientation\":\"v\",\"showlegend\":true,\"x\":[\"2011-01-28T00:00:00\",\"2010-06-25T00:00:00\",\"2010-01-22T00:00:00\"],\"xaxis\":\"x\",\"y\":[10333,10252,10175],\"yaxis\":\"y\",\"type\":\"scatter\"},{\"hovertemplate\":\"State=OR<br>DateClosing=%{x}<br>Fund=%{y}<extra></extra>\",\"legendgroup\":\"OR\",\"marker\":{\"color\":\"#B6E880\",\"symbol\":\"circle\"},\"mode\":\"markers\",\"name\":\"OR\",\"orientation\":\"v\",\"showlegend\":true,\"x\":[\"2010-07-30T00:00:00\",\"2010-07-23T00:00:00\",\"2010-01-22T00:00:00\",\"2009-08-07T00:00:00\",\"2009-02-20T00:00:00\",\"2009-02-13T00:00:00\"],\"xaxis\":\"x\",\"y\":[10273,10266,10176,10092,10041,10040],\"yaxis\":\"y\",\"type\":\"scatter\"},{\"hovertemplate\":\"State=NY<br>DateClosing=%{x}<br>Fund=%{y}<extra></extra>\",\"legendgroup\":\"NY\",\"marker\":{\"color\":\"#FF97FF\",\"symbol\":\"circle\"},\"mode\":\"markers\",\"name\":\"NY\",\"orientation\":\"v\",\"showlegend\":true,\"x\":[\"2010-07-09T00:00:00\",\"2010-03-12T00:00:00\",\"2010-03-11T00:00:00\",\"2009-07-24T00:00:00\",\"2004-03-19T00:00:00\"],\"xaxis\":\"x\",\"y\":[10254,10195,10194,10091,4664],\"yaxis\":\"y\",\"type\":\"scatter\"},{\"hovertemplate\":\"State=MA<br>DateClosing=%{x}<br>Fund=%{y}<extra></extra>\",\"legendgroup\":\"MA\",\"marker\":{\"color\":\"#FECB52\",\"symbol\":\"circle\"},\"mode\":\"markers\",\"name\":\"MA\",\"orientation\":\"v\",\"showlegend\":true,\"x\":[\"2010-04-16T00:00:00\"],\"xaxis\":\"x\",\"y\":[10211],\"yaxis\":\"y\",\"type\":\"scatter\"},{\"hovertemplate\":\"State=SD<br>DateClosing=%{x}<br>Fund=%{y}<extra></extra>\",\"legendgroup\":\"SD\",\"marker\":{\"color\":\"#636efa\",\"symbol\":\"circle\"},\"mode\":\"markers\",\"name\":\"SD\",\"orientation\":\"v\",\"showlegend\":true,\"x\":[\"2009-07-17T00:00:00\"],\"xaxis\":\"x\",\"y\":[10081],\"yaxis\":\"y\",\"type\":\"scatter\"},{\"hovertemplate\":\"State=WY<br>DateClosing=%{x}<br>Fund=%{y}<extra></extra>\",\"legendgroup\":\"WY\",\"marker\":{\"color\":\"#EF553B\",\"symbol\":\"circle\"},\"mode\":\"markers\",\"name\":\"WY\",\"orientation\":\"v\",\"showlegend\":true,\"x\":[\"2009-07-10T00:00:00\"],\"xaxis\":\"x\",\"y\":[10080],\"yaxis\":\"y\",\"type\":\"scatter\"},{\"hovertemplate\":\"State=NH<br>DateClosing=%{x}<br>Fund=%{y}<extra></extra>\",\"legendgroup\":\"NH\",\"marker\":{\"color\":\"#00cc96\",\"symbol\":\"circle\"},\"mode\":\"markers\",\"name\":\"NH\",\"orientation\":\"v\",\"showlegend\":true,\"x\":[\"2001-02-02T00:00:00\"],\"xaxis\":\"x\",\"y\":[4647],\"yaxis\":\"y\",\"type\":\"scatter\"},{\"hovertemplate\":\"State=HI<br>DateClosing=%{x}<br>Fund=%{y}<extra></extra>\",\"legendgroup\":\"HI\",\"marker\":{\"color\":\"#ab63fa\",\"symbol\":\"circle\"},\"mode\":\"markers\",\"name\":\"HI\",\"orientation\":\"v\",\"showlegend\":true,\"x\":[\"2000-10-13T00:00:00\"],\"xaxis\":\"x\",\"y\":[4645],\"yaxis\":\"y\",\"type\":\"scatter\"}],                        {\"template\":{\"data\":{\"bar\":[{\"error_x\":{\"color\":\"#2a3f5f\"},\"error_y\":{\"color\":\"#2a3f5f\"},\"marker\":{\"line\":{\"color\":\"#E5ECF6\",\"width\":0.5},\"pattern\":{\"fillmode\":\"overlay\",\"size\":10,\"solidity\":0.2}},\"type\":\"bar\"}],\"barpolar\":[{\"marker\":{\"line\":{\"color\":\"#E5ECF6\",\"width\":0.5},\"pattern\":{\"fillmode\":\"overlay\",\"size\":10,\"solidity\":0.2}},\"type\":\"barpolar\"}],\"carpet\":[{\"aaxis\":{\"endlinecolor\":\"#2a3f5f\",\"gridcolor\":\"white\",\"linecolor\":\"white\",\"minorgridcolor\":\"white\",\"startlinecolor\":\"#2a3f5f\"},\"baxis\":{\"endlinecolor\":\"#2a3f5f\",\"gridcolor\":\"white\",\"linecolor\":\"white\",\"minorgridcolor\":\"white\",\"startlinecolor\":\"#2a3f5f\"},\"type\":\"carpet\"}],\"choropleth\":[{\"colorbar\":{\"outlinewidth\":0,\"ticks\":\"\"},\"type\":\"choropleth\"}],\"contour\":[{\"colorbar\":{\"outlinewidth\":0,\"ticks\":\"\"},\"colorscale\":[[0.0,\"#0d0887\"],[0.1111111111111111,\"#46039f\"],[0.2222222222222222,\"#7201a8\"],[0.3333333333333333,\"#9c179e\"],[0.4444444444444444,\"#bd3786\"],[0.5555555555555556,\"#d8576b\"],[0.6666666666666666,\"#ed7953\"],[0.7777777777777778,\"#fb9f3a\"],[0.8888888888888888,\"#fdca26\"],[1.0,\"#f0f921\"]],\"type\":\"contour\"}],\"contourcarpet\":[{\"colorbar\":{\"outlinewidth\":0,\"ticks\":\"\"},\"type\":\"contourcarpet\"}],\"heatmap\":[{\"colorbar\":{\"outlinewidth\":0,\"ticks\":\"\"},\"colorscale\":[[0.0,\"#0d0887\"],[0.1111111111111111,\"#46039f\"],[0.2222222222222222,\"#7201a8\"],[0.3333333333333333,\"#9c179e\"],[0.4444444444444444,\"#bd3786\"],[0.5555555555555556,\"#d8576b\"],[0.6666666666666666,\"#ed7953\"],[0.7777777777777778,\"#fb9f3a\"],[0.8888888888888888,\"#fdca26\"],[1.0,\"#f0f921\"]],\"type\":\"heatmap\"}],\"heatmapgl\":[{\"colorbar\":{\"outlinewidth\":0,\"ticks\":\"\"},\"colorscale\":[[0.0,\"#0d0887\"],[0.1111111111111111,\"#46039f\"],[0.2222222222222222,\"#7201a8\"],[0.3333333333333333,\"#9c179e\"],[0.4444444444444444,\"#bd3786\"],[0.5555555555555556,\"#d8576b\"],[0.6666666666666666,\"#ed7953\"],[0.7777777777777778,\"#fb9f3a\"],[0.8888888888888888,\"#fdca26\"],[1.0,\"#f0f921\"]],\"type\":\"heatmapgl\"}],\"histogram\":[{\"marker\":{\"pattern\":{\"fillmode\":\"overlay\",\"size\":10,\"solidity\":0.2}},\"type\":\"histogram\"}],\"histogram2d\":[{\"colorbar\":{\"outlinewidth\":0,\"ticks\":\"\"},\"colorscale\":[[0.0,\"#0d0887\"],[0.1111111111111111,\"#46039f\"],[0.2222222222222222,\"#7201a8\"],[0.3333333333333333,\"#9c179e\"],[0.4444444444444444,\"#bd3786\"],[0.5555555555555556,\"#d8576b\"],[0.6666666666666666,\"#ed7953\"],[0.7777777777777778,\"#fb9f3a\"],[0.8888888888888888,\"#fdca26\"],[1.0,\"#f0f921\"]],\"type\":\"histogram2d\"}],\"histogram2dcontour\":[{\"colorbar\":{\"outlinewidth\":0,\"ticks\":\"\"},\"colorscale\":[[0.0,\"#0d0887\"],[0.1111111111111111,\"#46039f\"],[0.2222222222222222,\"#7201a8\"],[0.3333333333333333,\"#9c179e\"],[0.4444444444444444,\"#bd3786\"],[0.5555555555555556,\"#d8576b\"],[0.6666666666666666,\"#ed7953\"],[0.7777777777777778,\"#fb9f3a\"],[0.8888888888888888,\"#fdca26\"],[1.0,\"#f0f921\"]],\"type\":\"histogram2dcontour\"}],\"mesh3d\":[{\"colorbar\":{\"outlinewidth\":0,\"ticks\":\"\"},\"type\":\"mesh3d\"}],\"parcoords\":[{\"line\":{\"colorbar\":{\"outlinewidth\":0,\"ticks\":\"\"}},\"type\":\"parcoords\"}],\"pie\":[{\"automargin\":true,\"type\":\"pie\"}],\"scatter\":[{\"marker\":{\"colorbar\":{\"outlinewidth\":0,\"ticks\":\"\"}},\"type\":\"scatter\"}],\"scatter3d\":[{\"line\":{\"colorbar\":{\"outlinewidth\":0,\"ticks\":\"\"}},\"marker\":{\"colorbar\":{\"outlinewidth\":0,\"ticks\":\"\"}},\"type\":\"scatter3d\"}],\"scattercarpet\":[{\"marker\":{\"colorbar\":{\"outlinewidth\":0,\"ticks\":\"\"}},\"type\":\"scattercarpet\"}],\"scattergeo\":[{\"marker\":{\"colorbar\":{\"outlinewidth\":0,\"ticks\":\"\"}},\"type\":\"scattergeo\"}],\"scattergl\":[{\"marker\":{\"colorbar\":{\"outlinewidth\":0,\"ticks\":\"\"}},\"type\":\"scattergl\"}],\"scattermapbox\":[{\"marker\":{\"colorbar\":{\"outlinewidth\":0,\"ticks\":\"\"}},\"type\":\"scattermapbox\"}],\"scatterpolar\":[{\"marker\":{\"colorbar\":{\"outlinewidth\":0,\"ticks\":\"\"}},\"type\":\"scatterpolar\"}],\"scatterpolargl\":[{\"marker\":{\"colorbar\":{\"outlinewidth\":0,\"ticks\":\"\"}},\"type\":\"scatterpolargl\"}],\"scatterternary\":[{\"marker\":{\"colorbar\":{\"outlinewidth\":0,\"ticks\":\"\"}},\"type\":\"scatterternary\"}],\"surface\":[{\"colorbar\":{\"outlinewidth\":0,\"ticks\":\"\"},\"colorscale\":[[0.0,\"#0d0887\"],[0.1111111111111111,\"#46039f\"],[0.2222222222222222,\"#7201a8\"],[0.3333333333333333,\"#9c179e\"],[0.4444444444444444,\"#bd3786\"],[0.5555555555555556,\"#d8576b\"],[0.6666666666666666,\"#ed7953\"],[0.7777777777777778,\"#fb9f3a\"],[0.8888888888888888,\"#fdca26\"],[1.0,\"#f0f921\"]],\"type\":\"surface\"}],\"table\":[{\"cells\":{\"fill\":{\"color\":\"#EBF0F8\"},\"line\":{\"color\":\"white\"}},\"header\":{\"fill\":{\"color\":\"#C8D4E3\"},\"line\":{\"color\":\"white\"}},\"type\":\"table\"}]},\"layout\":{\"annotationdefaults\":{\"arrowcolor\":\"#2a3f5f\",\"arrowhead\":0,\"arrowwidth\":1},\"autotypenumbers\":\"strict\",\"coloraxis\":{\"colorbar\":{\"outlinewidth\":0,\"ticks\":\"\"}},\"colorscale\":{\"diverging\":[[0,\"#8e0152\"],[0.1,\"#c51b7d\"],[0.2,\"#de77ae\"],[0.3,\"#f1b6da\"],[0.4,\"#fde0ef\"],[0.5,\"#f7f7f7\"],[0.6,\"#e6f5d0\"],[0.7,\"#b8e186\"],[0.8,\"#7fbc41\"],[0.9,\"#4d9221\"],[1,\"#276419\"]],\"sequential\":[[0.0,\"#0d0887\"],[0.1111111111111111,\"#46039f\"],[0.2222222222222222,\"#7201a8\"],[0.3333333333333333,\"#9c179e\"],[0.4444444444444444,\"#bd3786\"],[0.5555555555555556,\"#d8576b\"],[0.6666666666666666,\"#ed7953\"],[0.7777777777777778,\"#fb9f3a\"],[0.8888888888888888,\"#fdca26\"],[1.0,\"#f0f921\"]],\"sequentialminus\":[[0.0,\"#0d0887\"],[0.1111111111111111,\"#46039f\"],[0.2222222222222222,\"#7201a8\"],[0.3333333333333333,\"#9c179e\"],[0.4444444444444444,\"#bd3786\"],[0.5555555555555556,\"#d8576b\"],[0.6666666666666666,\"#ed7953\"],[0.7777777777777778,\"#fb9f3a\"],[0.8888888888888888,\"#fdca26\"],[1.0,\"#f0f921\"]]},\"colorway\":[\"#636efa\",\"#EF553B\",\"#00cc96\",\"#ab63fa\",\"#FFA15A\",\"#19d3f3\",\"#FF6692\",\"#B6E880\",\"#FF97FF\",\"#FECB52\"],\"font\":{\"color\":\"#2a3f5f\"},\"geo\":{\"bgcolor\":\"white\",\"lakecolor\":\"white\",\"landcolor\":\"#E5ECF6\",\"showlakes\":true,\"showland\":true,\"subunitcolor\":\"white\"},\"hoverlabel\":{\"align\":\"left\"},\"hovermode\":\"closest\",\"mapbox\":{\"style\":\"light\"},\"paper_bgcolor\":\"white\",\"plot_bgcolor\":\"#E5ECF6\",\"polar\":{\"angularaxis\":{\"gridcolor\":\"white\",\"linecolor\":\"white\",\"ticks\":\"\"},\"bgcolor\":\"#E5ECF6\",\"radialaxis\":{\"gridcolor\":\"white\",\"linecolor\":\"white\",\"ticks\":\"\"}},\"scene\":{\"xaxis\":{\"backgroundcolor\":\"#E5ECF6\",\"gridcolor\":\"white\",\"gridwidth\":2,\"linecolor\":\"white\",\"showbackground\":true,\"ticks\":\"\",\"zerolinecolor\":\"white\"},\"yaxis\":{\"backgroundcolor\":\"#E5ECF6\",\"gridcolor\":\"white\",\"gridwidth\":2,\"linecolor\":\"white\",\"showbackground\":true,\"ticks\":\"\",\"zerolinecolor\":\"white\"},\"zaxis\":{\"backgroundcolor\":\"#E5ECF6\",\"gridcolor\":\"white\",\"gridwidth\":2,\"linecolor\":\"white\",\"showbackground\":true,\"ticks\":\"\",\"zerolinecolor\":\"white\"}},\"shapedefaults\":{\"line\":{\"color\":\"#2a3f5f\"}},\"ternary\":{\"aaxis\":{\"gridcolor\":\"white\",\"linecolor\":\"white\",\"ticks\":\"\"},\"baxis\":{\"gridcolor\":\"white\",\"linecolor\":\"white\",\"ticks\":\"\"},\"bgcolor\":\"#E5ECF6\",\"caxis\":{\"gridcolor\":\"white\",\"linecolor\":\"white\",\"ticks\":\"\"}},\"title\":{\"x\":0.05},\"xaxis\":{\"automargin\":true,\"gridcolor\":\"white\",\"linecolor\":\"white\",\"ticks\":\"\",\"title\":{\"standoff\":15},\"zerolinecolor\":\"white\",\"zerolinewidth\":2},\"yaxis\":{\"automargin\":true,\"gridcolor\":\"white\",\"linecolor\":\"white\",\"ticks\":\"\",\"title\":{\"standoff\":15},\"zerolinecolor\":\"white\",\"zerolinewidth\":2}}},\"xaxis\":{\"anchor\":\"y\",\"domain\":[0.0,1.0],\"title\":{\"text\":\"DateClosing\"}},\"yaxis\":{\"anchor\":\"x\",\"domain\":[0.0,1.0],\"title\":{\"text\":\"Fund\"}},\"legend\":{\"title\":{\"text\":\"State\"},\"tracegroupgap\":0},\"margin\":{\"t\":60}},                        {\"responsive\": true}                    ).then(function(){\n",
       "                            \n",
       "var gd = document.getElementById('662b3de9-abf4-4875-9577-892c8da44edd');\n",
       "var x = new MutationObserver(function (mutations, observer) {{\n",
       "        var display = window.getComputedStyle(gd).display;\n",
       "        if (!display || display === 'none') {{\n",
       "            console.log([gd, 'removed!']);\n",
       "            Plotly.purge(gd);\n",
       "            observer.disconnect();\n",
       "        }}\n",
       "}});\n",
       "\n",
       "// Listen for the removal of the full notebook cells\n",
       "var notebookContainer = gd.closest('#notebook-container');\n",
       "if (notebookContainer) {{\n",
       "    x.observe(notebookContainer, {childList: true});\n",
       "}}\n",
       "\n",
       "// Listen for the clearing of the current output cell\n",
       "var outputEl = gd.closest('.output');\n",
       "if (outputEl) {{\n",
       "    x.observe(outputEl, {childList: true});\n",
       "}}\n",
       "\n",
       "                        })                };                });            </script>        </div>"
      ]
     },
     "metadata": {},
     "output_type": "display_data"
    }
   ],
   "source": [
    "px.scatter(data_frame =df, x= 'DateClosing', y='Fund', color='State')"
   ]
  },
  {
   "cell_type": "code",
   "execution_count": 194,
   "id": "72bd2d06-85a6-42c3-84e4-d37d25fc10ee",
   "metadata": {},
   "outputs": [],
   "source": [
    "df['Year-Month']=df['DateClosing'].dt.strftime('%Y')+' '+df['DateClosing'].dt.strftime('%m')"
   ]
  },
  {
   "cell_type": "code",
   "execution_count": 195,
   "id": "726218c5-870c-4cbc-9979-0976349ab90a",
   "metadata": {},
   "outputs": [
    {
     "data": {
      "text/plain": [
       "0      202010\n",
       "1      202010\n",
       "2      202004\n",
       "3      202002\n",
       "4      201911\n",
       "        ...  \n",
       "558    200107\n",
       "559    200105\n",
       "560    200102\n",
       "561    200012\n",
       "562    200010\n",
       "Name: Year-Month, Length: 563, dtype: object"
      ]
     },
     "execution_count": 195,
     "metadata": {},
     "output_type": "execute_result"
    }
   ],
   "source": [
    "df['Year-Month']"
   ]
  },
  {
   "cell_type": "code",
   "execution_count": 196,
   "id": "a1d9b3e5-8fca-48e7-8cb8-014be81d84bb",
   "metadata": {},
   "outputs": [
    {
     "data": {
      "application/vnd.plotly.v1+json": {
       "config": {
        "plotlyServerURL": "https://plot.ly"
       },
       "data": [
        {
         "hovertemplate": "State=KS<br>Year-Month=%{x}<br>Fund=%{y}<extra></extra>",
         "legendgroup": "KS",
         "marker": {
          "color": "#636efa",
          "symbol": "circle"
         },
         "mode": "markers",
         "name": "KS",
         "orientation": "v",
         "showlegend": true,
         "type": "scatter",
         "x": [
          "202010",
          "201710",
          "201207",
          "201108",
          "201010",
          "201010",
          "201007",
          "200912",
          "200906",
          "200903",
          "200808"
         ],
         "xaxis": "x",
         "y": [
          10538,
          10529,
          10452,
          10388,
          10302,
          10298,
          10269,
          10160,
          10066,
          10046,
          10011
         ],
         "yaxis": "y"
        },
        {
         "hovertemplate": "State=FL<br>Year-Month=%{x}<br>Fund=%{y}<extra></extra>",
         "legendgroup": "FL",
         "marker": {
          "color": "#EF553B",
          "symbol": "circle"
         },
         "mode": "markers",
         "name": "FL",
         "orientation": "v",
         "showlegend": true,
         "type": "scatter",
         "x": [
          "202010",
          "201501",
          "201406",
          "201310",
          "201308",
          "201304",
          "201304",
          "201211",
          "201210",
          "201210",
          "201207",
          "201206",
          "201205",
          "201201",
          "201201",
          "201112",
          "201110",
          "201109",
          "201108",
          "201107",
          "201107",
          "201107",
          "201106",
          "201105",
          "201104",
          "201104",
          "201102",
          "201101",
          "201012",
          "201011",
          "201010",
          "201010",
          "201010",
          "201009",
          "201009",
          "201008",
          "201008",
          "201007",
          "201007",
          "201007",
          "201007",
          "201007",
          "201007",
          "201006",
          "201005",
          "201005",
          "201005",
          "201005",
          "201004",
          "201004",
          "201004",
          "201003",
          "201003",
          "201003",
          "201002",
          "201001",
          "201001",
          "200912",
          "200912",
          "200911",
          "200911",
          "200911",
          "200910",
          "200910",
          "200910",
          "200908",
          "200908",
          "200907",
          "200905",
          "200902",
          "200901",
          "200810",
          "200808",
          "200403",
          "200203",
          "200201"
         ],
         "xaxis": "x",
         "y": [
          10537,
          10510,
          10501,
          10490,
          10484,
          10473,
          10475,
          10465,
          10461,
          10462,
          10454,
          10445,
          10439,
          10421,
          10418,
          10415,
          10408,
          10395,
          10392,
          10381,
          10382,
          10376,
          10370,
          10364,
          10360,
          10362,
          10342,
          10325,
          10324,
          10316,
          10303,
          10300,
          10296,
          10293,
          10286,
          10281,
          10279,
          10272,
          10271,
          10268,
          10260,
          10261,
          10259,
          10253,
          10243,
          10242,
          10241,
          10234,
          10216,
          10210,
          10213,
          10206,
          10197,
          10192,
          10187,
          10181,
          10173,
          10165,
          10158,
          10151,
          10149,
          10148,
          10129,
          10131,
          10130,
          10099,
          10098,
          10095,
          10061,
          10038,
          10032,
          10019,
          10010,
          4663,
          4654,
          4650
         ],
         "yaxis": "y"
        },
        {
         "hovertemplate": "State=WV<br>Year-Month=%{x}<br>Fund=%{y}<extra></extra>",
         "legendgroup": "WV",
         "marker": {
          "color": "#00cc96",
          "symbol": "circle"
         },
         "mode": "markers",
         "name": "WV",
         "orientation": "v",
         "showlegend": true,
         "type": "scatter",
         "x": [
          "202004",
          "200809"
         ],
         "xaxis": "x",
         "y": [
          10536,
          10014
         ],
         "yaxis": "y"
        },
        {
         "hovertemplate": "State=NE<br>Year-Month=%{x}<br>Fund=%{y}<extra></extra>",
         "legendgroup": "NE",
         "marker": {
          "color": "#ab63fa",
          "symbol": "circle"
         },
         "mode": "markers",
         "name": "NE",
         "orientation": "v",
         "showlegend": true,
         "type": "scatter",
         "x": [
          "202002",
          "201111",
          "201006",
          "200902"
         ],
         "xaxis": "x",
         "y": [
          10535,
          10410,
          10248,
          10039
         ],
         "yaxis": "y"
        },
        {
         "hovertemplate": "State=NJ<br>Year-Month=%{x}<br>Fund=%{y}<extra></extra>",
         "legendgroup": "NJ",
         "marker": {
          "color": "#FFA15A",
          "symbol": "circle"
         },
         "mode": "markers",
         "name": "NJ",
         "orientation": "v",
         "showlegend": true,
         "type": "scatter",
         "x": [
          "201911",
          "201701",
          "201204",
          "201110",
          "201009",
          "200907",
          "200905",
          "200402"
         ],
         "xaxis": "x",
         "y": [
          10534,
          10523,
          10433,
          10403,
          10290,
          10097,
          10058,
          6006
         ],
         "yaxis": "y"
        },
        {
         "hovertemplate": "State=OH<br>Year-Month=%{x}<br>Fund=%{y}<extra></extra>",
         "legendgroup": "OH",
         "marker": {
          "color": "#19d3f3",
          "symbol": "circle"
         },
         "mode": "markers",
         "name": "OH",
         "orientation": "v",
         "showlegend": true,
         "type": "scatter",
         "x": [
          "201910",
          "201405",
          "201009",
          "201003",
          "200912",
          "200907",
          "200710",
          "200202",
          "200105"
         ],
         "xaxis": "x",
         "y": [
          10533,
          10499,
          10288,
          10201,
          10155,
          10096,
          10002,
          4652,
          4648
         ],
         "yaxis": "y"
        },
        {
         "hovertemplate": "State=KY<br>Year-Month=%{x}<br>Fund=%{y}<extra></extra>",
         "legendgroup": "KY",
         "marker": {
          "color": "#FF6692",
          "symbol": "circle"
         },
         "mode": "markers",
         "name": "KY",
         "orientation": "v",
         "showlegend": true,
         "type": "scatter",
         "x": [
          "201910",
          "201304",
          "200909"
         ],
         "xaxis": "x",
         "y": [
          10532,
          10474,
          10121
         ],
         "yaxis": "y"
        },
        {
         "hovertemplate": "State=TX<br>Year-Month=%{x}<br>Fund=%{y}<extra></extra>",
         "legendgroup": "TX",
         "marker": {
          "color": "#B6E880",
          "symbol": "circle"
         },
         "mode": "markers",
         "name": "TX",
         "orientation": "v",
         "showlegend": true,
         "type": "scatter",
         "x": [
          "201905",
          "201312",
          "201309",
          "201109",
          "201002",
          "200910",
          "200910",
          "200910",
          "200908",
          "200907",
          "200812",
          "200811",
          "200201"
         ],
         "xaxis": "x",
         "y": [
          10531,
          10491,
          10488,
          10398,
          10186,
          10138,
          10142,
          10141,
          10105,
          10079,
          10026,
          10021,
          4651
         ],
         "yaxis": "y"
        },
        {
         "hovertemplate": "State=IL<br>Year-Month=%{x}<br>Fund=%{y}<extra></extra>",
         "legendgroup": "IL",
         "marker": {
          "color": "#FF97FF",
          "symbol": "circle"
         },
         "mode": "markers",
         "name": "IL",
         "orientation": "v",
         "showlegend": true,
         "type": "scatter",
         "x": [
          "201712",
          "201705",
          "201701",
          "201505",
          "201501",
          "201410",
          "201407",
          "201406",
          "201405",
          "201401",
          "201302",
          "201211",
          "201209",
          "201208",
          "201207",
          "201206",
          "201203",
          "201203",
          "201202",
          "201110",
          "201110",
          "201108",
          "201108",
          "201107",
          "201104",
          "201103",
          "201102",
          "201102",
          "201010",
          "201008",
          "201008",
          "201008",
          "201006",
          "201005",
          "201004",
          "201004",
          "201004",
          "201004",
          "201004",
          "201004",
          "201004",
          "201003",
          "201002",
          "201001",
          "200912",
          "200912",
          "200910",
          "200910",
          "200910",
          "200909",
          "200909",
          "200909",
          "200907",
          "200907",
          "200907",
          "200907",
          "200907",
          "200907",
          "200907",
          "200906",
          "200905",
          "200905",
          "200902",
          "200902",
          "200901",
          "200810",
          "200206",
          "200107",
          "200012"
         ],
         "xaxis": "x",
         "y": [
          10530,
          10528,
          10524,
          10514,
          10511,
          10507,
          10505,
          10502,
          10498,
          10492,
          10470,
          10464,
          10459,
          10456,
          10453,
          10442,
          10431,
          10429,
          10424,
          10409,
          10402,
          10390,
          10386,
          10374,
          10352,
          10350,
          10347,
          10337,
          10301,
          10284,
          10277,
          10276,
          10246,
          10236,
          10224,
          10223,
          10221,
          10222,
          10220,
          10219,
          10218,
          10191,
          10184,
          10170,
          10166,
          10154,
          10140,
          10137,
          10128,
          10117,
          10115,
          10113,
          10094,
          10074,
          10078,
          10073,
          10075,
          10077,
          10076,
          10064,
          10063,
          10062,
          10042,
          10037,
          10028,
          10017,
          6005,
          6004,
          4646
         ],
         "yaxis": "y"
        },
        {
         "hovertemplate": "State=WI<br>Year-Month=%{x}<br>Fund=%{y}<extra></extra>",
         "legendgroup": "WI",
         "marker": {
          "color": "#FECB52",
          "symbol": "circle"
         },
         "mode": "markers",
         "name": "WI",
         "orientation": "v",
         "showlegend": true,
         "type": "scatter",
         "x": [
          "201705",
          "201603",
          "201308",
          "201305",
          "201103",
          "201102",
          "201101",
          "201011",
          "201009",
          "200910",
          "200305"
         ],
         "xaxis": "x",
         "y": [
          10527,
          10518,
          10485,
          10478,
          10348,
          10339,
          10332,
          10315,
          10291,
          10132,
          4661
         ],
         "yaxis": "y"
        },
        {
         "hovertemplate": "State=LA<br>Year-Month=%{x}<br>Fund=%{y}<extra></extra>",
         "legendgroup": "LA",
         "marker": {
          "color": "#636efa",
          "symbol": "circle"
         },
         "mode": "markers",
         "name": "LA",
         "orientation": "v",
         "showlegend": true,
         "type": "scatter",
         "x": [
          "201704",
          "201111",
          "201003",
          "200212"
         ],
         "xaxis": "x",
         "y": [
          10526,
          10413,
          10196,
          4659
         ],
         "yaxis": "y"
        },
        {
         "hovertemplate": "State=UT<br>Year-Month=%{x}<br>Fund=%{y}<extra></extra>",
         "legendgroup": "UT",
         "marker": {
          "color": "#EF553B",
          "symbol": "circle"
         },
         "mode": "markers",
         "name": "UT",
         "orientation": "v",
         "showlegend": true,
         "type": "scatter",
         "x": [
          "201703",
          "201111",
          "201003",
          "201003",
          "201001",
          "200905",
          "200901",
          "200406"
         ],
         "xaxis": "x",
         "y": [
          10525,
          10411,
          10200,
          10193,
          10171,
          10057,
          10031,
          4665
         ],
         "yaxis": "y"
        },
        {
         "hovertemplate": "State=AR<br>Year-Month=%{x}<br>Fund=%{y}<extra></extra>",
         "legendgroup": "AR",
         "marker": {
          "color": "#00cc96",
          "symbol": "circle"
         },
         "mode": "markers",
         "name": "AR",
         "orientation": "v",
         "showlegend": true,
         "type": "scatter",
         "x": [
          "201609",
          "201012",
          "200805",
          "200109"
         ],
         "xaxis": "x",
         "y": [
          10522,
          10322,
          10005,
          4649
         ],
         "yaxis": "y"
        },
        {
         "hovertemplate": "State=GA<br>Year-Month=%{x}<br>Fund=%{y}<extra></extra>",
         "legendgroup": "GA",
         "marker": {
          "color": "#ab63fa",
          "symbol": "circle"
         },
         "mode": "markers",
         "name": "GA",
         "orientation": "v",
         "showlegend": true,
         "type": "scatter",
         "x": [
          "201608",
          "201510",
          "201502",
          "201407",
          "201305",
          "201304",
          "201303",
          "201211",
          "201207",
          "201207",
          "201207",
          "201207",
          "201206",
          "201203",
          "201203",
          "201202",
          "201201",
          "201111",
          "201110",
          "201110",
          "201110",
          "201109",
          "201109",
          "201108",
          "201107",
          "201107",
          "201106",
          "201106",
          "201105",
          "201105",
          "201104",
          "201104",
          "201104",
          "201104",
          "201102",
          "201102",
          "201102",
          "201102",
          "201101",
          "201101",
          "201012",
          "201012",
          "201012",
          "201011",
          "201011",
          "201010",
          "201010",
          "201009",
          "201009",
          "201009",
          "201007",
          "201007",
          "201006",
          "201005",
          "201003",
          "201003",
          "201003",
          "201003",
          "201003",
          "201001",
          "201001",
          "200912",
          "200912",
          "200912",
          "200912",
          "200911",
          "200910",
          "200909",
          "200908",
          "200908",
          "200907",
          "200907",
          "200907",
          "200907",
          "200907",
          "200907",
          "200907",
          "200906",
          "200906",
          "200906",
          "200905",
          "200904",
          "200903",
          "200903",
          "200903",
          "200902",
          "200812",
          "200812",
          "200811",
          "200810",
          "200808",
          "200709",
          "200209"
         ],
         "xaxis": "x",
         "y": [
          10521,
          10516,
          10512,
          10504,
          10481,
          10476,
          10471,
          10466,
          10455,
          10450,
          10451,
          10448,
          10446,
          10430,
          10428,
          10426,
          10419,
          10412,
          10406,
          10407,
          10404,
          10393,
          10394,
          10391,
          10377,
          10378,
          10372,
          10371,
          10366,
          10365,
          10363,
          10361,
          10355,
          10353,
          10344,
          10345,
          10338,
          10336,
          10329,
          10327,
          10323,
          10319,
          10320,
          10312,
          10313,
          10304,
          10305,
          10292,
          10289,
          10287,
          10274,
          10265,
          10251,
          10238,
          10208,
          10207,
          10202,
          10199,
          10198,
          10180,
          10179,
          10164,
          10153,
          10157,
          10152,
          10145,
          10127,
          10122,
          10108,
          10107,
          10088,
          10087,
          10085,
          10090,
          10089,
          10086,
          10084,
          10069,
          10068,
          10067,
          10059,
          10053,
          10048,
          10047,
          10044,
          10036,
          10027,
          10025,
          10022,
          10018,
          10012,
          10001,
          4657
         ],
         "yaxis": "y"
        },
        {
         "hovertemplate": "State=PA<br>Year-Month=%{x}<br>Fund=%{y}<extra></extra>",
         "legendgroup": "PA",
         "marker": {
          "color": "#FFA15A",
          "symbol": "circle"
         },
         "mode": "markers",
         "name": "PA",
         "orientation": "v",
         "showlegend": true,
         "type": "scatter",
         "x": [
          "201605",
          "201402",
          "201210",
          "201201",
          "201108",
          "201012",
          "201011",
          "200908",
          "200702",
          "200311"
         ],
         "xaxis": "x",
         "y": [
          10520,
          10496,
          10463,
          10417,
          10389,
          10317,
          10314,
          10104,
          10000,
          4662
         ],
         "yaxis": "y"
        },
        {
         "hovertemplate": "State=TN<br>Year-Month=%{x}<br>Fund=%{y}<extra></extra>",
         "legendgroup": "TN",
         "marker": {
          "color": "#19d3f3",
          "symbol": "circle"
         },
         "mode": "markers",
         "name": "TN",
         "orientation": "v",
         "showlegend": true,
         "type": "scatter",
         "x": [
          "201604",
          "201308",
          "201306",
          "201206",
          "201201",
          "201201",
          "200211"
         ],
         "xaxis": "x",
         "y": [
          10519,
          10486,
          10483,
          10447,
          10420,
          10423,
          4658
         ],
         "yaxis": "y"
        },
        {
         "hovertemplate": "State=WA<br>Year-Month=%{x}<br>Fund=%{y}<extra></extra>",
         "legendgroup": "WA",
         "marker": {
          "color": "#FF6692",
          "symbol": "circle"
         },
         "mode": "markers",
         "name": "WA",
         "orientation": "v",
         "showlegend": true,
         "type": "scatter",
         "x": [
          "201510",
          "201301",
          "201108",
          "201105",
          "201105",
          "201011",
          "201010",
          "201009",
          "201007",
          "201006",
          "201004",
          "201004",
          "201002",
          "201001",
          "201001",
          "201001",
          "200909",
          "200905",
          "200901"
         ],
         "xaxis": "x",
         "y": [
          10517,
          10468,
          10387,
          10368,
          10367,
          10309,
          10295,
          10294,
          10275,
          10249,
          10228,
          10212,
          10189,
          10178,
          10172,
          10168,
          10119,
          10060,
          10029
         ],
         "yaxis": "y"
        },
        {
         "hovertemplate": "State=CO<br>Year-Month=%{x}<br>Fund=%{y}<extra></extra>",
         "legendgroup": "CO",
         "marker": {
          "color": "#B6E880",
          "symbol": "circle"
         },
         "mode": "markers",
         "name": "CO",
         "orientation": "v",
         "showlegend": true,
         "type": "scatter",
         "x": [
          "201507",
          "201110",
          "201107",
          "201107",
          "201107",
          "201101",
          "201101",
          "200910",
          "200904",
          "200903"
         ],
         "xaxis": "x",
         "y": [
          10515,
          10405,
          10380,
          10375,
          10373,
          10334,
          10331,
          10123,
          10050,
          10045
         ],
         "yaxis": "y"
        },
        {
         "hovertemplate": "State=PR<br>Year-Month=%{x}<br>Fund=%{y}<extra></extra>",
         "legendgroup": "PR",
         "marker": {
          "color": "#FF97FF",
          "symbol": "circle"
         },
         "mode": "markers",
         "name": "PR",
         "orientation": "v",
         "showlegend": true,
         "type": "scatter",
         "x": [
          "201502",
          "201004",
          "201004",
          "201004"
         ],
         "xaxis": "x",
         "y": [
          10513,
          10231,
          10230,
          10229
         ],
         "yaxis": "y"
        },
        {
         "hovertemplate": "State=MN<br>Year-Month=%{x}<br>Fund=%{y}<extra></extra>",
         "legendgroup": "MN",
         "marker": {
          "color": "#FECB52",
          "symbol": "circle"
         },
         "mode": "markers",
         "name": "MN",
         "orientation": "v",
         "showlegend": true,
         "type": "scatter",
         "x": [
          "201412",
          "201301",
          "201209",
          "201204",
          "201202",
          "201201",
          "201110",
          "201104",
          "201012",
          "201007",
          "201005",
          "201005",
          "201003",
          "201002",
          "201001",
          "201001",
          "200911",
          "200910",
          "200910",
          "200909",
          "200908",
          "200906",
          "200805"
         ],
         "xaxis": "x",
         "y": [
          10509,
          10469,
          10457,
          10436,
          10427,
          10422,
          10399,
          10357,
          10321,
          10264,
          10240,
          10233,
          10203,
          10183,
          10182,
          10169,
          10143,
          10133,
          10124,
          10118,
          10111,
          10070,
          10006
         ],
         "yaxis": "y"
        },
        {
         "hovertemplate": "State=CA<br>Year-Month=%{x}<br>Fund=%{y}<extra></extra>",
         "legendgroup": "CA",
         "marker": {
          "color": "#636efa",
          "symbol": "circle"
         },
         "mode": "markers",
         "name": "CA",
         "orientation": "v",
         "showlegend": true,
         "type": "scatter",
         "x": [
          "201411",
          "201204",
          "201109",
          "201102",
          "201102",
          "201102",
          "201011",
          "201011",
          "201008",
          "201008",
          "201008",
          "201008",
          "201005",
          "201005",
          "201004",
          "201004",
          "201002",
          "201001",
          "200912",
          "200912",
          "200911",
          "200911",
          "200910",
          "200910",
          "200910",
          "200910",
          "200908",
          "200907",
          "200907",
          "200906",
          "200906",
          "200904",
          "200902",
          "200902",
          "200901",
          "200811",
          "200811",
          "200811",
          "200807",
          "200807",
          "200302"
         ],
         "xaxis": "x",
         "y": [
          10508,
          10437,
          10397,
          10346,
          10343,
          10340,
          10307,
          10310,
          10285,
          10282,
          10278,
          10283,
          10244,
          10232,
          10217,
          10214,
          10185,
          10177,
          10167,
          10161,
          10150,
          10147,
          10139,
          10134,
          10135,
          10126,
          10110,
          10082,
          10083,
          10072,
          10071,
          10054,
          10034,
          10035,
          10030,
          10024,
          10023,
          10020,
          10009,
          10007,
          4660
         ],
         "yaxis": "y"
        },
        {
         "hovertemplate": "State=MD<br>Year-Month=%{x}<br>Fund=%{y}<extra></extra>",
         "legendgroup": "MD",
         "marker": {
          "color": "#EF553B",
          "symbol": "circle"
         },
         "mode": "markers",
         "name": "MD",
         "orientation": "v",
         "showlegend": true,
         "type": "scatter",
         "x": [
          "201410",
          "201405",
          "201204",
          "201204",
          "201011",
          "201007",
          "201007",
          "201003",
          "200908",
          "200901"
         ],
         "xaxis": "x",
         "y": [
          10506,
          10500,
          10435,
          10434,
          10308,
          10257,
          10255,
          10190,
          10109,
          10033
         ],
         "yaxis": "y"
        },
        {
         "hovertemplate": "State=OK<br>Year-Month=%{x}<br>Fund=%{y}<extra></extra>",
         "legendgroup": "OK",
         "marker": {
          "color": "#00cc96",
          "symbol": "circle"
         },
         "mode": "markers",
         "name": "OK",
         "orientation": "v",
         "showlegend": true,
         "type": "scatter",
         "x": [
          "201406",
          "201401",
          "201206",
          "201103",
          "201101",
          "201007",
          "200907"
         ],
         "xaxis": "x",
         "y": [
          10503,
          10493,
          10443,
          10349,
          10335,
          10256,
          10093
         ],
         "yaxis": "y"
        },
        {
         "hovertemplate": "State=SC<br>Year-Month=%{x}<br>Fund=%{y}<extra></extra>",
         "legendgroup": "SC",
         "marker": {
          "color": "#ab63fa",
          "symbol": "circle"
         },
         "mode": "markers",
         "name": "SC",
         "orientation": "v",
         "showlegend": true,
         "type": "scatter",
         "x": [
          "201404",
          "201206",
          "201204",
          "201107",
          "201106",
          "201101",
          "201007",
          "201007",
          "201007",
          "201004"
         ],
         "xaxis": "x",
         "y": [
          10497,
          10441,
          10438,
          10383,
          10369,
          10328,
          10270,
          10263,
          10262,
          10209
         ],
         "yaxis": "y"
        },
        {
         "hovertemplate": "State=VA<br>Year-Month=%{x}<br>Fund=%{y}<extra></extra>",
         "legendgroup": "VA",
         "marker": {
          "color": "#FFA15A",
          "symbol": "circle"
         },
         "mode": "markers",
         "name": "VA",
         "orientation": "v",
         "showlegend": true,
         "type": "scatter",
         "x": [
          "201402",
          "201109",
          "201107",
          "201008",
          "200912"
         ],
         "xaxis": "x",
         "y": [
          10495,
          10396,
          10385,
          10280,
          10156
         ],
         "yaxis": "y"
        },
        {
         "hovertemplate": "State=ID<br>Year-Month=%{x}<br>Fund=%{y}<extra></extra>",
         "legendgroup": "ID",
         "marker": {
          "color": "#19d3f3",
          "symbol": "circle"
         },
         "mode": "markers",
         "name": "ID",
         "orientation": "v",
         "showlegend": true,
         "type": "scatter",
         "x": [
          "201401",
          "200904"
         ],
         "xaxis": "x",
         "y": [
          10494,
          10055
         ],
         "yaxis": "y"
        },
        {
         "hovertemplate": "State=CT<br>Year-Month=%{x}<br>Fund=%{y}<extra></extra>",
         "legendgroup": "CT",
         "marker": {
          "color": "#FF6692",
          "symbol": "circle"
         },
         "mode": "markers",
         "name": "CT",
         "orientation": "v",
         "showlegend": true,
         "type": "scatter",
         "x": [
          "201309",
          "200206"
         ],
         "xaxis": "x",
         "y": [
          10489,
          4656
         ],
         "yaxis": "y"
        },
        {
         "hovertemplate": "State=AZ<br>Year-Month=%{x}<br>Fund=%{y}<extra></extra>",
         "legendgroup": "AZ",
         "marker": {
          "color": "#B6E880",
          "symbol": "circle"
         },
         "mode": "markers",
         "name": "AZ",
         "orientation": "v",
         "showlegend": true,
         "type": "scatter",
         "x": [
          "201308",
          "201305",
          "201304",
          "201112",
          "201107",
          "201101",
          "201011",
          "201010",
          "201005",
          "201003",
          "200912",
          "200910",
          "200909",
          "200908",
          "200908",
          "200202"
         ],
         "xaxis": "x",
         "y": [
          10487,
          10479,
          10472,
          10416,
          10379,
          10326,
          10311,
          10306,
          10235,
          10205,
          10159,
          10136,
          10114,
          10101,
          10102,
          4653
         ],
         "yaxis": "y"
        },
        {
         "hovertemplate": "State=NV<br>Year-Month=%{x}<br>Fund=%{y}<extra></extra>",
         "legendgroup": "NV",
         "marker": {
          "color": "#FF97FF",
          "symbol": "circle"
         },
         "mode": "markers",
         "name": "NV",
         "orientation": "v",
         "showlegend": true,
         "type": "scatter",
         "x": [
          "201306",
          "201104",
          "201007",
          "201006",
          "201005",
          "201002",
          "200908",
          "200904",
          "200902",
          "200809",
          "200809",
          "200807"
         ],
         "xaxis": "x",
         "y": [
          10482,
          10351,
          10267,
          10250,
          10245,
          10188,
          10100,
          10051,
          10043,
          10015,
          10013,
          10008
         ],
         "yaxis": "y"
        },
        {
         "hovertemplate": "State=NC<br>Year-Month=%{x}<br>Fund=%{y}<extra></extra>",
         "legendgroup": "NC",
         "marker": {
          "color": "#FECB52",
          "symbol": "circle"
         },
         "mode": "markers",
         "name": "NC",
         "orientation": "v",
         "showlegend": true,
         "type": "scatter",
         "x": [
          "201305",
          "201304",
          "201206",
          "201110",
          "201101",
          "200906",
          "200904"
         ],
         "xaxis": "x",
         "y": [
          10480,
          10477,
          10444,
          10401,
          10330,
          10065,
          10049
         ],
         "yaxis": "y"
        },
        {
         "hovertemplate": "State=MO<br>Year-Month=%{x}<br>Fund=%{y}<extra></extra>",
         "legendgroup": "MO",
         "marker": {
          "color": "#636efa",
          "symbol": "circle"
         },
         "mode": "markers",
         "name": "MO",
         "orientation": "v",
         "showlegend": true,
         "type": "scatter",
         "x": [
          "201212",
          "201210",
          "201209",
          "201207",
          "201110",
          "201010",
          "201010",
          "201005",
          "201004",
          "201004",
          "201001",
          "200911",
          "200909",
          "200904",
          "200803",
          "200801"
         ],
         "xaxis": "x",
         "y": [
          10467,
          10460,
          10458,
          10449,
          10400,
          10297,
          10299,
          10239,
          10225,
          10227,
          10174,
          10146,
          10112,
          10052,
          10004,
          10003
         ],
         "yaxis": "y"
        },
        {
         "hovertemplate": "State=AL<br>Year-Month=%{x}<br>Fund=%{y}<extra></extra>",
         "legendgroup": "AL",
         "marker": {
          "color": "#EF553B",
          "symbol": "circle"
         },
         "mode": "markers",
         "name": "AL",
         "orientation": "v",
         "showlegend": true,
         "type": "scatter",
         "x": [
          "201205",
          "201104",
          "201104",
          "201003",
          "200912",
          "200908",
          "200908"
         ],
         "xaxis": "x",
         "y": [
          10440,
          10358,
          10356,
          10204,
          10163,
          10106,
          10103
         ],
         "yaxis": "y"
        },
        {
         "hovertemplate": "State=MI<br>Year-Month=%{x}<br>Fund=%{y}<extra></extra>",
         "legendgroup": "MI",
         "marker": {
          "color": "#00cc96",
          "symbol": "circle"
         },
         "mode": "markers",
         "name": "MI",
         "orientation": "v",
         "showlegend": true,
         "type": "scatter",
         "x": [
          "201203",
          "201104",
          "201102",
          "201012",
          "201007",
          "201005",
          "201004",
          "201004",
          "200912",
          "200911",
          "200910",
          "200904",
          "200810",
          "200203"
         ],
         "xaxis": "x",
         "y": [
          10432,
          10359,
          10341,
          10318,
          10258,
          10237,
          10226,
          10215,
          10162,
          10144,
          10125,
          10056,
          10016,
          4655
         ],
         "yaxis": "y"
        },
        {
         "hovertemplate": "State=IN<br>Year-Month=%{x}<br>Fund=%{y}<extra></extra>",
         "legendgroup": "IN",
         "marker": {
          "color": "#ab63fa",
          "symbol": "circle"
         },
         "mode": "markers",
         "name": "IN",
         "orientation": "v",
         "showlegend": true,
         "type": "scatter",
         "x": [
          "201202",
          "201107",
          "200909"
         ],
         "xaxis": "x",
         "y": [
          10425,
          10384,
          10120
         ],
         "yaxis": "y"
        },
        {
         "hovertemplate": "State=IA<br>Year-Month=%{x}<br>Fund=%{y}<extra></extra>",
         "legendgroup": "IA",
         "marker": {
          "color": "#FFA15A",
          "symbol": "circle"
         },
         "mode": "markers",
         "name": "IA",
         "orientation": "v",
         "showlegend": true,
         "type": "scatter",
         "x": [
          "201111",
          "200909"
         ],
         "xaxis": "x",
         "y": [
          10414,
          10116
         ],
         "yaxis": "y"
        },
        {
         "hovertemplate": "State=MS<br>Year-Month=%{x}<br>Fund=%{y}<extra></extra>",
         "legendgroup": "MS",
         "marker": {
          "color": "#19d3f3",
          "symbol": "circle"
         },
         "mode": "markers",
         "name": "MS",
         "orientation": "v",
         "showlegend": true,
         "type": "scatter",
         "x": [
          "201104",
          "201006"
         ],
         "xaxis": "x",
         "y": [
          10354,
          10247
         ],
         "yaxis": "y"
        },
        {
         "hovertemplate": "State=NM<br>Year-Month=%{x}<br>Fund=%{y}<extra></extra>",
         "legendgroup": "NM",
         "marker": {
          "color": "#FF6692",
          "symbol": "circle"
         },
         "mode": "markers",
         "name": "NM",
         "orientation": "v",
         "showlegend": true,
         "type": "scatter",
         "x": [
          "201101",
          "201006",
          "201001"
         ],
         "xaxis": "x",
         "y": [
          10333,
          10252,
          10175
         ],
         "yaxis": "y"
        },
        {
         "hovertemplate": "State=OR<br>Year-Month=%{x}<br>Fund=%{y}<extra></extra>",
         "legendgroup": "OR",
         "marker": {
          "color": "#B6E880",
          "symbol": "circle"
         },
         "mode": "markers",
         "name": "OR",
         "orientation": "v",
         "showlegend": true,
         "type": "scatter",
         "x": [
          "201007",
          "201007",
          "201001",
          "200908",
          "200902",
          "200902"
         ],
         "xaxis": "x",
         "y": [
          10273,
          10266,
          10176,
          10092,
          10041,
          10040
         ],
         "yaxis": "y"
        },
        {
         "hovertemplate": "State=NY<br>Year-Month=%{x}<br>Fund=%{y}<extra></extra>",
         "legendgroup": "NY",
         "marker": {
          "color": "#FF97FF",
          "symbol": "circle"
         },
         "mode": "markers",
         "name": "NY",
         "orientation": "v",
         "showlegend": true,
         "type": "scatter",
         "x": [
          "201007",
          "201003",
          "201003",
          "200907",
          "200403"
         ],
         "xaxis": "x",
         "y": [
          10254,
          10195,
          10194,
          10091,
          4664
         ],
         "yaxis": "y"
        },
        {
         "hovertemplate": "State=MA<br>Year-Month=%{x}<br>Fund=%{y}<extra></extra>",
         "legendgroup": "MA",
         "marker": {
          "color": "#FECB52",
          "symbol": "circle"
         },
         "mode": "markers",
         "name": "MA",
         "orientation": "v",
         "showlegend": true,
         "type": "scatter",
         "x": [
          "201004"
         ],
         "xaxis": "x",
         "y": [
          10211
         ],
         "yaxis": "y"
        },
        {
         "hovertemplate": "State=SD<br>Year-Month=%{x}<br>Fund=%{y}<extra></extra>",
         "legendgroup": "SD",
         "marker": {
          "color": "#636efa",
          "symbol": "circle"
         },
         "mode": "markers",
         "name": "SD",
         "orientation": "v",
         "showlegend": true,
         "type": "scatter",
         "x": [
          "200907"
         ],
         "xaxis": "x",
         "y": [
          10081
         ],
         "yaxis": "y"
        },
        {
         "hovertemplate": "State=WY<br>Year-Month=%{x}<br>Fund=%{y}<extra></extra>",
         "legendgroup": "WY",
         "marker": {
          "color": "#EF553B",
          "symbol": "circle"
         },
         "mode": "markers",
         "name": "WY",
         "orientation": "v",
         "showlegend": true,
         "type": "scatter",
         "x": [
          "200907"
         ],
         "xaxis": "x",
         "y": [
          10080
         ],
         "yaxis": "y"
        },
        {
         "hovertemplate": "State=NH<br>Year-Month=%{x}<br>Fund=%{y}<extra></extra>",
         "legendgroup": "NH",
         "marker": {
          "color": "#00cc96",
          "symbol": "circle"
         },
         "mode": "markers",
         "name": "NH",
         "orientation": "v",
         "showlegend": true,
         "type": "scatter",
         "x": [
          "200102"
         ],
         "xaxis": "x",
         "y": [
          4647
         ],
         "yaxis": "y"
        },
        {
         "hovertemplate": "State=HI<br>Year-Month=%{x}<br>Fund=%{y}<extra></extra>",
         "legendgroup": "HI",
         "marker": {
          "color": "#ab63fa",
          "symbol": "circle"
         },
         "mode": "markers",
         "name": "HI",
         "orientation": "v",
         "showlegend": true,
         "type": "scatter",
         "x": [
          "200010"
         ],
         "xaxis": "x",
         "y": [
          4645
         ],
         "yaxis": "y"
        }
       ],
       "layout": {
        "autosize": true,
        "legend": {
         "title": {
          "text": "State"
         },
         "tracegroupgap": 0
        },
        "margin": {
         "t": 60
        },
        "template": {
         "data": {
          "bar": [
           {
            "error_x": {
             "color": "#2a3f5f"
            },
            "error_y": {
             "color": "#2a3f5f"
            },
            "marker": {
             "line": {
              "color": "#E5ECF6",
              "width": 0.5
             },
             "pattern": {
              "fillmode": "overlay",
              "size": 10,
              "solidity": 0.2
             }
            },
            "type": "bar"
           }
          ],
          "barpolar": [
           {
            "marker": {
             "line": {
              "color": "#E5ECF6",
              "width": 0.5
             },
             "pattern": {
              "fillmode": "overlay",
              "size": 10,
              "solidity": 0.2
             }
            },
            "type": "barpolar"
           }
          ],
          "carpet": [
           {
            "aaxis": {
             "endlinecolor": "#2a3f5f",
             "gridcolor": "white",
             "linecolor": "white",
             "minorgridcolor": "white",
             "startlinecolor": "#2a3f5f"
            },
            "baxis": {
             "endlinecolor": "#2a3f5f",
             "gridcolor": "white",
             "linecolor": "white",
             "minorgridcolor": "white",
             "startlinecolor": "#2a3f5f"
            },
            "type": "carpet"
           }
          ],
          "choropleth": [
           {
            "colorbar": {
             "outlinewidth": 0,
             "ticks": ""
            },
            "type": "choropleth"
           }
          ],
          "contour": [
           {
            "colorbar": {
             "outlinewidth": 0,
             "ticks": ""
            },
            "colorscale": [
             [
              0,
              "#0d0887"
             ],
             [
              0.1111111111111111,
              "#46039f"
             ],
             [
              0.2222222222222222,
              "#7201a8"
             ],
             [
              0.3333333333333333,
              "#9c179e"
             ],
             [
              0.4444444444444444,
              "#bd3786"
             ],
             [
              0.5555555555555556,
              "#d8576b"
             ],
             [
              0.6666666666666666,
              "#ed7953"
             ],
             [
              0.7777777777777778,
              "#fb9f3a"
             ],
             [
              0.8888888888888888,
              "#fdca26"
             ],
             [
              1,
              "#f0f921"
             ]
            ],
            "type": "contour"
           }
          ],
          "contourcarpet": [
           {
            "colorbar": {
             "outlinewidth": 0,
             "ticks": ""
            },
            "type": "contourcarpet"
           }
          ],
          "heatmap": [
           {
            "colorbar": {
             "outlinewidth": 0,
             "ticks": ""
            },
            "colorscale": [
             [
              0,
              "#0d0887"
             ],
             [
              0.1111111111111111,
              "#46039f"
             ],
             [
              0.2222222222222222,
              "#7201a8"
             ],
             [
              0.3333333333333333,
              "#9c179e"
             ],
             [
              0.4444444444444444,
              "#bd3786"
             ],
             [
              0.5555555555555556,
              "#d8576b"
             ],
             [
              0.6666666666666666,
              "#ed7953"
             ],
             [
              0.7777777777777778,
              "#fb9f3a"
             ],
             [
              0.8888888888888888,
              "#fdca26"
             ],
             [
              1,
              "#f0f921"
             ]
            ],
            "type": "heatmap"
           }
          ],
          "heatmapgl": [
           {
            "colorbar": {
             "outlinewidth": 0,
             "ticks": ""
            },
            "colorscale": [
             [
              0,
              "#0d0887"
             ],
             [
              0.1111111111111111,
              "#46039f"
             ],
             [
              0.2222222222222222,
              "#7201a8"
             ],
             [
              0.3333333333333333,
              "#9c179e"
             ],
             [
              0.4444444444444444,
              "#bd3786"
             ],
             [
              0.5555555555555556,
              "#d8576b"
             ],
             [
              0.6666666666666666,
              "#ed7953"
             ],
             [
              0.7777777777777778,
              "#fb9f3a"
             ],
             [
              0.8888888888888888,
              "#fdca26"
             ],
             [
              1,
              "#f0f921"
             ]
            ],
            "type": "heatmapgl"
           }
          ],
          "histogram": [
           {
            "marker": {
             "pattern": {
              "fillmode": "overlay",
              "size": 10,
              "solidity": 0.2
             }
            },
            "type": "histogram"
           }
          ],
          "histogram2d": [
           {
            "colorbar": {
             "outlinewidth": 0,
             "ticks": ""
            },
            "colorscale": [
             [
              0,
              "#0d0887"
             ],
             [
              0.1111111111111111,
              "#46039f"
             ],
             [
              0.2222222222222222,
              "#7201a8"
             ],
             [
              0.3333333333333333,
              "#9c179e"
             ],
             [
              0.4444444444444444,
              "#bd3786"
             ],
             [
              0.5555555555555556,
              "#d8576b"
             ],
             [
              0.6666666666666666,
              "#ed7953"
             ],
             [
              0.7777777777777778,
              "#fb9f3a"
             ],
             [
              0.8888888888888888,
              "#fdca26"
             ],
             [
              1,
              "#f0f921"
             ]
            ],
            "type": "histogram2d"
           }
          ],
          "histogram2dcontour": [
           {
            "colorbar": {
             "outlinewidth": 0,
             "ticks": ""
            },
            "colorscale": [
             [
              0,
              "#0d0887"
             ],
             [
              0.1111111111111111,
              "#46039f"
             ],
             [
              0.2222222222222222,
              "#7201a8"
             ],
             [
              0.3333333333333333,
              "#9c179e"
             ],
             [
              0.4444444444444444,
              "#bd3786"
             ],
             [
              0.5555555555555556,
              "#d8576b"
             ],
             [
              0.6666666666666666,
              "#ed7953"
             ],
             [
              0.7777777777777778,
              "#fb9f3a"
             ],
             [
              0.8888888888888888,
              "#fdca26"
             ],
             [
              1,
              "#f0f921"
             ]
            ],
            "type": "histogram2dcontour"
           }
          ],
          "mesh3d": [
           {
            "colorbar": {
             "outlinewidth": 0,
             "ticks": ""
            },
            "type": "mesh3d"
           }
          ],
          "parcoords": [
           {
            "line": {
             "colorbar": {
              "outlinewidth": 0,
              "ticks": ""
             }
            },
            "type": "parcoords"
           }
          ],
          "pie": [
           {
            "automargin": true,
            "type": "pie"
           }
          ],
          "scatter": [
           {
            "marker": {
             "colorbar": {
              "outlinewidth": 0,
              "ticks": ""
             }
            },
            "type": "scatter"
           }
          ],
          "scatter3d": [
           {
            "line": {
             "colorbar": {
              "outlinewidth": 0,
              "ticks": ""
             }
            },
            "marker": {
             "colorbar": {
              "outlinewidth": 0,
              "ticks": ""
             }
            },
            "type": "scatter3d"
           }
          ],
          "scattercarpet": [
           {
            "marker": {
             "colorbar": {
              "outlinewidth": 0,
              "ticks": ""
             }
            },
            "type": "scattercarpet"
           }
          ],
          "scattergeo": [
           {
            "marker": {
             "colorbar": {
              "outlinewidth": 0,
              "ticks": ""
             }
            },
            "type": "scattergeo"
           }
          ],
          "scattergl": [
           {
            "marker": {
             "colorbar": {
              "outlinewidth": 0,
              "ticks": ""
             }
            },
            "type": "scattergl"
           }
          ],
          "scattermapbox": [
           {
            "marker": {
             "colorbar": {
              "outlinewidth": 0,
              "ticks": ""
             }
            },
            "type": "scattermapbox"
           }
          ],
          "scatterpolar": [
           {
            "marker": {
             "colorbar": {
              "outlinewidth": 0,
              "ticks": ""
             }
            },
            "type": "scatterpolar"
           }
          ],
          "scatterpolargl": [
           {
            "marker": {
             "colorbar": {
              "outlinewidth": 0,
              "ticks": ""
             }
            },
            "type": "scatterpolargl"
           }
          ],
          "scatterternary": [
           {
            "marker": {
             "colorbar": {
              "outlinewidth": 0,
              "ticks": ""
             }
            },
            "type": "scatterternary"
           }
          ],
          "surface": [
           {
            "colorbar": {
             "outlinewidth": 0,
             "ticks": ""
            },
            "colorscale": [
             [
              0,
              "#0d0887"
             ],
             [
              0.1111111111111111,
              "#46039f"
             ],
             [
              0.2222222222222222,
              "#7201a8"
             ],
             [
              0.3333333333333333,
              "#9c179e"
             ],
             [
              0.4444444444444444,
              "#bd3786"
             ],
             [
              0.5555555555555556,
              "#d8576b"
             ],
             [
              0.6666666666666666,
              "#ed7953"
             ],
             [
              0.7777777777777778,
              "#fb9f3a"
             ],
             [
              0.8888888888888888,
              "#fdca26"
             ],
             [
              1,
              "#f0f921"
             ]
            ],
            "type": "surface"
           }
          ],
          "table": [
           {
            "cells": {
             "fill": {
              "color": "#EBF0F8"
             },
             "line": {
              "color": "white"
             }
            },
            "header": {
             "fill": {
              "color": "#C8D4E3"
             },
             "line": {
              "color": "white"
             }
            },
            "type": "table"
           }
          ]
         },
         "layout": {
          "annotationdefaults": {
           "arrowcolor": "#2a3f5f",
           "arrowhead": 0,
           "arrowwidth": 1
          },
          "autotypenumbers": "strict",
          "coloraxis": {
           "colorbar": {
            "outlinewidth": 0,
            "ticks": ""
           }
          },
          "colorscale": {
           "diverging": [
            [
             0,
             "#8e0152"
            ],
            [
             0.1,
             "#c51b7d"
            ],
            [
             0.2,
             "#de77ae"
            ],
            [
             0.3,
             "#f1b6da"
            ],
            [
             0.4,
             "#fde0ef"
            ],
            [
             0.5,
             "#f7f7f7"
            ],
            [
             0.6,
             "#e6f5d0"
            ],
            [
             0.7,
             "#b8e186"
            ],
            [
             0.8,
             "#7fbc41"
            ],
            [
             0.9,
             "#4d9221"
            ],
            [
             1,
             "#276419"
            ]
           ],
           "sequential": [
            [
             0,
             "#0d0887"
            ],
            [
             0.1111111111111111,
             "#46039f"
            ],
            [
             0.2222222222222222,
             "#7201a8"
            ],
            [
             0.3333333333333333,
             "#9c179e"
            ],
            [
             0.4444444444444444,
             "#bd3786"
            ],
            [
             0.5555555555555556,
             "#d8576b"
            ],
            [
             0.6666666666666666,
             "#ed7953"
            ],
            [
             0.7777777777777778,
             "#fb9f3a"
            ],
            [
             0.8888888888888888,
             "#fdca26"
            ],
            [
             1,
             "#f0f921"
            ]
           ],
           "sequentialminus": [
            [
             0,
             "#0d0887"
            ],
            [
             0.1111111111111111,
             "#46039f"
            ],
            [
             0.2222222222222222,
             "#7201a8"
            ],
            [
             0.3333333333333333,
             "#9c179e"
            ],
            [
             0.4444444444444444,
             "#bd3786"
            ],
            [
             0.5555555555555556,
             "#d8576b"
            ],
            [
             0.6666666666666666,
             "#ed7953"
            ],
            [
             0.7777777777777778,
             "#fb9f3a"
            ],
            [
             0.8888888888888888,
             "#fdca26"
            ],
            [
             1,
             "#f0f921"
            ]
           ]
          },
          "colorway": [
           "#636efa",
           "#EF553B",
           "#00cc96",
           "#ab63fa",
           "#FFA15A",
           "#19d3f3",
           "#FF6692",
           "#B6E880",
           "#FF97FF",
           "#FECB52"
          ],
          "font": {
           "color": "#2a3f5f"
          },
          "geo": {
           "bgcolor": "white",
           "lakecolor": "white",
           "landcolor": "#E5ECF6",
           "showlakes": true,
           "showland": true,
           "subunitcolor": "white"
          },
          "hoverlabel": {
           "align": "left"
          },
          "hovermode": "closest",
          "mapbox": {
           "style": "light"
          },
          "paper_bgcolor": "white",
          "plot_bgcolor": "#E5ECF6",
          "polar": {
           "angularaxis": {
            "gridcolor": "white",
            "linecolor": "white",
            "ticks": ""
           },
           "bgcolor": "#E5ECF6",
           "radialaxis": {
            "gridcolor": "white",
            "linecolor": "white",
            "ticks": ""
           }
          },
          "scene": {
           "xaxis": {
            "backgroundcolor": "#E5ECF6",
            "gridcolor": "white",
            "gridwidth": 2,
            "linecolor": "white",
            "showbackground": true,
            "ticks": "",
            "zerolinecolor": "white"
           },
           "yaxis": {
            "backgroundcolor": "#E5ECF6",
            "gridcolor": "white",
            "gridwidth": 2,
            "linecolor": "white",
            "showbackground": true,
            "ticks": "",
            "zerolinecolor": "white"
           },
           "zaxis": {
            "backgroundcolor": "#E5ECF6",
            "gridcolor": "white",
            "gridwidth": 2,
            "linecolor": "white",
            "showbackground": true,
            "ticks": "",
            "zerolinecolor": "white"
           }
          },
          "shapedefaults": {
           "line": {
            "color": "#2a3f5f"
           }
          },
          "ternary": {
           "aaxis": {
            "gridcolor": "white",
            "linecolor": "white",
            "ticks": ""
           },
           "baxis": {
            "gridcolor": "white",
            "linecolor": "white",
            "ticks": ""
           },
           "bgcolor": "#E5ECF6",
           "caxis": {
            "gridcolor": "white",
            "linecolor": "white",
            "ticks": ""
           }
          },
          "title": {
           "x": 0.05
          },
          "xaxis": {
           "automargin": true,
           "gridcolor": "white",
           "linecolor": "white",
           "ticks": "",
           "title": {
            "standoff": 15
           },
           "zerolinecolor": "white",
           "zerolinewidth": 2
          },
          "yaxis": {
           "automargin": true,
           "gridcolor": "white",
           "linecolor": "white",
           "ticks": "",
           "title": {
            "standoff": 15
           },
           "zerolinecolor": "white",
           "zerolinewidth": 2
          }
         }
        },
        "xaxis": {
         "anchor": "y",
         "autorange": false,
         "domain": [
          0,
          1
         ],
         "range": [
          -10.357085129389773,
          57.93334588365074
         ],
         "title": {
          "text": "Year-Month"
         },
         "type": "category"
        },
        "yaxis": {
         "anchor": "x",
         "autorange": false,
         "domain": [
          0,
          1
         ],
         "range": [
          7605.337367725936,
          11894.073833028307
         ],
         "title": {
          "text": "Fund"
         },
         "type": "linear"
        }
       }
      },
      "image/png": "[encoded data removed]",
      "text/html": [
       "<div>                            <div id=\"73b1c84b-cba0-4475-8bc4-cc7cd3a894d2\" class=\"plotly-graph-div\" style=\"height:525px; width:100%;\"></div>            <script type=\"text/javascript\">                require([\"plotly\"], function(Plotly) {                    window.PLOTLYENV=window.PLOTLYENV || {};                                    if (document.getElementById(\"73b1c84b-cba0-4475-8bc4-cc7cd3a894d2\")) {                    Plotly.newPlot(                        \"73b1c84b-cba0-4475-8bc4-cc7cd3a894d2\",                        [{\"hovertemplate\":\"State=KS<br>Year-Month=%{x}<br>Fund=%{y}<extra></extra>\",\"legendgroup\":\"KS\",\"marker\":{\"color\":\"#636efa\",\"symbol\":\"circle\"},\"mode\":\"markers\",\"name\":\"KS\",\"orientation\":\"v\",\"showlegend\":true,\"x\":[\"202010\",\"201710\",\"201207\",\"201108\",\"201010\",\"201010\",\"201007\",\"200912\",\"200906\",\"200903\",\"200808\"],\"xaxis\":\"x\",\"y\":[10538,10529,10452,10388,10302,10298,10269,10160,10066,10046,10011],\"yaxis\":\"y\",\"type\":\"scatter\"},{\"hovertemplate\":\"State=FL<br>Year-Month=%{x}<br>Fund=%{y}<extra></extra>\",\"legendgroup\":\"FL\",\"marker\":{\"color\":\"#EF553B\",\"symbol\":\"circle\"},\"mode\":\"markers\",\"name\":\"FL\",\"orientation\":\"v\",\"showlegend\":true,\"x\":[\"202010\",\"201501\",\"201406\",\"201310\",\"201308\",\"201304\",\"201304\",\"201211\",\"201210\",\"201210\",\"201207\",\"201206\",\"201205\",\"201201\",\"201201\",\"201112\",\"201110\",\"201109\",\"201108\",\"201107\",\"201107\",\"201107\",\"201106\",\"201105\",\"201104\",\"201104\",\"201102\",\"201101\",\"201012\",\"201011\",\"201010\",\"201010\",\"201010\",\"201009\",\"201009\",\"201008\",\"201008\",\"201007\",\"201007\",\"201007\",\"201007\",\"201007\",\"201007\",\"201006\",\"201005\",\"201005\",\"201005\",\"201005\",\"201004\",\"201004\",\"201004\",\"201003\",\"201003\",\"201003\",\"201002\",\"201001\",\"201001\",\"200912\",\"200912\",\"200911\",\"200911\",\"200911\",\"200910\",\"200910\",\"200910\",\"200908\",\"200908\",\"200907\",\"200905\",\"200902\",\"200901\",\"200810\",\"200808\",\"200403\",\"200203\",\"200201\"],\"xaxis\":\"x\",\"y\":[10537,10510,10501,10490,10484,10473,10475,10465,10461,10462,10454,10445,10439,10421,10418,10415,10408,10395,10392,10381,10382,10376,10370,10364,10360,10362,10342,10325,10324,10316,10303,10300,10296,10293,10286,10281,10279,10272,10271,10268,10260,10261,10259,10253,10243,10242,10241,10234,10216,10210,10213,10206,10197,10192,10187,10181,10173,10165,10158,10151,10149,10148,10129,10131,10130,10099,10098,10095,10061,10038,10032,10019,10010,4663,4654,4650],\"yaxis\":\"y\",\"type\":\"scatter\"},{\"hovertemplate\":\"State=WV<br>Year-Month=%{x}<br>Fund=%{y}<extra></extra>\",\"legendgroup\":\"WV\",\"marker\":{\"color\":\"#00cc96\",\"symbol\":\"circle\"},\"mode\":\"markers\",\"name\":\"WV\",\"orientation\":\"v\",\"showlegend\":true,\"x\":[\"202004\",\"200809\"],\"xaxis\":\"x\",\"y\":[10536,10014],\"yaxis\":\"y\",\"type\":\"scatter\"},{\"hovertemplate\":\"State=NE<br>Year-Month=%{x}<br>Fund=%{y}<extra></extra>\",\"legendgroup\":\"NE\",\"marker\":{\"color\":\"#ab63fa\",\"symbol\":\"circle\"},\"mode\":\"markers\",\"name\":\"NE\",\"orientation\":\"v\",\"showlegend\":true,\"x\":[\"202002\",\"201111\",\"201006\",\"200902\"],\"xaxis\":\"x\",\"y\":[10535,10410,10248,10039],\"yaxis\":\"y\",\"type\":\"scatter\"},{\"hovertemplate\":\"State=NJ<br>Year-Month=%{x}<br>Fund=%{y}<extra></extra>\",\"legendgroup\":\"NJ\",\"marker\":{\"color\":\"#FFA15A\",\"symbol\":\"circle\"},\"mode\":\"markers\",\"name\":\"NJ\",\"orientation\":\"v\",\"showlegend\":true,\"x\":[\"201911\",\"201701\",\"201204\",\"201110\",\"201009\",\"200907\",\"200905\",\"200402\"],\"xaxis\":\"x\",\"y\":[10534,10523,10433,10403,10290,10097,10058,6006],\"yaxis\":\"y\",\"type\":\"scatter\"},{\"hovertemplate\":\"State=OH<br>Year-Month=%{x}<br>Fund=%{y}<extra></extra>\",\"legendgroup\":\"OH\",\"marker\":{\"color\":\"#19d3f3\",\"symbol\":\"circle\"},\"mode\":\"markers\",\"name\":\"OH\",\"orientation\":\"v\",\"showlegend\":true,\"x\":[\"201910\",\"201405\",\"201009\",\"201003\",\"200912\",\"200907\",\"200710\",\"200202\",\"200105\"],\"xaxis\":\"x\",\"y\":[10533,10499,10288,10201,10155,10096,10002,4652,4648],\"yaxis\":\"y\",\"type\":\"scatter\"},{\"hovertemplate\":\"State=KY<br>Year-Month=%{x}<br>Fund=%{y}<extra></extra>\",\"legendgroup\":\"KY\",\"marker\":{\"color\":\"#FF6692\",\"symbol\":\"circle\"},\"mode\":\"markers\",\"name\":\"KY\",\"orientation\":\"v\",\"showlegend\":true,\"x\":[\"201910\",\"201304\",\"200909\"],\"xaxis\":\"x\",\"y\":[10532,10474,10121],\"yaxis\":\"y\",\"type\":\"scatter\"},{\"hovertemplate\":\"State=TX<br>Year-Month=%{x}<br>Fund=%{y}<extra></extra>\",\"legendgroup\":\"TX\",\"marker\":{\"color\":\"#B6E880\",\"symbol\":\"circle\"},\"mode\":\"markers\",\"name\":\"TX\",\"orientation\":\"v\",\"showlegend\":true,\"x\":[\"201905\",\"201312\",\"201309\",\"201109\",\"201002\",\"200910\",\"200910\",\"200910\",\"200908\",\"200907\",\"200812\",\"200811\",\"200201\"],\"xaxis\":\"x\",\"y\":[10531,10491,10488,10398,10186,10138,10142,10141,10105,10079,10026,10021,4651],\"yaxis\":\"y\",\"type\":\"scatter\"},{\"hovertemplate\":\"State=IL<br>Year-Month=%{x}<br>Fund=%{y}<extra></extra>\",\"legendgroup\":\"IL\",\"marker\":{\"color\":\"#FF97FF\",\"symbol\":\"circle\"},\"mode\":\"markers\",\"name\":\"IL\",\"orientation\":\"v\",\"showlegend\":true,\"x\":[\"201712\",\"201705\",\"201701\",\"201505\",\"201501\",\"201410\",\"201407\",\"201406\",\"201405\",\"201401\",\"201302\",\"201211\",\"201209\",\"201208\",\"201207\",\"201206\",\"201203\",\"201203\",\"201202\",\"201110\",\"201110\",\"201108\",\"201108\",\"201107\",\"201104\",\"201103\",\"201102\",\"201102\",\"201010\",\"201008\",\"201008\",\"201008\",\"201006\",\"201005\",\"201004\",\"201004\",\"201004\",\"201004\",\"201004\",\"201004\",\"201004\",\"201003\",\"201002\",\"201001\",\"200912\",\"200912\",\"200910\",\"200910\",\"200910\",\"200909\",\"200909\",\"200909\",\"200907\",\"200907\",\"200907\",\"200907\",\"200907\",\"200907\",\"200907\",\"200906\",\"200905\",\"200905\",\"200902\",\"200902\",\"200901\",\"200810\",\"200206\",\"200107\",\"200012\"],\"xaxis\":\"x\",\"y\":[10530,10528,10524,10514,10511,10507,10505,10502,10498,10492,10470,10464,10459,10456,10453,10442,10431,10429,10424,10409,10402,10390,10386,10374,10352,10350,10347,10337,10301,10284,10277,10276,10246,10236,10224,10223,10221,10222,10220,10219,10218,10191,10184,10170,10166,10154,10140,10137,10128,10117,10115,10113,10094,10074,10078,10073,10075,10077,10076,10064,10063,10062,10042,10037,10028,10017,6005,6004,4646],\"yaxis\":\"y\",\"type\":\"scatter\"},{\"hovertemplate\":\"State=WI<br>Year-Month=%{x}<br>Fund=%{y}<extra></extra>\",\"legendgroup\":\"WI\",\"marker\":{\"color\":\"#FECB52\",\"symbol\":\"circle\"},\"mode\":\"markers\",\"name\":\"WI\",\"orientation\":\"v\",\"showlegend\":true,\"x\":[\"201705\",\"201603\",\"201308\",\"201305\",\"201103\",\"201102\",\"201101\",\"201011\",\"201009\",\"200910\",\"200305\"],\"xaxis\":\"x\",\"y\":[10527,10518,10485,10478,10348,10339,10332,10315,10291,10132,4661],\"yaxis\":\"y\",\"type\":\"scatter\"},{\"hovertemplate\":\"State=LA<br>Year-Month=%{x}<br>Fund=%{y}<extra></extra>\",\"legendgroup\":\"LA\",\"marker\":{\"color\":\"#636efa\",\"symbol\":\"circle\"},\"mode\":\"markers\",\"name\":\"LA\",\"orientation\":\"v\",\"showlegend\":true,\"x\":[\"201704\",\"201111\",\"201003\",\"200212\"],\"xaxis\":\"x\",\"y\":[10526,10413,10196,4659],\"yaxis\":\"y\",\"type\":\"scatter\"},{\"hovertemplate\":\"State=UT<br>Year-Month=%{x}<br>Fund=%{y}<extra></extra>\",\"legendgroup\":\"UT\",\"marker\":{\"color\":\"#EF553B\",\"symbol\":\"circle\"},\"mode\":\"markers\",\"name\":\"UT\",\"orientation\":\"v\",\"showlegend\":true,\"x\":[\"201703\",\"201111\",\"201003\",\"201003\",\"201001\",\"200905\",\"200901\",\"200406\"],\"xaxis\":\"x\",\"y\":[10525,10411,10200,10193,10171,10057,10031,4665],\"yaxis\":\"y\",\"type\":\"scatter\"},{\"hovertemplate\":\"State=AR<br>Year-Month=%{x}<br>Fund=%{y}<extra></extra>\",\"legendgroup\":\"AR\",\"marker\":{\"color\":\"#00cc96\",\"symbol\":\"circle\"},\"mode\":\"markers\",\"name\":\"AR\",\"orientation\":\"v\",\"showlegend\":true,\"x\":[\"201609\",\"201012\",\"200805\",\"200109\"],\"xaxis\":\"x\",\"y\":[10522,10322,10005,4649],\"yaxis\":\"y\",\"type\":\"scatter\"},{\"hovertemplate\":\"State=GA<br>Year-Month=%{x}<br>Fund=%{y}<extra></extra>\",\"legendgroup\":\"GA\",\"marker\":{\"color\":\"#ab63fa\",\"symbol\":\"circle\"},\"mode\":\"markers\",\"name\":\"GA\",\"orientation\":\"v\",\"showlegend\":true,\"x\":[\"201608\",\"201510\",\"201502\",\"201407\",\"201305\",\"201304\",\"201303\",\"201211\",\"201207\",\"201207\",\"201207\",\"201207\",\"201206\",\"201203\",\"201203\",\"201202\",\"201201\",\"201111\",\"201110\",\"201110\",\"201110\",\"201109\",\"201109\",\"201108\",\"201107\",\"201107\",\"201106\",\"201106\",\"201105\",\"201105\",\"201104\",\"201104\",\"201104\",\"201104\",\"201102\",\"201102\",\"201102\",\"201102\",\"201101\",\"201101\",\"201012\",\"201012\",\"201012\",\"201011\",\"201011\",\"201010\",\"201010\",\"201009\",\"201009\",\"201009\",\"201007\",\"201007\",\"201006\",\"201005\",\"201003\",\"201003\",\"201003\",\"201003\",\"201003\",\"201001\",\"201001\",\"200912\",\"200912\",\"200912\",\"200912\",\"200911\",\"200910\",\"200909\",\"200908\",\"200908\",\"200907\",\"200907\",\"200907\",\"200907\",\"200907\",\"200907\",\"200907\",\"200906\",\"200906\",\"200906\",\"200905\",\"200904\",\"200903\",\"200903\",\"200903\",\"200902\",\"200812\",\"200812\",\"200811\",\"200810\",\"200808\",\"200709\",\"200209\"],\"xaxis\":\"x\",\"y\":[10521,10516,10512,10504,10481,10476,10471,10466,10455,10450,10451,10448,10446,10430,10428,10426,10419,10412,10406,10407,10404,10393,10394,10391,10377,10378,10372,10371,10366,10365,10363,10361,10355,10353,10344,10345,10338,10336,10329,10327,10323,10319,10320,10312,10313,10304,10305,10292,10289,10287,10274,10265,10251,10238,10208,10207,10202,10199,10198,10180,10179,10164,10153,10157,10152,10145,10127,10122,10108,10107,10088,10087,10085,10090,10089,10086,10084,10069,10068,10067,10059,10053,10048,10047,10044,10036,10027,10025,10022,10018,10012,10001,4657],\"yaxis\":\"y\",\"type\":\"scatter\"},{\"hovertemplate\":\"State=PA<br>Year-Month=%{x}<br>Fund=%{y}<extra></extra>\",\"legendgroup\":\"PA\",\"marker\":{\"color\":\"#FFA15A\",\"symbol\":\"circle\"},\"mode\":\"markers\",\"name\":\"PA\",\"orientation\":\"v\",\"showlegend\":true,\"x\":[\"201605\",\"201402\",\"201210\",\"201201\",\"201108\",\"201012\",\"201011\",\"200908\",\"200702\",\"200311\"],\"xaxis\":\"x\",\"y\":[10520,10496,10463,10417,10389,10317,10314,10104,10000,4662],\"yaxis\":\"y\",\"type\":\"scatter\"},{\"hovertemplate\":\"State=TN<br>Year-Month=%{x}<br>Fund=%{y}<extra></extra>\",\"legendgroup\":\"TN\",\"marker\":{\"color\":\"#19d3f3\",\"symbol\":\"circle\"},\"mode\":\"markers\",\"name\":\"TN\",\"orientation\":\"v\",\"showlegend\":true,\"x\":[\"201604\",\"201308\",\"201306\",\"201206\",\"201201\",\"201201\",\"200211\"],\"xaxis\":\"x\",\"y\":[10519,10486,10483,10447,10420,10423,4658],\"yaxis\":\"y\",\"type\":\"scatter\"},{\"hovertemplate\":\"State=WA<br>Year-Month=%{x}<br>Fund=%{y}<extra></extra>\",\"legendgroup\":\"WA\",\"marker\":{\"color\":\"#FF6692\",\"symbol\":\"circle\"},\"mode\":\"markers\",\"name\":\"WA\",\"orientation\":\"v\",\"showlegend\":true,\"x\":[\"201510\",\"201301\",\"201108\",\"201105\",\"201105\",\"201011\",\"201010\",\"201009\",\"201007\",\"201006\",\"201004\",\"201004\",\"201002\",\"201001\",\"201001\",\"201001\",\"200909\",\"200905\",\"200901\"],\"xaxis\":\"x\",\"y\":[10517,10468,10387,10368,10367,10309,10295,10294,10275,10249,10228,10212,10189,10178,10172,10168,10119,10060,10029],\"yaxis\":\"y\",\"type\":\"scatter\"},{\"hovertemplate\":\"State=CO<br>Year-Month=%{x}<br>Fund=%{y}<extra></extra>\",\"legendgroup\":\"CO\",\"marker\":{\"color\":\"#B6E880\",\"symbol\":\"circle\"},\"mode\":\"markers\",\"name\":\"CO\",\"orientation\":\"v\",\"showlegend\":true,\"x\":[\"201507\",\"201110\",\"201107\",\"201107\",\"201107\",\"201101\",\"201101\",\"200910\",\"200904\",\"200903\"],\"xaxis\":\"x\",\"y\":[10515,10405,10380,10375,10373,10334,10331,10123,10050,10045],\"yaxis\":\"y\",\"type\":\"scatter\"},{\"hovertemplate\":\"State=PR<br>Year-Month=%{x}<br>Fund=%{y}<extra></extra>\",\"legendgroup\":\"PR\",\"marker\":{\"color\":\"#FF97FF\",\"symbol\":\"circle\"},\"mode\":\"markers\",\"name\":\"PR\",\"orientation\":\"v\",\"showlegend\":true,\"x\":[\"201502\",\"201004\",\"201004\",\"201004\"],\"xaxis\":\"x\",\"y\":[10513,10231,10230,10229],\"yaxis\":\"y\",\"type\":\"scatter\"},{\"hovertemplate\":\"State=MN<br>Year-Month=%{x}<br>Fund=%{y}<extra></extra>\",\"legendgroup\":\"MN\",\"marker\":{\"color\":\"#FECB52\",\"symbol\":\"circle\"},\"mode\":\"markers\",\"name\":\"MN\",\"orientation\":\"v\",\"showlegend\":true,\"x\":[\"201412\",\"201301\",\"201209\",\"201204\",\"201202\",\"201201\",\"201110\",\"201104\",\"201012\",\"201007\",\"201005\",\"201005\",\"201003\",\"201002\",\"201001\",\"201001\",\"200911\",\"200910\",\"200910\",\"200909\",\"200908\",\"200906\",\"200805\"],\"xaxis\":\"x\",\"y\":[10509,10469,10457,10436,10427,10422,10399,10357,10321,10264,10240,10233,10203,10183,10182,10169,10143,10133,10124,10118,10111,10070,10006],\"yaxis\":\"y\",\"type\":\"scatter\"},{\"hovertemplate\":\"State=CA<br>Year-Month=%{x}<br>Fund=%{y}<extra></extra>\",\"legendgroup\":\"CA\",\"marker\":{\"color\":\"#636efa\",\"symbol\":\"circle\"},\"mode\":\"markers\",\"name\":\"CA\",\"orientation\":\"v\",\"showlegend\":true,\"x\":[\"201411\",\"201204\",\"201109\",\"201102\",\"201102\",\"201102\",\"201011\",\"201011\",\"201008\",\"201008\",\"201008\",\"201008\",\"201005\",\"201005\",\"201004\",\"201004\",\"201002\",\"201001\",\"200912\",\"200912\",\"200911\",\"200911\",\"200910\",\"200910\",\"200910\",\"200910\",\"200908\",\"200907\",\"200907\",\"200906\",\"200906\",\"200904\",\"200902\",\"200902\",\"200901\",\"200811\",\"200811\",\"200811\",\"200807\",\"200807\",\"200302\"],\"xaxis\":\"x\",\"y\":[10508,10437,10397,10346,10343,10340,10307,10310,10285,10282,10278,10283,10244,10232,10217,10214,10185,10177,10167,10161,10150,10147,10139,10134,10135,10126,10110,10082,10083,10072,10071,10054,10034,10035,10030,10024,10023,10020,10009,10007,4660],\"yaxis\":\"y\",\"type\":\"scatter\"},{\"hovertemplate\":\"State=MD<br>Year-Month=%{x}<br>Fund=%{y}<extra></extra>\",\"legendgroup\":\"MD\",\"marker\":{\"color\":\"#EF553B\",\"symbol\":\"circle\"},\"mode\":\"markers\",\"name\":\"MD\",\"orientation\":\"v\",\"showlegend\":true,\"x\":[\"201410\",\"201405\",\"201204\",\"201204\",\"201011\",\"201007\",\"201007\",\"201003\",\"200908\",\"200901\"],\"xaxis\":\"x\",\"y\":[10506,10500,10435,10434,10308,10257,10255,10190,10109,10033],\"yaxis\":\"y\",\"type\":\"scatter\"},{\"hovertemplate\":\"State=OK<br>Year-Month=%{x}<br>Fund=%{y}<extra></extra>\",\"legendgroup\":\"OK\",\"marker\":{\"color\":\"#00cc96\",\"symbol\":\"circle\"},\"mode\":\"markers\",\"name\":\"OK\",\"orientation\":\"v\",\"showlegend\":true,\"x\":[\"201406\",\"201401\",\"201206\",\"201103\",\"201101\",\"201007\",\"200907\"],\"xaxis\":\"x\",\"y\":[10503,10493,10443,10349,10335,10256,10093],\"yaxis\":\"y\",\"type\":\"scatter\"},{\"hovertemplate\":\"State=SC<br>Year-Month=%{x}<br>Fund=%{y}<extra></extra>\",\"legendgroup\":\"SC\",\"marker\":{\"color\":\"#ab63fa\",\"symbol\":\"circle\"},\"mode\":\"markers\",\"name\":\"SC\",\"orientation\":\"v\",\"showlegend\":true,\"x\":[\"201404\",\"201206\",\"201204\",\"201107\",\"201106\",\"201101\",\"201007\",\"201007\",\"201007\",\"201004\"],\"xaxis\":\"x\",\"y\":[10497,10441,10438,10383,10369,10328,10270,10263,10262,10209],\"yaxis\":\"y\",\"type\":\"scatter\"},{\"hovertemplate\":\"State=VA<br>Year-Month=%{x}<br>Fund=%{y}<extra></extra>\",\"legendgroup\":\"VA\",\"marker\":{\"color\":\"#FFA15A\",\"symbol\":\"circle\"},\"mode\":\"markers\",\"name\":\"VA\",\"orientation\":\"v\",\"showlegend\":true,\"x\":[\"201402\",\"201109\",\"201107\",\"201008\",\"200912\"],\"xaxis\":\"x\",\"y\":[10495,10396,10385,10280,10156],\"yaxis\":\"y\",\"type\":\"scatter\"},{\"hovertemplate\":\"State=ID<br>Year-Month=%{x}<br>Fund=%{y}<extra></extra>\",\"legendgroup\":\"ID\",\"marker\":{\"color\":\"#19d3f3\",\"symbol\":\"circle\"},\"mode\":\"markers\",\"name\":\"ID\",\"orientation\":\"v\",\"showlegend\":true,\"x\":[\"201401\",\"200904\"],\"xaxis\":\"x\",\"y\":[10494,10055],\"yaxis\":\"y\",\"type\":\"scatter\"},{\"hovertemplate\":\"State=CT<br>Year-Month=%{x}<br>Fund=%{y}<extra></extra>\",\"legendgroup\":\"CT\",\"marker\":{\"color\":\"#FF6692\",\"symbol\":\"circle\"},\"mode\":\"markers\",\"name\":\"CT\",\"orientation\":\"v\",\"showlegend\":true,\"x\":[\"201309\",\"200206\"],\"xaxis\":\"x\",\"y\":[10489,4656],\"yaxis\":\"y\",\"type\":\"scatter\"},{\"hovertemplate\":\"State=AZ<br>Year-Month=%{x}<br>Fund=%{y}<extra></extra>\",\"legendgroup\":\"AZ\",\"marker\":{\"color\":\"#B6E880\",\"symbol\":\"circle\"},\"mode\":\"markers\",\"name\":\"AZ\",\"orientation\":\"v\",\"showlegend\":true,\"x\":[\"201308\",\"201305\",\"201304\",\"201112\",\"201107\",\"201101\",\"201011\",\"201010\",\"201005\",\"201003\",\"200912\",\"200910\",\"200909\",\"200908\",\"200908\",\"200202\"],\"xaxis\":\"x\",\"y\":[10487,10479,10472,10416,10379,10326,10311,10306,10235,10205,10159,10136,10114,10101,10102,4653],\"yaxis\":\"y\",\"type\":\"scatter\"},{\"hovertemplate\":\"State=NV<br>Year-Month=%{x}<br>Fund=%{y}<extra></extra>\",\"legendgroup\":\"NV\",\"marker\":{\"color\":\"#FF97FF\",\"symbol\":\"circle\"},\"mode\":\"markers\",\"name\":\"NV\",\"orientation\":\"v\",\"showlegend\":true,\"x\":[\"201306\",\"201104\",\"201007\",\"201006\",\"201005\",\"201002\",\"200908\",\"200904\",\"200902\",\"200809\",\"200809\",\"200807\"],\"xaxis\":\"x\",\"y\":[10482,10351,10267,10250,10245,10188,10100,10051,10043,10015,10013,10008],\"yaxis\":\"y\",\"type\":\"scatter\"},{\"hovertemplate\":\"State=NC<br>Year-Month=%{x}<br>Fund=%{y}<extra></extra>\",\"legendgroup\":\"NC\",\"marker\":{\"color\":\"#FECB52\",\"symbol\":\"circle\"},\"mode\":\"markers\",\"name\":\"NC\",\"orientation\":\"v\",\"showlegend\":true,\"x\":[\"201305\",\"201304\",\"201206\",\"201110\",\"201101\",\"200906\",\"200904\"],\"xaxis\":\"x\",\"y\":[10480,10477,10444,10401,10330,10065,10049],\"yaxis\":\"y\",\"type\":\"scatter\"},{\"hovertemplate\":\"State=MO<br>Year-Month=%{x}<br>Fund=%{y}<extra></extra>\",\"legendgroup\":\"MO\",\"marker\":{\"color\":\"#636efa\",\"symbol\":\"circle\"},\"mode\":\"markers\",\"name\":\"MO\",\"orientation\":\"v\",\"showlegend\":true,\"x\":[\"201212\",\"201210\",\"201209\",\"201207\",\"201110\",\"201010\",\"201010\",\"201005\",\"201004\",\"201004\",\"201001\",\"200911\",\"200909\",\"200904\",\"200803\",\"200801\"],\"xaxis\":\"x\",\"y\":[10467,10460,10458,10449,10400,10297,10299,10239,10225,10227,10174,10146,10112,10052,10004,10003],\"yaxis\":\"y\",\"type\":\"scatter\"},{\"hovertemplate\":\"State=AL<br>Year-Month=%{x}<br>Fund=%{y}<extra></extra>\",\"legendgroup\":\"AL\",\"marker\":{\"color\":\"#EF553B\",\"symbol\":\"circle\"},\"mode\":\"markers\",\"name\":\"AL\",\"orientation\":\"v\",\"showlegend\":true,\"x\":[\"201205\",\"201104\",\"201104\",\"201003\",\"200912\",\"200908\",\"200908\"],\"xaxis\":\"x\",\"y\":[10440,10358,10356,10204,10163,10106,10103],\"yaxis\":\"y\",\"type\":\"scatter\"},{\"hovertemplate\":\"State=MI<br>Year-Month=%{x}<br>Fund=%{y}<extra></extra>\",\"legendgroup\":\"MI\",\"marker\":{\"color\":\"#00cc96\",\"symbol\":\"circle\"},\"mode\":\"markers\",\"name\":\"MI\",\"orientation\":\"v\",\"showlegend\":true,\"x\":[\"201203\",\"201104\",\"201102\",\"201012\",\"201007\",\"201005\",\"201004\",\"201004\",\"200912\",\"200911\",\"200910\",\"200904\",\"200810\",\"200203\"],\"xaxis\":\"x\",\"y\":[10432,10359,10341,10318,10258,10237,10226,10215,10162,10144,10125,10056,10016,4655],\"yaxis\":\"y\",\"type\":\"scatter\"},{\"hovertemplate\":\"State=IN<br>Year-Month=%{x}<br>Fund=%{y}<extra></extra>\",\"legendgroup\":\"IN\",\"marker\":{\"color\":\"#ab63fa\",\"symbol\":\"circle\"},\"mode\":\"markers\",\"name\":\"IN\",\"orientation\":\"v\",\"showlegend\":true,\"x\":[\"201202\",\"201107\",\"200909\"],\"xaxis\":\"x\",\"y\":[10425,10384,10120],\"yaxis\":\"y\",\"type\":\"scatter\"},{\"hovertemplate\":\"State=IA<br>Year-Month=%{x}<br>Fund=%{y}<extra></extra>\",\"legendgroup\":\"IA\",\"marker\":{\"color\":\"#FFA15A\",\"symbol\":\"circle\"},\"mode\":\"markers\",\"name\":\"IA\",\"orientation\":\"v\",\"showlegend\":true,\"x\":[\"201111\",\"200909\"],\"xaxis\":\"x\",\"y\":[10414,10116],\"yaxis\":\"y\",\"type\":\"scatter\"},{\"hovertemplate\":\"State=MS<br>Year-Month=%{x}<br>Fund=%{y}<extra></extra>\",\"legendgroup\":\"MS\",\"marker\":{\"color\":\"#19d3f3\",\"symbol\":\"circle\"},\"mode\":\"markers\",\"name\":\"MS\",\"orientation\":\"v\",\"showlegend\":true,\"x\":[\"201104\",\"201006\"],\"xaxis\":\"x\",\"y\":[10354,10247],\"yaxis\":\"y\",\"type\":\"scatter\"},{\"hovertemplate\":\"State=NM<br>Year-Month=%{x}<br>Fund=%{y}<extra></extra>\",\"legendgroup\":\"NM\",\"marker\":{\"color\":\"#FF6692\",\"symbol\":\"circle\"},\"mode\":\"markers\",\"name\":\"NM\",\"orientation\":\"v\",\"showlegend\":true,\"x\":[\"201101\",\"201006\",\"201001\"],\"xaxis\":\"x\",\"y\":[10333,10252,10175],\"yaxis\":\"y\",\"type\":\"scatter\"},{\"hovertemplate\":\"State=OR<br>Year-Month=%{x}<br>Fund=%{y}<extra></extra>\",\"legendgroup\":\"OR\",\"marker\":{\"color\":\"#B6E880\",\"symbol\":\"circle\"},\"mode\":\"markers\",\"name\":\"OR\",\"orientation\":\"v\",\"showlegend\":true,\"x\":[\"201007\",\"201007\",\"201001\",\"200908\",\"200902\",\"200902\"],\"xaxis\":\"x\",\"y\":[10273,10266,10176,10092,10041,10040],\"yaxis\":\"y\",\"type\":\"scatter\"},{\"hovertemplate\":\"State=NY<br>Year-Month=%{x}<br>Fund=%{y}<extra></extra>\",\"legendgroup\":\"NY\",\"marker\":{\"color\":\"#FF97FF\",\"symbol\":\"circle\"},\"mode\":\"markers\",\"name\":\"NY\",\"orientation\":\"v\",\"showlegend\":true,\"x\":[\"201007\",\"201003\",\"201003\",\"200907\",\"200403\"],\"xaxis\":\"x\",\"y\":[10254,10195,10194,10091,4664],\"yaxis\":\"y\",\"type\":\"scatter\"},{\"hovertemplate\":\"State=MA<br>Year-Month=%{x}<br>Fund=%{y}<extra></extra>\",\"legendgroup\":\"MA\",\"marker\":{\"color\":\"#FECB52\",\"symbol\":\"circle\"},\"mode\":\"markers\",\"name\":\"MA\",\"orientation\":\"v\",\"showlegend\":true,\"x\":[\"201004\"],\"xaxis\":\"x\",\"y\":[10211],\"yaxis\":\"y\",\"type\":\"scatter\"},{\"hovertemplate\":\"State=SD<br>Year-Month=%{x}<br>Fund=%{y}<extra></extra>\",\"legendgroup\":\"SD\",\"marker\":{\"color\":\"#636efa\",\"symbol\":\"circle\"},\"mode\":\"markers\",\"name\":\"SD\",\"orientation\":\"v\",\"showlegend\":true,\"x\":[\"200907\"],\"xaxis\":\"x\",\"y\":[10081],\"yaxis\":\"y\",\"type\":\"scatter\"},{\"hovertemplate\":\"State=WY<br>Year-Month=%{x}<br>Fund=%{y}<extra></extra>\",\"legendgroup\":\"WY\",\"marker\":{\"color\":\"#EF553B\",\"symbol\":\"circle\"},\"mode\":\"markers\",\"name\":\"WY\",\"orientation\":\"v\",\"showlegend\":true,\"x\":[\"200907\"],\"xaxis\":\"x\",\"y\":[10080],\"yaxis\":\"y\",\"type\":\"scatter\"},{\"hovertemplate\":\"State=NH<br>Year-Month=%{x}<br>Fund=%{y}<extra></extra>\",\"legendgroup\":\"NH\",\"marker\":{\"color\":\"#00cc96\",\"symbol\":\"circle\"},\"mode\":\"markers\",\"name\":\"NH\",\"orientation\":\"v\",\"showlegend\":true,\"x\":[\"200102\"],\"xaxis\":\"x\",\"y\":[4647],\"yaxis\":\"y\",\"type\":\"scatter\"},{\"hovertemplate\":\"State=HI<br>Year-Month=%{x}<br>Fund=%{y}<extra></extra>\",\"legendgroup\":\"HI\",\"marker\":{\"color\":\"#ab63fa\",\"symbol\":\"circle\"},\"mode\":\"markers\",\"name\":\"HI\",\"orientation\":\"v\",\"showlegend\":true,\"x\":[\"200010\"],\"xaxis\":\"x\",\"y\":[4645],\"yaxis\":\"y\",\"type\":\"scatter\"}],                        {\"template\":{\"data\":{\"bar\":[{\"error_x\":{\"color\":\"#2a3f5f\"},\"error_y\":{\"color\":\"#2a3f5f\"},\"marker\":{\"line\":{\"color\":\"#E5ECF6\",\"width\":0.5},\"pattern\":{\"fillmode\":\"overlay\",\"size\":10,\"solidity\":0.2}},\"type\":\"bar\"}],\"barpolar\":[{\"marker\":{\"line\":{\"color\":\"#E5ECF6\",\"width\":0.5},\"pattern\":{\"fillmode\":\"overlay\",\"size\":10,\"solidity\":0.2}},\"type\":\"barpolar\"}],\"carpet\":[{\"aaxis\":{\"endlinecolor\":\"#2a3f5f\",\"gridcolor\":\"white\",\"linecolor\":\"white\",\"minorgridcolor\":\"white\",\"startlinecolor\":\"#2a3f5f\"},\"baxis\":{\"endlinecolor\":\"#2a3f5f\",\"gridcolor\":\"white\",\"linecolor\":\"white\",\"minorgridcolor\":\"white\",\"startlinecolor\":\"#2a3f5f\"},\"type\":\"carpet\"}],\"choropleth\":[{\"colorbar\":{\"outlinewidth\":0,\"ticks\":\"\"},\"type\":\"choropleth\"}],\"contour\":[{\"colorbar\":{\"outlinewidth\":0,\"ticks\":\"\"},\"colorscale\":[[0.0,\"#0d0887\"],[0.1111111111111111,\"#46039f\"],[0.2222222222222222,\"#7201a8\"],[0.3333333333333333,\"#9c179e\"],[0.4444444444444444,\"#bd3786\"],[0.5555555555555556,\"#d8576b\"],[0.6666666666666666,\"#ed7953\"],[0.7777777777777778,\"#fb9f3a\"],[0.8888888888888888,\"#fdca26\"],[1.0,\"#f0f921\"]],\"type\":\"contour\"}],\"contourcarpet\":[{\"colorbar\":{\"outlinewidth\":0,\"ticks\":\"\"},\"type\":\"contourcarpet\"}],\"heatmap\":[{\"colorbar\":{\"outlinewidth\":0,\"ticks\":\"\"},\"colorscale\":[[0.0,\"#0d0887\"],[0.1111111111111111,\"#46039f\"],[0.2222222222222222,\"#7201a8\"],[0.3333333333333333,\"#9c179e\"],[0.4444444444444444,\"#bd3786\"],[0.5555555555555556,\"#d8576b\"],[0.6666666666666666,\"#ed7953\"],[0.7777777777777778,\"#fb9f3a\"],[0.8888888888888888,\"#fdca26\"],[1.0,\"#f0f921\"]],\"type\":\"heatmap\"}],\"heatmapgl\":[{\"colorbar\":{\"outlinewidth\":0,\"ticks\":\"\"},\"colorscale\":[[0.0,\"#0d0887\"],[0.1111111111111111,\"#46039f\"],[0.2222222222222222,\"#7201a8\"],[0.3333333333333333,\"#9c179e\"],[0.4444444444444444,\"#bd3786\"],[0.5555555555555556,\"#d8576b\"],[0.6666666666666666,\"#ed7953\"],[0.7777777777777778,\"#fb9f3a\"],[0.8888888888888888,\"#fdca26\"],[1.0,\"#f0f921\"]],\"type\":\"heatmapgl\"}],\"histogram\":[{\"marker\":{\"pattern\":{\"fillmode\":\"overlay\",\"size\":10,\"solidity\":0.2}},\"type\":\"histogram\"}],\"histogram2d\":[{\"colorbar\":{\"outlinewidth\":0,\"ticks\":\"\"},\"colorscale\":[[0.0,\"#0d0887\"],[0.1111111111111111,\"#46039f\"],[0.2222222222222222,\"#7201a8\"],[0.3333333333333333,\"#9c179e\"],[0.4444444444444444,\"#bd3786\"],[0.5555555555555556,\"#d8576b\"],[0.6666666666666666,\"#ed7953\"],[0.7777777777777778,\"#fb9f3a\"],[0.8888888888888888,\"#fdca26\"],[1.0,\"#f0f921\"]],\"type\":\"histogram2d\"}],\"histogram2dcontour\":[{\"colorbar\":{\"outlinewidth\":0,\"ticks\":\"\"},\"colorscale\":[[0.0,\"#0d0887\"],[0.1111111111111111,\"#46039f\"],[0.2222222222222222,\"#7201a8\"],[0.3333333333333333,\"#9c179e\"],[0.4444444444444444,\"#bd3786\"],[0.5555555555555556,\"#d8576b\"],[0.6666666666666666,\"#ed7953\"],[0.7777777777777778,\"#fb9f3a\"],[0.8888888888888888,\"#fdca26\"],[1.0,\"#f0f921\"]],\"type\":\"histogram2dcontour\"}],\"mesh3d\":[{\"colorbar\":{\"outlinewidth\":0,\"ticks\":\"\"},\"type\":\"mesh3d\"}],\"parcoords\":[{\"line\":{\"colorbar\":{\"outlinewidth\":0,\"ticks\":\"\"}},\"type\":\"parcoords\"}],\"pie\":[{\"automargin\":true,\"type\":\"pie\"}],\"scatter\":[{\"marker\":{\"colorbar\":{\"outlinewidth\":0,\"ticks\":\"\"}},\"type\":\"scatter\"}],\"scatter3d\":[{\"line\":{\"colorbar\":{\"outlinewidth\":0,\"ticks\":\"\"}},\"marker\":{\"colorbar\":{\"outlinewidth\":0,\"ticks\":\"\"}},\"type\":\"scatter3d\"}],\"scattercarpet\":[{\"marker\":{\"colorbar\":{\"outlinewidth\":0,\"ticks\":\"\"}},\"type\":\"scattercarpet\"}],\"scattergeo\":[{\"marker\":{\"colorbar\":{\"outlinewidth\":0,\"ticks\":\"\"}},\"type\":\"scattergeo\"}],\"scattergl\":[{\"marker\":{\"colorbar\":{\"outlinewidth\":0,\"ticks\":\"\"}},\"type\":\"scattergl\"}],\"scattermapbox\":[{\"marker\":{\"colorbar\":{\"outlinewidth\":0,\"ticks\":\"\"}},\"type\":\"scattermapbox\"}],\"scatterpolar\":[{\"marker\":{\"colorbar\":{\"outlinewidth\":0,\"ticks\":\"\"}},\"type\":\"scatterpolar\"}],\"scatterpolargl\":[{\"marker\":{\"colorbar\":{\"outlinewidth\":0,\"ticks\":\"\"}},\"type\":\"scatterpolargl\"}],\"scatterternary\":[{\"marker\":{\"colorbar\":{\"outlinewidth\":0,\"ticks\":\"\"}},\"type\":\"scatterternary\"}],\"surface\":[{\"colorbar\":{\"outlinewidth\":0,\"ticks\":\"\"},\"colorscale\":[[0.0,\"#0d0887\"],[0.1111111111111111,\"#46039f\"],[0.2222222222222222,\"#7201a8\"],[0.3333333333333333,\"#9c179e\"],[0.4444444444444444,\"#bd3786\"],[0.5555555555555556,\"#d8576b\"],[0.6666666666666666,\"#ed7953\"],[0.7777777777777778,\"#fb9f3a\"],[0.8888888888888888,\"#fdca26\"],[1.0,\"#f0f921\"]],\"type\":\"surface\"}],\"table\":[{\"cells\":{\"fill\":{\"color\":\"#EBF0F8\"},\"line\":{\"color\":\"white\"}},\"header\":{\"fill\":{\"color\":\"#C8D4E3\"},\"line\":{\"color\":\"white\"}},\"type\":\"table\"}]},\"layout\":{\"annotationdefaults\":{\"arrowcolor\":\"#2a3f5f\",\"arrowhead\":0,\"arrowwidth\":1},\"autotypenumbers\":\"strict\",\"coloraxis\":{\"colorbar\":{\"outlinewidth\":0,\"ticks\":\"\"}},\"colorscale\":{\"diverging\":[[0,\"#8e0152\"],[0.1,\"#c51b7d\"],[0.2,\"#de77ae\"],[0.3,\"#f1b6da\"],[0.4,\"#fde0ef\"],[0.5,\"#f7f7f7\"],[0.6,\"#e6f5d0\"],[0.7,\"#b8e186\"],[0.8,\"#7fbc41\"],[0.9,\"#4d9221\"],[1,\"#276419\"]],\"sequential\":[[0.0,\"#0d0887\"],[0.1111111111111111,\"#46039f\"],[0.2222222222222222,\"#7201a8\"],[0.3333333333333333,\"#9c179e\"],[0.4444444444444444,\"#bd3786\"],[0.5555555555555556,\"#d8576b\"],[0.6666666666666666,\"#ed7953\"],[0.7777777777777778,\"#fb9f3a\"],[0.8888888888888888,\"#fdca26\"],[1.0,\"#f0f921\"]],\"sequentialminus\":[[0.0,\"#0d0887\"],[0.1111111111111111,\"#46039f\"],[0.2222222222222222,\"#7201a8\"],[0.3333333333333333,\"#9c179e\"],[0.4444444444444444,\"#bd3786\"],[0.5555555555555556,\"#d8576b\"],[0.6666666666666666,\"#ed7953\"],[0.7777777777777778,\"#fb9f3a\"],[0.8888888888888888,\"#fdca26\"],[1.0,\"#f0f921\"]]},\"colorway\":[\"#636efa\",\"#EF553B\",\"#00cc96\",\"#ab63fa\",\"#FFA15A\",\"#19d3f3\",\"#FF6692\",\"#B6E880\",\"#FF97FF\",\"#FECB52\"],\"font\":{\"color\":\"#2a3f5f\"},\"geo\":{\"bgcolor\":\"white\",\"lakecolor\":\"white\",\"landcolor\":\"#E5ECF6\",\"showlakes\":true,\"showland\":true,\"subunitcolor\":\"white\"},\"hoverlabel\":{\"align\":\"left\"},\"hovermode\":\"closest\",\"mapbox\":{\"style\":\"light\"},\"paper_bgcolor\":\"white\",\"plot_bgcolor\":\"#E5ECF6\",\"polar\":{\"angularaxis\":{\"gridcolor\":\"white\",\"linecolor\":\"white\",\"ticks\":\"\"},\"bgcolor\":\"#E5ECF6\",\"radialaxis\":{\"gridcolor\":\"white\",\"linecolor\":\"white\",\"ticks\":\"\"}},\"scene\":{\"xaxis\":{\"backgroundcolor\":\"#E5ECF6\",\"gridcolor\":\"white\",\"gridwidth\":2,\"linecolor\":\"white\",\"showbackground\":true,\"ticks\":\"\",\"zerolinecolor\":\"white\"},\"yaxis\":{\"backgroundcolor\":\"#E5ECF6\",\"gridcolor\":\"white\",\"gridwidth\":2,\"linecolor\":\"white\",\"showbackground\":true,\"ticks\":\"\",\"zerolinecolor\":\"white\"},\"zaxis\":{\"backgroundcolor\":\"#E5ECF6\",\"gridcolor\":\"white\",\"gridwidth\":2,\"linecolor\":\"white\",\"showbackground\":true,\"ticks\":\"\",\"zerolinecolor\":\"white\"}},\"shapedefaults\":{\"line\":{\"color\":\"#2a3f5f\"}},\"ternary\":{\"aaxis\":{\"gridcolor\":\"white\",\"linecolor\":\"white\",\"ticks\":\"\"},\"baxis\":{\"gridcolor\":\"white\",\"linecolor\":\"white\",\"ticks\":\"\"},\"bgcolor\":\"#E5ECF6\",\"caxis\":{\"gridcolor\":\"white\",\"linecolor\":\"white\",\"ticks\":\"\"}},\"title\":{\"x\":0.05},\"xaxis\":{\"automargin\":true,\"gridcolor\":\"white\",\"linecolor\":\"white\",\"ticks\":\"\",\"title\":{\"standoff\":15},\"zerolinecolor\":\"white\",\"zerolinewidth\":2},\"yaxis\":{\"automargin\":true,\"gridcolor\":\"white\",\"linecolor\":\"white\",\"ticks\":\"\",\"title\":{\"standoff\":15},\"zerolinecolor\":\"white\",\"zerolinewidth\":2}}},\"xaxis\":{\"anchor\":\"y\",\"domain\":[0.0,1.0],\"title\":{\"text\":\"Year-Month\"}},\"yaxis\":{\"anchor\":\"x\",\"domain\":[0.0,1.0],\"title\":{\"text\":\"Fund\"}},\"legend\":{\"title\":{\"text\":\"State\"},\"tracegroupgap\":0},\"margin\":{\"t\":60}},                        {\"responsive\": true}                    ).then(function(){\n",
       "                            \n",
       "var gd = document.getElementById('73b1c84b-cba0-4475-8bc4-cc7cd3a894d2');\n",
       "var x = new MutationObserver(function (mutations, observer) {{\n",
       "        var display = window.getComputedStyle(gd).display;\n",
       "        if (!display || display === 'none') {{\n",
       "            console.log([gd, 'removed!']);\n",
       "            Plotly.purge(gd);\n",
       "            observer.disconnect();\n",
       "        }}\n",
       "}});\n",
       "\n",
       "// Listen for the removal of the full notebook cells\n",
       "var notebookContainer = gd.closest('#notebook-container');\n",
       "if (notebookContainer) {{\n",
       "    x.observe(notebookContainer, {childList: true});\n",
       "}}\n",
       "\n",
       "// Listen for the clearing of the current output cell\n",
       "var outputEl = gd.closest('.output');\n",
       "if (outputEl) {{\n",
       "    x.observe(outputEl, {childList: true});\n",
       "}}\n",
       "\n",
       "                        })                };                });            </script>        </div>"
      ]
     },
     "metadata": {},
     "output_type": "display_data"
    }
   ],
   "source": [
    "px.scatter(data_frame =df, x= 'Year-Month', y='Fund', color='State')"
   ]
  },
  {
   "cell_type": "code",
   "execution_count": 198,
   "id": "da753d97-f621-48a7-b297-3713a68f5364",
   "metadata": {},
   "outputs": [],
   "source": [
    "DateFund= df.groupby('Year-Month').sum()"
   ]
  },
  {
   "cell_type": "code",
   "execution_count": 204,
   "id": "026ae12c-e89e-456a-90c6-488b931c6676",
   "metadata": {},
   "outputs": [
    {
     "data": {
      "application/vnd.plotly.v1+json": {
       "config": {
        "plotlyServerURL": "https://plot.ly"
       },
       "data": [
        {
         "hovertemplate": "Year-Month=%{x}<br>Fund=%{y}<extra></extra>",
         "legendgroup": "",
         "marker": {
          "color": "#636efa",
          "symbol": "circle"
         },
         "mode": "markers",
         "name": "",
         "orientation": "v",
         "showlegend": false,
         "type": "scatter",
         "x": [
          "200010",
          "200012",
          "200102",
          "200105",
          "200107",
          "200109",
          "200201",
          "200202",
          "200203",
          "200206",
          "200209",
          "200211",
          "200212",
          "200302",
          "200305",
          "200311",
          "200402",
          "200403",
          "200406",
          "200702",
          "200709",
          "200710",
          "200801",
          "200803",
          "200805",
          "200807",
          "200808",
          "200809",
          "200810",
          "200811",
          "200812",
          "200901",
          "200902",
          "200903",
          "200904",
          "200905",
          "200906",
          "200907",
          "200908",
          "200909",
          "200910",
          "200911",
          "200912",
          "201001",
          "201002",
          "201003",
          "201004",
          "201005",
          "201006",
          "201007",
          "201008",
          "201009",
          "201010",
          "201011",
          "201012",
          "201101",
          "201102",
          "201103",
          "201104",
          "201105",
          "201106",
          "201107",
          "201108",
          "201109",
          "201110",
          "201111",
          "201112",
          "201201",
          "201202",
          "201203",
          "201204",
          "201205",
          "201206",
          "201207",
          "201208",
          "201209",
          "201210",
          "201211",
          "201212",
          "201301",
          "201302",
          "201303",
          "201304",
          "201305",
          "201306",
          "201308",
          "201309",
          "201310",
          "201312",
          "201401",
          "201402",
          "201404",
          "201405",
          "201406",
          "201407",
          "201410",
          "201411",
          "201412",
          "201501",
          "201502",
          "201505",
          "201507",
          "201510",
          "201603",
          "201604",
          "201605",
          "201608",
          "201609",
          "201701",
          "201703",
          "201704",
          "201705",
          "201710",
          "201712",
          "201905",
          "201910",
          "201911",
          "202002",
          "202004",
          "202010"
         ],
         "xaxis": "x",
         "y": [
          4645,
          4646,
          4647,
          4648,
          6004,
          4649,
          9301,
          9305,
          9309,
          10661,
          4657,
          4658,
          4659,
          4660,
          4661,
          4662,
          6006,
          9327,
          4665,
          10000,
          10001,
          10002,
          10003,
          10004,
          20011,
          30024,
          30033,
          30042,
          40070,
          50110,
          30078,
          60183,
          100385,
          50230,
          80420,
          70420,
          90612,
          242033,
          151555,
          111287,
          202650,
          91323,
          162552,
          152625,
          71302,
          193781,
          235060,
          143339,
          81996,
          225819,
          102805,
          92610,
          123606,
          103115,
          82564,
          113630,
          124098,
          31047,
          134641,
          51830,
          41482,
          134927,
          72723,
          62373,
          114444,
          52060,
          20831,
          72940,
          41702,
          52150,
          62613,
          20879,
          73108,
          83612,
          10456,
          31374,
          41846,
          31395,
          10467,
          20937,
          10470,
          10471,
          62847,
          41918,
          20965,
          41942,
          20977,
          10490,
          10491,
          31479,
          20991,
          10497,
          31497,
          31506,
          21009,
          21013,
          10508,
          10509,
          21021,
          21025,
          10514,
          10515,
          21033,
          10518,
          10519,
          10520,
          10521,
          10522,
          21047,
          10525,
          10526,
          21055,
          10529,
          10530,
          10531,
          21065,
          10534,
          10535,
          10536,
          21075
         ],
         "yaxis": "y"
        }
       ],
       "layout": {
        "autosize": true,
        "legend": {
         "tracegroupgap": 0
        },
        "margin": {
         "t": 60
        },
        "template": {
         "data": {
          "bar": [
           {
            "error_x": {
             "color": "#2a3f5f"
            },
            "error_y": {
             "color": "#2a3f5f"
            },
            "marker": {
             "line": {
              "color": "#E5ECF6",
              "width": 0.5
             },
             "pattern": {
              "fillmode": "overlay",
              "size": 10,
              "solidity": 0.2
             }
            },
            "type": "bar"
           }
          ],
          "barpolar": [
           {
            "marker": {
             "line": {
              "color": "#E5ECF6",
              "width": 0.5
             },
             "pattern": {
              "fillmode": "overlay",
              "size": 10,
              "solidity": 0.2
             }
            },
            "type": "barpolar"
           }
          ],
          "carpet": [
           {
            "aaxis": {
             "endlinecolor": "#2a3f5f",
             "gridcolor": "white",
             "linecolor": "white",
             "minorgridcolor": "white",
             "startlinecolor": "#2a3f5f"
            },
            "baxis": {
             "endlinecolor": "#2a3f5f",
             "gridcolor": "white",
             "linecolor": "white",
             "minorgridcolor": "white",
             "startlinecolor": "#2a3f5f"
            },
            "type": "carpet"
           }
          ],
          "choropleth": [
           {
            "colorbar": {
             "outlinewidth": 0,
             "ticks": ""
            },
            "type": "choropleth"
           }
          ],
          "contour": [
           {
            "colorbar": {
             "outlinewidth": 0,
             "ticks": ""
            },
            "colorscale": [
             [
              0,
              "#0d0887"
             ],
             [
              0.1111111111111111,
              "#46039f"
             ],
             [
              0.2222222222222222,
              "#7201a8"
             ],
             [
              0.3333333333333333,
              "#9c179e"
             ],
             [
              0.4444444444444444,
              "#bd3786"
             ],
             [
              0.5555555555555556,
              "#d8576b"
             ],
             [
              0.6666666666666666,
              "#ed7953"
             ],
             [
              0.7777777777777778,
              "#fb9f3a"
             ],
             [
              0.8888888888888888,
              "#fdca26"
             ],
             [
              1,
              "#f0f921"
             ]
            ],
            "type": "contour"
           }
          ],
          "contourcarpet": [
           {
            "colorbar": {
             "outlinewidth": 0,
             "ticks": ""
            },
            "type": "contourcarpet"
           }
          ],
          "heatmap": [
           {
            "colorbar": {
             "outlinewidth": 0,
             "ticks": ""
            },
            "colorscale": [
             [
              0,
              "#0d0887"
             ],
             [
              0.1111111111111111,
              "#46039f"
             ],
             [
              0.2222222222222222,
              "#7201a8"
             ],
             [
              0.3333333333333333,
              "#9c179e"
             ],
             [
              0.4444444444444444,
              "#bd3786"
             ],
             [
              0.5555555555555556,
              "#d8576b"
             ],
             [
              0.6666666666666666,
              "#ed7953"
             ],
             [
              0.7777777777777778,
              "#fb9f3a"
             ],
             [
              0.8888888888888888,
              "#fdca26"
             ],
             [
              1,
              "#f0f921"
             ]
            ],
            "type": "heatmap"
           }
          ],
          "heatmapgl": [
           {
            "colorbar": {
             "outlinewidth": 0,
             "ticks": ""
            },
            "colorscale": [
             [
              0,
              "#0d0887"
             ],
             [
              0.1111111111111111,
              "#46039f"
             ],
             [
              0.2222222222222222,
              "#7201a8"
             ],
             [
              0.3333333333333333,
              "#9c179e"
             ],
             [
              0.4444444444444444,
              "#bd3786"
             ],
             [
              0.5555555555555556,
              "#d8576b"
             ],
             [
              0.6666666666666666,
              "#ed7953"
             ],
             [
              0.7777777777777778,
              "#fb9f3a"
             ],
             [
              0.8888888888888888,
              "#fdca26"
             ],
             [
              1,
              "#f0f921"
             ]
            ],
            "type": "heatmapgl"
           }
          ],
          "histogram": [
           {
            "marker": {
             "pattern": {
              "fillmode": "overlay",
              "size": 10,
              "solidity": 0.2
             }
            },
            "type": "histogram"
           }
          ],
          "histogram2d": [
           {
            "colorbar": {
             "outlinewidth": 0,
             "ticks": ""
            },
            "colorscale": [
             [
              0,
              "#0d0887"
             ],
             [
              0.1111111111111111,
              "#46039f"
             ],
             [
              0.2222222222222222,
              "#7201a8"
             ],
             [
              0.3333333333333333,
              "#9c179e"
             ],
             [
              0.4444444444444444,
              "#bd3786"
             ],
             [
              0.5555555555555556,
              "#d8576b"
             ],
             [
              0.6666666666666666,
              "#ed7953"
             ],
             [
              0.7777777777777778,
              "#fb9f3a"
             ],
             [
              0.8888888888888888,
              "#fdca26"
             ],
             [
              1,
              "#f0f921"
             ]
            ],
            "type": "histogram2d"
           }
          ],
          "histogram2dcontour": [
           {
            "colorbar": {
             "outlinewidth": 0,
             "ticks": ""
            },
            "colorscale": [
             [
              0,
              "#0d0887"
             ],
             [
              0.1111111111111111,
              "#46039f"
             ],
             [
              0.2222222222222222,
              "#7201a8"
             ],
             [
              0.3333333333333333,
              "#9c179e"
             ],
             [
              0.4444444444444444,
              "#bd3786"
             ],
             [
              0.5555555555555556,
              "#d8576b"
             ],
             [
              0.6666666666666666,
              "#ed7953"
             ],
             [
              0.7777777777777778,
              "#fb9f3a"
             ],
             [
              0.8888888888888888,
              "#fdca26"
             ],
             [
              1,
              "#f0f921"
             ]
            ],
            "type": "histogram2dcontour"
           }
          ],
          "mesh3d": [
           {
            "colorbar": {
             "outlinewidth": 0,
             "ticks": ""
            },
            "type": "mesh3d"
           }
          ],
          "parcoords": [
           {
            "line": {
             "colorbar": {
              "outlinewidth": 0,
              "ticks": ""
             }
            },
            "type": "parcoords"
           }
          ],
          "pie": [
           {
            "automargin": true,
            "type": "pie"
           }
          ],
          "scatter": [
           {
            "marker": {
             "colorbar": {
              "outlinewidth": 0,
              "ticks": ""
             }
            },
            "type": "scatter"
           }
          ],
          "scatter3d": [
           {
            "line": {
             "colorbar": {
              "outlinewidth": 0,
              "ticks": ""
             }
            },
            "marker": {
             "colorbar": {
              "outlinewidth": 0,
              "ticks": ""
             }
            },
            "type": "scatter3d"
           }
          ],
          "scattercarpet": [
           {
            "marker": {
             "colorbar": {
              "outlinewidth": 0,
              "ticks": ""
             }
            },
            "type": "scattercarpet"
           }
          ],
          "scattergeo": [
           {
            "marker": {
             "colorbar": {
              "outlinewidth": 0,
              "ticks": ""
             }
            },
            "type": "scattergeo"
           }
          ],
          "scattergl": [
           {
            "marker": {
             "colorbar": {
              "outlinewidth": 0,
              "ticks": ""
             }
            },
            "type": "scattergl"
           }
          ],
          "scattermapbox": [
           {
            "marker": {
             "colorbar": {
              "outlinewidth": 0,
              "ticks": ""
             }
            },
            "type": "scattermapbox"
           }
          ],
          "scatterpolar": [
           {
            "marker": {
             "colorbar": {
              "outlinewidth": 0,
              "ticks": ""
             }
            },
            "type": "scatterpolar"
           }
          ],
          "scatterpolargl": [
           {
            "marker": {
             "colorbar": {
              "outlinewidth": 0,
              "ticks": ""
             }
            },
            "type": "scatterpolargl"
           }
          ],
          "scatterternary": [
           {
            "marker": {
             "colorbar": {
              "outlinewidth": 0,
              "ticks": ""
             }
            },
            "type": "scatterternary"
           }
          ],
          "surface": [
           {
            "colorbar": {
             "outlinewidth": 0,
             "ticks": ""
            },
            "colorscale": [
             [
              0,
              "#0d0887"
             ],
             [
              0.1111111111111111,
              "#46039f"
             ],
             [
              0.2222222222222222,
              "#7201a8"
             ],
             [
              0.3333333333333333,
              "#9c179e"
             ],
             [
              0.4444444444444444,
              "#bd3786"
             ],
             [
              0.5555555555555556,
              "#d8576b"
             ],
             [
              0.6666666666666666,
              "#ed7953"
             ],
             [
              0.7777777777777778,
              "#fb9f3a"
             ],
             [
              0.8888888888888888,
              "#fdca26"
             ],
             [
              1,
              "#f0f921"
             ]
            ],
            "type": "surface"
           }
          ],
          "table": [
           {
            "cells": {
             "fill": {
              "color": "#EBF0F8"
             },
             "line": {
              "color": "white"
             }
            },
            "header": {
             "fill": {
              "color": "#C8D4E3"
             },
             "line": {
              "color": "white"
             }
            },
            "type": "table"
           }
          ]
         },
         "layout": {
          "annotationdefaults": {
           "arrowcolor": "#2a3f5f",
           "arrowhead": 0,
           "arrowwidth": 1
          },
          "autotypenumbers": "strict",
          "coloraxis": {
           "colorbar": {
            "outlinewidth": 0,
            "ticks": ""
           }
          },
          "colorscale": {
           "diverging": [
            [
             0,
             "#8e0152"
            ],
            [
             0.1,
             "#c51b7d"
            ],
            [
             0.2,
             "#de77ae"
            ],
            [
             0.3,
             "#f1b6da"
            ],
            [
             0.4,
             "#fde0ef"
            ],
            [
             0.5,
             "#f7f7f7"
            ],
            [
             0.6,
             "#e6f5d0"
            ],
            [
             0.7,
             "#b8e186"
            ],
            [
             0.8,
             "#7fbc41"
            ],
            [
             0.9,
             "#4d9221"
            ],
            [
             1,
             "#276419"
            ]
           ],
           "sequential": [
            [
             0,
             "#0d0887"
            ],
            [
             0.1111111111111111,
             "#46039f"
            ],
            [
             0.2222222222222222,
             "#7201a8"
            ],
            [
             0.3333333333333333,
             "#9c179e"
            ],
            [
             0.4444444444444444,
             "#bd3786"
            ],
            [
             0.5555555555555556,
             "#d8576b"
            ],
            [
             0.6666666666666666,
             "#ed7953"
            ],
            [
             0.7777777777777778,
             "#fb9f3a"
            ],
            [
             0.8888888888888888,
             "#fdca26"
            ],
            [
             1,
             "#f0f921"
            ]
           ],
           "sequentialminus": [
            [
             0,
             "#0d0887"
            ],
            [
             0.1111111111111111,
             "#46039f"
            ],
            [
             0.2222222222222222,
             "#7201a8"
            ],
            [
             0.3333333333333333,
             "#9c179e"
            ],
            [
             0.4444444444444444,
             "#bd3786"
            ],
            [
             0.5555555555555556,
             "#d8576b"
            ],
            [
             0.6666666666666666,
             "#ed7953"
            ],
            [
             0.7777777777777778,
             "#fb9f3a"
            ],
            [
             0.8888888888888888,
             "#fdca26"
            ],
            [
             1,
             "#f0f921"
            ]
           ]
          },
          "colorway": [
           "#636efa",
           "#EF553B",
           "#00cc96",
           "#ab63fa",
           "#FFA15A",
           "#19d3f3",
           "#FF6692",
           "#B6E880",
           "#FF97FF",
           "#FECB52"
          ],
          "font": {
           "color": "#2a3f5f"
          },
          "geo": {
           "bgcolor": "white",
           "lakecolor": "white",
           "landcolor": "#E5ECF6",
           "showlakes": true,
           "showland": true,
           "subunitcolor": "white"
          },
          "hoverlabel": {
           "align": "left"
          },
          "hovermode": "closest",
          "mapbox": {
           "style": "light"
          },
          "paper_bgcolor": "white",
          "plot_bgcolor": "#E5ECF6",
          "polar": {
           "angularaxis": {
            "gridcolor": "white",
            "linecolor": "white",
            "ticks": ""
           },
           "bgcolor": "#E5ECF6",
           "radialaxis": {
            "gridcolor": "white",
            "linecolor": "white",
            "ticks": ""
           }
          },
          "scene": {
           "xaxis": {
            "backgroundcolor": "#E5ECF6",
            "gridcolor": "white",
            "gridwidth": 2,
            "linecolor": "white",
            "showbackground": true,
            "ticks": "",
            "zerolinecolor": "white"
           },
           "yaxis": {
            "backgroundcolor": "#E5ECF6",
            "gridcolor": "white",
            "gridwidth": 2,
            "linecolor": "white",
            "showbackground": true,
            "ticks": "",
            "zerolinecolor": "white"
           },
           "zaxis": {
            "backgroundcolor": "#E5ECF6",
            "gridcolor": "white",
            "gridwidth": 2,
            "linecolor": "white",
            "showbackground": true,
            "ticks": "",
            "zerolinecolor": "white"
           }
          },
          "shapedefaults": {
           "line": {
            "color": "#2a3f5f"
           }
          },
          "ternary": {
           "aaxis": {
            "gridcolor": "white",
            "linecolor": "white",
            "ticks": ""
           },
           "baxis": {
            "gridcolor": "white",
            "linecolor": "white",
            "ticks": ""
           },
           "bgcolor": "#E5ECF6",
           "caxis": {
            "gridcolor": "white",
            "linecolor": "white",
            "ticks": ""
           }
          },
          "title": {
           "x": 0.05
          },
          "xaxis": {
           "automargin": true,
           "gridcolor": "white",
           "linecolor": "white",
           "ticks": "",
           "title": {
            "standoff": 15
           },
           "zerolinecolor": "white",
           "zerolinewidth": 2
          },
          "yaxis": {
           "automargin": true,
           "gridcolor": "white",
           "linecolor": "white",
           "ticks": "",
           "title": {
            "standoff": 15
           },
           "zerolinecolor": "white",
           "zerolinewidth": 2
          }
         }
        },
        "xaxis": {
         "anchor": "y",
         "autorange": true,
         "domain": [
          0,
          1
         ],
         "range": [
          -7.299195115181794,
          126.29919511518179
         ],
         "title": {
          "text": "Year-Month"
         },
         "type": "category"
        },
        "yaxis": {
         "anchor": "x",
         "autorange": true,
         "domain": [
          0,
          1
         ],
         "range": [
          -13992.90082644628,
          260670.90082644628
         ],
         "title": {
          "text": "Fund"
         },
         "type": "linear"
        }
       }
      },
      "image/png": "[encoded data removed]",
      "text/html": [
       "<div>                            <div id=\"52821b0e-de9f-4787-a5e7-6e323f82031a\" class=\"plotly-graph-div\" style=\"height:525px; width:100%;\"></div>            <script type=\"text/javascript\">                require([\"plotly\"], function(Plotly) {                    window.PLOTLYENV=window.PLOTLYENV || {};                                    if (document.getElementById(\"52821b0e-de9f-4787-a5e7-6e323f82031a\")) {                    Plotly.newPlot(                        \"52821b0e-de9f-4787-a5e7-6e323f82031a\",                        [{\"hovertemplate\":\"Year-Month=%{x}<br>Fund=%{y}<extra></extra>\",\"legendgroup\":\"\",\"marker\":{\"color\":\"#636efa\",\"symbol\":\"circle\"},\"mode\":\"markers\",\"name\":\"\",\"orientation\":\"v\",\"showlegend\":false,\"x\":[\"200010\",\"200012\",\"200102\",\"200105\",\"200107\",\"200109\",\"200201\",\"200202\",\"200203\",\"200206\",\"200209\",\"200211\",\"200212\",\"200302\",\"200305\",\"200311\",\"200402\",\"200403\",\"200406\",\"200702\",\"200709\",\"200710\",\"200801\",\"200803\",\"200805\",\"200807\",\"200808\",\"200809\",\"200810\",\"200811\",\"200812\",\"200901\",\"200902\",\"200903\",\"200904\",\"200905\",\"200906\",\"200907\",\"200908\",\"200909\",\"200910\",\"200911\",\"200912\",\"201001\",\"201002\",\"201003\",\"201004\",\"201005\",\"201006\",\"201007\",\"201008\",\"201009\",\"201010\",\"201011\",\"201012\",\"201101\",\"201102\",\"201103\",\"201104\",\"201105\",\"201106\",\"201107\",\"201108\",\"201109\",\"201110\",\"201111\",\"201112\",\"201201\",\"201202\",\"201203\",\"201204\",\"201205\",\"201206\",\"201207\",\"201208\",\"201209\",\"201210\",\"201211\",\"201212\",\"201301\",\"201302\",\"201303\",\"201304\",\"201305\",\"201306\",\"201308\",\"201309\",\"201310\",\"201312\",\"201401\",\"201402\",\"201404\",\"201405\",\"201406\",\"201407\",\"201410\",\"201411\",\"201412\",\"201501\",\"201502\",\"201505\",\"201507\",\"201510\",\"201603\",\"201604\",\"201605\",\"201608\",\"201609\",\"201701\",\"201703\",\"201704\",\"201705\",\"201710\",\"201712\",\"201905\",\"201910\",\"201911\",\"202002\",\"202004\",\"202010\"],\"xaxis\":\"x\",\"y\":[4645,4646,4647,4648,6004,4649,9301,9305,9309,10661,4657,4658,4659,4660,4661,4662,6006,9327,4665,10000,10001,10002,10003,10004,20011,30024,30033,30042,40070,50110,30078,60183,100385,50230,80420,70420,90612,242033,151555,111287,202650,91323,162552,152625,71302,193781,235060,143339,81996,225819,102805,92610,123606,103115,82564,113630,124098,31047,134641,51830,41482,134927,72723,62373,114444,52060,20831,72940,41702,52150,62613,20879,73108,83612,10456,31374,41846,31395,10467,20937,10470,10471,62847,41918,20965,41942,20977,10490,10491,31479,20991,10497,31497,31506,21009,21013,10508,10509,21021,21025,10514,10515,21033,10518,10519,10520,10521,10522,21047,10525,10526,21055,10529,10530,10531,21065,10534,10535,10536,21075],\"yaxis\":\"y\",\"type\":\"scatter\"}],                        {\"template\":{\"data\":{\"bar\":[{\"error_x\":{\"color\":\"#2a3f5f\"},\"error_y\":{\"color\":\"#2a3f5f\"},\"marker\":{\"line\":{\"color\":\"#E5ECF6\",\"width\":0.5},\"pattern\":{\"fillmode\":\"overlay\",\"size\":10,\"solidity\":0.2}},\"type\":\"bar\"}],\"barpolar\":[{\"marker\":{\"line\":{\"color\":\"#E5ECF6\",\"width\":0.5},\"pattern\":{\"fillmode\":\"overlay\",\"size\":10,\"solidity\":0.2}},\"type\":\"barpolar\"}],\"carpet\":[{\"aaxis\":{\"endlinecolor\":\"#2a3f5f\",\"gridcolor\":\"white\",\"linecolor\":\"white\",\"minorgridcolor\":\"white\",\"startlinecolor\":\"#2a3f5f\"},\"baxis\":{\"endlinecolor\":\"#2a3f5f\",\"gridcolor\":\"white\",\"linecolor\":\"white\",\"minorgridcolor\":\"white\",\"startlinecolor\":\"#2a3f5f\"},\"type\":\"carpet\"}],\"choropleth\":[{\"colorbar\":{\"outlinewidth\":0,\"ticks\":\"\"},\"type\":\"choropleth\"}],\"contour\":[{\"colorbar\":{\"outlinewidth\":0,\"ticks\":\"\"},\"colorscale\":[[0.0,\"#0d0887\"],[0.1111111111111111,\"#46039f\"],[0.2222222222222222,\"#7201a8\"],[0.3333333333333333,\"#9c179e\"],[0.4444444444444444,\"#bd3786\"],[0.5555555555555556,\"#d8576b\"],[0.6666666666666666,\"#ed7953\"],[0.7777777777777778,\"#fb9f3a\"],[0.8888888888888888,\"#fdca26\"],[1.0,\"#f0f921\"]],\"type\":\"contour\"}],\"contourcarpet\":[{\"colorbar\":{\"outlinewidth\":0,\"ticks\":\"\"},\"type\":\"contourcarpet\"}],\"heatmap\":[{\"colorbar\":{\"outlinewidth\":0,\"ticks\":\"\"},\"colorscale\":[[0.0,\"#0d0887\"],[0.1111111111111111,\"#46039f\"],[0.2222222222222222,\"#7201a8\"],[0.3333333333333333,\"#9c179e\"],[0.4444444444444444,\"#bd3786\"],[0.5555555555555556,\"#d8576b\"],[0.6666666666666666,\"#ed7953\"],[0.7777777777777778,\"#fb9f3a\"],[0.8888888888888888,\"#fdca26\"],[1.0,\"#f0f921\"]],\"type\":\"heatmap\"}],\"heatmapgl\":[{\"colorbar\":{\"outlinewidth\":0,\"ticks\":\"\"},\"colorscale\":[[0.0,\"#0d0887\"],[0.1111111111111111,\"#46039f\"],[0.2222222222222222,\"#7201a8\"],[0.3333333333333333,\"#9c179e\"],[0.4444444444444444,\"#bd3786\"],[0.5555555555555556,\"#d8576b\"],[0.6666666666666666,\"#ed7953\"],[0.7777777777777778,\"#fb9f3a\"],[0.8888888888888888,\"#fdca26\"],[1.0,\"#f0f921\"]],\"type\":\"heatmapgl\"}],\"histogram\":[{\"marker\":{\"pattern\":{\"fillmode\":\"overlay\",\"size\":10,\"solidity\":0.2}},\"type\":\"histogram\"}],\"histogram2d\":[{\"colorbar\":{\"outlinewidth\":0,\"ticks\":\"\"},\"colorscale\":[[0.0,\"#0d0887\"],[0.1111111111111111,\"#46039f\"],[0.2222222222222222,\"#7201a8\"],[0.3333333333333333,\"#9c179e\"],[0.4444444444444444,\"#bd3786\"],[0.5555555555555556,\"#d8576b\"],[0.6666666666666666,\"#ed7953\"],[0.7777777777777778,\"#fb9f3a\"],[0.8888888888888888,\"#fdca26\"],[1.0,\"#f0f921\"]],\"type\":\"histogram2d\"}],\"histogram2dcontour\":[{\"colorbar\":{\"outlinewidth\":0,\"ticks\":\"\"},\"colorscale\":[[0.0,\"#0d0887\"],[0.1111111111111111,\"#46039f\"],[0.2222222222222222,\"#7201a8\"],[0.3333333333333333,\"#9c179e\"],[0.4444444444444444,\"#bd3786\"],[0.5555555555555556,\"#d8576b\"],[0.6666666666666666,\"#ed7953\"],[0.7777777777777778,\"#fb9f3a\"],[0.8888888888888888,\"#fdca26\"],[1.0,\"#f0f921\"]],\"type\":\"histogram2dcontour\"}],\"mesh3d\":[{\"colorbar\":{\"outlinewidth\":0,\"ticks\":\"\"},\"type\":\"mesh3d\"}],\"parcoords\":[{\"line\":{\"colorbar\":{\"outlinewidth\":0,\"ticks\":\"\"}},\"type\":\"parcoords\"}],\"pie\":[{\"automargin\":true,\"type\":\"pie\"}],\"scatter\":[{\"marker\":{\"colorbar\":{\"outlinewidth\":0,\"ticks\":\"\"}},\"type\":\"scatter\"}],\"scatter3d\":[{\"line\":{\"colorbar\":{\"outlinewidth\":0,\"ticks\":\"\"}},\"marker\":{\"colorbar\":{\"outlinewidth\":0,\"ticks\":\"\"}},\"type\":\"scatter3d\"}],\"scattercarpet\":[{\"marker\":{\"colorbar\":{\"outlinewidth\":0,\"ticks\":\"\"}},\"type\":\"scattercarpet\"}],\"scattergeo\":[{\"marker\":{\"colorbar\":{\"outlinewidth\":0,\"ticks\":\"\"}},\"type\":\"scattergeo\"}],\"scattergl\":[{\"marker\":{\"colorbar\":{\"outlinewidth\":0,\"ticks\":\"\"}},\"type\":\"scattergl\"}],\"scattermapbox\":[{\"marker\":{\"colorbar\":{\"outlinewidth\":0,\"ticks\":\"\"}},\"type\":\"scattermapbox\"}],\"scatterpolar\":[{\"marker\":{\"colorbar\":{\"outlinewidth\":0,\"ticks\":\"\"}},\"type\":\"scatterpolar\"}],\"scatterpolargl\":[{\"marker\":{\"colorbar\":{\"outlinewidth\":0,\"ticks\":\"\"}},\"type\":\"scatterpolargl\"}],\"scatterternary\":[{\"marker\":{\"colorbar\":{\"outlinewidth\":0,\"ticks\":\"\"}},\"type\":\"scatterternary\"}],\"surface\":[{\"colorbar\":{\"outlinewidth\":0,\"ticks\":\"\"},\"colorscale\":[[0.0,\"#0d0887\"],[0.1111111111111111,\"#46039f\"],[0.2222222222222222,\"#7201a8\"],[0.3333333333333333,\"#9c179e\"],[0.4444444444444444,\"#bd3786\"],[0.5555555555555556,\"#d8576b\"],[0.6666666666666666,\"#ed7953\"],[0.7777777777777778,\"#fb9f3a\"],[0.8888888888888888,\"#fdca26\"],[1.0,\"#f0f921\"]],\"type\":\"surface\"}],\"table\":[{\"cells\":{\"fill\":{\"color\":\"#EBF0F8\"},\"line\":{\"color\":\"white\"}},\"header\":{\"fill\":{\"color\":\"#C8D4E3\"},\"line\":{\"color\":\"white\"}},\"type\":\"table\"}]},\"layout\":{\"annotationdefaults\":{\"arrowcolor\":\"#2a3f5f\",\"arrowhead\":0,\"arrowwidth\":1},\"autotypenumbers\":\"strict\",\"coloraxis\":{\"colorbar\":{\"outlinewidth\":0,\"ticks\":\"\"}},\"colorscale\":{\"diverging\":[[0,\"#8e0152\"],[0.1,\"#c51b7d\"],[0.2,\"#de77ae\"],[0.3,\"#f1b6da\"],[0.4,\"#fde0ef\"],[0.5,\"#f7f7f7\"],[0.6,\"#e6f5d0\"],[0.7,\"#b8e186\"],[0.8,\"#7fbc41\"],[0.9,\"#4d9221\"],[1,\"#276419\"]],\"sequential\":[[0.0,\"#0d0887\"],[0.1111111111111111,\"#46039f\"],[0.2222222222222222,\"#7201a8\"],[0.3333333333333333,\"#9c179e\"],[0.4444444444444444,\"#bd3786\"],[0.5555555555555556,\"#d8576b\"],[0.6666666666666666,\"#ed7953\"],[0.7777777777777778,\"#fb9f3a\"],[0.8888888888888888,\"#fdca26\"],[1.0,\"#f0f921\"]],\"sequentialminus\":[[0.0,\"#0d0887\"],[0.1111111111111111,\"#46039f\"],[0.2222222222222222,\"#7201a8\"],[0.3333333333333333,\"#9c179e\"],[0.4444444444444444,\"#bd3786\"],[0.5555555555555556,\"#d8576b\"],[0.6666666666666666,\"#ed7953\"],[0.7777777777777778,\"#fb9f3a\"],[0.8888888888888888,\"#fdca26\"],[1.0,\"#f0f921\"]]},\"colorway\":[\"#636efa\",\"#EF553B\",\"#00cc96\",\"#ab63fa\",\"#FFA15A\",\"#19d3f3\",\"#FF6692\",\"#B6E880\",\"#FF97FF\",\"#FECB52\"],\"font\":{\"color\":\"#2a3f5f\"},\"geo\":{\"bgcolor\":\"white\",\"lakecolor\":\"white\",\"landcolor\":\"#E5ECF6\",\"showlakes\":true,\"showland\":true,\"subunitcolor\":\"white\"},\"hoverlabel\":{\"align\":\"left\"},\"hovermode\":\"closest\",\"mapbox\":{\"style\":\"light\"},\"paper_bgcolor\":\"white\",\"plot_bgcolor\":\"#E5ECF6\",\"polar\":{\"angularaxis\":{\"gridcolor\":\"white\",\"linecolor\":\"white\",\"ticks\":\"\"},\"bgcolor\":\"#E5ECF6\",\"radialaxis\":{\"gridcolor\":\"white\",\"linecolor\":\"white\",\"ticks\":\"\"}},\"scene\":{\"xaxis\":{\"backgroundcolor\":\"#E5ECF6\",\"gridcolor\":\"white\",\"gridwidth\":2,\"linecolor\":\"white\",\"showbackground\":true,\"ticks\":\"\",\"zerolinecolor\":\"white\"},\"yaxis\":{\"backgroundcolor\":\"#E5ECF6\",\"gridcolor\":\"white\",\"gridwidth\":2,\"linecolor\":\"white\",\"showbackground\":true,\"ticks\":\"\",\"zerolinecolor\":\"white\"},\"zaxis\":{\"backgroundcolor\":\"#E5ECF6\",\"gridcolor\":\"white\",\"gridwidth\":2,\"linecolor\":\"white\",\"showbackground\":true,\"ticks\":\"\",\"zerolinecolor\":\"white\"}},\"shapedefaults\":{\"line\":{\"color\":\"#2a3f5f\"}},\"ternary\":{\"aaxis\":{\"gridcolor\":\"white\",\"linecolor\":\"white\",\"ticks\":\"\"},\"baxis\":{\"gridcolor\":\"white\",\"linecolor\":\"white\",\"ticks\":\"\"},\"bgcolor\":\"#E5ECF6\",\"caxis\":{\"gridcolor\":\"white\",\"linecolor\":\"white\",\"ticks\":\"\"}},\"title\":{\"x\":0.05},\"xaxis\":{\"automargin\":true,\"gridcolor\":\"white\",\"linecolor\":\"white\",\"ticks\":\"\",\"title\":{\"standoff\":15},\"zerolinecolor\":\"white\",\"zerolinewidth\":2},\"yaxis\":{\"automargin\":true,\"gridcolor\":\"white\",\"linecolor\":\"white\",\"ticks\":\"\",\"title\":{\"standoff\":15},\"zerolinecolor\":\"white\",\"zerolinewidth\":2}}},\"xaxis\":{\"anchor\":\"y\",\"domain\":[0.0,1.0],\"title\":{\"text\":\"Year-Month\"}},\"yaxis\":{\"anchor\":\"x\",\"domain\":[0.0,1.0],\"title\":{\"text\":\"Fund\"}},\"legend\":{\"tracegroupgap\":0},\"margin\":{\"t\":60}},                        {\"responsive\": true}                    ).then(function(){\n",
       "                            \n",
       "var gd = document.getElementById('52821b0e-de9f-4787-a5e7-6e323f82031a');\n",
       "var x = new MutationObserver(function (mutations, observer) {{\n",
       "        var display = window.getComputedStyle(gd).display;\n",
       "        if (!display || display === 'none') {{\n",
       "            console.log([gd, 'removed!']);\n",
       "            Plotly.purge(gd);\n",
       "            observer.disconnect();\n",
       "        }}\n",
       "}});\n",
       "\n",
       "// Listen for the removal of the full notebook cells\n",
       "var notebookContainer = gd.closest('#notebook-container');\n",
       "if (notebookContainer) {{\n",
       "    x.observe(notebookContainer, {childList: true});\n",
       "}}\n",
       "\n",
       "// Listen for the clearing of the current output cell\n",
       "var outputEl = gd.closest('.output');\n",
       "if (outputEl) {{\n",
       "    x.observe(outputEl, {childList: true});\n",
       "}}\n",
       "\n",
       "                        })                };                });            </script>        </div>"
      ]
     },
     "metadata": {},
     "output_type": "display_data"
    }
   ],
   "source": [
    "\n",
    "px.scatter(data_frame =DateFund, x= DateFund.index, y='Fund')"
   ]
  },
  {
   "cell_type": "code",
   "execution_count": 205,
   "id": "c4ad647b-a668-4821-be79-eef7ecb4efdc",
   "metadata": {},
   "outputs": [],
   "source": [
    "import matplotlib.pyplot as plt"
   ]
  },
  {
   "cell_type": "code",
   "execution_count": 208,
   "id": "7d31c5d2-f751-4435-bcff-f91a549cd14b",
   "metadata": {},
   "outputs": [
    {
     "data": {
      "image/png": "[encoded data removed]",
      "text/plain": [
       "<Figure size 432x288 with 1 Axes>"
      ]
     },
     "metadata": {
      "needs_background": "light"
     },
     "output_type": "display_data"
    }
   ],
   "source": [
    "plt.plot([1], [1], 'o', markersize=20, c='#FF5733')\n",
    "plt.scatter([2], [1], s=20**2, c='#33FFCE')\n",
    "\n",
    "plt.text(0.5, 1.05, 'plot(markersize=20)', fontdict={'size': 14})\n",
    "plt.text(1.6, 1.05, 'scatter(s=20**2)', fontdict={'size': 14})\n",
    "plt.axis([0.4, 2.6, 0.8, 1.2])\n",
    "plt.show()"
   ]
  },
  {
   "cell_type": "code",
   "execution_count": null,
   "id": "47be58db-d490-428a-8ded-abe87a3a4ac7",
   "metadata": {},
   "outputs": [],
   "source": []
  }
 ],
 "metadata": {
  "kernelspec": {
   "display_name": "Python 3 (ipykernel)",
   "language": "python",
   "name": "python3"
  },
  "language_info": {
   "codemirror_mode": {
    "name": "ipython",
    "version": 3
   },
   "file_extension": ".py",
   "mimetype": "text/x-python",
   "name": "python",
   "nbconvert_exporter": "python",
   "pygments_lexer": "ipython3",
   "version": "3.9.12"
  }
 },
 "nbformat": 4,
 "nbformat_minor": 5
}
