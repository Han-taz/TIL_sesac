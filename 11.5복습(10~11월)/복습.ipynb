{
 "cells": [
  {
   "cell_type": "code",
   "execution_count": null,
   "id": "b76c0a4c-b91f-4d62-b8ec-736726a6ef8e",
   "metadata": {},
   "outputs": [],
   "source": [
    "result = 0\n",
    "i = 1\n",
    "while i <= 1000:\n",
    "    if i % 3 == 0: # 3으로 나누어 떨어지는 수는 3의 배수\n",
    "        result += i\n",
    "    i += 1\n",
    "\n",
    "print(result) # 166833 출력"
   ]
  },
  {
   "cell_type": "code",
   "execution_count": null,
   "id": "adc6e854-3960-400b-abdf-2a82958e1ee4",
   "metadata": {},
   "outputs": [],
   "source": [
    "result = 0\n",
    "i = 1\n",
    "while i <= 1000:\n",
    "    if i % 3 == 0:\n",
    "        result += i\n",
    "        i+= 1\n",
    "print(result)"
   ]
  },
  {
   "cell_type": "code",
   "execution_count": null,
   "id": "b8fdc98f-9872-4564-9aa7-8dcfbb7766b3",
   "metadata": {},
   "outputs": [],
   "source": [
    "s=0\n",
    "list_1=range(1,6)\n",
    "for i "
   ]
  },
  {
   "cell_type": "code",
   "execution_count": null,
   "id": "37b4eaef-16b2-43bb-9671-a825adefa10e",
   "metadata": {},
   "outputs": [],
   "source": [
    "1+2"
   ]
  },
  {
   "cell_type": "code",
   "execution_count": 6,
   "id": "b1a54a3b-f792-4ced-9ad0-25237b083630",
   "metadata": {},
   "outputs": [
    {
     "name": "stdout",
     "output_type": "stream",
     "text": [
      "2\n"
     ]
    }
   ],
   "source": [
    "def a0(num) :\n",
    "    return num * 2\n",
    "print(a0(1))"
   ]
  },
  {
   "cell_type": "code",
   "execution_count": 5,
   "id": "664ec459-439f-4202-aa26-40002b53e065",
   "metadata": {},
   "outputs": [
    {
     "name": "stdout",
     "output_type": "stream",
     "text": [
      "6\n"
     ]
    }
   ],
   "source": [
    "def a1(num) :\n",
    "    return a0(num + 2)\n",
    "print(a1(1))"
   ]
  },
  {
   "cell_type": "code",
   "execution_count": 3,
   "id": "cc007204-4b83-414e-9d04-1b188770e3ef",
   "metadata": {},
   "outputs": [
    {
     "name": "stdout",
     "output_type": "stream",
     "text": [
      "28\n"
     ]
    }
   ],
   "source": [
    "def a2(num) :\n",
    "    num = num + 10\n",
    "    return a1(num)\n",
    "print(a2(2))"
   ]
  },
  {
   "cell_type": "code",
   "execution_count": null,
   "id": "367aa2ce-1f11-47f2-9619-3a05171f9fc8",
   "metadata": {},
   "outputs": [],
   "source": []
  }
 ],
 "metadata": {
  "kernelspec": {
   "display_name": "Python 3 (ipykernel)",
   "language": "python",
   "name": "python3"
  },
  "language_info": {
   "codemirror_mode": {
    "name": "ipython",
    "version": 3
   },
   "file_extension": ".py",
   "mimetype": "text/x-python",
   "name": "python",
   "nbconvert_exporter": "python",
   "pygments_lexer": "ipython3",
   "version": "3.9.12"
  }
 },
 "nbformat": 4,
 "nbformat_minor": 5
}
