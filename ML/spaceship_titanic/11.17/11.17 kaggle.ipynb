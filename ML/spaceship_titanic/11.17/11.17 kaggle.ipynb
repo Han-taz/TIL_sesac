{
 "cells": [
  {
   "cell_type": "code",
   "execution_count": 61,
   "id": "b2bceae5-30cd-4f4a-9a03-885bcc267634",
   "metadata": {},
   "outputs": [],
   "source": [
    "import pandas as pd\n",
    "import numpy as np\n",
    "import pickle\n",
    "import seaborn as sns\n",
    "import matplotlib.pyplot as plt\n",
    "import warnings\n",
    "warnings.filterwarnings(action='ignore')\n",
    "#모델\n",
    "from sklearn.model_selection import train_test_split\n",
    "from sklearn.svm import SVC\n",
    "from sklearn.preprocessing import LabelEncoder\n",
    "from sklearn.preprocessing import MinMaxScaler\n",
    "from sklearn.preprocessing import StandardScaler\n",
    "from sklearn.linear_model import LogisticRegression\n",
    "from sklearn.tree import DecisionTreeClassifier\n",
    "from sklearn.metrics import f1_score\n",
    "from sklearn.preprocessing import LabelBinarizer\n",
    "from sklearn.impute import SimpleImputer"
   ]
  },
  {
   "cell_type": "code",
   "execution_count": 2,
   "id": "1ed7dde9-2eee-4d19-8948-0c191fee7700",
   "metadata": {},
   "outputs": [],
   "source": [
    "data=pd.read_csv('train.csv')"
   ]
  },
  {
   "cell_type": "code",
   "execution_count": 122,
   "id": "d64a764b-c7f2-44b0-9c9b-c38e800f173c",
   "metadata": {},
   "outputs": [],
   "source": [
    "train=pd.read_csv('train.csv')"
   ]
  },
  {
   "cell_type": "code",
   "execution_count": 4,
   "id": "d7961767-9b90-4ff9-92bd-ac7e93a3140c",
   "metadata": {},
   "outputs": [
    {
     "data": {
      "text/plain": [
       "(8693, 14)"
      ]
     },
     "execution_count": 4,
     "metadata": {},
     "output_type": "execute_result"
    }
   ],
   "source": [
    "data.shape"
   ]
  },
  {
   "cell_type": "code",
   "execution_count": 88,
   "id": "96c404c7-c9d4-4249-a3e9-7946fdcc0433",
   "metadata": {},
   "outputs": [
    {
     "data": {
      "text/plain": [
       "PassengerId       0\n",
       "HomePlanet      201\n",
       "CryoSleep       217\n",
       "Cabin           199\n",
       "Destination     182\n",
       "Age             179\n",
       "VIP             203\n",
       "RoomService     181\n",
       "FoodCourt       183\n",
       "ShoppingMall    208\n",
       "Spa             183\n",
       "VRDeck          188\n",
       "Name            200\n",
       "Transported       0\n",
       "dtype: int64"
      ]
     },
     "execution_count": 88,
     "metadata": {},
     "output_type": "execute_result"
    }
   ],
   "source": [
    "data.isna().sum()"
   ]
  },
  {
   "cell_type": "code",
   "execution_count": 5,
   "id": "8f195dbc-c215-4a91-bb1f-5d659d4a472a",
   "metadata": {},
   "outputs": [],
   "source": [
    "real=pd.read_csv('test.csv')"
   ]
  },
  {
   "cell_type": "code",
   "execution_count": 6,
   "id": "6b3b1d4b-9089-486b-b274-ddd1d335f116",
   "metadata": {},
   "outputs": [
    {
     "data": {
      "text/plain": [
       "(4277, 13)"
      ]
     },
     "execution_count": 6,
     "metadata": {},
     "output_type": "execute_result"
    }
   ],
   "source": [
    "real.shape"
   ]
  },
  {
   "cell_type": "code",
   "execution_count": 7,
   "id": "edb7cb96-a4b1-4ce5-864e-68d1d2a37b12",
   "metadata": {
    "tags": []
   },
   "outputs": [
    {
     "data": {
      "text/html": [
       "<div>\n",
       "<style scoped>\n",
       "    .dataframe tbody tr th:only-of-type {\n",
       "        vertical-align: middle;\n",
       "    }\n",
       "\n",
       "    .dataframe tbody tr th {\n",
       "        vertical-align: top;\n",
       "    }\n",
       "\n",
       "    .dataframe thead th {\n",
       "        text-align: right;\n",
       "    }\n",
       "</style>\n",
       "<table border=\"1\" class=\"dataframe\">\n",
       "  <thead>\n",
       "    <tr style=\"text-align: right;\">\n",
       "      <th></th>\n",
       "      <th>PassengerId</th>\n",
       "      <th>HomePlanet</th>\n",
       "      <th>CryoSleep</th>\n",
       "      <th>Cabin</th>\n",
       "      <th>Destination</th>\n",
       "      <th>Age</th>\n",
       "      <th>VIP</th>\n",
       "      <th>RoomService</th>\n",
       "      <th>FoodCourt</th>\n",
       "      <th>ShoppingMall</th>\n",
       "      <th>Spa</th>\n",
       "      <th>VRDeck</th>\n",
       "      <th>Name</th>\n",
       "    </tr>\n",
       "  </thead>\n",
       "  <tbody>\n",
       "    <tr>\n",
       "      <th>0</th>\n",
       "      <td>0013_01</td>\n",
       "      <td>Earth</td>\n",
       "      <td>True</td>\n",
       "      <td>G/3/S</td>\n",
       "      <td>TRAPPIST-1e</td>\n",
       "      <td>27.0</td>\n",
       "      <td>False</td>\n",
       "      <td>0.0</td>\n",
       "      <td>0.0</td>\n",
       "      <td>0.0</td>\n",
       "      <td>0.0</td>\n",
       "      <td>0.0</td>\n",
       "      <td>Nelly Carsoning</td>\n",
       "    </tr>\n",
       "    <tr>\n",
       "      <th>1</th>\n",
       "      <td>0018_01</td>\n",
       "      <td>Earth</td>\n",
       "      <td>False</td>\n",
       "      <td>F/4/S</td>\n",
       "      <td>TRAPPIST-1e</td>\n",
       "      <td>19.0</td>\n",
       "      <td>False</td>\n",
       "      <td>0.0</td>\n",
       "      <td>9.0</td>\n",
       "      <td>0.0</td>\n",
       "      <td>2823.0</td>\n",
       "      <td>0.0</td>\n",
       "      <td>Lerome Peckers</td>\n",
       "    </tr>\n",
       "    <tr>\n",
       "      <th>2</th>\n",
       "      <td>0019_01</td>\n",
       "      <td>Europa</td>\n",
       "      <td>True</td>\n",
       "      <td>C/0/S</td>\n",
       "      <td>55 Cancri e</td>\n",
       "      <td>31.0</td>\n",
       "      <td>False</td>\n",
       "      <td>0.0</td>\n",
       "      <td>0.0</td>\n",
       "      <td>0.0</td>\n",
       "      <td>0.0</td>\n",
       "      <td>0.0</td>\n",
       "      <td>Sabih Unhearfus</td>\n",
       "    </tr>\n",
       "    <tr>\n",
       "      <th>3</th>\n",
       "      <td>0021_01</td>\n",
       "      <td>Europa</td>\n",
       "      <td>False</td>\n",
       "      <td>C/1/S</td>\n",
       "      <td>TRAPPIST-1e</td>\n",
       "      <td>38.0</td>\n",
       "      <td>False</td>\n",
       "      <td>0.0</td>\n",
       "      <td>6652.0</td>\n",
       "      <td>0.0</td>\n",
       "      <td>181.0</td>\n",
       "      <td>585.0</td>\n",
       "      <td>Meratz Caltilter</td>\n",
       "    </tr>\n",
       "    <tr>\n",
       "      <th>4</th>\n",
       "      <td>0023_01</td>\n",
       "      <td>Earth</td>\n",
       "      <td>False</td>\n",
       "      <td>F/5/S</td>\n",
       "      <td>TRAPPIST-1e</td>\n",
       "      <td>20.0</td>\n",
       "      <td>False</td>\n",
       "      <td>10.0</td>\n",
       "      <td>0.0</td>\n",
       "      <td>635.0</td>\n",
       "      <td>0.0</td>\n",
       "      <td>0.0</td>\n",
       "      <td>Brence Harperez</td>\n",
       "    </tr>\n",
       "    <tr>\n",
       "      <th>...</th>\n",
       "      <td>...</td>\n",
       "      <td>...</td>\n",
       "      <td>...</td>\n",
       "      <td>...</td>\n",
       "      <td>...</td>\n",
       "      <td>...</td>\n",
       "      <td>...</td>\n",
       "      <td>...</td>\n",
       "      <td>...</td>\n",
       "      <td>...</td>\n",
       "      <td>...</td>\n",
       "      <td>...</td>\n",
       "      <td>...</td>\n",
       "    </tr>\n",
       "    <tr>\n",
       "      <th>4272</th>\n",
       "      <td>9266_02</td>\n",
       "      <td>Earth</td>\n",
       "      <td>True</td>\n",
       "      <td>G/1496/S</td>\n",
       "      <td>TRAPPIST-1e</td>\n",
       "      <td>34.0</td>\n",
       "      <td>False</td>\n",
       "      <td>0.0</td>\n",
       "      <td>0.0</td>\n",
       "      <td>0.0</td>\n",
       "      <td>0.0</td>\n",
       "      <td>0.0</td>\n",
       "      <td>Jeron Peter</td>\n",
       "    </tr>\n",
       "    <tr>\n",
       "      <th>4273</th>\n",
       "      <td>9269_01</td>\n",
       "      <td>Earth</td>\n",
       "      <td>False</td>\n",
       "      <td>NaN</td>\n",
       "      <td>TRAPPIST-1e</td>\n",
       "      <td>42.0</td>\n",
       "      <td>False</td>\n",
       "      <td>0.0</td>\n",
       "      <td>847.0</td>\n",
       "      <td>17.0</td>\n",
       "      <td>10.0</td>\n",
       "      <td>144.0</td>\n",
       "      <td>Matty Scheron</td>\n",
       "    </tr>\n",
       "    <tr>\n",
       "      <th>4274</th>\n",
       "      <td>9271_01</td>\n",
       "      <td>Mars</td>\n",
       "      <td>True</td>\n",
       "      <td>D/296/P</td>\n",
       "      <td>55 Cancri e</td>\n",
       "      <td>NaN</td>\n",
       "      <td>False</td>\n",
       "      <td>0.0</td>\n",
       "      <td>0.0</td>\n",
       "      <td>0.0</td>\n",
       "      <td>0.0</td>\n",
       "      <td>0.0</td>\n",
       "      <td>Jayrin Pore</td>\n",
       "    </tr>\n",
       "    <tr>\n",
       "      <th>4275</th>\n",
       "      <td>9273_01</td>\n",
       "      <td>Europa</td>\n",
       "      <td>False</td>\n",
       "      <td>D/297/P</td>\n",
       "      <td>NaN</td>\n",
       "      <td>NaN</td>\n",
       "      <td>False</td>\n",
       "      <td>0.0</td>\n",
       "      <td>2680.0</td>\n",
       "      <td>0.0</td>\n",
       "      <td>0.0</td>\n",
       "      <td>523.0</td>\n",
       "      <td>Kitakan Conale</td>\n",
       "    </tr>\n",
       "    <tr>\n",
       "      <th>4276</th>\n",
       "      <td>9277_01</td>\n",
       "      <td>Earth</td>\n",
       "      <td>True</td>\n",
       "      <td>G/1498/S</td>\n",
       "      <td>PSO J318.5-22</td>\n",
       "      <td>43.0</td>\n",
       "      <td>False</td>\n",
       "      <td>0.0</td>\n",
       "      <td>0.0</td>\n",
       "      <td>0.0</td>\n",
       "      <td>0.0</td>\n",
       "      <td>0.0</td>\n",
       "      <td>Lilace Leonzaley</td>\n",
       "    </tr>\n",
       "  </tbody>\n",
       "</table>\n",
       "<p>4277 rows × 13 columns</p>\n",
       "</div>"
      ],
      "text/plain": [
       "     PassengerId HomePlanet CryoSleep     Cabin    Destination   Age    VIP  \\\n",
       "0        0013_01      Earth      True     G/3/S    TRAPPIST-1e  27.0  False   \n",
       "1        0018_01      Earth     False     F/4/S    TRAPPIST-1e  19.0  False   \n",
       "2        0019_01     Europa      True     C/0/S    55 Cancri e  31.0  False   \n",
       "3        0021_01     Europa     False     C/1/S    TRAPPIST-1e  38.0  False   \n",
       "4        0023_01      Earth     False     F/5/S    TRAPPIST-1e  20.0  False   \n",
       "...          ...        ...       ...       ...            ...   ...    ...   \n",
       "4272     9266_02      Earth      True  G/1496/S    TRAPPIST-1e  34.0  False   \n",
       "4273     9269_01      Earth     False       NaN    TRAPPIST-1e  42.0  False   \n",
       "4274     9271_01       Mars      True   D/296/P    55 Cancri e   NaN  False   \n",
       "4275     9273_01     Europa     False   D/297/P            NaN   NaN  False   \n",
       "4276     9277_01      Earth      True  G/1498/S  PSO J318.5-22  43.0  False   \n",
       "\n",
       "      RoomService  FoodCourt  ShoppingMall     Spa  VRDeck              Name  \n",
       "0             0.0        0.0           0.0     0.0     0.0   Nelly Carsoning  \n",
       "1             0.0        9.0           0.0  2823.0     0.0    Lerome Peckers  \n",
       "2             0.0        0.0           0.0     0.0     0.0   Sabih Unhearfus  \n",
       "3             0.0     6652.0           0.0   181.0   585.0  Meratz Caltilter  \n",
       "4            10.0        0.0         635.0     0.0     0.0   Brence Harperez  \n",
       "...           ...        ...           ...     ...     ...               ...  \n",
       "4272          0.0        0.0           0.0     0.0     0.0       Jeron Peter  \n",
       "4273          0.0      847.0          17.0    10.0   144.0     Matty Scheron  \n",
       "4274          0.0        0.0           0.0     0.0     0.0       Jayrin Pore  \n",
       "4275          0.0     2680.0           0.0     0.0   523.0    Kitakan Conale  \n",
       "4276          0.0        0.0           0.0     0.0     0.0  Lilace Leonzaley  \n",
       "\n",
       "[4277 rows x 13 columns]"
      ]
     },
     "execution_count": 7,
     "metadata": {},
     "output_type": "execute_result"
    }
   ],
   "source": [
    "real"
   ]
  },
  {
   "cell_type": "code",
   "execution_count": 8,
   "id": "717a2095-9dbb-4ee2-8353-e487825b8d1c",
   "metadata": {},
   "outputs": [],
   "source": [
    "submit=pd.read_csv('sample_submission.csv')"
   ]
  },
  {
   "cell_type": "code",
   "execution_count": 9,
   "id": "becbb927-a9a8-4954-b424-11e4c4732959",
   "metadata": {
    "tags": []
   },
   "outputs": [
    {
     "data": {
      "text/html": [
       "<div>\n",
       "<style scoped>\n",
       "    .dataframe tbody tr th:only-of-type {\n",
       "        vertical-align: middle;\n",
       "    }\n",
       "\n",
       "    .dataframe tbody tr th {\n",
       "        vertical-align: top;\n",
       "    }\n",
       "\n",
       "    .dataframe thead th {\n",
       "        text-align: right;\n",
       "    }\n",
       "</style>\n",
       "<table border=\"1\" class=\"dataframe\">\n",
       "  <thead>\n",
       "    <tr style=\"text-align: right;\">\n",
       "      <th></th>\n",
       "      <th>PassengerId</th>\n",
       "      <th>HomePlanet</th>\n",
       "      <th>CryoSleep</th>\n",
       "      <th>Cabin</th>\n",
       "      <th>Destination</th>\n",
       "      <th>Age</th>\n",
       "      <th>VIP</th>\n",
       "      <th>RoomService</th>\n",
       "      <th>FoodCourt</th>\n",
       "      <th>ShoppingMall</th>\n",
       "      <th>Spa</th>\n",
       "      <th>VRDeck</th>\n",
       "      <th>Name</th>\n",
       "    </tr>\n",
       "  </thead>\n",
       "  <tbody>\n",
       "    <tr>\n",
       "      <th>0</th>\n",
       "      <td>0013_01</td>\n",
       "      <td>Earth</td>\n",
       "      <td>True</td>\n",
       "      <td>G/3/S</td>\n",
       "      <td>TRAPPIST-1e</td>\n",
       "      <td>27.0</td>\n",
       "      <td>False</td>\n",
       "      <td>0.0</td>\n",
       "      <td>0.0</td>\n",
       "      <td>0.0</td>\n",
       "      <td>0.0</td>\n",
       "      <td>0.0</td>\n",
       "      <td>Nelly Carsoning</td>\n",
       "    </tr>\n",
       "    <tr>\n",
       "      <th>1</th>\n",
       "      <td>0018_01</td>\n",
       "      <td>Earth</td>\n",
       "      <td>False</td>\n",
       "      <td>F/4/S</td>\n",
       "      <td>TRAPPIST-1e</td>\n",
       "      <td>19.0</td>\n",
       "      <td>False</td>\n",
       "      <td>0.0</td>\n",
       "      <td>9.0</td>\n",
       "      <td>0.0</td>\n",
       "      <td>2823.0</td>\n",
       "      <td>0.0</td>\n",
       "      <td>Lerome Peckers</td>\n",
       "    </tr>\n",
       "    <tr>\n",
       "      <th>2</th>\n",
       "      <td>0019_01</td>\n",
       "      <td>Europa</td>\n",
       "      <td>True</td>\n",
       "      <td>C/0/S</td>\n",
       "      <td>55 Cancri e</td>\n",
       "      <td>31.0</td>\n",
       "      <td>False</td>\n",
       "      <td>0.0</td>\n",
       "      <td>0.0</td>\n",
       "      <td>0.0</td>\n",
       "      <td>0.0</td>\n",
       "      <td>0.0</td>\n",
       "      <td>Sabih Unhearfus</td>\n",
       "    </tr>\n",
       "    <tr>\n",
       "      <th>3</th>\n",
       "      <td>0021_01</td>\n",
       "      <td>Europa</td>\n",
       "      <td>False</td>\n",
       "      <td>C/1/S</td>\n",
       "      <td>TRAPPIST-1e</td>\n",
       "      <td>38.0</td>\n",
       "      <td>False</td>\n",
       "      <td>0.0</td>\n",
       "      <td>6652.0</td>\n",
       "      <td>0.0</td>\n",
       "      <td>181.0</td>\n",
       "      <td>585.0</td>\n",
       "      <td>Meratz Caltilter</td>\n",
       "    </tr>\n",
       "    <tr>\n",
       "      <th>4</th>\n",
       "      <td>0023_01</td>\n",
       "      <td>Earth</td>\n",
       "      <td>False</td>\n",
       "      <td>F/5/S</td>\n",
       "      <td>TRAPPIST-1e</td>\n",
       "      <td>20.0</td>\n",
       "      <td>False</td>\n",
       "      <td>10.0</td>\n",
       "      <td>0.0</td>\n",
       "      <td>635.0</td>\n",
       "      <td>0.0</td>\n",
       "      <td>0.0</td>\n",
       "      <td>Brence Harperez</td>\n",
       "    </tr>\n",
       "    <tr>\n",
       "      <th>...</th>\n",
       "      <td>...</td>\n",
       "      <td>...</td>\n",
       "      <td>...</td>\n",
       "      <td>...</td>\n",
       "      <td>...</td>\n",
       "      <td>...</td>\n",
       "      <td>...</td>\n",
       "      <td>...</td>\n",
       "      <td>...</td>\n",
       "      <td>...</td>\n",
       "      <td>...</td>\n",
       "      <td>...</td>\n",
       "      <td>...</td>\n",
       "    </tr>\n",
       "    <tr>\n",
       "      <th>4272</th>\n",
       "      <td>9266_02</td>\n",
       "      <td>Earth</td>\n",
       "      <td>True</td>\n",
       "      <td>G/1496/S</td>\n",
       "      <td>TRAPPIST-1e</td>\n",
       "      <td>34.0</td>\n",
       "      <td>False</td>\n",
       "      <td>0.0</td>\n",
       "      <td>0.0</td>\n",
       "      <td>0.0</td>\n",
       "      <td>0.0</td>\n",
       "      <td>0.0</td>\n",
       "      <td>Jeron Peter</td>\n",
       "    </tr>\n",
       "    <tr>\n",
       "      <th>4273</th>\n",
       "      <td>9269_01</td>\n",
       "      <td>Earth</td>\n",
       "      <td>False</td>\n",
       "      <td>NaN</td>\n",
       "      <td>TRAPPIST-1e</td>\n",
       "      <td>42.0</td>\n",
       "      <td>False</td>\n",
       "      <td>0.0</td>\n",
       "      <td>847.0</td>\n",
       "      <td>17.0</td>\n",
       "      <td>10.0</td>\n",
       "      <td>144.0</td>\n",
       "      <td>Matty Scheron</td>\n",
       "    </tr>\n",
       "    <tr>\n",
       "      <th>4274</th>\n",
       "      <td>9271_01</td>\n",
       "      <td>Mars</td>\n",
       "      <td>True</td>\n",
       "      <td>D/296/P</td>\n",
       "      <td>55 Cancri e</td>\n",
       "      <td>NaN</td>\n",
       "      <td>False</td>\n",
       "      <td>0.0</td>\n",
       "      <td>0.0</td>\n",
       "      <td>0.0</td>\n",
       "      <td>0.0</td>\n",
       "      <td>0.0</td>\n",
       "      <td>Jayrin Pore</td>\n",
       "    </tr>\n",
       "    <tr>\n",
       "      <th>4275</th>\n",
       "      <td>9273_01</td>\n",
       "      <td>Europa</td>\n",
       "      <td>False</td>\n",
       "      <td>D/297/P</td>\n",
       "      <td>NaN</td>\n",
       "      <td>NaN</td>\n",
       "      <td>False</td>\n",
       "      <td>0.0</td>\n",
       "      <td>2680.0</td>\n",
       "      <td>0.0</td>\n",
       "      <td>0.0</td>\n",
       "      <td>523.0</td>\n",
       "      <td>Kitakan Conale</td>\n",
       "    </tr>\n",
       "    <tr>\n",
       "      <th>4276</th>\n",
       "      <td>9277_01</td>\n",
       "      <td>Earth</td>\n",
       "      <td>True</td>\n",
       "      <td>G/1498/S</td>\n",
       "      <td>PSO J318.5-22</td>\n",
       "      <td>43.0</td>\n",
       "      <td>False</td>\n",
       "      <td>0.0</td>\n",
       "      <td>0.0</td>\n",
       "      <td>0.0</td>\n",
       "      <td>0.0</td>\n",
       "      <td>0.0</td>\n",
       "      <td>Lilace Leonzaley</td>\n",
       "    </tr>\n",
       "  </tbody>\n",
       "</table>\n",
       "<p>4277 rows × 13 columns</p>\n",
       "</div>"
      ],
      "text/plain": [
       "     PassengerId HomePlanet CryoSleep     Cabin    Destination   Age    VIP  \\\n",
       "0        0013_01      Earth      True     G/3/S    TRAPPIST-1e  27.0  False   \n",
       "1        0018_01      Earth     False     F/4/S    TRAPPIST-1e  19.0  False   \n",
       "2        0019_01     Europa      True     C/0/S    55 Cancri e  31.0  False   \n",
       "3        0021_01     Europa     False     C/1/S    TRAPPIST-1e  38.0  False   \n",
       "4        0023_01      Earth     False     F/5/S    TRAPPIST-1e  20.0  False   \n",
       "...          ...        ...       ...       ...            ...   ...    ...   \n",
       "4272     9266_02      Earth      True  G/1496/S    TRAPPIST-1e  34.0  False   \n",
       "4273     9269_01      Earth     False       NaN    TRAPPIST-1e  42.0  False   \n",
       "4274     9271_01       Mars      True   D/296/P    55 Cancri e   NaN  False   \n",
       "4275     9273_01     Europa     False   D/297/P            NaN   NaN  False   \n",
       "4276     9277_01      Earth      True  G/1498/S  PSO J318.5-22  43.0  False   \n",
       "\n",
       "      RoomService  FoodCourt  ShoppingMall     Spa  VRDeck              Name  \n",
       "0             0.0        0.0           0.0     0.0     0.0   Nelly Carsoning  \n",
       "1             0.0        9.0           0.0  2823.0     0.0    Lerome Peckers  \n",
       "2             0.0        0.0           0.0     0.0     0.0   Sabih Unhearfus  \n",
       "3             0.0     6652.0           0.0   181.0   585.0  Meratz Caltilter  \n",
       "4            10.0        0.0         635.0     0.0     0.0   Brence Harperez  \n",
       "...           ...        ...           ...     ...     ...               ...  \n",
       "4272          0.0        0.0           0.0     0.0     0.0       Jeron Peter  \n",
       "4273          0.0      847.0          17.0    10.0   144.0     Matty Scheron  \n",
       "4274          0.0        0.0           0.0     0.0     0.0       Jayrin Pore  \n",
       "4275          0.0     2680.0           0.0     0.0   523.0    Kitakan Conale  \n",
       "4276          0.0        0.0           0.0     0.0     0.0  Lilace Leonzaley  \n",
       "\n",
       "[4277 rows x 13 columns]"
      ]
     },
     "execution_count": 9,
     "metadata": {},
     "output_type": "execute_result"
    }
   ],
   "source": [
    "real"
   ]
  },
  {
   "cell_type": "code",
   "execution_count": 10,
   "id": "5d4ea574-4841-43c4-aba8-94117c97b2f9",
   "metadata": {},
   "outputs": [
    {
     "data": {
      "text/plain": [
       "27.0"
      ]
     },
     "execution_count": 10,
     "metadata": {},
     "output_type": "execute_result"
    }
   ],
   "source": [
    "data.Age.median()"
   ]
  },
  {
   "cell_type": "code",
   "execution_count": 11,
   "id": "f611e50b-2c45-484c-b176-ed5561961b56",
   "metadata": {},
   "outputs": [
    {
     "data": {
      "text/html": [
       "<div>\n",
       "<style scoped>\n",
       "    .dataframe tbody tr th:only-of-type {\n",
       "        vertical-align: middle;\n",
       "    }\n",
       "\n",
       "    .dataframe tbody tr th {\n",
       "        vertical-align: top;\n",
       "    }\n",
       "\n",
       "    .dataframe thead th {\n",
       "        text-align: right;\n",
       "    }\n",
       "</style>\n",
       "<table border=\"1\" class=\"dataframe\">\n",
       "  <thead>\n",
       "    <tr style=\"text-align: right;\">\n",
       "      <th></th>\n",
       "      <th>Age</th>\n",
       "      <th>RoomService</th>\n",
       "      <th>FoodCourt</th>\n",
       "      <th>ShoppingMall</th>\n",
       "      <th>Spa</th>\n",
       "      <th>VRDeck</th>\n",
       "    </tr>\n",
       "  </thead>\n",
       "  <tbody>\n",
       "    <tr>\n",
       "      <th>count</th>\n",
       "      <td>8514.000000</td>\n",
       "      <td>8512.000000</td>\n",
       "      <td>8510.000000</td>\n",
       "      <td>8485.000000</td>\n",
       "      <td>8510.000000</td>\n",
       "      <td>8505.000000</td>\n",
       "    </tr>\n",
       "    <tr>\n",
       "      <th>mean</th>\n",
       "      <td>28.827930</td>\n",
       "      <td>224.687617</td>\n",
       "      <td>458.077203</td>\n",
       "      <td>173.729169</td>\n",
       "      <td>311.138778</td>\n",
       "      <td>304.854791</td>\n",
       "    </tr>\n",
       "    <tr>\n",
       "      <th>std</th>\n",
       "      <td>14.489021</td>\n",
       "      <td>666.717663</td>\n",
       "      <td>1611.489240</td>\n",
       "      <td>604.696458</td>\n",
       "      <td>1136.705535</td>\n",
       "      <td>1145.717189</td>\n",
       "    </tr>\n",
       "    <tr>\n",
       "      <th>min</th>\n",
       "      <td>0.000000</td>\n",
       "      <td>0.000000</td>\n",
       "      <td>0.000000</td>\n",
       "      <td>0.000000</td>\n",
       "      <td>0.000000</td>\n",
       "      <td>0.000000</td>\n",
       "    </tr>\n",
       "    <tr>\n",
       "      <th>25%</th>\n",
       "      <td>19.000000</td>\n",
       "      <td>0.000000</td>\n",
       "      <td>0.000000</td>\n",
       "      <td>0.000000</td>\n",
       "      <td>0.000000</td>\n",
       "      <td>0.000000</td>\n",
       "    </tr>\n",
       "    <tr>\n",
       "      <th>50%</th>\n",
       "      <td>27.000000</td>\n",
       "      <td>0.000000</td>\n",
       "      <td>0.000000</td>\n",
       "      <td>0.000000</td>\n",
       "      <td>0.000000</td>\n",
       "      <td>0.000000</td>\n",
       "    </tr>\n",
       "    <tr>\n",
       "      <th>75%</th>\n",
       "      <td>38.000000</td>\n",
       "      <td>47.000000</td>\n",
       "      <td>76.000000</td>\n",
       "      <td>27.000000</td>\n",
       "      <td>59.000000</td>\n",
       "      <td>46.000000</td>\n",
       "    </tr>\n",
       "    <tr>\n",
       "      <th>max</th>\n",
       "      <td>79.000000</td>\n",
       "      <td>14327.000000</td>\n",
       "      <td>29813.000000</td>\n",
       "      <td>23492.000000</td>\n",
       "      <td>22408.000000</td>\n",
       "      <td>24133.000000</td>\n",
       "    </tr>\n",
       "  </tbody>\n",
       "</table>\n",
       "</div>"
      ],
      "text/plain": [
       "               Age   RoomService     FoodCourt  ShoppingMall           Spa  \\\n",
       "count  8514.000000   8512.000000   8510.000000   8485.000000   8510.000000   \n",
       "mean     28.827930    224.687617    458.077203    173.729169    311.138778   \n",
       "std      14.489021    666.717663   1611.489240    604.696458   1136.705535   \n",
       "min       0.000000      0.000000      0.000000      0.000000      0.000000   \n",
       "25%      19.000000      0.000000      0.000000      0.000000      0.000000   \n",
       "50%      27.000000      0.000000      0.000000      0.000000      0.000000   \n",
       "75%      38.000000     47.000000     76.000000     27.000000     59.000000   \n",
       "max      79.000000  14327.000000  29813.000000  23492.000000  22408.000000   \n",
       "\n",
       "             VRDeck  \n",
       "count   8505.000000  \n",
       "mean     304.854791  \n",
       "std     1145.717189  \n",
       "min        0.000000  \n",
       "25%        0.000000  \n",
       "50%        0.000000  \n",
       "75%       46.000000  \n",
       "max    24133.000000  "
      ]
     },
     "execution_count": 11,
     "metadata": {},
     "output_type": "execute_result"
    }
   ],
   "source": [
    "data.describe()"
   ]
  },
  {
   "cell_type": "code",
   "execution_count": 12,
   "id": "9fff8a1a-5ed0-4a59-be5e-a6b20b05b08c",
   "metadata": {},
   "outputs": [
    {
     "name": "stdout",
     "output_type": "stream",
     "text": [
      "<class 'pandas.core.frame.DataFrame'>\n",
      "RangeIndex: 8693 entries, 0 to 8692\n",
      "Data columns (total 14 columns):\n",
      " #   Column        Non-Null Count  Dtype  \n",
      "---  ------        --------------  -----  \n",
      " 0   PassengerId   8693 non-null   object \n",
      " 1   HomePlanet    8492 non-null   object \n",
      " 2   CryoSleep     8476 non-null   object \n",
      " 3   Cabin         8494 non-null   object \n",
      " 4   Destination   8511 non-null   object \n",
      " 5   Age           8514 non-null   float64\n",
      " 6   VIP           8490 non-null   object \n",
      " 7   RoomService   8512 non-null   float64\n",
      " 8   FoodCourt     8510 non-null   float64\n",
      " 9   ShoppingMall  8485 non-null   float64\n",
      " 10  Spa           8510 non-null   float64\n",
      " 11  VRDeck        8505 non-null   float64\n",
      " 12  Name          8493 non-null   object \n",
      " 13  Transported   8693 non-null   bool   \n",
      "dtypes: bool(1), float64(6), object(7)\n",
      "memory usage: 891.5+ KB\n"
     ]
    }
   ],
   "source": [
    "data.info()"
   ]
  },
  {
   "cell_type": "code",
   "execution_count": 13,
   "id": "ac663fb4-786c-49cd-998c-11881cafc1ce",
   "metadata": {
    "tags": []
   },
   "outputs": [
    {
     "data": {
      "text/html": [
       "<div>\n",
       "<style scoped>\n",
       "    .dataframe tbody tr th:only-of-type {\n",
       "        vertical-align: middle;\n",
       "    }\n",
       "\n",
       "    .dataframe tbody tr th {\n",
       "        vertical-align: top;\n",
       "    }\n",
       "\n",
       "    .dataframe thead th {\n",
       "        text-align: right;\n",
       "    }\n",
       "</style>\n",
       "<table border=\"1\" class=\"dataframe\">\n",
       "  <thead>\n",
       "    <tr style=\"text-align: right;\">\n",
       "      <th></th>\n",
       "      <th>Age</th>\n",
       "      <th>RoomService</th>\n",
       "      <th>FoodCourt</th>\n",
       "      <th>ShoppingMall</th>\n",
       "      <th>Spa</th>\n",
       "      <th>VRDeck</th>\n",
       "      <th>Transported</th>\n",
       "    </tr>\n",
       "  </thead>\n",
       "  <tbody>\n",
       "    <tr>\n",
       "      <th>Age</th>\n",
       "      <td>1.000000</td>\n",
       "      <td>0.068723</td>\n",
       "      <td>0.130421</td>\n",
       "      <td>0.033133</td>\n",
       "      <td>0.123970</td>\n",
       "      <td>0.101007</td>\n",
       "      <td>-0.075026</td>\n",
       "    </tr>\n",
       "    <tr>\n",
       "      <th>RoomService</th>\n",
       "      <td>0.068723</td>\n",
       "      <td>1.000000</td>\n",
       "      <td>-0.015889</td>\n",
       "      <td>0.054480</td>\n",
       "      <td>0.010080</td>\n",
       "      <td>-0.019581</td>\n",
       "      <td>-0.244611</td>\n",
       "    </tr>\n",
       "    <tr>\n",
       "      <th>FoodCourt</th>\n",
       "      <td>0.130421</td>\n",
       "      <td>-0.015889</td>\n",
       "      <td>1.000000</td>\n",
       "      <td>-0.014228</td>\n",
       "      <td>0.221891</td>\n",
       "      <td>0.227995</td>\n",
       "      <td>0.046566</td>\n",
       "    </tr>\n",
       "    <tr>\n",
       "      <th>ShoppingMall</th>\n",
       "      <td>0.033133</td>\n",
       "      <td>0.054480</td>\n",
       "      <td>-0.014228</td>\n",
       "      <td>1.000000</td>\n",
       "      <td>0.013879</td>\n",
       "      <td>-0.007322</td>\n",
       "      <td>0.010141</td>\n",
       "    </tr>\n",
       "    <tr>\n",
       "      <th>Spa</th>\n",
       "      <td>0.123970</td>\n",
       "      <td>0.010080</td>\n",
       "      <td>0.221891</td>\n",
       "      <td>0.013879</td>\n",
       "      <td>1.000000</td>\n",
       "      <td>0.153821</td>\n",
       "      <td>-0.221131</td>\n",
       "    </tr>\n",
       "    <tr>\n",
       "      <th>VRDeck</th>\n",
       "      <td>0.101007</td>\n",
       "      <td>-0.019581</td>\n",
       "      <td>0.227995</td>\n",
       "      <td>-0.007322</td>\n",
       "      <td>0.153821</td>\n",
       "      <td>1.000000</td>\n",
       "      <td>-0.207075</td>\n",
       "    </tr>\n",
       "    <tr>\n",
       "      <th>Transported</th>\n",
       "      <td>-0.075026</td>\n",
       "      <td>-0.244611</td>\n",
       "      <td>0.046566</td>\n",
       "      <td>0.010141</td>\n",
       "      <td>-0.221131</td>\n",
       "      <td>-0.207075</td>\n",
       "      <td>1.000000</td>\n",
       "    </tr>\n",
       "  </tbody>\n",
       "</table>\n",
       "</div>"
      ],
      "text/plain": [
       "                   Age  RoomService  FoodCourt  ShoppingMall       Spa  \\\n",
       "Age           1.000000     0.068723   0.130421      0.033133  0.123970   \n",
       "RoomService   0.068723     1.000000  -0.015889      0.054480  0.010080   \n",
       "FoodCourt     0.130421    -0.015889   1.000000     -0.014228  0.221891   \n",
       "ShoppingMall  0.033133     0.054480  -0.014228      1.000000  0.013879   \n",
       "Spa           0.123970     0.010080   0.221891      0.013879  1.000000   \n",
       "VRDeck        0.101007    -0.019581   0.227995     -0.007322  0.153821   \n",
       "Transported  -0.075026    -0.244611   0.046566      0.010141 -0.221131   \n",
       "\n",
       "                VRDeck  Transported  \n",
       "Age           0.101007    -0.075026  \n",
       "RoomService  -0.019581    -0.244611  \n",
       "FoodCourt     0.227995     0.046566  \n",
       "ShoppingMall -0.007322     0.010141  \n",
       "Spa           0.153821    -0.221131  \n",
       "VRDeck        1.000000    -0.207075  \n",
       "Transported  -0.207075     1.000000  "
      ]
     },
     "execution_count": 13,
     "metadata": {},
     "output_type": "execute_result"
    }
   ],
   "source": [
    "data.corr()"
   ]
  },
  {
   "cell_type": "code",
   "execution_count": 14,
   "id": "2ca43516-c53c-4c55-9540-ddccae8eeded",
   "metadata": {
    "tags": []
   },
   "outputs": [
    {
     "data": {
      "text/plain": [
       "PassengerId       0\n",
       "HomePlanet      201\n",
       "CryoSleep       217\n",
       "Cabin           199\n",
       "Destination     182\n",
       "Age             179\n",
       "VIP             203\n",
       "RoomService     181\n",
       "FoodCourt       183\n",
       "ShoppingMall    208\n",
       "Spa             183\n",
       "VRDeck          188\n",
       "Name            200\n",
       "Transported       0\n",
       "dtype: int64"
      ]
     },
     "execution_count": 14,
     "metadata": {},
     "output_type": "execute_result"
    }
   ],
   "source": [
    "data.isnull().sum()"
   ]
  },
  {
   "cell_type": "code",
   "execution_count": 15,
   "id": "5cf758c4-8de8-46c1-8429-0e14cdd1a78b",
   "metadata": {},
   "outputs": [
    {
     "data": {
      "text/plain": [
       "Index(['PassengerId', 'HomePlanet', 'CryoSleep', 'Cabin', 'Destination', 'Age',\n",
       "       'VIP', 'RoomService', 'FoodCourt', 'ShoppingMall', 'Spa', 'VRDeck',\n",
       "       'Name', 'Transported'],\n",
       "      dtype='object')"
      ]
     },
     "execution_count": 15,
     "metadata": {},
     "output_type": "execute_result"
    }
   ],
   "source": [
    "data.columns"
   ]
  },
  {
   "cell_type": "code",
   "execution_count": 16,
   "id": "a861bd8f-12f8-4fbf-8013-7d5fb4317b5d",
   "metadata": {
    "tags": []
   },
   "outputs": [
    {
     "data": {
      "text/plain": [
       "0001_01    1\n",
       "6136_01    1\n",
       "6141_01    1\n",
       "6139_06    1\n",
       "6139_05    1\n",
       "          ..\n",
       "3126_01    1\n",
       "3124_03    1\n",
       "3124_02    1\n",
       "3124_01    1\n",
       "9280_02    1\n",
       "Name: PassengerId, Length: 8693, dtype: int64"
      ]
     },
     "execution_count": 16,
     "metadata": {},
     "output_type": "execute_result"
    }
   ],
   "source": [
    "data.PassengerId.value_counts()"
   ]
  },
  {
   "cell_type": "code",
   "execution_count": 17,
   "id": "ffa2b455-81fd-4b06-96c9-2e35619609d7",
   "metadata": {
    "tags": []
   },
   "outputs": [
    {
     "data": {
      "text/plain": [
       "Earth     4602\n",
       "Europa    2131\n",
       "Mars      1759\n",
       "Name: HomePlanet, dtype: int64"
      ]
     },
     "execution_count": 17,
     "metadata": {},
     "output_type": "execute_result"
    }
   ],
   "source": [
    "data.HomePlanet.value_counts()"
   ]
  },
  {
   "cell_type": "code",
   "execution_count": 18,
   "id": "46109276-c84d-4df5-930b-aaf253acb2cc",
   "metadata": {},
   "outputs": [
    {
     "data": {
      "text/plain": [
       "False    5439\n",
       "True     3037\n",
       "Name: CryoSleep, dtype: int64"
      ]
     },
     "execution_count": 18,
     "metadata": {},
     "output_type": "execute_result"
    }
   ],
   "source": [
    "data.CryoSleep.value_counts()"
   ]
  },
  {
   "cell_type": "code",
   "execution_count": 19,
   "id": "7ecaa320-5c10-4ee8-999f-fc01115de665",
   "metadata": {},
   "outputs": [
    {
     "data": {
      "text/plain": [
       "<bound method Series.unique of 0       0001_01\n",
       "1       0002_01\n",
       "2       0003_01\n",
       "3       0003_02\n",
       "4       0004_01\n",
       "         ...   \n",
       "8688    9276_01\n",
       "8689    9278_01\n",
       "8690    9279_01\n",
       "8691    9280_01\n",
       "8692    9280_02\n",
       "Name: PassengerId, Length: 8693, dtype: object>"
      ]
     },
     "execution_count": 19,
     "metadata": {},
     "output_type": "execute_result"
    }
   ],
   "source": [
    "data['PassengerId'].unique"
   ]
  },
  {
   "cell_type": "code",
   "execution_count": 20,
   "id": "9431a168-4a36-46c2-b6ba-6fb7e11188b2",
   "metadata": {},
   "outputs": [
    {
     "data": {
      "text/plain": [
       "TRAPPIST-1e      5915\n",
       "55 Cancri e      1800\n",
       "PSO J318.5-22     796\n",
       "Name: Destination, dtype: int64"
      ]
     },
     "execution_count": 20,
     "metadata": {},
     "output_type": "execute_result"
    }
   ],
   "source": [
    "data.Destination.value_counts()"
   ]
  },
  {
   "cell_type": "code",
   "execution_count": 21,
   "id": "3db5a0d0-122b-4eb5-bc50-37480c90194d",
   "metadata": {},
   "outputs": [
    {
     "data": {
      "text/plain": [
       "False    8291\n",
       "True      199\n",
       "Name: VIP, dtype: int64"
      ]
     },
     "execution_count": 21,
     "metadata": {},
     "output_type": "execute_result"
    }
   ],
   "source": [
    "data.VIP.value_counts()"
   ]
  },
  {
   "cell_type": "code",
   "execution_count": 22,
   "id": "0b76834e-890b-417f-a08c-2f873ab78c19",
   "metadata": {},
   "outputs": [
    {
     "data": {
      "text/plain": [
       "0.0       5577\n",
       "1.0        117\n",
       "2.0         79\n",
       "3.0         61\n",
       "4.0         47\n",
       "          ... \n",
       "1612.0       1\n",
       "2598.0       1\n",
       "632.0        1\n",
       "378.0        1\n",
       "745.0        1\n",
       "Name: RoomService, Length: 1273, dtype: int64"
      ]
     },
     "execution_count": 22,
     "metadata": {},
     "output_type": "execute_result"
    }
   ],
   "source": [
    "data.RoomService.value_counts(ascending=False)"
   ]
  },
  {
   "cell_type": "code",
   "execution_count": 23,
   "id": "ecb2d242-a51c-4d00-b7a9-56d4dcc3ad6e",
   "metadata": {},
   "outputs": [
    {
     "data": {
      "text/plain": [
       "0.0       5587\n",
       "1.0        153\n",
       "2.0         80\n",
       "3.0         59\n",
       "4.0         45\n",
       "          ... \n",
       "3627.0       1\n",
       "2074.0       1\n",
       "871.0        1\n",
       "742.0        1\n",
       "1872.0       1\n",
       "Name: ShoppingMall, Length: 1115, dtype: int64"
      ]
     },
     "execution_count": 23,
     "metadata": {},
     "output_type": "execute_result"
    }
   ],
   "source": [
    "data.ShoppingMall.value_counts(ascending=False)"
   ]
  },
  {
   "cell_type": "code",
   "execution_count": 24,
   "id": "22d7c026-6ee6-4807-8c80-a750d976a32b",
   "metadata": {},
   "outputs": [
    {
     "data": {
      "text/plain": [
       "<bound method IndexOpsMixin.value_counts of 0         Maham Ofracculy\n",
       "1            Juanna Vines\n",
       "2           Altark Susent\n",
       "3            Solam Susent\n",
       "4       Willy Santantines\n",
       "              ...        \n",
       "8688    Gravior Noxnuther\n",
       "8689      Kurta Mondalley\n",
       "8690         Fayey Connon\n",
       "8691     Celeon Hontichre\n",
       "8692     Propsh Hontichre\n",
       "Name: Name, Length: 8693, dtype: object>"
      ]
     },
     "execution_count": 24,
     "metadata": {},
     "output_type": "execute_result"
    }
   ],
   "source": [
    "data.Name.value_counts"
   ]
  },
  {
   "cell_type": "code",
   "execution_count": 25,
   "id": "128000de-fa5e-4124-b41e-711e4b00543b",
   "metadata": {},
   "outputs": [
    {
     "data": {
      "text/plain": [
       "<bound method IndexOpsMixin.value_counts of 0          B/0/P\n",
       "1          F/0/S\n",
       "2          A/0/S\n",
       "3          A/0/S\n",
       "4          F/1/S\n",
       "          ...   \n",
       "8688      A/98/P\n",
       "8689    G/1499/S\n",
       "8690    G/1500/S\n",
       "8691     E/608/S\n",
       "8692     E/608/S\n",
       "Name: Cabin, Length: 8693, dtype: object>"
      ]
     },
     "execution_count": 25,
     "metadata": {},
     "output_type": "execute_result"
    }
   ],
   "source": [
    "data.Cabin.value_counts"
   ]
  },
  {
   "cell_type": "code",
   "execution_count": 26,
   "id": "d293dc66-6231-44b4-ac65-d46b8b10b84b",
   "metadata": {},
   "outputs": [
    {
     "data": {
      "text/plain": [
       "27.0"
      ]
     },
     "execution_count": 26,
     "metadata": {},
     "output_type": "execute_result"
    }
   ],
   "source": [
    "data.Age.median()"
   ]
  },
  {
   "cell_type": "code",
   "execution_count": 27,
   "id": "41b795da-e5d8-43b2-b208-97a9856239b5",
   "metadata": {},
   "outputs": [
    {
     "data": {
      "text/plain": [
       "<bound method Series.unique of 0       0001_01\n",
       "1       0002_01\n",
       "2       0003_01\n",
       "3       0003_02\n",
       "4       0004_01\n",
       "         ...   \n",
       "8688    9276_01\n",
       "8689    9278_01\n",
       "8690    9279_01\n",
       "8691    9280_01\n",
       "8692    9280_02\n",
       "Name: PassengerId, Length: 8693, dtype: object>"
      ]
     },
     "execution_count": 27,
     "metadata": {},
     "output_type": "execute_result"
    }
   ],
   "source": [
    "data['PassengerId'].unique"
   ]
  },
  {
   "cell_type": "code",
   "execution_count": 28,
   "id": "555d10d2-0e4e-4351-b61e-6b15bae45006",
   "metadata": {},
   "outputs": [],
   "source": [
    "train.VIP=train.VIP.fillna('False')"
   ]
  },
  {
   "cell_type": "code",
   "execution_count": 29,
   "id": "5148a1bd-afe2-4b5b-accf-d044dc79c7a2",
   "metadata": {},
   "outputs": [
    {
     "data": {
      "text/plain": [
       "PassengerId       0\n",
       "HomePlanet      201\n",
       "CryoSleep       217\n",
       "Cabin           199\n",
       "Destination     182\n",
       "Age             179\n",
       "VIP               0\n",
       "RoomService     181\n",
       "FoodCourt       183\n",
       "ShoppingMall    208\n",
       "Spa             183\n",
       "VRDeck          188\n",
       "Name            200\n",
       "Transported       0\n",
       "dtype: int64"
      ]
     },
     "execution_count": 29,
     "metadata": {},
     "output_type": "execute_result"
    }
   ],
   "source": [
    "train.isna().sum()"
   ]
  },
  {
   "cell_type": "code",
   "execution_count": 30,
   "id": "4a4c3fa3-eae4-431a-be8b-401146145ebe",
   "metadata": {},
   "outputs": [],
   "source": [
    "train.VIP=np.where(data.VIP==False,0,1)\n",
    "                  "
   ]
  },
  {
   "cell_type": "markdown",
   "id": "d50553e7-33d1-4701-8d67-0ff2f5a1d979",
   "metadata": {
    "tags": []
   },
   "source": [
    "# Name"
   ]
  },
  {
   "cell_type": "code",
   "execution_count": 31,
   "id": "ec20ae06-bc73-4896-a2ed-17039854d488",
   "metadata": {
    "tags": []
   },
   "outputs": [
    {
     "data": {
      "text/plain": [
       "200"
      ]
     },
     "execution_count": 31,
     "metadata": {},
     "output_type": "execute_result"
    }
   ],
   "source": [
    "data.Name.isnull().sum()"
   ]
  },
  {
   "cell_type": "code",
   "execution_count": 32,
   "id": "589eebf2-9b63-4e23-9195-2f934d388380",
   "metadata": {},
   "outputs": [
    {
     "data": {
      "text/plain": [
       "0    8291\n",
       "1     402\n",
       "Name: VIP, dtype: int64"
      ]
     },
     "execution_count": 32,
     "metadata": {},
     "output_type": "execute_result"
    }
   ],
   "source": [
    "train.VIP.value_counts()"
   ]
  },
  {
   "cell_type": "code",
   "execution_count": 33,
   "id": "325af966-aaeb-402f-818a-922dfd4f9a89",
   "metadata": {},
   "outputs": [
    {
     "data": {
      "text/plain": [
       "200"
      ]
     },
     "execution_count": 33,
     "metadata": {},
     "output_type": "execute_result"
    }
   ],
   "source": [
    "train.Name.isnull().sum()"
   ]
  },
  {
   "cell_type": "code",
   "execution_count": 34,
   "id": "15fde1f4-404d-4aa0-99c7-90fa1a762cc4",
   "metadata": {},
   "outputs": [],
   "source": [
    "train.Name.fillna('UNKNOWN,UNKNOWN',inplace=True)"
   ]
  },
  {
   "cell_type": "code",
   "execution_count": 35,
   "id": "8506ae5b-b752-49bd-8cda-a804fa538618",
   "metadata": {
    "tags": []
   },
   "outputs": [],
   "source": [
    "name=[]\n",
    "for i in train.Name:\n",
    "    name.append(i.split())"
   ]
  },
  {
   "cell_type": "code",
   "execution_count": 36,
   "id": "b43d1e38-83e6-4304-af48-8eceea8a530a",
   "metadata": {
    "collapsed": true,
    "jupyter": {
     "outputs_hidden": true
    },
    "tags": []
   },
   "outputs": [
    {
     "data": {
      "text/plain": [
       "[['Maham', 'Ofracculy'],\n",
       " ['Juanna', 'Vines'],\n",
       " ['Altark', 'Susent'],\n",
       " ['Solam', 'Susent'],\n",
       " ['Willy', 'Santantines'],\n",
       " ['Sandie', 'Hinetthews'],\n",
       " ['Billex', 'Jacostaffey'],\n",
       " ['Candra', 'Jacostaffey'],\n",
       " ['Andona', 'Beston'],\n",
       " ['Erraiam', 'Flatic'],\n",
       " ['Altardr', 'Flatic'],\n",
       " ['Wezena', 'Flatic'],\n",
       " ['Berers', 'Barne'],\n",
       " ['Reney', 'Baketton'],\n",
       " ['Elle', 'Bertsontry'],\n",
       " ['Justie', 'Pooles'],\n",
       " ['Flats', 'Eccle'],\n",
       " ['Carry', 'Hughriend'],\n",
       " ['Alus', 'Upead'],\n",
       " ['Lyde', 'Brighttt'],\n",
       " ['Philda', 'Brighttt'],\n",
       " ['Almary', 'Brantuarez'],\n",
       " ['Glendy', 'Brantuarez'],\n",
       " ['Mollen', 'Mcfaddennon'],\n",
       " ['Breney', 'Jacostanley'],\n",
       " ['Mael', 'Brantuarez'],\n",
       " ['Terta', 'Mcfaddennon'],\n",
       " ['UNKNOWN,UNKNOWN'],\n",
       " ['Penton', 'Fullided'],\n",
       " ['Karard', 'Brookenson'],\n",
       " ['Anyoni', 'Unconary'],\n",
       " ['Ceros', 'Mare'],\n",
       " ['Ginia', 'Morsentley'],\n",
       " ['Coobix', 'Datie'],\n",
       " ['Cinets', 'Datie'],\n",
       " ['Dontch', 'Datie'],\n",
       " ['Ziba', 'Oingwhedly'],\n",
       " ['Luse', 'Butte'],\n",
       " ['Marina', 'Leodger'],\n",
       " ['Loise', 'Wheelez'],\n",
       " ['Jorgie', 'Batthewitt'],\n",
       " ['Margia', 'Moodsey'],\n",
       " ['Ankalik', 'Cylistrand'],\n",
       " ['Jodye', 'Coopelandez'],\n",
       " ['Kayne', 'Coopelandez'],\n",
       " ['Cassa', 'Coopelandez'],\n",
       " ['Zelowl', 'Chmad'],\n",
       " ['Mass', 'Chmad'],\n",
       " ['Sony', 'Lancis'],\n",
       " ['Vivia', 'Johnshines'],\n",
       " ['Elaney', 'Hubbarton'],\n",
       " ['Elson', 'Hickerson'],\n",
       " ['Okulas', 'Tractive'],\n",
       " ['Instab', 'Tractive'],\n",
       " ['Zinoces', 'Tractive'],\n",
       " ['Warry', 'Ayalazquez'],\n",
       " ['Shanya', 'Salez'],\n",
       " ['Sterry', 'Greeves'],\n",
       " ['UNKNOWN,UNKNOWN'],\n",
       " ['Colatz', 'Keen'],\n",
       " ['Diandy', 'Pecketton'],\n",
       " ['Ninaha', 'Leeves'],\n",
       " ['Celine', 'Leeves'],\n",
       " ['Velyne', 'Leeves'],\n",
       " ['Cinst', 'Binie'],\n",
       " ['UNKNOWN,UNKNOWN'],\n",
       " ['Meremy', 'Brighttt'],\n",
       " ['Nelly', 'Dillines'],\n",
       " ['Thell', 'Brantuarez'],\n",
       " ['Gorn', 'Make'],\n",
       " ['Aldibah', 'Mostedry'],\n",
       " ['Conk', 'Dal'],\n",
       " ['Pon', 'Blité'],\n",
       " ['Spuri', 'Pokerheed'],\n",
       " ['Dellie', 'Vinozarks'],\n",
       " ['Totse', 'Datte'],\n",
       " ['Eaturs', 'Datte'],\n",
       " ['UNKNOWN,UNKNOWN'],\n",
       " ['Coren', 'Coopezmaney'],\n",
       " ['Furudah', 'Ellcefulve'],\n",
       " ['Jodye', 'Kinson'],\n",
       " ['Stmeal', 'Sacre'],\n",
       " ['Heremy', 'Santry'],\n",
       " ['Deanne', 'Yorkland'],\n",
       " ['Tinez', 'Yorkland'],\n",
       " ['Gracy', 'Dunnisey'],\n",
       " ['Stald', 'Hewson'],\n",
       " ['Tiney', 'Hewson'],\n",
       " ['Alchium', 'Fictful'],\n",
       " ['Doria', 'Carezquez'],\n",
       " ['Leence', 'Carezquez'],\n",
       " ['Aliey', 'Leetersoney'],\n",
       " ['Thewis', 'Connelson'],\n",
       " ['Book', 'Trad'],\n",
       " ['Ritany', 'Holson'],\n",
       " ['Arlen', 'Mclainez'],\n",
       " ['Shaele', 'Mclainez'],\n",
       " ['Fanne', 'Mclainez'],\n",
       " ['Carry', 'Cleachrand'],\n",
       " ['Coobix', 'Hart'],\n",
       " ['Natald', 'Handertiz'],\n",
       " ['UNKNOWN,UNKNOWN'],\n",
       " ['Oline', 'Handertiz'],\n",
       " ['Graviph', 'Aloubtled'],\n",
       " ['Aldeba', 'Bootious'],\n",
       " ['Alaratz', 'Aloubtled'],\n",
       " ['Izark', 'Aloubtled'],\n",
       " ['Aldera', 'Supred'],\n",
       " ['Moth', 'Cowtale'],\n",
       " ['Idary', 'Carvis'],\n",
       " ['Maura', 'Beckerson'],\n",
       " ['Rohs', 'Pead'],\n",
       " ['Alhenah', 'Suptive'],\n",
       " ['Batan', 'Coning'],\n",
       " ['Kleeiak', 'Coning'],\n",
       " ['Bees', 'Sacre'],\n",
       " ['Shelle', 'Hayder'],\n",
       " ['Iree', 'Fielson'],\n",
       " ['Milly', 'Mish'],\n",
       " ['Miloss', 'Mesty'],\n",
       " ['Grohs', 'Fles'],\n",
       " ['Barave', 'Fles'],\n",
       " ['Race', 'Fowles'],\n",
       " ['Flynx', 'Blie'],\n",
       " ['Egrasp', 'Blie'],\n",
       " ['Camina', 'Harmontry'],\n",
       " ['UNKNOWN,UNKNOWN'],\n",
       " ['Fayene', 'Gambs'],\n",
       " ['Monah', 'Gambs'],\n",
       " ['Charda', 'Myling'],\n",
       " ['Evaley', 'Mejiaddox'],\n",
       " ['Verney', 'Whitakers'],\n",
       " ['Pyrohs', 'Harte'],\n",
       " ['Guadae', 'Dayers'],\n",
       " ['Verly', 'Wolferguson'],\n",
       " ['Samie', 'Hubbarrison'],\n",
       " ['Corsh', 'Pashe'],\n",
       " ['Billya', 'Hubbarrison'],\n",
       " ['Shanie', 'Simson'],\n",
       " ['Andan', 'Estron'],\n",
       " ['Gory', 'Atkinney'],\n",
       " ['Kabiton', 'Hetforhaft'],\n",
       " ['Scharab', 'Hetforhaft'],\n",
       " ['Fany', 'Hutchinton'],\n",
       " ['Ianya', 'Hutchinton'],\n",
       " ['Graven', 'Anche'],\n",
       " ['Miten', 'Floaf'],\n",
       " ['Rios', 'Floaf'],\n",
       " ['Wandy', 'Fisherry'],\n",
       " ['Mollie', 'Mcmahoney'],\n",
       " ['Coracy', 'Gordanieves'],\n",
       " ['Hanna', 'Johnshines'],\n",
       " ['Hilip', 'Grifford'],\n",
       " ['Doryn', 'Lambles'],\n",
       " ['Toperon', 'Iniouser'],\n",
       " ['Wees', 'Knik'],\n",
       " ['Elaney', 'Webstephrey'],\n",
       " ['Raque', 'Webstephrey'],\n",
       " ['Sallyl', 'Webstephrey'],\n",
       " ['Nancis', 'Brighttt'],\n",
       " ['Ksorab', 'Disight'],\n",
       " ['Stany', 'Weaves'],\n",
       " ['Camiet', 'Shephendry'],\n",
       " ['Branda', 'Romez'],\n",
       " ['Helly', 'Booters'],\n",
       " ['UNKNOWN,UNKNOWN'],\n",
       " ['Tance', 'Adavisons'],\n",
       " ['Robyny', 'Adavisons'],\n",
       " ['Lilace', 'Adavisons'],\n",
       " ['Sps', 'Raf'],\n",
       " ['Frook', 'Raf'],\n",
       " ['Goles', 'Raf'],\n",
       " ['Bar', 'Floaf'],\n",
       " ['Caper', 'Emead'],\n",
       " ['Astrak', 'Dissper'],\n",
       " ['Jeroy', 'Cookson'],\n",
       " ['Regana', 'Morrows'],\n",
       " ['Elia', 'Colomonson'],\n",
       " ['Kaffias', 'Bacistion'],\n",
       " ['Edaruma', 'Bacistion'],\n",
       " ['Pomera', 'Embleng'],\n",
       " ['Vegas', 'Embleng'],\n",
       " ['Ancham', 'Heateele'],\n",
       " ['Carma', 'Oneiles'],\n",
       " ['Nuson', 'Brugashed'],\n",
       " ['Thony', 'Mcfaddennon'],\n",
       " ['Arraid', 'Inicont'],\n",
       " ['Pebuts', 'Appie'],\n",
       " ['Corsh', 'Appie'],\n",
       " ['Picers', 'Date'],\n",
       " ['Inen', 'Workmans'],\n",
       " ['Shally', 'Workmans'],\n",
       " ['Carita', 'Navages'],\n",
       " ['Searla', 'Garnes'],\n",
       " ['Prilly', 'Shieldson'],\n",
       " ['Nica', 'River'],\n",
       " ['Tyle', 'Wilsoney'],\n",
       " ['Wena', 'Wilsoney'],\n",
       " ['Branca', 'Wilsoney'],\n",
       " ['Dont', 'Wilsoney'],\n",
       " ['Velyne', 'Wilsoney'],\n",
       " ['Weney', 'Wilsoney'],\n",
       " ['Guye', 'Wilsoney'],\n",
       " ['Cowhex', 'Blan'],\n",
       " ['Yogark', 'Reke'],\n",
       " ['Jacks', 'Reke'],\n",
       " ['Eerch', 'Reke'],\n",
       " ['Panbug', 'Reke'],\n",
       " ['Gran', 'Reke'],\n",
       " ['Rohs', 'Reke'],\n",
       " ['Gone', 'Perte'],\n",
       " ['Colf', 'Deva'],\n",
       " ['Grake', 'Perte'],\n",
       " ['Evan', 'Sykess'],\n",
       " ['Blues', 'Queen'],\n",
       " ['Carly', 'Hortis'],\n",
       " ['Done', 'Sellahaney'],\n",
       " ['Krus', 'Nate'],\n",
       " ['Nica', 'Bakerrison'],\n",
       " ['Teda', 'Wist'],\n",
       " ['Keitha', 'Josey'],\n",
       " ['Weias', 'Aginge'],\n",
       " ['Diedow', 'Resty'],\n",
       " ['Puffes', 'Crie'],\n",
       " ['Alas', 'Dischod'],\n",
       " ['Almone', 'Sté'],\n",
       " ['Lilace', 'Cartyernan'],\n",
       " ['Froos', 'Sad'],\n",
       " ['Tous', 'Sad'],\n",
       " ['Glueba', 'Repumparte'],\n",
       " ['Anchib', 'Repumparte'],\n",
       " ['Mele', 'Sesa'],\n",
       " ['Genifi', 'Spanxibus'],\n",
       " ['Camily', 'Kramosley'],\n",
       " ['Diphah', 'Amsive'],\n",
       " ['Leenny', 'Byerry'],\n",
       " ['Dawne', 'Cardner'],\n",
       " ['Race', 'Stenson'],\n",
       " ['Ashir', 'Mingious'],\n",
       " ['Errohs', 'Berte'],\n",
       " ['Squars', 'Berte'],\n",
       " ['Feryla', 'Cooperkins'],\n",
       " ['Segino', 'Inderly'],\n",
       " ['Dord', 'Bookerson'],\n",
       " ['Maen', 'Merkins'],\n",
       " ['Etair', 'Herpumble'],\n",
       " ['Lilace', 'Sancockett'],\n",
       " ['Lerome', 'Polliamposs'],\n",
       " ['Cathya', 'Fryersonis'],\n",
       " ['Terf', 'Obnoble'],\n",
       " ['Byront', 'Mcdanield'],\n",
       " ['Judya', 'Beachez'],\n",
       " ['Marice', 'Beachez'],\n",
       " ['Derine', 'Pierry'],\n",
       " ['Valex', 'Baketton'],\n",
       " ['Jacky', 'Santin'],\n",
       " ['Roydo', 'Santin'],\n",
       " ['Krabik', 'Invebodene'],\n",
       " ['Grasath', 'Invebodene'],\n",
       " ['Carita', 'Jimes'],\n",
       " ['Tetra', 'Bootty'],\n",
       " ['Alasym', 'Bootty'],\n",
       " ['Gory', 'Delez'],\n",
       " ['Furuson', 'Objeciane'],\n",
       " ['Skaton', 'Excialing'],\n",
       " ['Algor', 'Excialing'],\n",
       " ['Dhenar', 'Excialing'],\n",
       " ['Atino', 'Excialing'],\n",
       " ['Castab', 'Brakeril'],\n",
       " ['Phonons', 'Roforhauge'],\n",
       " ['Ernice', 'Gardonadox'],\n",
       " ['Ashird', 'Sorbitter'],\n",
       " ['Margia', 'Wriggins'],\n",
       " ['Lesley', 'Shephendry'],\n",
       " ['Oraryn', 'Kirklander'],\n",
       " ['Betena', 'Ausivetpul'],\n",
       " ['Suhelik', 'Geousker'],\n",
       " ['Dony', 'Estevesters'],\n",
       " ['Natald', 'Hickett'],\n",
       " ['Billya', 'Bowerson'],\n",
       " ['Naviton', 'Coudered'],\n",
       " ['Briney', 'Mckinsond'],\n",
       " ['Jona', 'Mckinsond'],\n",
       " ['Jaimer', 'Mckinsond'],\n",
       " ['Hary', 'Mckinsond'],\n",
       " ['Kell', 'Kochroeders'],\n",
       " ['Adriet', 'Valezaley'],\n",
       " ['Hallah', 'Sorbitter'],\n",
       " ['Beneba', 'Sorbitter'],\n",
       " ['Breney', 'Bellarkerd'],\n",
       " ['Garley', 'Bellarkerd'],\n",
       " ['Quites', 'Bache'],\n",
       " ['Annya', 'Blange'],\n",
       " ['Carma', 'Hooperez'],\n",
       " ['Charly', 'Edwartizman'],\n",
       " ['Jasony', 'Ocherman'],\n",
       " ['Bellah', 'Siveduced'],\n",
       " ['UNKNOWN,UNKNOWN'],\n",
       " ['Hekaton', 'Siveduced'],\n",
       " ['Lewise', 'Burchard'],\n",
       " ['Phios', 'Melie'],\n",
       " ['Unfly', 'Mushe'],\n",
       " ['Maura', 'Cookson'],\n",
       " ['Guanch', 'Perle'],\n",
       " ['Weros', 'Perle'],\n",
       " ['UNKNOWN,UNKNOWN'],\n",
       " ['Ireen', 'Guerson'],\n",
       " ['Pentard', 'Poille'],\n",
       " ['Lorian', 'Webstephrey'],\n",
       " ['Meremy', 'Salez'],\n",
       " ['Berios', 'Racke'],\n",
       " ['Lynney', 'Chanan'],\n",
       " ['Cousk', 'Kraie'],\n",
       " ['Stray', 'Mane'],\n",
       " ['Weet', 'Mane'],\n",
       " ['Loresa', 'Burchanez'],\n",
       " ['Hits', 'Strad'],\n",
       " ['Tricky', 'Warrison'],\n",
       " ['Pharmus', 'Gloyanthy'],\n",
       " ['Eduard', 'Mcleaney'],\n",
       " ['Ronna', 'Connon'],\n",
       " ['Dandy', 'Connon'],\n",
       " ['Celine', 'Popez'],\n",
       " ['Elancy', 'Staffersby'],\n",
       " ['Virgie', 'Headardyer'],\n",
       " ['Dandra', 'Jacostaney'],\n",
       " ['Resers', 'Perte'],\n",
       " ['Batech', 'Perte'],\n",
       " ['Veroy', 'Pottonalden'],\n",
       " ['Tine', 'Coffmaney'],\n",
       " ['Chrey', 'Dutte'],\n",
       " ['UNKNOWN,UNKNOWN'],\n",
       " ['Billex', 'Mcneiderson'],\n",
       " ['Luzel', 'Vincenton'],\n",
       " ['Francy', 'Spentley'],\n",
       " ['Wezncha', 'Excialing'],\n",
       " ['Bram', 'Pirejus'],\n",
       " ['Marfak', 'Pirejus'],\n",
       " ['Naslon', 'Pirejus'],\n",
       " ['Muonons', 'Pirejus'],\n",
       " ['Polaton', 'Pirejus'],\n",
       " ['Sollum', 'Pirejus'],\n",
       " ['Achib', 'Pirejus'],\n",
       " ['Brita', 'Moodson'],\n",
       " ['Zinopus', 'Fuelddid'],\n",
       " ['Mesatan', 'Mosteraked'],\n",
       " ['Aston', 'Mosteraked'],\n",
       " ['Blanie', 'Floydendley'],\n",
       " ['Phia', 'Wagnerray'],\n",
       " ['Evane', 'Wagnerray'],\n",
       " ['Cliney', 'Simpsonks'],\n",
       " ['Ellard', 'Simpsonks'],\n",
       " ['Tanley', 'Klinson'],\n",
       " ['Verek', 'Merce'],\n",
       " ['Fanna', 'Sullones'],\n",
       " ['Elanda', 'Savaraldez'],\n",
       " ['Dabik', 'Cowsearney'],\n",
       " ['Ward', 'Carreralend'],\n",
       " ['Meropus', 'Hervel'],\n",
       " ['Hadyon', 'Hervel'],\n",
       " ['Brinez', 'Robins'],\n",
       " ['Graw', 'Mepie'],\n",
       " ['Wales', 'Tité'],\n",
       " ['Luse', 'Pimne'],\n",
       " ['Parney', 'Pimne'],\n",
       " ['Teron', 'Sageng'],\n",
       " ['Push', 'Wate'],\n",
       " ['Denis', 'Flowensley'],\n",
       " ['Dandy', 'Mirez'],\n",
       " ['Luzel', 'Mirez'],\n",
       " ['Dennya', 'Mirez'],\n",
       " ['Cus', 'Ble'],\n",
       " ['Mats', 'Iccle'],\n",
       " ['Tyrona', 'Roachoanand'],\n",
       " ['Benny', 'Rushorney'],\n",
       " ['Baton', 'Quelfly'],\n",
       " ['Elina', 'Steinardson'],\n",
       " ['Iney', 'Pierry'],\n",
       " ['Lesatik', 'Poicaptic'],\n",
       " ['Mirark', 'Unhearfus'],\n",
       " ['Enifik', 'Unhearfus'],\n",
       " ['Syrmark', 'Pumbody'],\n",
       " ['Blesh', 'Fiha'],\n",
       " ['Cowns', 'Fiha'],\n",
       " ['Ree', 'Fiha'],\n",
       " ['Algor', 'Efulows'],\n",
       " ['Chargin', 'Chocaters'],\n",
       " ['Aino', 'Ineysive'],\n",
       " ['Taurak', 'Ineysive'],\n",
       " ['Eliana', 'Jorden'],\n",
       " ['Fronch', 'Melto'],\n",
       " ['Caper', 'Knike'],\n",
       " ['Hekark', 'Mormonized'],\n",
       " ['Naosura', 'Mormonized'],\n",
       " ['Row', 'Pread'],\n",
       " ['Allie', 'Willynnedy'],\n",
       " ['Sallyl', 'Hodes'],\n",
       " ['Lilace', 'Hodes'],\n",
       " ['Lynnee', 'Oneiles'],\n",
       " ['Debora', 'Oneiles'],\n",
       " ['Dyonon', 'Diateous'],\n",
       " ['Izarino', 'Unciate'],\n",
       " ['Loree', 'Hahnstonsen'],\n",
       " ['Elica', 'Armstromez'],\n",
       " ['Camonk', 'Curte'],\n",
       " ['Colal', 'Curte'],\n",
       " ['Loria', 'Marshopper'],\n",
       " ['Rice', 'Marshopper'],\n",
       " ['Hadira', 'Singmage'],\n",
       " ['Ferry', 'Mcclayton'],\n",
       " ['Elara', 'Hoppernardy'],\n",
       " ['UNKNOWN,UNKNOWN'],\n",
       " ['Nathy', 'Moongton'],\n",
       " ['Swafox', 'Ecart'],\n",
       " ['Aldun', 'Taptiritty'],\n",
       " ['Minopus', 'Taptiritty'],\n",
       " ['Wezena', 'Taptiritty'],\n",
       " ['Tabius', 'Geoconne'],\n",
       " ['Etair', 'Fushausive'],\n",
       " ['Hallux', 'Geoconne'],\n",
       " ['Lulah', 'Hinetthews'],\n",
       " ['Leonyl', 'Poperez'],\n",
       " ['Sallyl', 'Poperez'],\n",
       " ['Joela', 'Poperez'],\n",
       " ['Zanin', 'Bedectical'],\n",
       " ['Hardy', 'Nichoan'],\n",
       " ['Shawne', 'Jenningley'],\n",
       " ['Shany', 'Yorkland'],\n",
       " ['Warry', 'Yorkland'],\n",
       " ['Len', 'Yorkland'],\n",
       " ['Ronia', 'Sosanturney'],\n",
       " ['Grats', 'Staf'],\n",
       " ['Flamal', 'Staf'],\n",
       " ['Deandy', 'Chaellerty'],\n",
       " ['Kyley', 'Chaellerty'],\n",
       " ['Aude', 'Beachez'],\n",
       " ['Haryn', 'Wynneyerson'],\n",
       " ['Aptal', 'Binie'],\n",
       " ['Jurs', 'Binie'],\n",
       " ['Astab', 'Fuelisent'],\n",
       " ['Izarino', 'Fuelisent'],\n",
       " ['Stene', 'Solinez'],\n",
       " ['Nicey', 'Chardst'],\n",
       " ['Danie', 'Gilesonston'],\n",
       " ['Coves', 'Chiff'],\n",
       " ['Book', 'Chiff'],\n",
       " ['Beah', 'Chiff'],\n",
       " ['Benny', 'Moongton'],\n",
       " ['Chrisa', 'Mcdanield'],\n",
       " ['Gera', 'Peckerson'],\n",
       " ['Anny', 'Mallerez'],\n",
       " ['Isaacy', 'Mallerez'],\n",
       " ['Furudah', 'Unloweedic'],\n",
       " ['Sadirak', 'Obeaded'],\n",
       " ['Chery', 'Vantonson'],\n",
       " ['Hanne', 'Kirklander'],\n",
       " ['Batomam', 'Preent'],\n",
       " ['Kastrak', 'Preent'],\n",
       " ['Eclass', 'Meake'],\n",
       " ['Yogark', 'Meake'],\n",
       " ['Ots', 'Cakie'],\n",
       " ['Hadirk', 'Spedlybood'],\n",
       " ['Pigars', 'Swell'],\n",
       " ['Gal', 'Fone'],\n",
       " ['Torms', 'Fone'],\n",
       " ['Pios', 'Fone'],\n",
       " ['Thabius', 'Unpasine'],\n",
       " ['Mirfar', 'Unpasine'],\n",
       " ['Sterops', 'Unpasine'],\n",
       " ['Tauria', 'Unpasine'],\n",
       " ['Azharga', 'Unpasine'],\n",
       " ['Alheneb', 'Unpasine'],\n",
       " ['Kad', 'Backe'],\n",
       " ['Kylen', 'Mccarry'],\n",
       " ['Astrark', 'Sinecthex'],\n",
       " ['Sadirak', 'Nateansive'],\n",
       " ['Ankalik', 'Nateansive'],\n",
       " ['Rayley', 'Blandez'],\n",
       " ['Alramix', 'Swinvul'],\n",
       " ['Vindem', 'Eneurordry'],\n",
       " ['Jandy', 'Kimons'],\n",
       " ['Soyos', 'Parta'],\n",
       " ['Ryany', 'Farleyatton'],\n",
       " ['Bel', 'Mcguirez'],\n",
       " ['Hery', 'Hornettoney'],\n",
       " ['Glenry', 'Parklaney'],\n",
       " ['Helley', 'Joyneidez'],\n",
       " ['Wenise', 'Mirezavis'],\n",
       " ['Supce', 'Stité'],\n",
       " ['Llat', 'Stité'],\n",
       " ['Alasmon', 'Stiven'],\n",
       " ['Ericia', 'Sellahaney'],\n",
       " ['Estine', 'Alentonway'],\n",
       " ['Darley', 'Alentonway'],\n",
       " ['Tops', 'Stike'],\n",
       " ['Asellux', 'Parbage'],\n",
       " ['Weia', 'Parbage'],\n",
       " ['Kylen', 'Staffersby'],\n",
       " ['Walla', 'Swanardy'],\n",
       " ['Tard', 'Nalanet'],\n",
       " ['Achyon', 'Nalanet'],\n",
       " ['Alderak', 'Nalanet'],\n",
       " ['Betenif', 'Nalanet'],\n",
       " ['Mardyon', 'Nalanet'],\n",
       " ['Jell', 'Conie'],\n",
       " ['Rantax', 'Conie'],\n",
       " ['Landa', 'Ments'],\n",
       " ['Kaye', 'Sextones'],\n",
       " ['Shawne', 'Stenson'],\n",
       " ['Trick', 'Weavesend'],\n",
       " ['Kariel', 'Webstes'],\n",
       " ['Warets', 'Watte'],\n",
       " ['Guans', 'Watte'],\n",
       " ['Maen', 'Cleminglas'],\n",
       " ['Stene', 'Bradlerson'],\n",
       " ['Minkab', 'Brathful'],\n",
       " ['Tope', 'Valindle'],\n",
       " ['Gluinol', 'Valindle'],\n",
       " ['Alraixa', 'Graciansus'],\n",
       " ['Alhain', 'Graciansus'],\n",
       " ['Jilla', 'Rames'],\n",
       " ['Margia', 'Harmond'],\n",
       " ['Anniey', 'Hortez'],\n",
       " ['Tonyn', 'Hortez'],\n",
       " ['Annah', 'Josey'],\n",
       " ['Jessa', 'Flemaney'],\n",
       " ['Hamsp', 'Petie'],\n",
       " ['Bath', 'Dinsprody'],\n",
       " ['Taura', 'Dinsprody'],\n",
       " ['Aldibi', 'Dinsprody'],\n",
       " ['Cines', 'Ble'],\n",
       " ['Muls', 'Mish'],\n",
       " ['Jeron', 'Munozanson'],\n",
       " ['Enibik', 'Baciffhaut'],\n",
       " ['Pentard', 'Baciffhaut'],\n",
       " ['Tin', 'Merce'],\n",
       " ['Chard', 'Tramsor'],\n",
       " ['Branev', 'Ousious'],\n",
       " ['Alchium', 'Ousious'],\n",
       " ['Bahoton', 'Ousious'],\n",
       " ['Izark', 'Hednigic'],\n",
       " ['Polam', 'Ousious'],\n",
       " ['Hasich', 'Ousious'],\n",
       " ['Isoton', 'Ousious'],\n",
       " ['Lesley', 'Lamberguson'],\n",
       " ['Deandy', 'Dickley'],\n",
       " ['Minoton', 'Bootty'],\n",
       " ['Melice', 'Herry'],\n",
       " ['Gwendy', 'Holson'],\n",
       " ['Greggy', 'Trankliney'],\n",
       " ['Scotty', 'Trankliney'],\n",
       " ['Guye', 'Wagnerray'],\n",
       " ['Chael', 'Woodgezalez'],\n",
       " ['Dicks', 'Chort'],\n",
       " ['Muebix', 'Erle'],\n",
       " ['Beeres', 'Erle'],\n",
       " ['Cricks', 'Erle'],\n",
       " ['Graven', 'Fone'],\n",
       " ['Sugard', 'Fone'],\n",
       " ['Flams', 'Fone'],\n",
       " ['Askeid', 'Oillicaly'],\n",
       " ['Gorn', 'Tecre'],\n",
       " ['Camiet', 'Delazarson'],\n",
       " ['Maya', 'Hardley'],\n",
       " ['Chelsa', 'Burchanez'],\n",
       " ['Loreen', 'Mcclayton'],\n",
       " ['Hon', 'Kra'],\n",
       " ['Joana', 'Flynner'],\n",
       " ['Cores', 'Flynner'],\n",
       " ['Ton', 'Gene'],\n",
       " ['Arllia', 'Roachoanand'],\n",
       " ['Bertle', 'Roachoanand'],\n",
       " ['Gabrin', 'Buckeelez'],\n",
       " ['Losp', 'Crité'],\n",
       " ['Bases', 'Crité'],\n",
       " ['Apple', 'Crité'],\n",
       " ['Honjay', 'Crité'],\n",
       " ['Muonon', 'Ormler'],\n",
       " ['Seats', 'Brine'],\n",
       " ['Oats', 'Brine'],\n",
       " ['Rana', 'Brine'],\n",
       " ['Lyny', 'Scheron'],\n",
       " ['Dyonium', 'Hontichre'],\n",
       " ['Mino', 'Hontichre'],\n",
       " ['Pola', 'Hontichre'],\n",
       " ['Maril', 'Rilley'],\n",
       " ['Guteda', 'Sacle'],\n",
       " ['Erie', 'Potters'],\n",
       " ['Paulas', 'Klinson'],\n",
       " ['Achyon', 'Ranaly'],\n",
       " ['Feline', 'Carterson'],\n",
       " ['Blancy', 'Pollarkeeks'],\n",
       " ['Elina', 'Hodes'],\n",
       " ['Stance', 'Hodes'],\n",
       " ['Philda', 'Yorkland'],\n",
       " ['Troyce', 'Yorkland'],\n",
       " ['Scellus', 'Holatirint'],\n",
       " ['Ankabit', 'Holatirint'],\n",
       " ['Ellene', 'Gaington'],\n",
       " ['Joela', 'Gainebergan'],\n",
       " ['Rickie', 'Portananney'],\n",
       " ['Cord', 'Anpie'],\n",
       " ['Croos', 'She'],\n",
       " ['Cakes', 'Gread'],\n",
       " ['Patoya', 'Wolfaddox'],\n",
       " ['Ronna', 'Powery'],\n",
       " ['Millia', 'Powery'],\n",
       " ['Craine', 'Santantines'],\n",
       " ['Loresa', 'Santantines'],\n",
       " ['Cowl', 'Pamca'],\n",
       " ['Eleonon', 'Geoconne'],\n",
       " ['Dory', 'Wooterston'],\n",
       " ['Krisa', 'Yanton'],\n",
       " ['Dilatik', 'Kiling'],\n",
       " ['Aviton', 'Kiling'],\n",
       " ['Chabik', 'Kiling'],\n",
       " ['Tachir', 'Kiling'],\n",
       " ['Duhrk', 'Kiling'],\n",
       " ['Tran', 'Watie'],\n",
       " ['Hadlam', 'Prucerod'],\n",
       " ['Troyra', 'Grahangory'],\n",
       " ['Errim', 'Trattle'],\n",
       " ['Lidex', 'Deeke'],\n",
       " ['Anack', 'Deeke'],\n",
       " ['Oareel', 'Deeke'],\n",
       " ['Eulah', 'Hammonton'],\n",
       " ['Rionk', 'Paska'],\n",
       " ['Phios', 'Cure'],\n",
       " ['Nicey', 'Gordond'],\n",
       " ['UNKNOWN,UNKNOWN'],\n",
       " ['Glenna', 'Cardner'],\n",
       " ['Ernice', 'Jarvey'],\n",
       " ['Stal', 'Andackson'],\n",
       " ['Leonyl', 'Saley'],\n",
       " ['Misadr', 'Ticagent'],\n",
       " ['Jeroy', 'Buckentry'],\n",
       " ['Jabba', 'Cylistrand'],\n",
       " ['Cineys', 'Winie'],\n",
       " ['Lix', 'Winie'],\n",
       " ['Rician', 'Torrez'],\n",
       " ['Elanie', 'Hardson'],\n",
       " ['Veroy', 'Santry'],\n",
       " ['Josey', 'Carreralend'],\n",
       " ['Grette', 'Dillips'],\n",
       " ['Lorian', 'Josey'],\n",
       " ['Bettie', 'Moodman'],\n",
       " ['Vana', 'Nichoan'],\n",
       " ['Garyan', 'Garnes'],\n",
       " ['Annard', 'Garnes'],\n",
       " ['Joandy', 'Camerrison'],\n",
       " ['Grany', 'Cla'],\n",
       " ['Wheals', 'Parté'],\n",
       " ['Sug', 'Conie'],\n",
       " ['Trohs', 'Conie'],\n",
       " ['Jack', 'Conie'],\n",
       " ['Arl', 'Lerez'],\n",
       " ['Permit', 'Bert'],\n",
       " ['Cheat', 'Bert'],\n",
       " ['Lix', 'Concy'],\n",
       " ['Goos', 'Erpie'],\n",
       " ['Chard', 'Motive'],\n",
       " ['Yapich', 'Start'],\n",
       " ['Bubbix', 'Potte'],\n",
       " ['Fis', 'Potte'],\n",
       " ['Moss', 'Potte'],\n",
       " ['Mothab', 'Dedometeel'],\n",
       " ['Tetraix', 'Dedometeel'],\n",
       " ['Stany', 'Haydenzier'],\n",
       " ['Dixiel', 'Buchansen'],\n",
       " ['Roswal', 'Sha'],\n",
       " ['Flyros', 'Rhuba'],\n",
       " ['Menkibi', 'Voliat'],\n",
       " ['Briane', 'Sellahaney'],\n",
       " ['Brank', 'Estein'],\n",
       " ['Adanne', 'Wartyson'],\n",
       " ['Denny', 'Mccarveymon'],\n",
       " ['Jorgie', 'Haydenzier'],\n",
       " ['Astorux', 'Missefle'],\n",
       " ['Thaban', 'Missefle'],\n",
       " ['Props', 'Missefle'],\n",
       " ['Nute', 'Coflé'],\n",
       " ['Pik', 'Apeau'],\n",
       " ['Crans', 'Apeau'],\n",
       " ['Vivia', 'Stantiagord'],\n",
       " ['Erie', 'Rilley'],\n",
       " ['Claine', 'Rilley'],\n",
       " ['Sony', 'Rilley'],\n",
       " ['Charry', 'Rilley'],\n",
       " ['Jeanny', 'Rilley'],\n",
       " ['Man', 'Rilley'],\n",
       " ['Brene', 'Rilley'],\n",
       " ['Izarfik', 'Unconary'],\n",
       " ['Alendy', 'Mondsey'],\n",
       " ['Naros', 'Reate'],\n",
       " ['Mela', 'Bensley'],\n",
       " ['Verly', 'Fitzgerson'],\n",
       " ['Branda', 'Potthews'],\n",
       " ['Johna', 'Currisones'],\n",
       " ['Briam', 'Lewinton'],\n",
       " ['Jilla', 'Bairdford'],\n",
       " ['Lulah', 'Hamberterry'],\n",
       " ['Elinda', 'Ewiseston'],\n",
       " ['Lerion', 'Mcbritts'],\n",
       " ['Charmus', 'Inghtal'],\n",
       " ['Ran', 'Pread'],\n",
       " ['Dyonevi', 'Sageng'],\n",
       " ['Zaurah', 'Sageng'],\n",
       " ['Thab', 'Sageng'],\n",
       " ['Loree', 'Brighttt'],\n",
       " ['Milyla', 'Waltonnedy'],\n",
       " ['Tiney', 'Kramosley'],\n",
       " ['Mesarix', 'Ennalve'],\n",
       " ['UNKNOWN,UNKNOWN'],\n",
       " ['Matan', 'Ennalve'],\n",
       " ['Atikard', 'Fusimodent'],\n",
       " ['Ashelik', 'Ainserfle'],\n",
       " ['Ranon', 'Geraing'],\n",
       " ['Hadalm', 'Ainserfle'],\n",
       " ['Mins', 'Traie'],\n",
       " ['Izarki', 'Fliblerolt'],\n",
       " ['Elody', 'Hubbarrison'],\n",
       " ['Danna', 'Toddleton'],\n",
       " ['Frus', 'Burle'],\n",
       " ['Ponts', 'Burle'],\n",
       " ['Francy', 'Meltonway'],\n",
       " ['Maiam', 'Oilloody'],\n",
       " ['Arix', 'Oilloody'],\n",
       " ['Astrah', 'Reeddommy'],\n",
       " ['Alendy', 'Mclardson'],\n",
       " ['Sanney', 'Mclardson'],\n",
       " ['Hughy', 'Mclardson'],\n",
       " ['Kimmy', 'Mclardson'],\n",
       " ['Harlen', 'Mclardson'],\n",
       " ['UNKNOWN,UNKNOWN'],\n",
       " ['Troyra', 'Steeletters'],\n",
       " ['Minoton', 'Hednigic'],\n",
       " ['Halleth', 'Plegred'],\n",
       " ['Weia', 'Hednigic'],\n",
       " ['Arrain', 'Hednigic'],\n",
       " ['Gwendy', 'Beston'],\n",
       " ['Breney', 'Roycentes'],\n",
       " ['Wasalm', 'Plattering'],\n",
       " ['Holey', 'Rodger'],\n",
       " ['Diandy', 'Valexandez'],\n",
       " ['Clus', 'Walé'],\n",
       " ['Grafirk', 'Aiming'],\n",
       " ['Francy', 'Hughriend'],\n",
       " ['Robyny', 'Hartz'],\n",
       " ['Ritany', 'Quinnerry'],\n",
       " ['UNKNOWN,UNKNOWN'],\n",
       " ['Mesath', 'Imprank'],\n",
       " ['Auvan', 'Frolestty'],\n",
       " ['Zaninon', 'Frolestty'],\n",
       " ['Fanne', 'Pottmanley'],\n",
       " ['Neila', 'Mcfarmerson'],\n",
       " ['Millie', 'Powenoble'],\n",
       " ['Nakes', 'Dutte'],\n",
       " ['Squars', 'Dutte'],\n",
       " ['Pristy', 'Klindsey'],\n",
       " ['Alatrix', 'Unfile'],\n",
       " ['Hery', 'Noelan'],\n",
       " ['Ecco', 'Gelle'],\n",
       " ['Genibah', 'Presstic'],\n",
       " ['Plat', 'Pimne'],\n",
       " ['Glueba', 'Chuble'],\n",
       " ['Deaney', 'Nieldson'],\n",
       " ['Bonyam', 'Nieldson'],\n",
       " ['Benew', 'Ramoran'],\n",
       " ['Oaters', 'Meake'],\n",
       " ['Crin', 'Meake'],\n",
       " ['Smal', 'Meake'],\n",
       " ['Wales', 'Meake'],\n",
       " ['Ranutz', 'Knik'],\n",
       " ['Pan', 'Nutte'],\n",
       " ['Phams', 'Nutte'],\n",
       " ['Frouse', 'Katte'],\n",
       " ['Wenise', 'Meyersones'],\n",
       " ['Giedir', 'Asoppor'],\n",
       " ['Carona', 'Baxters'],\n",
       " ['Ksorab', 'Couseced'],\n",
       " ['Patsya', 'Gainney'],\n",
       " ['Hanry', 'Strongers'],\n",
       " ['Sus', 'Strongers'],\n",
       " ['Scotte', 'Sweeton'],\n",
       " ['Chadie', 'Carrishley'],\n",
       " ['Wenten', 'Carrishley'],\n",
       " ['Teda', 'Chpie'],\n",
       " ['Alendy', 'Wardendez'],\n",
       " ['Danna', 'Hoopez'],\n",
       " ['Juliey', 'Santry'],\n",
       " ['Rosey', 'Santry'],\n",
       " ['Myrace', 'Carverson'],\n",
       " ['Eilan', 'Hinesh'],\n",
       " ['Tarmus', 'Poicaptic'],\n",
       " ['Garry', 'Pacerty'],\n",
       " ['Briane', 'Frazie'],\n",
       " ['Set', 'Butte'],\n",
       " ['Grumak', 'Pokerheed'],\n",
       " ['Ebonyd', 'Braymon'],\n",
       " ['Achbah', 'Fueling'],\n",
       " ['Tera', 'Simstravery'],\n",
       " ['Sts', 'Raca'],\n",
       " ['Monam', 'Raca'],\n",
       " ['Cellum', 'Oidederval'],\n",
       " ['Tareson', 'Oidederval'],\n",
       " ['Koops', 'Nan'],\n",
       " ['Iandy', 'Sarios'],\n",
       " ['Hamelik', 'Ageurante'],\n",
       " ['Eleaha', 'Lambles'],\n",
       " ['UNKNOWN,UNKNOWN'],\n",
       " ['Jone', 'Walkerez'],\n",
       " ['Lynez', 'Walkerez'],\n",
       " ['Rald', 'Walkerez'],\n",
       " ['UNKNOWN,UNKNOWN'],\n",
       " ['Neutria', 'Sandul'],\n",
       " ['Ernice', 'Stephendsey'],\n",
       " ['Ianya', 'Peckers'],\n",
       " ['Hilley', 'Sweene'],\n",
       " ['Dessie', 'Maynardner'],\n",
       " ['Polar', 'Geneltic'],\n",
       " ['Garyan', 'Franton'],\n",
       " ['Breney', 'Briggston'],\n",
       " ['UNKNOWN,UNKNOWN'],\n",
       " ['Teryla', 'Leodger'],\n",
       " ['Hallus', 'Covetive'],\n",
       " ['Sceres', 'Bancy'],\n",
       " ['Therta', 'Lanks'],\n",
       " ['Gollux', 'Reedall'],\n",
       " ['Elson', 'Malliamsey'],\n",
       " ['Chelsa', 'Pittson'],\n",
       " ['Velyne', 'Pittson'],\n",
       " ['Marfak', 'Polksy'],\n",
       " ['Izaron', 'Polksy'],\n",
       " ['UNKNOWN,UNKNOWN'],\n",
       " ['Rica', 'Barris'],\n",
       " ['Jilla', 'Alldson'],\n",
       " ['Evane', 'Warrishales'],\n",
       " ['Allene', 'Warrishales'],\n",
       " ['Grake', 'Porki'],\n",
       " ['Duana', 'Jacostaney'],\n",
       " ['Nelley', 'Rushorney'],\n",
       " ['Wein', 'Alcemblery'],\n",
       " ['Gicks', 'Kin'],\n",
       " ['Gwenda', 'Hinetthews'],\n",
       " ['Achah', 'Cassiding'],\n",
       " ['Marinon', 'Cassiding'],\n",
       " ['Violey', 'Burryerson'],\n",
       " ['Angars', 'Blate'],\n",
       " ['Froops', 'Blate'],\n",
       " ['Dyonon', 'Imprank'],\n",
       " ['Shail', 'Parymider'],\n",
       " ['Jerrye', 'Leodger'],\n",
       " ['Caseye', 'Fuenterson'],\n",
       " ['Hery', 'Kimons'],\n",
       " ['Gracy', 'Vinston'],\n",
       " ['Shaiam', 'Obedaming'],\n",
       " ['Achyon', 'Obedaming'],\n",
       " ['Hadaron', 'Stiviorad'],\n",
       " ['Alpha', 'Stiviorad'],\n",
       " ['Jona', 'Chaellerty'],\n",
       " ['Skix', 'Kraie'],\n",
       " ['Varkes', 'Kraie'],\n",
       " ['Almone', 'Kraie'],\n",
       " ['Minchib', 'Asticit'],\n",
       " ['Alkeson', 'Asticit'],\n",
       " ['Emmax', 'Avisnydes'],\n",
       " ['Elene', 'Ryanglasey'],\n",
       " ['Arlie', 'Sweett'],\n",
       " ['Elanie', 'Sweett'],\n",
       " ['Therie', 'Flynnis'],\n",
       " ['Boats', 'Pette'],\n",
       " ['UNKNOWN,UNKNOWN'],\n",
       " ['Astorux', 'Fawnsive'],\n",
       " ['Terly', 'Rocknight'],\n",
       " ['Earlie', 'Solinez'],\n",
       " ['Walles', 'Solinez'],\n",
       " ['Tiney', 'Solinez'],\n",
       " ['Eulah', 'Peter'],\n",
       " ['Armen', 'Byerton'],\n",
       " ['Carita', 'Steeletters'],\n",
       " ['Triple', 'Vloaf'],\n",
       " ['Hilley', 'Weaverays'],\n",
       " ['Terrie', 'Weaverays'],\n",
       " ['Verly', 'Emenez'],\n",
       " ['Lyny', 'Frandriquez'],\n",
       " ['Benny', 'Johnsby'],\n",
       " ['Done', 'Lunapperts'],\n",
       " ['Grios', 'Colle'],\n",
       " ['Erice', 'Potters'],\n",
       " ['Glena', 'Smalloney'],\n",
       " ['Jimen', 'Bartez'],\n",
       " ['Waffs', 'Hapie'],\n",
       " ['Lorian', 'Youngrayes'],\n",
       " ['Gailia', 'Lewinez'],\n",
       " ['Alderak', 'Platch'],\n",
       " ['Weidus', 'Platch'],\n",
       " ['Wacks', 'Depie'],\n",
       " ['Duana', 'Fulloydez'],\n",
       " ['Tyrona', 'Figuez'],\n",
       " ['Lar', 'Emone'],\n",
       " ['Tamie', 'Blace'],\n",
       " ['UNKNOWN,UNKNOWN'],\n",
       " ['Glendy', 'Humphreyes'],\n",
       " ['Allena', 'Hoppernardy'],\n",
       " ['Tonyn', 'Sweeton'],\n",
       " ['Lesley', 'Coxterez'],\n",
       " ['Gimph', 'Fushausive'],\n",
       " ['Eriky', 'Hewson'],\n",
       " ['Joyton', 'Hewson'],\n",
       " ['Teremy', 'Wiggs'],\n",
       " ['Wen', 'Woodwin'],\n",
       " ['UNKNOWN,UNKNOWN'],\n",
       " ['Morrie', 'Sweekstarks'],\n",
       " ['Lyde', 'Sweekstarks'],\n",
       " ['Greggy', 'Sweekstarks'],\n",
       " ['Walley', 'Sweekstarks'],\n",
       " ['Shery', 'Flemaney'],\n",
       " ['Alancy', 'Flemaney'],\n",
       " ['Dory', 'Reyerson'],\n",
       " ['Fayen', 'Norrison'],\n",
       " ['Lyne', 'Bartez'],\n",
       " ['Jeresa', 'Bartez'],\n",
       " ['Kayd', 'Moranthons'],\n",
       " ['Tonia', 'Cochrisons'],\n",
       " ['Bethew', 'Acobsond'],\n",
       " ['Zino', 'Kiling'],\n",
       " ['Tareson', 'Kiling'],\n",
       " ['Matan', 'Herpumble'],\n",
       " ['Naosa', 'Herpumble'],\n",
       " ['Sinon', 'Kiling'],\n",
       " ['Weidus', 'Kiling'],\n",
       " ['Juanie', 'Miltongson'],\n",
       " ['Ellene', 'Wartyson'],\n",
       " ['Dell', 'Wartyson'],\n",
       " ['Chabik', 'Barmant'],\n",
       " ['Berios', 'Shpie'],\n",
       " ['Muonin', 'Suptibler'],\n",
       " ['Alus', 'Harte'],\n",
       " ['Nadie', 'Llonovancis'],\n",
       " ['Caish', 'Leste'],\n",
       " ['Bun', 'Leste'],\n",
       " ['Spuffs', 'Leste'],\n",
       " ['Aldun', 'Wassird'],\n",
       " ['Coreee', 'Juartis'],\n",
       " ['Velyne', 'Summington'],\n",
       " ['Stany', 'Summington'],\n",
       " ['Stenny', 'Summington'],\n",
       " ['Wasatz', 'Spistory'],\n",
       " ['Wimpha', 'Spistory'],\n",
       " ['Camie', 'Prinson'],\n",
       " ['Kaye', 'Prinson'],\n",
       " ['Valey', 'Hubbarton'],\n",
       " ['Weslie', 'Farleyatton'],\n",
       " ['Ranuts', 'Frasp'],\n",
       " ['Wilmay', 'Antoshipson'],\n",
       " ['Joya', 'Blanglison'],\n",
       " ['Elaney', 'Webstephrey'],\n",
       " ['Melia', 'Wilderssen'],\n",
       " ['Appers', 'Wala'],\n",
       " ['Melvia', 'Blanglison'],\n",
       " ['Verly', 'Chavezalez'],\n",
       " ['Myrace', 'Nichaner'],\n",
       " ['Bellee', 'Chavezalez'],\n",
       " ['Bethew', 'Chavezalez'],\n",
       " ['Chrisa', 'Harverez'],\n",
       " ['Lilace', 'Leetersoney'],\n",
       " ['Cort', 'Dal'],\n",
       " ['Anamse', 'Dal'],\n",
       " ['Basps', 'Dal'],\n",
       " ['Trine', 'Dal'],\n",
       " ['Crowk', 'Racke'],\n",
       " ['Jorgie', 'Farleyatton'],\n",
       " ['Warry', 'Leonzaley'],\n",
       " ['Aude', 'Garzaley'],\n",
       " ['Ericky', 'Gonzaley'],\n",
       " ['Aliedy', 'Cleman'],\n",
       " ['Nutz', 'Bra'],\n",
       " ['Laude', 'Georgasey'],\n",
       " ['Naomie', 'Knoxonway'],\n",
       " ['Clard', 'Mcbritts'],\n",
       " ['Algrafi', 'Heedry'],\n",
       " ['Gwenda', 'Talls'],\n",
       " ['Halsham', 'Unteckery'],\n",
       " ['Shail', 'Unteckery'],\n",
       " ['Wena', 'Beachez'],\n",
       " ['UNKNOWN,UNKNOWN'],\n",
       " ['Deany', 'Mcdon'],\n",
       " ['Ockies', 'Prie'],\n",
       " ['Yakers', 'Prie'],\n",
       " ['Frandy', 'Warrison'],\n",
       " ['Leenny', 'Gallard'],\n",
       " ['Rald', 'Colleruces'],\n",
       " ['Blanie', 'Valexandez'],\n",
       " ['Cineys', 'Ble'],\n",
       " ['Otlios', 'Ble'],\n",
       " ['Cherkar', 'Braned'],\n",
       " ['Keithy', 'Ingston'],\n",
       " ['Willip', 'Clayson'],\n",
       " ['Erina', 'Wolffy'],\n",
       " ['Markar', 'Ingwhed'],\n",
       " ...]"
      ]
     },
     "execution_count": 36,
     "metadata": {},
     "output_type": "execute_result"
    }
   ],
   "source": [
    "name"
   ]
  },
  {
   "cell_type": "code",
   "execution_count": 37,
   "id": "32db9580-bdd8-4062-9f7c-fe0d189af760",
   "metadata": {},
   "outputs": [
    {
     "data": {
      "text/plain": [
       "'Maham'"
      ]
     },
     "execution_count": 37,
     "metadata": {},
     "output_type": "execute_result"
    }
   ],
   "source": [
    "name[0][0]"
   ]
  },
  {
   "cell_type": "markdown",
   "id": "4265b140-110b-410d-874b-689db05e1eb2",
   "metadata": {},
   "source": [
    "# 결측치"
   ]
  },
  {
   "cell_type": "code",
   "execution_count": 38,
   "id": "ea7be8b0-285a-46bb-aa49-580918bd1857",
   "metadata": {},
   "outputs": [
    {
     "data": {
      "text/plain": [
       "PassengerId       0\n",
       "HomePlanet      201\n",
       "CryoSleep       217\n",
       "Cabin           199\n",
       "Destination     182\n",
       "Age             179\n",
       "VIP               0\n",
       "RoomService     181\n",
       "FoodCourt       183\n",
       "ShoppingMall    208\n",
       "Spa             183\n",
       "VRDeck          188\n",
       "Name              0\n",
       "Transported       0\n",
       "dtype: int64"
      ]
     },
     "execution_count": 38,
     "metadata": {},
     "output_type": "execute_result"
    }
   ],
   "source": [
    "train.isnull().sum()"
   ]
  },
  {
   "cell_type": "code",
   "execution_count": 39,
   "id": "9dae3982-0ff0-46b1-907f-2bbe2bcfc7fa",
   "metadata": {},
   "outputs": [],
   "source": [
    "train.Age.fillna(train.Age.median(),inplace=True)"
   ]
  },
  {
   "cell_type": "code",
   "execution_count": 40,
   "id": "6cde0ba7-0481-44ca-a33f-d8824a5d6621",
   "metadata": {},
   "outputs": [
    {
     "data": {
      "text/plain": [
       "Earth     4602\n",
       "Europa    2131\n",
       "Mars      1759\n",
       "Name: HomePlanet, dtype: int64"
      ]
     },
     "execution_count": 40,
     "metadata": {},
     "output_type": "execute_result"
    }
   ],
   "source": [
    "train.HomePlanet.value_counts()  "
   ]
  },
  {
   "cell_type": "code",
   "execution_count": 41,
   "id": "34dc9002-5956-4192-8043-4f88b3ca9fc4",
   "metadata": {},
   "outputs": [
    {
     "data": {
      "text/plain": [
       "0    8291\n",
       "1     402\n",
       "Name: VIP, dtype: int64"
      ]
     },
     "execution_count": 41,
     "metadata": {},
     "output_type": "execute_result"
    }
   ],
   "source": [
    "train.VIP.value_counts()  "
   ]
  },
  {
   "cell_type": "code",
   "execution_count": 42,
   "id": "68fac098-8efb-4653-a2d0-24b5a32568c2",
   "metadata": {},
   "outputs": [
    {
     "data": {
      "text/plain": [
       "0    8291\n",
       "1     402\n",
       "Name: VIP, dtype: int64"
      ]
     },
     "execution_count": 42,
     "metadata": {},
     "output_type": "execute_result"
    }
   ],
   "source": [
    "train.VIP.value_counts()"
   ]
  },
  {
   "cell_type": "markdown",
   "id": "54481ef8-5359-4553-b41b-14bf1acbaa32",
   "metadata": {},
   "source": [
    "VIP             203  \n",
    "RoomService     181  \n",
    "FoodCourt       183  \n",
    "ShoppingMall    208  \n",
    "Spa             183  \n",
    "VRDeck          "
   ]
  },
  {
   "cell_type": "code",
   "execution_count": 43,
   "id": "bedcf183-9137-489c-872b-4c07e604b295",
   "metadata": {},
   "outputs": [
    {
     "data": {
      "text/html": [
       "<div>\n",
       "<style scoped>\n",
       "    .dataframe tbody tr th:only-of-type {\n",
       "        vertical-align: middle;\n",
       "    }\n",
       "\n",
       "    .dataframe tbody tr th {\n",
       "        vertical-align: top;\n",
       "    }\n",
       "\n",
       "    .dataframe thead th {\n",
       "        text-align: right;\n",
       "    }\n",
       "</style>\n",
       "<table border=\"1\" class=\"dataframe\">\n",
       "  <thead>\n",
       "    <tr style=\"text-align: right;\">\n",
       "      <th></th>\n",
       "      <th>RoomService</th>\n",
       "      <th>FoodCourt</th>\n",
       "      <th>Spa</th>\n",
       "      <th>VRDeck</th>\n",
       "      <th>ShoppingMall</th>\n",
       "    </tr>\n",
       "    <tr>\n",
       "      <th>VIP</th>\n",
       "      <th></th>\n",
       "      <th></th>\n",
       "      <th></th>\n",
       "      <th></th>\n",
       "      <th></th>\n",
       "    </tr>\n",
       "  </thead>\n",
       "  <tbody>\n",
       "    <tr>\n",
       "      <th>0</th>\n",
       "      <td>217.218527</td>\n",
       "      <td>426.336536</td>\n",
       "      <td>301.711045</td>\n",
       "      <td>282.718056</td>\n",
       "      <td>173.876298</td>\n",
       "    </tr>\n",
       "    <tr>\n",
       "      <th>1</th>\n",
       "      <td>378.581218</td>\n",
       "      <td>1115.400510</td>\n",
       "      <td>503.293970</td>\n",
       "      <td>756.957179</td>\n",
       "      <td>170.699746</td>\n",
       "    </tr>\n",
       "  </tbody>\n",
       "</table>\n",
       "</div>"
      ],
      "text/plain": [
       "     RoomService    FoodCourt         Spa      VRDeck  ShoppingMall\n",
       "VIP                                                                \n",
       "0     217.218527   426.336536  301.711045  282.718056    173.876298\n",
       "1     378.581218  1115.400510  503.293970  756.957179    170.699746"
      ]
     },
     "execution_count": 43,
     "metadata": {},
     "output_type": "execute_result"
    }
   ],
   "source": [
    "train.groupby('VIP')['RoomService','FoodCourt','Spa','VRDeck','ShoppingMall'].mean() #룸서비스는 생필품 |스파 쇼핑몰은 사치품"
   ]
  },
  {
   "cell_type": "code",
   "execution_count": 44,
   "id": "9a2b33cd-3e34-4b2c-9736-efec1826e249",
   "metadata": {},
   "outputs": [
    {
     "data": {
      "text/plain": [
       "PassengerId       0\n",
       "HomePlanet      201\n",
       "CryoSleep       217\n",
       "Cabin           199\n",
       "Destination     182\n",
       "Age               0\n",
       "VIP               0\n",
       "RoomService     181\n",
       "FoodCourt       183\n",
       "ShoppingMall    208\n",
       "Spa             183\n",
       "VRDeck          188\n",
       "Name              0\n",
       "Transported       0\n",
       "dtype: int64"
      ]
     },
     "execution_count": 44,
     "metadata": {},
     "output_type": "execute_result"
    }
   ],
   "source": [
    "train.isnull().sum()"
   ]
  },
  {
   "cell_type": "code",
   "execution_count": 45,
   "id": "0894bce0-0498-4015-82af-ae6796c424a5",
   "metadata": {},
   "outputs": [],
   "source": [
    "train.RoomService.fillna(train.RoomService.mean(),inplace=True)"
   ]
  },
  {
   "cell_type": "code",
   "execution_count": 46,
   "id": "b7659dd1-8d3c-4a08-a547-a14b0436af3d",
   "metadata": {},
   "outputs": [],
   "source": [
    "train.FoodCourt.fillna(train.FoodCourt.mean(),inplace=True)"
   ]
  },
  {
   "cell_type": "code",
   "execution_count": 47,
   "id": "4c2c7763-7e4a-4287-841b-587e3717151c",
   "metadata": {},
   "outputs": [],
   "source": [
    "train.ShoppingMall.fillna(train.ShoppingMall.mean(),inplace=True)"
   ]
  },
  {
   "cell_type": "code",
   "execution_count": 48,
   "id": "b95beaac-4b43-4742-9a50-b6aa4a066eab",
   "metadata": {},
   "outputs": [],
   "source": [
    "train.Spa.fillna(train.Spa.mean(),inplace=True)"
   ]
  },
  {
   "cell_type": "code",
   "execution_count": 49,
   "id": "765354ff-3f65-43cf-bf7c-7d2848190c61",
   "metadata": {},
   "outputs": [],
   "source": [
    "train.VRDeck.fillna(train.VRDeck.mean(),inplace=True)"
   ]
  },
  {
   "cell_type": "code",
   "execution_count": 50,
   "id": "0b107ea4-90c2-49c9-8f9b-0e9bf212ab76",
   "metadata": {},
   "outputs": [
    {
     "data": {
      "text/plain": [
       "PassengerId       0\n",
       "HomePlanet      201\n",
       "CryoSleep       217\n",
       "Cabin           199\n",
       "Destination     182\n",
       "Age               0\n",
       "VIP               0\n",
       "RoomService       0\n",
       "FoodCourt         0\n",
       "ShoppingMall      0\n",
       "Spa               0\n",
       "VRDeck            0\n",
       "Name              0\n",
       "Transported       0\n",
       "dtype: int64"
      ]
     },
     "execution_count": 50,
     "metadata": {},
     "output_type": "execute_result"
    }
   ],
   "source": [
    "train.isnull().sum()"
   ]
  },
  {
   "cell_type": "code",
   "execution_count": 51,
   "id": "443448e8-fc8c-4678-8dfb-1ac1cd687b09",
   "metadata": {},
   "outputs": [
    {
     "data": {
      "text/plain": [
       "False    5439\n",
       "True     3037\n",
       "Name: CryoSleep, dtype: int64"
      ]
     },
     "execution_count": 51,
     "metadata": {},
     "output_type": "execute_result"
    }
   ],
   "source": [
    "train.CryoSleep.value_counts()"
   ]
  },
  {
   "cell_type": "code",
   "execution_count": 52,
   "id": "388696d5-3c85-4cc3-bded-c2cc71885b15",
   "metadata": {},
   "outputs": [],
   "source": [
    "label=LabelEncoder()"
   ]
  },
  {
   "cell_type": "code",
   "execution_count": 55,
   "id": "148d6482-7f55-4d40-925b-1760c18dc072",
   "metadata": {},
   "outputs": [],
   "source": [
    "train.CryoSleep=np.where(train.CryoSleep==False,0,1)"
   ]
  },
  {
   "cell_type": "code",
   "execution_count": 56,
   "id": "478240bb-b6a8-42de-9824-94261d9e92ff",
   "metadata": {},
   "outputs": [
    {
     "data": {
      "text/plain": [
       "0    5439\n",
       "1    3254\n",
       "Name: CryoSleep, dtype: int64"
      ]
     },
     "execution_count": 56,
     "metadata": {},
     "output_type": "execute_result"
    }
   ],
   "source": [
    "train.CryoSleep.value_counts()"
   ]
  },
  {
   "cell_type": "code",
   "execution_count": 60,
   "id": "f37a1bd9-d439-4b96-a3da-2a5d2336486e",
   "metadata": {},
   "outputs": [
    {
     "data": {
      "text/html": [
       "<div>\n",
       "<style scoped>\n",
       "    .dataframe tbody tr th:only-of-type {\n",
       "        vertical-align: middle;\n",
       "    }\n",
       "\n",
       "    .dataframe tbody tr th {\n",
       "        vertical-align: top;\n",
       "    }\n",
       "\n",
       "    .dataframe thead th {\n",
       "        text-align: right;\n",
       "    }\n",
       "</style>\n",
       "<table border=\"1\" class=\"dataframe\">\n",
       "  <thead>\n",
       "    <tr style=\"text-align: right;\">\n",
       "      <th></th>\n",
       "      <th>RoomService</th>\n",
       "      <th>FoodCourt</th>\n",
       "      <th>Spa</th>\n",
       "      <th>VRDeck</th>\n",
       "      <th>ShoppingMall</th>\n",
       "    </tr>\n",
       "    <tr>\n",
       "      <th>CryoSleep</th>\n",
       "      <th></th>\n",
       "      <th></th>\n",
       "      <th></th>\n",
       "      <th></th>\n",
       "      <th></th>\n",
       "    </tr>\n",
       "  </thead>\n",
       "  <tbody>\n",
       "    <tr>\n",
       "      <th>0</th>\n",
       "      <td>4.0</td>\n",
       "      <td>7.0</td>\n",
       "      <td>9.0</td>\n",
       "      <td>5.0</td>\n",
       "      <td>2.0</td>\n",
       "    </tr>\n",
       "    <tr>\n",
       "      <th>1</th>\n",
       "      <td>0.0</td>\n",
       "      <td>0.0</td>\n",
       "      <td>0.0</td>\n",
       "      <td>0.0</td>\n",
       "      <td>0.0</td>\n",
       "    </tr>\n",
       "  </tbody>\n",
       "</table>\n",
       "</div>"
      ],
      "text/plain": [
       "           RoomService  FoodCourt  Spa  VRDeck  ShoppingMall\n",
       "CryoSleep                                                   \n",
       "0                  4.0        7.0  9.0     5.0           2.0\n",
       "1                  0.0        0.0  0.0     0.0           0.0"
      ]
     },
     "execution_count": 60,
     "metadata": {},
     "output_type": "execute_result"
    }
   ],
   "source": [
    "train.groupby('CryoSleep')['RoomService','FoodCourt','Spa','VRDeck','ShoppingMall'].median()"
   ]
  },
  {
   "cell_type": "code",
   "execution_count": 58,
   "id": "7abca9cf-40ac-49fe-9ddc-a4f3a176e50b",
   "metadata": {},
   "outputs": [
    {
     "data": {
      "text/plain": [
       "<pandas.core.groupby.generic.SeriesGroupBy object at 0x00000207478F5250>"
      ]
     },
     "execution_count": 58,
     "metadata": {},
     "output_type": "execute_result"
    }
   ],
   "source": [
    "train.groupby('CryoSleep')['VIP']"
   ]
  },
  {
   "cell_type": "code",
   "execution_count": 66,
   "id": "1a999ae4-55bc-4fc1-be69-5f912db5e2dd",
   "metadata": {},
   "outputs": [],
   "source": [
    "imputer=SimpleImputer(strategy='mean')"
   ]
  },
  {
   "cell_type": "code",
   "execution_count": 67,
   "id": "cb9d83d2-a0fa-441e-a110-7ff9a4b520b1",
   "metadata": {},
   "outputs": [],
   "source": [
    "imputer_cols = [\"Age\", \"FoodCourt\", \"ShoppingMall\", \"Spa\", \"VRDeck\" ,\"RoomService\"]"
   ]
  },
  {
   "cell_type": "code",
   "execution_count": 68,
   "id": "b373ecd6-2752-4526-bfb2-66ab5038f461",
   "metadata": {},
   "outputs": [
    {
     "data": {
      "text/plain": [
       "array([[3.900e+01, 0.000e+00, 0.000e+00, 0.000e+00, 0.000e+00, 0.000e+00],\n",
       "       [2.400e+01, 9.000e+00, 2.500e+01, 5.490e+02, 4.400e+01, 1.090e+02],\n",
       "       [5.800e+01, 3.576e+03, 0.000e+00, 6.715e+03, 4.900e+01, 4.300e+01],\n",
       "       ...,\n",
       "       [2.600e+01, 0.000e+00, 1.872e+03, 1.000e+00, 0.000e+00, 0.000e+00],\n",
       "       [3.200e+01, 1.049e+03, 0.000e+00, 3.530e+02, 3.235e+03, 0.000e+00],\n",
       "       [4.400e+01, 4.688e+03, 0.000e+00, 0.000e+00, 1.200e+01, 1.260e+02]])"
      ]
     },
     "execution_count": 68,
     "metadata": {},
     "output_type": "execute_result"
    }
   ],
   "source": [
    "imputer.fit_transform(train[imputer_cols])"
   ]
  },
  {
   "cell_type": "code",
   "execution_count": 69,
   "id": "b2a4dd5b-6c31-423b-8cfd-485daae7f8f3",
   "metadata": {},
   "outputs": [
    {
     "data": {
      "text/plain": [
       "PassengerId       0\n",
       "HomePlanet      201\n",
       "CryoSleep         0\n",
       "Cabin           199\n",
       "Destination     182\n",
       "Age               0\n",
       "VIP               0\n",
       "RoomService       0\n",
       "FoodCourt         0\n",
       "ShoppingMall      0\n",
       "Spa               0\n",
       "VRDeck            0\n",
       "Name              0\n",
       "Transported       0\n",
       "dtype: int64"
      ]
     },
     "execution_count": 69,
     "metadata": {},
     "output_type": "execute_result"
    }
   ],
   "source": [
    "train.isnull().sum()"
   ]
  },
  {
   "cell_type": "code",
   "execution_count": 76,
   "id": "fa30d880-9989-4081-a30a-d3b96527c15d",
   "metadata": {},
   "outputs": [
    {
     "data": {
      "text/plain": [
       "TRAPPIST-1e      5915\n",
       "55 Cancri e      1800\n",
       "PSO J318.5-22     796\n",
       "Name: Destination, dtype: int64"
      ]
     },
     "execution_count": 76,
     "metadata": {},
     "output_type": "execute_result"
    }
   ],
   "source": [
    "train.Destination.value_counts()"
   ]
  },
  {
   "cell_type": "code",
   "execution_count": 77,
   "id": "55b31155-aabd-4770-a765-6aa3ee1c8256",
   "metadata": {},
   "outputs": [
    {
     "data": {
      "text/plain": [
       "Earth     4602\n",
       "Europa    2131\n",
       "Mars      1759\n",
       "Name: HomePlanet, dtype: int64"
      ]
     },
     "execution_count": 77,
     "metadata": {},
     "output_type": "execute_result"
    }
   ],
   "source": [
    "train.HomePlanet.value_counts()"
   ]
  },
  {
   "cell_type": "code",
   "execution_count": 93,
   "id": "b39e2752-b782-47e5-ab7c-bde9ee7aa267",
   "metadata": {},
   "outputs": [
    {
     "data": {
      "text/plain": [
       "True     4378\n",
       "False    4315\n",
       "Name: Transported, dtype: int64"
      ]
     },
     "execution_count": 93,
     "metadata": {},
     "output_type": "execute_result"
    }
   ],
   "source": [
    "train['Transported'].value_counts()"
   ]
  },
  {
   "cell_type": "code",
   "execution_count": 95,
   "id": "865ebcc4-0a79-4625-b825-8229f2c979fc",
   "metadata": {},
   "outputs": [],
   "source": [
    "train['Transported']=np.where(train['Transported']==True,1,0)"
   ]
  },
  {
   "cell_type": "code",
   "execution_count": 102,
   "id": "1a258536-8b74-465f-9309-9fb3458f258e",
   "metadata": {},
   "outputs": [
    {
     "data": {
      "text/plain": [
       "Cabin\n",
       "T/3/P       1.0\n",
       "F/989/S     1.0\n",
       "E/532/P     1.0\n",
       "G/0/S       1.0\n",
       "G/0/P       1.0\n",
       "           ... \n",
       "F/1083/P    0.0\n",
       "F/795/P     0.0\n",
       "F/1080/S    0.0\n",
       "F/1080/P    0.0\n",
       "F/1763/S    0.0\n",
       "Name: Transported, Length: 6560, dtype: float64"
      ]
     },
     "execution_count": 102,
     "metadata": {},
     "output_type": "execute_result"
    }
   ],
   "source": [
    "train.groupby('Cabin')['Transported'].median().sort_values(ascending=False)"
   ]
  },
  {
   "cell_type": "code",
   "execution_count": 105,
   "id": "61ba0d17-4a66-4985-9eca-2eb5b57605b0",
   "metadata": {},
   "outputs": [
    {
     "data": {
      "text/plain": [
       "PassengerId       0\n",
       "HomePlanet      201\n",
       "CryoSleep         0\n",
       "Cabin           199\n",
       "Destination     182\n",
       "Age               0\n",
       "VIP               0\n",
       "RoomService       0\n",
       "FoodCourt         0\n",
       "ShoppingMall      0\n",
       "Spa               0\n",
       "VRDeck            0\n",
       "Name              0\n",
       "Transported       0\n",
       "dtype: int64"
      ]
     },
     "execution_count": 105,
     "metadata": {},
     "output_type": "execute_result"
    }
   ],
   "source": [
    "train.isna().sum()"
   ]
  },
  {
   "cell_type": "code",
   "execution_count": 115,
   "id": "52032251-fad0-41f8-902d-6e98630382d3",
   "metadata": {},
   "outputs": [
    {
     "data": {
      "text/plain": [
       "LabelEncoder()"
      ]
     },
     "execution_count": 115,
     "metadata": {},
     "output_type": "execute_result"
    }
   ],
   "source": [
    "label"
   ]
  },
  {
   "cell_type": "code",
   "execution_count": 125,
   "id": "ee2ee7e2-3164-4475-ac02-4584949f9557",
   "metadata": {},
   "outputs": [],
   "source": [
    "train['Destination'].fillna(train['Destination'].mode()[0],inplace=True)"
   ]
  },
  {
   "cell_type": "code",
   "execution_count": 126,
   "id": "101e9f71-7409-40bf-b3f4-e044a0e16dbc",
   "metadata": {},
   "outputs": [],
   "source": [
    "train['Destination']=label.fit_transform(train['Destination'])"
   ]
  },
  {
   "cell_type": "code",
   "execution_count": 127,
   "id": "d003ede0-1220-416b-bbe0-31e2ebb1bbd4",
   "metadata": {},
   "outputs": [
    {
     "data": {
      "text/plain": [
       "2    6097\n",
       "0    1800\n",
       "1     796\n",
       "Name: Destination, dtype: int64"
      ]
     },
     "execution_count": 127,
     "metadata": {},
     "output_type": "execute_result"
    }
   ],
   "source": [
    "train['Destination'].value_counts()"
   ]
  },
  {
   "cell_type": "code",
   "execution_count": null,
   "id": "e633a866-4ea8-4f0d-96d2-6a8ec6ecb0dc",
   "metadata": {},
   "outputs": [],
   "source": [
    "train["
   ]
  }
 ],
 "metadata": {
  "kernelspec": {
   "display_name": "Python 3 (ipykernel)",
   "language": "python",
   "name": "python3"
  },
  "language_info": {
   "codemirror_mode": {
    "name": "ipython",
    "version": 3
   },
   "file_extension": ".py",
   "mimetype": "text/x-python",
   "name": "python",
   "nbconvert_exporter": "python",
   "pygments_lexer": "ipython3",
   "version": "3.9.12"
  }
 },
 "nbformat": 4,
 "nbformat_minor": 5
}
