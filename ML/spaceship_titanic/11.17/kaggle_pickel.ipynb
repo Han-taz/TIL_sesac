{
 "cells": [
  {
   "cell_type": "code",
   "execution_count": 4,
   "id": "93a07d6a-ac24-48a7-b5e1-7cca2c50f2fe",
   "metadata": {},
   "outputs": [
    {
     "ename": "NameError",
     "evalue": "name 'data' is not defined",
     "output_type": "error",
     "traceback": [
      "\u001b[1;31m---------------------------------------------------------------------------\u001b[0m",
      "\u001b[1;31mNameError\u001b[0m                                 Traceback (most recent call last)",
      "Input \u001b[1;32mIn [4]\u001b[0m, in \u001b[0;36m<cell line: 3>\u001b[1;34m()\u001b[0m\n\u001b[0;32m      2\u001b[0m nul_list\u001b[38;5;241m=\u001b[39m[\u001b[38;5;124m'\u001b[39m\u001b[38;5;124mHomePlanet\u001b[39m\u001b[38;5;124m'\u001b[39m, \u001b[38;5;124m'\u001b[39m\u001b[38;5;124mCryoSleep\u001b[39m\u001b[38;5;124m'\u001b[39m, \u001b[38;5;124m'\u001b[39m\u001b[38;5;124mCabin\u001b[39m\u001b[38;5;124m'\u001b[39m, \u001b[38;5;124m'\u001b[39m\u001b[38;5;124mDestination\u001b[39m\u001b[38;5;124m'\u001b[39m, \u001b[38;5;124m'\u001b[39m\u001b[38;5;124mAge\u001b[39m\u001b[38;5;124m'\u001b[39m,\u001b[38;5;124m'\u001b[39m\u001b[38;5;124mVIP\u001b[39m\u001b[38;5;124m'\u001b[39m, \u001b[38;5;124m'\u001b[39m\u001b[38;5;124mRoomService\u001b[39m\u001b[38;5;124m'\u001b[39m, \u001b[38;5;124m'\u001b[39m\u001b[38;5;124mFoodCourt\u001b[39m\u001b[38;5;124m'\u001b[39m, \u001b[38;5;124m'\u001b[39m\u001b[38;5;124mShoppingMall\u001b[39m\u001b[38;5;124m'\u001b[39m, \u001b[38;5;124m'\u001b[39m\u001b[38;5;124mSpa\u001b[39m\u001b[38;5;124m'\u001b[39m, \u001b[38;5;124m'\u001b[39m\u001b[38;5;124mVRDeck\u001b[39m\u001b[38;5;124m'\u001b[39m,\u001b[38;5;124m'\u001b[39m\u001b[38;5;124mName\u001b[39m\u001b[38;5;124m'\u001b[39m]\n\u001b[0;32m      3\u001b[0m \u001b[38;5;28;01mfor\u001b[39;00m col \u001b[38;5;129;01min\u001b[39;00m nul_list:\n\u001b[1;32m----> 4\u001b[0m     data[\u001b[38;5;124m'\u001b[39m\u001b[38;5;124mpassenger\u001b[39m\u001b[38;5;124m'\u001b[39m]\u001b[38;5;241m=\u001b[39m\u001b[43mdata\u001b[49m[\u001b[38;5;124m'\u001b[39m\u001b[38;5;124mPassengerId\u001b[39m\u001b[38;5;124m'\u001b[39m]\u001b[38;5;241m.\u001b[39mstr[:\u001b[38;5;241m4\u001b[39m]\n\u001b[0;32m      5\u001b[0m     home_passenger\u001b[38;5;241m=\u001b[39mdata\u001b[38;5;241m.\u001b[39mgroupby([\u001b[38;5;124m'\u001b[39m\u001b[38;5;124mpassenger\u001b[39m\u001b[38;5;124m'\u001b[39m,\u001b[38;5;124m'\u001b[39m\u001b[38;5;124mHomePlanet\u001b[39m\u001b[38;5;124m'\u001b[39m])\u001b[38;5;241m.\u001b[39msize()\u001b[38;5;241m.\u001b[39mreset_index()\n\u001b[0;32m      6\u001b[0m     home_dict\u001b[38;5;241m=\u001b[39m{}\n",
      "\u001b[1;31mNameError\u001b[0m: name 'data' is not defined"
     ]
    }
   ],
   "source": [
    "null_dict={}\n",
    "nul_list=['HomePlanet', 'CryoSleep', 'Cabin', 'Destination', 'Age','VIP', 'RoomService', 'FoodCourt', 'ShoppingMall', 'Spa', 'VRDeck','Name']\n",
    "for col in nul_list:\n",
    "    data['passenger']=data['PassengerId'].str[:4]\n",
    "    home_passenger=data.groupby(['passenger','HomePlanet']).size().reset_index()\n",
    "    home_dict={}\n",
    "    for i,j in zip(home_passenger['passenger'],home_passenger['HomePlanet']):\n",
    "        home_dict[i]=j\n",
    "    data['HomePlanet'].fillna(data['passenger'].map(home_dict),inplace=True)\n",
    "    data['Name2']=data.Name.str.split(' ').str[-1]\n",
    "    name_dict={}\n",
    "    for i, j in zip(data['Name2'],home_passenger['HomePlanet']):\n",
    "        name_dict[i]=j\n",
    "    data['HomePlanet'].fillna('Earth',inplace=True)\n",
    "    data['VIP'].fillna(False,inplace=True)\n",
    "    fee_list=['RoomService', 'FoodCourt', 'ShoppingMall', 'Spa', 'VRDeck']\n",
    "    for col in fee_list:\n",
    "        data[col].fillna(data[col].median(),inplace=True)\n",
    "    data['deck']=data['Cabin'].str.split('/').str[0] \n",
    "    data['side']=data['Cabin'].str.split('/').str[2]\n",
    "    data['deck'].fillna(data['HomePlanet'].map({'Earth':'G','Europa':'C','Mars':'F'}),inplace=True)\n",
    "    data['side'].fillna('S',inplace=True)\n",
    "    dest_passenger=data.groupby(['passenger','Destination']).size().reset_index()\n",
    "    dest_passenger=dest_passenger[dest_passenger['passenger'].duplicated()]\n",
    "    dest_passenger.sort_values(0,ascending=False)\n",
    "    dest_passenger.drop_duplicates()\n",
    "    dest_dict={}\n",
    "    for i,j in zip(dest_passenger['passenger'],dest_passenger['Destination']):\n",
    "        dest_dict[i]=j\n",
    "    data['Destination'].fillna(data['passenger'].map(dest_dict),inplace=True)\n",
    "    data['Destination'].fillna('TRAPPIST-1e',inplace=True)\n",
    "    data['CryoSleep']=np.where(data['Fee']>0,False,True)\n",
    "    data['Age'].fillna(data['Age'].median(),inplace=True)"
   ]
  },
  {
   "cell_type": "code",
   "execution_count": null,
   "id": "32d5da5f-209f-4433-8178-a8b564aae938",
   "metadata": {},
   "outputs": [],
   "source": []
  }
 ],
 "metadata": {
  "kernelspec": {
   "display_name": "Python 3 (ipykernel)",
   "language": "python",
   "name": "python3"
  },
  "language_info": {
   "codemirror_mode": {
    "name": "ipython",
    "version": 3
   },
   "file_extension": ".py",
   "mimetype": "text/x-python",
   "name": "python",
   "nbconvert_exporter": "python",
   "pygments_lexer": "ipython3",
   "version": "3.9.12"
  }
 },
 "nbformat": 4,
 "nbformat_minor": 5
}
