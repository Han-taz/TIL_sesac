{
 "cells": [
  {
   "cell_type": "markdown",
   "id": "6a9fa6d7-2de6-4737-a572-bd6245499270",
   "metadata": {},
   "source": [
    "- 저장한 파일 불러오고 "
   ]
  },
  {
   "cell_type": "markdown",
   "id": "0e234799-703e-4b6e-a543-f523e092bce0",
   "metadata": {},
   "source": [
    "- 데이터 real 값 best 불러와서 처리해보기"
   ]
  },
  {
   "cell_type": "code",
   "execution_count": null,
   "id": "c9aea19e-2247-4f4e-a1b1-bf73ae5ccec1",
   "metadata": {},
   "outputs": [],
   "source": [
    "import pandas as pd\n",
    "import numpy as np\n",
    "from sklearn.preprocessing import StandardScaler"
   ]
  },
  {
   "cell_type": "code",
   "execution_count": null,
   "id": "4befc778-5d3c-498d-a9e0-65f75d2deb2d",
   "metadata": {},
   "outputs": [],
   "source": [
    "import pickle"
   ]
  },
  {
   "cell_type": "code",
   "execution_count": null,
   "id": "e9f4471a-836f-4060-a3f6-e55786fb7606",
   "metadata": {},
   "outputs": [],
   "source": [
    "with open ('null_dict.pkl', 'rb') as f :\n",
    "    load_dict = pickle.load(f)"
   ]
  },
  {
   "cell_type": "code",
   "execution_count": null,
   "id": "e77dbdcc-3e6c-45f8-bdc3-865a1bf147bb",
   "metadata": {},
   "outputs": [],
   "source": [
    "real = ['LP002990', 'Female', 'No', '0', 'Graduate', 'Yes', 4583, 0.0, 133.0, 360.0, 0.0, 'Semiurban', 'N']"
   ]
  },
  {
   "cell_type": "code",
   "execution_count": null,
   "id": "fb740d18-398a-455f-9cb0-c5109e2ac06f",
   "metadata": {},
   "outputs": [],
   "source": [
    "real2 = ['LP001345', 'Male', 'Yes', '2', 'Not Graduate', 'No', 4288, 3263.0, 133.0, 180.0, 1.0, 'Urban']"
   ]
  },
  {
   "cell_type": "code",
   "execution_count": null,
   "id": "fcfa1a6c-7df7-4a9f-8a2f-3c298134d8ee",
   "metadata": {},
   "outputs": [],
   "source": [
    "real3 = ['LP001345', None, 'Yes', '2', 'Not Graduate', 'No', 4288, 3263.0, 133.0, 180.0, 1.0, 'Urban']"
   ]
  },
  {
   "cell_type": "code",
   "execution_count": null,
   "id": "f4c90c5a-562a-4899-a078-b0abd9952470",
   "metadata": {},
   "outputs": [],
   "source": [
    "real3 = np.asarray(real3).reshape(1,-1)"
   ]
  },
  {
   "cell_type": "code",
   "execution_count": null,
   "id": "18e6ee3d-e19a-4b57-b438-9958eb58acd8",
   "metadata": {},
   "outputs": [],
   "source": [
    "df = pd.DataFrame(real3,columns= ['Loan_ID', 'Gender', 'Married', 'Dependents', 'Education','Self_Employed', 'ApplicantIncome', 'CoapplicantIncome', 'LoanAmount','Loan_Amount_Term', 'Credit_History', 'Property_Area'])"
   ]
  },
  {
   "cell_type": "code",
   "execution_count": null,
   "id": "7568ff14-9c06-4aa6-b9d4-cd0fba0fa51e",
   "metadata": {},
   "outputs": [],
   "source": [
    "df"
   ]
  },
  {
   "cell_type": "code",
   "execution_count": null,
   "id": "9dbd80f9-2a56-4d29-9eb1-06ed1bf9cafb",
   "metadata": {},
   "outputs": [],
   "source": [
    "load_dict"
   ]
  },
  {
   "cell_type": "code",
   "execution_count": null,
   "id": "ab6e108c-a3b3-4bad-b36b-39d8c84ac98a",
   "metadata": {},
   "outputs": [],
   "source": [
    "null_col = ['Gender', 'Married', 'Dependents','Self_Employed']\n",
    "for col in null_col :\n",
    "    df[col].fillna(load_dict[col], inplace = True)"
   ]
  },
  {
   "cell_type": "code",
   "execution_count": null,
   "id": "14551371-a3cf-4fcd-9139-d1427dfd2ece",
   "metadata": {},
   "outputs": [],
   "source": [
    "df"
   ]
  },
  {
   "cell_type": "code",
   "execution_count": null,
   "id": "fc3e3373-7fe5-493c-904f-c2bd037b4bc2",
   "metadata": {},
   "outputs": [],
   "source": [
    "obj_col = ['Gender','Married','Dependents','Education','Self_Employed','Property_Area']\n"
   ]
  },
  {
   "cell_type": "code",
   "execution_count": null,
   "id": "8730641d-4f9d-441f-854e-36f978eb815b",
   "metadata": {},
   "outputs": [],
   "source": [
    "for col in obj_col :\n",
    "    filename = 'label_' + col + '.pkl'\n",
    "    \n",
    "    with open (filename, 'rb') as f :\n",
    "        label = pickle.load(f)\n",
    "    df[col] = label.transform(df[col])"
   ]
  },
  {
   "cell_type": "code",
   "execution_count": null,
   "id": "947b7ab2-c3e6-408f-961f-dc8d4d119349",
   "metadata": {},
   "outputs": [],
   "source": [
    "df.drop('Loan_ID',axis = 1, inplace = True)"
   ]
  },
  {
   "cell_type": "code",
   "execution_count": null,
   "id": "58efbcfe-56ff-41ea-94df-f6ef2ec4b2df",
   "metadata": {},
   "outputs": [],
   "source": [
    "df"
   ]
  },
  {
   "cell_type": "code",
   "execution_count": null,
   "id": "e13ac2df-5ada-4886-80a3-a316882c8c61",
   "metadata": {},
   "outputs": [],
   "source": [
    "with open('scaler.pkl', 'rb') as f :\n",
    "        scaler = pickle.load(f)"
   ]
  },
  {
   "cell_type": "code",
   "execution_count": null,
   "id": "444774c6-1874-4de2-909d-340536a76fc7",
   "metadata": {},
   "outputs": [],
   "source": [
    "df = scaler.transform(df)"
   ]
  },
  {
   "cell_type": "code",
   "execution_count": null,
   "id": "7ba4c2c4-e467-41f9-8c94-caddc19459fd",
   "metadata": {},
   "outputs": [],
   "source": [
    "with open('model.pkl', 'rb') as f :\n",
    "        model = pickle.load(f)"
   ]
  },
  {
   "cell_type": "code",
   "execution_count": null,
   "id": "e83a9c47-c079-49da-b17c-57ac57e2a5d3",
   "metadata": {},
   "outputs": [],
   "source": [
    "predict = model.predict(df)"
   ]
  },
  {
   "cell_type": "code",
   "execution_count": null,
   "id": "6779d593-c256-43eb-992a-918052cc7c6a",
   "metadata": {},
   "outputs": [],
   "source": [
    "if predict == 'Y' :\n",
    "    print('대출승인')\n",
    "else :\n",
    "    pritn('대출거절')"
   ]
  },
  {
   "cell_type": "code",
   "execution_count": null,
   "id": "f28450a5-98b2-4810-b328-7931b56b0927",
   "metadata": {},
   "outputs": [],
   "source": []
  },
  {
   "cell_type": "code",
   "execution_count": null,
   "id": "7b8a7e57-e649-4b36-ad16-10c9cae52ffd",
   "metadata": {},
   "outputs": [],
   "source": []
  },
  {
   "cell_type": "code",
   "execution_count": null,
   "id": "9cd42686-ea71-4eef-b1a8-7f7ec3b8ccc8",
   "metadata": {},
   "outputs": [],
   "source": []
  }
 ],
 "metadata": {
  "kernelspec": {
   "display_name": "Python 3 (ipykernel)",
   "language": "python",
   "name": "python3"
  },
  "language_info": {
   "codemirror_mode": {
    "name": "ipython",
    "version": 3
   },
   "file_extension": ".py",
   "mimetype": "text/x-python",
   "name": "python",
   "nbconvert_exporter": "python",
   "pygments_lexer": "ipython3",
   "version": "3.9.12"
  }
 },
 "nbformat": 4,
 "nbformat_minor": 5
}
