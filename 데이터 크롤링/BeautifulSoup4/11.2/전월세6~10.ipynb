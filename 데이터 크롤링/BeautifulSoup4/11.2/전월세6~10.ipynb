{
 "cells": [
  {
   "cell_type": "code",
   "execution_count": 1,
   "id": "959c1122-8f1c-4e70-a29c-a9a900ee0544",
   "metadata": {},
   "outputs": [],
   "source": [
    "import requests\n",
    "from bs4 import BeautifulSoup\n",
    "import pandas as pd\n",
    "import numpy as np\n",
    "from tqdm import tqdm\n",
    "import warnings\n",
    "warnings.filterwarnings('ignore')"
   ]
  },
  {
   "cell_type": "code",
   "execution_count": 2,
   "id": "0e0c9b89-ffc4-4df7-a58e-d458ec2b7290",
   "metadata": {},
   "outputs": [],
   "source": [
    "req=requests.get('http://openapi.molit.go.kr:8081/OpenAPI_ToolInstallPackage/service/rest/RTMSOBJSvc/getRTMSDataSvcAptRent?serviceKey=rbQTU%2BviLPcb7BcVL3aUQ2gVVsybou%2B1wcnQaZ0a3xSuuRG8y%2F6yNTnuK%2FihWqAD0Wehz12RfZscFpSjzANRTw%3D%3D&LAWD_CD=11530&DEAL_YMD=202206')"
   ]
  },
  {
   "cell_type": "code",
   "execution_count": 3,
   "id": "6fc0d66f-6b45-4f36-8c0c-67bb67dfd967",
   "metadata": {},
   "outputs": [],
   "source": [
    "url = 'http://openapi.molit.go.kr:8081/OpenAPI_ToolInstallPackage/service/rest/RTMSOBJSvc/getRTMSDataSvcAptRent?serviceKey=rbQTU%2BviLPcb7BcVL3aUQ2gVVsybou%2B1wcnQaZ0a3xSuuRG8y%2F6yNTnuK%2FihWqAD0Wehz12RfZscFpSjzANRTw%3D%3D&LAWD_CD=11530&DEAL_YMD=2022'"
   ]
  },
  {
   "cell_type": "code",
   "execution_count": 4,
   "id": "4163a4b5-b877-4789-99ac-1a06fd37aa8c",
   "metadata": {
    "jupyter": {
     "source_hidden": true
    },
    "tags": []
   },
   "outputs": [],
   "source": [
    "data2=[]\n",
    "col_names=[]\n",
    "for m in range(6,11):\n",
    "    \n",
    "    url2 = url + str(m).zfill(2)\n",
    "    \n",
    "    req=requests.get(url2)\n",
    "    \n",
    "    \n",
    "    soup=BeautifulSoup(req.text,'xml')\n",
    "    \n",
    "    \n",
    "    \n",
    "    \n",
    "    if not col_names:\n",
    "        for item in soup.items()[0]:\n",
    "            col_names.append(item.name)\n",
    "        \n",
    "    for item in soup.items:\n",
    "        temp=[]\n",
    "        for t in item:\n",
    "            temp.append(t.text.strip())\n",
    "        data2.append(temp)       "
   ]
  },
  {
   "cell_type": "code",
   "execution_count": 5,
   "id": "3e0d3a79-8b8d-416d-8000-3ac4842815a1",
   "metadata": {},
   "outputs": [
    {
     "name": "stderr",
     "output_type": "stream",
     "text": [
      "  0%|                                                                                            | 0/5 [00:00<?, ?it/s]\n"
     ]
    },
    {
     "ename": "IndexError",
     "evalue": "list index out of range",
     "output_type": "error",
     "traceback": [
      "\u001b[1;31m---------------------------------------------------------------------------\u001b[0m",
      "\u001b[1;31mIndexError\u001b[0m                                Traceback (most recent call last)",
      "Input \u001b[1;32mIn [5]\u001b[0m, in \u001b[0;36m<cell line: 3>\u001b[1;34m()\u001b[0m\n\u001b[0;32m     14\u001b[0m soup\u001b[38;5;241m=\u001b[39mBeautifulSoup(req\u001b[38;5;241m.\u001b[39mtext,\u001b[38;5;124m'\u001b[39m\u001b[38;5;124mxml\u001b[39m\u001b[38;5;124m'\u001b[39m)\n\u001b[0;32m     17\u001b[0m \u001b[38;5;28;01mif\u001b[39;00m \u001b[38;5;129;01mnot\u001b[39;00m col_names:    \n\u001b[1;32m---> 18\u001b[0m     \u001b[38;5;28;01mfor\u001b[39;00m item \u001b[38;5;129;01min\u001b[39;00m \u001b[43msoup\u001b[49m\u001b[38;5;241;43m.\u001b[39;49m\u001b[43mitems\u001b[49m\u001b[43m(\u001b[49m\u001b[43m)\u001b[49m\u001b[43m[\u001b[49m\u001b[38;5;241;43m0\u001b[39;49m\u001b[43m]\u001b[49m:\n\u001b[0;32m     19\u001b[0m         col_names\u001b[38;5;241m.\u001b[39mappend(item\u001b[38;5;241m.\u001b[39mname)\n\u001b[0;32m     21\u001b[0m \u001b[38;5;28;01mfor\u001b[39;00m item \u001b[38;5;129;01min\u001b[39;00m soup\u001b[38;5;241m.\u001b[39mitems:\n",
      "\u001b[1;31mIndexError\u001b[0m: list index out of range"
     ]
    }
   ],
   "source": [
    "data=[]\n",
    "col_names=[]\n",
    "for m in tqdm(range(6,11)):\n",
    "    \n",
    "    url ='http://openapi.molit.go.kr:8081/OpenAPI_ToolInstallPackage/service/rest/RTMSOBJSvc/getRTMSDataSvcAptRent'\n",
    "    serviceKey='rbQTU%2BviLPcb7BcVL3aUQ2gVVsybou%2B1wcnQaZ0a3xSuuRG8y%2F6yNTnuK%2FihWqAD0Wehz12RfZscFpSjzANRTw%3D%3D'\n",
    "    LAWD_CD='11530'\n",
    "    DEAL_YMD='2022'+str(m).zfill(2)\n",
    "    \n",
    "    api_url=url +\"?\" +'serviceKey='+ serviceKey + '&LAWD_CD='+LAWD_CD+ '&DEA L_YMD=' + DEAL_YMD\n",
    "    req=requests.get(api_url)\n",
    "    \n",
    "    \n",
    "    soup=BeautifulSoup(req.text,'xml')\n",
    "    \n",
    "    \n",
    "    if not col_names:    \n",
    "        for item in soup.items()[0]:\n",
    "            col_names.append(item.name)\n",
    "            \n",
    "    for item in soup.items:\n",
    "        temp=[]\n",
    "        for t in item:\n",
    "            temp.append(t.text.strip())\n",
    "        data.append(temp)       "
   ]
  },
  {
   "cell_type": "code",
   "execution_count": null,
   "id": "d3547541-f069-47aa-b1d0-2242e02b2f60",
   "metadata": {
    "tags": []
   },
   "outputs": [],
   "source": [
    "len(data)"
   ]
  },
  {
   "cell_type": "code",
   "execution_count": null,
   "id": "37d9df23-9e8b-4fdc-b913-9d30f5be6b58",
   "metadata": {},
   "outputs": [],
   "source": [
    "df=pd.DataFrame(data, columns=col_names)"
   ]
  },
  {
   "cell_type": "code",
   "execution_count": null,
   "id": "c5e19914-4b72-4e3b-9b9e-c5fbe922e5f7",
   "metadata": {},
   "outputs": [],
   "source": []
  },
  {
   "cell_type": "code",
   "execution_count": null,
   "id": "94ba4d2f-de87-49db-8163-5211e7214d9b",
   "metadata": {
    "tags": []
   },
   "outputs": [],
   "source": [
    "from tqdm import tqdm"
   ]
  },
  {
   "cell_type": "code",
   "execution_count": null,
   "id": "d1b4e61e-d4c6-44bb-89a4-0d09a5c1fa9b",
   "metadata": {},
   "outputs": [],
   "source": [
    "df=df.replace('',np.nan)"
   ]
  },
  {
   "cell_type": "code",
   "execution_count": null,
   "id": "2f717580-e4fa-4ff2-a7b5-7f2169d6c9b6",
   "metadata": {},
   "outputs": [],
   "source": [
    "df.isnull().sum()"
   ]
  },
  {
   "cell_type": "code",
   "execution_count": null,
   "id": "005b36c3-73c3-49c6-8eb9-50cd48aa0646",
   "metadata": {
    "tags": []
   },
   "outputs": [],
   "source": [
    "df[df['아파트']=='디큐브시티']"
   ]
  },
  {
   "cell_type": "code",
   "execution_count": null,
   "id": "9fe16703-8c3c-40de-810a-baa20494e0a7",
   "metadata": {},
   "outputs": [],
   "source": [
    "#### 월별 월세/전세 변화량(전용면적 고려)\n",
    "### 월세의 경우 보증금액 변화도 고려"
   ]
  },
  {
   "cell_type": "code",
   "execution_count": null,
   "id": "08751407-0681-4ad5-b239-62d47d894dde",
   "metadata": {},
   "outputs": [],
   "source": [
    "df.columns"
   ]
  },
  {
   "cell_type": "code",
   "execution_count": null,
   "id": "d68c4b9a-91e2-44f2-ad57-f6bed5e84851",
   "metadata": {},
   "outputs": [],
   "source": [
    "df['월세금액']=df['월세금액'].astype(int)"
   ]
  },
  {
   "cell_type": "code",
   "execution_count": null,
   "id": "639a5f71-3e56-4d52-be48-e724c81c92f4",
   "metadata": {},
   "outputs": [],
   "source": [
    "df.groupby('월')['월세금액'].mean()"
   ]
  },
  {
   "cell_type": "code",
   "execution_count": null,
   "id": "f1a46ef7-6aae-4705-a7b2-260bbe7ace06",
   "metadata": {},
   "outputs": [],
   "source": [
    "df['보증금액']=df['보증금액'].str.replace(',','').astype(int)"
   ]
  },
  {
   "cell_type": "code",
   "execution_count": null,
   "id": "b47ea57a-e5f1-4e2e-8317-ec9f85ea199b",
   "metadata": {},
   "outputs": [],
   "source": [
    "type(df['보증금액'][0])"
   ]
  },
  {
   "cell_type": "code",
   "execution_count": null,
   "id": "4795d68f-70fd-474d-9469-187eaacca65f",
   "metadata": {
    "tags": []
   },
   "outputs": [],
   "source": [
    "df_sen=df[df['아파트']=='센트레빌레우스1단지']"
   ]
  },
  {
   "cell_type": "code",
   "execution_count": null,
   "id": "e7ea3037-cbf4-4c90-b247-bc773c2d12fb",
   "metadata": {},
   "outputs": [],
   "source": [
    "df_sen['월세금액']=df_sen['월세금액'].astype(int)"
   ]
  },
  {
   "cell_type": "code",
   "execution_count": null,
   "id": "473397cc-992d-495d-b550-a9e0abbf296d",
   "metadata": {},
   "outputs": [],
   "source": [
    "df_sen.loc[1648,'월세금액']=43"
   ]
  },
  {
   "cell_type": "code",
   "execution_count": null,
   "id": "e2159a9b-d7f9-471c-88fc-3a8d12513c64",
   "metadata": {
    "tags": []
   },
   "outputs": [],
   "source": [
    "df_sen.groupby(['월','전용면적'])['월세금액'].median().reset_index().sort_values('월세금액',ascending=False)"
   ]
  },
  {
   "cell_type": "code",
   "execution_count": null,
   "id": "fa3dbe5e-8d72-4781-8c8b-4614254e3727",
   "metadata": {},
   "outputs": [],
   "source": [
    "df_sen['월세금액']"
   ]
  },
  {
   "cell_type": "code",
   "execution_count": null,
   "id": "aa01dc26-1aba-445f-ac0e-20ca7bebb5b7",
   "metadata": {},
   "outputs": [],
   "source": [
    "df_sen['보증금액']"
   ]
  },
  {
   "cell_type": "code",
   "execution_count": null,
   "id": "4dde8af0-7c8a-4153-953c-2ca6ff1efefb",
   "metadata": {},
   "outputs": [],
   "source": [
    "df_sen_group=df_sen.groupby(['월','전용면적'])['보증금액','월세금액'].mean().reset_index()"
   ]
  },
  {
   "cell_type": "code",
   "execution_count": null,
   "id": "49e7eff7-3b59-4ee1-9b8e-66703400e125",
   "metadata": {},
   "outputs": [],
   "source": [
    "type(df['보증금액'][0])"
   ]
  },
  {
   "cell_type": "code",
   "execution_count": null,
   "id": "f643098b-3e41-48e6-829d-02e5ba368d16",
   "metadata": {},
   "outputs": [],
   "source": [
    "df_sen_group.plot(x='월',y='보증금액')"
   ]
  },
  {
   "cell_type": "code",
   "execution_count": null,
   "id": "ea7ae2f3-2cdc-4a0c-8356-b9ff9f2d43b0",
   "metadata": {},
   "outputs": [],
   "source": [
    "import seaborn as sns\n",
    "import matplotlib.pyplot as plt"
   ]
  },
  {
   "cell_type": "code",
   "execution_count": null,
   "id": "c62bf750-7619-416e-843f-2a12625e4dda",
   "metadata": {},
   "outputs": [],
   "source": [
    "plt.figure(figsize=(10, 0))\n",
    "sns.pointplot(data=df_sen_group,x='월', y='보증금액',hue='전용면적')"
   ]
  },
  {
   "cell_type": "code",
   "execution_count": null,
   "id": "7817ce36-9f48-4b9a-9d87-765d8846e0ee",
   "metadata": {},
   "outputs": [],
   "source": [
    "df_sen['보증금액']"
   ]
  }
 ],
 "metadata": {
  "kernelspec": {
   "display_name": "Python 3 (ipykernel)",
   "language": "python",
   "name": "python3"
  },
  "language_info": {
   "codemirror_mode": {
    "name": "ipython",
    "version": 3
   },
   "file_extension": ".py",
   "mimetype": "text/x-python",
   "name": "python",
   "nbconvert_exporter": "python",
   "pygments_lexer": "ipython3",
   "version": "3.9.12"
  }
 },
 "nbformat": 4,
 "nbformat_minor": 5
}
