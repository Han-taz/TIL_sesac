{
 "cells": [
  {
   "cell_type": "code",
   "execution_count": 1,
   "id": "44860ce0-f0c0-4f5e-81c7-0e11c3ab4c30",
   "metadata": {},
   "outputs": [],
   "source": [
    "import pandas as pd\n",
    "import requests\n",
    "from bs4 import BeautifulSoup\n",
    "from tqdm import tqdm\n",
    "import numpy as np"
   ]
  },
  {
   "cell_type": "code",
   "execution_count": 3,
   "id": "f1a4e72c-7628-4bc0-8c2d-99e456682ca7",
   "metadata": {},
   "outputs": [],
   "source": [
    "df0=pd.read_csv('file/elevInfo.csv',encoding='euc-kr')"
   ]
  },
  {
   "cell_type": "code",
   "execution_count": 4,
   "id": "b4bf708d-1065-44b1-b432-c47aefda830c",
   "metadata": {},
   "outputs": [],
   "source": [
    "##검사일자 검사기관 합격유뮤"
   ]
  },
  {
   "cell_type": "code",
   "execution_count": 5,
   "id": "cc5ee1fa-ec4d-4231-8d4e-2dc1793810d0",
   "metadata": {},
   "outputs": [
    {
     "data": {
      "text/plain": [
       "<Response [200]>"
      ]
     },
     "execution_count": 5,
     "metadata": {},
     "output_type": "execute_result"
    }
   ],
   "source": [
    "requests.get('http://apis.data.go.kr/openapi/service/ElevatorInformationService/getElevatorView?serviceKey=rbQTU%2BviLPcb7BcVL3aUQ2gVVsybou%2B1wcnQaZ0a3xSuuRG8y%2F6yNTnuK%2FihWqAD0Wehz12RfZscFpSjzANRTw%3D%3D&')"
   ]
  },
  {
   "cell_type": "code",
   "execution_count": 6,
   "id": "2db75b3b-328e-44cc-acac-efdae5af3cf0",
   "metadata": {},
   "outputs": [],
   "source": [
    "url='http://apis.data.go.kr/openapi/service/ElevatorInformationService/getElevatorView'\n",
    "serviceKey='rbQTU+viLPcb7BcVL3aUQ2gVVsybou+1wcnQaZ0a3xSuuRG8y/6yNTnuK/ihWqAD0Wehz12RfZscFpSjzANRTw=='\n",
    "elevator_no='0042569'\n"
   ]
  },
  {
   "cell_type": "code",
   "execution_count": 7,
   "id": "cca9756a-526c-4583-9529-dc59a076a6d5",
   "metadata": {},
   "outputs": [],
   "source": [
    "params={'serviceKey':serviceKey,'elevator_no':elevator_no}"
   ]
  },
  {
   "cell_type": "code",
   "execution_count": 8,
   "id": "6b2156f4-e0c0-4f17-aa9b-2e393940e549",
   "metadata": {},
   "outputs": [],
   "source": [
    "req=requests.get(url,params=params,verify=False)"
   ]
  },
  {
   "cell_type": "code",
   "execution_count": 9,
   "id": "f9ff0f89-11f1-4cdf-9bf9-6a1f4b6ab593",
   "metadata": {
    "tags": []
   },
   "outputs": [
    {
     "data": {
      "text/plain": [
       "'<?xml version=\"1.0\" encoding=\"UTF-8\" standalone=\"yes\"?><response><header><resultCode>00</resultCode><resultMsg>NORMAL SERVICE.</resultMsg></header><body><item><address1>서울특별시 은평구 통일로71길 16</address1><address2>(대조동)</address2><applcBeDt>2022-09-29</applcBeDt><applcEnDt>2023-09-28</applcEnDt><areaNo>01</areaNo><buldMgtNo1>122</buldMgtNo1><buldMgtNo2>889</buldMgtNo2><buldNm>(주)KT 은평지사</buldNm><buldPrpos>업무시설-기타</buldPrpos><divGroundFloorCnt>4</divGroundFloorCnt><divUndgrndFloorCnt>1</divUndgrndFloorCnt><elevatorNo>0042569</elevatorNo><elvtrAsignNo>1</elvtrAsignNo><elvtrDivNm>엘리베이터</elvtrDivNm><elvtrFormNm>권상식-VVVF</elvtrFormNm><elvtrKindNm>장애인용</elvtrKindNm><elvtrMgtNo1>122</elvtrMgtNo1><elvtrMgtNo2>1760</elvtrMgtNo2><elvtrModel>Di1</elvtrModel><elvtrResmptDe>--</elvtrResmptDe><elvtrStts>운행중</elvtrStts><frstInstallationDe>2005-08-24</frstInstallationDe><inspctInstt>한국승강기안전공단 서울서부지사</inspctInstt><installationDe>2005-08-24</installationDe><installationPlace>1-1</installationPlace><lastInspctDe>2022-10-11</lastInspctDe><lastInspctKind>정기</lastInspctKind><lastResultNm>합격</lastResultNm><liveLoad>1150 Kg</liveLoad><manufacturerName>오티스엘리베이터(유)창원공장</manufacturerName><manufacturerTelno>055--289-8235</manufacturerTelno><mnfcturCpnyCd>919990124</mnfcturCpnyCd><mntCpnyCd>919920075</mntCpnyCd><mntCpnyNm>오티스엘리베이터(유)서울</mntCpnyNm><mntCpnyTelno>02--2007-5800</mntCpnyTelno><mrYn>Y</mrYn><partcpntNm>김봉수(설비실장)</partcpntNm><partcpntTelno>010-3043-1***</partcpntTelno><pauseAblDe>--</pauseAblDe><ratedCap>17 인승</ratedCap><ratedSpeed>1.5 m/min</ratedSpeed><shuttleFloorCnt>4</shuttleFloorCnt><shuttleMngrNm>선임(운행관리자정보없음)</shuttleMngrNm><shuttleMngrTelno>-</shuttleMngrTelno><shuttleSection>1-4</shuttleSection><sigunguCd>122</sigunguCd><standardKey>1</standardKey><zipCd1>033</zipCd1><zipCd2>91</zipCd2></item></body></response>'"
      ]
     },
     "execution_count": 9,
     "metadata": {},
     "output_type": "execute_result"
    }
   ],
   "source": [
    "req.text"
   ]
  },
  {
   "cell_type": "code",
   "execution_count": 10,
   "id": "59493528-38f9-4147-ba5c-02d48dc25667",
   "metadata": {},
   "outputs": [],
   "source": [
    "soup=BeautifulSoup(req.text,'xml')"
   ]
  },
  {
   "cell_type": "code",
   "execution_count": 11,
   "id": "6069bf85-4560-47ef-9120-ea342951f3cc",
   "metadata": {
    "tags": []
   },
   "outputs": [
    {
     "data": {
      "text/plain": [
       "<?xml version=\"1.0\" encoding=\"utf-8\"?>\n",
       "<response><header><resultCode>00</resultCode><resultMsg>NORMAL SERVICE.</resultMsg></header><body><item><address1>서울특별시 은평구 통일로71길 16</address1><address2>(대조동)</address2><applcBeDt>2022-09-29</applcBeDt><applcEnDt>2023-09-28</applcEnDt><areaNo>01</areaNo><buldMgtNo1>122</buldMgtNo1><buldMgtNo2>889</buldMgtNo2><buldNm>(주)KT 은평지사</buldNm><buldPrpos>업무시설-기타</buldPrpos><divGroundFloorCnt>4</divGroundFloorCnt><divUndgrndFloorCnt>1</divUndgrndFloorCnt><elevatorNo>0042569</elevatorNo><elvtrAsignNo>1</elvtrAsignNo><elvtrDivNm>엘리베이터</elvtrDivNm><elvtrFormNm>권상식-VVVF</elvtrFormNm><elvtrKindNm>장애인용</elvtrKindNm><elvtrMgtNo1>122</elvtrMgtNo1><elvtrMgtNo2>1760</elvtrMgtNo2><elvtrModel>Di1</elvtrModel><elvtrResmptDe>--</elvtrResmptDe><elvtrStts>운행중</elvtrStts><frstInstallationDe>2005-08-24</frstInstallationDe><inspctInstt>한국승강기안전공단 서울서부지사</inspctInstt><installationDe>2005-08-24</installationDe><installationPlace>1-1</installationPlace><lastInspctDe>2022-10-11</lastInspctDe><lastInspctKind>정기</lastInspctKind><lastResultNm>합격</lastResultNm><liveLoad>1150 Kg</liveLoad><manufacturerName>오티스엘리베이터(유)창원공장</manufacturerName><manufacturerTelno>055--289-8235</manufacturerTelno><mnfcturCpnyCd>919990124</mnfcturCpnyCd><mntCpnyCd>919920075</mntCpnyCd><mntCpnyNm>오티스엘리베이터(유)서울</mntCpnyNm><mntCpnyTelno>02--2007-5800</mntCpnyTelno><mrYn>Y</mrYn><partcpntNm>김봉수(설비실장)</partcpntNm><partcpntTelno>010-3043-1***</partcpntTelno><pauseAblDe>--</pauseAblDe><ratedCap>17 인승</ratedCap><ratedSpeed>1.5 m/min</ratedSpeed><shuttleFloorCnt>4</shuttleFloorCnt><shuttleMngrNm>선임(운행관리자정보없음)</shuttleMngrNm><shuttleMngrTelno>-</shuttleMngrTelno><shuttleSection>1-4</shuttleSection><sigunguCd>122</sigunguCd><standardKey>1</standardKey><zipCd1>033</zipCd1><zipCd2>91</zipCd2></item></body></response>"
      ]
     },
     "execution_count": 11,
     "metadata": {},
     "output_type": "execute_result"
    }
   ],
   "source": [
    "soup"
   ]
  },
  {
   "cell_type": "code",
   "execution_count": 12,
   "id": "8e3ddc68-3418-4cde-83d8-5d1f93facd04",
   "metadata": {},
   "outputs": [
    {
     "data": {
      "text/plain": [
       "200"
      ]
     },
     "execution_count": 12,
     "metadata": {},
     "output_type": "execute_result"
    }
   ],
   "source": [
    "len(df0['elevatorNo'])"
   ]
  },
  {
   "cell_type": "code",
   "execution_count": 13,
   "id": "70114c3a-e23d-4ca8-bbaf-26707fec8057",
   "metadata": {},
   "outputs": [
    {
     "data": {
      "text/plain": [
       "<?xml version=\"1.0\" encoding=\"utf-8\"?>\n",
       "<response><header><resultCode>00</resultCode><resultMsg>NORMAL SERVICE.</resultMsg></header><body><item><address1>서울특별시 은평구 통일로71길 16</address1><address2>(대조동)</address2><applcBeDt>2022-09-29</applcBeDt><applcEnDt>2023-09-28</applcEnDt><areaNo>01</areaNo><buldMgtNo1>122</buldMgtNo1><buldMgtNo2>889</buldMgtNo2><buldNm>(주)KT 은평지사</buldNm><buldPrpos>업무시설-기타</buldPrpos><divGroundFloorCnt>4</divGroundFloorCnt><divUndgrndFloorCnt>1</divUndgrndFloorCnt><elevatorNo>0042569</elevatorNo><elvtrAsignNo>1</elvtrAsignNo><elvtrDivNm>엘리베이터</elvtrDivNm><elvtrFormNm>권상식-VVVF</elvtrFormNm><elvtrKindNm>장애인용</elvtrKindNm><elvtrMgtNo1>122</elvtrMgtNo1><elvtrMgtNo2>1760</elvtrMgtNo2><elvtrModel>Di1</elvtrModel><elvtrResmptDe>--</elvtrResmptDe><elvtrStts>운행중</elvtrStts><frstInstallationDe>2005-08-24</frstInstallationDe><inspctInstt>한국승강기안전공단 서울서부지사</inspctInstt><installationDe>2005-08-24</installationDe><installationPlace>1-1</installationPlace><lastInspctDe>2022-10-11</lastInspctDe><lastInspctKind>정기</lastInspctKind><lastResultNm>합격</lastResultNm><liveLoad>1150 Kg</liveLoad><manufacturerName>오티스엘리베이터(유)창원공장</manufacturerName><manufacturerTelno>055--289-8235</manufacturerTelno><mnfcturCpnyCd>919990124</mnfcturCpnyCd><mntCpnyCd>919920075</mntCpnyCd><mntCpnyNm>오티스엘리베이터(유)서울</mntCpnyNm><mntCpnyTelno>02--2007-5800</mntCpnyTelno><mrYn>Y</mrYn><partcpntNm>김봉수(설비실장)</partcpntNm><partcpntTelno>010-3043-1***</partcpntTelno><pauseAblDe>--</pauseAblDe><ratedCap>17 인승</ratedCap><ratedSpeed>1.5 m/min</ratedSpeed><shuttleFloorCnt>4</shuttleFloorCnt><shuttleMngrNm>선임(운행관리자정보없음)</shuttleMngrNm><shuttleMngrTelno>-</shuttleMngrTelno><shuttleSection>1-4</shuttleSection><sigunguCd>122</sigunguCd><standardKey>1</standardKey><zipCd1>033</zipCd1><zipCd2>91</zipCd2></item></body></response>"
      ]
     },
     "execution_count": 13,
     "metadata": {},
     "output_type": "execute_result"
    }
   ],
   "source": [
    "soup"
   ]
  },
  {
   "cell_type": "code",
   "execution_count": 14,
   "id": "73c1b2fa-32ca-49bd-87c2-6073e2cb238a",
   "metadata": {
    "tags": []
   },
   "outputs": [
    {
     "name": "stderr",
     "output_type": "stream",
     "text": [
      "100%|████████████████████████████████████████████████████████████████████████████████| 200/200 [00:23<00:00,  8.40it/s]\n"
     ]
    }
   ],
   "source": [
    "data2=[]\n",
    "for num in tqdm(df0['elevatorNo']):\n",
    "    url='http://apis.data.go.kr/openapi/service/ElevatorInformationService/getElevatorView'\n",
    "    serviceKey='rbQTU+viLPcb7BcVL3aUQ2gVVsybou+1wcnQaZ0a3xSuuRG8y/6yNTnuK/ihWqAD0Wehz12RfZscFpSjzANRTw=='\n",
    "    elevator_no=str(num).zfill(7)\n",
    "\n",
    "    params={'serviceKey':serviceKey,'elevator_no':elevator_no}\n",
    "\n",
    "    req=requests.get(url,params=params,verify=False)\n",
    "\n",
    "    soup=BeautifulSoup(req.text,'xml')\n",
    "    \n",
    "    \n",
    "#     temp=[]\n",
    "#     try:\n",
    "#         temp.append(num)\n",
    "#     except:\n",
    "#         temp.append('')\n",
    "#     try:\n",
    "#         temp.append(soup.select('lastInspctDe')[0].text)\n",
    "#     except:\n",
    "#         temp.append('')\n",
    "#     try:\n",
    "#         temp.append(soup.select('inspctInstt')[0].text)\n",
    "#     except:\n",
    "#         temp.append('')\n",
    "#     try:\n",
    "#         temp.append(soup.select('lastResultNm')[0].text)\n",
    "    \n",
    "#     except:\n",
    "#         temp.append('')\n",
    "# data2.append(temp)\n",
    "    \n",
    "    #print(soup.select('installationDe')[0].text)\n",
    "#     col_list1=['installationDe','inspctInstt','lastResultNm']\n",
    "#     for col in col_list1:\n",
    "#         temp=[]\n",
    "#         for d in col_list1:\n",
    "#             temp.append(item.select(col)[0].text)\n",
    "        \n",
    "#         data2.append(temp)\n",
    "        "
   ]
  },
  {
   "cell_type": "code",
   "execution_count": 16,
   "id": "c68a89c4-b5bd-4944-b8be-1447c4767fd9",
   "metadata": {
    "tags": []
   },
   "outputs": [
    {
     "data": {
      "text/plain": [
       "[]"
      ]
     },
     "execution_count": 16,
     "metadata": {},
     "output_type": "execute_result"
    }
   ],
   "source": [
    "data2"
   ]
  },
  {
   "cell_type": "code",
   "execution_count": null,
   "id": "827becd6-308a-4809-a648-1b12e477e17f",
   "metadata": {},
   "outputs": [],
   "source": []
  },
  {
   "cell_type": "code",
   "execution_count": 17,
   "id": "311ad642-dd6f-4e3d-9185-da390675fef0",
   "metadata": {},
   "outputs": [],
   "source": [
    "col_list1=['elevatorNo','lastInspctDe','inspctInstt','lastResultNm']"
   ]
  },
  {
   "cell_type": "code",
   "execution_count": 18,
   "id": "19e1ca9f-ee32-4cf6-9f41-ac57daec9af3",
   "metadata": {
    "tags": []
   },
   "outputs": [],
   "source": [
    "df1=pd.DataFrame(data2, columns=col_list1)"
   ]
  },
  {
   "cell_type": "code",
   "execution_count": 19,
   "id": "455657e2-e6ef-4735-8fa5-a33bc0ba24b9",
   "metadata": {},
   "outputs": [
    {
     "data": {
      "text/html": [
       "<div>\n",
       "<style scoped>\n",
       "    .dataframe tbody tr th:only-of-type {\n",
       "        vertical-align: middle;\n",
       "    }\n",
       "\n",
       "    .dataframe tbody tr th {\n",
       "        vertical-align: top;\n",
       "    }\n",
       "\n",
       "    .dataframe thead th {\n",
       "        text-align: right;\n",
       "    }\n",
       "</style>\n",
       "<table border=\"1\" class=\"dataframe\">\n",
       "  <thead>\n",
       "    <tr style=\"text-align: right;\">\n",
       "      <th></th>\n",
       "      <th>elevatorNo</th>\n",
       "      <th>lastInspctDe</th>\n",
       "      <th>inspctInstt</th>\n",
       "      <th>lastResultNm</th>\n",
       "    </tr>\n",
       "  </thead>\n",
       "  <tbody>\n",
       "  </tbody>\n",
       "</table>\n",
       "</div>"
      ],
      "text/plain": [
       "Empty DataFrame\n",
       "Columns: [elevatorNo, lastInspctDe, inspctInstt, lastResultNm]\n",
       "Index: []"
      ]
     },
     "execution_count": 19,
     "metadata": {},
     "output_type": "execute_result"
    }
   ],
   "source": [
    "df1"
   ]
  },
  {
   "cell_type": "code",
   "execution_count": 20,
   "id": "81e6e838-41b7-4ff9-a676-b529b044cb9b",
   "metadata": {},
   "outputs": [],
   "source": [
    "df_all=pd.merge(df0,df1, on='elevatorNo')###'elevatorNo'를 키값으로 df0,df1의 데이터를 합친다."
   ]
  },
  {
   "cell_type": "code",
   "execution_count": 21,
   "id": "f55c01e8-5462-4505-96f6-da3fb7ae14c6",
   "metadata": {},
   "outputs": [
    {
     "data": {
      "text/html": [
       "<div>\n",
       "<style scoped>\n",
       "    .dataframe tbody tr th:only-of-type {\n",
       "        vertical-align: middle;\n",
       "    }\n",
       "\n",
       "    .dataframe tbody tr th {\n",
       "        vertical-align: top;\n",
       "    }\n",
       "\n",
       "    .dataframe thead th {\n",
       "        text-align: right;\n",
       "    }\n",
       "</style>\n",
       "<table border=\"1\" class=\"dataframe\">\n",
       "  <thead>\n",
       "    <tr style=\"text-align: right;\">\n",
       "      <th></th>\n",
       "      <th>address1</th>\n",
       "      <th>address2</th>\n",
       "      <th>buldNm</th>\n",
       "      <th>elevatorNo</th>\n",
       "      <th>elvtrStts</th>\n",
       "      <th>lastInspctDe_x</th>\n",
       "      <th>liveLoad</th>\n",
       "      <th>manufacturerTelno</th>\n",
       "      <th>lastInspctDe_y</th>\n",
       "      <th>inspctInstt</th>\n",
       "      <th>lastResultNm</th>\n",
       "    </tr>\n",
       "  </thead>\n",
       "  <tbody>\n",
       "  </tbody>\n",
       "</table>\n",
       "</div>"
      ],
      "text/plain": [
       "Empty DataFrame\n",
       "Columns: [address1, address2, buldNm, elevatorNo, elvtrStts, lastInspctDe_x, liveLoad, manufacturerTelno, lastInspctDe_y, inspctInstt, lastResultNm]\n",
       "Index: []"
      ]
     },
     "execution_count": 21,
     "metadata": {},
     "output_type": "execute_result"
    }
   ],
   "source": [
    "df_all"
   ]
  },
  {
   "cell_type": "code",
   "execution_count": 22,
   "id": "58521f86-e8c4-4aca-9efb-1f3e9575b3e6",
   "metadata": {},
   "outputs": [
    {
     "ename": "FileNotFoundError",
     "evalue": "[Errno 2] No such file or directory: 'elevInspect.csv'",
     "output_type": "error",
     "traceback": [
      "\u001b[1;31m---------------------------------------------------------------------------\u001b[0m",
      "\u001b[1;31mFileNotFoundError\u001b[0m                         Traceback (most recent call last)",
      "Input \u001b[1;32mIn [22]\u001b[0m, in \u001b[0;36m<cell line: 1>\u001b[1;34m()\u001b[0m\n\u001b[1;32m----> 1\u001b[0m df2\u001b[38;5;241m=\u001b[39m\u001b[43mpd\u001b[49m\u001b[38;5;241;43m.\u001b[39;49m\u001b[43mread_csv\u001b[49m\u001b[43m(\u001b[49m\u001b[38;5;124;43m'\u001b[39;49m\u001b[38;5;124;43melevInspect.csv\u001b[39;49m\u001b[38;5;124;43m'\u001b[39;49m\u001b[43m,\u001b[49m\u001b[43mencoding\u001b[49m\u001b[38;5;241;43m=\u001b[39;49m\u001b[38;5;124;43m'\u001b[39;49m\u001b[38;5;124;43meuc-kr\u001b[39;49m\u001b[38;5;124;43m'\u001b[39;49m\u001b[43m)\u001b[49m\n",
      "File \u001b[1;32m~\\anaconda3\\lib\\site-packages\\pandas\\util\\_decorators.py:311\u001b[0m, in \u001b[0;36mdeprecate_nonkeyword_arguments.<locals>.decorate.<locals>.wrapper\u001b[1;34m(*args, **kwargs)\u001b[0m\n\u001b[0;32m    305\u001b[0m \u001b[38;5;28;01mif\u001b[39;00m \u001b[38;5;28mlen\u001b[39m(args) \u001b[38;5;241m>\u001b[39m num_allow_args:\n\u001b[0;32m    306\u001b[0m     warnings\u001b[38;5;241m.\u001b[39mwarn(\n\u001b[0;32m    307\u001b[0m         msg\u001b[38;5;241m.\u001b[39mformat(arguments\u001b[38;5;241m=\u001b[39marguments),\n\u001b[0;32m    308\u001b[0m         \u001b[38;5;167;01mFutureWarning\u001b[39;00m,\n\u001b[0;32m    309\u001b[0m         stacklevel\u001b[38;5;241m=\u001b[39mstacklevel,\n\u001b[0;32m    310\u001b[0m     )\n\u001b[1;32m--> 311\u001b[0m \u001b[38;5;28;01mreturn\u001b[39;00m func(\u001b[38;5;241m*\u001b[39margs, \u001b[38;5;241m*\u001b[39m\u001b[38;5;241m*\u001b[39mkwargs)\n",
      "File \u001b[1;32m~\\anaconda3\\lib\\site-packages\\pandas\\io\\parsers\\readers.py:680\u001b[0m, in \u001b[0;36mread_csv\u001b[1;34m(filepath_or_buffer, sep, delimiter, header, names, index_col, usecols, squeeze, prefix, mangle_dupe_cols, dtype, engine, converters, true_values, false_values, skipinitialspace, skiprows, skipfooter, nrows, na_values, keep_default_na, na_filter, verbose, skip_blank_lines, parse_dates, infer_datetime_format, keep_date_col, date_parser, dayfirst, cache_dates, iterator, chunksize, compression, thousands, decimal, lineterminator, quotechar, quoting, doublequote, escapechar, comment, encoding, encoding_errors, dialect, error_bad_lines, warn_bad_lines, on_bad_lines, delim_whitespace, low_memory, memory_map, float_precision, storage_options)\u001b[0m\n\u001b[0;32m    665\u001b[0m kwds_defaults \u001b[38;5;241m=\u001b[39m _refine_defaults_read(\n\u001b[0;32m    666\u001b[0m     dialect,\n\u001b[0;32m    667\u001b[0m     delimiter,\n\u001b[1;32m   (...)\u001b[0m\n\u001b[0;32m    676\u001b[0m     defaults\u001b[38;5;241m=\u001b[39m{\u001b[38;5;124m\"\u001b[39m\u001b[38;5;124mdelimiter\u001b[39m\u001b[38;5;124m\"\u001b[39m: \u001b[38;5;124m\"\u001b[39m\u001b[38;5;124m,\u001b[39m\u001b[38;5;124m\"\u001b[39m},\n\u001b[0;32m    677\u001b[0m )\n\u001b[0;32m    678\u001b[0m kwds\u001b[38;5;241m.\u001b[39mupdate(kwds_defaults)\n\u001b[1;32m--> 680\u001b[0m \u001b[38;5;28;01mreturn\u001b[39;00m \u001b[43m_read\u001b[49m\u001b[43m(\u001b[49m\u001b[43mfilepath_or_buffer\u001b[49m\u001b[43m,\u001b[49m\u001b[43m \u001b[49m\u001b[43mkwds\u001b[49m\u001b[43m)\u001b[49m\n",
      "File \u001b[1;32m~\\anaconda3\\lib\\site-packages\\pandas\\io\\parsers\\readers.py:575\u001b[0m, in \u001b[0;36m_read\u001b[1;34m(filepath_or_buffer, kwds)\u001b[0m\n\u001b[0;32m    572\u001b[0m _validate_names(kwds\u001b[38;5;241m.\u001b[39mget(\u001b[38;5;124m\"\u001b[39m\u001b[38;5;124mnames\u001b[39m\u001b[38;5;124m\"\u001b[39m, \u001b[38;5;28;01mNone\u001b[39;00m))\n\u001b[0;32m    574\u001b[0m \u001b[38;5;66;03m# Create the parser.\u001b[39;00m\n\u001b[1;32m--> 575\u001b[0m parser \u001b[38;5;241m=\u001b[39m TextFileReader(filepath_or_buffer, \u001b[38;5;241m*\u001b[39m\u001b[38;5;241m*\u001b[39mkwds)\n\u001b[0;32m    577\u001b[0m \u001b[38;5;28;01mif\u001b[39;00m chunksize \u001b[38;5;129;01mor\u001b[39;00m iterator:\n\u001b[0;32m    578\u001b[0m     \u001b[38;5;28;01mreturn\u001b[39;00m parser\n",
      "File \u001b[1;32m~\\anaconda3\\lib\\site-packages\\pandas\\io\\parsers\\readers.py:933\u001b[0m, in \u001b[0;36mTextFileReader.__init__\u001b[1;34m(self, f, engine, **kwds)\u001b[0m\n\u001b[0;32m    930\u001b[0m     \u001b[38;5;28mself\u001b[39m\u001b[38;5;241m.\u001b[39moptions[\u001b[38;5;124m\"\u001b[39m\u001b[38;5;124mhas_index_names\u001b[39m\u001b[38;5;124m\"\u001b[39m] \u001b[38;5;241m=\u001b[39m kwds[\u001b[38;5;124m\"\u001b[39m\u001b[38;5;124mhas_index_names\u001b[39m\u001b[38;5;124m\"\u001b[39m]\n\u001b[0;32m    932\u001b[0m \u001b[38;5;28mself\u001b[39m\u001b[38;5;241m.\u001b[39mhandles: IOHandles \u001b[38;5;241m|\u001b[39m \u001b[38;5;28;01mNone\u001b[39;00m \u001b[38;5;241m=\u001b[39m \u001b[38;5;28;01mNone\u001b[39;00m\n\u001b[1;32m--> 933\u001b[0m \u001b[38;5;28mself\u001b[39m\u001b[38;5;241m.\u001b[39m_engine \u001b[38;5;241m=\u001b[39m \u001b[38;5;28;43mself\u001b[39;49m\u001b[38;5;241;43m.\u001b[39;49m\u001b[43m_make_engine\u001b[49m\u001b[43m(\u001b[49m\u001b[43mf\u001b[49m\u001b[43m,\u001b[49m\u001b[43m \u001b[49m\u001b[38;5;28;43mself\u001b[39;49m\u001b[38;5;241;43m.\u001b[39;49m\u001b[43mengine\u001b[49m\u001b[43m)\u001b[49m\n",
      "File \u001b[1;32m~\\anaconda3\\lib\\site-packages\\pandas\\io\\parsers\\readers.py:1217\u001b[0m, in \u001b[0;36mTextFileReader._make_engine\u001b[1;34m(self, f, engine)\u001b[0m\n\u001b[0;32m   1213\u001b[0m     mode \u001b[38;5;241m=\u001b[39m \u001b[38;5;124m\"\u001b[39m\u001b[38;5;124mrb\u001b[39m\u001b[38;5;124m\"\u001b[39m\n\u001b[0;32m   1214\u001b[0m \u001b[38;5;66;03m# error: No overload variant of \"get_handle\" matches argument types\u001b[39;00m\n\u001b[0;32m   1215\u001b[0m \u001b[38;5;66;03m# \"Union[str, PathLike[str], ReadCsvBuffer[bytes], ReadCsvBuffer[str]]\"\u001b[39;00m\n\u001b[0;32m   1216\u001b[0m \u001b[38;5;66;03m# , \"str\", \"bool\", \"Any\", \"Any\", \"Any\", \"Any\", \"Any\"\u001b[39;00m\n\u001b[1;32m-> 1217\u001b[0m \u001b[38;5;28mself\u001b[39m\u001b[38;5;241m.\u001b[39mhandles \u001b[38;5;241m=\u001b[39m \u001b[43mget_handle\u001b[49m\u001b[43m(\u001b[49m\u001b[43m  \u001b[49m\u001b[38;5;66;43;03m# type: ignore[call-overload]\u001b[39;49;00m\n\u001b[0;32m   1218\u001b[0m \u001b[43m    \u001b[49m\u001b[43mf\u001b[49m\u001b[43m,\u001b[49m\n\u001b[0;32m   1219\u001b[0m \u001b[43m    \u001b[49m\u001b[43mmode\u001b[49m\u001b[43m,\u001b[49m\n\u001b[0;32m   1220\u001b[0m \u001b[43m    \u001b[49m\u001b[43mencoding\u001b[49m\u001b[38;5;241;43m=\u001b[39;49m\u001b[38;5;28;43mself\u001b[39;49m\u001b[38;5;241;43m.\u001b[39;49m\u001b[43moptions\u001b[49m\u001b[38;5;241;43m.\u001b[39;49m\u001b[43mget\u001b[49m\u001b[43m(\u001b[49m\u001b[38;5;124;43m\"\u001b[39;49m\u001b[38;5;124;43mencoding\u001b[39;49m\u001b[38;5;124;43m\"\u001b[39;49m\u001b[43m,\u001b[49m\u001b[43m \u001b[49m\u001b[38;5;28;43;01mNone\u001b[39;49;00m\u001b[43m)\u001b[49m\u001b[43m,\u001b[49m\n\u001b[0;32m   1221\u001b[0m \u001b[43m    \u001b[49m\u001b[43mcompression\u001b[49m\u001b[38;5;241;43m=\u001b[39;49m\u001b[38;5;28;43mself\u001b[39;49m\u001b[38;5;241;43m.\u001b[39;49m\u001b[43moptions\u001b[49m\u001b[38;5;241;43m.\u001b[39;49m\u001b[43mget\u001b[49m\u001b[43m(\u001b[49m\u001b[38;5;124;43m\"\u001b[39;49m\u001b[38;5;124;43mcompression\u001b[39;49m\u001b[38;5;124;43m\"\u001b[39;49m\u001b[43m,\u001b[49m\u001b[43m \u001b[49m\u001b[38;5;28;43;01mNone\u001b[39;49;00m\u001b[43m)\u001b[49m\u001b[43m,\u001b[49m\n\u001b[0;32m   1222\u001b[0m \u001b[43m    \u001b[49m\u001b[43mmemory_map\u001b[49m\u001b[38;5;241;43m=\u001b[39;49m\u001b[38;5;28;43mself\u001b[39;49m\u001b[38;5;241;43m.\u001b[39;49m\u001b[43moptions\u001b[49m\u001b[38;5;241;43m.\u001b[39;49m\u001b[43mget\u001b[49m\u001b[43m(\u001b[49m\u001b[38;5;124;43m\"\u001b[39;49m\u001b[38;5;124;43mmemory_map\u001b[39;49m\u001b[38;5;124;43m\"\u001b[39;49m\u001b[43m,\u001b[49m\u001b[43m \u001b[49m\u001b[38;5;28;43;01mFalse\u001b[39;49;00m\u001b[43m)\u001b[49m\u001b[43m,\u001b[49m\n\u001b[0;32m   1223\u001b[0m \u001b[43m    \u001b[49m\u001b[43mis_text\u001b[49m\u001b[38;5;241;43m=\u001b[39;49m\u001b[43mis_text\u001b[49m\u001b[43m,\u001b[49m\n\u001b[0;32m   1224\u001b[0m \u001b[43m    \u001b[49m\u001b[43merrors\u001b[49m\u001b[38;5;241;43m=\u001b[39;49m\u001b[38;5;28;43mself\u001b[39;49m\u001b[38;5;241;43m.\u001b[39;49m\u001b[43moptions\u001b[49m\u001b[38;5;241;43m.\u001b[39;49m\u001b[43mget\u001b[49m\u001b[43m(\u001b[49m\u001b[38;5;124;43m\"\u001b[39;49m\u001b[38;5;124;43mencoding_errors\u001b[39;49m\u001b[38;5;124;43m\"\u001b[39;49m\u001b[43m,\u001b[49m\u001b[43m \u001b[49m\u001b[38;5;124;43m\"\u001b[39;49m\u001b[38;5;124;43mstrict\u001b[39;49m\u001b[38;5;124;43m\"\u001b[39;49m\u001b[43m)\u001b[49m\u001b[43m,\u001b[49m\n\u001b[0;32m   1225\u001b[0m \u001b[43m    \u001b[49m\u001b[43mstorage_options\u001b[49m\u001b[38;5;241;43m=\u001b[39;49m\u001b[38;5;28;43mself\u001b[39;49m\u001b[38;5;241;43m.\u001b[39;49m\u001b[43moptions\u001b[49m\u001b[38;5;241;43m.\u001b[39;49m\u001b[43mget\u001b[49m\u001b[43m(\u001b[49m\u001b[38;5;124;43m\"\u001b[39;49m\u001b[38;5;124;43mstorage_options\u001b[39;49m\u001b[38;5;124;43m\"\u001b[39;49m\u001b[43m,\u001b[49m\u001b[43m \u001b[49m\u001b[38;5;28;43;01mNone\u001b[39;49;00m\u001b[43m)\u001b[49m\u001b[43m,\u001b[49m\n\u001b[0;32m   1226\u001b[0m \u001b[43m\u001b[49m\u001b[43m)\u001b[49m\n\u001b[0;32m   1227\u001b[0m \u001b[38;5;28;01massert\u001b[39;00m \u001b[38;5;28mself\u001b[39m\u001b[38;5;241m.\u001b[39mhandles \u001b[38;5;129;01mis\u001b[39;00m \u001b[38;5;129;01mnot\u001b[39;00m \u001b[38;5;28;01mNone\u001b[39;00m\n\u001b[0;32m   1228\u001b[0m f \u001b[38;5;241m=\u001b[39m \u001b[38;5;28mself\u001b[39m\u001b[38;5;241m.\u001b[39mhandles\u001b[38;5;241m.\u001b[39mhandle\n",
      "File \u001b[1;32m~\\anaconda3\\lib\\site-packages\\pandas\\io\\common.py:789\u001b[0m, in \u001b[0;36mget_handle\u001b[1;34m(path_or_buf, mode, encoding, compression, memory_map, is_text, errors, storage_options)\u001b[0m\n\u001b[0;32m    784\u001b[0m \u001b[38;5;28;01melif\u001b[39;00m \u001b[38;5;28misinstance\u001b[39m(handle, \u001b[38;5;28mstr\u001b[39m):\n\u001b[0;32m    785\u001b[0m     \u001b[38;5;66;03m# Check whether the filename is to be opened in binary mode.\u001b[39;00m\n\u001b[0;32m    786\u001b[0m     \u001b[38;5;66;03m# Binary mode does not support 'encoding' and 'newline'.\u001b[39;00m\n\u001b[0;32m    787\u001b[0m     \u001b[38;5;28;01mif\u001b[39;00m ioargs\u001b[38;5;241m.\u001b[39mencoding \u001b[38;5;129;01mand\u001b[39;00m \u001b[38;5;124m\"\u001b[39m\u001b[38;5;124mb\u001b[39m\u001b[38;5;124m\"\u001b[39m \u001b[38;5;129;01mnot\u001b[39;00m \u001b[38;5;129;01min\u001b[39;00m ioargs\u001b[38;5;241m.\u001b[39mmode:\n\u001b[0;32m    788\u001b[0m         \u001b[38;5;66;03m# Encoding\u001b[39;00m\n\u001b[1;32m--> 789\u001b[0m         handle \u001b[38;5;241m=\u001b[39m \u001b[38;5;28;43mopen\u001b[39;49m\u001b[43m(\u001b[49m\n\u001b[0;32m    790\u001b[0m \u001b[43m            \u001b[49m\u001b[43mhandle\u001b[49m\u001b[43m,\u001b[49m\n\u001b[0;32m    791\u001b[0m \u001b[43m            \u001b[49m\u001b[43mioargs\u001b[49m\u001b[38;5;241;43m.\u001b[39;49m\u001b[43mmode\u001b[49m\u001b[43m,\u001b[49m\n\u001b[0;32m    792\u001b[0m \u001b[43m            \u001b[49m\u001b[43mencoding\u001b[49m\u001b[38;5;241;43m=\u001b[39;49m\u001b[43mioargs\u001b[49m\u001b[38;5;241;43m.\u001b[39;49m\u001b[43mencoding\u001b[49m\u001b[43m,\u001b[49m\n\u001b[0;32m    793\u001b[0m \u001b[43m            \u001b[49m\u001b[43merrors\u001b[49m\u001b[38;5;241;43m=\u001b[39;49m\u001b[43merrors\u001b[49m\u001b[43m,\u001b[49m\n\u001b[0;32m    794\u001b[0m \u001b[43m            \u001b[49m\u001b[43mnewline\u001b[49m\u001b[38;5;241;43m=\u001b[39;49m\u001b[38;5;124;43m\"\u001b[39;49m\u001b[38;5;124;43m\"\u001b[39;49m\u001b[43m,\u001b[49m\n\u001b[0;32m    795\u001b[0m \u001b[43m        \u001b[49m\u001b[43m)\u001b[49m\n\u001b[0;32m    796\u001b[0m     \u001b[38;5;28;01melse\u001b[39;00m:\n\u001b[0;32m    797\u001b[0m         \u001b[38;5;66;03m# Binary mode\u001b[39;00m\n\u001b[0;32m    798\u001b[0m         handle \u001b[38;5;241m=\u001b[39m \u001b[38;5;28mopen\u001b[39m(handle, ioargs\u001b[38;5;241m.\u001b[39mmode)\n",
      "\u001b[1;31mFileNotFoundError\u001b[0m: [Errno 2] No such file or directory: 'elevInspect.csv'"
     ]
    }
   ],
   "source": [
    "df2=pd.read_csv('elevInspect.csv',encoding='euc-kr')"
   ]
  },
  {
   "cell_type": "code",
   "execution_count": 23,
   "id": "9b9ed563-6fc2-4811-bd69-d82ccbc87b20",
   "metadata": {},
   "outputs": [
    {
     "ename": "NameError",
     "evalue": "name 'df2' is not defined",
     "output_type": "error",
     "traceback": [
      "\u001b[1;31m---------------------------------------------------------------------------\u001b[0m",
      "\u001b[1;31mNameError\u001b[0m                                 Traceback (most recent call last)",
      "Input \u001b[1;32mIn [23]\u001b[0m, in \u001b[0;36m<cell line: 1>\u001b[1;34m()\u001b[0m\n\u001b[1;32m----> 1\u001b[0m df_merge\u001b[38;5;241m=\u001b[39mpd\u001b[38;5;241m.\u001b[39mmerge(df0,\u001b[43mdf2\u001b[49m,on\u001b[38;5;241m=\u001b[39m\u001b[38;5;124m'\u001b[39m\u001b[38;5;124melevatorNo\u001b[39m\u001b[38;5;124m'\u001b[39m)\n",
      "\u001b[1;31mNameError\u001b[0m: name 'df2' is not defined"
     ]
    }
   ],
   "source": [
    "df_merge=pd.merge(df0,df2,on='elevatorNo')"
   ]
  },
  {
   "cell_type": "code",
   "execution_count": 24,
   "id": "6cccf910-93a9-4648-9c14-1462ce48d57e",
   "metadata": {},
   "outputs": [
    {
     "ename": "NameError",
     "evalue": "name 'df_merge' is not defined",
     "output_type": "error",
     "traceback": [
      "\u001b[1;31m---------------------------------------------------------------------------\u001b[0m",
      "\u001b[1;31mNameError\u001b[0m                                 Traceback (most recent call last)",
      "Input \u001b[1;32mIn [24]\u001b[0m, in \u001b[0;36m<cell line: 1>\u001b[1;34m()\u001b[0m\n\u001b[1;32m----> 1\u001b[0m \u001b[43mdf_merge\u001b[49m\n",
      "\u001b[1;31mNameError\u001b[0m: name 'df_merge' is not defined"
     ]
    }
   ],
   "source": [
    "df_merge"
   ]
  },
  {
   "cell_type": "code",
   "execution_count": 25,
   "id": "a2f96dbb-ed74-4802-9a1e-9561e5c7620c",
   "metadata": {},
   "outputs": [
    {
     "name": "stdout",
     "output_type": "stream",
     "text": [
      "Requirement already satisfied: python-pptx in c:\\users\\user\\anaconda3\\lib\\site-packages (0.6.21)Note: you may need to restart the kernel to use updated packages.\n",
      "\n",
      "Requirement already satisfied: Pillow>=3.3.2 in c:\\users\\user\\anaconda3\\lib\\site-packages (from python-pptx) (9.0.1)\n",
      "Requirement already satisfied: XlsxWriter>=0.5.7 in c:\\users\\user\\anaconda3\\lib\\site-packages (from python-pptx) (3.0.3)\n",
      "Requirement already satisfied: lxml>=3.1.0 in c:\\users\\user\\anaconda3\\lib\\site-packages (from python-pptx) (4.8.0)\n"
     ]
    }
   ],
   "source": [
    "pip install python-pptx"
   ]
  },
  {
   "cell_type": "code",
   "execution_count": null,
   "id": "5c071af2-3bb7-40d5-a478-2502c1917bee",
   "metadata": {},
   "outputs": [],
   "source": [
    "from pptx import Presentation"
   ]
  },
  {
   "cell_type": "code",
   "execution_count": null,
   "id": "0dfd424f-fdc4-4943-a363-4070ba652fc5",
   "metadata": {},
   "outputs": [],
   "source": [
    "parsed= Presentation('ppt3.pptx')"
   ]
  },
  {
   "cell_type": "code",
   "execution_count": null,
   "id": "e42510a4-8367-4ffd-9dc6-90dbeb968205",
   "metadata": {},
   "outputs": [],
   "source": [
    "parsed"
   ]
  },
  {
   "cell_type": "code",
   "execution_count": null,
   "id": "0aec1825-8c94-40eb-8701-72ce31760c2b",
   "metadata": {},
   "outputs": [],
   "source": [
    "parsed.slides[1].shapes"
   ]
  },
  {
   "cell_type": "code",
   "execution_count": null,
   "id": "a957a8cc-2322-424e-ad23-28bb0a2469e3",
   "metadata": {},
   "outputs": [],
   "source": []
  },
  {
   "cell_type": "code",
   "execution_count": null,
   "id": "ad65b894-a12e-4a6b-9dae-c134cb959f20",
   "metadata": {},
   "outputs": [],
   "source": []
  },
  {
   "cell_type": "code",
   "execution_count": null,
   "id": "fe9163fc-fe43-4776-83b4-bf2abd1870b8",
   "metadata": {},
   "outputs": [],
   "source": []
  }
 ],
 "metadata": {
  "kernelspec": {
   "display_name": "Python 3 (ipykernel)",
   "language": "python",
   "name": "python3"
  },
  "language_info": {
   "codemirror_mode": {
    "name": "ipython",
    "version": 3
   },
   "file_extension": ".py",
   "mimetype": "text/x-python",
   "name": "python",
   "nbconvert_exporter": "python",
   "pygments_lexer": "ipython3",
   "version": "3.9.12"
  }
 },
 "nbformat": 4,
 "nbformat_minor": 5
}
