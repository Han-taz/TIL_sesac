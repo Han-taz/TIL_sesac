{
 "cells": [
  {
   "cell_type": "code",
   "execution_count": 4,
   "id": "af6d1a34-fe3c-4294-a524-9a76b03d43cb",
   "metadata": {},
   "outputs": [],
   "source": [
    "from pptx import Presentation\n",
    "\n",
    "prs = Presentation()\n",
    "title_slide_layout = prs.slide_layouts[0]\n",
    "slide = prs.slides.add_slide(title_slide_layout)\n",
    "title = slide.shapes.title\n",
    "subtitle = slide.placeholders[1]\n",
    "\n",
    "title.text = \"Hello, World!\"\n",
    "subtitle.text = \"python-pptx was here!\"\n",
    "\n",
    "#__________________________ 제목\n",
    "\n",
    "bullet_slide_layout = prs.slide_layouts[1]\n",
    "\n",
    "slide = prs.slides.add_slide(bullet_slide_layout)\n",
    "shapes = slide.shapes\n",
    "\n",
    "title_shape = shapes.title\n",
    "body_shape = shapes.placeholders[1]\n",
    "\n",
    "title_shape.text = 'Adding a Bullet Slide'\n",
    "\n",
    "tf = body_shape.text_frame\n",
    "tf.text = 'Find the bullet slide layout'\n",
    "\n",
    "p = tf.add_paragraph()\n",
    "p.text = 'Use _TextFrame.text for first bullet'\n",
    "p.level = 1\n",
    "\n",
    "p = tf.add_paragraph()\n",
    "p.text = 'Use _TextFrame.add_paragraph() for subsequent bullets'\n",
    "p.level = 2\n",
    "#__________________________ 제목\n",
    "\n",
    "bullet_slide_layout = prs.slide_layouts[1]\n",
    "slide = prs.slides.add_slide(bullet_slide_layout)\n",
    "\n",
    "slide = prs.slides.add_slide(bullet_slide_layout)\n",
    "shapes = slide.shapes\n",
    "\n",
    "title_shape = shapes.title\n",
    "body_shape = shapes.placeholders[1]\n",
    "\n",
    "title_shape.text = '제목입니다'\n",
    "\n",
    "tf = body_shape.text_frame\n",
    "tf.text = '시험중입니다.'\n",
    "\n",
    "p = tf.add_paragraph()\n",
    "p.text = 'p레벨 삭제'\n",
    "\n",
    "\n",
    "p = tf.add_paragraph()\n",
    "p.text = 'Use _TextFrame.add_paragraph() for subsequent bullets'\n",
    "p.level = 2\n",
    "\n",
    "\n",
    "\n",
    "prs.save('ppt3.pptx')\n"
   ]
  },
  {
   "cell_type": "code",
   "execution_count": 1,
   "id": "2ef59412-a0e7-44bd-baa2-8b1e713f7ef8",
   "metadata": {},
   "outputs": [],
   "source": [
    "from pptx import Presentation\n",
    "\n",
    "prs = Presentation('ppt3.pptx')\n",
    "\n",
    "# text_runs will be populated with a list of strings,\n",
    "# one for each text run in presentation\n",
    "text_runs = []\n",
    "\n",
    "for slide in prs.slides:\n",
    "    for shape in slide.shapes:\n",
    "        if not shape.has_text_frame:\n",
    "            continue\n",
    "        for paragraph in shape.text_frame.paragraphs:\n",
    "            for run in paragraph.runs:\n",
    "                text_runs.append(run.text)"
   ]
  },
  {
   "cell_type": "code",
   "execution_count": 3,
   "id": "6b6def9a-a6e1-4843-84d9-449112ef6b71",
   "metadata": {},
   "outputs": [
    {
     "data": {
      "text/plain": [
       "['청년취업사관학교',\n",
       " '점심메뉴',\n",
       " '사람',\n",
       " '반장',\n",
       " '에이스',\n",
       " '1',\n",
       " '에이스',\n",
       " '2',\n",
       " '삼형제',\n",
       " 'Hello, World!',\n",
       " 'python-pptx was here!',\n",
       " 'Adding a Bullet Slide',\n",
       " 'Find the bullet slide layout',\n",
       " 'Use _TextFrame.text for first bullet',\n",
       " 'Use _TextFrame.add_paragraph() for subsequent bullets',\n",
       " '제목입니다',\n",
       " '시험중입니다.',\n",
       " 'p레벨 삭제',\n",
       " 'Use _TextFrame.add_paragraph() for subsequent bullets']"
      ]
     },
     "execution_count": 3,
     "metadata": {},
     "output_type": "execute_result"
    }
   ],
   "source": [
    "text_runs"
   ]
  },
  {
   "cell_type": "code",
   "execution_count": 5,
   "id": "61e0f2a8-5f77-4cf4-a286-a5021f12eb8e",
   "metadata": {},
   "outputs": [],
   "source": [
    "parsed = Presentation('ppt3.pptx')"
   ]
  },
  {
   "cell_type": "code",
   "execution_count": 14,
   "id": "5c15e78f-6a2f-4182-b084-dea1a7c01bc2",
   "metadata": {},
   "outputs": [],
   "source": [
    "from pptx.util import Pt\n",
    "from pptx.dml.color import RGBColor"
   ]
  },
  {
   "cell_type": "code",
   "execution_count": 15,
   "id": "fdbcc8ef-5db5-4ba0-b175-b3844132bd74",
   "metadata": {},
   "outputs": [],
   "source": [
    "for n,shape in enumerate(parsed.slides[0].shapes):\n",
    "    if n==0:\n",
    "        \n",
    "        tf=shape.text_frame\n",
    "        tf.clear()\n",
    "        para=tf.paragraphs[0]\n",
    "        run=para.add_run()\n",
    "        run.text='청년취업사관학교2'\n",
    "        font=run.font\n",
    "        font.size=Pt(20)\n",
    "        font.color.rgb=RGBColor(100,100,100)\n",
    "        \n",
    "        \n",
    "    \n",
    "parsed.save('ppt3.pptx')"
   ]
  },
  {
   "cell_type": "code",
   "execution_count": null,
   "id": "8fcb1fda-0ae5-4d24-836e-79bf84976363",
   "metadata": {},
   "outputs": [],
   "source": []
  }
 ],
 "metadata": {
  "kernelspec": {
   "display_name": "Python 3 (ipykernel)",
   "language": "python",
   "name": "python3"
  },
  "language_info": {
   "codemirror_mode": {
    "name": "ipython",
    "version": 3
   },
   "file_extension": ".py",
   "mimetype": "text/x-python",
   "name": "python",
   "nbconvert_exporter": "python",
   "pygments_lexer": "ipython3",
   "version": "3.9.12"
  }
 },
 "nbformat": 4,
 "nbformat_minor": 5
}
