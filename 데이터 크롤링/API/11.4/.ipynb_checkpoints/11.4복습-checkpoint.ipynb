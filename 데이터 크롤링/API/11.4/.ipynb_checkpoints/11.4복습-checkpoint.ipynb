{
 "cells": [
  {
   "cell_type": "code",
   "execution_count": 1,
   "id": "51075c49-d157-4b85-9313-e277909a00ea",
   "metadata": {},
   "outputs": [],
   "source": [
    "import pandas as pd\n",
    "import requests\n",
    "from bs4 import BeautifulSoup\n",
    "from tqdm import tqdm\n",
    "import numpy as np\n",
    "\n",
    "### 뷰티풀숩이랑 리퀘스트를 함수로 만들어 보기"
   ]
  },
  {
   "cell_type": "markdown",
   "id": "79793e53-819d-4da0-aac2-72ca0afd4955",
   "metadata": {},
   "source": [
    "# def test(*args)= 매개변수가 몇 개 들어올지 모를 때  \n",
    "# def test(**kwargs)= 매개 변수 이름을 모를 때  \n",
    "# 내장함수\n",
    "# 패키지함수\n",
    "# 사용자정의 함수\n"
   ]
  },
  {
   "cell_type": "code",
   "execution_count": 2,
   "id": "d762104f-1fc1-4b0a-807f-4fe70b8beaf9",
   "metadata": {},
   "outputs": [],
   "source": [
    "###from sklearn.tree import"
   ]
  },
  {
   "cell_type": "code",
   "execution_count": 3,
   "id": "ae6c3748-0695-48ec-830e-06392f937efe",
   "metadata": {},
   "outputs": [],
   "source": [
    "#head=None\n",
    "#컬럼이 없을 때 0번 데이터가 컬럼으로 올라가는걸 막는다\n",
    "#df.dtype( int objet를 찾아 본다)"
   ]
  },
  {
   "cell_type": "code",
   "execution_count": 4,
   "id": "d2908c8e-4e0a-43b5-aa2d-0fe2ba7db289",
   "metadata": {},
   "outputs": [],
   "source": [
    "#pd.to_datetime   "
   ]
  },
  {
   "cell_type": "code",
   "execution_count": 5,
   "id": "c96c55bb-ab11-4f5f-86eb-4458fe1d78c7",
   "metadata": {},
   "outputs": [],
   "source": [
    "def soup_get(url):\n",
    "    req=requests.get(url)\n",
    "    soup=BeautifulSoup(req.text,'html.parser')\n",
    "    return soup"
   ]
  },
  {
   "cell_type": "code",
   "execution_count": 6,
   "id": "4cbb6dd3-17ce-4e4a-bda7-c3e49c47e64a",
   "metadata": {},
   "outputs": [],
   "source": [
    "url='https://www.imdb.com/chart/boxoffice/?ref_=nv_ch_cht'"
   ]
  },
  {
   "cell_type": "code",
   "execution_count": 7,
   "id": "419148f1-a0e8-4d92-867c-be5e4a137250",
   "metadata": {
    "tags": []
   },
   "outputs": [],
   "source": [
    "soup=soup_get(url)"
   ]
  },
  {
   "cell_type": "code",
   "execution_count": 8,
   "id": "88726df8-3961-43ba-ac6b-9034e6197254",
   "metadata": {
    "tags": []
   },
   "outputs": [
    {
     "data": {
      "text/plain": [
       "\"IMDb Top Box Office - IMDb\\n\\n\\n\\n\\n\\n\\n\\n\\n\\n\\n\\n\\n\\n\\n\\n\\n\\n\\n\\n\\nIMDb Top Box Office\\n\\n\\n\\n\\n\\n\\n\\n\\n\\n\\n\\n\\n\\n\\n\\n\\n\\n\\n\\n\\n\\n\\n\\n\\n\\n\\n\\n\\n\\n\\n\\n\\n\\n\\n\\n\\n\\n\\n\\n\\n\\n\\n\\n\\n\\n\\n\\n\\nMenuMoviesRelease CalendarTop 250 MoviesMost Popular MoviesBrowse Movies by GenreTop Box OfficeShowtimes & TicketsMovie NewsIndia Movie SpotlightTV ShowsWhat's on TV & StreamingTop 250 TV ShowsMost Popular TV ShowsBrowse TV Shows by GenreTV NewsIndia TV SpotlightWatchWhat to WatchLatest TrailersIMDb OriginalsIMDb PicksIMDb PodcastsAwards & EventsOscarsBest Picture WinnersBest Picture WinnersEmmysSTARmeter AwardsSan Diego Comic-ConNew York Comic-ConSundance Film FestivalToronto Int'l Film FestivalAwards CentralFestival CentralAll EventsCelebsBorn TodayMost Popular CelebsMost Popular CelebsCelebrity NewsCommunityHelp CenterContributor ZonePollsFor Industry ProfessionalsAllAllTitlesTV EpisodesCelebsCompaniesKeywordsAdvanced SearchWatchlistSign InENFully supportedEnglish (United States)Partially supportedFrançais (Canada)Français (France)Deutsch (Deutschland)हिंदी (भारत)Italiano (Italia)Português (Brasil)Español (España)Español (México) \\n\\n\\n\\n\\n\\n\\n\\n\\n\\n\\n\\n\\n\\n\\n\\n\\n\\n\\n\\n\\n\\n\\n\\n\\n\\n\\nTop Box Office (US)\\n\\n\\nWeekend of October 28 - 30, 2022\\n\\n\\n\\n\\n\\n\\n\\n\\n\\n\\n\\n\\n\\nTitle\\nWeekend\\nGross\\nWeeks\\n\\n\\n\\n\\n\\n\\n \\n \\nBlack Adam\\n\\n\\n                            $27.5M\\n                    \\n\\n$110.9M\\n\\n2\\n\\n\\n\\n\\n \\n \\nTicket to Paradise\\n\\n\\n                            $9.9M\\n                    \\n\\n$33.6M\\n\\n2\\n\\n\\n\\n\\n \\n \\nPrey for the Devil\\n\\n\\n                            $7.2M\\n                    \\n\\n$7.2M\\n\\n1\\n\\n\\n\\n\\n \\n \\nSmile\\n\\n\\n                            $5.4M\\n                    \\n\\n$92.8M\\n\\n5\\n\\n\\n\\n\\n \\n \\nHalloween Ends\\n\\n\\n                            $4.1M\\n                    \\n\\n$60.6M\\n\\n3\\n\\n\\n\\n\\n \\n \\nTill\\n\\n\\n                            $2.7M\\n                    \\n\\n$3.6M\\n\\n3\\n\\n\\n\\n\\n \\n \\nLyle, Lyle, Crocodile\\n\\n\\n                            $2.7M\\n                    \\n\\n$32.5M\\n\\n4\\n\\n\\n\\n\\n \\n \\nTerrifier 2\\n\\n\\n                            $1.9M\\n                    \\n\\n$7.7M\\n\\n4\\n\\n\\n\\n\\n \\n \\nThe Woman King\\n\\n\\n                            $1.1M\\n                    \\n\\n$64.6M\\n\\n7\\n\\n\\n\\n\\n \\n \\nTár\\n\\n\\n                            $1.0M\\n                    \\n\\n$2.5M\\n\\n4\\n\\n\\n\\n\\n\\n            Reported by\\n    \\n                Box Office Mojo\\n    \\n            © 2022\\n        \\n\\n\\n            See more box office results at BoxOfficeMojo.com\\n    \\n        \\xa0»\\n    \\n\\n\\n\\n\\n\\n\\n\\n\\n\\n\\n\\n\\n\\n   IMDb Charts           Box Office       Most Popular Movies       Top 250 Movies       Top Rated English Movies       Most Popular TV Shows       Top 250 TV Shows       Top Rated Indian Movies       Lowest Rated Movies         \\n\\n\\n\\n\\n\\n\\n\\n\\n\\n\\n\\n\\n\\nClear your history\\n\\nRecently Viewed\\n\\n\\xa0\\n\\n\\n\\n\\n\\n\\n\\nGet the IMDb AppSign in for more accessSign in for more accessGet the IMDb AppHelpSite IndexIMDbProBox Office MojoIMDb DeveloperPress RoomAdvertisingJobsConditions of UsePrivacy PolicyInterest-Based AdsIMDb, an Amazon company© 1990-2022 by IMDb.com, Inc.\""
      ]
     },
     "execution_count": 8,
     "metadata": {},
     "output_type": "execute_result"
    }
   ],
   "source": [
    "soup.text.strip()"
   ]
  },
  {
   "cell_type": "code",
   "execution_count": 9,
   "id": "0d1d1ae4-8298-40a5-8450-da5dcbb61fe2",
   "metadata": {},
   "outputs": [],
   "source": [
    "title=soup.select('#boxoffice > table > tbody > tr>td>td>a')"
   ]
  },
  {
   "cell_type": "code",
   "execution_count": 10,
   "id": "fb595de0-ba28-4f37-9b5f-809f135e41e9",
   "metadata": {},
   "outputs": [
    {
     "data": {
      "text/plain": [
       "[<a href=\"/title/tt6443346\" title=\"Jaume Collet-Serra (dir.), Dwayne Johnson, Aldis Hodge\">Black Adam</a>,\n",
       " <a href=\"/title/tt14109724\" title=\"Ol Parker (dir.), George Clooney, Sean Lynch\">Ticket to Paradise</a>,\n",
       " <a href=\"/title/tt9271672\" title=\"Daniel Stamm (dir.), Jacqueline Byers, Virginia Madsen\">Prey for the Devil</a>,\n",
       " <a href=\"/title/tt15474916\" title=\"Parker Finn (dir.), Sosie Bacon, Jessie T. Usher\">Smile</a>,\n",
       " <a href=\"/title/tt10665342\" title=\"David Gordon Green (dir.), Jamie Lee Curtis, Andi Matichak\">Halloween Ends</a>,\n",
       " <a href=\"/title/tt4960748\" title=\"Chinonye Chukwu (dir.), Danielle Deadwyler, Jalyn Hall\">Till</a>,\n",
       " <a href=\"/title/tt14668630\" title=\"Josh Gordon (dir.), Shawn Mendes, Javier Bardem\">Lyle, Lyle, Crocodile</a>,\n",
       " <a href=\"/title/tt10403420\" title=\"Damien Leone (dir.), Lauren LaVera, David Howard Thornton\">Terrifier 2</a>,\n",
       " <a href=\"/title/tt8093700\" title=\"Gina Prince-Bythewood (dir.), Viola Davis, Thuso Mbedu\">The Woman King</a>,\n",
       " <a href=\"/title/tt14444726\" title=\"Todd Field (dir.), Cate Blanchett, Noémie Merlant\">Tár</a>]"
      ]
     },
     "execution_count": 10,
     "metadata": {},
     "output_type": "execute_result"
    }
   ],
   "source": [
    "title"
   ]
  },
  {
   "cell_type": "code",
   "execution_count": 11,
   "id": "c013574e-d8bd-4d90-92c8-79c57ede774b",
   "metadata": {},
   "outputs": [],
   "source": [
    "data=[]\n",
    "for t in title:\n",
    "    temp=[]\n",
    "    temp.append(t.text)\n",
    "    temp.append(t['href'].replace('/title/',''))\n",
    "    data.append(temp)"
   ]
  },
  {
   "cell_type": "code",
   "execution_count": 12,
   "id": "2c2f107d-8593-46ed-8b95-d8c5fd10b011",
   "metadata": {},
   "outputs": [
    {
     "data": {
      "text/plain": [
       "[['Black Adam', 'tt6443346'],\n",
       " ['Ticket to Paradise', 'tt14109724'],\n",
       " ['Prey for the Devil', 'tt9271672'],\n",
       " ['Smile', 'tt15474916'],\n",
       " ['Halloween Ends', 'tt10665342'],\n",
       " ['Till', 'tt4960748'],\n",
       " ['Lyle, Lyle, Crocodile', 'tt14668630'],\n",
       " ['Terrifier 2', 'tt10403420'],\n",
       " ['The Woman King', 'tt8093700'],\n",
       " ['Tár', 'tt14444726']]"
      ]
     },
     "execution_count": 12,
     "metadata": {},
     "output_type": "execute_result"
    }
   ],
   "source": [
    "data"
   ]
  },
  {
   "cell_type": "code",
   "execution_count": 13,
   "id": "382e1282-0fdb-43ce-b535-a0d8eb0b3e96",
   "metadata": {},
   "outputs": [],
   "source": [
    "df=pd.DataFrame(data,columns=['movie','code'])"
   ]
  },
  {
   "cell_type": "code",
   "execution_count": 14,
   "id": "54a8517c-69d8-4862-9e7f-51f86a18ca3d",
   "metadata": {},
   "outputs": [],
   "source": [
    "url2='https://www.imdb.com/title/tt6443346/reviews?spoiler=hide&sort=curated&dir=desc&ratingFilter=0'"
   ]
  },
  {
   "cell_type": "code",
   "execution_count": 15,
   "id": "24e34fab-e009-4bab-8598-9d531c365a05",
   "metadata": {},
   "outputs": [],
   "source": [
    "for i in df['code'][:2]:\n",
    "    url2='https://www.imdb.com/title/tt6443346/reviews?spoiler=hide&sort=curated&dir=desc&ratingFilter=0'\n",
    "    soup2=soup_get(url2)\n",
    "    review=soup2.select('#main > section > div.lister > div.lister-list > div:nth-child(1)')\n",
    "    \n",
    "    "
   ]
  },
  {
   "cell_type": "code",
   "execution_count": 16,
   "id": "fdef8fda-c1d1-45c4-a359-3c16045c5f4e",
   "metadata": {
    "tags": []
   },
   "outputs": [
    {
     "data": {
      "text/plain": [
       "[<div class=\"lister-item mode-detail imdb-user-review collapsable\" data-review-id=\"rw8623676\" data-vote-url=\"/title/tt6443346/review/rw8623676/vote/interesting\">\n",
       " <div class=\"review-container\">\n",
       " <div class=\"lister-item-content\">\n",
       " <div class=\"ipl-ratings-bar\">\n",
       " <span class=\"rating-other-user-rating\">\n",
       " <svg class=\"ipl-icon ipl-star-icon\" fill=\"#000000\" height=\"24\" viewbox=\"0 0 24 24\" width=\"24\" xmlns=\"http://www.w3.org/2000/svg\">\n",
       " <path d=\"M0 0h24v24H0z\" fill=\"none\"></path>\n",
       " <path d=\"M12 17.27L18.18 21l-1.64-7.03L22 9.24l-7.19-.61L12 2 9.19 8.63 2 9.24l5.46 4.73L5.82 21z\"></path>\n",
       " <path d=\"M0 0h24v24H0z\" fill=\"none\"></path>\n",
       " </svg>\n",
       " <span>8</span><span class=\"point-scale\">/10</span>\n",
       " </span>\n",
       " </div>\n",
       " <a class=\"title\" href=\"/review/rw8623676/\"> Black Adam Is Not Perfect But It's Still Great, It's Still Fun, It's Still Fascinating, It's Still Exciting, And I Enjoy The Hell Out Of It\n",
       " </a> <div class=\"display-name-date\">\n",
       " <span class=\"display-name-link\"><a href=\"/user/ur105506099/\">HabibieHakim123</a></span><span class=\"review-date\">20 October 2022</span>\n",
       " </div>\n",
       " <div class=\"content\">\n",
       " <div class=\"text show-more__control\">Black Adam is not without its flaws, but i still enjoy the hell out of it, the problem that i have with Black Adam is that i never really buy all the Kahndaq people 100%, in the end i only still buy half of it, but i still fine with it, it's not like their characters are terrible, it just most of the time they are doing just a poor performance except the actress who played the mom and probably Ishmael for the most part, at least i still got some of the laughs from one of them, some of the slower scene was sometimes misplaced including some of the flashback, and some nit picky here and there, the rest of Black Adam is an exciting comic book film that fills with a very impressive battle that also fills with dazzling visual and cool style, Black Adam himself played incredibly well by Dwayne Johnson, he was just unstoppable in the most badass way, Justice Society has just become one of my favorite superhero team specifically in movies, they are fun and they are great, Hawkman, Doctor Fate, Cyclone, and Atom Smasher all of them are a hit for me, i love every single one of them, though i do wish they have something more with Doctor Fate because i think Pierce Brosnan was just unbelievably good playing the characters, again at least we do still have that one moment, i would love to see Justice Society again in movie maybe even their own movie, i would also love to have a specifically Doctor Fate standalone or a prequel film, and last but not least, the main villain, i think the main villain is doing as fine as most of the hero in the movie, so overall Black Adam is a quite a fun ride, 2 hours did feel quite goes by, an exciting back and forth battle that fills with dazzling visual effect and style, great score, great sound, great performances for most of the cast, being the first original DCEU movie that release in theaters only since WW84, Black Adam is not perfect but it's still great, it's still fun, it's still fascinating, it's still exciting, and i enjoy the hell out of it.</div>\n",
       " <div class=\"actions text-muted\">\n",
       "                     234 out of 310 found this helpful.\n",
       "                         <span>\n",
       "                             Was this review helpful? <a href=\"/registration/signin\"> Sign in</a> to vote.\n",
       "                         </span>\n",
       " <br/>\n",
       " <a href=\"/review/rw8623676/\">Permalink</a>\n",
       " </div>\n",
       " </div>\n",
       " </div>\n",
       " <div class=\"clear\"></div>\n",
       " </div>\n",
       " <div class=\"gradient-expander hidden show-more\">\n",
       " <div class=\"gradient-container show-more__control\"></div>\n",
       " <div class=\"gradient-footer\">\n",
       " <div class=\"ipl-expander\">\n",
       " <div class=\"ipl-expander__container\">\n",
       " <div class=\"expander-icon-wrapper show-more__control\">\n",
       " <svg class=\"ipl-expander__icon expander-icon\" height=\"8\" viewbox=\"0 0 12 8\" width=\"12\" xmlns=\"http://www.w3.org/2000/svg\">\n",
       " <path d=\"M10.197 0L6 4.304 1.803 0 0 1.85 6 8l6-6.15\" fill=\"#2572B3\" fill-rule=\"evenodd\"></path>\n",
       " </svg>\n",
       " </div>\n",
       " </div>\n",
       " </div>\n",
       " </div>\n",
       " </div>\n",
       " </div>]"
      ]
     },
     "execution_count": 16,
     "metadata": {},
     "output_type": "execute_result"
    }
   ],
   "source": [
    "review"
   ]
  },
  {
   "cell_type": "code",
   "execution_count": 17,
   "id": "1d1a5d6f-c0e5-476e-9a3e-1c7ccbeabe0d",
   "metadata": {},
   "outputs": [
    {
     "data": {
      "text/plain": [
       "\"Black Adam Is Not Perfect But It's Still Great, It's Still Fun, It's Still Fascinating, It's Still Exciting, And I Enjoy The Hell Out Of It\""
      ]
     },
     "execution_count": 17,
     "metadata": {},
     "output_type": "execute_result"
    }
   ],
   "source": [
    "review[0].find('a',{'class':'title'}).text.strip()"
   ]
  },
  {
   "cell_type": "code",
   "execution_count": 18,
   "id": "349efc6a-bd82-4d43-81cd-8a0aadba6fb9",
   "metadata": {},
   "outputs": [
    {
     "data": {
      "text/plain": [
       "\"Black Adam is not without its flaws, but i still enjoy the hell out of it, the problem that i have with Black Adam is that i never really buy all the Kahndaq people 100%, in the end i only still buy half of it, but i still fine with it, it's not like their characters are terrible, it just most of the time they are doing just a poor performance except the actress who played the mom and probably Ishmael for the most part, at least i still got some of the laughs from one of them, some of the slower scene was sometimes misplaced including some of the flashback, and some nit picky here and there, the rest of Black Adam is an exciting comic book film that fills with a very impressive battle that also fills with dazzling visual and cool style, Black Adam himself played incredibly well by Dwayne Johnson, he was just unstoppable in the most badass way, Justice Society has just become one of my favorite superhero team specifically in movies, they are fun and they are great, Hawkman, Doctor Fate, Cyclone, and Atom Smasher all of them are a hit for me, i love every single one of them, though i do wish they have something more with Doctor Fate because i think Pierce Brosnan was just unbelievably good playing the characters, again at least we do still have that one moment, i would love to see Justice Society again in movie maybe even their own movie, i would also love to have a specifically Doctor Fate standalone or a prequel film, and last but not least, the main villain, i think the main villain is doing as fine as most of the hero in the movie, so overall Black Adam is a quite a fun ride, 2 hours did feel quite goes by, an exciting back and forth battle that fills with dazzling visual effect and style, great score, great sound, great performances for most of the cast, being the first original DCEU movie that release in theaters only since WW84, Black Adam is not perfect but it's still great, it's still fun, it's still fascinating, it's still exciting, and i enjoy the hell out of it.\""
      ]
     },
     "execution_count": 18,
     "metadata": {},
     "output_type": "execute_result"
    }
   ],
   "source": [
    "review[0].find('div',{'class':'text show-more__control'}).text.strip()"
   ]
  },
  {
   "cell_type": "code",
   "execution_count": 19,
   "id": "44b8ef4a-3a84-4094-bf35-71a92187c9ae",
   "metadata": {},
   "outputs": [
    {
     "data": {
      "text/plain": [
       "'8'"
      ]
     },
     "execution_count": 19,
     "metadata": {},
     "output_type": "execute_result"
    }
   ],
   "source": [
    "review[0].find('span',class_=False).text.strip()"
   ]
  },
  {
   "cell_type": "code",
   "execution_count": 20,
   "id": "9f9512cf-5033-41c0-b882-4ad0b6c10649",
   "metadata": {
    "jupyter": {
     "source_hidden": true
    },
    "tags": []
   },
   "outputs": [],
   "source": [
    "# [<div class=\"lister-item mode-detail imdb-user-review collapsable\" data-review-id=\"rw8623676\" data-vote-url=\"/title/tt6443346/review/rw8623676/vote/interesting\">\n",
    "#  <div class=\"review-container\">\n",
    "#  <div class=\"lister-item-content\">\n",
    "#  <div class=\"ipl-ratings-bar\">\n",
    "#  <span class=\"rating-other-user-rating\">\n",
    "#  <svg class=\"ipl-icon ipl-star-icon\" fill=\"#000000\" height=\"24\" viewbox=\"0 0 24 24\" width=\"24\" xmlns=\"http://www.w3.org/2000/svg\">\n",
    "#  <path d=\"M0 0h24v24H0z\" fill=\"none\"></path>\n",
    "#  <path d=\"M12 17.27L18.18 21l-1.64-7.03L22 9.24l-7.19-.61L12 2 9.19 8.63 2 9.24l5.46 4.73L5.82 21z\"></path>\n",
    "#  <path d=\"M0 0h24v24H0z\" fill=\"none\"></path>\n",
    "#  </svg>\n",
    "#  <span>8</span><span class=\"point-scale\">/10</span>\n",
    "#  </span>\n",
    "#  </div>\n",
    "#  <a class=\"title\" href=\"/review/rw8623676/\"> Black Adam Is Not Perfect But It's Still Great, It's Still Fun, It's Still Fascinating, It's Still Exciting, And I Enjoy The Hell Out Of It\n",
    "#  </a> <div class=\"display-name-date\">\n",
    "#  <span class=\"display-name-link\"><a href=\"/user/ur105506099/\">HabibieHakim123</a></span><span class=\"review-date\">20 October 2022</span>\n",
    "#  </div>\n",
    "#  <div class=\"content\">\n",
    "#  <div class=\"text show-more__control\">Black Adam is not without its flaws, but i still enjoy the hell out of it, the problem that i have with Black Adam is that i never really buy all the Kahndaq people 100%, in the end i only still buy half of it, but i still fine with it, it's not like their characters are terrible, it just most of the time they are doing just a poor performance except the actress who played the mom and probably Ishmael for the most part, at least i still got some of the laughs from one of them, some of the slower scene was sometimes misplaced including some of the flashback, and some nit picky here and there, the rest of Black Adam is an exciting comic book film that fills with a very impressive battle that also fills with dazzling visual and cool style, Black Adam himself played incredibly well by Dwayne Johnson, he was just unstoppable in the most badass way, Justice Society has just become one of my favorite superhero team specifically in movies, they are fun and they are great, Hawkman, Doctor Fate, Cyclone, and Atom Smasher all of them are a hit for me, i love every single one of them, though i do wish they have something more with Doctor Fate because i think Pierce Brosnan was just unbelievably good playing the characters, again at least we do still have that one moment, i would love to see Justice Society again in movie maybe even their own movie, i would also love to have a specifically Doctor Fate standalone or a prequel film, and last but not least, the main villain, i think the main villain is doing as fine as most of the hero in the movie, so overall Black Adam is a quite a fun ride, 2 hours did feel quite goes by, an exciting back and forth battle that fills with dazzling visual effect and style, great score, great sound, great performances for most of the cast, being the first original DCEU movie that release in theaters only since WW84, Black Adam is not perfect but it's still great, it's still fun, it's still fascinating, it's still exciting, and i enjoy the hell out of it.</div>\n",
    "#  <div class=\"actions text-muted\">\n",
    "#                      234 out of 309 found this helpful.\n",
    "#                          <span>\n",
    "#                              Was this review helpful? <a href=\"/registration/signin\"> Sign in</a> to vote.\n",
    "#                          </span>\n",
    "#  <br/>\n",
    "#  <a href=\"/review/rw8623676/\">Permalink</a>\n",
    "#  </div>\n",
    "#  </div>\n",
    "#  </div>\n",
    "#  <div class=\"clear\"></div>\n",
    "#  </div>\n",
    "#  <div class=\"gradient-expander hidden show-more\">\n",
    "#  <div class=\"gradient-container show-more__control\"></div>\n",
    "#  <div class=\"gradient-footer\">\n",
    "#  <div class=\"ipl-expander\">\n",
    "#  <div class=\"ipl-expander__container\">\n",
    "#  <div class=\"expander-icon-wrapper show-more__control\">\n",
    "#  <svg class=\"ipl-expander__icon expander-icon\" height=\"8\" viewbox=\"0 0 12 8\" width=\"12\" xmlns=\"http://www.w3.org/2000/svg\">\n",
    "#  <path d=\"M10.197 0L6 4.304 1.803 0 0 1.85 6 8l6-6.15\" fill=\"#2572B3\" fill-rule=\"evenodd\"></path>\n",
    "#  </svg>\n",
    "#  </div>\n",
    "#  </div>\n",
    "#  </div>\n",
    "#  </div>\n",
    "#  </div>\n",
    "#  </div>]"
   ]
  },
  {
   "cell_type": "code",
   "execution_count": 21,
   "id": "a81c3326-140e-4328-9e5d-7b81c3a2fdcd",
   "metadata": {},
   "outputs": [],
   "source": [
    "for code in df['code']:\n",
    "    url2='https://www.imdb.com/title/'+code+'/reviews?ref_=tt_urv'\n",
    "    soup_get(url2)\n",
    "    soup.select('#main > section > div.lister > div.lister-list > div:nth-child(1) > div > div.lister-item-content')"
   ]
  },
  {
   "cell_type": "code",
   "execution_count": 22,
   "id": "31b2bdf0-1aa4-426c-9e84-5a66c3038a82",
   "metadata": {},
   "outputs": [],
   "source": [
    "data2=[]"
   ]
  },
  {
   "cell_type": "code",
   "execution_count": 23,
   "id": "9c615842-06d3-4ead-8d22-eec3e6100d9a",
   "metadata": {},
   "outputs": [],
   "source": [
    "\n",
    "for i in df['code']:\n",
    "    url2='https://www.imdb.com/title/'+i+'/reviews?spoiler=hide&sort=curated&dir=desc&ratingFilter=0'\n",
    "    soup2=soup_get(url2)\n",
    "    review=soup2.select('#main > section > div.lister > div.lister-list > div')\n",
    "    for j in review:\n",
    "        temp=[]\n",
    "        \n",
    "        temp.append(code)\n",
    "        temp.append(j.find('a',{'class':'title'}).text.strip())\n",
    "        temp.append(j.find('div',{'class':'text show-more__control'}).text.strip())\n",
    "        try:\n",
    "            temp.append(int(j.find('span',class_=False).text))\n",
    "        except:\n",
    "            temp.append(0)\n",
    "        data2.append(temp)\n"
   ]
  },
  {
   "cell_type": "code",
   "execution_count": 24,
   "id": "164e1219-f8c6-4141-b184-467803bcfc7c",
   "metadata": {
    "tags": []
   },
   "outputs": [],
   "source": [
    "df2=pd.DataFrame(data2,columns=['code','title','content','score'])"
   ]
  },
  {
   "cell_type": "code",
   "execution_count": 25,
   "id": "24ed00e1-b798-451e-bf70-fb61e64d9519",
   "metadata": {},
   "outputs": [],
   "source": [
    "df_all=pd.merge(df,df2,on='code')"
   ]
  },
  {
   "cell_type": "code",
   "execution_count": 27,
   "id": "00c7a837-0312-474a-a8cb-fa69d9341d49",
   "metadata": {},
   "outputs": [
    {
     "data": {
      "text/plain": [
       "array([ 8,  7,  6,  4,  9,  3,  5,  1,  2, 10,  0], dtype=int64)"
      ]
     },
     "execution_count": 27,
     "metadata": {},
     "output_type": "execute_result"
    }
   ],
   "source": [
    "df_all['score'].unique()"
   ]
  },
  {
   "cell_type": "code",
   "execution_count": null,
   "id": "6e2de879-e04d-4521-9811-1dff3bf9d7da",
   "metadata": {},
   "outputs": [],
   "source": []
  }
 ],
 "metadata": {
  "kernelspec": {
   "display_name": "Python 3 (ipykernel)",
   "language": "python",
   "name": "python3"
  },
  "language_info": {
   "codemirror_mode": {
    "name": "ipython",
    "version": 3
   },
   "file_extension": ".py",
   "mimetype": "text/x-python",
   "name": "python",
   "nbconvert_exporter": "python",
   "pygments_lexer": "ipython3",
   "version": "3.9.12"
  }
 },
 "nbformat": 4,
 "nbformat_minor": 5
}
