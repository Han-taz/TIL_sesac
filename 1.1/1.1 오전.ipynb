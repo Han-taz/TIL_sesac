{
 "cells": [
  {
   "cell_type": "code",
   "execution_count": 1,
   "id": "4549f749-0cfd-4690-b389-198a546481c4",
   "metadata": {
    "jupyter": {
     "source_hidden": true
    },
    "tags": []
   },
   "outputs": [],
   "source": [
    "dic = { '.-'   : 'A',\n",
    "\t'-...' : 'B',\n",
    "\t'-.-.' : 'C',\n",
    "\t'-..'  : 'D',\n",
    "\t'.'    : 'E',\n",
    "\t'..-.' : 'F',\n",
    "\t'--.'  : 'G',\n",
    "\t'....' : 'H',\n",
    "\t'..'   : 'I',\n",
    "\t'.---' : 'J',\n",
    "        '-.-'  : 'K',\n",
    "\t'.-..' : 'L',\n",
    "\t'--'   : 'M',\n",
    "\t'-.'   : 'N',\n",
    "\t'---'  : 'O',\n",
    "\t'.--.' : 'P',\n",
    "\t'--.-' : 'Q',\n",
    "\t'.-.'  : 'R',\n",
    "\t'...'  : 'S',\n",
    "\t'-'    : 'T',\n",
    "\t'..-'  : 'U',\n",
    "\t'...-' : 'V',\n",
    "\t'.--'  : 'W',\n",
    "\t'-..-' : 'X',\n",
    "\t'-.--' : 'Y',\n",
    "\t'--..' : 'Z' }"
   ]
  },
  {
   "cell_type": "code",
   "execution_count": null,
   "id": "8d2ec7b8-cd4b-4dc8-a5ad-c71b46d94b78",
   "metadata": {},
   "outputs": [],
   "source": []
  },
  {
   "cell_type": "code",
   "execution_count": null,
   "id": "892537c9-378c-4d85-8b40-60a52dee81f2",
   "metadata": {},
   "outputs": [],
   "source": []
  }
 ],
 "metadata": {
  "kernelspec": {
   "display_name": "Python 3 (ipykernel)",
   "language": "python",
   "name": "python3"
  },
  "language_info": {
   "codemirror_mode": {
    "name": "ipython",
    "version": 3
   },
   "file_extension": ".py",
   "mimetype": "text/x-python",
   "name": "python",
   "nbconvert_exporter": "python",
   "pygments_lexer": "ipython3",
   "version": "3.9.13"
  }
 },
 "nbformat": 4,
 "nbformat_minor": 5
}
